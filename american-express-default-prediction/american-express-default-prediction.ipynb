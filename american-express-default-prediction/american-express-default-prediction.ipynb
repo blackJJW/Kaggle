{
 "cells": [
  {
   "cell_type": "markdown",
   "id": "c74ff403",
   "metadata": {
    "_cell_guid": "b1076dfc-b9ad-4769-8c92-a6c4dae69d19",
    "_uuid": "8f2839f25d086af736a60e9eeb907d3b93b6e0e5",
    "execution": {
     "iopub.execute_input": "2022-06-08T08:26:33.035092Z",
     "iopub.status.busy": "2022-06-08T08:26:33.033838Z",
     "iopub.status.idle": "2022-06-08T08:26:33.55875Z",
     "shell.execute_reply": "2022-06-08T08:26:33.557786Z",
     "shell.execute_reply.started": "2022-06-08T08:26:33.035048Z"
    },
    "papermill": {
     "duration": 0.004052,
     "end_time": "2022-06-09T00:37:47.935250",
     "exception": false,
     "start_time": "2022-06-09T00:37:47.931198",
     "status": "completed"
    },
    "tags": []
   },
   "source": [
    "# American Express Default Prediction"
   ]
  },
  {
   "cell_type": "markdown",
   "id": "48aaa25d",
   "metadata": {
    "papermill": {
     "duration": 0.00292,
     "end_time": "2022-06-09T00:37:47.941808",
     "exception": false,
     "start_time": "2022-06-09T00:37:47.938888",
     "status": "completed"
    },
    "tags": []
   },
   "source": [
    "# Info."
   ]
  },
  {
   "cell_type": "markdown",
   "id": "d3ebd6fe",
   "metadata": {
    "papermill": {
     "duration": 0.00328,
     "end_time": "2022-06-09T00:37:47.948215",
     "exception": false,
     "start_time": "2022-06-09T00:37:47.944935",
     "status": "completed"
    },
    "tags": []
   },
   "source": [
    "## 1. Overview\n",
    "- **Host** : American Express\n",
    "    - a globally integrated payments company\n",
    "    - the largest payment card issuer in the world\n",
    "- **Timeline**\n",
    "    - **Start Date** : May 25, 2022\n",
    "    - **Entry End** : August 17, 2022\n",
    "    - **Final Submission Deadline** : August 24, 2022\n",
    "- **Objective**\n",
    "    - Apply machine learning skills to ***predict credit default***."
   ]
  },
  {
   "cell_type": "markdown",
   "id": "64d2eaa7",
   "metadata": {
    "papermill": {
     "duration": 0.00327,
     "end_time": "2022-06-09T00:37:47.954650",
     "exception": false,
     "start_time": "2022-06-09T00:37:47.951380",
     "status": "completed"
    },
    "tags": []
   },
   "source": [
    "## 2. Project\n",
    "- **Start Date** : June 8, 2022\n",
    "- **Team Member** : 1\n",
    "- **Language** : Python\n",
    "- **Libraries** :\n",
    "    - pandas, numpy\n",
    "    - gc\n",
    "    - tqdm\n",
    "    - matplotlib, seaborn, scipy"
   ]
  },
  {
   "cell_type": "markdown",
   "id": "5e2fd279",
   "metadata": {
    "papermill": {
     "duration": 0.003165,
     "end_time": "2022-06-09T00:37:47.960926",
     "exception": false,
     "start_time": "2022-06-09T00:37:47.957761",
     "status": "completed"
    },
    "tags": []
   },
   "source": [
    "# Load Libraries"
   ]
  },
  {
   "cell_type": "code",
   "execution_count": 1,
   "id": "9c3a8cf9",
   "metadata": {
    "execution": {
     "iopub.execute_input": "2022-06-09T00:37:47.972241Z",
     "iopub.status.busy": "2022-06-09T00:37:47.971517Z",
     "iopub.status.idle": "2022-06-09T00:37:49.302531Z",
     "shell.execute_reply": "2022-06-09T00:37:49.301334Z"
    },
    "papermill": {
     "duration": 1.338673,
     "end_time": "2022-06-09T00:37:49.305323",
     "exception": false,
     "start_time": "2022-06-09T00:37:47.966650",
     "status": "completed"
    },
    "tags": []
   },
   "outputs": [],
   "source": [
    "# data \n",
    "import pandas as pd\n",
    "import numpy as np\n",
    "\n",
    "# memory\n",
    "import gc\n",
    "\n",
    "# progress(for)\n",
    "from tqdm.auto import tqdm\n",
    "\n",
    "# visualization\n",
    "import matplotlib.pyplot as plt\n",
    "%matplotlib inline\n",
    "import seaborn as sns\n",
    "import scipy.stats as stats"
   ]
  },
  {
   "cell_type": "markdown",
   "id": "92a07de5",
   "metadata": {
    "papermill": {
     "duration": 0.002988,
     "end_time": "2022-06-09T00:37:49.311811",
     "exception": false,
     "start_time": "2022-06-09T00:37:49.308823",
     "status": "completed"
    },
    "tags": []
   },
   "source": [
    "# Data"
   ]
  },
  {
   "cell_type": "markdown",
   "id": "5b60fa66",
   "metadata": {
    "papermill": {
     "duration": 0.002998,
     "end_time": "2022-06-09T00:37:49.318082",
     "exception": false,
     "start_time": "2022-06-09T00:37:49.315084",
     "status": "completed"
    },
    "tags": []
   },
   "source": [
    "## Data Description\n",
    "- The objective of this competition is **to predict the probability that a customer does not pay back their credit card balance amount in the future** based on their monthly customer profile.\n",
    "- **The target binary variable** is calculated by observing 18 months performance window after the latest credit card statement, and if the customer does not pay due amount in 120 days after their latest statement date it is considered a default event."
   ]
  },
  {
   "cell_type": "markdown",
   "id": "fc7c1d52",
   "metadata": {
    "papermill": {
     "duration": 0.002999,
     "end_time": "2022-06-09T00:37:49.324328",
     "exception": false,
     "start_time": "2022-06-09T00:37:49.321329",
     "status": "completed"
    },
    "tags": []
   },
   "source": [
    "- The dataset contains aggregated profile features for each customer at each statement date. Features are **anonymized and normalized**, and fall into the following general categories:\n",
    "\n",
    "    - D_* = Delinquency variables\n",
    "    - S_* = Spend variables\n",
    "    - P_* = Payment variables\n",
    "    - B_* = Balance variables\n",
    "    - R_* = Risk variables       \n",
    "   \n",
    "   \n",
    "- with the following features being categorical:   \n",
    "    [**'B_30', 'B_38', 'D_114', 'D_116', 'D_117', 'D_120', 'D_126', 'D_63', 'D_64', 'D_66', 'D_68'**]"
   ]
  },
  {
   "cell_type": "markdown",
   "id": "dc956992",
   "metadata": {
    "papermill": {
     "duration": 0.00284,
     "end_time": "2022-06-09T00:37:49.330334",
     "exception": false,
     "start_time": "2022-06-09T00:37:49.327494",
     "status": "completed"
    },
    "tags": []
   },
   "source": [
    "- Task is to **predict, for each customer_ID, the probability of a future payment default (target = 1)**.\n",
    "\n",
    "- Note that the negative class has been subsampled for this dataset at 5%, and thus receives a 20x weighting in the scoring metric."
   ]
  }
 ],
 "metadata": {
  "kernelspec": {
   "display_name": "Python 3",
   "language": "python",
   "name": "python3"
  },
  "language_info": {
   "codemirror_mode": {
    "name": "ipython",
    "version": 3
   },
   "file_extension": ".py",
   "mimetype": "text/x-python",
   "name": "python",
   "nbconvert_exporter": "python",
   "pygments_lexer": "ipython3",
   "version": "3.7.12"
  },
  "papermill": {
   "default_parameters": {},
   "duration": 14.401743,
   "end_time": "2022-06-09T00:37:50.156079",
   "environment_variables": {},
   "exception": null,
   "input_path": "__notebook__.ipynb",
   "output_path": "__notebook__.ipynb",
   "parameters": {},
   "start_time": "2022-06-09T00:37:35.754336",
   "version": "2.3.4"
  }
 },
 "nbformat": 4,
 "nbformat_minor": 5
}
