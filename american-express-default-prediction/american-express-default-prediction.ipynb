{
 "cells": [
  {
   "cell_type": "markdown",
   "id": "38705f77",
   "metadata": {
    "_cell_guid": "b1076dfc-b9ad-4769-8c92-a6c4dae69d19",
    "_uuid": "8f2839f25d086af736a60e9eeb907d3b93b6e0e5",
    "execution": {
     "iopub.execute_input": "2022-06-08T08:26:33.035092Z",
     "iopub.status.busy": "2022-06-08T08:26:33.033838Z",
     "iopub.status.idle": "2022-06-08T08:26:33.55875Z",
     "shell.execute_reply": "2022-06-08T08:26:33.557786Z",
     "shell.execute_reply.started": "2022-06-08T08:26:33.035048Z"
    },
    "papermill": {
     "duration": 0.003017,
     "end_time": "2022-06-08T13:35:46.424510",
     "exception": false,
     "start_time": "2022-06-08T13:35:46.421493",
     "status": "completed"
    },
    "tags": []
   },
   "source": [
    "# American Express Default Prediction"
   ]
  },
  {
   "cell_type": "markdown",
   "id": "2cdcea6c",
   "metadata": {
    "papermill": {
     "duration": 0.001817,
     "end_time": "2022-06-08T13:35:46.428599",
     "exception": false,
     "start_time": "2022-06-08T13:35:46.426782",
     "status": "completed"
    },
    "tags": []
   },
   "source": [
    "# Info"
   ]
  },
  {
   "cell_type": "markdown",
   "id": "096327e2",
   "metadata": {
    "papermill": {
     "duration": 0.001659,
     "end_time": "2022-06-08T13:35:46.432209",
     "exception": false,
     "start_time": "2022-06-08T13:35:46.430550",
     "status": "completed"
    },
    "tags": []
   },
   "source": [
    "## 1. Overview\n",
    "    - Host : American Express\n",
    "        - a globally integrated payments company\n",
    "        - the largest payment card issuer in the world\n",
    "        \n",
    "    - Timeline\n",
    "        - **Start Date** : May 25, 2022\n",
    "        - **Entry End** : August 17, 2022\n",
    "        - **Final Submission Deadline** : August 24, 2022\n",
    "        \n",
    "    - Goal\n",
    "        - Predict Credit Default"
   ]
  },
  {
   "cell_type": "markdown",
   "id": "f25819f1",
   "metadata": {
    "papermill": {
     "duration": 0.001665,
     "end_time": "2022-06-08T13:35:46.435800",
     "exception": false,
     "start_time": "2022-06-08T13:35:46.434135",
     "status": "completed"
    },
    "tags": []
   },
   "source": [
    "## 2. Project\n",
    "    - Start Date : June 8, 2022\n",
    "    - Team Member: 1\n",
    "    - Language : Python\n",
    "    - Libraries\n",
    "        - pandas, numpy\n",
    "        - gc\n",
    "        - tqdm\n",
    "        - matplotlib, seaborn, scipy"
   ]
  },
  {
   "cell_type": "markdown",
   "id": "417a4cdd",
   "metadata": {
    "papermill": {
     "duration": 0.001665,
     "end_time": "2022-06-08T13:35:46.439357",
     "exception": false,
     "start_time": "2022-06-08T13:35:46.437692",
     "status": "completed"
    },
    "tags": []
   },
   "source": [
    "# Load Libraries"
   ]
  },
  {
   "cell_type": "code",
   "execution_count": 1,
   "id": "d59167f7",
   "metadata": {
    "execution": {
     "iopub.execute_input": "2022-06-08T13:35:46.447299Z",
     "iopub.status.busy": "2022-06-08T13:35:46.446720Z",
     "iopub.status.idle": "2022-06-08T13:35:47.482827Z",
     "shell.execute_reply": "2022-06-08T13:35:47.481903Z"
    },
    "papermill": {
     "duration": 1.043982,
     "end_time": "2022-06-08T13:35:47.485190",
     "exception": false,
     "start_time": "2022-06-08T13:35:46.441208",
     "status": "completed"
    },
    "tags": []
   },
   "outputs": [],
   "source": [
    "# data \n",
    "import pandas as pd\n",
    "import numpy as np\n",
    "\n",
    "# memory\n",
    "import gc\n",
    "\n",
    "# progress(for)\n",
    "from tqdm.auto import tqdm\n",
    "\n",
    "# visualization\n",
    "import matplotlib.pyplot as plt\n",
    "%matplotlib inline\n",
    "import seaborn as sns\n",
    "import scipy.stats as stats"
   ]
  },
  {
   "cell_type": "markdown",
   "id": "6264c261",
   "metadata": {
    "papermill": {
     "duration": 0.00184,
     "end_time": "2022-06-08T13:35:47.489214",
     "exception": false,
     "start_time": "2022-06-08T13:35:47.487374",
     "status": "completed"
    },
    "tags": []
   },
   "source": []
  },
  {
   "cell_type": "markdown",
   "id": "d302d053",
   "metadata": {
    "papermill": {
     "duration": 0.001708,
     "end_time": "2022-06-08T13:35:47.492858",
     "exception": false,
     "start_time": "2022-06-08T13:35:47.491150",
     "status": "completed"
    },
    "tags": []
   },
   "source": []
  }
 ],
 "metadata": {
  "kernelspec": {
   "display_name": "Python 3",
   "language": "python",
   "name": "python3"
  },
  "language_info": {
   "codemirror_mode": {
    "name": "ipython",
    "version": 3
   },
   "file_extension": ".py",
   "mimetype": "text/x-python",
   "name": "python",
   "nbconvert_exporter": "python",
   "pygments_lexer": "ipython3",
   "version": "3.7.12"
  },
  "papermill": {
   "default_parameters": {},
   "duration": 10.5544,
   "end_time": "2022-06-08T13:35:48.215137",
   "environment_variables": {},
   "exception": null,
   "input_path": "__notebook__.ipynb",
   "output_path": "__notebook__.ipynb",
   "parameters": {},
   "start_time": "2022-06-08T13:35:37.660737",
   "version": "2.3.4"
  }
 },
 "nbformat": 4,
 "nbformat_minor": 5
}
