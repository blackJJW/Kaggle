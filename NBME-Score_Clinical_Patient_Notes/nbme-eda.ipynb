{
 "cells": [
  {
   "cell_type": "code",
   "execution_count": 1,
   "id": "fbc0de56",
   "metadata": {
    "_cell_guid": "b1076dfc-b9ad-4769-8c92-a6c4dae69d19",
    "_uuid": "8f2839f25d086af736a60e9eeb907d3b93b6e0e5",
    "execution": {
     "iopub.execute_input": "2022-04-11T08:42:24.552258Z",
     "iopub.status.busy": "2022-04-11T08:42:24.550425Z",
     "iopub.status.idle": "2022-04-11T08:42:24.562357Z",
     "shell.execute_reply": "2022-04-11T08:42:24.562850Z",
     "shell.execute_reply.started": "2022-04-11T08:09:30.455064Z"
    },
    "papermill": {
     "duration": 0.046756,
     "end_time": "2022-04-11T08:42:24.563241",
     "exception": false,
     "start_time": "2022-04-11T08:42:24.516485",
     "status": "completed"
    },
    "tags": []
   },
   "outputs": [],
   "source": [
    "import numpy as np\n",
    "import pandas as pd"
   ]
  },
  {
   "cell_type": "code",
   "execution_count": 2,
   "id": "8f73cce8",
   "metadata": {
    "execution": {
     "iopub.execute_input": "2022-04-11T08:42:24.625046Z",
     "iopub.status.busy": "2022-04-11T08:42:24.623923Z",
     "iopub.status.idle": "2022-04-11T08:42:25.850253Z",
     "shell.execute_reply": "2022-04-11T08:42:25.849450Z",
     "shell.execute_reply.started": "2022-04-11T08:09:30.506690Z"
    },
    "papermill": {
     "duration": 1.257356,
     "end_time": "2022-04-11T08:42:25.850419",
     "exception": false,
     "start_time": "2022-04-11T08:42:24.593063",
     "status": "completed"
    },
    "tags": []
   },
   "outputs": [],
   "source": [
    "import matplotlib.pyplot as plt\n",
    "%matplotlib inline\n",
    "import seaborn as sns"
   ]
  },
  {
   "cell_type": "code",
   "execution_count": 3,
   "id": "8ad0e9ff",
   "metadata": {
    "execution": {
     "iopub.execute_input": "2022-04-11T08:42:25.911657Z",
     "iopub.status.busy": "2022-04-11T08:42:25.910959Z",
     "iopub.status.idle": "2022-04-11T08:42:25.914880Z",
     "shell.execute_reply": "2022-04-11T08:42:25.915398Z",
     "shell.execute_reply.started": "2022-04-11T08:09:31.580152Z"
    },
    "papermill": {
     "duration": 0.037093,
     "end_time": "2022-04-11T08:42:25.915604",
     "exception": false,
     "start_time": "2022-04-11T08:42:25.878511",
     "status": "completed"
    },
    "tags": []
   },
   "outputs": [],
   "source": [
    "pd.set_option('display.max_rows', None)\n",
    "pd.set_option('display.max_columns', None)"
   ]
  },
  {
   "cell_type": "markdown",
   "id": "81f8631e",
   "metadata": {
    "papermill": {
     "duration": 0.027283,
     "end_time": "2022-04-11T08:42:25.970708",
     "exception": false,
     "start_time": "2022-04-11T08:42:25.943425",
     "status": "completed"
    },
    "tags": []
   },
   "source": [
    "# Important Terms\n",
    "- Clinical Case: The scenario (e.g., symptoms, complaints, concerns) the Standardized Patient presents to the test taker (medical student, resident or physician). Ten clinical cases are represented in this dataset.\n",
    "- Patient Note: Text detailing important information related by the patient during the encounter (physical exam and interview).\n",
    "- Feature: A clinically relevant concept. A rubric describes the key concepts relevant to each case."
   ]
  },
  {
   "cell_type": "markdown",
   "id": "5003367c",
   "metadata": {
    "papermill": {
     "duration": 0.027252,
     "end_time": "2022-04-11T08:42:26.025424",
     "exception": false,
     "start_time": "2022-04-11T08:42:25.998172",
     "status": "completed"
    },
    "tags": []
   },
   "source": [
    "# Training Data"
   ]
  },
  {
   "cell_type": "markdown",
   "id": "44b237cb",
   "metadata": {
    "papermill": {
     "duration": 0.027038,
     "end_time": "2022-04-11T08:42:26.080175",
     "exception": false,
     "start_time": "2022-04-11T08:42:26.053137",
     "status": "completed"
    },
    "tags": []
   },
   "source": [
    "## 1. patient_notes.csv\n",
    "- A collection of about 40,000 Patient Note history portions. Only a subset of these have features annotated. You may wish to apply unsupervised learning techniques on the notes without annotations. The patient notes in the test set are not included in the public version of this file.\n",
    "    - pn_num - A unique identifier for each patient note.\n",
    "    - case_num - A unique identifier for the clinical case a patient note represents.\n",
    "    - pn_history - The text of the encounter as recorded by the test taker."
   ]
  },
  {
   "cell_type": "markdown",
   "id": "a338f815",
   "metadata": {
    "papermill": {
     "duration": 0.02702,
     "end_time": "2022-04-11T08:42:26.135370",
     "exception": false,
     "start_time": "2022-04-11T08:42:26.108350",
     "status": "completed"
    },
    "tags": []
   },
   "source": [
    "- There is no NaN value in this dataframe.\n",
    "- 42,146 rows\n",
    "- 3 columns\n",
    "- data types : int64(2), object(1)"
   ]
  },
  {
   "cell_type": "code",
   "execution_count": 4,
   "id": "6f45c93e",
   "metadata": {
    "execution": {
     "iopub.execute_input": "2022-04-11T08:42:26.196221Z",
     "iopub.status.busy": "2022-04-11T08:42:26.195182Z",
     "iopub.status.idle": "2022-04-11T08:42:26.977343Z",
     "shell.execute_reply": "2022-04-11T08:42:26.976565Z",
     "shell.execute_reply.started": "2022-04-11T08:09:31.586795Z"
    },
    "papermill": {
     "duration": 0.814817,
     "end_time": "2022-04-11T08:42:26.977530",
     "exception": false,
     "start_time": "2022-04-11T08:42:26.162713",
     "status": "completed"
    },
    "tags": []
   },
   "outputs": [
    {
     "data": {
      "text/html": [
       "<div>\n",
       "<style scoped>\n",
       "    .dataframe tbody tr th:only-of-type {\n",
       "        vertical-align: middle;\n",
       "    }\n",
       "\n",
       "    .dataframe tbody tr th {\n",
       "        vertical-align: top;\n",
       "    }\n",
       "\n",
       "    .dataframe thead th {\n",
       "        text-align: right;\n",
       "    }\n",
       "</style>\n",
       "<table border=\"1\" class=\"dataframe\">\n",
       "  <thead>\n",
       "    <tr style=\"text-align: right;\">\n",
       "      <th></th>\n",
       "      <th>pn_num</th>\n",
       "      <th>case_num</th>\n",
       "      <th>pn_history</th>\n",
       "    </tr>\n",
       "  </thead>\n",
       "  <tbody>\n",
       "    <tr>\n",
       "      <th>0</th>\n",
       "      <td>0</td>\n",
       "      <td>0</td>\n",
       "      <td>17-year-old male, has come to the student heal...</td>\n",
       "    </tr>\n",
       "    <tr>\n",
       "      <th>1</th>\n",
       "      <td>1</td>\n",
       "      <td>0</td>\n",
       "      <td>17 yo male with recurrent palpitations for the...</td>\n",
       "    </tr>\n",
       "    <tr>\n",
       "      <th>2</th>\n",
       "      <td>2</td>\n",
       "      <td>0</td>\n",
       "      <td>Dillon Cleveland is a 17 y.o. male patient wit...</td>\n",
       "    </tr>\n",
       "    <tr>\n",
       "      <th>3</th>\n",
       "      <td>3</td>\n",
       "      <td>0</td>\n",
       "      <td>a 17 yo m c/o palpitation started 3 mos ago; \\...</td>\n",
       "    </tr>\n",
       "    <tr>\n",
       "      <th>4</th>\n",
       "      <td>4</td>\n",
       "      <td>0</td>\n",
       "      <td>17yo male with no pmh here for evaluation of p...</td>\n",
       "    </tr>\n",
       "  </tbody>\n",
       "</table>\n",
       "</div>"
      ],
      "text/plain": [
       "   pn_num  case_num                                         pn_history\n",
       "0       0         0  17-year-old male, has come to the student heal...\n",
       "1       1         0  17 yo male with recurrent palpitations for the...\n",
       "2       2         0  Dillon Cleveland is a 17 y.o. male patient wit...\n",
       "3       3         0  a 17 yo m c/o palpitation started 3 mos ago; \\...\n",
       "4       4         0  17yo male with no pmh here for evaluation of p..."
      ]
     },
     "execution_count": 4,
     "metadata": {},
     "output_type": "execute_result"
    }
   ],
   "source": [
    "patient_notes = pd.read_csv('../input/nbme-score-clinical-patient-notes/patient_notes.csv')\n",
    "patient_notes.head()"
   ]
  },
  {
   "cell_type": "code",
   "execution_count": 5,
   "id": "c49cead4",
   "metadata": {
    "execution": {
     "iopub.execute_input": "2022-04-11T08:42:27.052636Z",
     "iopub.status.busy": "2022-04-11T08:42:27.051338Z",
     "iopub.status.idle": "2022-04-11T08:42:27.074690Z",
     "shell.execute_reply": "2022-04-11T08:42:27.075227Z",
     "shell.execute_reply.started": "2022-04-11T08:09:32.300363Z"
    },
    "papermill": {
     "duration": 0.068661,
     "end_time": "2022-04-11T08:42:27.075419",
     "exception": false,
     "start_time": "2022-04-11T08:42:27.006758",
     "status": "completed"
    },
    "tags": []
   },
   "outputs": [
    {
     "name": "stdout",
     "output_type": "stream",
     "text": [
      "<class 'pandas.core.frame.DataFrame'>\n",
      "RangeIndex: 42146 entries, 0 to 42145\n",
      "Data columns (total 3 columns):\n",
      " #   Column      Non-Null Count  Dtype \n",
      "---  ------      --------------  ----- \n",
      " 0   pn_num      42146 non-null  int64 \n",
      " 1   case_num    42146 non-null  int64 \n",
      " 2   pn_history  42146 non-null  object\n",
      "dtypes: int64(2), object(1)\n",
      "memory usage: 987.9+ KB\n"
     ]
    }
   ],
   "source": [
    "patient_notes.info()"
   ]
  },
  {
   "cell_type": "code",
   "execution_count": 6,
   "id": "54696d9e",
   "metadata": {
    "execution": {
     "iopub.execute_input": "2022-04-11T08:42:27.136846Z",
     "iopub.status.busy": "2022-04-11T08:42:27.135811Z",
     "iopub.status.idle": "2022-04-11T08:42:27.153337Z",
     "shell.execute_reply": "2022-04-11T08:42:27.153888Z",
     "shell.execute_reply.started": "2022-04-11T08:09:32.335046Z"
    },
    "papermill": {
     "duration": 0.050062,
     "end_time": "2022-04-11T08:42:27.154095",
     "exception": false,
     "start_time": "2022-04-11T08:42:27.104033",
     "status": "completed"
    },
    "tags": []
   },
   "outputs": [
    {
     "data": {
      "text/plain": [
       "pn_num        0\n",
       "case_num      0\n",
       "pn_history    0\n",
       "dtype: int64"
      ]
     },
     "execution_count": 6,
     "metadata": {},
     "output_type": "execute_result"
    }
   ],
   "source": [
    "patient_notes.isnull().sum()"
   ]
  },
  {
   "cell_type": "code",
   "execution_count": 7,
   "id": "bb5cf8b9",
   "metadata": {
    "execution": {
     "iopub.execute_input": "2022-04-11T08:42:27.216386Z",
     "iopub.status.busy": "2022-04-11T08:42:27.215328Z",
     "iopub.status.idle": "2022-04-11T08:42:27.224459Z",
     "shell.execute_reply": "2022-04-11T08:42:27.223308Z",
     "shell.execute_reply.started": "2022-04-11T08:09:32.353479Z"
    },
    "papermill": {
     "duration": 0.04188,
     "end_time": "2022-04-11T08:42:27.224685",
     "exception": false,
     "start_time": "2022-04-11T08:42:27.182805",
     "status": "completed"
    },
    "tags": []
   },
   "outputs": [
    {
     "name": "stdout",
     "output_type": "stream",
     "text": [
      "3    9753\n",
      "5    6909\n",
      "4    5405\n",
      "9    5151\n",
      "8    4196\n",
      "7    4101\n",
      "0    2268\n",
      "2    1958\n",
      "6    1597\n",
      "1     808\n",
      "Name: case_num, dtype: int64\n"
     ]
    }
   ],
   "source": [
    "case_num_counts = patient_notes['case_num'].value_counts()\n",
    "print(case_num_counts)"
   ]
  },
  {
   "cell_type": "code",
   "execution_count": 8,
   "id": "ce79bc1b",
   "metadata": {
    "execution": {
     "iopub.execute_input": "2022-04-11T08:42:27.297330Z",
     "iopub.status.busy": "2022-04-11T08:42:27.296182Z",
     "iopub.status.idle": "2022-04-11T08:42:27.656684Z",
     "shell.execute_reply": "2022-04-11T08:42:27.657300Z",
     "shell.execute_reply.started": "2022-04-11T08:09:32.364020Z"
    },
    "papermill": {
     "duration": 0.401019,
     "end_time": "2022-04-11T08:42:27.657515",
     "exception": false,
     "start_time": "2022-04-11T08:42:27.256496",
     "status": "completed"
    },
    "tags": []
   },
   "outputs": [
    {
     "data": {
      "image/png": "[encoded data removed]",
      "text/plain": [
       "<Figure size 720x576 with 1 Axes>"
      ]
     },
     "metadata": {
      "needs_background": "light"
     },
     "output_type": "display_data"
    }
   ],
   "source": [
    "plt.figure(figsize=(10, 8))\n",
    "bar = plt.bar(case_num_counts.index, case_num_counts.values, color='red')\n",
    "for i in bar:\n",
    "    height = i.get_height()\n",
    "    plt.text(i.get_x() + i.get_width()/2.0, height*1.019, '% d' % height, ha = 'center')\n",
    "plt.axhline(case_num_counts.values.mean(), label='count mean', \n",
    "            color = 'blue', linewidth=1, linestyle='--')\n",
    "plt.text(0, 4300, f'mean : {case_num_counts.values.mean()}', fontsize=12)\n",
    "plt.xticks(case_num_counts.index)\n",
    "plt.xlabel('case_num', fontsize = 12)\n",
    "plt.ylabel('count', fontsize = 12)\n",
    "plt.title('case_num counts in patient_note', fontsize = 15)\n",
    "plt.show()\n"
   ]
  },
  {
   "cell_type": "markdown",
   "id": "dc16936a",
   "metadata": {
    "papermill": {
     "duration": 0.031209,
     "end_time": "2022-04-11T08:42:27.720296",
     "exception": false,
     "start_time": "2022-04-11T08:42:27.689087",
     "status": "completed"
    },
    "tags": []
   },
   "source": [
    "### example of 'pn_history'"
   ]
  },
  {
   "cell_type": "code",
   "execution_count": 9,
   "id": "2cf6f865",
   "metadata": {
    "execution": {
     "iopub.execute_input": "2022-04-11T08:42:27.789720Z",
     "iopub.status.busy": "2022-04-11T08:42:27.788883Z",
     "iopub.status.idle": "2022-04-11T08:42:27.792584Z",
     "shell.execute_reply": "2022-04-11T08:42:27.791872Z",
     "shell.execute_reply.started": "2022-04-11T08:09:32.607117Z"
    },
    "papermill": {
     "duration": 0.040507,
     "end_time": "2022-04-11T08:42:27.792746",
     "exception": false,
     "start_time": "2022-04-11T08:42:27.752239",
     "status": "completed"
    },
    "tags": []
   },
   "outputs": [
    {
     "name": "stdout",
     "output_type": "stream",
     "text": [
      "17-year-old male, has come to the student health clinic complaining of heart pounding. Mr. Cleveland's mother has given verbal consent for a history, physical examination, and treatment\r\n",
      "-began 2-3 months ago,sudden,intermittent for 2 days(lasting 3-4 min),worsening,non-allev/aggrav\r\n",
      "-associated with dispnea on exersion and rest,stressed out about school\r\n",
      "-reports fe feels like his heart is jumping out of his chest\r\n",
      "-ros:denies chest pain,dyaphoresis,wt loss,chills,fever,nausea,vomiting,pedal edeam\r\n",
      "-pmh:non,meds :aderol (from a friend),nkda\r\n",
      "-fh:father had MI recently,mother has thyroid dz\r\n",
      "-sh:non-smoker,mariguana 5-6 months ago,3 beers on the weekend, basketball at school\r\n",
      "-sh:no std\n"
     ]
    }
   ],
   "source": [
    "print(patient_notes['pn_history'][0])"
   ]
  },
  {
   "cell_type": "code",
   "execution_count": 10,
   "id": "ae2ebeae",
   "metadata": {
    "execution": {
     "iopub.execute_input": "2022-04-11T08:42:27.875120Z",
     "iopub.status.busy": "2022-04-11T08:42:27.869621Z",
     "iopub.status.idle": "2022-04-11T08:42:28.215349Z",
     "shell.execute_reply": "2022-04-11T08:42:28.216119Z",
     "shell.execute_reply.started": "2022-04-11T08:41:49.871141Z"
    },
    "papermill": {
     "duration": 0.391915,
     "end_time": "2022-04-11T08:42:28.216372",
     "exception": false,
     "start_time": "2022-04-11T08:42:27.824457",
     "status": "completed"
    },
    "tags": []
   },
   "outputs": [
    {
     "name": "stdout",
     "output_type": "stream",
     "text": [
      "Average length of \"pn_history\" : 818.1768139325203\n"
     ]
    }
   ],
   "source": [
    "pn_history_len = []\n",
    "for i in range(len(patient_notes)):\n",
    "    pn_history_len.append(len(patient_notes['pn_history'][i]))\n",
    "\n",
    "print(f'Average length of \"pn_history\" : {np.mean(pn_history_len)}')"
   ]
  },
  {
   "cell_type": "code",
   "execution_count": null,
   "id": "61e78708",
   "metadata": {
    "execution": {
     "iopub.execute_input": "2022-04-11T08:40:04.925437Z",
     "iopub.status.busy": "2022-04-11T08:40:04.925153Z",
     "iopub.status.idle": "2022-04-11T08:40:04.934141Z",
     "shell.execute_reply": "2022-04-11T08:40:04.933518Z",
     "shell.execute_reply.started": "2022-04-11T08:40:04.925410Z"
    },
    "papermill": {
     "duration": 0.032389,
     "end_time": "2022-04-11T08:42:28.280787",
     "exception": false,
     "start_time": "2022-04-11T08:42:28.248398",
     "status": "completed"
    },
    "tags": []
   },
   "outputs": [],
   "source": []
  },
  {
   "cell_type": "markdown",
   "id": "36f3ed87",
   "metadata": {
    "papermill": {
     "duration": 0.031659,
     "end_time": "2022-04-11T08:42:28.343749",
     "exception": false,
     "start_time": "2022-04-11T08:42:28.312090",
     "status": "completed"
    },
    "tags": []
   },
   "source": [
    "## 2. features.csv \n",
    "- The rubric of features (or key concepts) for each clinical case.\n",
    "    - feature_num - A unique identifier for each feature.\n",
    "    - case_num - A unique identifier for each case.\n",
    "    - feature_text - A description of the feature."
   ]
  },
  {
   "cell_type": "markdown",
   "id": "0b8b4f9d",
   "metadata": {
    "papermill": {
     "duration": 0.030962,
     "end_time": "2022-04-11T08:42:28.406143",
     "exception": false,
     "start_time": "2022-04-11T08:42:28.375181",
     "status": "completed"
    },
    "tags": []
   },
   "source": [
    "- There is no NaN value in this dataframe.\n",
    "- 143 rows\n",
    "- 3 columns\n",
    "- data types : int64(2), object(1)"
   ]
  },
  {
   "cell_type": "code",
   "execution_count": 11,
   "id": "536e1a9c",
   "metadata": {
    "execution": {
     "iopub.execute_input": "2022-04-11T08:42:28.473713Z",
     "iopub.status.busy": "2022-04-11T08:42:28.472662Z",
     "iopub.status.idle": "2022-04-11T08:42:28.491538Z",
     "shell.execute_reply": "2022-04-11T08:42:28.490853Z",
     "shell.execute_reply.started": "2022-04-11T08:09:32.628030Z"
    },
    "papermill": {
     "duration": 0.053769,
     "end_time": "2022-04-11T08:42:28.491699",
     "exception": false,
     "start_time": "2022-04-11T08:42:28.437930",
     "status": "completed"
    },
    "tags": []
   },
   "outputs": [
    {
     "data": {
      "text/html": [
       "<div>\n",
       "<style scoped>\n",
       "    .dataframe tbody tr th:only-of-type {\n",
       "        vertical-align: middle;\n",
       "    }\n",
       "\n",
       "    .dataframe tbody tr th {\n",
       "        vertical-align: top;\n",
       "    }\n",
       "\n",
       "    .dataframe thead th {\n",
       "        text-align: right;\n",
       "    }\n",
       "</style>\n",
       "<table border=\"1\" class=\"dataframe\">\n",
       "  <thead>\n",
       "    <tr style=\"text-align: right;\">\n",
       "      <th></th>\n",
       "      <th>feature_num</th>\n",
       "      <th>case_num</th>\n",
       "      <th>feature_text</th>\n",
       "    </tr>\n",
       "  </thead>\n",
       "  <tbody>\n",
       "    <tr>\n",
       "      <th>0</th>\n",
       "      <td>0</td>\n",
       "      <td>0</td>\n",
       "      <td>Family-history-of-MI-OR-Family-history-of-myoc...</td>\n",
       "    </tr>\n",
       "    <tr>\n",
       "      <th>1</th>\n",
       "      <td>1</td>\n",
       "      <td>0</td>\n",
       "      <td>Family-history-of-thyroid-disorder</td>\n",
       "    </tr>\n",
       "    <tr>\n",
       "      <th>2</th>\n",
       "      <td>2</td>\n",
       "      <td>0</td>\n",
       "      <td>Chest-pressure</td>\n",
       "    </tr>\n",
       "    <tr>\n",
       "      <th>3</th>\n",
       "      <td>3</td>\n",
       "      <td>0</td>\n",
       "      <td>Intermittent-symptoms</td>\n",
       "    </tr>\n",
       "    <tr>\n",
       "      <th>4</th>\n",
       "      <td>4</td>\n",
       "      <td>0</td>\n",
       "      <td>Lightheaded</td>\n",
       "    </tr>\n",
       "  </tbody>\n",
       "</table>\n",
       "</div>"
      ],
      "text/plain": [
       "   feature_num  case_num                                       feature_text\n",
       "0            0         0  Family-history-of-MI-OR-Family-history-of-myoc...\n",
       "1            1         0                 Family-history-of-thyroid-disorder\n",
       "2            2         0                                     Chest-pressure\n",
       "3            3         0                              Intermittent-symptoms\n",
       "4            4         0                                        Lightheaded"
      ]
     },
     "execution_count": 11,
     "metadata": {},
     "output_type": "execute_result"
    }
   ],
   "source": [
    "features = pd.read_csv('../input/nbme-score-clinical-patient-notes/features.csv')\n",
    "features.head()"
   ]
  },
  {
   "cell_type": "code",
   "execution_count": 12,
   "id": "f74ba892",
   "metadata": {
    "execution": {
     "iopub.execute_input": "2022-04-11T08:42:28.559990Z",
     "iopub.status.busy": "2022-04-11T08:42:28.558984Z",
     "iopub.status.idle": "2022-04-11T08:42:28.572064Z",
     "shell.execute_reply": "2022-04-11T08:42:28.572790Z",
     "shell.execute_reply.started": "2022-04-11T08:09:32.649109Z"
    },
    "papermill": {
     "duration": 0.049199,
     "end_time": "2022-04-11T08:42:28.573062",
     "exception": false,
     "start_time": "2022-04-11T08:42:28.523863",
     "status": "completed"
    },
    "tags": []
   },
   "outputs": [
    {
     "name": "stdout",
     "output_type": "stream",
     "text": [
      "<class 'pandas.core.frame.DataFrame'>\n",
      "RangeIndex: 143 entries, 0 to 142\n",
      "Data columns (total 3 columns):\n",
      " #   Column        Non-Null Count  Dtype \n",
      "---  ------        --------------  ----- \n",
      " 0   feature_num   143 non-null    int64 \n",
      " 1   case_num      143 non-null    int64 \n",
      " 2   feature_text  143 non-null    object\n",
      "dtypes: int64(2), object(1)\n",
      "memory usage: 3.5+ KB\n"
     ]
    }
   ],
   "source": [
    "features.info()"
   ]
  },
  {
   "cell_type": "code",
   "execution_count": 13,
   "id": "7509a5a5",
   "metadata": {
    "execution": {
     "iopub.execute_input": "2022-04-11T08:42:28.643308Z",
     "iopub.status.busy": "2022-04-11T08:42:28.642303Z",
     "iopub.status.idle": "2022-04-11T08:42:28.651019Z",
     "shell.execute_reply": "2022-04-11T08:42:28.651567Z",
     "shell.execute_reply.started": "2022-04-11T08:09:32.663719Z"
    },
    "papermill": {
     "duration": 0.04482,
     "end_time": "2022-04-11T08:42:28.651759",
     "exception": false,
     "start_time": "2022-04-11T08:42:28.606939",
     "status": "completed"
    },
    "tags": []
   },
   "outputs": [
    {
     "data": {
      "text/plain": [
       "feature_num     0\n",
       "case_num        0\n",
       "feature_text    0\n",
       "dtype: int64"
      ]
     },
     "execution_count": 13,
     "metadata": {},
     "output_type": "execute_result"
    }
   ],
   "source": [
    "features.isnull().sum()"
   ]
  },
  {
   "cell_type": "code",
   "execution_count": 14,
   "id": "c9e7ee1a",
   "metadata": {
    "execution": {
     "iopub.execute_input": "2022-04-11T08:42:28.721782Z",
     "iopub.status.busy": "2022-04-11T08:42:28.720778Z",
     "iopub.status.idle": "2022-04-11T08:42:28.727175Z",
     "shell.execute_reply": "2022-04-11T08:42:28.727750Z",
     "shell.execute_reply.started": "2022-04-11T08:09:32.673288Z"
    },
    "papermill": {
     "duration": 0.043335,
     "end_time": "2022-04-11T08:42:28.727967",
     "exception": false,
     "start_time": "2022-04-11T08:42:28.684632",
     "status": "completed"
    },
    "tags": []
   },
   "outputs": [
    {
     "name": "stdout",
     "output_type": "stream",
     "text": [
      "5    18\n",
      "8    18\n",
      "2    17\n",
      "9    17\n",
      "3    16\n",
      "0    13\n",
      "1    13\n",
      "6    12\n",
      "4    10\n",
      "7     9\n",
      "Name: case_num, dtype: int64\n"
     ]
    }
   ],
   "source": [
    "features_case_num_count = features['case_num'].value_counts()\n",
    "print(features_case_num_count)"
   ]
  },
  {
   "cell_type": "code",
   "execution_count": 15,
   "id": "6ccab77c",
   "metadata": {
    "execution": {
     "iopub.execute_input": "2022-04-11T08:42:28.801050Z",
     "iopub.status.busy": "2022-04-11T08:42:28.799936Z",
     "iopub.status.idle": "2022-04-11T08:42:29.079330Z",
     "shell.execute_reply": "2022-04-11T08:42:29.079833Z",
     "shell.execute_reply.started": "2022-04-11T08:09:32.687859Z"
    },
    "papermill": {
     "duration": 0.31846,
     "end_time": "2022-04-11T08:42:29.080087",
     "exception": false,
     "start_time": "2022-04-11T08:42:28.761627",
     "status": "completed"
    },
    "tags": []
   },
   "outputs": [
    {
     "data": {
      "image/png": "[encoded data removed]",
      "text/plain": [
       "<Figure size 576x576 with 1 Axes>"
      ]
     },
     "metadata": {
      "needs_background": "light"
     },
     "output_type": "display_data"
    }
   ],
   "source": [
    "plt.figure(figsize=(8, 8))\n",
    "bar = plt.bar(features_case_num_count.index, features_case_num_count.values, color = 'red')\n",
    "for i in bar:\n",
    "    height = i.get_height()\n",
    "    plt.text(i.get_x() + i.get_width()/2.0, height*1.019, '% d' % height, ha = 'center')\n",
    "plt.axhline(features_case_num_count.values.mean(), label='count mean', \n",
    "            color = 'blue', linewidth=1, linestyle='--')\n",
    "plt.text(-0.7, 14.5, f'mean : {features_case_num_count.values.mean()}', fontsize=12)\n",
    "plt.xticks(features_case_num_count.index)\n",
    "plt.xlabel('case_num', fontsize = 12)\n",
    "plt.ylabel('count', fontsize = 12)\n",
    "plt.title('case_num counts in features', fontsize = 15)\n",
    "plt.show()"
   ]
  },
  {
   "cell_type": "markdown",
   "id": "9bfd75fb",
   "metadata": {
    "papermill": {
     "duration": 0.033535,
     "end_time": "2022-04-11T08:42:29.147831",
     "exception": false,
     "start_time": "2022-04-11T08:42:29.114296",
     "status": "completed"
    },
    "tags": []
   },
   "source": [
    "## 3. train.csv \n",
    "- Feature annotations for 1000 of the patient notes, 100 for each of ten cases.\n",
    "    - id - Unique identifier for each patient note / feature pair.\n",
    "    - pn_num - The patient note annotated in this row.\n",
    "    - feature_num - The feature annotated in this row.\n",
    "    - case_num - The case to which this patient note belongs.\n",
    "    - annotation - The text(s) within a patient note indicating a feature. A feature may be indicated multiple times within a single note.\n",
    "    - location - Character spans indicating the location of each annotation within the note. Multiple spans may be needed to represent an annotation, in which case the spans are delimited by a semicolon ;."
   ]
  },
  {
   "cell_type": "markdown",
   "id": "2e1a7b36",
   "metadata": {
    "papermill": {
     "duration": 0.034258,
     "end_time": "2022-04-11T08:42:29.217306",
     "exception": false,
     "start_time": "2022-04-11T08:42:29.183048",
     "status": "completed"
    },
    "tags": []
   },
   "source": [
    "- There is no NaN value in this dataframe.\n",
    "    - But, there are some empty [] in 'annotation', 'location'.\n",
    "        - There are 4,399 rows with 'annotation' = '[]' and 'location' = '[]'.\n",
    "- 14,300 rows\n",
    "- 6 columns\n",
    "- data types : int64(3), object(3)"
   ]
  },
  {
   "cell_type": "code",
   "execution_count": 16,
   "id": "f083e696",
   "metadata": {
    "execution": {
     "iopub.execute_input": "2022-04-11T08:42:29.293942Z",
     "iopub.status.busy": "2022-04-11T08:42:29.293207Z",
     "iopub.status.idle": "2022-04-11T08:42:29.343730Z",
     "shell.execute_reply": "2022-04-11T08:42:29.344246Z",
     "shell.execute_reply.started": "2022-04-11T08:09:32.892344Z"
    },
    "papermill": {
     "duration": 0.091841,
     "end_time": "2022-04-11T08:42:29.344468",
     "exception": false,
     "start_time": "2022-04-11T08:42:29.252627",
     "status": "completed"
    },
    "tags": []
   },
   "outputs": [
    {
     "data": {
      "text/html": [
       "<div>\n",
       "<style scoped>\n",
       "    .dataframe tbody tr th:only-of-type {\n",
       "        vertical-align: middle;\n",
       "    }\n",
       "\n",
       "    .dataframe tbody tr th {\n",
       "        vertical-align: top;\n",
       "    }\n",
       "\n",
       "    .dataframe thead th {\n",
       "        text-align: right;\n",
       "    }\n",
       "</style>\n",
       "<table border=\"1\" class=\"dataframe\">\n",
       "  <thead>\n",
       "    <tr style=\"text-align: right;\">\n",
       "      <th></th>\n",
       "      <th>id</th>\n",
       "      <th>case_num</th>\n",
       "      <th>pn_num</th>\n",
       "      <th>feature_num</th>\n",
       "      <th>annotation</th>\n",
       "      <th>location</th>\n",
       "    </tr>\n",
       "  </thead>\n",
       "  <tbody>\n",
       "    <tr>\n",
       "      <th>0</th>\n",
       "      <td>00016_000</td>\n",
       "      <td>0</td>\n",
       "      <td>16</td>\n",
       "      <td>0</td>\n",
       "      <td>['dad with recent heart attcak']</td>\n",
       "      <td>['696 724']</td>\n",
       "    </tr>\n",
       "    <tr>\n",
       "      <th>1</th>\n",
       "      <td>00016_001</td>\n",
       "      <td>0</td>\n",
       "      <td>16</td>\n",
       "      <td>1</td>\n",
       "      <td>['mom with \"thyroid disease']</td>\n",
       "      <td>['668 693']</td>\n",
       "    </tr>\n",
       "    <tr>\n",
       "      <th>2</th>\n",
       "      <td>00016_002</td>\n",
       "      <td>0</td>\n",
       "      <td>16</td>\n",
       "      <td>2</td>\n",
       "      <td>['chest pressure']</td>\n",
       "      <td>['203 217']</td>\n",
       "    </tr>\n",
       "    <tr>\n",
       "      <th>3</th>\n",
       "      <td>00016_003</td>\n",
       "      <td>0</td>\n",
       "      <td>16</td>\n",
       "      <td>3</td>\n",
       "      <td>['intermittent episodes', 'episode']</td>\n",
       "      <td>['70 91', '176 183']</td>\n",
       "    </tr>\n",
       "    <tr>\n",
       "      <th>4</th>\n",
       "      <td>00016_004</td>\n",
       "      <td>0</td>\n",
       "      <td>16</td>\n",
       "      <td>4</td>\n",
       "      <td>['felt as if he were going to pass out']</td>\n",
       "      <td>['222 258']</td>\n",
       "    </tr>\n",
       "  </tbody>\n",
       "</table>\n",
       "</div>"
      ],
      "text/plain": [
       "          id  case_num  pn_num  feature_num  \\\n",
       "0  00016_000         0      16            0   \n",
       "1  00016_001         0      16            1   \n",
       "2  00016_002         0      16            2   \n",
       "3  00016_003         0      16            3   \n",
       "4  00016_004         0      16            4   \n",
       "\n",
       "                                 annotation              location  \n",
       "0          ['dad with recent heart attcak']           ['696 724']  \n",
       "1             ['mom with \"thyroid disease']           ['668 693']  \n",
       "2                        ['chest pressure']           ['203 217']  \n",
       "3      ['intermittent episodes', 'episode']  ['70 91', '176 183']  \n",
       "4  ['felt as if he were going to pass out']           ['222 258']  "
      ]
     },
     "execution_count": 16,
     "metadata": {},
     "output_type": "execute_result"
    }
   ],
   "source": [
    "train = pd.read_csv('../input/nbme-score-clinical-patient-notes/train.csv')\n",
    "train.head()"
   ]
  },
  {
   "cell_type": "code",
   "execution_count": 17,
   "id": "f5193e73",
   "metadata": {
    "execution": {
     "iopub.execute_input": "2022-04-11T08:42:29.418751Z",
     "iopub.status.busy": "2022-04-11T08:42:29.418032Z",
     "iopub.status.idle": "2022-04-11T08:42:29.428813Z",
     "shell.execute_reply": "2022-04-11T08:42:29.429469Z",
     "shell.execute_reply.started": "2022-04-11T08:09:32.939352Z"
    },
    "papermill": {
     "duration": 0.050242,
     "end_time": "2022-04-11T08:42:29.429675",
     "exception": false,
     "start_time": "2022-04-11T08:42:29.379433",
     "status": "completed"
    },
    "tags": []
   },
   "outputs": [
    {
     "data": {
      "text/html": [
       "<div>\n",
       "<style scoped>\n",
       "    .dataframe tbody tr th:only-of-type {\n",
       "        vertical-align: middle;\n",
       "    }\n",
       "\n",
       "    .dataframe tbody tr th {\n",
       "        vertical-align: top;\n",
       "    }\n",
       "\n",
       "    .dataframe thead th {\n",
       "        text-align: right;\n",
       "    }\n",
       "</style>\n",
       "<table border=\"1\" class=\"dataframe\">\n",
       "  <thead>\n",
       "    <tr style=\"text-align: right;\">\n",
       "      <th></th>\n",
       "      <th>id</th>\n",
       "      <th>case_num</th>\n",
       "      <th>pn_num</th>\n",
       "      <th>feature_num</th>\n",
       "      <th>annotation</th>\n",
       "      <th>location</th>\n",
       "    </tr>\n",
       "  </thead>\n",
       "  <tbody>\n",
       "    <tr>\n",
       "      <th>14295</th>\n",
       "      <td>95333_912</td>\n",
       "      <td>9</td>\n",
       "      <td>95333</td>\n",
       "      <td>912</td>\n",
       "      <td>[]</td>\n",
       "      <td>[]</td>\n",
       "    </tr>\n",
       "    <tr>\n",
       "      <th>14296</th>\n",
       "      <td>95333_913</td>\n",
       "      <td>9</td>\n",
       "      <td>95333</td>\n",
       "      <td>913</td>\n",
       "      <td>[]</td>\n",
       "      <td>[]</td>\n",
       "    </tr>\n",
       "    <tr>\n",
       "      <th>14297</th>\n",
       "      <td>95333_914</td>\n",
       "      <td>9</td>\n",
       "      <td>95333</td>\n",
       "      <td>914</td>\n",
       "      <td>['photobia']</td>\n",
       "      <td>['274 282']</td>\n",
       "    </tr>\n",
       "    <tr>\n",
       "      <th>14298</th>\n",
       "      <td>95333_915</td>\n",
       "      <td>9</td>\n",
       "      <td>95333</td>\n",
       "      <td>915</td>\n",
       "      <td>['no sick contacts']</td>\n",
       "      <td>['421 437']</td>\n",
       "    </tr>\n",
       "    <tr>\n",
       "      <th>14299</th>\n",
       "      <td>95333_916</td>\n",
       "      <td>9</td>\n",
       "      <td>95333</td>\n",
       "      <td>916</td>\n",
       "      <td>['Subjective fever']</td>\n",
       "      <td>['314 330']</td>\n",
       "    </tr>\n",
       "  </tbody>\n",
       "</table>\n",
       "</div>"
      ],
      "text/plain": [
       "              id  case_num  pn_num  feature_num            annotation  \\\n",
       "14295  95333_912         9   95333          912                    []   \n",
       "14296  95333_913         9   95333          913                    []   \n",
       "14297  95333_914         9   95333          914          ['photobia']   \n",
       "14298  95333_915         9   95333          915  ['no sick contacts']   \n",
       "14299  95333_916         9   95333          916  ['Subjective fever']   \n",
       "\n",
       "          location  \n",
       "14295           []  \n",
       "14296           []  \n",
       "14297  ['274 282']  \n",
       "14298  ['421 437']  \n",
       "14299  ['314 330']  "
      ]
     },
     "execution_count": 17,
     "metadata": {},
     "output_type": "execute_result"
    }
   ],
   "source": [
    "train.tail()"
   ]
  },
  {
   "cell_type": "code",
   "execution_count": 18,
   "id": "6c6a5812",
   "metadata": {
    "execution": {
     "iopub.execute_input": "2022-04-11T08:42:29.505709Z",
     "iopub.status.busy": "2022-04-11T08:42:29.504927Z",
     "iopub.status.idle": "2022-04-11T08:42:29.523179Z",
     "shell.execute_reply": "2022-04-11T08:42:29.523755Z",
     "shell.execute_reply.started": "2022-04-11T08:09:32.955062Z"
    },
    "papermill": {
     "duration": 0.057912,
     "end_time": "2022-04-11T08:42:29.523968",
     "exception": false,
     "start_time": "2022-04-11T08:42:29.466056",
     "status": "completed"
    },
    "tags": []
   },
   "outputs": [
    {
     "name": "stdout",
     "output_type": "stream",
     "text": [
      "<class 'pandas.core.frame.DataFrame'>\n",
      "RangeIndex: 14300 entries, 0 to 14299\n",
      "Data columns (total 6 columns):\n",
      " #   Column       Non-Null Count  Dtype \n",
      "---  ------       --------------  ----- \n",
      " 0   id           14300 non-null  object\n",
      " 1   case_num     14300 non-null  int64 \n",
      " 2   pn_num       14300 non-null  int64 \n",
      " 3   feature_num  14300 non-null  int64 \n",
      " 4   annotation   14300 non-null  object\n",
      " 5   location     14300 non-null  object\n",
      "dtypes: int64(3), object(3)\n",
      "memory usage: 670.4+ KB\n"
     ]
    }
   ],
   "source": [
    "train.info()"
   ]
  },
  {
   "cell_type": "code",
   "execution_count": 19,
   "id": "e6637c60",
   "metadata": {
    "execution": {
     "iopub.execute_input": "2022-04-11T08:42:29.606149Z",
     "iopub.status.busy": "2022-04-11T08:42:29.605300Z",
     "iopub.status.idle": "2022-04-11T08:42:29.620264Z",
     "shell.execute_reply": "2022-04-11T08:42:29.620843Z",
     "shell.execute_reply.started": "2022-04-11T08:09:32.975368Z"
    },
    "papermill": {
     "duration": 0.061191,
     "end_time": "2022-04-11T08:42:29.621065",
     "exception": false,
     "start_time": "2022-04-11T08:42:29.559874",
     "status": "completed"
    },
    "tags": []
   },
   "outputs": [
    {
     "data": {
      "text/plain": [
       "id             0\n",
       "case_num       0\n",
       "pn_num         0\n",
       "feature_num    0\n",
       "annotation     0\n",
       "location       0\n",
       "dtype: int64"
      ]
     },
     "execution_count": 19,
     "metadata": {},
     "output_type": "execute_result"
    }
   ],
   "source": [
    "train.isnull().sum()"
   ]
  },
  {
   "cell_type": "code",
   "execution_count": 20,
   "id": "4f855520",
   "metadata": {
    "execution": {
     "iopub.execute_input": "2022-04-11T08:42:29.704398Z",
     "iopub.status.busy": "2022-04-11T08:42:29.702943Z",
     "iopub.status.idle": "2022-04-11T08:42:29.729577Z",
     "shell.execute_reply": "2022-04-11T08:42:29.730669Z",
     "shell.execute_reply.started": "2022-04-11T08:09:32.989997Z"
    },
    "papermill": {
     "duration": 0.069966,
     "end_time": "2022-04-11T08:42:29.731259",
     "exception": false,
     "start_time": "2022-04-11T08:42:29.661293",
     "status": "completed"
    },
    "tags": []
   },
   "outputs": [
    {
     "name": "stdout",
     "output_type": "stream",
     "text": [
      "Number of Empty annotations = 4399\n",
      "Number of Empty locations = 4399\n",
      "Number of Empty annotations and locations = 4399\n"
     ]
    }
   ],
   "source": [
    "empty_annotation = train['annotation'] == '[]'\n",
    "print(f'Number of Empty annotations = {train[empty_annotation].shape[0]}')\n",
    "\n",
    "empty_location = train['location'] == '[]'\n",
    "print(f'Number of Empty locations = {train[empty_location].shape[0]}')\n",
    "\n",
    "empty = (train['location'] == '[]') & (train['annotation'] == '[]')\n",
    "print(f'Number of Empty annotations and locations = {train[empty].shape[0]}')"
   ]
  },
  {
   "cell_type": "markdown",
   "id": "28b642ed",
   "metadata": {
    "papermill": {
     "duration": 0.03757,
     "end_time": "2022-04-11T08:42:29.813009",
     "exception": false,
     "start_time": "2022-04-11T08:42:29.775439",
     "status": "completed"
    },
    "tags": []
   },
   "source": [
    "# References :\n",
    "https://www.kaggle.com/code/odins0n/nbme-detailed-eda#EDA   \n",
    "https://www.kaggle.com/code/utcarshagrawal/nbme-complete-eda#IMPORTING-LIBRARIES   \n"
   ]
  }
 ],
 "metadata": {
  "kernelspec": {
   "display_name": "Python 3",
   "language": "python",
   "name": "python3"
  },
  "language_info": {
   "codemirror_mode": {
    "name": "ipython",
    "version": 3
   },
   "file_extension": ".py",
   "mimetype": "text/x-python",
   "name": "python",
   "nbconvert_exporter": "python",
   "pygments_lexer": "ipython3",
   "version": "3.7.12"
  },
  "papermill": {
   "default_parameters": {},
   "duration": 18.595741,
   "end_time": "2022-04-11T08:42:30.763319",
   "environment_variables": {},
   "exception": null,
   "input_path": "__notebook__.ipynb",
   "output_path": "__notebook__.ipynb",
   "parameters": {},
   "start_time": "2022-04-11T08:42:12.167578",
   "version": "2.3.3"
  }
 },
 "nbformat": 4,
 "nbformat_minor": 5
}
