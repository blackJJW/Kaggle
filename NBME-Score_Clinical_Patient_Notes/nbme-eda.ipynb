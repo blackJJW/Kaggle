{
 "cells": [
  {
   "cell_type": "code",
   "execution_count": 1,
   "id": "cb21d27f",
   "metadata": {
    "_cell_guid": "b1076dfc-b9ad-4769-8c92-a6c4dae69d19",
    "_uuid": "8f2839f25d086af736a60e9eeb907d3b93b6e0e5",
    "execution": {
     "iopub.execute_input": "2022-04-11T06:11:40.112334Z",
     "iopub.status.busy": "2022-04-11T06:11:40.111165Z",
     "iopub.status.idle": "2022-04-11T06:11:40.119908Z",
     "shell.execute_reply": "2022-04-11T06:11:40.120415Z",
     "shell.execute_reply.started": "2022-04-11T04:58:07.703292Z"
    },
    "papermill": {
     "duration": 0.040899,
     "end_time": "2022-04-11T06:11:40.120711",
     "exception": false,
     "start_time": "2022-04-11T06:11:40.079812",
     "status": "completed"
    },
    "tags": []
   },
   "outputs": [],
   "source": [
    "import numpy as np\n",
    "import pandas as pd"
   ]
  },
  {
   "cell_type": "code",
   "execution_count": 2,
   "id": "fe884677",
   "metadata": {
    "execution": {
     "iopub.execute_input": "2022-04-11T06:11:40.176653Z",
     "iopub.status.busy": "2022-04-11T06:11:40.176036Z",
     "iopub.status.idle": "2022-04-11T06:11:41.250214Z",
     "shell.execute_reply": "2022-04-11T06:11:41.249602Z",
     "shell.execute_reply.started": "2022-04-11T04:58:07.792738Z"
    },
    "papermill": {
     "duration": 1.102941,
     "end_time": "2022-04-11T06:11:41.250356",
     "exception": false,
     "start_time": "2022-04-11T06:11:40.147415",
     "status": "completed"
    },
    "tags": []
   },
   "outputs": [],
   "source": [
    "import matplotlib.pyplot as plt\n",
    "import seaborn as sns"
   ]
  },
  {
   "cell_type": "code",
   "execution_count": 3,
   "id": "69f62ee6",
   "metadata": {
    "execution": {
     "iopub.execute_input": "2022-04-11T06:11:41.308940Z",
     "iopub.status.busy": "2022-04-11T06:11:41.307809Z",
     "iopub.status.idle": "2022-04-11T06:11:41.309772Z",
     "shell.execute_reply": "2022-04-11T06:11:41.310400Z",
     "shell.execute_reply.started": "2022-04-11T05:07:20.854772Z"
    },
    "papermill": {
     "duration": 0.033676,
     "end_time": "2022-04-11T06:11:41.310570",
     "exception": false,
     "start_time": "2022-04-11T06:11:41.276894",
     "status": "completed"
    },
    "tags": []
   },
   "outputs": [],
   "source": [
    "pd.set_option('display.max_rows', None)\n",
    "pd.set_option('display.max_columns', None)"
   ]
  },
  {
   "cell_type": "markdown",
   "id": "24e1bb08",
   "metadata": {
    "papermill": {
     "duration": 0.026182,
     "end_time": "2022-04-11T06:11:41.363000",
     "exception": false,
     "start_time": "2022-04-11T06:11:41.336818",
     "status": "completed"
    },
    "tags": []
   },
   "source": [
    "# Important Terms\n",
    "- Clinical Case: The scenario (e.g., symptoms, complaints, concerns) the Standardized Patient presents to the test taker (medical student, resident or physician). Ten clinical cases are represented in this dataset.\n",
    "- Patient Note: Text detailing important information related by the patient during the encounter (physical exam and interview).\n",
    "- Feature: A clinically relevant concept. A rubric describes the key concepts relevant to each case."
   ]
  },
  {
   "cell_type": "markdown",
   "id": "67fe3c48",
   "metadata": {
    "papermill": {
     "duration": 0.027341,
     "end_time": "2022-04-11T06:11:41.416778",
     "exception": false,
     "start_time": "2022-04-11T06:11:41.389437",
     "status": "completed"
    },
    "tags": []
   },
   "source": [
    "# Training Data"
   ]
  },
  {
   "cell_type": "markdown",
   "id": "3fbc1be6",
   "metadata": {
    "papermill": {
     "duration": 0.026011,
     "end_time": "2022-04-11T06:11:41.469114",
     "exception": false,
     "start_time": "2022-04-11T06:11:41.443103",
     "status": "completed"
    },
    "tags": []
   },
   "source": [
    "## 1. patient_notes.csv\n",
    "- A collection of about 40,000 Patient Note history portions. Only a subset of these have features annotated. You may wish to apply unsupervised learning techniques on the notes without annotations. The patient notes in the test set are not included in the public version of this file.\n",
    "    - pn_num - A unique identifier for each patient note.\n",
    "    - case_num - A unique identifier for the clinical case a patient note represents.\n",
    "    - pn_history - The text of the encounter as recorded by the test taker."
   ]
  },
  {
   "cell_type": "markdown",
   "id": "c98159ea",
   "metadata": {
    "papermill": {
     "duration": 0.02625,
     "end_time": "2022-04-11T06:11:41.521702",
     "exception": false,
     "start_time": "2022-04-11T06:11:41.495452",
     "status": "completed"
    },
    "tags": []
   },
   "source": [
    "- There is no NaN value in this dataframe.\n",
    "- 42,146 rows\n",
    "- 3 columns\n",
    "- data types : int64(2), object(1)"
   ]
  },
  {
   "cell_type": "code",
   "execution_count": 4,
   "id": "8895525d",
   "metadata": {
    "execution": {
     "iopub.execute_input": "2022-04-11T06:11:41.580452Z",
     "iopub.status.busy": "2022-04-11T06:11:41.579410Z",
     "iopub.status.idle": "2022-04-11T06:11:42.300545Z",
     "shell.execute_reply": "2022-04-11T06:11:42.301091Z",
     "shell.execute_reply.started": "2022-04-11T04:58:07.887979Z"
    },
    "papermill": {
     "duration": 0.753036,
     "end_time": "2022-04-11T06:11:42.301273",
     "exception": false,
     "start_time": "2022-04-11T06:11:41.548237",
     "status": "completed"
    },
    "tags": []
   },
   "outputs": [
    {
     "data": {
      "text/html": [
       "<div>\n",
       "<style scoped>\n",
       "    .dataframe tbody tr th:only-of-type {\n",
       "        vertical-align: middle;\n",
       "    }\n",
       "\n",
       "    .dataframe tbody tr th {\n",
       "        vertical-align: top;\n",
       "    }\n",
       "\n",
       "    .dataframe thead th {\n",
       "        text-align: right;\n",
       "    }\n",
       "</style>\n",
       "<table border=\"1\" class=\"dataframe\">\n",
       "  <thead>\n",
       "    <tr style=\"text-align: right;\">\n",
       "      <th></th>\n",
       "      <th>pn_num</th>\n",
       "      <th>case_num</th>\n",
       "      <th>pn_history</th>\n",
       "    </tr>\n",
       "  </thead>\n",
       "  <tbody>\n",
       "    <tr>\n",
       "      <th>0</th>\n",
       "      <td>0</td>\n",
       "      <td>0</td>\n",
       "      <td>17-year-old male, has come to the student heal...</td>\n",
       "    </tr>\n",
       "    <tr>\n",
       "      <th>1</th>\n",
       "      <td>1</td>\n",
       "      <td>0</td>\n",
       "      <td>17 yo male with recurrent palpitations for the...</td>\n",
       "    </tr>\n",
       "    <tr>\n",
       "      <th>2</th>\n",
       "      <td>2</td>\n",
       "      <td>0</td>\n",
       "      <td>Dillon Cleveland is a 17 y.o. male patient wit...</td>\n",
       "    </tr>\n",
       "    <tr>\n",
       "      <th>3</th>\n",
       "      <td>3</td>\n",
       "      <td>0</td>\n",
       "      <td>a 17 yo m c/o palpitation started 3 mos ago; \\...</td>\n",
       "    </tr>\n",
       "    <tr>\n",
       "      <th>4</th>\n",
       "      <td>4</td>\n",
       "      <td>0</td>\n",
       "      <td>17yo male with no pmh here for evaluation of p...</td>\n",
       "    </tr>\n",
       "  </tbody>\n",
       "</table>\n",
       "</div>"
      ],
      "text/plain": [
       "   pn_num  case_num                                         pn_history\n",
       "0       0         0  17-year-old male, has come to the student heal...\n",
       "1       1         0  17 yo male with recurrent palpitations for the...\n",
       "2       2         0  Dillon Cleveland is a 17 y.o. male patient wit...\n",
       "3       3         0  a 17 yo m c/o palpitation started 3 mos ago; \\...\n",
       "4       4         0  17yo male with no pmh here for evaluation of p..."
      ]
     },
     "execution_count": 4,
     "metadata": {},
     "output_type": "execute_result"
    }
   ],
   "source": [
    "patient_notes = pd.read_csv('../input/nbme-score-clinical-patient-notes/patient_notes.csv')\n",
    "patient_notes.head()"
   ]
  },
  {
   "cell_type": "code",
   "execution_count": 5,
   "id": "c23a2544",
   "metadata": {
    "execution": {
     "iopub.execute_input": "2022-04-11T06:11:42.370475Z",
     "iopub.status.busy": "2022-04-11T06:11:42.369751Z",
     "iopub.status.idle": "2022-04-11T06:11:42.390122Z",
     "shell.execute_reply": "2022-04-11T06:11:42.389391Z",
     "shell.execute_reply.started": "2022-04-11T04:58:08.350840Z"
    },
    "papermill": {
     "duration": 0.061687,
     "end_time": "2022-04-11T06:11:42.390314",
     "exception": false,
     "start_time": "2022-04-11T06:11:42.328627",
     "status": "completed"
    },
    "tags": []
   },
   "outputs": [
    {
     "name": "stdout",
     "output_type": "stream",
     "text": [
      "<class 'pandas.core.frame.DataFrame'>\n",
      "RangeIndex: 42146 entries, 0 to 42145\n",
      "Data columns (total 3 columns):\n",
      " #   Column      Non-Null Count  Dtype \n",
      "---  ------      --------------  ----- \n",
      " 0   pn_num      42146 non-null  int64 \n",
      " 1   case_num    42146 non-null  int64 \n",
      " 2   pn_history  42146 non-null  object\n",
      "dtypes: int64(2), object(1)\n",
      "memory usage: 987.9+ KB\n"
     ]
    }
   ],
   "source": [
    "patient_notes.info()"
   ]
  },
  {
   "cell_type": "code",
   "execution_count": 6,
   "id": "77735171",
   "metadata": {
    "execution": {
     "iopub.execute_input": "2022-04-11T06:11:42.458727Z",
     "iopub.status.busy": "2022-04-11T06:11:42.458065Z",
     "iopub.status.idle": "2022-04-11T06:11:42.465347Z",
     "shell.execute_reply": "2022-04-11T06:11:42.464717Z",
     "shell.execute_reply.started": "2022-04-11T04:58:08.375527Z"
    },
    "papermill": {
     "duration": 0.047008,
     "end_time": "2022-04-11T06:11:42.465484",
     "exception": false,
     "start_time": "2022-04-11T06:11:42.418476",
     "status": "completed"
    },
    "tags": []
   },
   "outputs": [
    {
     "data": {
      "text/plain": [
       "pn_num        0\n",
       "case_num      0\n",
       "pn_history    0\n",
       "dtype: int64"
      ]
     },
     "execution_count": 6,
     "metadata": {},
     "output_type": "execute_result"
    }
   ],
   "source": [
    "patient_notes.isnull().sum()"
   ]
  },
  {
   "cell_type": "code",
   "execution_count": 7,
   "id": "425109b0",
   "metadata": {
    "execution": {
     "iopub.execute_input": "2022-04-11T06:11:42.528187Z",
     "iopub.status.busy": "2022-04-11T06:11:42.527517Z",
     "iopub.status.idle": "2022-04-11T06:11:42.531932Z",
     "shell.execute_reply": "2022-04-11T06:11:42.531074Z",
     "shell.execute_reply.started": "2022-04-11T04:58:08.395615Z"
    },
    "papermill": {
     "duration": 0.038755,
     "end_time": "2022-04-11T06:11:42.532116",
     "exception": false,
     "start_time": "2022-04-11T06:11:42.493361",
     "status": "completed"
    },
    "tags": []
   },
   "outputs": [
    {
     "name": "stdout",
     "output_type": "stream",
     "text": [
      "3    9753\n",
      "5    6909\n",
      "4    5405\n",
      "9    5151\n",
      "8    4196\n",
      "7    4101\n",
      "0    2268\n",
      "2    1958\n",
      "6    1597\n",
      "1     808\n",
      "Name: case_num, dtype: int64\n"
     ]
    }
   ],
   "source": [
    "case_num_counts = patient_notes['case_num'].value_counts()\n",
    "print(case_num_counts)"
   ]
  },
  {
   "cell_type": "code",
   "execution_count": 8,
   "id": "ed1270c5",
   "metadata": {
    "execution": {
     "iopub.execute_input": "2022-04-11T06:11:42.603000Z",
     "iopub.status.busy": "2022-04-11T06:11:42.601957Z",
     "iopub.status.idle": "2022-04-11T06:11:42.867047Z",
     "shell.execute_reply": "2022-04-11T06:11:42.867551Z",
     "shell.execute_reply.started": "2022-04-11T04:58:08.407192Z"
    },
    "papermill": {
     "duration": 0.30633,
     "end_time": "2022-04-11T06:11:42.867717",
     "exception": false,
     "start_time": "2022-04-11T06:11:42.561387",
     "status": "completed"
    },
    "tags": []
   },
   "outputs": [
    {
     "data": {
      "image/png": "[encoded data removed]",
      "text/plain": [
       "<Figure size 720x576 with 1 Axes>"
      ]
     },
     "metadata": {
      "needs_background": "light"
     },
     "output_type": "display_data"
    }
   ],
   "source": [
    "plt.figure(figsize=(10, 8))\n",
    "bar = plt.bar(case_num_counts.index, case_num_counts.values, color = 'red')\n",
    "for i in bar:\n",
    "    height = i.get_height()\n",
    "    plt.text(i.get_x() + i.get_width()/2.0, height*1.019, '% d' % height, ha = 'center')\n",
    "\n",
    "plt.xticks(case_num_counts.index)\n",
    "plt.xlabel('case_num', fontsize = 12)\n",
    "plt.ylabel('count', fontsize = 12)\n",
    "plt.title('case_num counts', fontsize = 15)\n",
    "plt.show()"
   ]
  },
  {
   "cell_type": "markdown",
   "id": "bc98c719",
   "metadata": {
    "papermill": {
     "duration": 0.028907,
     "end_time": "2022-04-11T06:11:42.926025",
     "exception": false,
     "start_time": "2022-04-11T06:11:42.897118",
     "status": "completed"
    },
    "tags": []
   },
   "source": [
    "## 2. features.csv \n",
    "- The rubric of features (or key concepts) for each clinical case.\n",
    "    - feature_num - A unique identifier for each feature.\n",
    "    - case_num - A unique identifier for each case.\n",
    "    - feature_text - A description of the feature."
   ]
  },
  {
   "cell_type": "markdown",
   "id": "858fb963",
   "metadata": {
    "papermill": {
     "duration": 0.030015,
     "end_time": "2022-04-11T06:11:42.986501",
     "exception": false,
     "start_time": "2022-04-11T06:11:42.956486",
     "status": "completed"
    },
    "tags": []
   },
   "source": [
    "- There is no NaN value in this dataframe.\n",
    "- 143 rows\n",
    "- 3 columns\n",
    "- data types : int64(2), object(1)"
   ]
  },
  {
   "cell_type": "code",
   "execution_count": 9,
   "id": "9975a848",
   "metadata": {
    "execution": {
     "iopub.execute_input": "2022-04-11T06:11:43.067471Z",
     "iopub.status.busy": "2022-04-11T06:11:43.066468Z",
     "iopub.status.idle": "2022-04-11T06:11:43.080096Z",
     "shell.execute_reply": "2022-04-11T06:11:43.080885Z",
     "shell.execute_reply.started": "2022-04-11T04:58:08.660550Z"
    },
    "papermill": {
     "duration": 0.061737,
     "end_time": "2022-04-11T06:11:43.081144",
     "exception": false,
     "start_time": "2022-04-11T06:11:43.019407",
     "status": "completed"
    },
    "tags": []
   },
   "outputs": [
    {
     "data": {
      "text/html": [
       "<div>\n",
       "<style scoped>\n",
       "    .dataframe tbody tr th:only-of-type {\n",
       "        vertical-align: middle;\n",
       "    }\n",
       "\n",
       "    .dataframe tbody tr th {\n",
       "        vertical-align: top;\n",
       "    }\n",
       "\n",
       "    .dataframe thead th {\n",
       "        text-align: right;\n",
       "    }\n",
       "</style>\n",
       "<table border=\"1\" class=\"dataframe\">\n",
       "  <thead>\n",
       "    <tr style=\"text-align: right;\">\n",
       "      <th></th>\n",
       "      <th>feature_num</th>\n",
       "      <th>case_num</th>\n",
       "      <th>feature_text</th>\n",
       "    </tr>\n",
       "  </thead>\n",
       "  <tbody>\n",
       "    <tr>\n",
       "      <th>0</th>\n",
       "      <td>0</td>\n",
       "      <td>0</td>\n",
       "      <td>Family-history-of-MI-OR-Family-history-of-myoc...</td>\n",
       "    </tr>\n",
       "    <tr>\n",
       "      <th>1</th>\n",
       "      <td>1</td>\n",
       "      <td>0</td>\n",
       "      <td>Family-history-of-thyroid-disorder</td>\n",
       "    </tr>\n",
       "    <tr>\n",
       "      <th>2</th>\n",
       "      <td>2</td>\n",
       "      <td>0</td>\n",
       "      <td>Chest-pressure</td>\n",
       "    </tr>\n",
       "    <tr>\n",
       "      <th>3</th>\n",
       "      <td>3</td>\n",
       "      <td>0</td>\n",
       "      <td>Intermittent-symptoms</td>\n",
       "    </tr>\n",
       "    <tr>\n",
       "      <th>4</th>\n",
       "      <td>4</td>\n",
       "      <td>0</td>\n",
       "      <td>Lightheaded</td>\n",
       "    </tr>\n",
       "  </tbody>\n",
       "</table>\n",
       "</div>"
      ],
      "text/plain": [
       "   feature_num  case_num                                       feature_text\n",
       "0            0         0  Family-history-of-MI-OR-Family-history-of-myoc...\n",
       "1            1         0                 Family-history-of-thyroid-disorder\n",
       "2            2         0                                     Chest-pressure\n",
       "3            3         0                              Intermittent-symptoms\n",
       "4            4         0                                        Lightheaded"
      ]
     },
     "execution_count": 9,
     "metadata": {},
     "output_type": "execute_result"
    }
   ],
   "source": [
    "features = pd.read_csv('../input/nbme-score-clinical-patient-notes/features.csv')\n",
    "features.head()"
   ]
  },
  {
   "cell_type": "code",
   "execution_count": 10,
   "id": "14a0c218",
   "metadata": {
    "execution": {
     "iopub.execute_input": "2022-04-11T06:11:43.167374Z",
     "iopub.status.busy": "2022-04-11T06:11:43.166732Z",
     "iopub.status.idle": "2022-04-11T06:11:43.180181Z",
     "shell.execute_reply": "2022-04-11T06:11:43.180696Z",
     "shell.execute_reply.started": "2022-04-11T04:58:08.675705Z"
    },
    "papermill": {
     "duration": 0.056029,
     "end_time": "2022-04-11T06:11:43.180919",
     "exception": false,
     "start_time": "2022-04-11T06:11:43.124890",
     "status": "completed"
    },
    "tags": []
   },
   "outputs": [
    {
     "name": "stdout",
     "output_type": "stream",
     "text": [
      "<class 'pandas.core.frame.DataFrame'>\n",
      "RangeIndex: 143 entries, 0 to 142\n",
      "Data columns (total 3 columns):\n",
      " #   Column        Non-Null Count  Dtype \n",
      "---  ------        --------------  ----- \n",
      " 0   feature_num   143 non-null    int64 \n",
      " 1   case_num      143 non-null    int64 \n",
      " 2   feature_text  143 non-null    object\n",
      "dtypes: int64(2), object(1)\n",
      "memory usage: 3.5+ KB\n"
     ]
    }
   ],
   "source": [
    "features.info()"
   ]
  },
  {
   "cell_type": "code",
   "execution_count": 11,
   "id": "7a947cd7",
   "metadata": {
    "execution": {
     "iopub.execute_input": "2022-04-11T06:11:43.248783Z",
     "iopub.status.busy": "2022-04-11T06:11:43.247809Z",
     "iopub.status.idle": "2022-04-11T06:11:43.254483Z",
     "shell.execute_reply": "2022-04-11T06:11:43.255232Z",
     "shell.execute_reply.started": "2022-04-11T04:58:08.692036Z"
    },
    "papermill": {
     "duration": 0.041389,
     "end_time": "2022-04-11T06:11:43.255461",
     "exception": false,
     "start_time": "2022-04-11T06:11:43.214072",
     "status": "completed"
    },
    "tags": []
   },
   "outputs": [
    {
     "data": {
      "text/plain": [
       "feature_num     0\n",
       "case_num        0\n",
       "feature_text    0\n",
       "dtype: int64"
      ]
     },
     "execution_count": 11,
     "metadata": {},
     "output_type": "execute_result"
    }
   ],
   "source": [
    "features.isnull().sum()"
   ]
  },
  {
   "cell_type": "code",
   "execution_count": 12,
   "id": "83edfbbf",
   "metadata": {
    "execution": {
     "iopub.execute_input": "2022-04-11T06:11:43.339811Z",
     "iopub.status.busy": "2022-04-11T06:11:43.338927Z",
     "iopub.status.idle": "2022-04-11T06:11:43.342667Z",
     "shell.execute_reply": "2022-04-11T06:11:43.343357Z",
     "shell.execute_reply.started": "2022-04-11T04:58:08.708314Z"
    },
    "papermill": {
     "duration": 0.044238,
     "end_time": "2022-04-11T06:11:43.343536",
     "exception": false,
     "start_time": "2022-04-11T06:11:43.299298",
     "status": "completed"
    },
    "tags": []
   },
   "outputs": [
    {
     "name": "stdout",
     "output_type": "stream",
     "text": [
      "5    18\n",
      "8    18\n",
      "2    17\n",
      "9    17\n",
      "3    16\n",
      "0    13\n",
      "1    13\n",
      "6    12\n",
      "4    10\n",
      "7     9\n",
      "Name: case_num, dtype: int64\n"
     ]
    }
   ],
   "source": [
    "features_case_num_count = features['case_num'].value_counts()\n",
    "print(features_case_num_count)"
   ]
  },
  {
   "cell_type": "code",
   "execution_count": 13,
   "id": "33f6dac9",
   "metadata": {
    "execution": {
     "iopub.execute_input": "2022-04-11T06:11:43.464597Z",
     "iopub.status.busy": "2022-04-11T06:11:43.452929Z",
     "iopub.status.idle": "2022-04-11T06:11:43.659329Z",
     "shell.execute_reply": "2022-04-11T06:11:43.658740Z",
     "shell.execute_reply.started": "2022-04-11T05:17:29.034452Z"
    },
    "papermill": {
     "duration": 0.28164,
     "end_time": "2022-04-11T06:11:43.659472",
     "exception": false,
     "start_time": "2022-04-11T06:11:43.377832",
     "status": "completed"
    },
    "tags": []
   },
   "outputs": [
    {
     "data": {
      "image/png": "[encoded data removed]",
      "text/plain": [
       "<Figure size 576x576 with 1 Axes>"
      ]
     },
     "metadata": {
      "needs_background": "light"
     },
     "output_type": "display_data"
    }
   ],
   "source": [
    "plt.figure(figsize=(8, 8))\n",
    "bar = plt.bar(features_case_num_count.index, features_case_num_count.values, color = 'red')\n",
    "for i in bar:\n",
    "    height = i.get_height()\n",
    "    plt.text(i.get_x() + i.get_width()/2.0, height*1.019, '% d' % height, ha = 'center')\n",
    "\n",
    "plt.xticks(features_case_num_count.index)\n",
    "plt.xlabel('feature_num', fontsize = 12)\n",
    "plt.ylabel('count', fontsize = 12)\n",
    "plt.title('feature_num counts', fontsize = 15)\n",
    "plt.show()"
   ]
  },
  {
   "cell_type": "markdown",
   "id": "4283d0fa",
   "metadata": {
    "papermill": {
     "duration": 0.032248,
     "end_time": "2022-04-11T06:11:43.724902",
     "exception": false,
     "start_time": "2022-04-11T06:11:43.692654",
     "status": "completed"
    },
    "tags": []
   },
   "source": [
    "## 3. train.csv \n",
    "- Feature annotations for 1000 of the patient notes, 100 for each of ten cases.\n",
    "    - id - Unique identifier for each patient note / feature pair.\n",
    "    - pn_num - The patient note annotated in this row.\n",
    "    - feature_num - The feature annotated in this row.\n",
    "    - case_num - The case to which this patient note belongs.\n",
    "    - annotation - The text(s) within a patient note indicating a feature. A feature may be indicated multiple times within a single note.\n",
    "    - location - Character spans indicating the location of each annotation within the note. Multiple spans may be needed to represent an annotation, in which case the spans are delimited by a semicolon ;."
   ]
  },
  {
   "cell_type": "markdown",
   "id": "1101e098",
   "metadata": {
    "papermill": {
     "duration": 0.032199,
     "end_time": "2022-04-11T06:11:43.789844",
     "exception": false,
     "start_time": "2022-04-11T06:11:43.757645",
     "status": "completed"
    },
    "tags": []
   },
   "source": [
    "- There is no NaN value in this dataframe.\n",
    "    - But, there are some empty [] in 'annotation', 'location'.\n",
    "        - There are 4,399 rows with 'annotation' = '[]' and 'location' = '[]'.\n",
    "- 14,300 rows\n",
    "- 6 columns\n",
    "- data types : int64(3), object(3)"
   ]
  },
  {
   "cell_type": "code",
   "execution_count": 14,
   "id": "1c69b394",
   "metadata": {
    "execution": {
     "iopub.execute_input": "2022-04-11T06:11:43.861253Z",
     "iopub.status.busy": "2022-04-11T06:11:43.860520Z",
     "iopub.status.idle": "2022-04-11T06:11:43.905979Z",
     "shell.execute_reply": "2022-04-11T06:11:43.906554Z",
     "shell.execute_reply.started": "2022-04-11T04:58:08.971821Z"
    },
    "papermill": {
     "duration": 0.084165,
     "end_time": "2022-04-11T06:11:43.906725",
     "exception": false,
     "start_time": "2022-04-11T06:11:43.822560",
     "status": "completed"
    },
    "tags": []
   },
   "outputs": [
    {
     "data": {
      "text/html": [
       "<div>\n",
       "<style scoped>\n",
       "    .dataframe tbody tr th:only-of-type {\n",
       "        vertical-align: middle;\n",
       "    }\n",
       "\n",
       "    .dataframe tbody tr th {\n",
       "        vertical-align: top;\n",
       "    }\n",
       "\n",
       "    .dataframe thead th {\n",
       "        text-align: right;\n",
       "    }\n",
       "</style>\n",
       "<table border=\"1\" class=\"dataframe\">\n",
       "  <thead>\n",
       "    <tr style=\"text-align: right;\">\n",
       "      <th></th>\n",
       "      <th>id</th>\n",
       "      <th>case_num</th>\n",
       "      <th>pn_num</th>\n",
       "      <th>feature_num</th>\n",
       "      <th>annotation</th>\n",
       "      <th>location</th>\n",
       "    </tr>\n",
       "  </thead>\n",
       "  <tbody>\n",
       "    <tr>\n",
       "      <th>0</th>\n",
       "      <td>00016_000</td>\n",
       "      <td>0</td>\n",
       "      <td>16</td>\n",
       "      <td>0</td>\n",
       "      <td>['dad with recent heart attcak']</td>\n",
       "      <td>['696 724']</td>\n",
       "    </tr>\n",
       "    <tr>\n",
       "      <th>1</th>\n",
       "      <td>00016_001</td>\n",
       "      <td>0</td>\n",
       "      <td>16</td>\n",
       "      <td>1</td>\n",
       "      <td>['mom with \"thyroid disease']</td>\n",
       "      <td>['668 693']</td>\n",
       "    </tr>\n",
       "    <tr>\n",
       "      <th>2</th>\n",
       "      <td>00016_002</td>\n",
       "      <td>0</td>\n",
       "      <td>16</td>\n",
       "      <td>2</td>\n",
       "      <td>['chest pressure']</td>\n",
       "      <td>['203 217']</td>\n",
       "    </tr>\n",
       "    <tr>\n",
       "      <th>3</th>\n",
       "      <td>00016_003</td>\n",
       "      <td>0</td>\n",
       "      <td>16</td>\n",
       "      <td>3</td>\n",
       "      <td>['intermittent episodes', 'episode']</td>\n",
       "      <td>['70 91', '176 183']</td>\n",
       "    </tr>\n",
       "    <tr>\n",
       "      <th>4</th>\n",
       "      <td>00016_004</td>\n",
       "      <td>0</td>\n",
       "      <td>16</td>\n",
       "      <td>4</td>\n",
       "      <td>['felt as if he were going to pass out']</td>\n",
       "      <td>['222 258']</td>\n",
       "    </tr>\n",
       "  </tbody>\n",
       "</table>\n",
       "</div>"
      ],
      "text/plain": [
       "          id  case_num  pn_num  feature_num  \\\n",
       "0  00016_000         0      16            0   \n",
       "1  00016_001         0      16            1   \n",
       "2  00016_002         0      16            2   \n",
       "3  00016_003         0      16            3   \n",
       "4  00016_004         0      16            4   \n",
       "\n",
       "                                 annotation              location  \n",
       "0          ['dad with recent heart attcak']           ['696 724']  \n",
       "1             ['mom with \"thyroid disease']           ['668 693']  \n",
       "2                        ['chest pressure']           ['203 217']  \n",
       "3      ['intermittent episodes', 'episode']  ['70 91', '176 183']  \n",
       "4  ['felt as if he were going to pass out']           ['222 258']  "
      ]
     },
     "execution_count": 14,
     "metadata": {},
     "output_type": "execute_result"
    }
   ],
   "source": [
    "train = pd.read_csv('../input/nbme-score-clinical-patient-notes/train.csv')\n",
    "train.head()"
   ]
  },
  {
   "cell_type": "code",
   "execution_count": 15,
   "id": "22189e1c",
   "metadata": {
    "execution": {
     "iopub.execute_input": "2022-04-11T06:11:43.978637Z",
     "iopub.status.busy": "2022-04-11T06:11:43.977651Z",
     "iopub.status.idle": "2022-04-11T06:11:43.988442Z",
     "shell.execute_reply": "2022-04-11T06:11:43.989068Z",
     "shell.execute_reply.started": "2022-04-11T04:58:09.011475Z"
    },
    "papermill": {
     "duration": 0.047814,
     "end_time": "2022-04-11T06:11:43.989241",
     "exception": false,
     "start_time": "2022-04-11T06:11:43.941427",
     "status": "completed"
    },
    "tags": []
   },
   "outputs": [
    {
     "data": {
      "text/html": [
       "<div>\n",
       "<style scoped>\n",
       "    .dataframe tbody tr th:only-of-type {\n",
       "        vertical-align: middle;\n",
       "    }\n",
       "\n",
       "    .dataframe tbody tr th {\n",
       "        vertical-align: top;\n",
       "    }\n",
       "\n",
       "    .dataframe thead th {\n",
       "        text-align: right;\n",
       "    }\n",
       "</style>\n",
       "<table border=\"1\" class=\"dataframe\">\n",
       "  <thead>\n",
       "    <tr style=\"text-align: right;\">\n",
       "      <th></th>\n",
       "      <th>id</th>\n",
       "      <th>case_num</th>\n",
       "      <th>pn_num</th>\n",
       "      <th>feature_num</th>\n",
       "      <th>annotation</th>\n",
       "      <th>location</th>\n",
       "    </tr>\n",
       "  </thead>\n",
       "  <tbody>\n",
       "    <tr>\n",
       "      <th>14295</th>\n",
       "      <td>95333_912</td>\n",
       "      <td>9</td>\n",
       "      <td>95333</td>\n",
       "      <td>912</td>\n",
       "      <td>[]</td>\n",
       "      <td>[]</td>\n",
       "    </tr>\n",
       "    <tr>\n",
       "      <th>14296</th>\n",
       "      <td>95333_913</td>\n",
       "      <td>9</td>\n",
       "      <td>95333</td>\n",
       "      <td>913</td>\n",
       "      <td>[]</td>\n",
       "      <td>[]</td>\n",
       "    </tr>\n",
       "    <tr>\n",
       "      <th>14297</th>\n",
       "      <td>95333_914</td>\n",
       "      <td>9</td>\n",
       "      <td>95333</td>\n",
       "      <td>914</td>\n",
       "      <td>['photobia']</td>\n",
       "      <td>['274 282']</td>\n",
       "    </tr>\n",
       "    <tr>\n",
       "      <th>14298</th>\n",
       "      <td>95333_915</td>\n",
       "      <td>9</td>\n",
       "      <td>95333</td>\n",
       "      <td>915</td>\n",
       "      <td>['no sick contacts']</td>\n",
       "      <td>['421 437']</td>\n",
       "    </tr>\n",
       "    <tr>\n",
       "      <th>14299</th>\n",
       "      <td>95333_916</td>\n",
       "      <td>9</td>\n",
       "      <td>95333</td>\n",
       "      <td>916</td>\n",
       "      <td>['Subjective fever']</td>\n",
       "      <td>['314 330']</td>\n",
       "    </tr>\n",
       "  </tbody>\n",
       "</table>\n",
       "</div>"
      ],
      "text/plain": [
       "              id  case_num  pn_num  feature_num            annotation  \\\n",
       "14295  95333_912         9   95333          912                    []   \n",
       "14296  95333_913         9   95333          913                    []   \n",
       "14297  95333_914         9   95333          914          ['photobia']   \n",
       "14298  95333_915         9   95333          915  ['no sick contacts']   \n",
       "14299  95333_916         9   95333          916  ['Subjective fever']   \n",
       "\n",
       "          location  \n",
       "14295           []  \n",
       "14296           []  \n",
       "14297  ['274 282']  \n",
       "14298  ['421 437']  \n",
       "14299  ['314 330']  "
      ]
     },
     "execution_count": 15,
     "metadata": {},
     "output_type": "execute_result"
    }
   ],
   "source": [
    "train.tail()"
   ]
  },
  {
   "cell_type": "code",
   "execution_count": 16,
   "id": "57bba567",
   "metadata": {
    "execution": {
     "iopub.execute_input": "2022-04-11T06:11:44.059947Z",
     "iopub.status.busy": "2022-04-11T06:11:44.058992Z",
     "iopub.status.idle": "2022-04-11T06:11:44.077079Z",
     "shell.execute_reply": "2022-04-11T06:11:44.076293Z",
     "shell.execute_reply.started": "2022-04-11T04:58:09.025190Z"
    },
    "papermill": {
     "duration": 0.054117,
     "end_time": "2022-04-11T06:11:44.077268",
     "exception": false,
     "start_time": "2022-04-11T06:11:44.023151",
     "status": "completed"
    },
    "tags": []
   },
   "outputs": [
    {
     "name": "stdout",
     "output_type": "stream",
     "text": [
      "<class 'pandas.core.frame.DataFrame'>\n",
      "RangeIndex: 14300 entries, 0 to 14299\n",
      "Data columns (total 6 columns):\n",
      " #   Column       Non-Null Count  Dtype \n",
      "---  ------       --------------  ----- \n",
      " 0   id           14300 non-null  object\n",
      " 1   case_num     14300 non-null  int64 \n",
      " 2   pn_num       14300 non-null  int64 \n",
      " 3   feature_num  14300 non-null  int64 \n",
      " 4   annotation   14300 non-null  object\n",
      " 5   location     14300 non-null  object\n",
      "dtypes: int64(3), object(3)\n",
      "memory usage: 670.4+ KB\n"
     ]
    }
   ],
   "source": [
    "train.info()"
   ]
  },
  {
   "cell_type": "code",
   "execution_count": 17,
   "id": "bf81d301",
   "metadata": {
    "execution": {
     "iopub.execute_input": "2022-04-11T06:11:44.155723Z",
     "iopub.status.busy": "2022-04-11T06:11:44.154503Z",
     "iopub.status.idle": "2022-04-11T06:11:44.160790Z",
     "shell.execute_reply": "2022-04-11T06:11:44.161319Z",
     "shell.execute_reply.started": "2022-04-11T04:58:09.049216Z"
    },
    "papermill": {
     "duration": 0.049801,
     "end_time": "2022-04-11T06:11:44.161486",
     "exception": false,
     "start_time": "2022-04-11T06:11:44.111685",
     "status": "completed"
    },
    "tags": []
   },
   "outputs": [
    {
     "data": {
      "text/plain": [
       "id             0\n",
       "case_num       0\n",
       "pn_num         0\n",
       "feature_num    0\n",
       "annotation     0\n",
       "location       0\n",
       "dtype: int64"
      ]
     },
     "execution_count": 17,
     "metadata": {},
     "output_type": "execute_result"
    }
   ],
   "source": [
    "train.isnull().sum()"
   ]
  },
  {
   "cell_type": "code",
   "execution_count": 18,
   "id": "92f04011",
   "metadata": {
    "execution": {
     "iopub.execute_input": "2022-04-11T06:11:44.236429Z",
     "iopub.status.busy": "2022-04-11T06:11:44.231505Z",
     "iopub.status.idle": "2022-04-11T06:11:44.241214Z",
     "shell.execute_reply": "2022-04-11T06:11:44.240496Z",
     "shell.execute_reply.started": "2022-04-11T05:34:18.096074Z"
    },
    "papermill": {
     "duration": 0.046226,
     "end_time": "2022-04-11T06:11:44.241403",
     "exception": false,
     "start_time": "2022-04-11T06:11:44.195177",
     "status": "completed"
    },
    "tags": []
   },
   "outputs": [
    {
     "name": "stdout",
     "output_type": "stream",
     "text": [
      "Number of Empty annotations = 4399\n"
     ]
    }
   ],
   "source": [
    "empty_annotation = train['annotation'] == '[]'\n",
    "print(f'Number of Empty annotations = {train[empty_annotation].shape[0]}')"
   ]
  },
  {
   "cell_type": "code",
   "execution_count": 19,
   "id": "0da4d650",
   "metadata": {
    "execution": {
     "iopub.execute_input": "2022-04-11T06:11:44.319674Z",
     "iopub.status.busy": "2022-04-11T06:11:44.318760Z",
     "iopub.status.idle": "2022-04-11T06:11:44.323069Z",
     "shell.execute_reply": "2022-04-11T06:11:44.323803Z",
     "shell.execute_reply.started": "2022-04-11T05:35:12.188506Z"
    },
    "papermill": {
     "duration": 0.047359,
     "end_time": "2022-04-11T06:11:44.324052",
     "exception": false,
     "start_time": "2022-04-11T06:11:44.276693",
     "status": "completed"
    },
    "tags": []
   },
   "outputs": [
    {
     "name": "stdout",
     "output_type": "stream",
     "text": [
      "Number of Empty locations = 4399\n"
     ]
    }
   ],
   "source": [
    "empty_location = train['location'] == '[]'\n",
    "print(f'Number of Empty locations = {train[empty_location].shape[0]}')"
   ]
  },
  {
   "cell_type": "markdown",
   "id": "6e20806b",
   "metadata": {
    "papermill": {
     "duration": 0.034731,
     "end_time": "2022-04-11T06:11:44.395639",
     "exception": false,
     "start_time": "2022-04-11T06:11:44.360908",
     "status": "completed"
    },
    "tags": []
   },
   "source": [
    "- There are 4399 rows with 'location'= '[]' and 'annotation'= '[]'."
   ]
  },
  {
   "cell_type": "code",
   "execution_count": 20,
   "id": "e4b21986",
   "metadata": {
    "execution": {
     "iopub.execute_input": "2022-04-11T06:11:44.475665Z",
     "iopub.status.busy": "2022-04-11T06:11:44.474999Z",
     "iopub.status.idle": "2022-04-11T06:11:44.479328Z",
     "shell.execute_reply": "2022-04-11T06:11:44.479909Z",
     "shell.execute_reply.started": "2022-04-11T05:35:47.234929Z"
    },
    "papermill": {
     "duration": 0.050101,
     "end_time": "2022-04-11T06:11:44.480091",
     "exception": false,
     "start_time": "2022-04-11T06:11:44.429990",
     "status": "completed"
    },
    "tags": []
   },
   "outputs": [
    {
     "name": "stdout",
     "output_type": "stream",
     "text": [
      "Number of Empty annotations and locations = 4399\n"
     ]
    }
   ],
   "source": [
    "empty = (train['location'] == '[]') & (train['annotation'] == '[]')\n",
    "print(f'Number of Empty annotations and locations = {train[empty].shape[0]}')"
   ]
  },
  {
   "cell_type": "markdown",
   "id": "696d5dec",
   "metadata": {
    "papermill": {
     "duration": 0.034757,
     "end_time": "2022-04-11T06:11:44.550955",
     "exception": false,
     "start_time": "2022-04-11T06:11:44.516198",
     "status": "completed"
    },
    "tags": []
   },
   "source": [
    "# References :\n",
    "https://www.kaggle.com/code/odins0n/nbme-detailed-eda#EDA   \n"
   ]
  }
 ],
 "metadata": {
  "kernelspec": {
   "display_name": "Python 3",
   "language": "python",
   "name": "python3"
  },
  "language_info": {
   "codemirror_mode": {
    "name": "ipython",
    "version": 3
   },
   "file_extension": ".py",
   "mimetype": "text/x-python",
   "name": "python",
   "nbconvert_exporter": "python",
   "pygments_lexer": "ipython3",
   "version": "3.7.12"
  },
  "papermill": {
   "default_parameters": {},
   "duration": 15.018385,
   "end_time": "2022-04-11T06:11:45.297176",
   "environment_variables": {},
   "exception": null,
   "input_path": "__notebook__.ipynb",
   "output_path": "__notebook__.ipynb",
   "parameters": {},
   "start_time": "2022-04-11T06:11:30.278791",
   "version": "2.3.3"
  }
 },
 "nbformat": 4,
 "nbformat_minor": 5
}
