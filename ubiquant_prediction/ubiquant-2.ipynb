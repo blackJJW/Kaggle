{
 "cells": [
  {
   "cell_type": "markdown",
   "id": "8432f9be",
   "metadata": {
    "papermill": {
     "duration": 0.023862,
     "end_time": "2022-04-10T02:46:32.766209",
     "exception": false,
     "start_time": "2022-04-10T02:46:32.742347",
     "status": "completed"
    },
    "tags": []
   },
   "source": [
    "# 프로젝트 개요\n",
    "- 강의명 : 2022년 K-디지털 직업훈련(Training) 사업 - AI데이터플랫폼을 활용한 빅데이터 분석전문가 과정\n",
    "- 교과목명 : 빅데이터 분석 및 시각화, AI개발 기초, 인공지능 프로그래밍\n",
    "- 프로젝트 주제 : Ubiquant Market 데이터를 활용한 미래 투자 예측\n",
    "- 프로젝트 마감일 : 2022년 4월 12일 화요일\n",
    "- 강사명 : 정지훈 강사\n",
    "- 수강생명 : 정진우"
   ]
  },
  {
   "cell_type": "markdown",
   "id": "c2102e64",
   "metadata": {
    "papermill": {
     "duration": 0.021785,
     "end_time": "2022-04-10T02:46:32.811990",
     "exception": false,
     "start_time": "2022-04-10T02:46:32.790205",
     "status": "completed"
    },
    "tags": []
   },
   "source": [
    "## < Score Improvement History >\n",
    "|#|> std * x|k-fold|score|\n",
    "|:-:|:-:|:-:|:-:|\n",
    "|1|> std * 70|3|0.1388|\n",
    "|2|> std * 60|3||\n",
    "|3|> std * 50|3||"
   ]
  },
  {
   "cell_type": "markdown",
   "id": "bff245b8",
   "metadata": {
    "papermill": {
     "duration": 0.021855,
     "end_time": "2022-04-10T02:46:32.855945",
     "exception": false,
     "start_time": "2022-04-10T02:46:32.834090",
     "status": "completed"
    },
    "tags": []
   },
   "source": [
    "# Step 1 ~ 3 :    \n",
    "https://www.kaggle.com/code/blackjjw/ubiquant-eda\n",
    "## dataset :   \n",
    "https://www.kaggle.com/datasets/blackjjw/ubiquant-train-df-low-memory-pkl"
   ]
  },
  {
   "cell_type": "markdown",
   "id": "584f5eac",
   "metadata": {
    "papermill": {
     "duration": 0.021717,
     "end_time": "2022-04-10T02:46:32.899744",
     "exception": false,
     "start_time": "2022-04-10T02:46:32.878027",
     "status": "completed"
    },
    "tags": []
   },
   "source": [
    "# 라이브러리 불러오기"
   ]
  },
  {
   "cell_type": "code",
   "execution_count": 1,
   "id": "2e0469bf",
   "metadata": {
    "_cell_guid": "b1076dfc-b9ad-4769-8c92-a6c4dae69d19",
    "_uuid": "8f2839f25d086af736a60e9eeb907d3b93b6e0e5",
    "execution": {
     "iopub.execute_input": "2022-04-10T02:46:32.949618Z",
     "iopub.status.busy": "2022-04-10T02:46:32.947963Z",
     "iopub.status.idle": "2022-04-10T02:46:35.108702Z",
     "shell.execute_reply": "2022-04-10T02:46:35.109147Z",
     "shell.execute_reply.started": "2022-04-10T02:43:52.398243Z"
    },
    "papermill": {
     "duration": 2.187778,
     "end_time": "2022-04-10T02:46:35.109473",
     "exception": false,
     "start_time": "2022-04-10T02:46:32.921695",
     "status": "completed"
    },
    "tags": []
   },
   "outputs": [
    {
     "data": {
      "text/html": [
       "<style type='text/css'>\n",
       ".datatable table.frame { margin-bottom: 0; }\n",
       ".datatable table.frame thead { border-bottom: none; }\n",
       ".datatable table.frame tr.coltypes td {  color: #FFFFFF;  line-height: 6px;  padding: 0 0.5em;}\n",
       ".datatable .bool    { background: #DDDD99; }\n",
       ".datatable .object  { background: #565656; }\n",
       ".datatable .int     { background: #5D9E5D; }\n",
       ".datatable .float   { background: #4040CC; }\n",
       ".datatable .str     { background: #CC4040; }\n",
       ".datatable .time    { background: #40CC40; }\n",
       ".datatable .row_index {  background: var(--jp-border-color3);  border-right: 1px solid var(--jp-border-color0);  color: var(--jp-ui-font-color3);  font-size: 9px;}\n",
       ".datatable .frame tbody td { text-align: left; }\n",
       ".datatable .frame tr.coltypes .row_index {  background: var(--jp-border-color0);}\n",
       ".datatable th:nth-child(2) { padding-left: 12px; }\n",
       ".datatable .hellipsis {  color: var(--jp-cell-editor-border-color);}\n",
       ".datatable .vellipsis {  background: var(--jp-layout-color0);  color: var(--jp-cell-editor-border-color);}\n",
       ".datatable .na {  color: var(--jp-cell-editor-border-color);  font-size: 80%;}\n",
       ".datatable .sp {  opacity: 0.25;}\n",
       ".datatable .footer { font-size: 9px; }\n",
       ".datatable .frame_dimensions {  background: var(--jp-border-color3);  border-top: 1px solid var(--jp-border-color0);  color: var(--jp-ui-font-color3);  display: inline-block;  opacity: 0.6;  padding: 1px 10px 1px 5px;}\n",
       "</style>\n"
      ],
      "text/plain": [
       "<IPython.core.display.HTML object>"
      ]
     },
     "metadata": {},
     "output_type": "display_data"
    }
   ],
   "source": [
    "import numpy as np\n",
    "import pandas as pd\n",
    "\n",
    "import gc\n",
    "import joblib\n",
    "\n",
    "import matplotlib.pyplot as plt\n",
    "%matplotlib inline\n",
    "import seaborn as sns\n",
    "import scipy as stats\n",
    "\n",
    "from sklearn import preprocessing\n",
    "from sklearn.model_selection import StratifiedKFold \n",
    "from sklearn.model_selection import GroupKFold\n",
    "from sklearn.model_selection import train_test_split\n",
    "from sklearn.metrics import mean_squared_error, mean_absolute_error, accuracy_score, confusion_matrix\n",
    "from sklearn.ensemble import RandomForestRegressor\n",
    "\n",
    "import lightgbm as lgbm\n",
    "from lightgbm import *"
   ]
  },
  {
   "cell_type": "markdown",
   "id": "e77b49c8",
   "metadata": {
    "papermill": {
     "duration": 0.023999,
     "end_time": "2022-04-10T02:46:35.163663",
     "exception": false,
     "start_time": "2022-04-10T02:46:35.139664",
     "status": "completed"
    },
    "tags": []
   },
   "source": [
    "# 데이터 불러오기\n",
    "- Step 1 ~ 3에서 진행하고 생성한 train_df.pkl를 read."
   ]
  },
  {
   "cell_type": "code",
   "execution_count": 2,
   "id": "dc4720c3",
   "metadata": {
    "execution": {
     "iopub.execute_input": "2022-04-10T02:46:35.212609Z",
     "iopub.status.busy": "2022-04-10T02:46:35.211719Z",
     "iopub.status.idle": "2022-04-10T02:46:52.119469Z",
     "shell.execute_reply": "2022-04-10T02:46:52.120066Z",
     "shell.execute_reply.started": "2022-04-10T02:43:54.412304Z"
    },
    "papermill": {
     "duration": 16.933791,
     "end_time": "2022-04-10T02:46:52.120297",
     "exception": false,
     "start_time": "2022-04-10T02:46:35.186506",
     "status": "completed"
    },
    "tags": []
   },
   "outputs": [
    {
     "name": "stdout",
     "output_type": "stream",
     "text": [
      "CPU times: user 872 ms, sys: 2.21 s, total: 3.08 s\n",
      "Wall time: 16.9 s\n"
     ]
    },
    {
     "data": {
      "text/html": [
       "<div>\n",
       "<style scoped>\n",
       "    .dataframe tbody tr th:only-of-type {\n",
       "        vertical-align: middle;\n",
       "    }\n",
       "\n",
       "    .dataframe tbody tr th {\n",
       "        vertical-align: top;\n",
       "    }\n",
       "\n",
       "    .dataframe thead th {\n",
       "        text-align: right;\n",
       "    }\n",
       "</style>\n",
       "<table border=\"1\" class=\"dataframe\">\n",
       "  <thead>\n",
       "    <tr style=\"text-align: right;\">\n",
       "      <th></th>\n",
       "      <th>row_id</th>\n",
       "      <th>time_id</th>\n",
       "      <th>investment_id</th>\n",
       "      <th>target</th>\n",
       "      <th>f_0</th>\n",
       "      <th>f_1</th>\n",
       "      <th>f_2</th>\n",
       "      <th>f_3</th>\n",
       "      <th>f_4</th>\n",
       "      <th>f_5</th>\n",
       "      <th>...</th>\n",
       "      <th>f_290</th>\n",
       "      <th>f_291</th>\n",
       "      <th>f_292</th>\n",
       "      <th>f_293</th>\n",
       "      <th>f_294</th>\n",
       "      <th>f_295</th>\n",
       "      <th>f_296</th>\n",
       "      <th>f_297</th>\n",
       "      <th>f_298</th>\n",
       "      <th>f_299</th>\n",
       "    </tr>\n",
       "  </thead>\n",
       "  <tbody>\n",
       "    <tr>\n",
       "      <th>0</th>\n",
       "      <td>0_1</td>\n",
       "      <td>0</td>\n",
       "      <td>1</td>\n",
       "      <td>-0.300781</td>\n",
       "      <td>0.932617</td>\n",
       "      <td>0.113708</td>\n",
       "      <td>-0.402100</td>\n",
       "      <td>0.378418</td>\n",
       "      <td>-0.203979</td>\n",
       "      <td>-0.413574</td>\n",
       "      <td>...</td>\n",
       "      <td>0.365967</td>\n",
       "      <td>-1.095703</td>\n",
       "      <td>0.200073</td>\n",
       "      <td>0.819336</td>\n",
       "      <td>0.941406</td>\n",
       "      <td>-0.086792</td>\n",
       "      <td>-1.086914</td>\n",
       "      <td>-1.044922</td>\n",
       "      <td>-0.287598</td>\n",
       "      <td>0.321533</td>\n",
       "    </tr>\n",
       "    <tr>\n",
       "      <th>1</th>\n",
       "      <td>0_2</td>\n",
       "      <td>0</td>\n",
       "      <td>2</td>\n",
       "      <td>-0.231079</td>\n",
       "      <td>0.811035</td>\n",
       "      <td>-0.514160</td>\n",
       "      <td>0.742188</td>\n",
       "      <td>-0.616699</td>\n",
       "      <td>-0.194214</td>\n",
       "      <td>1.771484</td>\n",
       "      <td>...</td>\n",
       "      <td>-0.154175</td>\n",
       "      <td>0.912598</td>\n",
       "      <td>-0.734375</td>\n",
       "      <td>0.819336</td>\n",
       "      <td>0.941406</td>\n",
       "      <td>-0.387695</td>\n",
       "      <td>-1.086914</td>\n",
       "      <td>-0.929688</td>\n",
       "      <td>-0.974121</td>\n",
       "      <td>-0.343506</td>\n",
       "    </tr>\n",
       "    <tr>\n",
       "      <th>2</th>\n",
       "      <td>0_6</td>\n",
       "      <td>0</td>\n",
       "      <td>6</td>\n",
       "      <td>0.568848</td>\n",
       "      <td>0.394043</td>\n",
       "      <td>0.615723</td>\n",
       "      <td>0.567871</td>\n",
       "      <td>-0.607910</td>\n",
       "      <td>0.068909</td>\n",
       "      <td>-1.083008</td>\n",
       "      <td>...</td>\n",
       "      <td>-0.138062</td>\n",
       "      <td>0.912598</td>\n",
       "      <td>-0.551758</td>\n",
       "      <td>-1.220703</td>\n",
       "      <td>-1.060547</td>\n",
       "      <td>-0.219116</td>\n",
       "      <td>-1.086914</td>\n",
       "      <td>-0.612305</td>\n",
       "      <td>-0.113953</td>\n",
       "      <td>0.243652</td>\n",
       "    </tr>\n",
       "    <tr>\n",
       "      <th>3</th>\n",
       "      <td>0_7</td>\n",
       "      <td>0</td>\n",
       "      <td>7</td>\n",
       "      <td>-1.064453</td>\n",
       "      <td>-2.343750</td>\n",
       "      <td>-0.011871</td>\n",
       "      <td>1.875000</td>\n",
       "      <td>-0.606445</td>\n",
       "      <td>-0.586914</td>\n",
       "      <td>-0.815918</td>\n",
       "      <td>...</td>\n",
       "      <td>0.382080</td>\n",
       "      <td>0.912598</td>\n",
       "      <td>-0.266357</td>\n",
       "      <td>-1.220703</td>\n",
       "      <td>0.941406</td>\n",
       "      <td>-0.608887</td>\n",
       "      <td>0.104919</td>\n",
       "      <td>-0.783203</td>\n",
       "      <td>1.151367</td>\n",
       "      <td>-0.773438</td>\n",
       "    </tr>\n",
       "    <tr>\n",
       "      <th>4</th>\n",
       "      <td>0_8</td>\n",
       "      <td>0</td>\n",
       "      <td>8</td>\n",
       "      <td>-0.531738</td>\n",
       "      <td>0.842285</td>\n",
       "      <td>-0.262939</td>\n",
       "      <td>2.330078</td>\n",
       "      <td>-0.583496</td>\n",
       "      <td>-0.618164</td>\n",
       "      <td>-0.742676</td>\n",
       "      <td>...</td>\n",
       "      <td>-0.170410</td>\n",
       "      <td>0.912598</td>\n",
       "      <td>-0.741211</td>\n",
       "      <td>-1.220703</td>\n",
       "      <td>0.941406</td>\n",
       "      <td>-0.588379</td>\n",
       "      <td>0.104919</td>\n",
       "      <td>0.753418</td>\n",
       "      <td>1.345703</td>\n",
       "      <td>-0.737793</td>\n",
       "    </tr>\n",
       "  </tbody>\n",
       "</table>\n",
       "<p>5 rows × 304 columns</p>\n",
       "</div>"
      ],
      "text/plain": [
       "  row_id  time_id  investment_id    target       f_0       f_1       f_2  \\\n",
       "0    0_1        0              1 -0.300781  0.932617  0.113708 -0.402100   \n",
       "1    0_2        0              2 -0.231079  0.811035 -0.514160  0.742188   \n",
       "2    0_6        0              6  0.568848  0.394043  0.615723  0.567871   \n",
       "3    0_7        0              7 -1.064453 -2.343750 -0.011871  1.875000   \n",
       "4    0_8        0              8 -0.531738  0.842285 -0.262939  2.330078   \n",
       "\n",
       "        f_3       f_4       f_5  ...     f_290     f_291     f_292     f_293  \\\n",
       "0  0.378418 -0.203979 -0.413574  ...  0.365967 -1.095703  0.200073  0.819336   \n",
       "1 -0.616699 -0.194214  1.771484  ... -0.154175  0.912598 -0.734375  0.819336   \n",
       "2 -0.607910  0.068909 -1.083008  ... -0.138062  0.912598 -0.551758 -1.220703   \n",
       "3 -0.606445 -0.586914 -0.815918  ...  0.382080  0.912598 -0.266357 -1.220703   \n",
       "4 -0.583496 -0.618164 -0.742676  ... -0.170410  0.912598 -0.741211 -1.220703   \n",
       "\n",
       "      f_294     f_295     f_296     f_297     f_298     f_299  \n",
       "0  0.941406 -0.086792 -1.086914 -1.044922 -0.287598  0.321533  \n",
       "1  0.941406 -0.387695 -1.086914 -0.929688 -0.974121 -0.343506  \n",
       "2 -1.060547 -0.219116 -1.086914 -0.612305 -0.113953  0.243652  \n",
       "3  0.941406 -0.608887  0.104919 -0.783203  1.151367 -0.773438  \n",
       "4  0.941406 -0.588379  0.104919  0.753418  1.345703 -0.737793  \n",
       "\n",
       "[5 rows x 304 columns]"
      ]
     },
     "execution_count": 2,
     "metadata": {},
     "output_type": "execute_result"
    }
   ],
   "source": [
    "%%time\n",
    "train_df = pd.read_pickle('../input/ubiquant-train-df-low-memory-pkl/train_df.pkl')\n",
    "train_df.head()"
   ]
  },
  {
   "cell_type": "markdown",
   "id": "41ba43f8",
   "metadata": {
    "papermill": {
     "duration": 0.023527,
     "end_time": "2022-04-10T02:46:52.168332",
     "exception": false,
     "start_time": "2022-04-10T02:46:52.144805",
     "status": "completed"
    },
    "tags": []
   },
   "source": [
    "# Step 4. 데이터 전처리"
   ]
  },
  {
   "cell_type": "markdown",
   "id": "e35e8b5b",
   "metadata": {
    "papermill": {
     "duration": 0.023231,
     "end_time": "2022-04-10T02:46:52.215150",
     "exception": false,
     "start_time": "2022-04-10T02:46:52.191919",
     "status": "completed"
    },
    "tags": []
   },
   "source": [
    "## 필요없는 컬럼 제거\n",
    "- row_id는 단순 행 번호를 나타내므로 제거.\n",
    "- 컬럼 리스트를 따로 생성하고 'row_id' 제거.\n",
    "- 'time_id' 제거\n",
    "- 종속변수인 'target' 제거.\n",
    "- 필요없는 컬럼이 생성된 리스트를 통해 필요한 컬럼들만 추출하여 사용."
   ]
  },
  {
   "cell_type": "code",
   "execution_count": 3,
   "id": "6bdf203b",
   "metadata": {
    "execution": {
     "iopub.execute_input": "2022-04-10T02:46:52.272412Z",
     "iopub.status.busy": "2022-04-10T02:46:52.271652Z",
     "iopub.status.idle": "2022-04-10T02:46:52.275146Z",
     "shell.execute_reply": "2022-04-10T02:46:52.274690Z",
     "shell.execute_reply.started": "2022-04-10T02:44:10.789400Z"
    },
    "papermill": {
     "duration": 0.036458,
     "end_time": "2022-04-10T02:46:52.275271",
     "exception": false,
     "start_time": "2022-04-10T02:46:52.238813",
     "status": "completed"
    },
    "tags": []
   },
   "outputs": [
    {
     "data": {
      "text/plain": [
       "Index(['investment_id', 'f_0', 'f_1', 'f_2', 'f_3', 'f_4', 'f_5', 'f_6', 'f_7',\n",
       "       'f_8',\n",
       "       ...\n",
       "       'f_290', 'f_291', 'f_292', 'f_293', 'f_294', 'f_295', 'f_296', 'f_297',\n",
       "       'f_298', 'f_299'],\n",
       "      dtype='object', length=301)"
      ]
     },
     "execution_count": 3,
     "metadata": {},
     "output_type": "execute_result"
    }
   ],
   "source": [
    "feature_cols = train_df.columns.unique()\n",
    "feature_cols = feature_cols.drop(['row_id', 'target', 'time_id'])\n",
    "feature_cols"
   ]
  },
  {
   "cell_type": "markdown",
   "id": "d0758180",
   "metadata": {
    "papermill": {
     "duration": 0.023784,
     "end_time": "2022-04-10T02:46:52.323040",
     "exception": false,
     "start_time": "2022-04-10T02:46:52.299256",
     "status": "completed"
    },
    "tags": []
   },
   "source": [
    "## 결측치 제거\n",
    "- dataset 내에 결측치가 존재하지 않음."
   ]
  },
  {
   "cell_type": "markdown",
   "id": "5a7882d9",
   "metadata": {
    "papermill": {
     "duration": 0.023669,
     "end_time": "2022-04-10T02:46:52.371010",
     "exception": false,
     "start_time": "2022-04-10T02:46:52.347341",
     "status": "completed"
    },
    "tags": []
   },
   "source": [
    "## 이상치 제거\n",
    "- 평균에서 멀리 떨어져 있는 값들을 제거 (> std*num)"
   ]
  },
  {
   "cell_type": "markdown",
   "id": "795e4208",
   "metadata": {
    "papermill": {
     "duration": 0.023925,
     "end_time": "2022-04-10T02:46:52.419588",
     "exception": false,
     "start_time": "2022-04-10T02:46:52.395663",
     "status": "completed"
    },
    "tags": []
   },
   "source": [
    "## mean > std * x\n",
    "- 이상치의 개수와 리스트를 반환\n",
    "|x|outlier count|\n",
    "|:---:|:---:|\n",
    "|70|128|\n",
    "|60|325|\n",
    "|50|788|"
   ]
  },
  {
   "cell_type": "code",
   "execution_count": 4,
   "id": "eb65c494",
   "metadata": {
    "execution": {
     "iopub.execute_input": "2022-04-10T02:46:52.476525Z",
     "iopub.status.busy": "2022-04-10T02:46:52.475212Z",
     "iopub.status.idle": "2022-04-10T02:47:13.989367Z",
     "shell.execute_reply": "2022-04-10T02:47:13.988673Z",
     "shell.execute_reply.started": "2022-04-10T02:44:10.801869Z"
    },
    "papermill": {
     "duration": 21.545733,
     "end_time": "2022-04-10T02:47:13.989503",
     "exception": false,
     "start_time": "2022-04-10T02:46:52.443770",
     "status": "completed"
    },
    "tags": []
   },
   "outputs": [
    {
     "name": "stdout",
     "output_type": "stream",
     "text": [
      "f_4 139\n",
      "f_10 34\n",
      "f_13 7\n",
      "f_23 7\n",
      "f_38 5\n",
      "f_40 18\n",
      "f_49 12\n",
      "f_54 2\n",
      "f_64 5\n",
      "f_74 78\n",
      "f_78 44\n",
      "f_83 10\n",
      "f_84 14\n",
      "f_95 12\n",
      "f_101 4\n",
      "f_102 2\n",
      "f_104 1\n",
      "f_115 81\n",
      "f_117 66\n",
      "f_124 23\n",
      "f_127 81\n",
      "f_128 1\n",
      "f_131 48\n",
      "f_136 1\n",
      "f_151 35\n",
      "f_153 1\n",
      "f_155 21\n",
      "f_162 6\n",
      "f_165 1\n",
      "f_172 41\n",
      "f_175 32\n",
      "f_183 75\n",
      "f_188 1\n",
      "f_193 24\n",
      "f_197 1\n",
      "f_200 118\n",
      "f_214 1\n",
      "f_215 1\n",
      "f_224 14\n",
      "f_228 6\n",
      "f_236 10\n",
      "f_245 3\n",
      "f_249 1\n",
      "f_251 1\n",
      "f_262 4\n",
      "f_269 16\n",
      "f_271 15\n",
      "f_277 1\n",
      "f_280 17\n",
      "f_286 9\n",
      "f_289 79\n",
      "f_295 1\n",
      "788\n"
     ]
    },
    {
     "data": {
      "text/plain": [
       "0"
      ]
     },
     "execution_count": 4,
     "metadata": {},
     "output_type": "execute_result"
    }
   ],
   "source": [
    "outlier_list = []\n",
    "num = 50\n",
    "\n",
    "for col in feature_cols :\n",
    "    trans_dtype_df = train_df[col].astype(np.float32)\n",
    "    \n",
    "    temp_df = train_df[(trans_dtype_df > trans_dtype_df.mean() + trans_dtype_df.std() * num) |\n",
    "                       (trans_dtype_df < trans_dtype_df.mean() - trans_dtype_df.std() * num) ]\n",
    "    if len(temp_df) >0 :\n",
    "        outliers = temp_df.index.to_list()\n",
    "        outlier_list.extend(outliers)\n",
    "        print(col, len(temp_df))\n",
    "        gc.collect()\n",
    "\n",
    "outlier_list = list(set(outlier_list))\n",
    "print(len(outlier_list))\n",
    "gc.collect()"
   ]
  },
  {
   "cell_type": "markdown",
   "id": "4bb722d5",
   "metadata": {
    "papermill": {
     "duration": 0.034061,
     "end_time": "2022-04-10T02:47:14.058892",
     "exception": false,
     "start_time": "2022-04-10T02:47:14.024831",
     "status": "completed"
    },
    "tags": []
   },
   "source": [
    "- 이상치 제거"
   ]
  },
  {
   "cell_type": "code",
   "execution_count": 5,
   "id": "32abb297",
   "metadata": {
    "execution": {
     "iopub.execute_input": "2022-04-10T02:47:14.130127Z",
     "iopub.status.busy": "2022-04-10T02:47:14.129578Z",
     "iopub.status.idle": "2022-04-10T02:47:24.985482Z",
     "shell.execute_reply": "2022-04-10T02:47:24.986022Z",
     "shell.execute_reply.started": "2022-04-10T02:44:32.142035Z"
    },
    "papermill": {
     "duration": 10.893515,
     "end_time": "2022-04-10T02:47:24.986424",
     "exception": false,
     "start_time": "2022-04-10T02:47:14.092909",
     "status": "completed"
    },
    "tags": []
   },
   "outputs": [
    {
     "data": {
      "text/plain": [
       "21"
      ]
     },
     "execution_count": 5,
     "metadata": {},
     "output_type": "execute_result"
    }
   ],
   "source": [
    "train_df.drop(train_df.index[outlier_list], inplace = True)\n",
    "train_df\n",
    "gc.collect()"
   ]
  },
  {
   "cell_type": "markdown",
   "id": "026fed6b",
   "metadata": {
    "papermill": {
     "duration": 0.03388,
     "end_time": "2022-04-10T02:47:25.056481",
     "exception": false,
     "start_time": "2022-04-10T02:47:25.022601",
     "status": "completed"
    },
    "tags": []
   },
   "source": [
    "# Step 5. 머신러닝 모형 개발"
   ]
  },
  {
   "cell_type": "markdown",
   "id": "fe39afe1",
   "metadata": {
    "papermill": {
     "duration": 0.033582,
     "end_time": "2022-04-10T02:47:25.124319",
     "exception": false,
     "start_time": "2022-04-10T02:47:25.090737",
     "status": "completed"
    },
    "tags": []
   },
   "source": [
    "- 독립변수와 종속변수를 구분."
   ]
  },
  {
   "cell_type": "code",
   "execution_count": 6,
   "id": "efd7cd84",
   "metadata": {
    "execution": {
     "iopub.execute_input": "2022-04-10T02:47:25.196912Z",
     "iopub.status.busy": "2022-04-10T02:47:25.195960Z",
     "iopub.status.idle": "2022-04-10T02:47:25.198521Z",
     "shell.execute_reply": "2022-04-10T02:47:25.198059Z",
     "shell.execute_reply.started": "2022-04-10T02:44:40.518286Z"
    },
    "papermill": {
     "duration": 0.04039,
     "end_time": "2022-04-10T02:47:25.198655",
     "exception": false,
     "start_time": "2022-04-10T02:47:25.158265",
     "status": "completed"
    },
    "tags": []
   },
   "outputs": [],
   "source": [
    "#X = train_df[feature_cols]\n",
    "#y = train_df['target']"
   ]
  },
  {
   "cell_type": "markdown",
   "id": "a767a9d8",
   "metadata": {
    "papermill": {
     "duration": 0.035074,
     "end_time": "2022-04-10T02:47:25.268593",
     "exception": false,
     "start_time": "2022-04-10T02:47:25.233519",
     "status": "completed"
    },
    "tags": []
   },
   "source": [
    "- X, y 데이터 분리"
   ]
  },
  {
   "cell_type": "code",
   "execution_count": 7,
   "id": "21cc82c6",
   "metadata": {
    "execution": {
     "iopub.execute_input": "2022-04-10T02:47:25.343171Z",
     "iopub.status.busy": "2022-04-10T02:47:25.342217Z",
     "iopub.status.idle": "2022-04-10T02:47:25.345728Z",
     "shell.execute_reply": "2022-04-10T02:47:25.346319Z",
     "shell.execute_reply.started": "2022-04-10T02:44:40.522763Z"
    },
    "papermill": {
     "duration": 0.04258,
     "end_time": "2022-04-10T02:47:25.346483",
     "exception": false,
     "start_time": "2022-04-10T02:47:25.303903",
     "status": "completed"
    },
    "tags": []
   },
   "outputs": [],
   "source": [
    "#X_train, X_valid, y_train, y_valid = train_test_split(X, y, test_size = 0.3, random_state = 42, shuffle = False)\n",
    "#X_train.shape, X_valid.shape, y_train.shape, y_valid.shape"
   ]
  },
  {
   "cell_type": "markdown",
   "id": "3cfcbe0a",
   "metadata": {
    "papermill": {
     "duration": 0.034899,
     "end_time": "2022-04-10T02:47:25.416124",
     "exception": false,
     "start_time": "2022-04-10T02:47:25.381225",
     "status": "completed"
    },
    "tags": []
   },
   "source": [
    "- RAM 확보를 위해 X, y 제거"
   ]
  },
  {
   "cell_type": "code",
   "execution_count": 8,
   "id": "241ff075",
   "metadata": {
    "execution": {
     "iopub.execute_input": "2022-04-10T02:47:25.490309Z",
     "iopub.status.busy": "2022-04-10T02:47:25.489362Z",
     "iopub.status.idle": "2022-04-10T02:47:25.494632Z",
     "shell.execute_reply": "2022-04-10T02:47:25.495183Z",
     "shell.execute_reply.started": "2022-04-10T02:44:40.532230Z"
    },
    "papermill": {
     "duration": 0.044096,
     "end_time": "2022-04-10T02:47:25.495365",
     "exception": false,
     "start_time": "2022-04-10T02:47:25.451269",
     "status": "completed"
    },
    "tags": []
   },
   "outputs": [
    {
     "data": {
      "text/plain": [
       "'\\ndel X\\ndel y\\ngc.collect()\\n'"
      ]
     },
     "execution_count": 8,
     "metadata": {},
     "output_type": "execute_result"
    }
   ],
   "source": [
    "'''\n",
    "del X\n",
    "del y\n",
    "gc.collect()\n",
    "'''"
   ]
  },
  {
   "cell_type": "markdown",
   "id": "991e438a",
   "metadata": {
    "papermill": {
     "duration": 0.035121,
     "end_time": "2022-04-10T02:47:25.566808",
     "exception": false,
     "start_time": "2022-04-10T02:47:25.531687",
     "status": "completed"
    },
    "tags": []
   },
   "source": [
    "- LightGBM 클래스를 부른 후 모형을 학습"
   ]
  },
  {
   "cell_type": "code",
   "execution_count": 9,
   "id": "31f71482",
   "metadata": {
    "execution": {
     "iopub.execute_input": "2022-04-10T02:47:25.640075Z",
     "iopub.status.busy": "2022-04-10T02:47:25.639195Z",
     "iopub.status.idle": "2022-04-10T02:47:25.643893Z",
     "shell.execute_reply": "2022-04-10T02:47:25.644391Z",
     "shell.execute_reply.started": "2022-04-10T02:44:40.543526Z"
    },
    "papermill": {
     "duration": 0.043072,
     "end_time": "2022-04-10T02:47:25.644546",
     "exception": false,
     "start_time": "2022-04-10T02:47:25.601474",
     "status": "completed"
    },
    "tags": []
   },
   "outputs": [
    {
     "data": {
      "text/plain": [
       "'\\nmodel = lgbm.LGBMRegressor(\\n        objective=\"regression\",\\n        metric=\"rmse\",\\n        n_estimators=500 )\\n\\nmodel.fit(X_train, y_train)\\n'"
      ]
     },
     "execution_count": 9,
     "metadata": {},
     "output_type": "execute_result"
    }
   ],
   "source": [
    "'''\n",
    "model = lgbm.LGBMRegressor(\n",
    "        objective=\"regression\",\n",
    "        metric=\"rmse\",\n",
    "        n_estimators=500 )\n",
    "\n",
    "model.fit(X_train, y_train)\n",
    "'''"
   ]
  },
  {
   "cell_type": "code",
   "execution_count": 10,
   "id": "5d0a572b",
   "metadata": {
    "execution": {
     "iopub.execute_input": "2022-04-10T02:47:25.716959Z",
     "iopub.status.busy": "2022-04-10T02:47:25.716054Z",
     "iopub.status.idle": "2022-04-10T02:47:25.721663Z",
     "shell.execute_reply": "2022-04-10T02:47:25.722171Z",
     "shell.execute_reply.started": "2022-04-10T02:44:40.553775Z"
    },
    "papermill": {
     "duration": 0.043394,
     "end_time": "2022-04-10T02:47:25.722358",
     "exception": false,
     "start_time": "2022-04-10T02:47:25.678964",
     "status": "completed"
    },
    "tags": []
   },
   "outputs": [
    {
     "data": {
      "text/plain": [
       "'\\nfor j in [200, 300, 400, 500, 600]:\\n        model = lgbm.LGBMRegressor(\\n            objective=\"regression\",\\n            metric=\"rmse\",\\n            n_estimators= j )\\n\\n        model.fit(X_train, y_train)\\n\\n        score = model.score(X_train, y_train)\\n        print(f\"n_e:{j}, Training Score : {score}\")\\n\\n        y_pred = model.predict(X_valid)\\n        mse = mean_squared_error(y_valid, y_pred)\\n        print(f\"n_e:{j},MSE : {mse:.2f}\")\\n'"
      ]
     },
     "execution_count": 10,
     "metadata": {},
     "output_type": "execute_result"
    }
   ],
   "source": [
    "\"\"\"\n",
    "for j in [200, 300, 400, 500, 600]:\n",
    "        model = lgbm.LGBMRegressor(\n",
    "            objective=\"regression\",\n",
    "            metric=\"rmse\",\n",
    "            n_estimators= j )\n",
    "\n",
    "        model.fit(X_train, y_train)\n",
    "\n",
    "        score = model.score(X_train, y_train)\n",
    "        print(f\"n_e:{j}, Training Score : {score}\")\n",
    "\n",
    "        y_pred = model.predict(X_valid)\n",
    "        mse = mean_squared_error(y_valid, y_pred)\n",
    "        print(f\"n_e:{j},MSE : {mse:.2f}\")\n",
    "\"\"\""
   ]
  },
  {
   "cell_type": "markdown",
   "id": "084b42af",
   "metadata": {
    "papermill": {
     "duration": 0.035466,
     "end_time": "2022-04-10T02:47:25.792511",
     "exception": false,
     "start_time": "2022-04-10T02:47:25.757045",
     "status": "completed"
    },
    "tags": []
   },
   "source": [
    "### Training_Score & MSE 계산\n",
    "|test_size|n_estimators|delete outliers|Training_Score|MSE|delete outliers|Training_Score|MSE|delete outliers|Training_Score|MSE|   \n",
    "|:---:|:---:|:---:|:---:|:---:|:---:|:---:|:---:|:---:|:---:|:---:|                              \n",
    "|0.2|200|X|0.054069993842590924|0.81|>std\\*70|0.05405621833673957(<span style=\"color:blue\">$\\downarrow$</span>)|0.81|>std\\*60|0.05404028505271219(<span style=\"color:blue\">$\\downarrow$</span>)|0.81|\n",
    "|0.3|200|X|0.05846368663812751|0.83|>std\\*70|0.058449805435160984(<span style=\"color:blue\">$\\downarrow$</span>)|0.82|>std\\*60|||\n",
    "|0.2|300|X|0.06668339494814646|0.82|>std\\*70|0.06660813482520711(<span style=\"color:blue\">$\\downarrow$</span>)|0.81|>std\\*60|0.06678748573971982(<span style=\"color:red\">$\\uparrow$</span>)|0.81|\n",
    "|0.3|300|X|0.07216780004832235|0.83|>std\\*70|0.07194148416323642(<span style=\"color:blue\">$\\downarrow$</span>)|0.83|>std\\*60|||\n",
    "|0.2|400|X|0.07730909212135473|0.82|>std\\*70|0.0772426438888425(<span style=\"color:blue\">$\\downarrow$</span>)|0.82|>std\\*60|0.07730612556862904(<span style=\"color:red\">$\\uparrow$</span>)|0.82|\n",
    "|0.3|400|X|0.08363594720433998|0.83|>std\\*70|0.08389302333398285(<span style=\"color:red\">$\\uparrow$</span>)|0.83|>std\\*60|||\n",
    "|0.2|500|X|0.08671736858043233|0.82|>std\\*70|0.08636877075690108(<span style=\"color:blue\">$\\downarrow$</span>)|0.82|>std\\*60|0.08657127960859345(<span style=\"color:red\">$\\uparrow$</span>)|0.82|\n",
    "|0.3|500|X|0.09377199406580616|0.83|>std\\*70|0.0941912571685275(<span style=\"color:red\">$\\uparrow$</span>)|0.83|>std\\*60|||\n",
    "|0.2|600|X|0.09585158203024369|0.82|>std\\*70|0.09531511104149593(<span style=\"color:blue\">$\\downarrow$</span>)|0.82|>std\\*60|0.09508766558702908(<span style=\"color:blue\">$\\downarrow$</span>)|0.82|\n",
    "|0.3|600|X|0.10299723306322961|0.83|>std\\*70|0.10381084559412301(<span style=\"color:red\">$\\uparrow$</span>)|0.83|>std\\*60|||\n",
    "|0.2|700|X|0.10387433272279445|0.82|>std\\*70|0.10403926054146928(<span style=\"color:blue\">$\\downarrow$</span>)|0.82|>std\\*60|X|X|"
   ]
  },
  {
   "cell_type": "markdown",
   "id": "2e041198",
   "metadata": {
    "papermill": {
     "duration": 0.035705,
     "end_time": "2022-04-10T02:47:25.863569",
     "exception": false,
     "start_time": "2022-04-10T02:47:25.827864",
     "status": "completed"
    },
    "tags": []
   },
   "source": [
    "- 이상치를 제거해도 전반적으로 training score가 항상 오르지 않는다.\n",
    "- 오히려 떨어지는 것으로 보임"
   ]
  },
  {
   "cell_type": "markdown",
   "id": "6de0a39a",
   "metadata": {
    "papermill": {
     "duration": 0.034888,
     "end_time": "2022-04-10T02:47:25.934801",
     "exception": false,
     "start_time": "2022-04-10T02:47:25.899913",
     "status": "completed"
    },
    "tags": []
   },
   "source": [
    "- trianing score, MSE 계산"
   ]
  },
  {
   "cell_type": "code",
   "execution_count": 11,
   "id": "e65035dc",
   "metadata": {
    "execution": {
     "iopub.execute_input": "2022-04-10T02:47:26.010555Z",
     "iopub.status.busy": "2022-04-10T02:47:26.009641Z",
     "iopub.status.idle": "2022-04-10T02:47:26.014462Z",
     "shell.execute_reply": "2022-04-10T02:47:26.014976Z",
     "shell.execute_reply.started": "2022-04-10T02:44:40.564705Z"
    },
    "papermill": {
     "duration": 0.045335,
     "end_time": "2022-04-10T02:47:26.015123",
     "exception": false,
     "start_time": "2022-04-10T02:47:25.969788",
     "status": "completed"
    },
    "tags": []
   },
   "outputs": [
    {
     "data": {
      "text/plain": [
       "'\\nscore = model.score(X_train, y_train)\\nprint(f\"Training Score : {score}\")\\n\\ny_pred = model.predict(X_valid)\\nmse = mean_squared_error(y_valid, y_pred)\\nprint(f\"MSE : {mse:.2f}\")\\n'"
      ]
     },
     "execution_count": 11,
     "metadata": {},
     "output_type": "execute_result"
    }
   ],
   "source": [
    "'''\n",
    "score = model.score(X_train, y_train)\n",
    "print(f\"Training Score : {score}\")\n",
    "\n",
    "y_pred = model.predict(X_valid)\n",
    "mse = mean_squared_error(y_valid, y_pred)\n",
    "print(f\"MSE : {mse:.2f}\")\n",
    "'''\n"
   ]
  },
  {
   "cell_type": "markdown",
   "id": "804fe7be",
   "metadata": {
    "papermill": {
     "duration": 0.035972,
     "end_time": "2022-04-10T02:47:26.087130",
     "exception": false,
     "start_time": "2022-04-10T02:47:26.051158",
     "status": "completed"
    },
    "tags": []
   },
   "source": [
    "- LightGBM의 세부 파라미터 적용\n",
    "    - 참고 자료를 조사하여 적용"
   ]
  },
  {
   "cell_type": "code",
   "execution_count": 12,
   "id": "575b2830",
   "metadata": {
    "execution": {
     "iopub.execute_input": "2022-04-10T02:47:26.279255Z",
     "iopub.status.busy": "2022-04-10T02:47:26.278304Z",
     "iopub.status.idle": "2022-04-10T02:47:26.284002Z",
     "shell.execute_reply": "2022-04-10T02:47:26.283323Z",
     "shell.execute_reply.started": "2022-04-10T02:44:40.577710Z"
    },
    "papermill": {
     "duration": 0.161772,
     "end_time": "2022-04-10T02:47:26.284134",
     "exception": false,
     "start_time": "2022-04-10T02:47:26.122362",
     "status": "completed"
    },
    "tags": []
   },
   "outputs": [
    {
     "data": {
      "text/plain": [
       "147"
      ]
     },
     "execution_count": 12,
     "metadata": {},
     "output_type": "execute_result"
    }
   ],
   "source": [
    "#https://www.kaggle.com/valleyzw/ubiquant-lgbm-baseline\n",
    "params = {\n",
    "        'learning_rate':0.1,\n",
    "        \"objective\": \"regression\",\n",
    "        \"metric\": \"rmse\",\n",
    "        'boosting_type': \"gbdt\",\n",
    "        'verbosity': -1,\n",
    "        'n_jobs': -1, \n",
    "        'seed': 21,\n",
    "        'lambda_l1': 1.1895057699067542, \n",
    "        'lambda_l2': 1.9079686837880768e-08, \n",
    "        'num_leaves': 112, \n",
    "        'subsample':None,\n",
    "        'feature_fraction': 0.6259927292757151, \n",
    "        'bagging_fraction': 0.9782210574588895, \n",
    "        'bagging_freq': 1, \n",
    "        'n_estimators': 306, \n",
    "        'max_depth': 12, \n",
    "        'max_bin': 494, \n",
    "        'min_data_in_leaf': 366,\n",
    "        'colsample_bytree': None,\n",
    "        'subsample_freq': None,\n",
    "        'min_child_samples': None,\n",
    "        'reg_lambda': None,\n",
    "        'reg_alpha': None,\n",
    "    }\n",
    "gc.collect()"
   ]
  },
  {
   "cell_type": "markdown",
   "id": "42d8dd66",
   "metadata": {
    "papermill": {
     "duration": 0.035596,
     "end_time": "2022-04-10T02:47:26.355413",
     "exception": false,
     "start_time": "2022-04-10T02:47:26.319817",
     "status": "completed"
    },
    "tags": []
   },
   "source": [
    "- StratifiedkFold를 통한 교차 검증을 통해 훈련 "
   ]
  },
  {
   "cell_type": "code",
   "execution_count": 13,
   "id": "d7f89e38",
   "metadata": {
    "execution": {
     "iopub.execute_input": "2022-04-10T02:47:26.434031Z",
     "iopub.status.busy": "2022-04-10T02:47:26.429568Z",
     "iopub.status.idle": "2022-04-10T03:11:26.752327Z",
     "shell.execute_reply": "2022-04-10T03:11:26.752790Z"
    },
    "papermill": {
     "duration": 1440.361699,
     "end_time": "2022-04-10T03:11:26.753071",
     "exception": false,
     "start_time": "2022-04-10T02:47:26.391372",
     "status": "completed"
    },
    "tags": []
   },
   "outputs": [
    {
     "name": "stderr",
     "output_type": "stream",
     "text": [
      "/opt/conda/lib/python3.7/site-packages/sklearn/model_selection/_split.py:680: UserWarning: The least populated class in y has only 2 members, which is less than n_splits=3.\n",
      "  UserWarning,\n"
     ]
    },
    {
     "name": "stdout",
     "output_type": "stream",
     "text": [
      "[1]\tvalid_0's rmse: 0.919302\n",
      "[2]\tvalid_0's rmse: 0.918472\n",
      "[3]\tvalid_0's rmse: 0.917727\n",
      "[4]\tvalid_0's rmse: 0.917066\n",
      "[5]\tvalid_0's rmse: 0.916452\n",
      "[6]\tvalid_0's rmse: 0.915918\n",
      "[7]\tvalid_0's rmse: 0.915431\n",
      "[8]\tvalid_0's rmse: 0.915026\n",
      "[9]\tvalid_0's rmse: 0.91463\n",
      "[10]\tvalid_0's rmse: 0.914298\n",
      "[11]\tvalid_0's rmse: 0.914013\n",
      "[12]\tvalid_0's rmse: 0.913759\n",
      "[13]\tvalid_0's rmse: 0.9135\n",
      "[14]\tvalid_0's rmse: 0.913283\n",
      "[15]\tvalid_0's rmse: 0.91303\n",
      "[16]\tvalid_0's rmse: 0.912792\n",
      "[17]\tvalid_0's rmse: 0.912613\n",
      "[18]\tvalid_0's rmse: 0.912416\n",
      "[19]\tvalid_0's rmse: 0.91221\n",
      "[20]\tvalid_0's rmse: 0.911994\n",
      "[21]\tvalid_0's rmse: 0.911824\n",
      "[22]\tvalid_0's rmse: 0.911672\n",
      "[23]\tvalid_0's rmse: 0.911521\n",
      "[24]\tvalid_0's rmse: 0.911343\n",
      "[25]\tvalid_0's rmse: 0.911204\n",
      "[26]\tvalid_0's rmse: 0.911\n",
      "[27]\tvalid_0's rmse: 0.910862\n",
      "[28]\tvalid_0's rmse: 0.910686\n",
      "[29]\tvalid_0's rmse: 0.910522\n",
      "[30]\tvalid_0's rmse: 0.91039\n",
      "[31]\tvalid_0's rmse: 0.910212\n",
      "[32]\tvalid_0's rmse: 0.910057\n",
      "[33]\tvalid_0's rmse: 0.909924\n",
      "[34]\tvalid_0's rmse: 0.909793\n",
      "[35]\tvalid_0's rmse: 0.909666\n",
      "[36]\tvalid_0's rmse: 0.909518\n",
      "[37]\tvalid_0's rmse: 0.909344\n",
      "[38]\tvalid_0's rmse: 0.909209\n",
      "[39]\tvalid_0's rmse: 0.909051\n",
      "[40]\tvalid_0's rmse: 0.908969\n",
      "[41]\tvalid_0's rmse: 0.90886\n",
      "[42]\tvalid_0's rmse: 0.908721\n",
      "[43]\tvalid_0's rmse: 0.908572\n",
      "[44]\tvalid_0's rmse: 0.908479\n",
      "[45]\tvalid_0's rmse: 0.908346\n",
      "[46]\tvalid_0's rmse: 0.908254\n",
      "[47]\tvalid_0's rmse: 0.908123\n",
      "[48]\tvalid_0's rmse: 0.908016\n",
      "[49]\tvalid_0's rmse: 0.907926\n",
      "[50]\tvalid_0's rmse: 0.907738\n",
      "[51]\tvalid_0's rmse: 0.907672\n",
      "[52]\tvalid_0's rmse: 0.907559\n",
      "[53]\tvalid_0's rmse: 0.907491\n",
      "[54]\tvalid_0's rmse: 0.9074\n",
      "[55]\tvalid_0's rmse: 0.907267\n",
      "[56]\tvalid_0's rmse: 0.907192\n",
      "[57]\tvalid_0's rmse: 0.907076\n",
      "[58]\tvalid_0's rmse: 0.906949\n",
      "[59]\tvalid_0's rmse: 0.906845\n",
      "[60]\tvalid_0's rmse: 0.906793\n",
      "[61]\tvalid_0's rmse: 0.906665\n",
      "[62]\tvalid_0's rmse: 0.906591\n",
      "[63]\tvalid_0's rmse: 0.906503\n",
      "[64]\tvalid_0's rmse: 0.906362\n",
      "[65]\tvalid_0's rmse: 0.906287\n",
      "[66]\tvalid_0's rmse: 0.906106\n",
      "[67]\tvalid_0's rmse: 0.906038\n",
      "[68]\tvalid_0's rmse: 0.905968\n",
      "[69]\tvalid_0's rmse: 0.905904\n",
      "[70]\tvalid_0's rmse: 0.905861\n",
      "[71]\tvalid_0's rmse: 0.905786\n",
      "[72]\tvalid_0's rmse: 0.905711\n",
      "[73]\tvalid_0's rmse: 0.905636\n",
      "[74]\tvalid_0's rmse: 0.905553\n",
      "[75]\tvalid_0's rmse: 0.905503\n",
      "[76]\tvalid_0's rmse: 0.905387\n",
      "[77]\tvalid_0's rmse: 0.905339\n",
      "[78]\tvalid_0's rmse: 0.905283\n",
      "[79]\tvalid_0's rmse: 0.905187\n",
      "[80]\tvalid_0's rmse: 0.905128\n",
      "[81]\tvalid_0's rmse: 0.905055\n",
      "[82]\tvalid_0's rmse: 0.904997\n",
      "[83]\tvalid_0's rmse: 0.904929\n",
      "[84]\tvalid_0's rmse: 0.904806\n",
      "[85]\tvalid_0's rmse: 0.904745\n",
      "[86]\tvalid_0's rmse: 0.904685\n",
      "[87]\tvalid_0's rmse: 0.904554\n",
      "[88]\tvalid_0's rmse: 0.904507\n",
      "[89]\tvalid_0's rmse: 0.904458\n",
      "[90]\tvalid_0's rmse: 0.904318\n",
      "[91]\tvalid_0's rmse: 0.904279\n",
      "[92]\tvalid_0's rmse: 0.904225\n",
      "[93]\tvalid_0's rmse: 0.904139\n",
      "[94]\tvalid_0's rmse: 0.904078\n",
      "[95]\tvalid_0's rmse: 0.904035\n",
      "[96]\tvalid_0's rmse: 0.903967\n",
      "[97]\tvalid_0's rmse: 0.903909\n",
      "[98]\tvalid_0's rmse: 0.90386\n",
      "[99]\tvalid_0's rmse: 0.903788\n",
      "[100]\tvalid_0's rmse: 0.903711\n",
      "[101]\tvalid_0's rmse: 0.903624\n",
      "[102]\tvalid_0's rmse: 0.903524\n",
      "[103]\tvalid_0's rmse: 0.90347\n",
      "[104]\tvalid_0's rmse: 0.903431\n",
      "[105]\tvalid_0's rmse: 0.903351\n",
      "[106]\tvalid_0's rmse: 0.903317\n",
      "[107]\tvalid_0's rmse: 0.903256\n",
      "[108]\tvalid_0's rmse: 0.903193\n",
      "[109]\tvalid_0's rmse: 0.903134\n",
      "[110]\tvalid_0's rmse: 0.903065\n",
      "[111]\tvalid_0's rmse: 0.903039\n",
      "[112]\tvalid_0's rmse: 0.90299\n",
      "[113]\tvalid_0's rmse: 0.90294\n",
      "[114]\tvalid_0's rmse: 0.902798\n",
      "[115]\tvalid_0's rmse: 0.902724\n",
      "[116]\tvalid_0's rmse: 0.902703\n",
      "[117]\tvalid_0's rmse: 0.902664\n",
      "[118]\tvalid_0's rmse: 0.902642\n",
      "[119]\tvalid_0's rmse: 0.902586\n",
      "[120]\tvalid_0's rmse: 0.902563\n",
      "[121]\tvalid_0's rmse: 0.902543\n",
      "[122]\tvalid_0's rmse: 0.902523\n",
      "[123]\tvalid_0's rmse: 0.90248\n",
      "[124]\tvalid_0's rmse: 0.902452\n",
      "[125]\tvalid_0's rmse: 0.902337\n",
      "[126]\tvalid_0's rmse: 0.902297\n",
      "[127]\tvalid_0's rmse: 0.902239\n",
      "[128]\tvalid_0's rmse: 0.902136\n",
      "[129]\tvalid_0's rmse: 0.902089\n",
      "[130]\tvalid_0's rmse: 0.902046\n",
      "[131]\tvalid_0's rmse: 0.901941\n",
      "[132]\tvalid_0's rmse: 0.901903\n",
      "[133]\tvalid_0's rmse: 0.901876\n",
      "[134]\tvalid_0's rmse: 0.901801\n",
      "[135]\tvalid_0's rmse: 0.901655\n",
      "[136]\tvalid_0's rmse: 0.901626\n",
      "[137]\tvalid_0's rmse: 0.901537\n",
      "[138]\tvalid_0's rmse: 0.901476\n",
      "[139]\tvalid_0's rmse: 0.901446\n",
      "[140]\tvalid_0's rmse: 0.901409\n",
      "[141]\tvalid_0's rmse: 0.901363\n",
      "[142]\tvalid_0's rmse: 0.901286\n",
      "[143]\tvalid_0's rmse: 0.901261\n",
      "[144]\tvalid_0's rmse: 0.901247\n",
      "[145]\tvalid_0's rmse: 0.901219\n",
      "[146]\tvalid_0's rmse: 0.90117\n",
      "[147]\tvalid_0's rmse: 0.901136\n",
      "[148]\tvalid_0's rmse: 0.901099\n",
      "[149]\tvalid_0's rmse: 0.901088\n",
      "[150]\tvalid_0's rmse: 0.901029\n",
      "[151]\tvalid_0's rmse: 0.901007\n",
      "[152]\tvalid_0's rmse: 0.900966\n",
      "[153]\tvalid_0's rmse: 0.90092\n",
      "[154]\tvalid_0's rmse: 0.900839\n",
      "[155]\tvalid_0's rmse: 0.900823\n",
      "[156]\tvalid_0's rmse: 0.900797\n",
      "[157]\tvalid_0's rmse: 0.900737\n",
      "[158]\tvalid_0's rmse: 0.900696\n",
      "[159]\tvalid_0's rmse: 0.90067\n",
      "[160]\tvalid_0's rmse: 0.900652\n",
      "[161]\tvalid_0's rmse: 0.900623\n",
      "[162]\tvalid_0's rmse: 0.900616\n",
      "[163]\tvalid_0's rmse: 0.900578\n",
      "[164]\tvalid_0's rmse: 0.900569\n",
      "[165]\tvalid_0's rmse: 0.900493\n",
      "[166]\tvalid_0's rmse: 0.900459\n",
      "[167]\tvalid_0's rmse: 0.900396\n",
      "[168]\tvalid_0's rmse: 0.900364\n",
      "[169]\tvalid_0's rmse: 0.900255\n",
      "[170]\tvalid_0's rmse: 0.900219\n",
      "[171]\tvalid_0's rmse: 0.900189\n",
      "[172]\tvalid_0's rmse: 0.90013\n",
      "[173]\tvalid_0's rmse: 0.9\n",
      "[174]\tvalid_0's rmse: 0.89998\n",
      "[175]\tvalid_0's rmse: 0.899958\n",
      "[176]\tvalid_0's rmse: 0.899919\n",
      "[177]\tvalid_0's rmse: 0.899892\n",
      "[178]\tvalid_0's rmse: 0.899826\n",
      "[179]\tvalid_0's rmse: 0.899795\n",
      "[180]\tvalid_0's rmse: 0.899753\n",
      "[181]\tvalid_0's rmse: 0.899671\n",
      "[182]\tvalid_0's rmse: 0.899611\n",
      "[183]\tvalid_0's rmse: 0.899568\n",
      "[184]\tvalid_0's rmse: 0.899477\n",
      "[185]\tvalid_0's rmse: 0.899408\n",
      "[186]\tvalid_0's rmse: 0.899307\n",
      "[187]\tvalid_0's rmse: 0.899285\n",
      "[188]\tvalid_0's rmse: 0.899205\n",
      "[189]\tvalid_0's rmse: 0.899194\n",
      "[190]\tvalid_0's rmse: 0.899124\n",
      "[191]\tvalid_0's rmse: 0.8991\n",
      "[192]\tvalid_0's rmse: 0.89907\n",
      "[193]\tvalid_0's rmse: 0.899051\n",
      "[194]\tvalid_0's rmse: 0.899033\n",
      "[195]\tvalid_0's rmse: 0.89899\n",
      "[196]\tvalid_0's rmse: 0.898961\n",
      "[197]\tvalid_0's rmse: 0.898905\n",
      "[198]\tvalid_0's rmse: 0.898893\n",
      "[199]\tvalid_0's rmse: 0.898877\n",
      "[200]\tvalid_0's rmse: 0.898865\n",
      "[201]\tvalid_0's rmse: 0.898832\n",
      "[202]\tvalid_0's rmse: 0.898817\n",
      "[203]\tvalid_0's rmse: 0.898798\n",
      "[204]\tvalid_0's rmse: 0.898774\n",
      "[205]\tvalid_0's rmse: 0.89875\n",
      "[206]\tvalid_0's rmse: 0.898736\n",
      "[207]\tvalid_0's rmse: 0.898701\n",
      "[208]\tvalid_0's rmse: 0.898686\n",
      "[209]\tvalid_0's rmse: 0.89864\n",
      "[210]\tvalid_0's rmse: 0.898621\n",
      "[211]\tvalid_0's rmse: 0.898606\n",
      "[212]\tvalid_0's rmse: 0.898552\n",
      "[213]\tvalid_0's rmse: 0.898527\n",
      "[214]\tvalid_0's rmse: 0.898509\n",
      "[215]\tvalid_0's rmse: 0.898475\n",
      "[216]\tvalid_0's rmse: 0.898438\n",
      "[217]\tvalid_0's rmse: 0.898399\n",
      "[218]\tvalid_0's rmse: 0.89835\n",
      "[219]\tvalid_0's rmse: 0.898282\n",
      "[220]\tvalid_0's rmse: 0.898261\n",
      "[221]\tvalid_0's rmse: 0.898233\n",
      "[222]\tvalid_0's rmse: 0.898209\n",
      "[223]\tvalid_0's rmse: 0.898197\n",
      "[224]\tvalid_0's rmse: 0.898184\n",
      "[225]\tvalid_0's rmse: 0.89818\n",
      "[226]\tvalid_0's rmse: 0.898158\n",
      "[227]\tvalid_0's rmse: 0.898108\n",
      "[228]\tvalid_0's rmse: 0.898029\n",
      "[229]\tvalid_0's rmse: 0.898013\n",
      "[230]\tvalid_0's rmse: 0.89801\n",
      "[231]\tvalid_0's rmse: 0.89798\n",
      "[232]\tvalid_0's rmse: 0.897902\n",
      "[233]\tvalid_0's rmse: 0.897881\n",
      "[234]\tvalid_0's rmse: 0.897827\n",
      "[235]\tvalid_0's rmse: 0.897825\n",
      "[236]\tvalid_0's rmse: 0.897777\n",
      "[237]\tvalid_0's rmse: 0.897771\n",
      "[238]\tvalid_0's rmse: 0.897763\n",
      "[239]\tvalid_0's rmse: 0.897748\n",
      "[240]\tvalid_0's rmse: 0.897717\n",
      "[241]\tvalid_0's rmse: 0.897709\n",
      "[242]\tvalid_0's rmse: 0.897697\n",
      "[243]\tvalid_0's rmse: 0.897688\n",
      "[244]\tvalid_0's rmse: 0.897681\n",
      "[245]\tvalid_0's rmse: 0.897639\n",
      "[246]\tvalid_0's rmse: 0.897586\n",
      "[247]\tvalid_0's rmse: 0.897551\n",
      "[248]\tvalid_0's rmse: 0.897497\n",
      "[249]\tvalid_0's rmse: 0.897487\n",
      "[250]\tvalid_0's rmse: 0.897398\n",
      "[251]\tvalid_0's rmse: 0.897364\n",
      "[252]\tvalid_0's rmse: 0.897338\n",
      "[253]\tvalid_0's rmse: 0.897324\n",
      "[254]\tvalid_0's rmse: 0.897308\n",
      "[255]\tvalid_0's rmse: 0.897303\n",
      "[256]\tvalid_0's rmse: 0.897256\n",
      "[257]\tvalid_0's rmse: 0.897248\n",
      "[258]\tvalid_0's rmse: 0.897243\n",
      "[259]\tvalid_0's rmse: 0.897209\n",
      "[260]\tvalid_0's rmse: 0.897161\n",
      "[261]\tvalid_0's rmse: 0.897144\n",
      "[262]\tvalid_0's rmse: 0.897137\n",
      "[263]\tvalid_0's rmse: 0.897141\n",
      "[264]\tvalid_0's rmse: 0.897141\n",
      "[265]\tvalid_0's rmse: 0.897114\n",
      "[266]\tvalid_0's rmse: 0.897076\n",
      "[267]\tvalid_0's rmse: 0.89703\n",
      "[268]\tvalid_0's rmse: 0.897027\n",
      "[269]\tvalid_0's rmse: 0.897014\n",
      "[270]\tvalid_0's rmse: 0.897008\n",
      "[271]\tvalid_0's rmse: 0.896987\n",
      "[272]\tvalid_0's rmse: 0.89698\n",
      "[273]\tvalid_0's rmse: 0.89695\n",
      "[274]\tvalid_0's rmse: 0.896931\n",
      "[275]\tvalid_0's rmse: 0.896926\n",
      "[276]\tvalid_0's rmse: 0.896874\n",
      "[277]\tvalid_0's rmse: 0.896835\n",
      "[278]\tvalid_0's rmse: 0.896814\n",
      "[279]\tvalid_0's rmse: 0.896803\n",
      "[280]\tvalid_0's rmse: 0.896757\n",
      "[281]\tvalid_0's rmse: 0.896749\n",
      "[282]\tvalid_0's rmse: 0.89673\n",
      "[283]\tvalid_0's rmse: 0.896718\n",
      "[284]\tvalid_0's rmse: 0.896673\n",
      "[285]\tvalid_0's rmse: 0.896623\n",
      "[286]\tvalid_0's rmse: 0.896609\n",
      "[287]\tvalid_0's rmse: 0.896598\n",
      "[288]\tvalid_0's rmse: 0.896596\n",
      "[289]\tvalid_0's rmse: 0.896586\n",
      "[290]\tvalid_0's rmse: 0.896565\n",
      "[291]\tvalid_0's rmse: 0.896538\n",
      "[292]\tvalid_0's rmse: 0.896495\n",
      "[293]\tvalid_0's rmse: 0.896488\n",
      "[294]\tvalid_0's rmse: 0.89647\n",
      "[295]\tvalid_0's rmse: 0.896449\n",
      "[296]\tvalid_0's rmse: 0.896451\n",
      "[297]\tvalid_0's rmse: 0.896444\n",
      "[298]\tvalid_0's rmse: 0.896413\n",
      "[299]\tvalid_0's rmse: 0.89638\n",
      "[300]\tvalid_0's rmse: 0.896359\n",
      "[301]\tvalid_0's rmse: 0.896346\n",
      "[302]\tvalid_0's rmse: 0.896313\n",
      "[303]\tvalid_0's rmse: 0.896285\n",
      "[304]\tvalid_0's rmse: 0.896273\n",
      "[305]\tvalid_0's rmse: 0.896258\n",
      "[306]\tvalid_0's rmse: 0.89621\n",
      "[1]\tvalid_0's rmse: 0.917929\n",
      "[2]\tvalid_0's rmse: 0.917069\n",
      "[3]\tvalid_0's rmse: 0.916313\n",
      "[4]\tvalid_0's rmse: 0.915662\n",
      "[5]\tvalid_0's rmse: 0.915064\n",
      "[6]\tvalid_0's rmse: 0.914532\n",
      "[7]\tvalid_0's rmse: 0.914028\n",
      "[8]\tvalid_0's rmse: 0.913601\n",
      "[9]\tvalid_0's rmse: 0.913187\n",
      "[10]\tvalid_0's rmse: 0.912841\n",
      "[11]\tvalid_0's rmse: 0.912529\n",
      "[12]\tvalid_0's rmse: 0.91223\n",
      "[13]\tvalid_0's rmse: 0.91198\n",
      "[14]\tvalid_0's rmse: 0.911723\n",
      "[15]\tvalid_0's rmse: 0.911485\n",
      "[16]\tvalid_0's rmse: 0.911263\n",
      "[17]\tvalid_0's rmse: 0.911068\n",
      "[18]\tvalid_0's rmse: 0.910878\n",
      "[19]\tvalid_0's rmse: 0.910651\n",
      "[20]\tvalid_0's rmse: 0.91044\n",
      "[21]\tvalid_0's rmse: 0.910242\n",
      "[22]\tvalid_0's rmse: 0.910025\n",
      "[23]\tvalid_0's rmse: 0.909828\n",
      "[24]\tvalid_0's rmse: 0.909607\n",
      "[25]\tvalid_0's rmse: 0.909419\n",
      "[26]\tvalid_0's rmse: 0.909262\n",
      "[27]\tvalid_0's rmse: 0.909115\n",
      "[28]\tvalid_0's rmse: 0.908935\n",
      "[29]\tvalid_0's rmse: 0.908806\n",
      "[30]\tvalid_0's rmse: 0.908642\n",
      "[31]\tvalid_0's rmse: 0.908512\n",
      "[32]\tvalid_0's rmse: 0.908372\n",
      "[33]\tvalid_0's rmse: 0.908206\n",
      "[34]\tvalid_0's rmse: 0.908073\n",
      "[35]\tvalid_0's rmse: 0.907981\n",
      "[36]\tvalid_0's rmse: 0.907821\n",
      "[37]\tvalid_0's rmse: 0.907697\n",
      "[38]\tvalid_0's rmse: 0.907483\n",
      "[39]\tvalid_0's rmse: 0.907391\n",
      "[40]\tvalid_0's rmse: 0.907278\n",
      "[41]\tvalid_0's rmse: 0.907188\n",
      "[42]\tvalid_0's rmse: 0.90705\n",
      "[43]\tvalid_0's rmse: 0.906964\n",
      "[44]\tvalid_0's rmse: 0.906845\n",
      "[45]\tvalid_0's rmse: 0.906743\n",
      "[46]\tvalid_0's rmse: 0.906605\n",
      "[47]\tvalid_0's rmse: 0.906489\n",
      "[48]\tvalid_0's rmse: 0.906404\n",
      "[49]\tvalid_0's rmse: 0.906321\n",
      "[50]\tvalid_0's rmse: 0.906226\n",
      "[51]\tvalid_0's rmse: 0.90611\n",
      "[52]\tvalid_0's rmse: 0.906002\n",
      "[53]\tvalid_0's rmse: 0.905869\n",
      "[54]\tvalid_0's rmse: 0.905615\n",
      "[55]\tvalid_0's rmse: 0.905494\n",
      "[56]\tvalid_0's rmse: 0.90539\n",
      "[57]\tvalid_0's rmse: 0.905286\n",
      "[58]\tvalid_0's rmse: 0.905134\n",
      "[59]\tvalid_0's rmse: 0.905068\n",
      "[60]\tvalid_0's rmse: 0.904977\n",
      "[61]\tvalid_0's rmse: 0.904893\n",
      "[62]\tvalid_0's rmse: 0.904814\n",
      "[63]\tvalid_0's rmse: 0.904704\n",
      "[64]\tvalid_0's rmse: 0.904552\n",
      "[65]\tvalid_0's rmse: 0.904474\n",
      "[66]\tvalid_0's rmse: 0.904331\n",
      "[67]\tvalid_0's rmse: 0.904231\n",
      "[68]\tvalid_0's rmse: 0.904121\n",
      "[69]\tvalid_0's rmse: 0.903992\n",
      "[70]\tvalid_0's rmse: 0.903937\n",
      "[71]\tvalid_0's rmse: 0.90375\n",
      "[72]\tvalid_0's rmse: 0.903675\n",
      "[73]\tvalid_0's rmse: 0.903592\n",
      "[74]\tvalid_0's rmse: 0.903502\n",
      "[75]\tvalid_0's rmse: 0.903408\n",
      "[76]\tvalid_0's rmse: 0.903366\n",
      "[77]\tvalid_0's rmse: 0.9033\n",
      "[78]\tvalid_0's rmse: 0.903226\n",
      "[79]\tvalid_0's rmse: 0.903169\n",
      "[80]\tvalid_0's rmse: 0.903112\n",
      "[81]\tvalid_0's rmse: 0.903051\n",
      "[82]\tvalid_0's rmse: 0.902962\n",
      "[83]\tvalid_0's rmse: 0.902908\n",
      "[84]\tvalid_0's rmse: 0.902835\n",
      "[85]\tvalid_0's rmse: 0.902788\n",
      "[86]\tvalid_0's rmse: 0.902729\n",
      "[87]\tvalid_0's rmse: 0.90268\n",
      "[88]\tvalid_0's rmse: 0.902606\n",
      "[89]\tvalid_0's rmse: 0.902551\n",
      "[90]\tvalid_0's rmse: 0.902475\n",
      "[91]\tvalid_0's rmse: 0.902306\n",
      "[92]\tvalid_0's rmse: 0.902254\n",
      "[93]\tvalid_0's rmse: 0.902211\n",
      "[94]\tvalid_0's rmse: 0.90216\n",
      "[95]\tvalid_0's rmse: 0.902094\n",
      "[96]\tvalid_0's rmse: 0.902046\n",
      "[97]\tvalid_0's rmse: 0.902014\n",
      "[98]\tvalid_0's rmse: 0.901956\n",
      "[99]\tvalid_0's rmse: 0.90188\n",
      "[100]\tvalid_0's rmse: 0.901791\n",
      "[101]\tvalid_0's rmse: 0.901763\n",
      "[102]\tvalid_0's rmse: 0.901701\n",
      "[103]\tvalid_0's rmse: 0.901665\n",
      "[104]\tvalid_0's rmse: 0.901552\n",
      "[105]\tvalid_0's rmse: 0.901413\n",
      "[106]\tvalid_0's rmse: 0.901271\n",
      "[107]\tvalid_0's rmse: 0.901202\n",
      "[108]\tvalid_0's rmse: 0.901091\n",
      "[109]\tvalid_0's rmse: 0.901055\n",
      "[110]\tvalid_0's rmse: 0.900971\n",
      "[111]\tvalid_0's rmse: 0.90093\n",
      "[112]\tvalid_0's rmse: 0.900862\n",
      "[113]\tvalid_0's rmse: 0.900797\n",
      "[114]\tvalid_0's rmse: 0.900669\n",
      "[115]\tvalid_0's rmse: 0.900639\n",
      "[116]\tvalid_0's rmse: 0.900619\n",
      "[117]\tvalid_0's rmse: 0.900581\n",
      "[118]\tvalid_0's rmse: 0.900557\n",
      "[119]\tvalid_0's rmse: 0.900485\n",
      "[120]\tvalid_0's rmse: 0.900441\n",
      "[121]\tvalid_0's rmse: 0.90037\n",
      "[122]\tvalid_0's rmse: 0.900323\n",
      "[123]\tvalid_0's rmse: 0.900294\n",
      "[124]\tvalid_0's rmse: 0.900263\n",
      "[125]\tvalid_0's rmse: 0.900192\n",
      "[126]\tvalid_0's rmse: 0.90016\n",
      "[127]\tvalid_0's rmse: 0.900112\n",
      "[128]\tvalid_0's rmse: 0.900041\n",
      "[129]\tvalid_0's rmse: 0.899946\n",
      "[130]\tvalid_0's rmse: 0.899859\n",
      "[131]\tvalid_0's rmse: 0.899795\n",
      "[132]\tvalid_0's rmse: 0.899745\n",
      "[133]\tvalid_0's rmse: 0.899718\n",
      "[134]\tvalid_0's rmse: 0.899685\n",
      "[135]\tvalid_0's rmse: 0.899627\n",
      "[136]\tvalid_0's rmse: 0.899591\n",
      "[137]\tvalid_0's rmse: 0.899477\n",
      "[138]\tvalid_0's rmse: 0.899418\n",
      "[139]\tvalid_0's rmse: 0.899387\n",
      "[140]\tvalid_0's rmse: 0.899362\n",
      "[141]\tvalid_0's rmse: 0.899341\n",
      "[142]\tvalid_0's rmse: 0.899234\n",
      "[143]\tvalid_0's rmse: 0.899192\n",
      "[144]\tvalid_0's rmse: 0.89917\n",
      "[145]\tvalid_0's rmse: 0.899122\n",
      "[146]\tvalid_0's rmse: 0.899011\n",
      "[147]\tvalid_0's rmse: 0.898957\n",
      "[148]\tvalid_0's rmse: 0.898942\n",
      "[149]\tvalid_0's rmse: 0.898858\n",
      "[150]\tvalid_0's rmse: 0.898812\n",
      "[151]\tvalid_0's rmse: 0.898779\n",
      "[152]\tvalid_0's rmse: 0.898754\n",
      "[153]\tvalid_0's rmse: 0.898697\n",
      "[154]\tvalid_0's rmse: 0.898653\n",
      "[155]\tvalid_0's rmse: 0.898619\n",
      "[156]\tvalid_0's rmse: 0.898518\n",
      "[157]\tvalid_0's rmse: 0.898482\n",
      "[158]\tvalid_0's rmse: 0.898451\n",
      "[159]\tvalid_0's rmse: 0.898387\n",
      "[160]\tvalid_0's rmse: 0.898362\n",
      "[161]\tvalid_0's rmse: 0.89833\n",
      "[162]\tvalid_0's rmse: 0.898304\n",
      "[163]\tvalid_0's rmse: 0.898258\n",
      "[164]\tvalid_0's rmse: 0.898224\n",
      "[165]\tvalid_0's rmse: 0.898207\n",
      "[166]\tvalid_0's rmse: 0.898144\n",
      "[167]\tvalid_0's rmse: 0.898089\n",
      "[168]\tvalid_0's rmse: 0.898088\n",
      "[169]\tvalid_0's rmse: 0.898049\n",
      "[170]\tvalid_0's rmse: 0.89804\n",
      "[171]\tvalid_0's rmse: 0.898005\n",
      "[172]\tvalid_0's rmse: 0.897983\n",
      "[173]\tvalid_0's rmse: 0.897975\n",
      "[174]\tvalid_0's rmse: 0.897951\n",
      "[175]\tvalid_0's rmse: 0.897905\n",
      "[176]\tvalid_0's rmse: 0.897864\n",
      "[177]\tvalid_0's rmse: 0.897809\n",
      "[178]\tvalid_0's rmse: 0.897777\n",
      "[179]\tvalid_0's rmse: 0.897757\n",
      "[180]\tvalid_0's rmse: 0.897729\n",
      "[181]\tvalid_0's rmse: 0.897704\n",
      "[182]\tvalid_0's rmse: 0.897616\n",
      "[183]\tvalid_0's rmse: 0.897583\n",
      "[184]\tvalid_0's rmse: 0.897566\n",
      "[185]\tvalid_0's rmse: 0.897518\n",
      "[186]\tvalid_0's rmse: 0.897475\n",
      "[187]\tvalid_0's rmse: 0.897441\n",
      "[188]\tvalid_0's rmse: 0.897415\n",
      "[189]\tvalid_0's rmse: 0.89736\n",
      "[190]\tvalid_0's rmse: 0.897345\n",
      "[191]\tvalid_0's rmse: 0.897294\n",
      "[192]\tvalid_0's rmse: 0.897223\n",
      "[193]\tvalid_0's rmse: 0.897198\n",
      "[194]\tvalid_0's rmse: 0.897142\n",
      "[195]\tvalid_0's rmse: 0.897115\n",
      "[196]\tvalid_0's rmse: 0.897063\n",
      "[197]\tvalid_0's rmse: 0.897059\n",
      "[198]\tvalid_0's rmse: 0.897036\n",
      "[199]\tvalid_0's rmse: 0.896935\n",
      "[200]\tvalid_0's rmse: 0.896933\n",
      "[201]\tvalid_0's rmse: 0.896909\n",
      "[202]\tvalid_0's rmse: 0.896901\n",
      "[203]\tvalid_0's rmse: 0.896891\n",
      "[204]\tvalid_0's rmse: 0.896879\n",
      "[205]\tvalid_0's rmse: 0.89685\n",
      "[206]\tvalid_0's rmse: 0.896841\n",
      "[207]\tvalid_0's rmse: 0.896807\n",
      "[208]\tvalid_0's rmse: 0.896764\n",
      "[209]\tvalid_0's rmse: 0.896722\n",
      "[210]\tvalid_0's rmse: 0.896676\n",
      "[211]\tvalid_0's rmse: 0.896644\n",
      "[212]\tvalid_0's rmse: 0.89662\n",
      "[213]\tvalid_0's rmse: 0.896587\n",
      "[214]\tvalid_0's rmse: 0.896521\n",
      "[215]\tvalid_0's rmse: 0.896511\n",
      "[216]\tvalid_0's rmse: 0.896489\n",
      "[217]\tvalid_0's rmse: 0.896481\n",
      "[218]\tvalid_0's rmse: 0.896416\n",
      "[219]\tvalid_0's rmse: 0.896399\n",
      "[220]\tvalid_0's rmse: 0.896368\n",
      "[221]\tvalid_0's rmse: 0.896346\n",
      "[222]\tvalid_0's rmse: 0.896332\n",
      "[223]\tvalid_0's rmse: 0.896299\n",
      "[224]\tvalid_0's rmse: 0.896281\n",
      "[225]\tvalid_0's rmse: 0.896244\n",
      "[226]\tvalid_0's rmse: 0.896148\n",
      "[227]\tvalid_0's rmse: 0.896119\n",
      "[228]\tvalid_0's rmse: 0.896068\n",
      "[229]\tvalid_0's rmse: 0.896052\n",
      "[230]\tvalid_0's rmse: 0.896053\n",
      "[231]\tvalid_0's rmse: 0.896047\n",
      "[232]\tvalid_0's rmse: 0.896039\n",
      "[233]\tvalid_0's rmse: 0.896011\n",
      "[234]\tvalid_0's rmse: 0.895997\n",
      "[235]\tvalid_0's rmse: 0.895985\n",
      "[236]\tvalid_0's rmse: 0.895945\n",
      "[237]\tvalid_0's rmse: 0.895925\n",
      "[238]\tvalid_0's rmse: 0.895903\n",
      "[239]\tvalid_0's rmse: 0.895881\n",
      "[240]\tvalid_0's rmse: 0.895868\n",
      "[241]\tvalid_0's rmse: 0.895855\n",
      "[242]\tvalid_0's rmse: 0.895835\n",
      "[243]\tvalid_0's rmse: 0.895824\n",
      "[244]\tvalid_0's rmse: 0.895806\n",
      "[245]\tvalid_0's rmse: 0.895781\n",
      "[246]\tvalid_0's rmse: 0.895774\n",
      "[247]\tvalid_0's rmse: 0.895739\n",
      "[248]\tvalid_0's rmse: 0.895722\n",
      "[249]\tvalid_0's rmse: 0.895713\n",
      "[250]\tvalid_0's rmse: 0.895709\n",
      "[251]\tvalid_0's rmse: 0.895696\n",
      "[252]\tvalid_0's rmse: 0.895656\n",
      "[253]\tvalid_0's rmse: 0.895642\n",
      "[254]\tvalid_0's rmse: 0.895623\n",
      "[255]\tvalid_0's rmse: 0.8956\n",
      "[256]\tvalid_0's rmse: 0.895587\n",
      "[257]\tvalid_0's rmse: 0.895563\n",
      "[258]\tvalid_0's rmse: 0.895488\n",
      "[259]\tvalid_0's rmse: 0.895475\n",
      "[260]\tvalid_0's rmse: 0.895467\n",
      "[261]\tvalid_0's rmse: 0.895435\n",
      "[262]\tvalid_0's rmse: 0.895422\n",
      "[263]\tvalid_0's rmse: 0.895419\n",
      "[264]\tvalid_0's rmse: 0.895406\n",
      "[265]\tvalid_0's rmse: 0.895351\n",
      "[266]\tvalid_0's rmse: 0.895347\n",
      "[267]\tvalid_0's rmse: 0.895338\n",
      "[268]\tvalid_0's rmse: 0.895295\n",
      "[269]\tvalid_0's rmse: 0.895265\n",
      "[270]\tvalid_0's rmse: 0.895256\n",
      "[271]\tvalid_0's rmse: 0.895147\n",
      "[272]\tvalid_0's rmse: 0.895149\n",
      "[273]\tvalid_0's rmse: 0.895125\n",
      "[274]\tvalid_0's rmse: 0.895087\n",
      "[275]\tvalid_0's rmse: 0.895076\n",
      "[276]\tvalid_0's rmse: 0.895054\n",
      "[277]\tvalid_0's rmse: 0.895053\n",
      "[278]\tvalid_0's rmse: 0.895047\n",
      "[279]\tvalid_0's rmse: 0.895039\n",
      "[280]\tvalid_0's rmse: 0.895021\n",
      "[281]\tvalid_0's rmse: 0.89494\n",
      "[282]\tvalid_0's rmse: 0.894933\n",
      "[283]\tvalid_0's rmse: 0.894932\n",
      "[284]\tvalid_0's rmse: 0.894914\n",
      "[285]\tvalid_0's rmse: 0.894882\n",
      "[286]\tvalid_0's rmse: 0.894871\n",
      "[287]\tvalid_0's rmse: 0.894781\n",
      "[288]\tvalid_0's rmse: 0.894751\n",
      "[289]\tvalid_0's rmse: 0.894707\n",
      "[290]\tvalid_0's rmse: 0.894632\n",
      "[291]\tvalid_0's rmse: 0.894607\n",
      "[292]\tvalid_0's rmse: 0.8946\n",
      "[293]\tvalid_0's rmse: 0.894524\n",
      "[294]\tvalid_0's rmse: 0.894523\n",
      "[295]\tvalid_0's rmse: 0.89451\n",
      "[296]\tvalid_0's rmse: 0.894482\n",
      "[297]\tvalid_0's rmse: 0.89444\n",
      "[298]\tvalid_0's rmse: 0.894443\n",
      "[299]\tvalid_0's rmse: 0.894378\n",
      "[300]\tvalid_0's rmse: 0.894367\n",
      "[301]\tvalid_0's rmse: 0.89436\n",
      "[302]\tvalid_0's rmse: 0.894344\n",
      "[303]\tvalid_0's rmse: 0.894329\n",
      "[304]\tvalid_0's rmse: 0.894304\n",
      "[305]\tvalid_0's rmse: 0.89429\n",
      "[306]\tvalid_0's rmse: 0.894279\n",
      "[1]\tvalid_0's rmse: 0.918181\n",
      "[2]\tvalid_0's rmse: 0.917319\n",
      "[3]\tvalid_0's rmse: 0.916531\n",
      "[4]\tvalid_0's rmse: 0.91588\n",
      "[5]\tvalid_0's rmse: 0.915274\n",
      "[6]\tvalid_0's rmse: 0.914715\n",
      "[7]\tvalid_0's rmse: 0.914229\n",
      "[8]\tvalid_0's rmse: 0.913802\n",
      "[9]\tvalid_0's rmse: 0.913425\n",
      "[10]\tvalid_0's rmse: 0.913096\n",
      "[11]\tvalid_0's rmse: 0.912779\n",
      "[12]\tvalid_0's rmse: 0.91249\n",
      "[13]\tvalid_0's rmse: 0.912198\n",
      "[14]\tvalid_0's rmse: 0.911947\n",
      "[15]\tvalid_0's rmse: 0.911706\n",
      "[16]\tvalid_0's rmse: 0.911464\n",
      "[17]\tvalid_0's rmse: 0.911263\n",
      "[18]\tvalid_0's rmse: 0.911044\n",
      "[19]\tvalid_0's rmse: 0.910786\n",
      "[20]\tvalid_0's rmse: 0.910562\n",
      "[21]\tvalid_0's rmse: 0.910407\n",
      "[22]\tvalid_0's rmse: 0.910245\n",
      "[23]\tvalid_0's rmse: 0.910088\n",
      "[24]\tvalid_0's rmse: 0.909929\n",
      "[25]\tvalid_0's rmse: 0.909765\n",
      "[26]\tvalid_0's rmse: 0.909608\n",
      "[27]\tvalid_0's rmse: 0.909461\n",
      "[28]\tvalid_0's rmse: 0.909247\n",
      "[29]\tvalid_0's rmse: 0.90908\n",
      "[30]\tvalid_0's rmse: 0.908963\n",
      "[31]\tvalid_0's rmse: 0.908851\n",
      "[32]\tvalid_0's rmse: 0.90872\n",
      "[33]\tvalid_0's rmse: 0.908629\n",
      "[34]\tvalid_0's rmse: 0.908482\n",
      "[35]\tvalid_0's rmse: 0.908354\n",
      "[36]\tvalid_0's rmse: 0.908231\n",
      "[37]\tvalid_0's rmse: 0.908102\n",
      "[38]\tvalid_0's rmse: 0.908015\n",
      "[39]\tvalid_0's rmse: 0.907866\n",
      "[40]\tvalid_0's rmse: 0.907744\n",
      "[41]\tvalid_0's rmse: 0.90765\n",
      "[42]\tvalid_0's rmse: 0.907528\n",
      "[43]\tvalid_0's rmse: 0.907453\n",
      "[44]\tvalid_0's rmse: 0.907327\n",
      "[45]\tvalid_0's rmse: 0.907216\n",
      "[46]\tvalid_0's rmse: 0.90711\n",
      "[47]\tvalid_0's rmse: 0.907027\n",
      "[48]\tvalid_0's rmse: 0.906887\n",
      "[49]\tvalid_0's rmse: 0.906808\n",
      "[50]\tvalid_0's rmse: 0.9067\n",
      "[51]\tvalid_0's rmse: 0.906626\n",
      "[52]\tvalid_0's rmse: 0.906511\n",
      "[53]\tvalid_0's rmse: 0.906342\n",
      "[54]\tvalid_0's rmse: 0.906191\n",
      "[55]\tvalid_0's rmse: 0.906104\n",
      "[56]\tvalid_0's rmse: 0.906033\n",
      "[57]\tvalid_0's rmse: 0.905888\n",
      "[58]\tvalid_0's rmse: 0.905798\n",
      "[59]\tvalid_0's rmse: 0.905681\n",
      "[60]\tvalid_0's rmse: 0.905602\n",
      "[61]\tvalid_0's rmse: 0.905525\n",
      "[62]\tvalid_0's rmse: 0.905469\n",
      "[63]\tvalid_0's rmse: 0.905387\n",
      "[64]\tvalid_0's rmse: 0.905301\n",
      "[65]\tvalid_0's rmse: 0.905092\n",
      "[66]\tvalid_0's rmse: 0.905023\n",
      "[67]\tvalid_0's rmse: 0.904947\n",
      "[68]\tvalid_0's rmse: 0.904858\n",
      "[69]\tvalid_0's rmse: 0.904734\n",
      "[70]\tvalid_0's rmse: 0.904676\n",
      "[71]\tvalid_0's rmse: 0.904608\n",
      "[72]\tvalid_0's rmse: 0.904513\n",
      "[73]\tvalid_0's rmse: 0.904446\n",
      "[74]\tvalid_0's rmse: 0.90439\n",
      "[75]\tvalid_0's rmse: 0.904233\n",
      "[76]\tvalid_0's rmse: 0.904172\n",
      "[77]\tvalid_0's rmse: 0.904101\n",
      "[78]\tvalid_0's rmse: 0.904051\n",
      "[79]\tvalid_0's rmse: 0.903979\n",
      "[80]\tvalid_0's rmse: 0.903856\n",
      "[81]\tvalid_0's rmse: 0.90379\n",
      "[82]\tvalid_0's rmse: 0.903726\n",
      "[83]\tvalid_0's rmse: 0.903674\n",
      "[84]\tvalid_0's rmse: 0.903604\n",
      "[85]\tvalid_0's rmse: 0.903492\n",
      "[86]\tvalid_0's rmse: 0.903396\n",
      "[87]\tvalid_0's rmse: 0.903303\n",
      "[88]\tvalid_0's rmse: 0.90324\n",
      "[89]\tvalid_0's rmse: 0.903182\n",
      "[90]\tvalid_0's rmse: 0.903141\n",
      "[91]\tvalid_0's rmse: 0.903106\n",
      "[92]\tvalid_0's rmse: 0.903031\n",
      "[93]\tvalid_0's rmse: 0.902965\n",
      "[94]\tvalid_0's rmse: 0.902904\n",
      "[95]\tvalid_0's rmse: 0.902842\n",
      "[96]\tvalid_0's rmse: 0.902785\n",
      "[97]\tvalid_0's rmse: 0.902733\n",
      "[98]\tvalid_0's rmse: 0.902662\n",
      "[99]\tvalid_0's rmse: 0.90259\n",
      "[100]\tvalid_0's rmse: 0.902547\n",
      "[101]\tvalid_0's rmse: 0.90246\n",
      "[102]\tvalid_0's rmse: 0.902348\n",
      "[103]\tvalid_0's rmse: 0.902308\n",
      "[104]\tvalid_0's rmse: 0.90223\n",
      "[105]\tvalid_0's rmse: 0.90217\n",
      "[106]\tvalid_0's rmse: 0.902132\n",
      "[107]\tvalid_0's rmse: 0.901999\n",
      "[108]\tvalid_0's rmse: 0.901944\n",
      "[109]\tvalid_0's rmse: 0.901829\n",
      "[110]\tvalid_0's rmse: 0.901716\n",
      "[111]\tvalid_0's rmse: 0.901661\n",
      "[112]\tvalid_0's rmse: 0.901545\n",
      "[113]\tvalid_0's rmse: 0.90149\n",
      "[114]\tvalid_0's rmse: 0.901467\n",
      "[115]\tvalid_0's rmse: 0.901308\n",
      "[116]\tvalid_0's rmse: 0.901213\n",
      "[117]\tvalid_0's rmse: 0.901175\n",
      "[118]\tvalid_0's rmse: 0.901135\n",
      "[119]\tvalid_0's rmse: 0.901055\n",
      "[120]\tvalid_0's rmse: 0.90097\n",
      "[121]\tvalid_0's rmse: 0.900924\n",
      "[122]\tvalid_0's rmse: 0.900827\n",
      "[123]\tvalid_0's rmse: 0.900771\n",
      "[124]\tvalid_0's rmse: 0.900722\n",
      "[125]\tvalid_0's rmse: 0.900652\n",
      "[126]\tvalid_0's rmse: 0.900607\n",
      "[127]\tvalid_0's rmse: 0.900565\n",
      "[128]\tvalid_0's rmse: 0.900519\n",
      "[129]\tvalid_0's rmse: 0.900499\n",
      "[130]\tvalid_0's rmse: 0.900416\n",
      "[131]\tvalid_0's rmse: 0.900374\n",
      "[132]\tvalid_0's rmse: 0.900248\n",
      "[133]\tvalid_0's rmse: 0.900195\n",
      "[134]\tvalid_0's rmse: 0.900162\n",
      "[135]\tvalid_0's rmse: 0.900129\n",
      "[136]\tvalid_0's rmse: 0.900092\n",
      "[137]\tvalid_0's rmse: 0.900036\n",
      "[138]\tvalid_0's rmse: 0.900023\n",
      "[139]\tvalid_0's rmse: 0.899931\n",
      "[140]\tvalid_0's rmse: 0.89988\n",
      "[141]\tvalid_0's rmse: 0.899809\n",
      "[142]\tvalid_0's rmse: 0.899739\n",
      "[143]\tvalid_0's rmse: 0.899716\n",
      "[144]\tvalid_0's rmse: 0.899665\n",
      "[145]\tvalid_0's rmse: 0.899519\n",
      "[146]\tvalid_0's rmse: 0.899465\n",
      "[147]\tvalid_0's rmse: 0.899401\n",
      "[148]\tvalid_0's rmse: 0.899376\n",
      "[149]\tvalid_0's rmse: 0.899321\n",
      "[150]\tvalid_0's rmse: 0.899225\n",
      "[151]\tvalid_0's rmse: 0.89915\n",
      "[152]\tvalid_0's rmse: 0.899074\n",
      "[153]\tvalid_0's rmse: 0.899044\n",
      "[154]\tvalid_0's rmse: 0.899001\n",
      "[155]\tvalid_0's rmse: 0.89891\n",
      "[156]\tvalid_0's rmse: 0.898826\n",
      "[157]\tvalid_0's rmse: 0.898811\n",
      "[158]\tvalid_0's rmse: 0.898763\n",
      "[159]\tvalid_0's rmse: 0.898739\n",
      "[160]\tvalid_0's rmse: 0.898713\n",
      "[161]\tvalid_0's rmse: 0.8987\n",
      "[162]\tvalid_0's rmse: 0.898682\n",
      "[163]\tvalid_0's rmse: 0.898673\n",
      "[164]\tvalid_0's rmse: 0.898667\n",
      "[165]\tvalid_0's rmse: 0.898626\n",
      "[166]\tvalid_0's rmse: 0.898598\n",
      "[167]\tvalid_0's rmse: 0.898574\n",
      "[168]\tvalid_0's rmse: 0.898544\n",
      "[169]\tvalid_0's rmse: 0.898524\n",
      "[170]\tvalid_0's rmse: 0.898476\n",
      "[171]\tvalid_0's rmse: 0.898445\n",
      "[172]\tvalid_0's rmse: 0.898365\n",
      "[173]\tvalid_0's rmse: 0.898356\n",
      "[174]\tvalid_0's rmse: 0.898339\n",
      "[175]\tvalid_0's rmse: 0.898304\n",
      "[176]\tvalid_0's rmse: 0.898288\n",
      "[177]\tvalid_0's rmse: 0.898283\n",
      "[178]\tvalid_0's rmse: 0.898252\n",
      "[179]\tvalid_0's rmse: 0.898167\n",
      "[180]\tvalid_0's rmse: 0.898126\n",
      "[181]\tvalid_0's rmse: 0.898114\n",
      "[182]\tvalid_0's rmse: 0.898033\n",
      "[183]\tvalid_0's rmse: 0.898018\n",
      "[184]\tvalid_0's rmse: 0.897992\n",
      "[185]\tvalid_0's rmse: 0.897961\n",
      "[186]\tvalid_0's rmse: 0.89794\n",
      "[187]\tvalid_0's rmse: 0.897833\n",
      "[188]\tvalid_0's rmse: 0.897765\n",
      "[189]\tvalid_0's rmse: 0.897749\n",
      "[190]\tvalid_0's rmse: 0.897706\n",
      "[191]\tvalid_0's rmse: 0.897688\n",
      "[192]\tvalid_0's rmse: 0.897672\n",
      "[193]\tvalid_0's rmse: 0.897626\n",
      "[194]\tvalid_0's rmse: 0.897555\n",
      "[195]\tvalid_0's rmse: 0.897543\n",
      "[196]\tvalid_0's rmse: 0.897532\n",
      "[197]\tvalid_0's rmse: 0.897472\n",
      "[198]\tvalid_0's rmse: 0.897464\n",
      "[199]\tvalid_0's rmse: 0.897413\n",
      "[200]\tvalid_0's rmse: 0.8974\n",
      "[201]\tvalid_0's rmse: 0.897386\n",
      "[202]\tvalid_0's rmse: 0.897378\n",
      "[203]\tvalid_0's rmse: 0.897303\n",
      "[204]\tvalid_0's rmse: 0.897283\n",
      "[205]\tvalid_0's rmse: 0.8972\n",
      "[206]\tvalid_0's rmse: 0.89719\n",
      "[207]\tvalid_0's rmse: 0.897175\n",
      "[208]\tvalid_0's rmse: 0.897133\n",
      "[209]\tvalid_0's rmse: 0.897044\n",
      "[210]\tvalid_0's rmse: 0.897\n",
      "[211]\tvalid_0's rmse: 0.896976\n",
      "[212]\tvalid_0's rmse: 0.896924\n",
      "[213]\tvalid_0's rmse: 0.89688\n",
      "[214]\tvalid_0's rmse: 0.896858\n",
      "[215]\tvalid_0's rmse: 0.896837\n",
      "[216]\tvalid_0's rmse: 0.896823\n",
      "[217]\tvalid_0's rmse: 0.896802\n",
      "[218]\tvalid_0's rmse: 0.8968\n",
      "[219]\tvalid_0's rmse: 0.896763\n",
      "[220]\tvalid_0's rmse: 0.896744\n",
      "[221]\tvalid_0's rmse: 0.896729\n",
      "[222]\tvalid_0's rmse: 0.896733\n",
      "[223]\tvalid_0's rmse: 0.896743\n",
      "[224]\tvalid_0's rmse: 0.896696\n",
      "[225]\tvalid_0's rmse: 0.896683\n",
      "[226]\tvalid_0's rmse: 0.896656\n",
      "[227]\tvalid_0's rmse: 0.896649\n",
      "[228]\tvalid_0's rmse: 0.896631\n",
      "[229]\tvalid_0's rmse: 0.896619\n",
      "[230]\tvalid_0's rmse: 0.896601\n",
      "[231]\tvalid_0's rmse: 0.896585\n",
      "[232]\tvalid_0's rmse: 0.896568\n",
      "[233]\tvalid_0's rmse: 0.896553\n",
      "[234]\tvalid_0's rmse: 0.89654\n",
      "[235]\tvalid_0's rmse: 0.896514\n",
      "[236]\tvalid_0's rmse: 0.896496\n",
      "[237]\tvalid_0's rmse: 0.896447\n",
      "[238]\tvalid_0's rmse: 0.896413\n",
      "[239]\tvalid_0's rmse: 0.896403\n",
      "[240]\tvalid_0's rmse: 0.896392\n",
      "[241]\tvalid_0's rmse: 0.896388\n",
      "[242]\tvalid_0's rmse: 0.896341\n",
      "[243]\tvalid_0's rmse: 0.896336\n",
      "[244]\tvalid_0's rmse: 0.89633\n",
      "[245]\tvalid_0's rmse: 0.896321\n",
      "[246]\tvalid_0's rmse: 0.896278\n",
      "[247]\tvalid_0's rmse: 0.896266\n",
      "[248]\tvalid_0's rmse: 0.896191\n",
      "[249]\tvalid_0's rmse: 0.896189\n",
      "[250]\tvalid_0's rmse: 0.896155\n",
      "[251]\tvalid_0's rmse: 0.89614\n",
      "[252]\tvalid_0's rmse: 0.8961\n",
      "[253]\tvalid_0's rmse: 0.896084\n",
      "[254]\tvalid_0's rmse: 0.89602\n",
      "[255]\tvalid_0's rmse: 0.896002\n",
      "[256]\tvalid_0's rmse: 0.895991\n",
      "[257]\tvalid_0's rmse: 0.895974\n",
      "[258]\tvalid_0's rmse: 0.895931\n",
      "[259]\tvalid_0's rmse: 0.89593\n",
      "[260]\tvalid_0's rmse: 0.895903\n",
      "[261]\tvalid_0's rmse: 0.895863\n",
      "[262]\tvalid_0's rmse: 0.895788\n",
      "[263]\tvalid_0's rmse: 0.895778\n",
      "[264]\tvalid_0's rmse: 0.895769\n",
      "[265]\tvalid_0's rmse: 0.895753\n",
      "[266]\tvalid_0's rmse: 0.895739\n",
      "[267]\tvalid_0's rmse: 0.895701\n",
      "[268]\tvalid_0's rmse: 0.895688\n",
      "[269]\tvalid_0's rmse: 0.895632\n",
      "[270]\tvalid_0's rmse: 0.895581\n",
      "[271]\tvalid_0's rmse: 0.895569\n",
      "[272]\tvalid_0's rmse: 0.895566\n",
      "[273]\tvalid_0's rmse: 0.895536\n",
      "[274]\tvalid_0's rmse: 0.895514\n",
      "[275]\tvalid_0's rmse: 0.895449\n",
      "[276]\tvalid_0's rmse: 0.895443\n",
      "[277]\tvalid_0's rmse: 0.895441\n",
      "[278]\tvalid_0's rmse: 0.895427\n",
      "[279]\tvalid_0's rmse: 0.895416\n",
      "[280]\tvalid_0's rmse: 0.895324\n",
      "[281]\tvalid_0's rmse: 0.895311\n",
      "[282]\tvalid_0's rmse: 0.895268\n",
      "[283]\tvalid_0's rmse: 0.895261\n",
      "[284]\tvalid_0's rmse: 0.895232\n",
      "[285]\tvalid_0's rmse: 0.895227\n",
      "[286]\tvalid_0's rmse: 0.895216\n",
      "[287]\tvalid_0's rmse: 0.895215\n",
      "[288]\tvalid_0's rmse: 0.895183\n",
      "[289]\tvalid_0's rmse: 0.895179\n",
      "[290]\tvalid_0's rmse: 0.895179\n",
      "[291]\tvalid_0's rmse: 0.89518\n",
      "[292]\tvalid_0's rmse: 0.895149\n",
      "[293]\tvalid_0's rmse: 0.895136\n",
      "[294]\tvalid_0's rmse: 0.895087\n",
      "[295]\tvalid_0's rmse: 0.895089\n",
      "[296]\tvalid_0's rmse: 0.89509\n",
      "[297]\tvalid_0's rmse: 0.895088\n",
      "[298]\tvalid_0's rmse: 0.895058\n",
      "[299]\tvalid_0's rmse: 0.89506\n",
      "[300]\tvalid_0's rmse: 0.895046\n",
      "[301]\tvalid_0's rmse: 0.895041\n",
      "[302]\tvalid_0's rmse: 0.895031\n",
      "[303]\tvalid_0's rmse: 0.895001\n",
      "[304]\tvalid_0's rmse: 0.895\n",
      "[305]\tvalid_0's rmse: 0.894982\n",
      "[306]\tvalid_0's rmse: 0.894946\n"
     ]
    },
    {
     "data": {
      "text/plain": [
       "0"
      ]
     },
     "execution_count": 13,
     "metadata": {},
     "output_type": "execute_result"
    }
   ],
   "source": [
    "seed = 0\n",
    "folds = 3\n",
    "models = []\n",
    "\n",
    "skf = StratifiedKFold(folds, shuffle = True, random_state = seed)\n",
    "\n",
    "for train_index, test_index in skf.split(train_df, train_df['investment_id']):\n",
    "    train = train_df.iloc[train_index]\n",
    "    valid = train_df.iloc[test_index]\n",
    "    \n",
    "    lgbm = LGBMRegressor(**params)\n",
    "    '''\n",
    "        num_leaves=2 ** np.random.randint(3, 8),\n",
    "        learning_rate = 10 ** (-np.random.uniform(0.1,2)),\n",
    "        n_estimators = 500,\n",
    "        min_child_samples = 1000, \n",
    "        subsample=np.random.uniform(0.5,1.0), \n",
    "        subsample_freq=1,\n",
    "        n_jobs= -1,\n",
    "        tree_method ='gpu_hist' ,\n",
    "    '''\n",
    "    \n",
    "    lgbm.fit(train[feature_cols], train['target'], eval_set = (valid[feature_cols], valid['target']))\n",
    "    models.append(lgbm)\n",
    "    gc.collect()\n",
    "gc.collect()"
   ]
  },
  {
   "cell_type": "markdown",
   "id": "0e90c37a",
   "metadata": {
    "papermill": {
     "duration": 0.278874,
     "end_time": "2022-04-10T03:11:27.308383",
     "exception": false,
     "start_time": "2022-04-10T03:11:27.029509",
     "status": "completed"
    },
    "tags": []
   },
   "source": [
    "- 머신러닝을 통해 나온 결과로 feature 별 중요도 그래프"
   ]
  },
  {
   "cell_type": "code",
   "execution_count": 14,
   "id": "4625a607",
   "metadata": {
    "execution": {
     "iopub.execute_input": "2022-04-10T03:11:27.870355Z",
     "iopub.status.busy": "2022-04-10T03:11:27.867137Z",
     "iopub.status.idle": "2022-04-10T03:11:32.958967Z",
     "shell.execute_reply": "2022-04-10T03:11:32.959446Z"
    },
    "papermill": {
     "duration": 5.374343,
     "end_time": "2022-04-10T03:11:32.959606",
     "exception": false,
     "start_time": "2022-04-10T03:11:27.585263",
     "status": "completed"
    },
    "tags": []
   },
   "outputs": [
    {
     "data": {
      "text/plain": [
       "260"
      ]
     },
     "execution_count": 14,
     "metadata": {},
     "output_type": "execute_result"
    },
    {
     "data": {
      "image/png": "[encoded data removed]",
      "text/plain": [
       "<Figure size 1440x4320 with 1 Axes>"
      ]
     },
     "metadata": {
      "needs_background": "light"
     },
     "output_type": "display_data"
    }
   ],
   "source": [
    "import lightgbm\n",
    "lightgbm.plot_importance(lgbm, figsize = (20, 60))\n",
    "gc.collect()"
   ]
  },
  {
   "cell_type": "markdown",
   "id": "071d6fa6",
   "metadata": {
    "papermill": {
     "duration": 0.287813,
     "end_time": "2022-04-10T03:11:33.538225",
     "exception": false,
     "start_time": "2022-04-10T03:11:33.250412",
     "status": "completed"
    },
    "tags": []
   },
   "source": [
    "# Step 6. 예측 및 제출"
   ]
  },
  {
   "cell_type": "markdown",
   "id": "313986c5",
   "metadata": {
    "papermill": {
     "duration": 0.289891,
     "end_time": "2022-04-10T03:11:34.117472",
     "exception": false,
     "start_time": "2022-04-10T03:11:33.827581",
     "status": "completed"
    },
    "tags": []
   },
   "source": [
    "- 주최측에서 제공하는 API를 통해 제출"
   ]
  },
  {
   "cell_type": "code",
   "execution_count": 15,
   "id": "4844860e",
   "metadata": {
    "execution": {
     "iopub.execute_input": "2022-04-10T03:11:34.693696Z",
     "iopub.status.busy": "2022-04-10T03:11:34.693102Z",
     "iopub.status.idle": "2022-04-10T03:11:34.716963Z",
     "shell.execute_reply": "2022-04-10T03:11:34.717423Z"
    },
    "papermill": {
     "duration": 0.313787,
     "end_time": "2022-04-10T03:11:34.717589",
     "exception": false,
     "start_time": "2022-04-10T03:11:34.403802",
     "status": "completed"
    },
    "tags": []
   },
   "outputs": [],
   "source": [
    "import ubiquant\n",
    "env = ubiquant.make_env()   # initialize the environment\n",
    "iter_test = env.iter_test()    # an iterator which loops over the test set and sample submission\n"
   ]
  },
  {
   "cell_type": "code",
   "execution_count": 16,
   "id": "279c71b2",
   "metadata": {
    "execution": {
     "iopub.execute_input": "2022-04-10T03:11:35.298608Z",
     "iopub.status.busy": "2022-04-10T03:11:35.298001Z",
     "iopub.status.idle": "2022-04-10T03:11:35.413412Z",
     "shell.execute_reply": "2022-04-10T03:11:35.412807Z"
    },
    "papermill": {
     "duration": 0.406387,
     "end_time": "2022-04-10T03:11:35.413554",
     "exception": false,
     "start_time": "2022-04-10T03:11:35.007167",
     "status": "completed"
    },
    "tags": []
   },
   "outputs": [
    {
     "name": "stdout",
     "output_type": "stream",
     "text": [
      "This version of the API is not optimized and should not be used to estimate the runtime of your code on the hidden test set.\n"
     ]
    }
   ],
   "source": [
    "for (test_df, sample_prediction_df) in iter_test:\n",
    "    \n",
    "    test_df['target']  = 0\n",
    "    \n",
    "    for lgbm in models:\n",
    "        test_df['target'] += lgbm.predict(test_df[feature_cols])\n",
    "    test_df['target'] /= len(models)\n",
    "    env.predict(test_df[['row_id','target']])"
   ]
  },
  {
   "cell_type": "markdown",
   "id": "02de3a1c",
   "metadata": {
    "papermill": {
     "duration": 0.291879,
     "end_time": "2022-04-10T03:11:35.992708",
     "exception": false,
     "start_time": "2022-04-10T03:11:35.700829",
     "status": "completed"
    },
    "tags": []
   },
   "source": [
    "# References :    \n",
    "https://www.kaggle.com/code/yoshikuwano/fast-read-data-and-memory-optimization/notebook   \n",
    "https://www.kaggle.com/code/rohanrao/tutorial-on-reading-large-datasets/notebook#Format:-csv   \n",
    "https://www.kaggle.com/code/sytuannguyen/ubiquant-data-preparation#3.-Save-the-reduced-dataframe   \n",
    "https://www.kaggle.com/code/jnegrini/ubiquant-eda    \n",
    "https://www.kaggle.com/code/gunesevitan/ubiquant-market-prediction-eda/notebook#3.-Target   \n",
    "https://www.kaggle.com/code/ilialar/ubiquant-eda-and-baseline#Features    \n",
    "https://www.kaggle.com/competitions/ubiquant-market-prediction/data    \n",
    "https://www.kaggle.com/code/larochemf/ubiquant-low-memory-use-be-careful/notebook    \n",
    "https://www.kaggle.com/code/robikscube/fast-data-loading-and-low-mem-with-parquet-files/notebook    \n",
    "https://www.kaggle.com/code/lucamassaron/eda-target-analysis       \n",
    "https://www.kaggle.com/code/edwardcrookenden/eda-and-lgbm-baseline-feature-imp    \n",
    "https://www.kaggle.com/competitions/ubiquant-market-prediction/discussion/305031    \n",
    "https://www.kaggle.com/code/junjitakeshima/ubiquant-simple-lgbm-removing-outliers-en-jp/notebook#(1)-Read-Trainiing-Data    \n",
    "https://www.kaggle.com/code/valleyzw/ubiquant-lgbm-baseline/notebook#Stock-market-calendar-analysis:-discussion     \n",
    "https://www.kaggle.com/code/sytuannguyen/ubiquant-with-lightgbm   \n",
    "https://www.kaggle.com/code/jiprud/simple-light-gbm   \n",
    "https://www.kaggle.com/code/ilialar/ubiquant-eda-and-baseline#Model-training"
   ]
  }
 ],
 "metadata": {
  "kernelspec": {
   "display_name": "Python 3",
   "language": "python",
   "name": "python3"
  },
  "language_info": {
   "codemirror_mode": {
    "name": "ipython",
    "version": 3
   },
   "file_extension": ".py",
   "mimetype": "text/x-python",
   "name": "python",
   "nbconvert_exporter": "python",
   "pygments_lexer": "ipython3",
   "version": "3.7.12"
  },
  "papermill": {
   "default_parameters": {},
   "duration": 1513.387769,
   "end_time": "2022-04-10T03:11:37.899136",
   "environment_variables": {},
   "exception": null,
   "input_path": "__notebook__.ipynb",
   "output_path": "__notebook__.ipynb",
   "parameters": {},
   "start_time": "2022-04-10T02:46:24.511367",
   "version": "2.3.3"
  }
 },
 "nbformat": 4,
 "nbformat_minor": 5
}
