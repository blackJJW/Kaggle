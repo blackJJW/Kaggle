{
 "cells": [
  {
   "cell_type": "markdown",
   "id": "6f8b13fe",
   "metadata": {
    "papermill": {
     "duration": 0.031022,
     "end_time": "2022-04-10T03:48:05.460196",
     "exception": false,
     "start_time": "2022-04-10T03:48:05.429174",
     "status": "completed"
    },
    "tags": []
   },
   "source": [
    "# 프로젝트 개요\n",
    "- 강의명 : 2022년 K-디지털 직업훈련(Training) 사업 - AI데이터플랫폼을 활용한 빅데이터 분석전문가 과정\n",
    "- 교과목명 : 빅데이터 분석 및 시각화, AI개발 기초, 인공지능 프로그래밍\n",
    "- 프로젝트 주제 : Ubiquant Market 데이터를 활용한 미래 투자 예측\n",
    "- 프로젝트 마감일 : 2022년 4월 12일 화요일\n",
    "- 강사명 : 정지훈 강사\n",
    "- 수강생명 : 정진우"
   ]
  },
  {
   "cell_type": "markdown",
   "id": "91efa654",
   "metadata": {
    "papermill": {
     "duration": 0.028827,
     "end_time": "2022-04-10T03:48:05.520908",
     "exception": false,
     "start_time": "2022-04-10T03:48:05.492081",
     "status": "completed"
    },
    "tags": []
   },
   "source": [
    "## < Score Improvement History >\n",
    "|#|> std * x|k-fold|score|\n",
    "|:-:|:-:|:-:|:-:|\n",
    "|1|> std * 70|3|0.1388|\n",
    "|2|> std * 60|3|0.1387|\n",
    "|3|> std * 50|3||\n",
    "|4|> std * 40|3||\n",
    "|5|> std * 30|3||"
   ]
  },
  {
   "cell_type": "markdown",
   "id": "7bf9faa2",
   "metadata": {
    "papermill": {
     "duration": 0.028347,
     "end_time": "2022-04-10T03:48:05.577922",
     "exception": false,
     "start_time": "2022-04-10T03:48:05.549575",
     "status": "completed"
    },
    "tags": []
   },
   "source": [
    "# Step 1 ~ 3 :    \n",
    "https://www.kaggle.com/code/blackjjw/ubiquant-eda\n",
    "## dataset :   \n",
    "https://www.kaggle.com/datasets/blackjjw/ubiquant-train-df-low-memory-pkl"
   ]
  },
  {
   "cell_type": "markdown",
   "id": "60f94706",
   "metadata": {
    "papermill": {
     "duration": 0.028269,
     "end_time": "2022-04-10T03:48:05.634872",
     "exception": false,
     "start_time": "2022-04-10T03:48:05.606603",
     "status": "completed"
    },
    "tags": []
   },
   "source": [
    "# 라이브러리 불러오기"
   ]
  },
  {
   "cell_type": "code",
   "execution_count": 1,
   "id": "facde9d5",
   "metadata": {
    "_cell_guid": "b1076dfc-b9ad-4769-8c92-a6c4dae69d19",
    "_uuid": "8f2839f25d086af736a60e9eeb907d3b93b6e0e5",
    "execution": {
     "iopub.execute_input": "2022-04-10T03:48:05.697642Z",
     "iopub.status.busy": "2022-04-10T03:48:05.696377Z",
     "iopub.status.idle": "2022-04-10T03:48:08.155212Z",
     "shell.execute_reply": "2022-04-10T03:48:08.154395Z",
     "shell.execute_reply.started": "2022-04-10T03:47:19.892783Z"
    },
    "papermill": {
     "duration": 2.491452,
     "end_time": "2022-04-10T03:48:08.155419",
     "exception": false,
     "start_time": "2022-04-10T03:48:05.663967",
     "status": "completed"
    },
    "tags": []
   },
   "outputs": [
    {
     "data": {
      "text/html": [
       "<style type='text/css'>\n",
       ".datatable table.frame { margin-bottom: 0; }\n",
       ".datatable table.frame thead { border-bottom: none; }\n",
       ".datatable table.frame tr.coltypes td {  color: #FFFFFF;  line-height: 6px;  padding: 0 0.5em;}\n",
       ".datatable .bool    { background: #DDDD99; }\n",
       ".datatable .object  { background: #565656; }\n",
       ".datatable .int     { background: #5D9E5D; }\n",
       ".datatable .float   { background: #4040CC; }\n",
       ".datatable .str     { background: #CC4040; }\n",
       ".datatable .time    { background: #40CC40; }\n",
       ".datatable .row_index {  background: var(--jp-border-color3);  border-right: 1px solid var(--jp-border-color0);  color: var(--jp-ui-font-color3);  font-size: 9px;}\n",
       ".datatable .frame tbody td { text-align: left; }\n",
       ".datatable .frame tr.coltypes .row_index {  background: var(--jp-border-color0);}\n",
       ".datatable th:nth-child(2) { padding-left: 12px; }\n",
       ".datatable .hellipsis {  color: var(--jp-cell-editor-border-color);}\n",
       ".datatable .vellipsis {  background: var(--jp-layout-color0);  color: var(--jp-cell-editor-border-color);}\n",
       ".datatable .na {  color: var(--jp-cell-editor-border-color);  font-size: 80%;}\n",
       ".datatable .sp {  opacity: 0.25;}\n",
       ".datatable .footer { font-size: 9px; }\n",
       ".datatable .frame_dimensions {  background: var(--jp-border-color3);  border-top: 1px solid var(--jp-border-color0);  color: var(--jp-ui-font-color3);  display: inline-block;  opacity: 0.6;  padding: 1px 10px 1px 5px;}\n",
       "</style>\n"
      ],
      "text/plain": [
       "<IPython.core.display.HTML object>"
      ]
     },
     "metadata": {},
     "output_type": "display_data"
    }
   ],
   "source": [
    "import numpy as np\n",
    "import pandas as pd\n",
    "\n",
    "import gc\n",
    "import joblib\n",
    "\n",
    "import matplotlib.pyplot as plt\n",
    "%matplotlib inline\n",
    "import seaborn as sns\n",
    "import scipy as stats\n",
    "\n",
    "from sklearn import preprocessing\n",
    "from sklearn.model_selection import StratifiedKFold \n",
    "from sklearn.model_selection import GroupKFold\n",
    "from sklearn.model_selection import train_test_split\n",
    "from sklearn.metrics import mean_squared_error, mean_absolute_error, accuracy_score, confusion_matrix\n",
    "from sklearn.ensemble import RandomForestRegressor\n",
    "\n",
    "import lightgbm as lgbm\n",
    "from lightgbm import *"
   ]
  },
  {
   "cell_type": "markdown",
   "id": "217021ce",
   "metadata": {
    "papermill": {
     "duration": 0.03008,
     "end_time": "2022-04-10T03:48:08.216126",
     "exception": false,
     "start_time": "2022-04-10T03:48:08.186046",
     "status": "completed"
    },
    "tags": []
   },
   "source": [
    "# 데이터 불러오기\n",
    "- Step 1 ~ 3에서 진행하고 생성한 train_df.pkl를 read."
   ]
  },
  {
   "cell_type": "code",
   "execution_count": 2,
   "id": "76a15e31",
   "metadata": {
    "execution": {
     "iopub.execute_input": "2022-04-10T03:48:08.282882Z",
     "iopub.status.busy": "2022-04-10T03:48:08.282118Z",
     "iopub.status.idle": "2022-04-10T03:48:26.634078Z",
     "shell.execute_reply": "2022-04-10T03:48:26.633515Z",
     "shell.execute_reply.started": "2022-04-10T03:47:22.268606Z"
    },
    "papermill": {
     "duration": 18.38799,
     "end_time": "2022-04-10T03:48:26.634229",
     "exception": false,
     "start_time": "2022-04-10T03:48:08.246239",
     "status": "completed"
    },
    "tags": []
   },
   "outputs": [
    {
     "name": "stdout",
     "output_type": "stream",
     "text": [
      "CPU times: user 1.21 s, sys: 2.86 s, total: 4.08 s\n",
      "Wall time: 18.3 s\n"
     ]
    },
    {
     "data": {
      "text/html": [
       "<div>\n",
       "<style scoped>\n",
       "    .dataframe tbody tr th:only-of-type {\n",
       "        vertical-align: middle;\n",
       "    }\n",
       "\n",
       "    .dataframe tbody tr th {\n",
       "        vertical-align: top;\n",
       "    }\n",
       "\n",
       "    .dataframe thead th {\n",
       "        text-align: right;\n",
       "    }\n",
       "</style>\n",
       "<table border=\"1\" class=\"dataframe\">\n",
       "  <thead>\n",
       "    <tr style=\"text-align: right;\">\n",
       "      <th></th>\n",
       "      <th>row_id</th>\n",
       "      <th>time_id</th>\n",
       "      <th>investment_id</th>\n",
       "      <th>target</th>\n",
       "      <th>f_0</th>\n",
       "      <th>f_1</th>\n",
       "      <th>f_2</th>\n",
       "      <th>f_3</th>\n",
       "      <th>f_4</th>\n",
       "      <th>f_5</th>\n",
       "      <th>...</th>\n",
       "      <th>f_290</th>\n",
       "      <th>f_291</th>\n",
       "      <th>f_292</th>\n",
       "      <th>f_293</th>\n",
       "      <th>f_294</th>\n",
       "      <th>f_295</th>\n",
       "      <th>f_296</th>\n",
       "      <th>f_297</th>\n",
       "      <th>f_298</th>\n",
       "      <th>f_299</th>\n",
       "    </tr>\n",
       "  </thead>\n",
       "  <tbody>\n",
       "    <tr>\n",
       "      <th>0</th>\n",
       "      <td>0_1</td>\n",
       "      <td>0</td>\n",
       "      <td>1</td>\n",
       "      <td>-0.300781</td>\n",
       "      <td>0.932617</td>\n",
       "      <td>0.113708</td>\n",
       "      <td>-0.402100</td>\n",
       "      <td>0.378418</td>\n",
       "      <td>-0.203979</td>\n",
       "      <td>-0.413574</td>\n",
       "      <td>...</td>\n",
       "      <td>0.365967</td>\n",
       "      <td>-1.095703</td>\n",
       "      <td>0.200073</td>\n",
       "      <td>0.819336</td>\n",
       "      <td>0.941406</td>\n",
       "      <td>-0.086792</td>\n",
       "      <td>-1.086914</td>\n",
       "      <td>-1.044922</td>\n",
       "      <td>-0.287598</td>\n",
       "      <td>0.321533</td>\n",
       "    </tr>\n",
       "    <tr>\n",
       "      <th>1</th>\n",
       "      <td>0_2</td>\n",
       "      <td>0</td>\n",
       "      <td>2</td>\n",
       "      <td>-0.231079</td>\n",
       "      <td>0.811035</td>\n",
       "      <td>-0.514160</td>\n",
       "      <td>0.742188</td>\n",
       "      <td>-0.616699</td>\n",
       "      <td>-0.194214</td>\n",
       "      <td>1.771484</td>\n",
       "      <td>...</td>\n",
       "      <td>-0.154175</td>\n",
       "      <td>0.912598</td>\n",
       "      <td>-0.734375</td>\n",
       "      <td>0.819336</td>\n",
       "      <td>0.941406</td>\n",
       "      <td>-0.387695</td>\n",
       "      <td>-1.086914</td>\n",
       "      <td>-0.929688</td>\n",
       "      <td>-0.974121</td>\n",
       "      <td>-0.343506</td>\n",
       "    </tr>\n",
       "    <tr>\n",
       "      <th>2</th>\n",
       "      <td>0_6</td>\n",
       "      <td>0</td>\n",
       "      <td>6</td>\n",
       "      <td>0.568848</td>\n",
       "      <td>0.394043</td>\n",
       "      <td>0.615723</td>\n",
       "      <td>0.567871</td>\n",
       "      <td>-0.607910</td>\n",
       "      <td>0.068909</td>\n",
       "      <td>-1.083008</td>\n",
       "      <td>...</td>\n",
       "      <td>-0.138062</td>\n",
       "      <td>0.912598</td>\n",
       "      <td>-0.551758</td>\n",
       "      <td>-1.220703</td>\n",
       "      <td>-1.060547</td>\n",
       "      <td>-0.219116</td>\n",
       "      <td>-1.086914</td>\n",
       "      <td>-0.612305</td>\n",
       "      <td>-0.113953</td>\n",
       "      <td>0.243652</td>\n",
       "    </tr>\n",
       "    <tr>\n",
       "      <th>3</th>\n",
       "      <td>0_7</td>\n",
       "      <td>0</td>\n",
       "      <td>7</td>\n",
       "      <td>-1.064453</td>\n",
       "      <td>-2.343750</td>\n",
       "      <td>-0.011871</td>\n",
       "      <td>1.875000</td>\n",
       "      <td>-0.606445</td>\n",
       "      <td>-0.586914</td>\n",
       "      <td>-0.815918</td>\n",
       "      <td>...</td>\n",
       "      <td>0.382080</td>\n",
       "      <td>0.912598</td>\n",
       "      <td>-0.266357</td>\n",
       "      <td>-1.220703</td>\n",
       "      <td>0.941406</td>\n",
       "      <td>-0.608887</td>\n",
       "      <td>0.104919</td>\n",
       "      <td>-0.783203</td>\n",
       "      <td>1.151367</td>\n",
       "      <td>-0.773438</td>\n",
       "    </tr>\n",
       "    <tr>\n",
       "      <th>4</th>\n",
       "      <td>0_8</td>\n",
       "      <td>0</td>\n",
       "      <td>8</td>\n",
       "      <td>-0.531738</td>\n",
       "      <td>0.842285</td>\n",
       "      <td>-0.262939</td>\n",
       "      <td>2.330078</td>\n",
       "      <td>-0.583496</td>\n",
       "      <td>-0.618164</td>\n",
       "      <td>-0.742676</td>\n",
       "      <td>...</td>\n",
       "      <td>-0.170410</td>\n",
       "      <td>0.912598</td>\n",
       "      <td>-0.741211</td>\n",
       "      <td>-1.220703</td>\n",
       "      <td>0.941406</td>\n",
       "      <td>-0.588379</td>\n",
       "      <td>0.104919</td>\n",
       "      <td>0.753418</td>\n",
       "      <td>1.345703</td>\n",
       "      <td>-0.737793</td>\n",
       "    </tr>\n",
       "  </tbody>\n",
       "</table>\n",
       "<p>5 rows × 304 columns</p>\n",
       "</div>"
      ],
      "text/plain": [
       "  row_id  time_id  investment_id    target       f_0       f_1       f_2  \\\n",
       "0    0_1        0              1 -0.300781  0.932617  0.113708 -0.402100   \n",
       "1    0_2        0              2 -0.231079  0.811035 -0.514160  0.742188   \n",
       "2    0_6        0              6  0.568848  0.394043  0.615723  0.567871   \n",
       "3    0_7        0              7 -1.064453 -2.343750 -0.011871  1.875000   \n",
       "4    0_8        0              8 -0.531738  0.842285 -0.262939  2.330078   \n",
       "\n",
       "        f_3       f_4       f_5  ...     f_290     f_291     f_292     f_293  \\\n",
       "0  0.378418 -0.203979 -0.413574  ...  0.365967 -1.095703  0.200073  0.819336   \n",
       "1 -0.616699 -0.194214  1.771484  ... -0.154175  0.912598 -0.734375  0.819336   \n",
       "2 -0.607910  0.068909 -1.083008  ... -0.138062  0.912598 -0.551758 -1.220703   \n",
       "3 -0.606445 -0.586914 -0.815918  ...  0.382080  0.912598 -0.266357 -1.220703   \n",
       "4 -0.583496 -0.618164 -0.742676  ... -0.170410  0.912598 -0.741211 -1.220703   \n",
       "\n",
       "      f_294     f_295     f_296     f_297     f_298     f_299  \n",
       "0  0.941406 -0.086792 -1.086914 -1.044922 -0.287598  0.321533  \n",
       "1  0.941406 -0.387695 -1.086914 -0.929688 -0.974121 -0.343506  \n",
       "2 -1.060547 -0.219116 -1.086914 -0.612305 -0.113953  0.243652  \n",
       "3  0.941406 -0.608887  0.104919 -0.783203  1.151367 -0.773438  \n",
       "4  0.941406 -0.588379  0.104919  0.753418  1.345703 -0.737793  \n",
       "\n",
       "[5 rows x 304 columns]"
      ]
     },
     "execution_count": 2,
     "metadata": {},
     "output_type": "execute_result"
    }
   ],
   "source": [
    "%%time\n",
    "train_df = pd.read_pickle('../input/ubiquant-train-df-low-memory-pkl/train_df.pkl')\n",
    "train_df.head()"
   ]
  },
  {
   "cell_type": "markdown",
   "id": "5ea54120",
   "metadata": {
    "papermill": {
     "duration": 0.030217,
     "end_time": "2022-04-10T03:48:26.696864",
     "exception": false,
     "start_time": "2022-04-10T03:48:26.666647",
     "status": "completed"
    },
    "tags": []
   },
   "source": [
    "# Step 4. 데이터 전처리"
   ]
  },
  {
   "cell_type": "markdown",
   "id": "d02ca448",
   "metadata": {
    "papermill": {
     "duration": 0.030243,
     "end_time": "2022-04-10T03:48:26.759644",
     "exception": false,
     "start_time": "2022-04-10T03:48:26.729401",
     "status": "completed"
    },
    "tags": []
   },
   "source": [
    "## 필요없는 컬럼 제거\n",
    "- row_id는 단순 행 번호를 나타내므로 제거.\n",
    "- 컬럼 리스트를 따로 생성하고 'row_id' 제거.\n",
    "- 'time_id' 제거\n",
    "- 종속변수인 'target' 제거.\n",
    "- 필요없는 컬럼이 생성된 리스트를 통해 필요한 컬럼들만 추출하여 사용."
   ]
  },
  {
   "cell_type": "code",
   "execution_count": 3,
   "id": "0ef24501",
   "metadata": {
    "execution": {
     "iopub.execute_input": "2022-04-10T03:48:26.829883Z",
     "iopub.status.busy": "2022-04-10T03:48:26.829199Z",
     "iopub.status.idle": "2022-04-10T03:48:26.834516Z",
     "shell.execute_reply": "2022-04-10T03:48:26.834007Z",
     "shell.execute_reply.started": "2022-04-10T03:47:40.471329Z"
    },
    "papermill": {
     "duration": 0.044547,
     "end_time": "2022-04-10T03:48:26.834674",
     "exception": false,
     "start_time": "2022-04-10T03:48:26.790127",
     "status": "completed"
    },
    "tags": []
   },
   "outputs": [
    {
     "data": {
      "text/plain": [
       "Index(['investment_id', 'f_0', 'f_1', 'f_2', 'f_3', 'f_4', 'f_5', 'f_6', 'f_7',\n",
       "       'f_8',\n",
       "       ...\n",
       "       'f_290', 'f_291', 'f_292', 'f_293', 'f_294', 'f_295', 'f_296', 'f_297',\n",
       "       'f_298', 'f_299'],\n",
       "      dtype='object', length=301)"
      ]
     },
     "execution_count": 3,
     "metadata": {},
     "output_type": "execute_result"
    }
   ],
   "source": [
    "feature_cols = train_df.columns.unique()\n",
    "feature_cols = feature_cols.drop(['row_id', 'target', 'time_id'])\n",
    "feature_cols"
   ]
  },
  {
   "cell_type": "markdown",
   "id": "649a58b7",
   "metadata": {
    "papermill": {
     "duration": 0.03086,
     "end_time": "2022-04-10T03:48:26.896895",
     "exception": false,
     "start_time": "2022-04-10T03:48:26.866035",
     "status": "completed"
    },
    "tags": []
   },
   "source": [
    "## 결측치 제거\n",
    "- dataset 내에 결측치가 존재하지 않음."
   ]
  },
  {
   "cell_type": "markdown",
   "id": "555899ba",
   "metadata": {
    "papermill": {
     "duration": 0.030801,
     "end_time": "2022-04-10T03:48:26.959262",
     "exception": false,
     "start_time": "2022-04-10T03:48:26.928461",
     "status": "completed"
    },
    "tags": []
   },
   "source": [
    "## 이상치 제거\n",
    "- 평균에서 멀리 떨어져 있는 값들을 제거 (> std*num)"
   ]
  },
  {
   "cell_type": "markdown",
   "id": "d9cd9a75",
   "metadata": {
    "papermill": {
     "duration": 0.030684,
     "end_time": "2022-04-10T03:48:27.021003",
     "exception": false,
     "start_time": "2022-04-10T03:48:26.990319",
     "status": "completed"
    },
    "tags": []
   },
   "source": [
    "## mean > std * x\n",
    "- 이상치의 개수와 리스트를 반환\n",
    "|x|outlier count|\n",
    "|:-----:|:-----:|\n",
    "|70|128|\n",
    "|60|325|\n",
    "|50|788|\n",
    "|40|2232|"
   ]
  },
  {
   "cell_type": "code",
   "execution_count": 4,
   "id": "4c1653c6",
   "metadata": {
    "execution": {
     "iopub.execute_input": "2022-04-10T03:48:27.093843Z",
     "iopub.status.busy": "2022-04-10T03:48:27.093064Z",
     "iopub.status.idle": "2022-04-10T03:48:55.330085Z",
     "shell.execute_reply": "2022-04-10T03:48:55.330806Z"
    },
    "papermill": {
     "duration": 28.278762,
     "end_time": "2022-04-10T03:48:55.331054",
     "exception": false,
     "start_time": "2022-04-10T03:48:27.052292",
     "status": "completed"
    },
    "tags": []
   },
   "outputs": [
    {
     "name": "stdout",
     "output_type": "stream",
     "text": [
      "f_3 40\n",
      "f_4 473\n",
      "f_8 1\n",
      "f_10 409\n",
      "f_11 1\n",
      "f_12 5\n",
      "f_13 87\n",
      "f_23 103\n",
      "f_37 4\n",
      "f_38 182\n",
      "f_39 47\n",
      "f_40 117\n",
      "f_44 1\n",
      "f_45 21\n",
      "f_49 38\n",
      "f_54 13\n",
      "f_55 8\n",
      "f_62 2\n",
      "f_64 115\n",
      "f_71 9\n",
      "f_74 715\n",
      "f_77 11\n",
      "f_78 473\n",
      "f_80 48\n",
      "f_83 229\n",
      "f_84 123\n",
      "f_87 8\n",
      "f_89 9\n",
      "f_95 40\n",
      "f_99 19\n",
      "f_101 117\n",
      "f_102 29\n",
      "f_104 1\n",
      "f_108 18\n",
      "f_110 1\n",
      "f_113 81\n",
      "f_115 331\n",
      "f_117 135\n",
      "f_118 6\n",
      "f_122 6\n",
      "f_123 95\n",
      "f_124 26\n",
      "f_127 673\n",
      "f_128 12\n",
      "f_129 3\n",
      "f_131 107\n",
      "f_136 2\n",
      "f_137 3\n",
      "f_145 2\n",
      "f_149 2\n",
      "f_151 153\n",
      "f_153 83\n",
      "f_155 74\n",
      "f_158 6\n",
      "f_160 20\n",
      "f_162 97\n",
      "f_165 1\n",
      "f_172 71\n",
      "f_174 1\n",
      "f_175 42\n",
      "f_179 6\n",
      "f_183 695\n",
      "f_184 1\n",
      "f_188 20\n",
      "f_193 42\n",
      "f_196 2\n",
      "f_197 1\n",
      "f_200 118\n",
      "f_201 35\n",
      "f_202 9\n",
      "f_204 50\n",
      "f_209 19\n",
      "f_214 1\n",
      "f_215 18\n",
      "f_219 1\n",
      "f_224 379\n",
      "f_228 231\n",
      "f_233 4\n",
      "f_236 278\n",
      "f_245 86\n",
      "f_249 1\n",
      "f_250 5\n",
      "f_251 41\n",
      "f_262 230\n",
      "f_265 2\n",
      "f_269 50\n",
      "f_271 92\n",
      "f_277 1\n",
      "f_280 28\n",
      "f_286 134\n",
      "f_288 48\n",
      "f_289 209\n",
      "f_295 1\n",
      "f_299 68\n",
      "5707\n"
     ]
    },
    {
     "data": {
      "text/plain": [
       "0"
      ]
     },
     "execution_count": 4,
     "metadata": {},
     "output_type": "execute_result"
    }
   ],
   "source": [
    "outlier_list = []\n",
    "num = 30\n",
    "\n",
    "for col in feature_cols :\n",
    "    trans_dtype_df = train_df[col].astype(np.float32)\n",
    "    \n",
    "    temp_df = train_df[(trans_dtype_df > trans_dtype_df.mean() + trans_dtype_df.std() * num) |\n",
    "                       (trans_dtype_df < trans_dtype_df.mean() - trans_dtype_df.std() * num) ]\n",
    "    if len(temp_df) >0 :\n",
    "        outliers = temp_df.index.to_list()\n",
    "        outlier_list.extend(outliers)\n",
    "        print(col, len(temp_df))\n",
    "        gc.collect()\n",
    "\n",
    "outlier_list = list(set(outlier_list))\n",
    "print(len(outlier_list))\n",
    "gc.collect()"
   ]
  },
  {
   "cell_type": "markdown",
   "id": "1d28543d",
   "metadata": {
    "papermill": {
     "duration": 0.050437,
     "end_time": "2022-04-10T03:48:55.432865",
     "exception": false,
     "start_time": "2022-04-10T03:48:55.382428",
     "status": "completed"
    },
    "tags": []
   },
   "source": [
    "- 이상치 제거"
   ]
  },
  {
   "cell_type": "code",
   "execution_count": 5,
   "id": "f0e5a806",
   "metadata": {
    "execution": {
     "iopub.execute_input": "2022-04-10T03:48:55.538317Z",
     "iopub.status.busy": "2022-04-10T03:48:55.537333Z",
     "iopub.status.idle": "2022-04-10T03:49:04.063195Z",
     "shell.execute_reply": "2022-04-10T03:49:04.062562Z"
    },
    "papermill": {
     "duration": 8.579933,
     "end_time": "2022-04-10T03:49:04.063351",
     "exception": false,
     "start_time": "2022-04-10T03:48:55.483418",
     "status": "completed"
    },
    "tags": []
   },
   "outputs": [
    {
     "data": {
      "text/plain": [
       "21"
      ]
     },
     "execution_count": 5,
     "metadata": {},
     "output_type": "execute_result"
    }
   ],
   "source": [
    "train_df.drop(train_df.index[outlier_list], inplace = True)\n",
    "train_df\n",
    "gc.collect()"
   ]
  },
  {
   "cell_type": "markdown",
   "id": "a2b3fea5",
   "metadata": {
    "papermill": {
     "duration": 0.0519,
     "end_time": "2022-04-10T03:49:04.167963",
     "exception": false,
     "start_time": "2022-04-10T03:49:04.116063",
     "status": "completed"
    },
    "tags": []
   },
   "source": [
    "# Step 5. 머신러닝 모형 개발"
   ]
  },
  {
   "cell_type": "markdown",
   "id": "b4908609",
   "metadata": {
    "papermill": {
     "duration": 0.05204,
     "end_time": "2022-04-10T03:49:04.273267",
     "exception": false,
     "start_time": "2022-04-10T03:49:04.221227",
     "status": "completed"
    },
    "tags": []
   },
   "source": [
    "- 독립변수와 종속변수를 구분."
   ]
  },
  {
   "cell_type": "code",
   "execution_count": 6,
   "id": "896379b3",
   "metadata": {
    "execution": {
     "iopub.execute_input": "2022-04-10T03:49:04.383895Z",
     "iopub.status.busy": "2022-04-10T03:49:04.382793Z",
     "iopub.status.idle": "2022-04-10T03:49:04.384786Z",
     "shell.execute_reply": "2022-04-10T03:49:04.385321Z"
    },
    "papermill": {
     "duration": 0.060383,
     "end_time": "2022-04-10T03:49:04.385551",
     "exception": false,
     "start_time": "2022-04-10T03:49:04.325168",
     "status": "completed"
    },
    "tags": []
   },
   "outputs": [],
   "source": [
    "#X = train_df[feature_cols]\n",
    "#y = train_df['target']"
   ]
  },
  {
   "cell_type": "markdown",
   "id": "a3b52f74",
   "metadata": {
    "papermill": {
     "duration": 0.052081,
     "end_time": "2022-04-10T03:49:04.490228",
     "exception": false,
     "start_time": "2022-04-10T03:49:04.438147",
     "status": "completed"
    },
    "tags": []
   },
   "source": [
    "- X, y 데이터 분리"
   ]
  },
  {
   "cell_type": "code",
   "execution_count": 7,
   "id": "79f91493",
   "metadata": {
    "execution": {
     "iopub.execute_input": "2022-04-10T03:49:04.600321Z",
     "iopub.status.busy": "2022-04-10T03:49:04.599676Z",
     "iopub.status.idle": "2022-04-10T03:49:04.603495Z",
     "shell.execute_reply": "2022-04-10T03:49:04.604059Z"
    },
    "papermill": {
     "duration": 0.060194,
     "end_time": "2022-04-10T03:49:04.604251",
     "exception": false,
     "start_time": "2022-04-10T03:49:04.544057",
     "status": "completed"
    },
    "tags": []
   },
   "outputs": [],
   "source": [
    "#X_train, X_valid, y_train, y_valid = train_test_split(X, y, test_size = 0.3, random_state = 42, shuffle = False)\n",
    "#X_train.shape, X_valid.shape, y_train.shape, y_valid.shape"
   ]
  },
  {
   "cell_type": "markdown",
   "id": "7290e2b3",
   "metadata": {
    "papermill": {
     "duration": 0.051907,
     "end_time": "2022-04-10T03:49:04.708419",
     "exception": false,
     "start_time": "2022-04-10T03:49:04.656512",
     "status": "completed"
    },
    "tags": []
   },
   "source": [
    "- RAM 확보를 위해 X, y 제거"
   ]
  },
  {
   "cell_type": "code",
   "execution_count": 8,
   "id": "5669df23",
   "metadata": {
    "execution": {
     "iopub.execute_input": "2022-04-10T03:49:04.819353Z",
     "iopub.status.busy": "2022-04-10T03:49:04.818662Z",
     "iopub.status.idle": "2022-04-10T03:49:04.821425Z",
     "shell.execute_reply": "2022-04-10T03:49:04.821935Z"
    },
    "papermill": {
     "duration": 0.061169,
     "end_time": "2022-04-10T03:49:04.822124",
     "exception": false,
     "start_time": "2022-04-10T03:49:04.760955",
     "status": "completed"
    },
    "tags": []
   },
   "outputs": [
    {
     "data": {
      "text/plain": [
       "'\\ndel X\\ndel y\\ngc.collect()\\n'"
      ]
     },
     "execution_count": 8,
     "metadata": {},
     "output_type": "execute_result"
    }
   ],
   "source": [
    "'''\n",
    "del X\n",
    "del y\n",
    "gc.collect()\n",
    "'''"
   ]
  },
  {
   "cell_type": "markdown",
   "id": "6fa0f951",
   "metadata": {
    "papermill": {
     "duration": 0.053404,
     "end_time": "2022-04-10T03:49:04.930699",
     "exception": false,
     "start_time": "2022-04-10T03:49:04.877295",
     "status": "completed"
    },
    "tags": []
   },
   "source": [
    "- LightGBM 클래스를 부른 후 모형을 학습"
   ]
  },
  {
   "cell_type": "code",
   "execution_count": 9,
   "id": "393fe9eb",
   "metadata": {
    "execution": {
     "iopub.execute_input": "2022-04-10T03:49:05.042306Z",
     "iopub.status.busy": "2022-04-10T03:49:05.041661Z",
     "iopub.status.idle": "2022-04-10T03:49:05.044849Z",
     "shell.execute_reply": "2022-04-10T03:49:05.045330Z"
    },
    "papermill": {
     "duration": 0.061817,
     "end_time": "2022-04-10T03:49:05.045513",
     "exception": false,
     "start_time": "2022-04-10T03:49:04.983696",
     "status": "completed"
    },
    "tags": []
   },
   "outputs": [
    {
     "data": {
      "text/plain": [
       "'\\nmodel = lgbm.LGBMRegressor(\\n        objective=\"regression\",\\n        metric=\"rmse\",\\n        n_estimators=500 )\\n\\nmodel.fit(X_train, y_train)\\n'"
      ]
     },
     "execution_count": 9,
     "metadata": {},
     "output_type": "execute_result"
    }
   ],
   "source": [
    "'''\n",
    "model = lgbm.LGBMRegressor(\n",
    "        objective=\"regression\",\n",
    "        metric=\"rmse\",\n",
    "        n_estimators=500 )\n",
    "\n",
    "model.fit(X_train, y_train)\n",
    "'''"
   ]
  },
  {
   "cell_type": "code",
   "execution_count": 10,
   "id": "d4a9455c",
   "metadata": {
    "execution": {
     "iopub.execute_input": "2022-04-10T03:49:05.161563Z",
     "iopub.status.busy": "2022-04-10T03:49:05.160908Z",
     "iopub.status.idle": "2022-04-10T03:49:05.163884Z",
     "shell.execute_reply": "2022-04-10T03:49:05.164361Z"
    },
    "papermill": {
     "duration": 0.062948,
     "end_time": "2022-04-10T03:49:05.164571",
     "exception": false,
     "start_time": "2022-04-10T03:49:05.101623",
     "status": "completed"
    },
    "tags": []
   },
   "outputs": [
    {
     "data": {
      "text/plain": [
       "'\\nfor j in [200, 300, 400, 500, 600]:\\n        model = lgbm.LGBMRegressor(\\n            objective=\"regression\",\\n            metric=\"rmse\",\\n            n_estimators= j )\\n\\n        model.fit(X_train, y_train)\\n\\n        score = model.score(X_train, y_train)\\n        print(f\"n_e:{j}, Training Score : {score}\")\\n\\n        y_pred = model.predict(X_valid)\\n        mse = mean_squared_error(y_valid, y_pred)\\n        print(f\"n_e:{j},MSE : {mse:.2f}\")\\n'"
      ]
     },
     "execution_count": 10,
     "metadata": {},
     "output_type": "execute_result"
    }
   ],
   "source": [
    "\"\"\"\n",
    "for j in [200, 300, 400, 500, 600]:\n",
    "        model = lgbm.LGBMRegressor(\n",
    "            objective=\"regression\",\n",
    "            metric=\"rmse\",\n",
    "            n_estimators= j )\n",
    "\n",
    "        model.fit(X_train, y_train)\n",
    "\n",
    "        score = model.score(X_train, y_train)\n",
    "        print(f\"n_e:{j}, Training Score : {score}\")\n",
    "\n",
    "        y_pred = model.predict(X_valid)\n",
    "        mse = mean_squared_error(y_valid, y_pred)\n",
    "        print(f\"n_e:{j},MSE : {mse:.2f}\")\n",
    "\"\"\""
   ]
  },
  {
   "cell_type": "markdown",
   "id": "0ef22835",
   "metadata": {
    "papermill": {
     "duration": 0.053039,
     "end_time": "2022-04-10T03:49:05.271646",
     "exception": false,
     "start_time": "2022-04-10T03:49:05.218607",
     "status": "completed"
    },
    "tags": []
   },
   "source": [
    "### Training_Score & MSE 계산\n",
    "|test_size|n_estimators|delete outliers|Training_Score|MSE|delete outliers|Training_Score|MSE|delete outliers|Training_Score|MSE|   \n",
    "|:---:|:---:|:---:|:---:|:---:|:---:|:---:|:---:|:---:|:---:|:---:|                              \n",
    "|0.2|200|X|0.054069993842590924|0.81|>std\\*70|0.05405621833673957(<span style=\"color:blue\">$\\downarrow$</span>)|0.81|>std\\*60|0.05404028505271219(<span style=\"color:blue\">$\\downarrow$</span>)|0.81|\n",
    "|0.3|200|X|0.05846368663812751|0.83|>std\\*70|0.058449805435160984(<span style=\"color:blue\">$\\downarrow$</span>)|0.82|>std\\*60|||\n",
    "|0.2|300|X|0.06668339494814646|0.82|>std\\*70|0.06660813482520711(<span style=\"color:blue\">$\\downarrow$</span>)|0.81|>std\\*60|0.06678748573971982(<span style=\"color:red\">$\\uparrow$</span>)|0.81|\n",
    "|0.3|300|X|0.07216780004832235|0.83|>std\\*70|0.07194148416323642(<span style=\"color:blue\">$\\downarrow$</span>)|0.83|>std\\*60|||\n",
    "|0.2|400|X|0.07730909212135473|0.82|>std\\*70|0.0772426438888425(<span style=\"color:blue\">$\\downarrow$</span>)|0.82|>std\\*60|0.07730612556862904(<span style=\"color:red\">$\\uparrow$</span>)|0.82|\n",
    "|0.3|400|X|0.08363594720433998|0.83|>std\\*70|0.08389302333398285(<span style=\"color:red\">$\\uparrow$</span>)|0.83|>std\\*60|||\n",
    "|0.2|500|X|0.08671736858043233|0.82|>std\\*70|0.08636877075690108(<span style=\"color:blue\">$\\downarrow$</span>)|0.82|>std\\*60|0.08657127960859345(<span style=\"color:red\">$\\uparrow$</span>)|0.82|\n",
    "|0.3|500|X|0.09377199406580616|0.83|>std\\*70|0.0941912571685275(<span style=\"color:red\">$\\uparrow$</span>)|0.83|>std\\*60|||\n",
    "|0.2|600|X|0.09585158203024369|0.82|>std\\*70|0.09531511104149593(<span style=\"color:blue\">$\\downarrow$</span>)|0.82|>std\\*60|0.09508766558702908(<span style=\"color:blue\">$\\downarrow$</span>)|0.82|\n",
    "|0.3|600|X|0.10299723306322961|0.83|>std\\*70|0.10381084559412301(<span style=\"color:red\">$\\uparrow$</span>)|0.83|>std\\*60|||\n",
    "|0.2|700|X|0.10387433272279445|0.82|>std\\*70|0.10403926054146928(<span style=\"color:blue\">$\\downarrow$</span>)|0.82|>std\\*60|X|X|"
   ]
  },
  {
   "cell_type": "markdown",
   "id": "ba001912",
   "metadata": {
    "papermill": {
     "duration": 0.053133,
     "end_time": "2022-04-10T03:49:05.377996",
     "exception": false,
     "start_time": "2022-04-10T03:49:05.324863",
     "status": "completed"
    },
    "tags": []
   },
   "source": [
    "- 이상치를 제거해도 전반적으로 training score가 항상 오르지 않는다.\n",
    "- 오히려 떨어지는 것으로 보임"
   ]
  },
  {
   "cell_type": "markdown",
   "id": "31bb266c",
   "metadata": {
    "papermill": {
     "duration": 0.052978,
     "end_time": "2022-04-10T03:49:05.484510",
     "exception": false,
     "start_time": "2022-04-10T03:49:05.431532",
     "status": "completed"
    },
    "tags": []
   },
   "source": [
    "- trianing score, MSE 계산"
   ]
  },
  {
   "cell_type": "code",
   "execution_count": 11,
   "id": "690037ef",
   "metadata": {
    "execution": {
     "iopub.execute_input": "2022-04-10T03:49:05.595349Z",
     "iopub.status.busy": "2022-04-10T03:49:05.594736Z",
     "iopub.status.idle": "2022-04-10T03:49:05.600298Z",
     "shell.execute_reply": "2022-04-10T03:49:05.599820Z"
    },
    "papermill": {
     "duration": 0.06272,
     "end_time": "2022-04-10T03:49:05.600434",
     "exception": false,
     "start_time": "2022-04-10T03:49:05.537714",
     "status": "completed"
    },
    "tags": []
   },
   "outputs": [
    {
     "data": {
      "text/plain": [
       "'\\nscore = model.score(X_train, y_train)\\nprint(f\"Training Score : {score}\")\\n\\ny_pred = model.predict(X_valid)\\nmse = mean_squared_error(y_valid, y_pred)\\nprint(f\"MSE : {mse:.2f}\")\\n'"
      ]
     },
     "execution_count": 11,
     "metadata": {},
     "output_type": "execute_result"
    }
   ],
   "source": [
    "'''\n",
    "score = model.score(X_train, y_train)\n",
    "print(f\"Training Score : {score}\")\n",
    "\n",
    "y_pred = model.predict(X_valid)\n",
    "mse = mean_squared_error(y_valid, y_pred)\n",
    "print(f\"MSE : {mse:.2f}\")\n",
    "'''\n"
   ]
  },
  {
   "cell_type": "markdown",
   "id": "6ff35389",
   "metadata": {
    "papermill": {
     "duration": 0.053721,
     "end_time": "2022-04-10T03:49:05.709045",
     "exception": false,
     "start_time": "2022-04-10T03:49:05.655324",
     "status": "completed"
    },
    "tags": []
   },
   "source": [
    "- LightGBM의 세부 파라미터 적용\n",
    "    - 참고 자료를 조사하여 적용"
   ]
  },
  {
   "cell_type": "code",
   "execution_count": 12,
   "id": "e3d95e6d",
   "metadata": {
    "execution": {
     "iopub.execute_input": "2022-04-10T03:49:05.987426Z",
     "iopub.status.busy": "2022-04-10T03:49:05.986668Z",
     "iopub.status.idle": "2022-04-10T03:49:05.990149Z",
     "shell.execute_reply": "2022-04-10T03:49:05.989529Z"
    },
    "papermill": {
     "duration": 0.227158,
     "end_time": "2022-04-10T03:49:05.990308",
     "exception": false,
     "start_time": "2022-04-10T03:49:05.763150",
     "status": "completed"
    },
    "tags": []
   },
   "outputs": [
    {
     "data": {
      "text/plain": [
       "147"
      ]
     },
     "execution_count": 12,
     "metadata": {},
     "output_type": "execute_result"
    }
   ],
   "source": [
    "#https://www.kaggle.com/valleyzw/ubiquant-lgbm-baseline\n",
    "params = {\n",
    "        'learning_rate':0.1,\n",
    "        \"objective\": \"regression\",\n",
    "        \"metric\": \"rmse\",\n",
    "        'boosting_type': \"gbdt\",\n",
    "        'verbosity': -1,\n",
    "        'n_jobs': -1, \n",
    "        'seed': 21,\n",
    "        'lambda_l1': 1.1895057699067542, \n",
    "        'lambda_l2': 1.9079686837880768e-08, \n",
    "        'num_leaves': 112, \n",
    "        'subsample':None,\n",
    "        'feature_fraction': 0.6259927292757151, \n",
    "        'bagging_fraction': 0.9782210574588895, \n",
    "        'bagging_freq': 1, \n",
    "        'n_estimators': 306, \n",
    "        'max_depth': 12, \n",
    "        'max_bin': 494, \n",
    "        'min_data_in_leaf': 366,\n",
    "        'colsample_bytree': None,\n",
    "        'subsample_freq': None,\n",
    "        'min_child_samples': None,\n",
    "        'reg_lambda': None,\n",
    "        'reg_alpha': None,\n",
    "    }\n",
    "gc.collect()"
   ]
  },
  {
   "cell_type": "markdown",
   "id": "3b751fa7",
   "metadata": {
    "papermill": {
     "duration": 0.058377,
     "end_time": "2022-04-10T03:49:06.105770",
     "exception": false,
     "start_time": "2022-04-10T03:49:06.047393",
     "status": "completed"
    },
    "tags": []
   },
   "source": [
    "- StratifiedkFold를 통한 교차 검증을 통해 훈련 "
   ]
  },
  {
   "cell_type": "code",
   "execution_count": 13,
   "id": "3a968056",
   "metadata": {
    "execution": {
     "iopub.execute_input": "2022-04-10T03:49:06.230666Z",
     "iopub.status.busy": "2022-04-10T03:49:06.229902Z",
     "iopub.status.idle": "2022-04-10T04:18:06.553720Z",
     "shell.execute_reply": "2022-04-10T04:18:06.553065Z"
    },
    "papermill": {
     "duration": 1740.391709,
     "end_time": "2022-04-10T04:18:06.553910",
     "exception": false,
     "start_time": "2022-04-10T03:49:06.162201",
     "status": "completed"
    },
    "tags": []
   },
   "outputs": [
    {
     "name": "stderr",
     "output_type": "stream",
     "text": [
      "/opt/conda/lib/python3.7/site-packages/sklearn/model_selection/_split.py:680: UserWarning: The least populated class in y has only 2 members, which is less than n_splits=3.\n",
      "  UserWarning,\n"
     ]
    },
    {
     "name": "stdout",
     "output_type": "stream",
     "text": [
      "[1]\tvalid_0's rmse: 0.916345\n",
      "[2]\tvalid_0's rmse: 0.915486\n",
      "[3]\tvalid_0's rmse: 0.914772\n",
      "[4]\tvalid_0's rmse: 0.914099\n",
      "[5]\tvalid_0's rmse: 0.913527\n",
      "[6]\tvalid_0's rmse: 0.913\n",
      "[7]\tvalid_0's rmse: 0.912522\n",
      "[8]\tvalid_0's rmse: 0.91213\n",
      "[9]\tvalid_0's rmse: 0.911752\n",
      "[10]\tvalid_0's rmse: 0.911423\n",
      "[11]\tvalid_0's rmse: 0.91112\n",
      "[12]\tvalid_0's rmse: 0.91085\n",
      "[13]\tvalid_0's rmse: 0.910566\n",
      "[14]\tvalid_0's rmse: 0.910342\n",
      "[15]\tvalid_0's rmse: 0.910105\n",
      "[16]\tvalid_0's rmse: 0.909888\n",
      "[17]\tvalid_0's rmse: 0.909693\n",
      "[18]\tvalid_0's rmse: 0.90948\n",
      "[19]\tvalid_0's rmse: 0.909276\n",
      "[20]\tvalid_0's rmse: 0.909065\n",
      "[21]\tvalid_0's rmse: 0.908898\n",
      "[22]\tvalid_0's rmse: 0.908717\n",
      "[23]\tvalid_0's rmse: 0.908542\n",
      "[24]\tvalid_0's rmse: 0.908377\n",
      "[25]\tvalid_0's rmse: 0.908214\n",
      "[26]\tvalid_0's rmse: 0.908061\n",
      "[27]\tvalid_0's rmse: 0.907934\n",
      "[28]\tvalid_0's rmse: 0.907754\n",
      "[29]\tvalid_0's rmse: 0.907557\n",
      "[30]\tvalid_0's rmse: 0.907414\n",
      "[31]\tvalid_0's rmse: 0.907271\n",
      "[32]\tvalid_0's rmse: 0.90707\n",
      "[33]\tvalid_0's rmse: 0.906937\n",
      "[34]\tvalid_0's rmse: 0.906829\n",
      "[35]\tvalid_0's rmse: 0.906706\n",
      "[36]\tvalid_0's rmse: 0.90657\n",
      "[37]\tvalid_0's rmse: 0.906467\n",
      "[38]\tvalid_0's rmse: 0.906355\n",
      "[39]\tvalid_0's rmse: 0.906245\n",
      "[40]\tvalid_0's rmse: 0.906123\n",
      "[41]\tvalid_0's rmse: 0.906028\n",
      "[42]\tvalid_0's rmse: 0.905901\n",
      "[43]\tvalid_0's rmse: 0.905729\n",
      "[44]\tvalid_0's rmse: 0.905592\n",
      "[45]\tvalid_0's rmse: 0.905443\n",
      "[46]\tvalid_0's rmse: 0.905311\n",
      "[47]\tvalid_0's rmse: 0.905203\n",
      "[48]\tvalid_0's rmse: 0.905109\n",
      "[49]\tvalid_0's rmse: 0.905034\n",
      "[50]\tvalid_0's rmse: 0.904934\n",
      "[51]\tvalid_0's rmse: 0.904774\n",
      "[52]\tvalid_0's rmse: 0.904686\n",
      "[53]\tvalid_0's rmse: 0.904609\n",
      "[54]\tvalid_0's rmse: 0.904527\n",
      "[55]\tvalid_0's rmse: 0.904385\n",
      "[56]\tvalid_0's rmse: 0.904264\n",
      "[57]\tvalid_0's rmse: 0.904174\n",
      "[58]\tvalid_0's rmse: 0.904091\n",
      "[59]\tvalid_0's rmse: 0.904006\n",
      "[60]\tvalid_0's rmse: 0.903918\n",
      "[61]\tvalid_0's rmse: 0.90384\n",
      "[62]\tvalid_0's rmse: 0.903717\n",
      "[63]\tvalid_0's rmse: 0.903619\n",
      "[64]\tvalid_0's rmse: 0.903505\n",
      "[65]\tvalid_0's rmse: 0.903434\n",
      "[66]\tvalid_0's rmse: 0.903384\n",
      "[67]\tvalid_0's rmse: 0.903275\n",
      "[68]\tvalid_0's rmse: 0.903161\n",
      "[69]\tvalid_0's rmse: 0.903021\n",
      "[70]\tvalid_0's rmse: 0.902954\n",
      "[71]\tvalid_0's rmse: 0.902877\n",
      "[72]\tvalid_0's rmse: 0.902798\n",
      "[73]\tvalid_0's rmse: 0.902713\n",
      "[74]\tvalid_0's rmse: 0.902627\n",
      "[75]\tvalid_0's rmse: 0.902494\n",
      "[76]\tvalid_0's rmse: 0.902423\n",
      "[77]\tvalid_0's rmse: 0.902384\n",
      "[78]\tvalid_0's rmse: 0.902316\n",
      "[79]\tvalid_0's rmse: 0.902265\n",
      "[80]\tvalid_0's rmse: 0.902224\n",
      "[81]\tvalid_0's rmse: 0.902168\n",
      "[82]\tvalid_0's rmse: 0.902008\n",
      "[83]\tvalid_0's rmse: 0.901927\n",
      "[84]\tvalid_0's rmse: 0.901862\n",
      "[85]\tvalid_0's rmse: 0.901786\n",
      "[86]\tvalid_0's rmse: 0.901718\n",
      "[87]\tvalid_0's rmse: 0.901671\n",
      "[88]\tvalid_0's rmse: 0.901586\n",
      "[89]\tvalid_0's rmse: 0.901514\n",
      "[90]\tvalid_0's rmse: 0.901447\n",
      "[91]\tvalid_0's rmse: 0.901404\n",
      "[92]\tvalid_0's rmse: 0.901342\n",
      "[93]\tvalid_0's rmse: 0.901301\n",
      "[94]\tvalid_0's rmse: 0.901251\n",
      "[95]\tvalid_0's rmse: 0.901076\n",
      "[96]\tvalid_0's rmse: 0.901029\n",
      "[97]\tvalid_0's rmse: 0.900971\n",
      "[98]\tvalid_0's rmse: 0.900919\n",
      "[99]\tvalid_0's rmse: 0.900842\n",
      "[100]\tvalid_0's rmse: 0.900784\n",
      "[101]\tvalid_0's rmse: 0.900741\n",
      "[102]\tvalid_0's rmse: 0.900682\n",
      "[103]\tvalid_0's rmse: 0.900624\n",
      "[104]\tvalid_0's rmse: 0.900524\n",
      "[105]\tvalid_0's rmse: 0.900444\n",
      "[106]\tvalid_0's rmse: 0.900397\n",
      "[107]\tvalid_0's rmse: 0.900315\n",
      "[108]\tvalid_0's rmse: 0.900265\n",
      "[109]\tvalid_0's rmse: 0.900133\n",
      "[110]\tvalid_0's rmse: 0.900054\n",
      "[111]\tvalid_0's rmse: 0.900011\n",
      "[112]\tvalid_0's rmse: 0.899976\n",
      "[113]\tvalid_0's rmse: 0.899831\n",
      "[114]\tvalid_0's rmse: 0.899776\n",
      "[115]\tvalid_0's rmse: 0.899688\n",
      "[116]\tvalid_0's rmse: 0.899614\n",
      "[117]\tvalid_0's rmse: 0.899569\n",
      "[118]\tvalid_0's rmse: 0.899531\n",
      "[119]\tvalid_0's rmse: 0.899452\n",
      "[120]\tvalid_0's rmse: 0.899416\n",
      "[121]\tvalid_0's rmse: 0.899371\n",
      "[122]\tvalid_0's rmse: 0.899259\n",
      "[123]\tvalid_0's rmse: 0.899209\n",
      "[124]\tvalid_0's rmse: 0.899118\n",
      "[125]\tvalid_0's rmse: 0.899061\n",
      "[126]\tvalid_0's rmse: 0.898998\n",
      "[127]\tvalid_0's rmse: 0.898951\n",
      "[128]\tvalid_0's rmse: 0.898915\n",
      "[129]\tvalid_0's rmse: 0.898875\n",
      "[130]\tvalid_0's rmse: 0.898823\n",
      "[131]\tvalid_0's rmse: 0.898779\n",
      "[132]\tvalid_0's rmse: 0.898761\n",
      "[133]\tvalid_0's rmse: 0.89869\n",
      "[134]\tvalid_0's rmse: 0.898643\n",
      "[135]\tvalid_0's rmse: 0.898609\n",
      "[136]\tvalid_0's rmse: 0.89853\n",
      "[137]\tvalid_0's rmse: 0.898506\n",
      "[138]\tvalid_0's rmse: 0.898467\n",
      "[139]\tvalid_0's rmse: 0.898413\n",
      "[140]\tvalid_0's rmse: 0.898387\n",
      "[141]\tvalid_0's rmse: 0.898341\n",
      "[142]\tvalid_0's rmse: 0.898284\n",
      "[143]\tvalid_0's rmse: 0.898246\n",
      "[144]\tvalid_0's rmse: 0.898217\n",
      "[145]\tvalid_0's rmse: 0.898172\n",
      "[146]\tvalid_0's rmse: 0.898103\n",
      "[147]\tvalid_0's rmse: 0.898062\n",
      "[148]\tvalid_0's rmse: 0.898032\n",
      "[149]\tvalid_0's rmse: 0.897979\n",
      "[150]\tvalid_0's rmse: 0.897957\n",
      "[151]\tvalid_0's rmse: 0.897934\n",
      "[152]\tvalid_0's rmse: 0.897898\n",
      "[153]\tvalid_0's rmse: 0.897859\n",
      "[154]\tvalid_0's rmse: 0.897836\n",
      "[155]\tvalid_0's rmse: 0.897787\n",
      "[156]\tvalid_0's rmse: 0.89777\n",
      "[157]\tvalid_0's rmse: 0.89774\n",
      "[158]\tvalid_0's rmse: 0.897672\n",
      "[159]\tvalid_0's rmse: 0.897615\n",
      "[160]\tvalid_0's rmse: 0.897537\n",
      "[161]\tvalid_0's rmse: 0.897482\n",
      "[162]\tvalid_0's rmse: 0.897452\n",
      "[163]\tvalid_0's rmse: 0.897385\n",
      "[164]\tvalid_0's rmse: 0.897332\n",
      "[165]\tvalid_0's rmse: 0.897239\n",
      "[166]\tvalid_0's rmse: 0.89717\n",
      "[167]\tvalid_0's rmse: 0.897163\n",
      "[168]\tvalid_0's rmse: 0.89709\n",
      "[169]\tvalid_0's rmse: 0.89707\n",
      "[170]\tvalid_0's rmse: 0.897024\n",
      "[171]\tvalid_0's rmse: 0.896984\n",
      "[172]\tvalid_0's rmse: 0.896962\n",
      "[173]\tvalid_0's rmse: 0.896867\n",
      "[174]\tvalid_0's rmse: 0.896854\n",
      "[175]\tvalid_0's rmse: 0.896838\n",
      "[176]\tvalid_0's rmse: 0.896783\n",
      "[177]\tvalid_0's rmse: 0.896751\n",
      "[178]\tvalid_0's rmse: 0.896723\n",
      "[179]\tvalid_0's rmse: 0.896699\n",
      "[180]\tvalid_0's rmse: 0.896683\n",
      "[181]\tvalid_0's rmse: 0.896639\n",
      "[182]\tvalid_0's rmse: 0.896558\n",
      "[183]\tvalid_0's rmse: 0.896508\n",
      "[184]\tvalid_0's rmse: 0.89645\n",
      "[185]\tvalid_0's rmse: 0.896434\n",
      "[186]\tvalid_0's rmse: 0.896397\n",
      "[187]\tvalid_0's rmse: 0.896376\n",
      "[188]\tvalid_0's rmse: 0.89635\n",
      "[189]\tvalid_0's rmse: 0.896319\n",
      "[190]\tvalid_0's rmse: 0.896302\n",
      "[191]\tvalid_0's rmse: 0.896278\n",
      "[192]\tvalid_0's rmse: 0.896228\n",
      "[193]\tvalid_0's rmse: 0.896204\n",
      "[194]\tvalid_0's rmse: 0.896136\n",
      "[195]\tvalid_0's rmse: 0.896082\n",
      "[196]\tvalid_0's rmse: 0.896069\n",
      "[197]\tvalid_0's rmse: 0.89605\n",
      "[198]\tvalid_0's rmse: 0.896025\n",
      "[199]\tvalid_0's rmse: 0.896023\n",
      "[200]\tvalid_0's rmse: 0.895956\n",
      "[201]\tvalid_0's rmse: 0.895937\n",
      "[202]\tvalid_0's rmse: 0.89592\n",
      "[203]\tvalid_0's rmse: 0.895915\n",
      "[204]\tvalid_0's rmse: 0.895903\n",
      "[205]\tvalid_0's rmse: 0.895891\n",
      "[206]\tvalid_0's rmse: 0.895831\n",
      "[207]\tvalid_0's rmse: 0.895793\n",
      "[208]\tvalid_0's rmse: 0.895755\n",
      "[209]\tvalid_0's rmse: 0.895723\n",
      "[210]\tvalid_0's rmse: 0.89568\n",
      "[211]\tvalid_0's rmse: 0.895633\n",
      "[212]\tvalid_0's rmse: 0.895581\n",
      "[213]\tvalid_0's rmse: 0.895557\n",
      "[214]\tvalid_0's rmse: 0.895534\n",
      "[215]\tvalid_0's rmse: 0.895514\n",
      "[216]\tvalid_0's rmse: 0.895491\n",
      "[217]\tvalid_0's rmse: 0.895474\n",
      "[218]\tvalid_0's rmse: 0.895419\n",
      "[219]\tvalid_0's rmse: 0.895346\n",
      "[220]\tvalid_0's rmse: 0.895318\n",
      "[221]\tvalid_0's rmse: 0.895288\n",
      "[222]\tvalid_0's rmse: 0.895269\n",
      "[223]\tvalid_0's rmse: 0.8952\n",
      "[224]\tvalid_0's rmse: 0.895167\n",
      "[225]\tvalid_0's rmse: 0.895127\n",
      "[226]\tvalid_0's rmse: 0.895077\n",
      "[227]\tvalid_0's rmse: 0.895061\n",
      "[228]\tvalid_0's rmse: 0.895031\n",
      "[229]\tvalid_0's rmse: 0.895025\n",
      "[230]\tvalid_0's rmse: 0.895019\n",
      "[231]\tvalid_0's rmse: 0.895001\n",
      "[232]\tvalid_0's rmse: 0.894974\n",
      "[233]\tvalid_0's rmse: 0.894966\n",
      "[234]\tvalid_0's rmse: 0.894942\n",
      "[235]\tvalid_0's rmse: 0.89493\n",
      "[236]\tvalid_0's rmse: 0.894874\n",
      "[237]\tvalid_0's rmse: 0.894837\n",
      "[238]\tvalid_0's rmse: 0.894794\n",
      "[239]\tvalid_0's rmse: 0.894788\n",
      "[240]\tvalid_0's rmse: 0.894787\n",
      "[241]\tvalid_0's rmse: 0.894764\n",
      "[242]\tvalid_0's rmse: 0.894753\n",
      "[243]\tvalid_0's rmse: 0.894741\n",
      "[244]\tvalid_0's rmse: 0.894706\n",
      "[245]\tvalid_0's rmse: 0.894651\n",
      "[246]\tvalid_0's rmse: 0.894648\n",
      "[247]\tvalid_0's rmse: 0.894649\n",
      "[248]\tvalid_0's rmse: 0.894618\n",
      "[249]\tvalid_0's rmse: 0.894618\n",
      "[250]\tvalid_0's rmse: 0.894577\n",
      "[251]\tvalid_0's rmse: 0.894572\n",
      "[252]\tvalid_0's rmse: 0.894524\n",
      "[253]\tvalid_0's rmse: 0.894527\n",
      "[254]\tvalid_0's rmse: 0.89453\n",
      "[255]\tvalid_0's rmse: 0.894514\n",
      "[256]\tvalid_0's rmse: 0.894435\n",
      "[257]\tvalid_0's rmse: 0.894398\n",
      "[258]\tvalid_0's rmse: 0.894362\n",
      "[259]\tvalid_0's rmse: 0.894357\n",
      "[260]\tvalid_0's rmse: 0.894328\n",
      "[261]\tvalid_0's rmse: 0.894311\n",
      "[262]\tvalid_0's rmse: 0.894292\n",
      "[263]\tvalid_0's rmse: 0.894266\n",
      "[264]\tvalid_0's rmse: 0.894253\n",
      "[265]\tvalid_0's rmse: 0.894212\n",
      "[266]\tvalid_0's rmse: 0.894183\n",
      "[267]\tvalid_0's rmse: 0.894161\n",
      "[268]\tvalid_0's rmse: 0.894146\n",
      "[269]\tvalid_0's rmse: 0.894134\n",
      "[270]\tvalid_0's rmse: 0.894131\n",
      "[271]\tvalid_0's rmse: 0.894114\n",
      "[272]\tvalid_0's rmse: 0.894106\n",
      "[273]\tvalid_0's rmse: 0.894096\n",
      "[274]\tvalid_0's rmse: 0.894077\n",
      "[275]\tvalid_0's rmse: 0.894068\n",
      "[276]\tvalid_0's rmse: 0.89402\n",
      "[277]\tvalid_0's rmse: 0.894016\n",
      "[278]\tvalid_0's rmse: 0.894019\n",
      "[279]\tvalid_0's rmse: 0.894018\n",
      "[280]\tvalid_0's rmse: 0.894011\n",
      "[281]\tvalid_0's rmse: 0.894004\n",
      "[282]\tvalid_0's rmse: 0.894003\n",
      "[283]\tvalid_0's rmse: 0.893969\n",
      "[284]\tvalid_0's rmse: 0.893905\n",
      "[285]\tvalid_0's rmse: 0.893883\n",
      "[286]\tvalid_0's rmse: 0.89384\n",
      "[287]\tvalid_0's rmse: 0.893813\n",
      "[288]\tvalid_0's rmse: 0.893789\n",
      "[289]\tvalid_0's rmse: 0.893784\n",
      "[290]\tvalid_0's rmse: 0.893783\n",
      "[291]\tvalid_0's rmse: 0.893765\n",
      "[292]\tvalid_0's rmse: 0.893731\n",
      "[293]\tvalid_0's rmse: 0.893706\n",
      "[294]\tvalid_0's rmse: 0.893681\n",
      "[295]\tvalid_0's rmse: 0.893679\n",
      "[296]\tvalid_0's rmse: 0.89367\n",
      "[297]\tvalid_0's rmse: 0.893637\n",
      "[298]\tvalid_0's rmse: 0.893608\n",
      "[299]\tvalid_0's rmse: 0.893553\n",
      "[300]\tvalid_0's rmse: 0.893542\n",
      "[301]\tvalid_0's rmse: 0.893536\n",
      "[302]\tvalid_0's rmse: 0.893531\n",
      "[303]\tvalid_0's rmse: 0.893516\n",
      "[304]\tvalid_0's rmse: 0.893504\n",
      "[305]\tvalid_0's rmse: 0.89349\n",
      "[306]\tvalid_0's rmse: 0.893476\n",
      "[1]\tvalid_0's rmse: 0.916026\n",
      "[2]\tvalid_0's rmse: 0.915186\n",
      "[3]\tvalid_0's rmse: 0.914445\n",
      "[4]\tvalid_0's rmse: 0.913817\n",
      "[5]\tvalid_0's rmse: 0.913226\n",
      "[6]\tvalid_0's rmse: 0.912681\n",
      "[7]\tvalid_0's rmse: 0.912181\n",
      "[8]\tvalid_0's rmse: 0.911773\n",
      "[9]\tvalid_0's rmse: 0.911366\n",
      "[10]\tvalid_0's rmse: 0.911024\n",
      "[11]\tvalid_0's rmse: 0.910651\n",
      "[12]\tvalid_0's rmse: 0.910377\n",
      "[13]\tvalid_0's rmse: 0.91009\n",
      "[14]\tvalid_0's rmse: 0.90985\n",
      "[15]\tvalid_0's rmse: 0.909608\n",
      "[16]\tvalid_0's rmse: 0.909394\n",
      "[17]\tvalid_0's rmse: 0.909199\n",
      "[18]\tvalid_0's rmse: 0.908984\n",
      "[19]\tvalid_0's rmse: 0.90872\n",
      "[20]\tvalid_0's rmse: 0.908536\n",
      "[21]\tvalid_0's rmse: 0.90836\n",
      "[22]\tvalid_0's rmse: 0.908171\n",
      "[23]\tvalid_0's rmse: 0.908021\n",
      "[24]\tvalid_0's rmse: 0.907858\n",
      "[25]\tvalid_0's rmse: 0.907694\n",
      "[26]\tvalid_0's rmse: 0.907519\n",
      "[27]\tvalid_0's rmse: 0.907378\n",
      "[28]\tvalid_0's rmse: 0.907226\n",
      "[29]\tvalid_0's rmse: 0.907095\n",
      "[30]\tvalid_0's rmse: 0.906854\n",
      "[31]\tvalid_0's rmse: 0.906722\n",
      "[32]\tvalid_0's rmse: 0.906518\n",
      "[33]\tvalid_0's rmse: 0.906349\n",
      "[34]\tvalid_0's rmse: 0.906212\n",
      "[35]\tvalid_0's rmse: 0.90609\n",
      "[36]\tvalid_0's rmse: 0.905956\n",
      "[37]\tvalid_0's rmse: 0.905855\n",
      "[38]\tvalid_0's rmse: 0.905774\n",
      "[39]\tvalid_0's rmse: 0.905623\n",
      "[40]\tvalid_0's rmse: 0.90543\n",
      "[41]\tvalid_0's rmse: 0.905329\n",
      "[42]\tvalid_0's rmse: 0.905223\n",
      "[43]\tvalid_0's rmse: 0.905067\n",
      "[44]\tvalid_0's rmse: 0.904987\n",
      "[45]\tvalid_0's rmse: 0.904856\n",
      "[46]\tvalid_0's rmse: 0.904726\n",
      "[47]\tvalid_0's rmse: 0.904629\n",
      "[48]\tvalid_0's rmse: 0.90448\n",
      "[49]\tvalid_0's rmse: 0.904384\n",
      "[50]\tvalid_0's rmse: 0.904266\n",
      "[51]\tvalid_0's rmse: 0.904181\n",
      "[52]\tvalid_0's rmse: 0.904039\n",
      "[53]\tvalid_0's rmse: 0.903854\n",
      "[54]\tvalid_0's rmse: 0.903772\n",
      "[55]\tvalid_0's rmse: 0.903656\n",
      "[56]\tvalid_0's rmse: 0.903577\n",
      "[57]\tvalid_0's rmse: 0.903487\n",
      "[58]\tvalid_0's rmse: 0.903387\n",
      "[59]\tvalid_0's rmse: 0.903318\n",
      "[60]\tvalid_0's rmse: 0.903239\n",
      "[61]\tvalid_0's rmse: 0.903129\n",
      "[62]\tvalid_0's rmse: 0.903056\n",
      "[63]\tvalid_0's rmse: 0.902941\n",
      "[64]\tvalid_0's rmse: 0.902817\n",
      "[65]\tvalid_0's rmse: 0.902723\n",
      "[66]\tvalid_0's rmse: 0.902643\n",
      "[67]\tvalid_0's rmse: 0.902537\n",
      "[68]\tvalid_0's rmse: 0.902464\n",
      "[69]\tvalid_0's rmse: 0.902322\n",
      "[70]\tvalid_0's rmse: 0.902276\n",
      "[71]\tvalid_0's rmse: 0.90221\n",
      "[72]\tvalid_0's rmse: 0.902163\n",
      "[73]\tvalid_0's rmse: 0.902078\n",
      "[74]\tvalid_0's rmse: 0.901997\n",
      "[75]\tvalid_0's rmse: 0.901903\n",
      "[76]\tvalid_0's rmse: 0.90181\n",
      "[77]\tvalid_0's rmse: 0.90176\n",
      "[78]\tvalid_0's rmse: 0.901704\n",
      "[79]\tvalid_0's rmse: 0.901649\n",
      "[80]\tvalid_0's rmse: 0.901554\n",
      "[81]\tvalid_0's rmse: 0.901396\n",
      "[82]\tvalid_0's rmse: 0.901303\n",
      "[83]\tvalid_0's rmse: 0.901243\n",
      "[84]\tvalid_0's rmse: 0.901175\n",
      "[85]\tvalid_0's rmse: 0.90112\n",
      "[86]\tvalid_0's rmse: 0.901021\n",
      "[87]\tvalid_0's rmse: 0.900983\n",
      "[88]\tvalid_0's rmse: 0.90093\n",
      "[89]\tvalid_0's rmse: 0.900839\n",
      "[90]\tvalid_0's rmse: 0.90079\n",
      "[91]\tvalid_0's rmse: 0.900738\n",
      "[92]\tvalid_0's rmse: 0.900557\n",
      "[93]\tvalid_0's rmse: 0.900495\n",
      "[94]\tvalid_0's rmse: 0.900429\n",
      "[95]\tvalid_0's rmse: 0.90036\n",
      "[96]\tvalid_0's rmse: 0.900325\n",
      "[97]\tvalid_0's rmse: 0.900241\n",
      "[98]\tvalid_0's rmse: 0.900143\n",
      "[99]\tvalid_0's rmse: 0.900087\n",
      "[100]\tvalid_0's rmse: 0.900055\n",
      "[101]\tvalid_0's rmse: 0.899992\n",
      "[102]\tvalid_0's rmse: 0.899957\n",
      "[103]\tvalid_0's rmse: 0.899899\n",
      "[104]\tvalid_0's rmse: 0.899807\n",
      "[105]\tvalid_0's rmse: 0.899765\n",
      "[106]\tvalid_0's rmse: 0.899662\n",
      "[107]\tvalid_0's rmse: 0.899601\n",
      "[108]\tvalid_0's rmse: 0.899539\n",
      "[109]\tvalid_0's rmse: 0.899445\n",
      "[110]\tvalid_0's rmse: 0.899366\n",
      "[111]\tvalid_0's rmse: 0.89929\n",
      "[112]\tvalid_0's rmse: 0.899228\n",
      "[113]\tvalid_0's rmse: 0.899179\n",
      "[114]\tvalid_0's rmse: 0.899106\n",
      "[115]\tvalid_0's rmse: 0.89903\n",
      "[116]\tvalid_0's rmse: 0.898983\n",
      "[117]\tvalid_0's rmse: 0.898936\n",
      "[118]\tvalid_0's rmse: 0.898865\n",
      "[119]\tvalid_0's rmse: 0.898821\n",
      "[120]\tvalid_0's rmse: 0.89874\n",
      "[121]\tvalid_0's rmse: 0.898709\n",
      "[122]\tvalid_0's rmse: 0.898662\n",
      "[123]\tvalid_0's rmse: 0.898535\n",
      "[124]\tvalid_0's rmse: 0.898512\n",
      "[125]\tvalid_0's rmse: 0.898454\n",
      "[126]\tvalid_0's rmse: 0.898345\n",
      "[127]\tvalid_0's rmse: 0.898208\n",
      "[128]\tvalid_0's rmse: 0.898109\n",
      "[129]\tvalid_0's rmse: 0.898074\n",
      "[130]\tvalid_0's rmse: 0.898031\n",
      "[131]\tvalid_0's rmse: 0.898017\n",
      "[132]\tvalid_0's rmse: 0.897974\n",
      "[133]\tvalid_0's rmse: 0.897922\n",
      "[134]\tvalid_0's rmse: 0.897887\n",
      "[135]\tvalid_0's rmse: 0.897789\n",
      "[136]\tvalid_0's rmse: 0.897749\n",
      "[137]\tvalid_0's rmse: 0.897674\n",
      "[138]\tvalid_0's rmse: 0.897659\n",
      "[139]\tvalid_0's rmse: 0.897623\n",
      "[140]\tvalid_0's rmse: 0.897545\n",
      "[141]\tvalid_0's rmse: 0.897509\n",
      "[142]\tvalid_0's rmse: 0.897456\n",
      "[143]\tvalid_0's rmse: 0.897423\n",
      "[144]\tvalid_0's rmse: 0.897396\n",
      "[145]\tvalid_0's rmse: 0.897314\n",
      "[146]\tvalid_0's rmse: 0.897234\n",
      "[147]\tvalid_0's rmse: 0.897225\n",
      "[148]\tvalid_0's rmse: 0.897191\n",
      "[149]\tvalid_0's rmse: 0.897163\n",
      "[150]\tvalid_0's rmse: 0.897131\n",
      "[151]\tvalid_0's rmse: 0.897061\n",
      "[152]\tvalid_0's rmse: 0.897038\n",
      "[153]\tvalid_0's rmse: 0.896986\n",
      "[154]\tvalid_0's rmse: 0.896951\n",
      "[155]\tvalid_0's rmse: 0.89691\n",
      "[156]\tvalid_0's rmse: 0.896837\n",
      "[157]\tvalid_0's rmse: 0.896813\n",
      "[158]\tvalid_0's rmse: 0.896742\n",
      "[159]\tvalid_0's rmse: 0.896716\n",
      "[160]\tvalid_0's rmse: 0.896676\n",
      "[161]\tvalid_0's rmse: 0.896632\n",
      "[162]\tvalid_0's rmse: 0.896591\n",
      "[163]\tvalid_0's rmse: 0.896522\n",
      "[164]\tvalid_0's rmse: 0.896501\n",
      "[165]\tvalid_0's rmse: 0.896479\n",
      "[166]\tvalid_0's rmse: 0.89645\n",
      "[167]\tvalid_0's rmse: 0.896421\n",
      "[168]\tvalid_0's rmse: 0.896395\n",
      "[169]\tvalid_0's rmse: 0.896298\n",
      "[170]\tvalid_0's rmse: 0.896254\n",
      "[171]\tvalid_0's rmse: 0.89621\n",
      "[172]\tvalid_0's rmse: 0.89617\n",
      "[173]\tvalid_0's rmse: 0.896113\n",
      "[174]\tvalid_0's rmse: 0.896101\n",
      "[175]\tvalid_0's rmse: 0.89607\n",
      "[176]\tvalid_0's rmse: 0.896045\n",
      "[177]\tvalid_0's rmse: 0.896006\n",
      "[178]\tvalid_0's rmse: 0.895961\n",
      "[179]\tvalid_0's rmse: 0.895962\n",
      "[180]\tvalid_0's rmse: 0.895876\n",
      "[181]\tvalid_0's rmse: 0.895852\n",
      "[182]\tvalid_0's rmse: 0.895834\n",
      "[183]\tvalid_0's rmse: 0.895801\n",
      "[184]\tvalid_0's rmse: 0.895772\n",
      "[185]\tvalid_0's rmse: 0.895724\n",
      "[186]\tvalid_0's rmse: 0.895684\n",
      "[187]\tvalid_0's rmse: 0.895613\n",
      "[188]\tvalid_0's rmse: 0.895564\n",
      "[189]\tvalid_0's rmse: 0.895495\n",
      "[190]\tvalid_0's rmse: 0.89545\n",
      "[191]\tvalid_0's rmse: 0.895444\n",
      "[192]\tvalid_0's rmse: 0.895448\n",
      "[193]\tvalid_0's rmse: 0.895435\n",
      "[194]\tvalid_0's rmse: 0.895408\n",
      "[195]\tvalid_0's rmse: 0.895354\n",
      "[196]\tvalid_0's rmse: 0.895325\n",
      "[197]\tvalid_0's rmse: 0.89531\n",
      "[198]\tvalid_0's rmse: 0.895292\n",
      "[199]\tvalid_0's rmse: 0.89523\n",
      "[200]\tvalid_0's rmse: 0.895177\n",
      "[201]\tvalid_0's rmse: 0.895162\n",
      "[202]\tvalid_0's rmse: 0.895155\n",
      "[203]\tvalid_0's rmse: 0.895127\n",
      "[204]\tvalid_0's rmse: 0.895111\n",
      "[205]\tvalid_0's rmse: 0.895097\n",
      "[206]\tvalid_0's rmse: 0.895091\n",
      "[207]\tvalid_0's rmse: 0.89507\n",
      "[208]\tvalid_0's rmse: 0.895053\n",
      "[209]\tvalid_0's rmse: 0.894942\n",
      "[210]\tvalid_0's rmse: 0.894933\n",
      "[211]\tvalid_0's rmse: 0.89491\n",
      "[212]\tvalid_0's rmse: 0.894863\n",
      "[213]\tvalid_0's rmse: 0.894796\n",
      "[214]\tvalid_0's rmse: 0.894787\n",
      "[215]\tvalid_0's rmse: 0.894771\n",
      "[216]\tvalid_0's rmse: 0.894765\n",
      "[217]\tvalid_0's rmse: 0.894736\n",
      "[218]\tvalid_0's rmse: 0.894711\n",
      "[219]\tvalid_0's rmse: 0.894697\n",
      "[220]\tvalid_0's rmse: 0.894693\n",
      "[221]\tvalid_0's rmse: 0.894686\n",
      "[222]\tvalid_0's rmse: 0.89468\n",
      "[223]\tvalid_0's rmse: 0.894626\n",
      "[224]\tvalid_0's rmse: 0.894604\n",
      "[225]\tvalid_0's rmse: 0.894523\n",
      "[226]\tvalid_0's rmse: 0.894507\n",
      "[227]\tvalid_0's rmse: 0.894439\n",
      "[228]\tvalid_0's rmse: 0.894413\n",
      "[229]\tvalid_0's rmse: 0.894398\n",
      "[230]\tvalid_0's rmse: 0.894379\n",
      "[231]\tvalid_0's rmse: 0.894344\n",
      "[232]\tvalid_0's rmse: 0.894328\n",
      "[233]\tvalid_0's rmse: 0.894314\n",
      "[234]\tvalid_0's rmse: 0.89425\n",
      "[235]\tvalid_0's rmse: 0.894243\n",
      "[236]\tvalid_0's rmse: 0.894232\n",
      "[237]\tvalid_0's rmse: 0.894209\n",
      "[238]\tvalid_0's rmse: 0.894189\n",
      "[239]\tvalid_0's rmse: 0.894144\n",
      "[240]\tvalid_0's rmse: 0.894131\n",
      "[241]\tvalid_0's rmse: 0.894113\n",
      "[242]\tvalid_0's rmse: 0.894086\n",
      "[243]\tvalid_0's rmse: 0.89406\n",
      "[244]\tvalid_0's rmse: 0.894047\n",
      "[245]\tvalid_0's rmse: 0.893999\n",
      "[246]\tvalid_0's rmse: 0.894008\n",
      "[247]\tvalid_0's rmse: 0.894\n",
      "[248]\tvalid_0's rmse: 0.893968\n",
      "[249]\tvalid_0's rmse: 0.893951\n",
      "[250]\tvalid_0's rmse: 0.893932\n",
      "[251]\tvalid_0's rmse: 0.89391\n",
      "[252]\tvalid_0's rmse: 0.89391\n",
      "[253]\tvalid_0's rmse: 0.893874\n",
      "[254]\tvalid_0's rmse: 0.893853\n",
      "[255]\tvalid_0's rmse: 0.893787\n",
      "[256]\tvalid_0's rmse: 0.893748\n",
      "[257]\tvalid_0's rmse: 0.89374\n",
      "[258]\tvalid_0's rmse: 0.893735\n",
      "[259]\tvalid_0's rmse: 0.893744\n",
      "[260]\tvalid_0's rmse: 0.893754\n",
      "[261]\tvalid_0's rmse: 0.893721\n",
      "[262]\tvalid_0's rmse: 0.893671\n",
      "[263]\tvalid_0's rmse: 0.893602\n",
      "[264]\tvalid_0's rmse: 0.893581\n",
      "[265]\tvalid_0's rmse: 0.893568\n",
      "[266]\tvalid_0's rmse: 0.893544\n",
      "[267]\tvalid_0's rmse: 0.893505\n",
      "[268]\tvalid_0's rmse: 0.893496\n",
      "[269]\tvalid_0's rmse: 0.893475\n",
      "[270]\tvalid_0's rmse: 0.893442\n",
      "[271]\tvalid_0's rmse: 0.893438\n",
      "[272]\tvalid_0's rmse: 0.89342\n",
      "[273]\tvalid_0's rmse: 0.893421\n",
      "[274]\tvalid_0's rmse: 0.893413\n",
      "[275]\tvalid_0's rmse: 0.893394\n",
      "[276]\tvalid_0's rmse: 0.893323\n",
      "[277]\tvalid_0's rmse: 0.89332\n",
      "[278]\tvalid_0's rmse: 0.893279\n",
      "[279]\tvalid_0's rmse: 0.893261\n",
      "[280]\tvalid_0's rmse: 0.893246\n",
      "[281]\tvalid_0's rmse: 0.893223\n",
      "[282]\tvalid_0's rmse: 0.893154\n",
      "[283]\tvalid_0's rmse: 0.893153\n",
      "[284]\tvalid_0's rmse: 0.893153\n",
      "[285]\tvalid_0's rmse: 0.893153\n",
      "[286]\tvalid_0's rmse: 0.893138\n",
      "[287]\tvalid_0's rmse: 0.893131\n",
      "[288]\tvalid_0's rmse: 0.893107\n",
      "[289]\tvalid_0's rmse: 0.893115\n",
      "[290]\tvalid_0's rmse: 0.893073\n",
      "[291]\tvalid_0's rmse: 0.893062\n",
      "[292]\tvalid_0's rmse: 0.89305\n",
      "[293]\tvalid_0's rmse: 0.893005\n",
      "[294]\tvalid_0's rmse: 0.892959\n",
      "[295]\tvalid_0's rmse: 0.892966\n",
      "[296]\tvalid_0's rmse: 0.892943\n",
      "[297]\tvalid_0's rmse: 0.892925\n",
      "[298]\tvalid_0's rmse: 0.892917\n",
      "[299]\tvalid_0's rmse: 0.892916\n",
      "[300]\tvalid_0's rmse: 0.892903\n",
      "[301]\tvalid_0's rmse: 0.892897\n",
      "[302]\tvalid_0's rmse: 0.892894\n",
      "[303]\tvalid_0's rmse: 0.892837\n",
      "[304]\tvalid_0's rmse: 0.892834\n",
      "[305]\tvalid_0's rmse: 0.892812\n",
      "[306]\tvalid_0's rmse: 0.892803\n",
      "[1]\tvalid_0's rmse: 0.918103\n",
      "[2]\tvalid_0's rmse: 0.917265\n",
      "[3]\tvalid_0's rmse: 0.916512\n",
      "[4]\tvalid_0's rmse: 0.915866\n",
      "[5]\tvalid_0's rmse: 0.915281\n",
      "[6]\tvalid_0's rmse: 0.914774\n",
      "[7]\tvalid_0's rmse: 0.914274\n",
      "[8]\tvalid_0's rmse: 0.913854\n",
      "[9]\tvalid_0's rmse: 0.913462\n",
      "[10]\tvalid_0's rmse: 0.913098\n",
      "[11]\tvalid_0's rmse: 0.912794\n",
      "[12]\tvalid_0's rmse: 0.912512\n",
      "[13]\tvalid_0's rmse: 0.912214\n",
      "[14]\tvalid_0's rmse: 0.911965\n",
      "[15]\tvalid_0's rmse: 0.911716\n",
      "[16]\tvalid_0's rmse: 0.911483\n",
      "[17]\tvalid_0's rmse: 0.911304\n",
      "[18]\tvalid_0's rmse: 0.911092\n",
      "[19]\tvalid_0's rmse: 0.910851\n",
      "[20]\tvalid_0's rmse: 0.910647\n",
      "[21]\tvalid_0's rmse: 0.910443\n",
      "[22]\tvalid_0's rmse: 0.910251\n",
      "[23]\tvalid_0's rmse: 0.910065\n",
      "[24]\tvalid_0's rmse: 0.909892\n",
      "[25]\tvalid_0's rmse: 0.90974\n",
      "[26]\tvalid_0's rmse: 0.909543\n",
      "[27]\tvalid_0's rmse: 0.909372\n",
      "[28]\tvalid_0's rmse: 0.909163\n",
      "[29]\tvalid_0's rmse: 0.909006\n",
      "[30]\tvalid_0's rmse: 0.908808\n",
      "[31]\tvalid_0's rmse: 0.908679\n",
      "[32]\tvalid_0's rmse: 0.908487\n",
      "[33]\tvalid_0's rmse: 0.908369\n",
      "[34]\tvalid_0's rmse: 0.908221\n",
      "[35]\tvalid_0's rmse: 0.908097\n",
      "[36]\tvalid_0's rmse: 0.907979\n",
      "[37]\tvalid_0's rmse: 0.907883\n",
      "[38]\tvalid_0's rmse: 0.907736\n",
      "[39]\tvalid_0's rmse: 0.907635\n",
      "[40]\tvalid_0's rmse: 0.907499\n",
      "[41]\tvalid_0's rmse: 0.907383\n",
      "[42]\tvalid_0's rmse: 0.907248\n",
      "[43]\tvalid_0's rmse: 0.907137\n",
      "[44]\tvalid_0's rmse: 0.907029\n",
      "[45]\tvalid_0's rmse: 0.906894\n",
      "[46]\tvalid_0's rmse: 0.906794\n",
      "[47]\tvalid_0's rmse: 0.90669\n",
      "[48]\tvalid_0's rmse: 0.906532\n",
      "[49]\tvalid_0's rmse: 0.906452\n",
      "[50]\tvalid_0's rmse: 0.906319\n",
      "[51]\tvalid_0's rmse: 0.906234\n",
      "[52]\tvalid_0's rmse: 0.906173\n",
      "[53]\tvalid_0's rmse: 0.906101\n",
      "[54]\tvalid_0's rmse: 0.905951\n",
      "[55]\tvalid_0's rmse: 0.905838\n",
      "[56]\tvalid_0's rmse: 0.905718\n",
      "[57]\tvalid_0's rmse: 0.905623\n",
      "[58]\tvalid_0's rmse: 0.905558\n",
      "[59]\tvalid_0's rmse: 0.90548\n",
      "[60]\tvalid_0's rmse: 0.905417\n",
      "[61]\tvalid_0's rmse: 0.905318\n",
      "[62]\tvalid_0's rmse: 0.905241\n",
      "[63]\tvalid_0's rmse: 0.905073\n",
      "[64]\tvalid_0's rmse: 0.904836\n",
      "[65]\tvalid_0's rmse: 0.904764\n",
      "[66]\tvalid_0's rmse: 0.904622\n",
      "[67]\tvalid_0's rmse: 0.904528\n",
      "[68]\tvalid_0's rmse: 0.904468\n",
      "[69]\tvalid_0's rmse: 0.904415\n",
      "[70]\tvalid_0's rmse: 0.904344\n",
      "[71]\tvalid_0's rmse: 0.904279\n",
      "[72]\tvalid_0's rmse: 0.904118\n",
      "[73]\tvalid_0's rmse: 0.904061\n",
      "[74]\tvalid_0's rmse: 0.903958\n",
      "[75]\tvalid_0's rmse: 0.903868\n",
      "[76]\tvalid_0's rmse: 0.90375\n",
      "[77]\tvalid_0's rmse: 0.903665\n",
      "[78]\tvalid_0's rmse: 0.903593\n",
      "[79]\tvalid_0's rmse: 0.903524\n",
      "[80]\tvalid_0's rmse: 0.903447\n",
      "[81]\tvalid_0's rmse: 0.903365\n",
      "[82]\tvalid_0's rmse: 0.903295\n",
      "[83]\tvalid_0's rmse: 0.903228\n",
      "[84]\tvalid_0's rmse: 0.903144\n",
      "[85]\tvalid_0's rmse: 0.903028\n",
      "[86]\tvalid_0's rmse: 0.90285\n",
      "[87]\tvalid_0's rmse: 0.902801\n",
      "[88]\tvalid_0's rmse: 0.902766\n",
      "[89]\tvalid_0's rmse: 0.902736\n",
      "[90]\tvalid_0's rmse: 0.902617\n",
      "[91]\tvalid_0's rmse: 0.902553\n",
      "[92]\tvalid_0's rmse: 0.902398\n",
      "[93]\tvalid_0's rmse: 0.902345\n",
      "[94]\tvalid_0's rmse: 0.902291\n",
      "[95]\tvalid_0's rmse: 0.902234\n",
      "[96]\tvalid_0's rmse: 0.902174\n",
      "[97]\tvalid_0's rmse: 0.902075\n",
      "[98]\tvalid_0's rmse: 0.902027\n",
      "[99]\tvalid_0's rmse: 0.90197\n",
      "[100]\tvalid_0's rmse: 0.901918\n",
      "[101]\tvalid_0's rmse: 0.901872\n",
      "[102]\tvalid_0's rmse: 0.901746\n",
      "[103]\tvalid_0's rmse: 0.901718\n",
      "[104]\tvalid_0's rmse: 0.901656\n",
      "[105]\tvalid_0's rmse: 0.901619\n",
      "[106]\tvalid_0's rmse: 0.901505\n",
      "[107]\tvalid_0's rmse: 0.90138\n",
      "[108]\tvalid_0's rmse: 0.901337\n",
      "[109]\tvalid_0's rmse: 0.901238\n",
      "[110]\tvalid_0's rmse: 0.901126\n",
      "[111]\tvalid_0's rmse: 0.901097\n",
      "[112]\tvalid_0's rmse: 0.901054\n",
      "[113]\tvalid_0's rmse: 0.90103\n",
      "[114]\tvalid_0's rmse: 0.900993\n",
      "[115]\tvalid_0's rmse: 0.900936\n",
      "[116]\tvalid_0's rmse: 0.900877\n",
      "[117]\tvalid_0's rmse: 0.90083\n",
      "[118]\tvalid_0's rmse: 0.900762\n",
      "[119]\tvalid_0's rmse: 0.900723\n",
      "[120]\tvalid_0's rmse: 0.900654\n",
      "[121]\tvalid_0's rmse: 0.900618\n",
      "[122]\tvalid_0's rmse: 0.900558\n",
      "[123]\tvalid_0's rmse: 0.900514\n",
      "[124]\tvalid_0's rmse: 0.900481\n",
      "[125]\tvalid_0's rmse: 0.90043\n",
      "[126]\tvalid_0's rmse: 0.900401\n",
      "[127]\tvalid_0's rmse: 0.90037\n",
      "[128]\tvalid_0's rmse: 0.900322\n",
      "[129]\tvalid_0's rmse: 0.900275\n",
      "[130]\tvalid_0's rmse: 0.900227\n",
      "[131]\tvalid_0's rmse: 0.900134\n",
      "[132]\tvalid_0's rmse: 0.900068\n",
      "[133]\tvalid_0's rmse: 0.900043\n",
      "[134]\tvalid_0's rmse: 0.899918\n",
      "[135]\tvalid_0's rmse: 0.899887\n",
      "[136]\tvalid_0's rmse: 0.899817\n",
      "[137]\tvalid_0's rmse: 0.899803\n",
      "[138]\tvalid_0's rmse: 0.899744\n",
      "[139]\tvalid_0's rmse: 0.899676\n",
      "[140]\tvalid_0's rmse: 0.899613\n",
      "[141]\tvalid_0's rmse: 0.89958\n",
      "[142]\tvalid_0's rmse: 0.899572\n",
      "[143]\tvalid_0's rmse: 0.899534\n",
      "[144]\tvalid_0's rmse: 0.89949\n",
      "[145]\tvalid_0's rmse: 0.899448\n",
      "[146]\tvalid_0's rmse: 0.899431\n",
      "[147]\tvalid_0's rmse: 0.899389\n",
      "[148]\tvalid_0's rmse: 0.899329\n",
      "[149]\tvalid_0's rmse: 0.899304\n",
      "[150]\tvalid_0's rmse: 0.899261\n",
      "[151]\tvalid_0's rmse: 0.899247\n",
      "[152]\tvalid_0's rmse: 0.89918\n",
      "[153]\tvalid_0's rmse: 0.899151\n",
      "[154]\tvalid_0's rmse: 0.899134\n",
      "[155]\tvalid_0's rmse: 0.899104\n",
      "[156]\tvalid_0's rmse: 0.899049\n",
      "[157]\tvalid_0's rmse: 0.899011\n",
      "[158]\tvalid_0's rmse: 0.898976\n",
      "[159]\tvalid_0's rmse: 0.898925\n",
      "[160]\tvalid_0's rmse: 0.898887\n",
      "[161]\tvalid_0's rmse: 0.898843\n",
      "[162]\tvalid_0's rmse: 0.898824\n",
      "[163]\tvalid_0's rmse: 0.898726\n",
      "[164]\tvalid_0's rmse: 0.898699\n",
      "[165]\tvalid_0's rmse: 0.898647\n",
      "[166]\tvalid_0's rmse: 0.898635\n",
      "[167]\tvalid_0's rmse: 0.898552\n",
      "[168]\tvalid_0's rmse: 0.898508\n",
      "[169]\tvalid_0's rmse: 0.898408\n",
      "[170]\tvalid_0's rmse: 0.898334\n",
      "[171]\tvalid_0's rmse: 0.898308\n",
      "[172]\tvalid_0's rmse: 0.898285\n",
      "[173]\tvalid_0's rmse: 0.89826\n",
      "[174]\tvalid_0's rmse: 0.898235\n",
      "[175]\tvalid_0's rmse: 0.898206\n",
      "[176]\tvalid_0's rmse: 0.89818\n",
      "[177]\tvalid_0's rmse: 0.898125\n",
      "[178]\tvalid_0's rmse: 0.898058\n",
      "[179]\tvalid_0's rmse: 0.898027\n",
      "[180]\tvalid_0's rmse: 0.897986\n",
      "[181]\tvalid_0's rmse: 0.897951\n",
      "[182]\tvalid_0's rmse: 0.897916\n",
      "[183]\tvalid_0's rmse: 0.897883\n",
      "[184]\tvalid_0's rmse: 0.89788\n",
      "[185]\tvalid_0's rmse: 0.897837\n",
      "[186]\tvalid_0's rmse: 0.897809\n",
      "[187]\tvalid_0's rmse: 0.897747\n",
      "[188]\tvalid_0's rmse: 0.897729\n",
      "[189]\tvalid_0's rmse: 0.897717\n",
      "[190]\tvalid_0's rmse: 0.897696\n",
      "[191]\tvalid_0's rmse: 0.897624\n",
      "[192]\tvalid_0's rmse: 0.897615\n",
      "[193]\tvalid_0's rmse: 0.897567\n",
      "[194]\tvalid_0's rmse: 0.897548\n",
      "[195]\tvalid_0's rmse: 0.897486\n",
      "[196]\tvalid_0's rmse: 0.897459\n",
      "[197]\tvalid_0's rmse: 0.897437\n",
      "[198]\tvalid_0's rmse: 0.897406\n",
      "[199]\tvalid_0's rmse: 0.897371\n",
      "[200]\tvalid_0's rmse: 0.897354\n",
      "[201]\tvalid_0's rmse: 0.897339\n",
      "[202]\tvalid_0's rmse: 0.89726\n",
      "[203]\tvalid_0's rmse: 0.897228\n",
      "[204]\tvalid_0's rmse: 0.897228\n",
      "[205]\tvalid_0's rmse: 0.897183\n",
      "[206]\tvalid_0's rmse: 0.897172\n",
      "[207]\tvalid_0's rmse: 0.897118\n",
      "[208]\tvalid_0's rmse: 0.897114\n",
      "[209]\tvalid_0's rmse: 0.897099\n",
      "[210]\tvalid_0's rmse: 0.897068\n",
      "[211]\tvalid_0's rmse: 0.897067\n",
      "[212]\tvalid_0's rmse: 0.897008\n",
      "[213]\tvalid_0's rmse: 0.896966\n",
      "[214]\tvalid_0's rmse: 0.896965\n",
      "[215]\tvalid_0's rmse: 0.896946\n",
      "[216]\tvalid_0's rmse: 0.896926\n",
      "[217]\tvalid_0's rmse: 0.896901\n",
      "[218]\tvalid_0's rmse: 0.896895\n",
      "[219]\tvalid_0's rmse: 0.896876\n",
      "[220]\tvalid_0's rmse: 0.896841\n",
      "[221]\tvalid_0's rmse: 0.89683\n",
      "[222]\tvalid_0's rmse: 0.896813\n",
      "[223]\tvalid_0's rmse: 0.896795\n",
      "[224]\tvalid_0's rmse: 0.896708\n",
      "[225]\tvalid_0's rmse: 0.896678\n",
      "[226]\tvalid_0's rmse: 0.896587\n",
      "[227]\tvalid_0's rmse: 0.896561\n",
      "[228]\tvalid_0's rmse: 0.89655\n",
      "[229]\tvalid_0's rmse: 0.89652\n",
      "[230]\tvalid_0's rmse: 0.896514\n",
      "[231]\tvalid_0's rmse: 0.896511\n",
      "[232]\tvalid_0's rmse: 0.896431\n",
      "[233]\tvalid_0's rmse: 0.896414\n",
      "[234]\tvalid_0's rmse: 0.896406\n",
      "[235]\tvalid_0's rmse: 0.896401\n",
      "[236]\tvalid_0's rmse: 0.896402\n",
      "[237]\tvalid_0's rmse: 0.896368\n",
      "[238]\tvalid_0's rmse: 0.896365\n",
      "[239]\tvalid_0's rmse: 0.896317\n",
      "[240]\tvalid_0's rmse: 0.896304\n",
      "[241]\tvalid_0's rmse: 0.896296\n",
      "[242]\tvalid_0's rmse: 0.896226\n",
      "[243]\tvalid_0's rmse: 0.896221\n",
      "[244]\tvalid_0's rmse: 0.896195\n",
      "[245]\tvalid_0's rmse: 0.89618\n",
      "[246]\tvalid_0's rmse: 0.896175\n",
      "[247]\tvalid_0's rmse: 0.896139\n",
      "[248]\tvalid_0's rmse: 0.896115\n",
      "[249]\tvalid_0's rmse: 0.896104\n",
      "[250]\tvalid_0's rmse: 0.896012\n",
      "[251]\tvalid_0's rmse: 0.895989\n",
      "[252]\tvalid_0's rmse: 0.895962\n",
      "[253]\tvalid_0's rmse: 0.895958\n",
      "[254]\tvalid_0's rmse: 0.895947\n",
      "[255]\tvalid_0's rmse: 0.895928\n",
      "[256]\tvalid_0's rmse: 0.895897\n",
      "[257]\tvalid_0's rmse: 0.89589\n",
      "[258]\tvalid_0's rmse: 0.89588\n",
      "[259]\tvalid_0's rmse: 0.895813\n",
      "[260]\tvalid_0's rmse: 0.895764\n",
      "[261]\tvalid_0's rmse: 0.895714\n",
      "[262]\tvalid_0's rmse: 0.895705\n",
      "[263]\tvalid_0's rmse: 0.895635\n",
      "[264]\tvalid_0's rmse: 0.895592\n",
      "[265]\tvalid_0's rmse: 0.895532\n",
      "[266]\tvalid_0's rmse: 0.895513\n",
      "[267]\tvalid_0's rmse: 0.895505\n",
      "[268]\tvalid_0's rmse: 0.895499\n",
      "[269]\tvalid_0's rmse: 0.895485\n",
      "[270]\tvalid_0's rmse: 0.895466\n",
      "[271]\tvalid_0's rmse: 0.895441\n",
      "[272]\tvalid_0's rmse: 0.895433\n",
      "[273]\tvalid_0's rmse: 0.895429\n",
      "[274]\tvalid_0's rmse: 0.8954\n",
      "[275]\tvalid_0's rmse: 0.895393\n",
      "[276]\tvalid_0's rmse: 0.895321\n",
      "[277]\tvalid_0's rmse: 0.895287\n",
      "[278]\tvalid_0's rmse: 0.895272\n",
      "[279]\tvalid_0's rmse: 0.89525\n",
      "[280]\tvalid_0's rmse: 0.895229\n",
      "[281]\tvalid_0's rmse: 0.895217\n",
      "[282]\tvalid_0's rmse: 0.895212\n",
      "[283]\tvalid_0's rmse: 0.895163\n",
      "[284]\tvalid_0's rmse: 0.895101\n",
      "[285]\tvalid_0's rmse: 0.895101\n",
      "[286]\tvalid_0's rmse: 0.895086\n",
      "[287]\tvalid_0's rmse: 0.895065\n",
      "[288]\tvalid_0's rmse: 0.895035\n",
      "[289]\tvalid_0's rmse: 0.895025\n",
      "[290]\tvalid_0's rmse: 0.895016\n",
      "[291]\tvalid_0's rmse: 0.895009\n",
      "[292]\tvalid_0's rmse: 0.895005\n",
      "[293]\tvalid_0's rmse: 0.894907\n",
      "[294]\tvalid_0's rmse: 0.894896\n",
      "[295]\tvalid_0's rmse: 0.894825\n",
      "[296]\tvalid_0's rmse: 0.894797\n",
      "[297]\tvalid_0's rmse: 0.894749\n",
      "[298]\tvalid_0's rmse: 0.894684\n",
      "[299]\tvalid_0's rmse: 0.89468\n",
      "[300]\tvalid_0's rmse: 0.894658\n",
      "[301]\tvalid_0's rmse: 0.894655\n",
      "[302]\tvalid_0's rmse: 0.89465\n",
      "[303]\tvalid_0's rmse: 0.894637\n",
      "[304]\tvalid_0's rmse: 0.894624\n",
      "[305]\tvalid_0's rmse: 0.894624\n",
      "[306]\tvalid_0's rmse: 0.894618\n"
     ]
    },
    {
     "data": {
      "text/plain": [
       "0"
      ]
     },
     "execution_count": 13,
     "metadata": {},
     "output_type": "execute_result"
    }
   ],
   "source": [
    "seed = 0\n",
    "folds = 3\n",
    "models = []\n",
    "\n",
    "skf = StratifiedKFold(folds, shuffle = True, random_state = seed)\n",
    "\n",
    "for train_index, test_index in skf.split(train_df, train_df['investment_id']):\n",
    "    train = train_df.iloc[train_index]\n",
    "    valid = train_df.iloc[test_index]\n",
    "    \n",
    "    lgbm = LGBMRegressor(**params)\n",
    "    '''\n",
    "        num_leaves=2 ** np.random.randint(3, 8),\n",
    "        learning_rate = 10 ** (-np.random.uniform(0.1,2)),\n",
    "        n_estimators = 500,\n",
    "        min_child_samples = 1000, \n",
    "        subsample=np.random.uniform(0.5,1.0), \n",
    "        subsample_freq=1,\n",
    "        n_jobs= -1,\n",
    "        tree_method ='gpu_hist' ,\n",
    "    '''\n",
    "    \n",
    "    lgbm.fit(train[feature_cols], train['target'], eval_set = (valid[feature_cols], valid['target']))\n",
    "    models.append(lgbm)\n",
    "    gc.collect()\n",
    "gc.collect()"
   ]
  },
  {
   "cell_type": "markdown",
   "id": "c70a502c",
   "metadata": {
    "papermill": {
     "duration": 0.413998,
     "end_time": "2022-04-10T04:18:07.382353",
     "exception": false,
     "start_time": "2022-04-10T04:18:06.968355",
     "status": "completed"
    },
    "tags": []
   },
   "source": [
    "- 머신러닝을 통해 나온 결과로 feature 별 중요도 그래프"
   ]
  },
  {
   "cell_type": "code",
   "execution_count": 14,
   "id": "70bfe7c1",
   "metadata": {
    "execution": {
     "iopub.execute_input": "2022-04-10T04:18:08.170125Z",
     "iopub.status.busy": "2022-04-10T04:18:08.169469Z",
     "iopub.status.idle": "2022-04-10T04:18:13.860668Z",
     "shell.execute_reply": "2022-04-10T04:18:13.861174Z"
    },
    "papermill": {
     "duration": 6.081962,
     "end_time": "2022-04-10T04:18:13.861371",
     "exception": false,
     "start_time": "2022-04-10T04:18:07.779409",
     "status": "completed"
    },
    "tags": []
   },
   "outputs": [
    {
     "data": {
      "text/plain": [
       "205"
      ]
     },
     "execution_count": 14,
     "metadata": {},
     "output_type": "execute_result"
    },
    {
     "data": {
      "image/png": "[encoded data removed]",
      "text/plain": [
       "<Figure size 1440x4320 with 1 Axes>"
      ]
     },
     "metadata": {
      "needs_background": "light"
     },
     "output_type": "display_data"
    }
   ],
   "source": [
    "import lightgbm\n",
    "lightgbm.plot_importance(lgbm, figsize = (20, 60))\n",
    "gc.collect()"
   ]
  },
  {
   "cell_type": "markdown",
   "id": "e8d50726",
   "metadata": {
    "papermill": {
     "duration": 0.394456,
     "end_time": "2022-04-10T04:18:14.653823",
     "exception": false,
     "start_time": "2022-04-10T04:18:14.259367",
     "status": "completed"
    },
    "tags": []
   },
   "source": [
    "# Step 6. 예측 및 제출"
   ]
  },
  {
   "cell_type": "markdown",
   "id": "58c5d710",
   "metadata": {
    "papermill": {
     "duration": 0.3955,
     "end_time": "2022-04-10T04:18:15.448707",
     "exception": false,
     "start_time": "2022-04-10T04:18:15.053207",
     "status": "completed"
    },
    "tags": []
   },
   "source": [
    "- 주최측에서 제공하는 API를 통해 제출"
   ]
  },
  {
   "cell_type": "code",
   "execution_count": 15,
   "id": "4a139301",
   "metadata": {
    "execution": {
     "iopub.execute_input": "2022-04-10T04:18:16.246690Z",
     "iopub.status.busy": "2022-04-10T04:18:16.246049Z",
     "iopub.status.idle": "2022-04-10T04:18:16.283310Z",
     "shell.execute_reply": "2022-04-10T04:18:16.282703Z"
    },
    "papermill": {
     "duration": 0.438273,
     "end_time": "2022-04-10T04:18:16.283467",
     "exception": false,
     "start_time": "2022-04-10T04:18:15.845194",
     "status": "completed"
    },
    "tags": []
   },
   "outputs": [],
   "source": [
    "import ubiquant\n",
    "env = ubiquant.make_env()   # initialize the environment\n",
    "iter_test = env.iter_test()    # an iterator which loops over the test set and sample submission\n"
   ]
  },
  {
   "cell_type": "code",
   "execution_count": 16,
   "id": "d28f7b18",
   "metadata": {
    "execution": {
     "iopub.execute_input": "2022-04-10T04:18:17.087464Z",
     "iopub.status.busy": "2022-04-10T04:18:17.086800Z",
     "iopub.status.idle": "2022-04-10T04:18:17.240292Z",
     "shell.execute_reply": "2022-04-10T04:18:17.240883Z"
    },
    "papermill": {
     "duration": 0.556554,
     "end_time": "2022-04-10T04:18:17.241085",
     "exception": false,
     "start_time": "2022-04-10T04:18:16.684531",
     "status": "completed"
    },
    "tags": []
   },
   "outputs": [
    {
     "name": "stdout",
     "output_type": "stream",
     "text": [
      "This version of the API is not optimized and should not be used to estimate the runtime of your code on the hidden test set.\n"
     ]
    }
   ],
   "source": [
    "for (test_df, sample_prediction_df) in iter_test:\n",
    "    \n",
    "    test_df['target']  = 0\n",
    "    \n",
    "    for lgbm in models:\n",
    "        test_df['target'] += lgbm.predict(test_df[feature_cols])\n",
    "    test_df['target'] /= len(models)\n",
    "    env.predict(test_df[['row_id','target']])"
   ]
  },
  {
   "cell_type": "markdown",
   "id": "5be3e59c",
   "metadata": {
    "papermill": {
     "duration": 0.461183,
     "end_time": "2022-04-10T04:18:18.096445",
     "exception": false,
     "start_time": "2022-04-10T04:18:17.635262",
     "status": "completed"
    },
    "tags": []
   },
   "source": [
    "# References :    \n",
    "https://www.kaggle.com/code/yoshikuwano/fast-read-data-and-memory-optimization/notebook   \n",
    "https://www.kaggle.com/code/rohanrao/tutorial-on-reading-large-datasets/notebook#Format:-csv   \n",
    "https://www.kaggle.com/code/sytuannguyen/ubiquant-data-preparation#3.-Save-the-reduced-dataframe   \n",
    "https://www.kaggle.com/code/jnegrini/ubiquant-eda    \n",
    "https://www.kaggle.com/code/gunesevitan/ubiquant-market-prediction-eda/notebook#3.-Target   \n",
    "https://www.kaggle.com/code/ilialar/ubiquant-eda-and-baseline#Features    \n",
    "https://www.kaggle.com/competitions/ubiquant-market-prediction/data    \n",
    "https://www.kaggle.com/code/larochemf/ubiquant-low-memory-use-be-careful/notebook    \n",
    "https://www.kaggle.com/code/robikscube/fast-data-loading-and-low-mem-with-parquet-files/notebook    \n",
    "https://www.kaggle.com/code/lucamassaron/eda-target-analysis       \n",
    "https://www.kaggle.com/code/edwardcrookenden/eda-and-lgbm-baseline-feature-imp    \n",
    "https://www.kaggle.com/competitions/ubiquant-market-prediction/discussion/305031    \n",
    "https://www.kaggle.com/code/junjitakeshima/ubiquant-simple-lgbm-removing-outliers-en-jp/notebook#(1)-Read-Trainiing-Data    \n",
    "https://www.kaggle.com/code/valleyzw/ubiquant-lgbm-baseline/notebook#Stock-market-calendar-analysis:-discussion     \n",
    "https://www.kaggle.com/code/sytuannguyen/ubiquant-with-lightgbm   \n",
    "https://www.kaggle.com/code/jiprud/simple-light-gbm   \n",
    "https://www.kaggle.com/code/ilialar/ubiquant-eda-and-baseline#Model-training"
   ]
  }
 ],
 "metadata": {
  "kernelspec": {
   "display_name": "Python 3",
   "language": "python",
   "name": "python3"
  },
  "language_info": {
   "codemirror_mode": {
    "name": "ipython",
    "version": 3
   },
   "file_extension": ".py",
   "mimetype": "text/x-python",
   "name": "python",
   "nbconvert_exporter": "python",
   "pygments_lexer": "ipython3",
   "version": "3.7.12"
  },
  "papermill": {
   "default_parameters": {},
   "duration": 1825.855302,
   "end_time": "2022-04-10T04:18:21.360116",
   "environment_variables": {},
   "exception": null,
   "input_path": "__notebook__.ipynb",
   "output_path": "__notebook__.ipynb",
   "parameters": {},
   "start_time": "2022-04-10T03:47:55.504814",
   "version": "2.3.3"
  }
 },
 "nbformat": 4,
 "nbformat_minor": 5
}
