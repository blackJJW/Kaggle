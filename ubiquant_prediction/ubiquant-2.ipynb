{
 "cells": [
  {
   "cell_type": "markdown",
   "id": "2d343505",
   "metadata": {
    "papermill": {
     "duration": 0.022955,
     "end_time": "2022-04-09T15:38:55.418179",
     "exception": false,
     "start_time": "2022-04-09T15:38:55.395224",
     "status": "completed"
    },
    "tags": []
   },
   "source": [
    "# 프로젝트 개요\n",
    "- 강의명 : 2022년 K-디지털 직업훈련(Training) 사업 - AI데이터플랫폼을 활용한 빅데이터 분석전문가 과정\n",
    "- 교과목명 : 빅데이터 분석 및 시각화, AI개발 기초, 인공지능 프로그래밍\n",
    "- 프로젝트 주제 : Ubiquant Market 데이터를 활용한 미래 투자 예측\n",
    "- 프로젝트 마감일 : 2022년 4월 12일 화요일\n",
    "- 강사명 : 정지훈 강사\n",
    "- 수강생명 : 정진우"
   ]
  },
  {
   "cell_type": "markdown",
   "id": "611b9ce6",
   "metadata": {
    "papermill": {
     "duration": 0.021439,
     "end_time": "2022-04-09T15:38:55.461569",
     "exception": false,
     "start_time": "2022-04-09T15:38:55.440130",
     "status": "completed"
    },
    "tags": []
   },
   "source": [
    "# Step 1 ~ 3 :    \n",
    "https://www.kaggle.com/code/blackjjw/ubiquant-eda\n",
    "## dataset :   \n",
    "https://www.kaggle.com/datasets/blackjjw/ubiquant-train-df-low-memory-pkl"
   ]
  },
  {
   "cell_type": "markdown",
   "id": "d25439bf",
   "metadata": {
    "papermill": {
     "duration": 0.02137,
     "end_time": "2022-04-09T15:38:55.504430",
     "exception": false,
     "start_time": "2022-04-09T15:38:55.483060",
     "status": "completed"
    },
    "tags": []
   },
   "source": [
    "# 라이브러리 불러오기"
   ]
  },
  {
   "cell_type": "code",
   "execution_count": 1,
   "id": "213bf881",
   "metadata": {
    "_cell_guid": "b1076dfc-b9ad-4769-8c92-a6c4dae69d19",
    "_uuid": "8f2839f25d086af736a60e9eeb907d3b93b6e0e5",
    "execution": {
     "iopub.execute_input": "2022-04-09T15:38:55.551869Z",
     "iopub.status.busy": "2022-04-09T15:38:55.550809Z",
     "iopub.status.idle": "2022-04-09T15:38:57.576669Z",
     "shell.execute_reply": "2022-04-09T15:38:57.577194Z",
     "shell.execute_reply.started": "2022-04-09T15:01:32.287353Z"
    },
    "papermill": {
     "duration": 2.051396,
     "end_time": "2022-04-09T15:38:57.577466",
     "exception": false,
     "start_time": "2022-04-09T15:38:55.526070",
     "status": "completed"
    },
    "tags": []
   },
   "outputs": [
    {
     "data": {
      "text/html": [
       "<style type='text/css'>\n",
       ".datatable table.frame { margin-bottom: 0; }\n",
       ".datatable table.frame thead { border-bottom: none; }\n",
       ".datatable table.frame tr.coltypes td {  color: #FFFFFF;  line-height: 6px;  padding: 0 0.5em;}\n",
       ".datatable .bool    { background: #DDDD99; }\n",
       ".datatable .object  { background: #565656; }\n",
       ".datatable .int     { background: #5D9E5D; }\n",
       ".datatable .float   { background: #4040CC; }\n",
       ".datatable .str     { background: #CC4040; }\n",
       ".datatable .time    { background: #40CC40; }\n",
       ".datatable .row_index {  background: var(--jp-border-color3);  border-right: 1px solid var(--jp-border-color0);  color: var(--jp-ui-font-color3);  font-size: 9px;}\n",
       ".datatable .frame tbody td { text-align: left; }\n",
       ".datatable .frame tr.coltypes .row_index {  background: var(--jp-border-color0);}\n",
       ".datatable th:nth-child(2) { padding-left: 12px; }\n",
       ".datatable .hellipsis {  color: var(--jp-cell-editor-border-color);}\n",
       ".datatable .vellipsis {  background: var(--jp-layout-color0);  color: var(--jp-cell-editor-border-color);}\n",
       ".datatable .na {  color: var(--jp-cell-editor-border-color);  font-size: 80%;}\n",
       ".datatable .sp {  opacity: 0.25;}\n",
       ".datatable .footer { font-size: 9px; }\n",
       ".datatable .frame_dimensions {  background: var(--jp-border-color3);  border-top: 1px solid var(--jp-border-color0);  color: var(--jp-ui-font-color3);  display: inline-block;  opacity: 0.6;  padding: 1px 10px 1px 5px;}\n",
       "</style>\n"
      ],
      "text/plain": [
       "<IPython.core.display.HTML object>"
      ]
     },
     "metadata": {},
     "output_type": "display_data"
    }
   ],
   "source": [
    "import numpy as np\n",
    "import pandas as pd\n",
    "\n",
    "import gc\n",
    "import joblib\n",
    "\n",
    "import matplotlib.pyplot as plt\n",
    "%matplotlib inline\n",
    "import seaborn as sns\n",
    "import scipy as stats\n",
    "\n",
    "from sklearn import preprocessing\n",
    "from sklearn.model_selection import StratifiedKFold \n",
    "from sklearn.model_selection import GroupKFold\n",
    "from sklearn.model_selection import train_test_split\n",
    "from sklearn.metrics import mean_squared_error, mean_absolute_error, accuracy_score, confusion_matrix\n",
    "from sklearn.ensemble import RandomForestRegressor\n",
    "\n",
    "import lightgbm as lgbm\n",
    "from lightgbm import *"
   ]
  },
  {
   "cell_type": "markdown",
   "id": "885b143d",
   "metadata": {
    "papermill": {
     "duration": 0.022074,
     "end_time": "2022-04-09T15:38:57.622358",
     "exception": false,
     "start_time": "2022-04-09T15:38:57.600284",
     "status": "completed"
    },
    "tags": []
   },
   "source": [
    "# 데이터 불러오기\n",
    "- Step 1 ~ 3에서 진행하고 생성한 train_df.pkl를 read."
   ]
  },
  {
   "cell_type": "code",
   "execution_count": 2,
   "id": "a50e1d81",
   "metadata": {
    "execution": {
     "iopub.execute_input": "2022-04-09T15:38:57.671483Z",
     "iopub.status.busy": "2022-04-09T15:38:57.669225Z",
     "iopub.status.idle": "2022-04-09T15:39:14.607138Z",
     "shell.execute_reply": "2022-04-09T15:39:14.607731Z",
     "shell.execute_reply.started": "2022-04-09T15:01:34.809544Z"
    },
    "papermill": {
     "duration": 16.963335,
     "end_time": "2022-04-09T15:39:14.607962",
     "exception": false,
     "start_time": "2022-04-09T15:38:57.644627",
     "status": "completed"
    },
    "tags": []
   },
   "outputs": [
    {
     "name": "stdout",
     "output_type": "stream",
     "text": [
      "CPU times: user 824 ms, sys: 2.22 s, total: 3.04 s\n",
      "Wall time: 16.9 s\n"
     ]
    },
    {
     "data": {
      "text/html": [
       "<div>\n",
       "<style scoped>\n",
       "    .dataframe tbody tr th:only-of-type {\n",
       "        vertical-align: middle;\n",
       "    }\n",
       "\n",
       "    .dataframe tbody tr th {\n",
       "        vertical-align: top;\n",
       "    }\n",
       "\n",
       "    .dataframe thead th {\n",
       "        text-align: right;\n",
       "    }\n",
       "</style>\n",
       "<table border=\"1\" class=\"dataframe\">\n",
       "  <thead>\n",
       "    <tr style=\"text-align: right;\">\n",
       "      <th></th>\n",
       "      <th>row_id</th>\n",
       "      <th>time_id</th>\n",
       "      <th>investment_id</th>\n",
       "      <th>target</th>\n",
       "      <th>f_0</th>\n",
       "      <th>f_1</th>\n",
       "      <th>f_2</th>\n",
       "      <th>f_3</th>\n",
       "      <th>f_4</th>\n",
       "      <th>f_5</th>\n",
       "      <th>...</th>\n",
       "      <th>f_290</th>\n",
       "      <th>f_291</th>\n",
       "      <th>f_292</th>\n",
       "      <th>f_293</th>\n",
       "      <th>f_294</th>\n",
       "      <th>f_295</th>\n",
       "      <th>f_296</th>\n",
       "      <th>f_297</th>\n",
       "      <th>f_298</th>\n",
       "      <th>f_299</th>\n",
       "    </tr>\n",
       "  </thead>\n",
       "  <tbody>\n",
       "    <tr>\n",
       "      <th>0</th>\n",
       "      <td>0_1</td>\n",
       "      <td>0</td>\n",
       "      <td>1</td>\n",
       "      <td>-0.300781</td>\n",
       "      <td>0.932617</td>\n",
       "      <td>0.113708</td>\n",
       "      <td>-0.402100</td>\n",
       "      <td>0.378418</td>\n",
       "      <td>-0.203979</td>\n",
       "      <td>-0.413574</td>\n",
       "      <td>...</td>\n",
       "      <td>0.365967</td>\n",
       "      <td>-1.095703</td>\n",
       "      <td>0.200073</td>\n",
       "      <td>0.819336</td>\n",
       "      <td>0.941406</td>\n",
       "      <td>-0.086792</td>\n",
       "      <td>-1.086914</td>\n",
       "      <td>-1.044922</td>\n",
       "      <td>-0.287598</td>\n",
       "      <td>0.321533</td>\n",
       "    </tr>\n",
       "    <tr>\n",
       "      <th>1</th>\n",
       "      <td>0_2</td>\n",
       "      <td>0</td>\n",
       "      <td>2</td>\n",
       "      <td>-0.231079</td>\n",
       "      <td>0.811035</td>\n",
       "      <td>-0.514160</td>\n",
       "      <td>0.742188</td>\n",
       "      <td>-0.616699</td>\n",
       "      <td>-0.194214</td>\n",
       "      <td>1.771484</td>\n",
       "      <td>...</td>\n",
       "      <td>-0.154175</td>\n",
       "      <td>0.912598</td>\n",
       "      <td>-0.734375</td>\n",
       "      <td>0.819336</td>\n",
       "      <td>0.941406</td>\n",
       "      <td>-0.387695</td>\n",
       "      <td>-1.086914</td>\n",
       "      <td>-0.929688</td>\n",
       "      <td>-0.974121</td>\n",
       "      <td>-0.343506</td>\n",
       "    </tr>\n",
       "    <tr>\n",
       "      <th>2</th>\n",
       "      <td>0_6</td>\n",
       "      <td>0</td>\n",
       "      <td>6</td>\n",
       "      <td>0.568848</td>\n",
       "      <td>0.394043</td>\n",
       "      <td>0.615723</td>\n",
       "      <td>0.567871</td>\n",
       "      <td>-0.607910</td>\n",
       "      <td>0.068909</td>\n",
       "      <td>-1.083008</td>\n",
       "      <td>...</td>\n",
       "      <td>-0.138062</td>\n",
       "      <td>0.912598</td>\n",
       "      <td>-0.551758</td>\n",
       "      <td>-1.220703</td>\n",
       "      <td>-1.060547</td>\n",
       "      <td>-0.219116</td>\n",
       "      <td>-1.086914</td>\n",
       "      <td>-0.612305</td>\n",
       "      <td>-0.113953</td>\n",
       "      <td>0.243652</td>\n",
       "    </tr>\n",
       "    <tr>\n",
       "      <th>3</th>\n",
       "      <td>0_7</td>\n",
       "      <td>0</td>\n",
       "      <td>7</td>\n",
       "      <td>-1.064453</td>\n",
       "      <td>-2.343750</td>\n",
       "      <td>-0.011871</td>\n",
       "      <td>1.875000</td>\n",
       "      <td>-0.606445</td>\n",
       "      <td>-0.586914</td>\n",
       "      <td>-0.815918</td>\n",
       "      <td>...</td>\n",
       "      <td>0.382080</td>\n",
       "      <td>0.912598</td>\n",
       "      <td>-0.266357</td>\n",
       "      <td>-1.220703</td>\n",
       "      <td>0.941406</td>\n",
       "      <td>-0.608887</td>\n",
       "      <td>0.104919</td>\n",
       "      <td>-0.783203</td>\n",
       "      <td>1.151367</td>\n",
       "      <td>-0.773438</td>\n",
       "    </tr>\n",
       "    <tr>\n",
       "      <th>4</th>\n",
       "      <td>0_8</td>\n",
       "      <td>0</td>\n",
       "      <td>8</td>\n",
       "      <td>-0.531738</td>\n",
       "      <td>0.842285</td>\n",
       "      <td>-0.262939</td>\n",
       "      <td>2.330078</td>\n",
       "      <td>-0.583496</td>\n",
       "      <td>-0.618164</td>\n",
       "      <td>-0.742676</td>\n",
       "      <td>...</td>\n",
       "      <td>-0.170410</td>\n",
       "      <td>0.912598</td>\n",
       "      <td>-0.741211</td>\n",
       "      <td>-1.220703</td>\n",
       "      <td>0.941406</td>\n",
       "      <td>-0.588379</td>\n",
       "      <td>0.104919</td>\n",
       "      <td>0.753418</td>\n",
       "      <td>1.345703</td>\n",
       "      <td>-0.737793</td>\n",
       "    </tr>\n",
       "  </tbody>\n",
       "</table>\n",
       "<p>5 rows × 304 columns</p>\n",
       "</div>"
      ],
      "text/plain": [
       "  row_id  time_id  investment_id    target       f_0       f_1       f_2  \\\n",
       "0    0_1        0              1 -0.300781  0.932617  0.113708 -0.402100   \n",
       "1    0_2        0              2 -0.231079  0.811035 -0.514160  0.742188   \n",
       "2    0_6        0              6  0.568848  0.394043  0.615723  0.567871   \n",
       "3    0_7        0              7 -1.064453 -2.343750 -0.011871  1.875000   \n",
       "4    0_8        0              8 -0.531738  0.842285 -0.262939  2.330078   \n",
       "\n",
       "        f_3       f_4       f_5  ...     f_290     f_291     f_292     f_293  \\\n",
       "0  0.378418 -0.203979 -0.413574  ...  0.365967 -1.095703  0.200073  0.819336   \n",
       "1 -0.616699 -0.194214  1.771484  ... -0.154175  0.912598 -0.734375  0.819336   \n",
       "2 -0.607910  0.068909 -1.083008  ... -0.138062  0.912598 -0.551758 -1.220703   \n",
       "3 -0.606445 -0.586914 -0.815918  ...  0.382080  0.912598 -0.266357 -1.220703   \n",
       "4 -0.583496 -0.618164 -0.742676  ... -0.170410  0.912598 -0.741211 -1.220703   \n",
       "\n",
       "      f_294     f_295     f_296     f_297     f_298     f_299  \n",
       "0  0.941406 -0.086792 -1.086914 -1.044922 -0.287598  0.321533  \n",
       "1  0.941406 -0.387695 -1.086914 -0.929688 -0.974121 -0.343506  \n",
       "2 -1.060547 -0.219116 -1.086914 -0.612305 -0.113953  0.243652  \n",
       "3  0.941406 -0.608887  0.104919 -0.783203  1.151367 -0.773438  \n",
       "4  0.941406 -0.588379  0.104919  0.753418  1.345703 -0.737793  \n",
       "\n",
       "[5 rows x 304 columns]"
      ]
     },
     "execution_count": 2,
     "metadata": {},
     "output_type": "execute_result"
    }
   ],
   "source": [
    "%%time\n",
    "train_df = pd.read_pickle('../input/ubiquant-train-df-low-memory-pkl/train_df.pkl')\n",
    "train_df.head()"
   ]
  },
  {
   "cell_type": "markdown",
   "id": "487c81e5",
   "metadata": {
    "papermill": {
     "duration": 0.022926,
     "end_time": "2022-04-09T15:39:14.656281",
     "exception": false,
     "start_time": "2022-04-09T15:39:14.633355",
     "status": "completed"
    },
    "tags": []
   },
   "source": [
    "# Step 4. 데이터 전처리"
   ]
  },
  {
   "cell_type": "markdown",
   "id": "c8ff26a1",
   "metadata": {
    "papermill": {
     "duration": 0.022646,
     "end_time": "2022-04-09T15:39:14.701926",
     "exception": false,
     "start_time": "2022-04-09T15:39:14.679280",
     "status": "completed"
    },
    "tags": []
   },
   "source": [
    "## 필요없는 컬럼 제거\n",
    "- row_id는 단순 행 번호를 나타내므로 제거.\n",
    "- 컬럼 리스트를 따로 생성하고 'row_id' 제거.\n",
    "- 'time_id' 제거\n",
    "- 종속변수인 'target' 제거.\n",
    "- 필요없는 컬럼이 생성된 리스트를 통해 필요한 컬럼들만 추출하여 사용."
   ]
  },
  {
   "cell_type": "code",
   "execution_count": 3,
   "id": "c6b8a78a",
   "metadata": {
    "execution": {
     "iopub.execute_input": "2022-04-09T15:39:14.757117Z",
     "iopub.status.busy": "2022-04-09T15:39:14.756360Z",
     "iopub.status.idle": "2022-04-09T15:39:14.759377Z",
     "shell.execute_reply": "2022-04-09T15:39:14.759874Z",
     "shell.execute_reply.started": "2022-04-09T15:01:54.491304Z"
    },
    "papermill": {
     "duration": 0.035358,
     "end_time": "2022-04-09T15:39:14.760029",
     "exception": false,
     "start_time": "2022-04-09T15:39:14.724671",
     "status": "completed"
    },
    "tags": []
   },
   "outputs": [
    {
     "data": {
      "text/plain": [
       "Index(['investment_id', 'f_0', 'f_1', 'f_2', 'f_3', 'f_4', 'f_5', 'f_6', 'f_7',\n",
       "       'f_8',\n",
       "       ...\n",
       "       'f_290', 'f_291', 'f_292', 'f_293', 'f_294', 'f_295', 'f_296', 'f_297',\n",
       "       'f_298', 'f_299'],\n",
       "      dtype='object', length=301)"
      ]
     },
     "execution_count": 3,
     "metadata": {},
     "output_type": "execute_result"
    }
   ],
   "source": [
    "feature_cols = train_df.columns.unique()\n",
    "feature_cols = feature_cols.drop(['row_id', 'target', 'time_id'])\n",
    "feature_cols"
   ]
  },
  {
   "cell_type": "markdown",
   "id": "cfc29d26",
   "metadata": {
    "papermill": {
     "duration": 0.023665,
     "end_time": "2022-04-09T15:39:14.807407",
     "exception": false,
     "start_time": "2022-04-09T15:39:14.783742",
     "status": "completed"
    },
    "tags": []
   },
   "source": [
    "## 결측치 제거\n",
    "- dataset 내에 결측치가 존재하지 않음."
   ]
  },
  {
   "cell_type": "markdown",
   "id": "7f81e311",
   "metadata": {
    "papermill": {
     "duration": 0.024096,
     "end_time": "2022-04-09T15:39:14.855104",
     "exception": false,
     "start_time": "2022-04-09T15:39:14.831008",
     "status": "completed"
    },
    "tags": []
   },
   "source": [
    "## 이상치 제거\n",
    "- 평균에서 멀리 떨어져 있는 값들을 제거 (> std*num)"
   ]
  },
  {
   "cell_type": "markdown",
   "id": "d1ff73c4",
   "metadata": {
    "papermill": {
     "duration": 0.022781,
     "end_time": "2022-04-09T15:39:14.903262",
     "exception": false,
     "start_time": "2022-04-09T15:39:14.880481",
     "status": "completed"
    },
    "tags": []
   },
   "source": [
    "## mean > std * x\n",
    "- 이상치의 개수와 리스트를 반환\n",
    "|x|outlier count|\n",
    "|:---:|:---:|\n",
    "|70|128|\n",
    "|60|325|"
   ]
  },
  {
   "cell_type": "code",
   "execution_count": 4,
   "id": "3b38585c",
   "metadata": {
    "execution": {
     "iopub.execute_input": "2022-04-09T15:39:14.959683Z",
     "iopub.status.busy": "2022-04-09T15:39:14.958332Z",
     "iopub.status.idle": "2022-04-09T15:39:31.815798Z",
     "shell.execute_reply": "2022-04-09T15:39:31.816249Z",
     "shell.execute_reply.started": "2022-04-09T15:01:54.504016Z"
    },
    "papermill": {
     "duration": 16.889803,
     "end_time": "2022-04-09T15:39:31.816404",
     "exception": false,
     "start_time": "2022-04-09T15:39:14.926601",
     "status": "completed"
    },
    "tags": []
   },
   "outputs": [
    {
     "name": "stdout",
     "output_type": "stream",
     "text": [
      "f_4 6\n",
      "f_10 1\n",
      "f_13 1\n",
      "f_49 1\n",
      "f_78 1\n",
      "f_115 14\n",
      "f_117 16\n",
      "f_124 17\n",
      "f_127 16\n",
      "f_155 2\n",
      "f_162 1\n",
      "f_172 2\n",
      "f_175 30\n",
      "f_193 3\n",
      "f_200 37\n",
      "f_280 3\n",
      "f_289 6\n",
      "128\n"
     ]
    },
    {
     "data": {
      "text/plain": [
       "0"
      ]
     },
     "execution_count": 4,
     "metadata": {},
     "output_type": "execute_result"
    }
   ],
   "source": [
    "outlier_list = []\n",
    "num = 70\n",
    "\n",
    "for col in feature_cols :\n",
    "    trans_dtype_df = train_df[col].astype(np.float32)\n",
    "    \n",
    "    temp_df = train_df[(trans_dtype_df > trans_dtype_df.mean() + trans_dtype_df.std() * num) |\n",
    "                       (trans_dtype_df < trans_dtype_df.mean() - trans_dtype_df.std() * num) ]\n",
    "    if len(temp_df) >0 :\n",
    "        outliers = temp_df.index.to_list()\n",
    "        outlier_list.extend(outliers)\n",
    "        print(col, len(temp_df))\n",
    "        gc.collect()\n",
    "\n",
    "outlier_list = list(set(outlier_list))\n",
    "print(len(outlier_list))\n",
    "gc.collect()"
   ]
  },
  {
   "cell_type": "markdown",
   "id": "df9cb2e8",
   "metadata": {
    "papermill": {
     "duration": 0.027057,
     "end_time": "2022-04-09T15:39:31.871076",
     "exception": false,
     "start_time": "2022-04-09T15:39:31.844019",
     "status": "completed"
    },
    "tags": []
   },
   "source": [
    "- 이상치 제거"
   ]
  },
  {
   "cell_type": "code",
   "execution_count": 5,
   "id": "2c32e3a3",
   "metadata": {
    "execution": {
     "iopub.execute_input": "2022-04-09T15:39:31.931342Z",
     "iopub.status.busy": "2022-04-09T15:39:31.930215Z",
     "iopub.status.idle": "2022-04-09T15:39:40.232003Z",
     "shell.execute_reply": "2022-04-09T15:39:40.231408Z",
     "shell.execute_reply.started": "2022-04-09T15:02:12.664302Z"
    },
    "papermill": {
     "duration": 8.334044,
     "end_time": "2022-04-09T15:39:40.232144",
     "exception": false,
     "start_time": "2022-04-09T15:39:31.898100",
     "status": "completed"
    },
    "tags": []
   },
   "outputs": [
    {
     "data": {
      "text/plain": [
       "21"
      ]
     },
     "execution_count": 5,
     "metadata": {},
     "output_type": "execute_result"
    }
   ],
   "source": [
    "train_df.drop(train_df.index[outlier_list], inplace = True)\n",
    "train_df\n",
    "gc.collect()"
   ]
  },
  {
   "cell_type": "markdown",
   "id": "24adb658",
   "metadata": {
    "papermill": {
     "duration": 0.027549,
     "end_time": "2022-04-09T15:39:40.287866",
     "exception": false,
     "start_time": "2022-04-09T15:39:40.260317",
     "status": "completed"
    },
    "tags": []
   },
   "source": [
    "# Step 5. 머신러닝 모형 개발"
   ]
  },
  {
   "cell_type": "markdown",
   "id": "b0f3ba45",
   "metadata": {
    "papermill": {
     "duration": 0.027356,
     "end_time": "2022-04-09T15:39:40.343010",
     "exception": false,
     "start_time": "2022-04-09T15:39:40.315654",
     "status": "completed"
    },
    "tags": []
   },
   "source": [
    "- 독립변수와 종속변수를 구분."
   ]
  },
  {
   "cell_type": "code",
   "execution_count": 6,
   "id": "fa907c96",
   "metadata": {
    "execution": {
     "iopub.execute_input": "2022-04-09T15:39:40.402281Z",
     "iopub.status.busy": "2022-04-09T15:39:40.401716Z",
     "iopub.status.idle": "2022-04-09T15:39:40.403906Z",
     "shell.execute_reply": "2022-04-09T15:39:40.403378Z",
     "shell.execute_reply.started": "2022-04-09T15:02:21.090903Z"
    },
    "papermill": {
     "duration": 0.032805,
     "end_time": "2022-04-09T15:39:40.404025",
     "exception": false,
     "start_time": "2022-04-09T15:39:40.371220",
     "status": "completed"
    },
    "tags": []
   },
   "outputs": [],
   "source": [
    "#X = train_df[feature_cols]\n",
    "#y = train_df['target']"
   ]
  },
  {
   "cell_type": "markdown",
   "id": "fa83e76e",
   "metadata": {
    "papermill": {
     "duration": 0.027095,
     "end_time": "2022-04-09T15:39:40.458630",
     "exception": false,
     "start_time": "2022-04-09T15:39:40.431535",
     "status": "completed"
    },
    "tags": []
   },
   "source": [
    "- X, y 데이터 분리"
   ]
  },
  {
   "cell_type": "code",
   "execution_count": 7,
   "id": "13d25f74",
   "metadata": {
    "execution": {
     "iopub.execute_input": "2022-04-09T15:39:40.517034Z",
     "iopub.status.busy": "2022-04-09T15:39:40.516489Z",
     "iopub.status.idle": "2022-04-09T15:39:40.519357Z",
     "shell.execute_reply": "2022-04-09T15:39:40.518928Z",
     "shell.execute_reply.started": "2022-04-09T15:02:21.09774Z"
    },
    "papermill": {
     "duration": 0.033166,
     "end_time": "2022-04-09T15:39:40.519476",
     "exception": false,
     "start_time": "2022-04-09T15:39:40.486310",
     "status": "completed"
    },
    "tags": []
   },
   "outputs": [],
   "source": [
    "#X_train, X_valid, y_train, y_valid = train_test_split(X, y, test_size = 0.3, random_state = 42, shuffle = False)\n",
    "#X_train.shape, X_valid.shape, y_train.shape, y_valid.shape"
   ]
  },
  {
   "cell_type": "markdown",
   "id": "0ac481ba",
   "metadata": {
    "papermill": {
     "duration": 0.026911,
     "end_time": "2022-04-09T15:39:40.573517",
     "exception": false,
     "start_time": "2022-04-09T15:39:40.546606",
     "status": "completed"
    },
    "tags": []
   },
   "source": [
    "- RAM 확보를 위해 X, y 제거"
   ]
  },
  {
   "cell_type": "code",
   "execution_count": 8,
   "id": "eb38c55a",
   "metadata": {
    "execution": {
     "iopub.execute_input": "2022-04-09T15:39:40.633069Z",
     "iopub.status.busy": "2022-04-09T15:39:40.631187Z",
     "iopub.status.idle": "2022-04-09T15:39:40.636088Z",
     "shell.execute_reply": "2022-04-09T15:39:40.635634Z",
     "shell.execute_reply.started": "2022-04-09T15:02:21.11029Z"
    },
    "papermill": {
     "duration": 0.035266,
     "end_time": "2022-04-09T15:39:40.636213",
     "exception": false,
     "start_time": "2022-04-09T15:39:40.600947",
     "status": "completed"
    },
    "tags": []
   },
   "outputs": [
    {
     "data": {
      "text/plain": [
       "'\\ndel X\\ndel y\\ngc.collect()\\n'"
      ]
     },
     "execution_count": 8,
     "metadata": {},
     "output_type": "execute_result"
    }
   ],
   "source": [
    "'''\n",
    "del X\n",
    "del y\n",
    "gc.collect()\n",
    "'''"
   ]
  },
  {
   "cell_type": "markdown",
   "id": "d688c245",
   "metadata": {
    "papermill": {
     "duration": 0.027352,
     "end_time": "2022-04-09T15:39:40.691205",
     "exception": false,
     "start_time": "2022-04-09T15:39:40.663853",
     "status": "completed"
    },
    "tags": []
   },
   "source": [
    "- LightGBM 클래스를 부른 후 모형을 학습"
   ]
  },
  {
   "cell_type": "code",
   "execution_count": 9,
   "id": "be9f6a91",
   "metadata": {
    "execution": {
     "iopub.execute_input": "2022-04-09T15:39:40.751138Z",
     "iopub.status.busy": "2022-04-09T15:39:40.750541Z",
     "iopub.status.idle": "2022-04-09T15:39:40.752940Z",
     "shell.execute_reply": "2022-04-09T15:39:40.753393Z",
     "shell.execute_reply.started": "2022-04-09T15:02:21.126285Z"
    },
    "papermill": {
     "duration": 0.034698,
     "end_time": "2022-04-09T15:39:40.753532",
     "exception": false,
     "start_time": "2022-04-09T15:39:40.718834",
     "status": "completed"
    },
    "tags": []
   },
   "outputs": [
    {
     "data": {
      "text/plain": [
       "'\\nmodel = lgbm.LGBMRegressor(\\n        objective=\"regression\",\\n        metric=\"rmse\",\\n        n_estimators=500 )\\n\\nmodel.fit(X_train, y_train)\\n'"
      ]
     },
     "execution_count": 9,
     "metadata": {},
     "output_type": "execute_result"
    }
   ],
   "source": [
    "'''\n",
    "model = lgbm.LGBMRegressor(\n",
    "        objective=\"regression\",\n",
    "        metric=\"rmse\",\n",
    "        n_estimators=500 )\n",
    "\n",
    "model.fit(X_train, y_train)\n",
    "'''"
   ]
  },
  {
   "cell_type": "code",
   "execution_count": 10,
   "id": "80749e7d",
   "metadata": {
    "execution": {
     "iopub.execute_input": "2022-04-09T15:39:40.813497Z",
     "iopub.status.busy": "2022-04-09T15:39:40.812950Z",
     "iopub.status.idle": "2022-04-09T15:39:40.817162Z",
     "shell.execute_reply": "2022-04-09T15:39:40.817663Z",
     "shell.execute_reply.started": "2022-04-09T15:02:21.140364Z"
    },
    "papermill": {
     "duration": 0.035246,
     "end_time": "2022-04-09T15:39:40.817821",
     "exception": false,
     "start_time": "2022-04-09T15:39:40.782575",
     "status": "completed"
    },
    "tags": []
   },
   "outputs": [
    {
     "data": {
      "text/plain": [
       "'\\nfor j in [200, 300, 400, 500, 600]:\\n        model = lgbm.LGBMRegressor(\\n            objective=\"regression\",\\n            metric=\"rmse\",\\n            n_estimators= j )\\n\\n        model.fit(X_train, y_train)\\n\\n        score = model.score(X_train, y_train)\\n        print(f\"n_e:{j}, Training Score : {score}\")\\n\\n        y_pred = model.predict(X_valid)\\n        mse = mean_squared_error(y_valid, y_pred)\\n        print(f\"n_e:{j},MSE : {mse:.2f}\")\\n'"
      ]
     },
     "execution_count": 10,
     "metadata": {},
     "output_type": "execute_result"
    }
   ],
   "source": [
    "\"\"\"\n",
    "for j in [200, 300, 400, 500, 600]:\n",
    "        model = lgbm.LGBMRegressor(\n",
    "            objective=\"regression\",\n",
    "            metric=\"rmse\",\n",
    "            n_estimators= j )\n",
    "\n",
    "        model.fit(X_train, y_train)\n",
    "\n",
    "        score = model.score(X_train, y_train)\n",
    "        print(f\"n_e:{j}, Training Score : {score}\")\n",
    "\n",
    "        y_pred = model.predict(X_valid)\n",
    "        mse = mean_squared_error(y_valid, y_pred)\n",
    "        print(f\"n_e:{j},MSE : {mse:.2f}\")\n",
    "\"\"\""
   ]
  },
  {
   "cell_type": "markdown",
   "id": "fcedaec6",
   "metadata": {
    "papermill": {
     "duration": 0.035031,
     "end_time": "2022-04-09T15:39:40.881581",
     "exception": false,
     "start_time": "2022-04-09T15:39:40.846550",
     "status": "completed"
    },
    "tags": []
   },
   "source": [
    "### Training_Score & MSE 계산\n",
    "|test_size|n_estimators|delete outliers|Training_Score|MSE|delete outliers|Training_Score|MSE|delete outliers|Training_Score|MSE|   \n",
    "|:---:|:---:|:---:|:---:|:---:|:---:|:---:|:---:|:---:|:---:|:---:|                              \n",
    "|0.2|200|X|0.054069993842590924|0.81|>std\\*70|0.05405621833673957(<span style=\"color:blue\">$\\downarrow$</span>)|0.81|>std\\*60|0.05404028505271219(<span style=\"color:blue\">$\\downarrow$</span>)|0.81|\n",
    "|0.3|200|X|0.05846368663812751|0.83|>std\\*70|0.058449805435160984(<span style=\"color:blue\">$\\downarrow$</span>)|0.82|>std\\*60|||\n",
    "|0.2|300|X|0.06668339494814646|0.82|>std\\*70|0.06660813482520711(<span style=\"color:blue\">$\\downarrow$</span>)|0.81|>std\\*60|0.06678748573971982(<span style=\"color:red\">$\\uparrow$</span>)|0.81|\n",
    "|0.3|300|X|0.07216780004832235|0.83|>std\\*70|0.07194148416323642(<span style=\"color:blue\">$\\downarrow$</span>)|0.83|>std\\*60|||\n",
    "|0.2|400|X|0.07730909212135473|0.82|>std\\*70|0.0772426438888425(<span style=\"color:blue\">$\\downarrow$</span>)|0.82|>std\\*60|0.07730612556862904(<span style=\"color:red\">$\\uparrow$</span>)|0.82|\n",
    "|0.3|400|X|0.08363594720433998|0.83|>std\\*70|0.08389302333398285(<span style=\"color:red\">$\\uparrow$</span>)|0.83|>std\\*60|||\n",
    "|0.2|500|X|0.08671736858043233|0.82|>std\\*70|0.08636877075690108(<span style=\"color:blue\">$\\downarrow$</span>)|0.82|>std\\*60|0.08657127960859345(<span style=\"color:red\">$\\uparrow$</span>)|0.82|\n",
    "|0.3|500|X|0.09377199406580616|0.83|>std\\*70|0.0941912571685275(<span style=\"color:red\">$\\uparrow$</span>)|0.83|>std\\*60|||\n",
    "|0.2|600|X|0.09585158203024369|0.82|>std\\*70|0.09531511104149593(<span style=\"color:blue\">$\\downarrow$</span>)|0.82|>std\\*60|0.09508766558702908(<span style=\"color:blue\">$\\downarrow$</span>)|0.82|\n",
    "|0.3|600|X|0.10299723306322961|0.83|>std\\*70|0.10381084559412301(<span style=\"color:red\">$\\uparrow$</span>)|0.83|>std\\*60|||\n",
    "|0.2|700|X|0.10387433272279445|0.82|>std\\*70|0.10403926054146928(<span style=\"color:blue\">$\\downarrow$</span>)|0.82|>std\\*60|X|X|"
   ]
  },
  {
   "cell_type": "markdown",
   "id": "06264c4f",
   "metadata": {
    "papermill": {
     "duration": 0.034137,
     "end_time": "2022-04-09T15:39:40.952365",
     "exception": false,
     "start_time": "2022-04-09T15:39:40.918228",
     "status": "completed"
    },
    "tags": []
   },
   "source": [
    "- 이상치를 제거해도 전반적으로 training score가 항상 오르지 않는다.\n",
    "- 오히려 떨어지는 것으로 보임"
   ]
  },
  {
   "cell_type": "markdown",
   "id": "dcd7aaa0",
   "metadata": {
    "papermill": {
     "duration": 0.028133,
     "end_time": "2022-04-09T15:39:41.011303",
     "exception": false,
     "start_time": "2022-04-09T15:39:40.983170",
     "status": "completed"
    },
    "tags": []
   },
   "source": [
    "- trianing score, MSE 계산"
   ]
  },
  {
   "cell_type": "code",
   "execution_count": 11,
   "id": "daca8d4c",
   "metadata": {
    "execution": {
     "iopub.execute_input": "2022-04-09T15:39:41.070942Z",
     "iopub.status.busy": "2022-04-09T15:39:41.070346Z",
     "iopub.status.idle": "2022-04-09T15:39:41.074142Z",
     "shell.execute_reply": "2022-04-09T15:39:41.074622Z",
     "shell.execute_reply.started": "2022-04-09T15:02:21.151996Z"
    },
    "papermill": {
     "duration": 0.034991,
     "end_time": "2022-04-09T15:39:41.074780",
     "exception": false,
     "start_time": "2022-04-09T15:39:41.039789",
     "status": "completed"
    },
    "tags": []
   },
   "outputs": [
    {
     "data": {
      "text/plain": [
       "'\\nscore = model.score(X_train, y_train)\\nprint(f\"Training Score : {score}\")\\n\\ny_pred = model.predict(X_valid)\\nmse = mean_squared_error(y_valid, y_pred)\\nprint(f\"MSE : {mse:.2f}\")\\n'"
      ]
     },
     "execution_count": 11,
     "metadata": {},
     "output_type": "execute_result"
    }
   ],
   "source": [
    "'''\n",
    "score = model.score(X_train, y_train)\n",
    "print(f\"Training Score : {score}\")\n",
    "\n",
    "y_pred = model.predict(X_valid)\n",
    "mse = mean_squared_error(y_valid, y_pred)\n",
    "print(f\"MSE : {mse:.2f}\")\n",
    "'''\n"
   ]
  },
  {
   "cell_type": "markdown",
   "id": "715a0edc",
   "metadata": {
    "papermill": {
     "duration": 0.028321,
     "end_time": "2022-04-09T15:39:41.132020",
     "exception": false,
     "start_time": "2022-04-09T15:39:41.103699",
     "status": "completed"
    },
    "tags": []
   },
   "source": [
    "- LightGBM의 세부 파라미터 적용\n",
    "    - 참고 자료를 조사하여 적용"
   ]
  },
  {
   "cell_type": "code",
   "execution_count": 12,
   "id": "a29fd8a7",
   "metadata": {
    "execution": {
     "iopub.execute_input": "2022-04-09T15:39:41.192635Z",
     "iopub.status.busy": "2022-04-09T15:39:41.192065Z",
     "iopub.status.idle": "2022-04-09T15:39:41.307442Z",
     "shell.execute_reply": "2022-04-09T15:39:41.307984Z",
     "shell.execute_reply.started": "2022-04-09T15:02:21.170962Z"
    },
    "papermill": {
     "duration": 0.147122,
     "end_time": "2022-04-09T15:39:41.308150",
     "exception": false,
     "start_time": "2022-04-09T15:39:41.161028",
     "status": "completed"
    },
    "tags": []
   },
   "outputs": [
    {
     "data": {
      "text/plain": [
       "147"
      ]
     },
     "execution_count": 12,
     "metadata": {},
     "output_type": "execute_result"
    }
   ],
   "source": [
    "#https://www.kaggle.com/valleyzw/ubiquant-lgbm-baseline\n",
    "params = {\n",
    "        'learning_rate':0.1,\n",
    "        \"objective\": \"regression\",\n",
    "        \"metric\": \"rmse\",\n",
    "        'boosting_type': \"gbdt\",\n",
    "        'verbosity': -1,\n",
    "        'n_jobs': -1, \n",
    "        'seed': 21,\n",
    "        'lambda_l1': 1.1895057699067542, \n",
    "        'lambda_l2': 1.9079686837880768e-08, \n",
    "        'num_leaves': 112, \n",
    "        'subsample':None,\n",
    "        'feature_fraction': 0.6259927292757151, \n",
    "        'bagging_fraction': 0.9782210574588895, \n",
    "        'bagging_freq': 1, \n",
    "        'n_estimators': 306, \n",
    "        'max_depth': 12, \n",
    "        'max_bin': 494, \n",
    "        'min_data_in_leaf': 366,\n",
    "        'colsample_bytree': None,\n",
    "        'subsample_freq': None,\n",
    "        'min_child_samples': None,\n",
    "        'reg_lambda': None,\n",
    "        'reg_alpha': None,\n",
    "    }\n",
    "gc.collect()"
   ]
  },
  {
   "cell_type": "code",
   "execution_count": 13,
   "id": "fa0507ee",
   "metadata": {
    "execution": {
     "iopub.execute_input": "2022-04-09T15:39:41.375551Z",
     "iopub.status.busy": "2022-04-09T15:39:41.374409Z",
     "iopub.status.idle": "2022-04-09T16:03:40.831297Z",
     "shell.execute_reply": "2022-04-09T16:03:40.831806Z",
     "shell.execute_reply.started": "2022-04-09T15:02:21.312587Z"
    },
    "papermill": {
     "duration": 1439.493954,
     "end_time": "2022-04-09T16:03:40.832007",
     "exception": false,
     "start_time": "2022-04-09T15:39:41.338053",
     "status": "completed"
    },
    "tags": []
   },
   "outputs": [
    {
     "name": "stderr",
     "output_type": "stream",
     "text": [
      "/opt/conda/lib/python3.7/site-packages/sklearn/model_selection/_split.py:680: UserWarning: The least populated class in y has only 2 members, which is less than n_splits=3.\n",
      "  UserWarning,\n"
     ]
    },
    {
     "name": "stdout",
     "output_type": "stream",
     "text": [
      "[1]\tvalid_0's rmse: 0.920456\n",
      "[2]\tvalid_0's rmse: 0.919627\n",
      "[3]\tvalid_0's rmse: 0.918881\n",
      "[4]\tvalid_0's rmse: 0.918234\n",
      "[5]\tvalid_0's rmse: 0.917629\n",
      "[6]\tvalid_0's rmse: 0.917098\n",
      "[7]\tvalid_0's rmse: 0.916614\n",
      "[8]\tvalid_0's rmse: 0.916201\n",
      "[9]\tvalid_0's rmse: 0.915825\n",
      "[10]\tvalid_0's rmse: 0.915475\n",
      "[11]\tvalid_0's rmse: 0.915181\n",
      "[12]\tvalid_0's rmse: 0.914903\n",
      "[13]\tvalid_0's rmse: 0.914617\n",
      "[14]\tvalid_0's rmse: 0.914351\n",
      "[15]\tvalid_0's rmse: 0.914124\n",
      "[16]\tvalid_0's rmse: 0.913901\n",
      "[17]\tvalid_0's rmse: 0.913703\n",
      "[18]\tvalid_0's rmse: 0.913503\n",
      "[19]\tvalid_0's rmse: 0.91329\n",
      "[20]\tvalid_0's rmse: 0.913085\n",
      "[21]\tvalid_0's rmse: 0.912882\n",
      "[22]\tvalid_0's rmse: 0.912733\n",
      "[23]\tvalid_0's rmse: 0.912464\n",
      "[24]\tvalid_0's rmse: 0.912319\n",
      "[25]\tvalid_0's rmse: 0.912167\n",
      "[26]\tvalid_0's rmse: 0.912001\n",
      "[27]\tvalid_0's rmse: 0.911834\n",
      "[28]\tvalid_0's rmse: 0.911682\n",
      "[29]\tvalid_0's rmse: 0.911539\n",
      "[30]\tvalid_0's rmse: 0.911399\n",
      "[31]\tvalid_0's rmse: 0.911221\n",
      "[32]\tvalid_0's rmse: 0.911016\n",
      "[33]\tvalid_0's rmse: 0.910879\n",
      "[34]\tvalid_0's rmse: 0.910753\n",
      "[35]\tvalid_0's rmse: 0.910667\n",
      "[36]\tvalid_0's rmse: 0.910546\n",
      "[37]\tvalid_0's rmse: 0.910439\n",
      "[38]\tvalid_0's rmse: 0.910326\n",
      "[39]\tvalid_0's rmse: 0.910219\n",
      "[40]\tvalid_0's rmse: 0.910101\n",
      "[41]\tvalid_0's rmse: 0.909985\n",
      "[42]\tvalid_0's rmse: 0.909793\n",
      "[43]\tvalid_0's rmse: 0.909651\n",
      "[44]\tvalid_0's rmse: 0.909504\n",
      "[45]\tvalid_0's rmse: 0.909388\n",
      "[46]\tvalid_0's rmse: 0.909323\n",
      "[47]\tvalid_0's rmse: 0.909192\n",
      "[48]\tvalid_0's rmse: 0.909114\n",
      "[49]\tvalid_0's rmse: 0.909009\n",
      "[50]\tvalid_0's rmse: 0.908883\n",
      "[51]\tvalid_0's rmse: 0.908749\n",
      "[52]\tvalid_0's rmse: 0.908604\n",
      "[53]\tvalid_0's rmse: 0.908474\n",
      "[54]\tvalid_0's rmse: 0.908387\n",
      "[55]\tvalid_0's rmse: 0.9083\n",
      "[56]\tvalid_0's rmse: 0.908208\n",
      "[57]\tvalid_0's rmse: 0.908117\n",
      "[58]\tvalid_0's rmse: 0.908033\n",
      "[59]\tvalid_0's rmse: 0.907953\n",
      "[60]\tvalid_0's rmse: 0.907861\n",
      "[61]\tvalid_0's rmse: 0.907755\n",
      "[62]\tvalid_0's rmse: 0.90762\n",
      "[63]\tvalid_0's rmse: 0.90755\n",
      "[64]\tvalid_0's rmse: 0.907461\n",
      "[65]\tvalid_0's rmse: 0.907385\n",
      "[66]\tvalid_0's rmse: 0.907316\n",
      "[67]\tvalid_0's rmse: 0.907254\n",
      "[68]\tvalid_0's rmse: 0.90719\n",
      "[69]\tvalid_0's rmse: 0.907103\n",
      "[70]\tvalid_0's rmse: 0.907058\n",
      "[71]\tvalid_0's rmse: 0.906967\n",
      "[72]\tvalid_0's rmse: 0.906908\n",
      "[73]\tvalid_0's rmse: 0.906866\n",
      "[74]\tvalid_0's rmse: 0.906767\n",
      "[75]\tvalid_0's rmse: 0.906678\n",
      "[76]\tvalid_0's rmse: 0.90662\n",
      "[77]\tvalid_0's rmse: 0.906508\n",
      "[78]\tvalid_0's rmse: 0.906428\n",
      "[79]\tvalid_0's rmse: 0.906378\n",
      "[80]\tvalid_0's rmse: 0.906337\n",
      "[81]\tvalid_0's rmse: 0.906243\n",
      "[82]\tvalid_0's rmse: 0.906149\n",
      "[83]\tvalid_0's rmse: 0.906101\n",
      "[84]\tvalid_0's rmse: 0.906047\n",
      "[85]\tvalid_0's rmse: 0.905956\n",
      "[86]\tvalid_0's rmse: 0.90592\n",
      "[87]\tvalid_0's rmse: 0.905845\n",
      "[88]\tvalid_0's rmse: 0.905721\n",
      "[89]\tvalid_0's rmse: 0.905616\n",
      "[90]\tvalid_0's rmse: 0.905546\n",
      "[91]\tvalid_0's rmse: 0.905513\n",
      "[92]\tvalid_0's rmse: 0.905463\n",
      "[93]\tvalid_0's rmse: 0.905421\n",
      "[94]\tvalid_0's rmse: 0.905364\n",
      "[95]\tvalid_0's rmse: 0.905315\n",
      "[96]\tvalid_0's rmse: 0.905195\n",
      "[97]\tvalid_0's rmse: 0.90514\n",
      "[98]\tvalid_0's rmse: 0.905036\n",
      "[99]\tvalid_0's rmse: 0.904994\n",
      "[100]\tvalid_0's rmse: 0.904967\n",
      "[101]\tvalid_0's rmse: 0.904853\n",
      "[102]\tvalid_0's rmse: 0.904712\n",
      "[103]\tvalid_0's rmse: 0.904624\n",
      "[104]\tvalid_0's rmse: 0.90457\n",
      "[105]\tvalid_0's rmse: 0.904493\n",
      "[106]\tvalid_0's rmse: 0.904437\n",
      "[107]\tvalid_0's rmse: 0.904314\n",
      "[108]\tvalid_0's rmse: 0.904286\n",
      "[109]\tvalid_0's rmse: 0.90425\n",
      "[110]\tvalid_0's rmse: 0.904172\n",
      "[111]\tvalid_0's rmse: 0.904093\n",
      "[112]\tvalid_0's rmse: 0.904011\n",
      "[113]\tvalid_0's rmse: 0.903969\n",
      "[114]\tvalid_0's rmse: 0.90392\n",
      "[115]\tvalid_0's rmse: 0.903867\n",
      "[116]\tvalid_0's rmse: 0.903834\n",
      "[117]\tvalid_0's rmse: 0.903796\n",
      "[118]\tvalid_0's rmse: 0.903765\n",
      "[119]\tvalid_0's rmse: 0.903697\n",
      "[120]\tvalid_0's rmse: 0.903648\n",
      "[121]\tvalid_0's rmse: 0.903627\n",
      "[122]\tvalid_0's rmse: 0.903598\n",
      "[123]\tvalid_0's rmse: 0.903579\n",
      "[124]\tvalid_0's rmse: 0.903477\n",
      "[125]\tvalid_0's rmse: 0.903444\n",
      "[126]\tvalid_0's rmse: 0.903381\n",
      "[127]\tvalid_0's rmse: 0.903307\n",
      "[128]\tvalid_0's rmse: 0.903265\n",
      "[129]\tvalid_0's rmse: 0.903225\n",
      "[130]\tvalid_0's rmse: 0.903181\n",
      "[131]\tvalid_0's rmse: 0.903151\n",
      "[132]\tvalid_0's rmse: 0.903106\n",
      "[133]\tvalid_0's rmse: 0.903012\n",
      "[134]\tvalid_0's rmse: 0.902978\n",
      "[135]\tvalid_0's rmse: 0.902954\n",
      "[136]\tvalid_0's rmse: 0.902884\n",
      "[137]\tvalid_0's rmse: 0.902847\n",
      "[138]\tvalid_0's rmse: 0.902733\n",
      "[139]\tvalid_0's rmse: 0.902672\n",
      "[140]\tvalid_0's rmse: 0.902606\n",
      "[141]\tvalid_0's rmse: 0.902558\n",
      "[142]\tvalid_0's rmse: 0.902534\n",
      "[143]\tvalid_0's rmse: 0.902464\n",
      "[144]\tvalid_0's rmse: 0.902436\n",
      "[145]\tvalid_0's rmse: 0.90234\n",
      "[146]\tvalid_0's rmse: 0.90232\n",
      "[147]\tvalid_0's rmse: 0.902294\n",
      "[148]\tvalid_0's rmse: 0.902268\n",
      "[149]\tvalid_0's rmse: 0.90219\n",
      "[150]\tvalid_0's rmse: 0.902102\n",
      "[151]\tvalid_0's rmse: 0.902071\n",
      "[152]\tvalid_0's rmse: 0.901924\n",
      "[153]\tvalid_0's rmse: 0.901845\n",
      "[154]\tvalid_0's rmse: 0.901807\n",
      "[155]\tvalid_0's rmse: 0.901718\n",
      "[156]\tvalid_0's rmse: 0.901602\n",
      "[157]\tvalid_0's rmse: 0.901577\n",
      "[158]\tvalid_0's rmse: 0.901547\n",
      "[159]\tvalid_0's rmse: 0.90152\n",
      "[160]\tvalid_0's rmse: 0.901494\n",
      "[161]\tvalid_0's rmse: 0.901464\n",
      "[162]\tvalid_0's rmse: 0.901463\n",
      "[163]\tvalid_0's rmse: 0.901357\n",
      "[164]\tvalid_0's rmse: 0.901321\n",
      "[165]\tvalid_0's rmse: 0.901272\n",
      "[166]\tvalid_0's rmse: 0.901249\n",
      "[167]\tvalid_0's rmse: 0.901193\n",
      "[168]\tvalid_0's rmse: 0.901145\n",
      "[169]\tvalid_0's rmse: 0.901121\n",
      "[170]\tvalid_0's rmse: 0.901025\n",
      "[171]\tvalid_0's rmse: 0.900965\n",
      "[172]\tvalid_0's rmse: 0.900938\n",
      "[173]\tvalid_0's rmse: 0.900894\n",
      "[174]\tvalid_0's rmse: 0.900801\n",
      "[175]\tvalid_0's rmse: 0.900792\n",
      "[176]\tvalid_0's rmse: 0.900787\n",
      "[177]\tvalid_0's rmse: 0.900686\n",
      "[178]\tvalid_0's rmse: 0.900669\n",
      "[179]\tvalid_0's rmse: 0.900577\n",
      "[180]\tvalid_0's rmse: 0.90056\n",
      "[181]\tvalid_0's rmse: 0.900529\n",
      "[182]\tvalid_0's rmse: 0.900506\n",
      "[183]\tvalid_0's rmse: 0.900459\n",
      "[184]\tvalid_0's rmse: 0.900439\n",
      "[185]\tvalid_0's rmse: 0.900413\n",
      "[186]\tvalid_0's rmse: 0.900349\n",
      "[187]\tvalid_0's rmse: 0.900334\n",
      "[188]\tvalid_0's rmse: 0.900311\n",
      "[189]\tvalid_0's rmse: 0.90024\n",
      "[190]\tvalid_0's rmse: 0.900157\n",
      "[191]\tvalid_0's rmse: 0.900105\n",
      "[192]\tvalid_0's rmse: 0.900083\n",
      "[193]\tvalid_0's rmse: 0.900059\n",
      "[194]\tvalid_0's rmse: 0.900054\n",
      "[195]\tvalid_0's rmse: 0.899991\n",
      "[196]\tvalid_0's rmse: 0.899937\n",
      "[197]\tvalid_0's rmse: 0.899923\n",
      "[198]\tvalid_0's rmse: 0.899916\n",
      "[199]\tvalid_0's rmse: 0.899905\n",
      "[200]\tvalid_0's rmse: 0.899855\n",
      "[201]\tvalid_0's rmse: 0.899827\n",
      "[202]\tvalid_0's rmse: 0.89979\n",
      "[203]\tvalid_0's rmse: 0.899774\n",
      "[204]\tvalid_0's rmse: 0.89975\n",
      "[205]\tvalid_0's rmse: 0.899693\n",
      "[206]\tvalid_0's rmse: 0.89966\n",
      "[207]\tvalid_0's rmse: 0.89962\n",
      "[208]\tvalid_0's rmse: 0.8996\n",
      "[209]\tvalid_0's rmse: 0.899591\n",
      "[210]\tvalid_0's rmse: 0.899575\n",
      "[211]\tvalid_0's rmse: 0.899536\n",
      "[212]\tvalid_0's rmse: 0.899506\n",
      "[213]\tvalid_0's rmse: 0.899502\n",
      "[214]\tvalid_0's rmse: 0.899468\n",
      "[215]\tvalid_0's rmse: 0.899417\n",
      "[216]\tvalid_0's rmse: 0.899389\n",
      "[217]\tvalid_0's rmse: 0.899371\n",
      "[218]\tvalid_0's rmse: 0.899364\n",
      "[219]\tvalid_0's rmse: 0.899348\n",
      "[220]\tvalid_0's rmse: 0.899326\n",
      "[221]\tvalid_0's rmse: 0.899306\n",
      "[222]\tvalid_0's rmse: 0.899287\n",
      "[223]\tvalid_0's rmse: 0.899235\n",
      "[224]\tvalid_0's rmse: 0.899196\n",
      "[225]\tvalid_0's rmse: 0.899194\n",
      "[226]\tvalid_0's rmse: 0.899151\n",
      "[227]\tvalid_0's rmse: 0.899138\n",
      "[228]\tvalid_0's rmse: 0.899082\n",
      "[229]\tvalid_0's rmse: 0.899044\n",
      "[230]\tvalid_0's rmse: 0.899\n",
      "[231]\tvalid_0's rmse: 0.898977\n",
      "[232]\tvalid_0's rmse: 0.898954\n",
      "[233]\tvalid_0's rmse: 0.898918\n",
      "[234]\tvalid_0's rmse: 0.898851\n",
      "[235]\tvalid_0's rmse: 0.89882\n",
      "[236]\tvalid_0's rmse: 0.898737\n",
      "[237]\tvalid_0's rmse: 0.898731\n",
      "[238]\tvalid_0's rmse: 0.898719\n",
      "[239]\tvalid_0's rmse: 0.89871\n",
      "[240]\tvalid_0's rmse: 0.898674\n",
      "[241]\tvalid_0's rmse: 0.89866\n",
      "[242]\tvalid_0's rmse: 0.89864\n",
      "[243]\tvalid_0's rmse: 0.898611\n",
      "[244]\tvalid_0's rmse: 0.898588\n",
      "[245]\tvalid_0's rmse: 0.898582\n",
      "[246]\tvalid_0's rmse: 0.898573\n",
      "[247]\tvalid_0's rmse: 0.898541\n",
      "[248]\tvalid_0's rmse: 0.89853\n",
      "[249]\tvalid_0's rmse: 0.898489\n",
      "[250]\tvalid_0's rmse: 0.898465\n",
      "[251]\tvalid_0's rmse: 0.898392\n",
      "[252]\tvalid_0's rmse: 0.898385\n",
      "[253]\tvalid_0's rmse: 0.898371\n",
      "[254]\tvalid_0's rmse: 0.898365\n",
      "[255]\tvalid_0's rmse: 0.898349\n",
      "[256]\tvalid_0's rmse: 0.898337\n",
      "[257]\tvalid_0's rmse: 0.898278\n",
      "[258]\tvalid_0's rmse: 0.898247\n",
      "[259]\tvalid_0's rmse: 0.898211\n",
      "[260]\tvalid_0's rmse: 0.898192\n",
      "[261]\tvalid_0's rmse: 0.898104\n",
      "[262]\tvalid_0's rmse: 0.898097\n",
      "[263]\tvalid_0's rmse: 0.898096\n",
      "[264]\tvalid_0's rmse: 0.898057\n",
      "[265]\tvalid_0's rmse: 0.898031\n",
      "[266]\tvalid_0's rmse: 0.898016\n",
      "[267]\tvalid_0's rmse: 0.897953\n",
      "[268]\tvalid_0's rmse: 0.897936\n",
      "[269]\tvalid_0's rmse: 0.897904\n",
      "[270]\tvalid_0's rmse: 0.897887\n",
      "[271]\tvalid_0's rmse: 0.897875\n",
      "[272]\tvalid_0's rmse: 0.897867\n",
      "[273]\tvalid_0's rmse: 0.897852\n",
      "[274]\tvalid_0's rmse: 0.897788\n",
      "[275]\tvalid_0's rmse: 0.89778\n",
      "[276]\tvalid_0's rmse: 0.897767\n",
      "[277]\tvalid_0's rmse: 0.897715\n",
      "[278]\tvalid_0's rmse: 0.897702\n",
      "[279]\tvalid_0's rmse: 0.897696\n",
      "[280]\tvalid_0's rmse: 0.897686\n",
      "[281]\tvalid_0's rmse: 0.897664\n",
      "[282]\tvalid_0's rmse: 0.897636\n",
      "[283]\tvalid_0's rmse: 0.89758\n",
      "[284]\tvalid_0's rmse: 0.897527\n",
      "[285]\tvalid_0's rmse: 0.897497\n",
      "[286]\tvalid_0's rmse: 0.8975\n",
      "[287]\tvalid_0's rmse: 0.897468\n",
      "[288]\tvalid_0's rmse: 0.89744\n",
      "[289]\tvalid_0's rmse: 0.897384\n",
      "[290]\tvalid_0's rmse: 0.897366\n",
      "[291]\tvalid_0's rmse: 0.897287\n",
      "[292]\tvalid_0's rmse: 0.897274\n",
      "[293]\tvalid_0's rmse: 0.897271\n",
      "[294]\tvalid_0's rmse: 0.897261\n",
      "[295]\tvalid_0's rmse: 0.897238\n",
      "[296]\tvalid_0's rmse: 0.897236\n",
      "[297]\tvalid_0's rmse: 0.897227\n",
      "[298]\tvalid_0's rmse: 0.897215\n",
      "[299]\tvalid_0's rmse: 0.897183\n",
      "[300]\tvalid_0's rmse: 0.89716\n",
      "[301]\tvalid_0's rmse: 0.897118\n",
      "[302]\tvalid_0's rmse: 0.897074\n",
      "[303]\tvalid_0's rmse: 0.897045\n",
      "[304]\tvalid_0's rmse: 0.897018\n",
      "[305]\tvalid_0's rmse: 0.897014\n",
      "[306]\tvalid_0's rmse: 0.897\n",
      "[1]\tvalid_0's rmse: 0.918019\n",
      "[2]\tvalid_0's rmse: 0.917177\n",
      "[3]\tvalid_0's rmse: 0.916427\n",
      "[4]\tvalid_0's rmse: 0.915756\n",
      "[5]\tvalid_0's rmse: 0.915162\n",
      "[6]\tvalid_0's rmse: 0.914607\n",
      "[7]\tvalid_0's rmse: 0.914118\n",
      "[8]\tvalid_0's rmse: 0.913656\n",
      "[9]\tvalid_0's rmse: 0.913247\n",
      "[10]\tvalid_0's rmse: 0.912898\n",
      "[11]\tvalid_0's rmse: 0.912593\n",
      "[12]\tvalid_0's rmse: 0.91233\n",
      "[13]\tvalid_0's rmse: 0.912051\n",
      "[14]\tvalid_0's rmse: 0.911794\n",
      "[15]\tvalid_0's rmse: 0.911532\n",
      "[16]\tvalid_0's rmse: 0.911298\n",
      "[17]\tvalid_0's rmse: 0.911055\n",
      "[18]\tvalid_0's rmse: 0.910829\n",
      "[19]\tvalid_0's rmse: 0.91063\n",
      "[20]\tvalid_0's rmse: 0.910454\n",
      "[21]\tvalid_0's rmse: 0.910255\n",
      "[22]\tvalid_0's rmse: 0.910081\n",
      "[23]\tvalid_0's rmse: 0.909879\n",
      "[24]\tvalid_0's rmse: 0.909738\n",
      "[25]\tvalid_0's rmse: 0.909584\n",
      "[26]\tvalid_0's rmse: 0.909423\n",
      "[27]\tvalid_0's rmse: 0.909217\n",
      "[28]\tvalid_0's rmse: 0.909049\n",
      "[29]\tvalid_0's rmse: 0.908908\n",
      "[30]\tvalid_0's rmse: 0.908619\n",
      "[31]\tvalid_0's rmse: 0.908504\n",
      "[32]\tvalid_0's rmse: 0.908283\n",
      "[33]\tvalid_0's rmse: 0.908108\n",
      "[34]\tvalid_0's rmse: 0.907935\n",
      "[35]\tvalid_0's rmse: 0.907827\n",
      "[36]\tvalid_0's rmse: 0.907716\n",
      "[37]\tvalid_0's rmse: 0.907623\n",
      "[38]\tvalid_0's rmse: 0.907536\n",
      "[39]\tvalid_0's rmse: 0.907401\n",
      "[40]\tvalid_0's rmse: 0.907296\n",
      "[41]\tvalid_0's rmse: 0.907181\n",
      "[42]\tvalid_0's rmse: 0.907046\n",
      "[43]\tvalid_0's rmse: 0.906915\n",
      "[44]\tvalid_0's rmse: 0.906835\n",
      "[45]\tvalid_0's rmse: 0.906615\n",
      "[46]\tvalid_0's rmse: 0.906512\n",
      "[47]\tvalid_0's rmse: 0.906393\n",
      "[48]\tvalid_0's rmse: 0.90621\n",
      "[49]\tvalid_0's rmse: 0.906141\n",
      "[50]\tvalid_0's rmse: 0.906035\n",
      "[51]\tvalid_0's rmse: 0.90595\n",
      "[52]\tvalid_0's rmse: 0.90588\n",
      "[53]\tvalid_0's rmse: 0.905758\n",
      "[54]\tvalid_0's rmse: 0.905619\n",
      "[55]\tvalid_0's rmse: 0.905539\n",
      "[56]\tvalid_0's rmse: 0.905445\n",
      "[57]\tvalid_0's rmse: 0.905346\n",
      "[58]\tvalid_0's rmse: 0.905265\n",
      "[59]\tvalid_0's rmse: 0.905108\n",
      "[60]\tvalid_0's rmse: 0.90502\n",
      "[61]\tvalid_0's rmse: 0.904949\n",
      "[62]\tvalid_0's rmse: 0.904852\n",
      "[63]\tvalid_0's rmse: 0.904756\n",
      "[64]\tvalid_0's rmse: 0.904659\n",
      "[65]\tvalid_0's rmse: 0.904564\n",
      "[66]\tvalid_0's rmse: 0.904436\n",
      "[67]\tvalid_0's rmse: 0.904326\n",
      "[68]\tvalid_0's rmse: 0.904252\n",
      "[69]\tvalid_0's rmse: 0.904201\n",
      "[70]\tvalid_0's rmse: 0.904128\n",
      "[71]\tvalid_0's rmse: 0.904067\n",
      "[72]\tvalid_0's rmse: 0.903999\n",
      "[73]\tvalid_0's rmse: 0.903895\n",
      "[74]\tvalid_0's rmse: 0.903828\n",
      "[75]\tvalid_0's rmse: 0.903784\n",
      "[76]\tvalid_0's rmse: 0.903611\n",
      "[77]\tvalid_0's rmse: 0.903511\n",
      "[78]\tvalid_0's rmse: 0.903461\n",
      "[79]\tvalid_0's rmse: 0.903395\n",
      "[80]\tvalid_0's rmse: 0.903313\n",
      "[81]\tvalid_0's rmse: 0.903169\n",
      "[82]\tvalid_0's rmse: 0.903067\n",
      "[83]\tvalid_0's rmse: 0.902984\n",
      "[84]\tvalid_0's rmse: 0.90291\n",
      "[85]\tvalid_0's rmse: 0.902864\n",
      "[86]\tvalid_0's rmse: 0.902809\n",
      "[87]\tvalid_0's rmse: 0.902711\n",
      "[88]\tvalid_0's rmse: 0.902602\n",
      "[89]\tvalid_0's rmse: 0.902524\n",
      "[90]\tvalid_0's rmse: 0.902478\n",
      "[91]\tvalid_0's rmse: 0.902388\n",
      "[92]\tvalid_0's rmse: 0.902286\n",
      "[93]\tvalid_0's rmse: 0.902126\n",
      "[94]\tvalid_0's rmse: 0.902011\n",
      "[95]\tvalid_0's rmse: 0.901938\n",
      "[96]\tvalid_0's rmse: 0.901903\n",
      "[97]\tvalid_0's rmse: 0.901844\n",
      "[98]\tvalid_0's rmse: 0.901777\n",
      "[99]\tvalid_0's rmse: 0.901735\n",
      "[100]\tvalid_0's rmse: 0.901706\n",
      "[101]\tvalid_0's rmse: 0.901586\n",
      "[102]\tvalid_0's rmse: 0.90148\n",
      "[103]\tvalid_0's rmse: 0.901403\n",
      "[104]\tvalid_0's rmse: 0.901299\n",
      "[105]\tvalid_0's rmse: 0.901272\n",
      "[106]\tvalid_0's rmse: 0.901213\n",
      "[107]\tvalid_0's rmse: 0.901159\n",
      "[108]\tvalid_0's rmse: 0.901089\n",
      "[109]\tvalid_0's rmse: 0.901012\n",
      "[110]\tvalid_0's rmse: 0.900952\n",
      "[111]\tvalid_0's rmse: 0.900928\n",
      "[112]\tvalid_0's rmse: 0.90086\n",
      "[113]\tvalid_0's rmse: 0.90082\n",
      "[114]\tvalid_0's rmse: 0.900766\n",
      "[115]\tvalid_0's rmse: 0.900735\n",
      "[116]\tvalid_0's rmse: 0.900664\n",
      "[117]\tvalid_0's rmse: 0.900626\n",
      "[118]\tvalid_0's rmse: 0.900578\n",
      "[119]\tvalid_0's rmse: 0.90052\n",
      "[120]\tvalid_0's rmse: 0.900469\n",
      "[121]\tvalid_0's rmse: 0.900399\n",
      "[122]\tvalid_0's rmse: 0.900369\n",
      "[123]\tvalid_0's rmse: 0.90032\n",
      "[124]\tvalid_0's rmse: 0.900299\n",
      "[125]\tvalid_0's rmse: 0.900193\n",
      "[126]\tvalid_0's rmse: 0.900129\n",
      "[127]\tvalid_0's rmse: 0.900084\n",
      "[128]\tvalid_0's rmse: 0.900033\n",
      "[129]\tvalid_0's rmse: 0.899958\n",
      "[130]\tvalid_0's rmse: 0.899915\n",
      "[131]\tvalid_0's rmse: 0.899896\n",
      "[132]\tvalid_0's rmse: 0.899776\n",
      "[133]\tvalid_0's rmse: 0.899733\n",
      "[134]\tvalid_0's rmse: 0.899651\n",
      "[135]\tvalid_0's rmse: 0.899569\n",
      "[136]\tvalid_0's rmse: 0.899522\n",
      "[137]\tvalid_0's rmse: 0.899437\n",
      "[138]\tvalid_0's rmse: 0.899392\n",
      "[139]\tvalid_0's rmse: 0.899358\n",
      "[140]\tvalid_0's rmse: 0.899325\n",
      "[141]\tvalid_0's rmse: 0.899307\n",
      "[142]\tvalid_0's rmse: 0.899282\n",
      "[143]\tvalid_0's rmse: 0.899258\n",
      "[144]\tvalid_0's rmse: 0.899158\n",
      "[145]\tvalid_0's rmse: 0.899118\n",
      "[146]\tvalid_0's rmse: 0.899064\n",
      "[147]\tvalid_0's rmse: 0.899033\n",
      "[148]\tvalid_0's rmse: 0.898995\n",
      "[149]\tvalid_0's rmse: 0.898943\n",
      "[150]\tvalid_0's rmse: 0.898933\n",
      "[151]\tvalid_0's rmse: 0.89891\n",
      "[152]\tvalid_0's rmse: 0.898872\n",
      "[153]\tvalid_0's rmse: 0.898831\n",
      "[154]\tvalid_0's rmse: 0.898783\n",
      "[155]\tvalid_0's rmse: 0.898762\n",
      "[156]\tvalid_0's rmse: 0.898688\n",
      "[157]\tvalid_0's rmse: 0.898658\n",
      "[158]\tvalid_0's rmse: 0.898626\n",
      "[159]\tvalid_0's rmse: 0.898592\n",
      "[160]\tvalid_0's rmse: 0.898557\n",
      "[161]\tvalid_0's rmse: 0.898512\n",
      "[162]\tvalid_0's rmse: 0.898477\n",
      "[163]\tvalid_0's rmse: 0.89835\n",
      "[164]\tvalid_0's rmse: 0.898327\n",
      "[165]\tvalid_0's rmse: 0.898274\n",
      "[166]\tvalid_0's rmse: 0.898262\n",
      "[167]\tvalid_0's rmse: 0.898202\n",
      "[168]\tvalid_0's rmse: 0.898181\n",
      "[169]\tvalid_0's rmse: 0.898153\n",
      "[170]\tvalid_0's rmse: 0.898077\n",
      "[171]\tvalid_0's rmse: 0.898055\n",
      "[172]\tvalid_0's rmse: 0.898035\n",
      "[173]\tvalid_0's rmse: 0.898011\n",
      "[174]\tvalid_0's rmse: 0.897995\n",
      "[175]\tvalid_0's rmse: 0.897992\n",
      "[176]\tvalid_0's rmse: 0.897942\n",
      "[177]\tvalid_0's rmse: 0.897841\n",
      "[178]\tvalid_0's rmse: 0.897823\n",
      "[179]\tvalid_0's rmse: 0.897782\n",
      "[180]\tvalid_0's rmse: 0.897768\n",
      "[181]\tvalid_0's rmse: 0.89771\n",
      "[182]\tvalid_0's rmse: 0.89767\n",
      "[183]\tvalid_0's rmse: 0.897644\n",
      "[184]\tvalid_0's rmse: 0.89757\n",
      "[185]\tvalid_0's rmse: 0.897537\n",
      "[186]\tvalid_0's rmse: 0.897512\n",
      "[187]\tvalid_0's rmse: 0.897437\n",
      "[188]\tvalid_0's rmse: 0.897413\n",
      "[189]\tvalid_0's rmse: 0.897356\n",
      "[190]\tvalid_0's rmse: 0.897327\n",
      "[191]\tvalid_0's rmse: 0.897301\n",
      "[192]\tvalid_0's rmse: 0.897287\n",
      "[193]\tvalid_0's rmse: 0.897265\n",
      "[194]\tvalid_0's rmse: 0.897232\n",
      "[195]\tvalid_0's rmse: 0.89721\n",
      "[196]\tvalid_0's rmse: 0.897208\n",
      "[197]\tvalid_0's rmse: 0.897191\n",
      "[198]\tvalid_0's rmse: 0.897158\n",
      "[199]\tvalid_0's rmse: 0.897118\n",
      "[200]\tvalid_0's rmse: 0.897063\n",
      "[201]\tvalid_0's rmse: 0.896989\n",
      "[202]\tvalid_0's rmse: 0.896923\n",
      "[203]\tvalid_0's rmse: 0.896889\n",
      "[204]\tvalid_0's rmse: 0.896887\n",
      "[205]\tvalid_0's rmse: 0.896844\n",
      "[206]\tvalid_0's rmse: 0.896828\n",
      "[207]\tvalid_0's rmse: 0.89682\n",
      "[208]\tvalid_0's rmse: 0.896783\n",
      "[209]\tvalid_0's rmse: 0.89673\n",
      "[210]\tvalid_0's rmse: 0.896725\n",
      "[211]\tvalid_0's rmse: 0.896685\n",
      "[212]\tvalid_0's rmse: 0.896662\n",
      "[213]\tvalid_0's rmse: 0.896622\n",
      "[214]\tvalid_0's rmse: 0.89654\n",
      "[215]\tvalid_0's rmse: 0.89652\n",
      "[216]\tvalid_0's rmse: 0.896482\n",
      "[217]\tvalid_0's rmse: 0.896447\n",
      "[218]\tvalid_0's rmse: 0.896397\n",
      "[219]\tvalid_0's rmse: 0.896405\n",
      "[220]\tvalid_0's rmse: 0.896364\n",
      "[221]\tvalid_0's rmse: 0.896355\n",
      "[222]\tvalid_0's rmse: 0.896339\n",
      "[223]\tvalid_0's rmse: 0.896332\n",
      "[224]\tvalid_0's rmse: 0.896312\n",
      "[225]\tvalid_0's rmse: 0.896269\n",
      "[226]\tvalid_0's rmse: 0.896247\n",
      "[227]\tvalid_0's rmse: 0.896243\n",
      "[228]\tvalid_0's rmse: 0.896233\n",
      "[229]\tvalid_0's rmse: 0.89621\n",
      "[230]\tvalid_0's rmse: 0.896178\n",
      "[231]\tvalid_0's rmse: 0.896134\n",
      "[232]\tvalid_0's rmse: 0.896051\n",
      "[233]\tvalid_0's rmse: 0.896048\n",
      "[234]\tvalid_0's rmse: 0.895973\n",
      "[235]\tvalid_0's rmse: 0.895966\n",
      "[236]\tvalid_0's rmse: 0.895965\n",
      "[237]\tvalid_0's rmse: 0.89594\n",
      "[238]\tvalid_0's rmse: 0.895923\n",
      "[239]\tvalid_0's rmse: 0.895916\n",
      "[240]\tvalid_0's rmse: 0.895827\n",
      "[241]\tvalid_0's rmse: 0.895799\n",
      "[242]\tvalid_0's rmse: 0.89579\n",
      "[243]\tvalid_0's rmse: 0.895778\n",
      "[244]\tvalid_0's rmse: 0.895741\n",
      "[245]\tvalid_0's rmse: 0.895727\n",
      "[246]\tvalid_0's rmse: 0.895686\n",
      "[247]\tvalid_0's rmse: 0.895606\n",
      "[248]\tvalid_0's rmse: 0.895589\n",
      "[249]\tvalid_0's rmse: 0.895586\n",
      "[250]\tvalid_0's rmse: 0.89557\n",
      "[251]\tvalid_0's rmse: 0.895514\n",
      "[252]\tvalid_0's rmse: 0.895501\n",
      "[253]\tvalid_0's rmse: 0.8955\n",
      "[254]\tvalid_0's rmse: 0.895486\n",
      "[255]\tvalid_0's rmse: 0.895478\n",
      "[256]\tvalid_0's rmse: 0.895461\n",
      "[257]\tvalid_0's rmse: 0.895444\n",
      "[258]\tvalid_0's rmse: 0.895435\n",
      "[259]\tvalid_0's rmse: 0.89543\n",
      "[260]\tvalid_0's rmse: 0.895407\n",
      "[261]\tvalid_0's rmse: 0.89539\n",
      "[262]\tvalid_0's rmse: 0.895389\n",
      "[263]\tvalid_0's rmse: 0.895366\n",
      "[264]\tvalid_0's rmse: 0.895356\n",
      "[265]\tvalid_0's rmse: 0.895321\n",
      "[266]\tvalid_0's rmse: 0.895298\n",
      "[267]\tvalid_0's rmse: 0.895269\n",
      "[268]\tvalid_0's rmse: 0.895262\n",
      "[269]\tvalid_0's rmse: 0.895217\n",
      "[270]\tvalid_0's rmse: 0.895212\n",
      "[271]\tvalid_0's rmse: 0.895208\n",
      "[272]\tvalid_0's rmse: 0.895186\n",
      "[273]\tvalid_0's rmse: 0.895188\n",
      "[274]\tvalid_0's rmse: 0.895133\n",
      "[275]\tvalid_0's rmse: 0.89512\n",
      "[276]\tvalid_0's rmse: 0.895106\n",
      "[277]\tvalid_0's rmse: 0.895077\n",
      "[278]\tvalid_0's rmse: 0.895068\n",
      "[279]\tvalid_0's rmse: 0.895059\n",
      "[280]\tvalid_0's rmse: 0.89502\n",
      "[281]\tvalid_0's rmse: 0.895015\n",
      "[282]\tvalid_0's rmse: 0.894979\n",
      "[283]\tvalid_0's rmse: 0.894969\n",
      "[284]\tvalid_0's rmse: 0.894933\n",
      "[285]\tvalid_0's rmse: 0.89492\n",
      "[286]\tvalid_0's rmse: 0.894922\n",
      "[287]\tvalid_0's rmse: 0.894914\n",
      "[288]\tvalid_0's rmse: 0.894887\n",
      "[289]\tvalid_0's rmse: 0.894867\n",
      "[290]\tvalid_0's rmse: 0.894821\n",
      "[291]\tvalid_0's rmse: 0.894757\n",
      "[292]\tvalid_0's rmse: 0.894749\n",
      "[293]\tvalid_0's rmse: 0.894709\n",
      "[294]\tvalid_0's rmse: 0.894716\n",
      "[295]\tvalid_0's rmse: 0.894672\n",
      "[296]\tvalid_0's rmse: 0.894659\n",
      "[297]\tvalid_0's rmse: 0.894651\n",
      "[298]\tvalid_0's rmse: 0.894606\n",
      "[299]\tvalid_0's rmse: 0.894597\n",
      "[300]\tvalid_0's rmse: 0.894576\n",
      "[301]\tvalid_0's rmse: 0.894549\n",
      "[302]\tvalid_0's rmse: 0.894533\n",
      "[303]\tvalid_0's rmse: 0.894518\n",
      "[304]\tvalid_0's rmse: 0.89452\n",
      "[305]\tvalid_0's rmse: 0.894509\n",
      "[306]\tvalid_0's rmse: 0.894499\n",
      "[1]\tvalid_0's rmse: 0.917451\n",
      "[2]\tvalid_0's rmse: 0.916563\n",
      "[3]\tvalid_0's rmse: 0.915813\n",
      "[4]\tvalid_0's rmse: 0.915169\n",
      "[5]\tvalid_0's rmse: 0.914551\n",
      "[6]\tvalid_0's rmse: 0.914029\n",
      "[7]\tvalid_0's rmse: 0.913539\n",
      "[8]\tvalid_0's rmse: 0.913124\n",
      "[9]\tvalid_0's rmse: 0.912732\n",
      "[10]\tvalid_0's rmse: 0.912403\n",
      "[11]\tvalid_0's rmse: 0.912068\n",
      "[12]\tvalid_0's rmse: 0.911778\n",
      "[13]\tvalid_0's rmse: 0.91148\n",
      "[14]\tvalid_0's rmse: 0.911231\n",
      "[15]\tvalid_0's rmse: 0.911004\n",
      "[16]\tvalid_0's rmse: 0.910801\n",
      "[17]\tvalid_0's rmse: 0.910598\n",
      "[18]\tvalid_0's rmse: 0.910415\n",
      "[19]\tvalid_0's rmse: 0.910201\n",
      "[20]\tvalid_0's rmse: 0.910027\n",
      "[21]\tvalid_0's rmse: 0.909816\n",
      "[22]\tvalid_0's rmse: 0.909627\n",
      "[23]\tvalid_0's rmse: 0.90944\n",
      "[24]\tvalid_0's rmse: 0.909247\n",
      "[25]\tvalid_0's rmse: 0.909097\n",
      "[26]\tvalid_0's rmse: 0.908948\n",
      "[27]\tvalid_0's rmse: 0.908815\n",
      "[28]\tvalid_0's rmse: 0.908647\n",
      "[29]\tvalid_0's rmse: 0.908459\n",
      "[30]\tvalid_0's rmse: 0.908165\n",
      "[31]\tvalid_0's rmse: 0.908039\n",
      "[32]\tvalid_0's rmse: 0.907861\n",
      "[33]\tvalid_0's rmse: 0.907666\n",
      "[34]\tvalid_0's rmse: 0.907563\n",
      "[35]\tvalid_0's rmse: 0.907432\n",
      "[36]\tvalid_0's rmse: 0.907279\n",
      "[37]\tvalid_0's rmse: 0.907189\n",
      "[38]\tvalid_0's rmse: 0.907024\n",
      "[39]\tvalid_0's rmse: 0.906929\n",
      "[40]\tvalid_0's rmse: 0.906817\n",
      "[41]\tvalid_0's rmse: 0.906719\n",
      "[42]\tvalid_0's rmse: 0.906543\n",
      "[43]\tvalid_0's rmse: 0.906389\n",
      "[44]\tvalid_0's rmse: 0.906254\n",
      "[45]\tvalid_0's rmse: 0.906133\n",
      "[46]\tvalid_0's rmse: 0.906042\n",
      "[47]\tvalid_0's rmse: 0.90591\n",
      "[48]\tvalid_0's rmse: 0.905816\n",
      "[49]\tvalid_0's rmse: 0.905725\n",
      "[50]\tvalid_0's rmse: 0.905598\n",
      "[51]\tvalid_0's rmse: 0.905508\n",
      "[52]\tvalid_0's rmse: 0.905412\n",
      "[53]\tvalid_0's rmse: 0.905338\n",
      "[54]\tvalid_0's rmse: 0.905203\n",
      "[55]\tvalid_0's rmse: 0.905126\n",
      "[56]\tvalid_0's rmse: 0.905039\n",
      "[57]\tvalid_0's rmse: 0.904949\n",
      "[58]\tvalid_0's rmse: 0.904848\n",
      "[59]\tvalid_0's rmse: 0.904721\n",
      "[60]\tvalid_0's rmse: 0.904644\n",
      "[61]\tvalid_0's rmse: 0.904538\n",
      "[62]\tvalid_0's rmse: 0.904461\n",
      "[63]\tvalid_0's rmse: 0.904339\n",
      "[64]\tvalid_0's rmse: 0.904264\n",
      "[65]\tvalid_0's rmse: 0.904169\n",
      "[66]\tvalid_0's rmse: 0.904085\n",
      "[67]\tvalid_0's rmse: 0.904021\n",
      "[68]\tvalid_0's rmse: 0.903875\n",
      "[69]\tvalid_0's rmse: 0.903805\n",
      "[70]\tvalid_0's rmse: 0.903722\n",
      "[71]\tvalid_0's rmse: 0.90366\n",
      "[72]\tvalid_0's rmse: 0.903538\n",
      "[73]\tvalid_0's rmse: 0.903487\n",
      "[74]\tvalid_0's rmse: 0.903415\n",
      "[75]\tvalid_0's rmse: 0.903294\n",
      "[76]\tvalid_0's rmse: 0.903209\n",
      "[77]\tvalid_0's rmse: 0.903138\n",
      "[78]\tvalid_0's rmse: 0.903095\n",
      "[79]\tvalid_0's rmse: 0.903015\n",
      "[80]\tvalid_0's rmse: 0.902961\n",
      "[81]\tvalid_0's rmse: 0.902913\n",
      "[82]\tvalid_0's rmse: 0.90284\n",
      "[83]\tvalid_0's rmse: 0.90277\n",
      "[84]\tvalid_0's rmse: 0.902666\n",
      "[85]\tvalid_0's rmse: 0.90258\n",
      "[86]\tvalid_0's rmse: 0.902454\n",
      "[87]\tvalid_0's rmse: 0.902369\n",
      "[88]\tvalid_0's rmse: 0.902313\n",
      "[89]\tvalid_0's rmse: 0.902268\n",
      "[90]\tvalid_0's rmse: 0.902153\n",
      "[91]\tvalid_0's rmse: 0.902045\n",
      "[92]\tvalid_0's rmse: 0.901971\n",
      "[93]\tvalid_0's rmse: 0.901803\n",
      "[94]\tvalid_0's rmse: 0.901763\n",
      "[95]\tvalid_0's rmse: 0.901707\n",
      "[96]\tvalid_0's rmse: 0.901624\n",
      "[97]\tvalid_0's rmse: 0.901591\n",
      "[98]\tvalid_0's rmse: 0.901538\n",
      "[99]\tvalid_0's rmse: 0.90149\n",
      "[100]\tvalid_0's rmse: 0.901419\n",
      "[101]\tvalid_0's rmse: 0.901345\n",
      "[102]\tvalid_0's rmse: 0.901258\n",
      "[103]\tvalid_0's rmse: 0.901189\n",
      "[104]\tvalid_0's rmse: 0.901081\n",
      "[105]\tvalid_0's rmse: 0.901035\n",
      "[106]\tvalid_0's rmse: 0.900994\n",
      "[107]\tvalid_0's rmse: 0.900841\n",
      "[108]\tvalid_0's rmse: 0.90073\n",
      "[109]\tvalid_0's rmse: 0.900718\n",
      "[110]\tvalid_0's rmse: 0.900657\n",
      "[111]\tvalid_0's rmse: 0.900584\n",
      "[112]\tvalid_0's rmse: 0.900524\n",
      "[113]\tvalid_0's rmse: 0.900444\n",
      "[114]\tvalid_0's rmse: 0.900403\n",
      "[115]\tvalid_0's rmse: 0.90032\n",
      "[116]\tvalid_0's rmse: 0.90026\n",
      "[117]\tvalid_0's rmse: 0.90021\n",
      "[118]\tvalid_0's rmse: 0.900143\n",
      "[119]\tvalid_0's rmse: 0.900093\n",
      "[120]\tvalid_0's rmse: 0.90004\n",
      "[121]\tvalid_0's rmse: 0.899974\n",
      "[122]\tvalid_0's rmse: 0.899901\n",
      "[123]\tvalid_0's rmse: 0.89987\n",
      "[124]\tvalid_0's rmse: 0.899827\n",
      "[125]\tvalid_0's rmse: 0.899734\n",
      "[126]\tvalid_0's rmse: 0.899695\n",
      "[127]\tvalid_0's rmse: 0.899593\n",
      "[128]\tvalid_0's rmse: 0.899507\n",
      "[129]\tvalid_0's rmse: 0.899462\n",
      "[130]\tvalid_0's rmse: 0.899412\n",
      "[131]\tvalid_0's rmse: 0.899288\n",
      "[132]\tvalid_0's rmse: 0.899257\n",
      "[133]\tvalid_0's rmse: 0.899227\n",
      "[134]\tvalid_0's rmse: 0.899183\n",
      "[135]\tvalid_0's rmse: 0.899096\n",
      "[136]\tvalid_0's rmse: 0.89907\n",
      "[137]\tvalid_0's rmse: 0.898982\n",
      "[138]\tvalid_0's rmse: 0.898928\n",
      "[139]\tvalid_0's rmse: 0.898897\n",
      "[140]\tvalid_0's rmse: 0.898854\n",
      "[141]\tvalid_0's rmse: 0.898766\n",
      "[142]\tvalid_0's rmse: 0.898729\n",
      "[143]\tvalid_0's rmse: 0.898693\n",
      "[144]\tvalid_0's rmse: 0.898678\n",
      "[145]\tvalid_0's rmse: 0.89859\n",
      "[146]\tvalid_0's rmse: 0.898508\n",
      "[147]\tvalid_0's rmse: 0.898482\n",
      "[148]\tvalid_0's rmse: 0.898456\n",
      "[149]\tvalid_0's rmse: 0.898413\n",
      "[150]\tvalid_0's rmse: 0.898365\n",
      "[151]\tvalid_0's rmse: 0.898342\n",
      "[152]\tvalid_0's rmse: 0.898293\n",
      "[153]\tvalid_0's rmse: 0.898262\n",
      "[154]\tvalid_0's rmse: 0.898197\n",
      "[155]\tvalid_0's rmse: 0.898129\n",
      "[156]\tvalid_0's rmse: 0.898081\n",
      "[157]\tvalid_0's rmse: 0.898032\n",
      "[158]\tvalid_0's rmse: 0.897965\n",
      "[159]\tvalid_0's rmse: 0.897913\n",
      "[160]\tvalid_0's rmse: 0.897903\n",
      "[161]\tvalid_0's rmse: 0.897855\n",
      "[162]\tvalid_0's rmse: 0.897834\n",
      "[163]\tvalid_0's rmse: 0.897798\n",
      "[164]\tvalid_0's rmse: 0.897783\n",
      "[165]\tvalid_0's rmse: 0.89771\n",
      "[166]\tvalid_0's rmse: 0.897645\n",
      "[167]\tvalid_0's rmse: 0.897588\n",
      "[168]\tvalid_0's rmse: 0.897542\n",
      "[169]\tvalid_0's rmse: 0.897517\n",
      "[170]\tvalid_0's rmse: 0.897485\n",
      "[171]\tvalid_0's rmse: 0.897452\n",
      "[172]\tvalid_0's rmse: 0.897434\n",
      "[173]\tvalid_0's rmse: 0.897403\n",
      "[174]\tvalid_0's rmse: 0.897363\n",
      "[175]\tvalid_0's rmse: 0.897331\n",
      "[176]\tvalid_0's rmse: 0.897313\n",
      "[177]\tvalid_0's rmse: 0.897256\n",
      "[178]\tvalid_0's rmse: 0.897212\n",
      "[179]\tvalid_0's rmse: 0.897182\n",
      "[180]\tvalid_0's rmse: 0.897164\n",
      "[181]\tvalid_0's rmse: 0.897144\n",
      "[182]\tvalid_0's rmse: 0.897109\n",
      "[183]\tvalid_0's rmse: 0.897091\n",
      "[184]\tvalid_0's rmse: 0.897031\n",
      "[185]\tvalid_0's rmse: 0.897002\n",
      "[186]\tvalid_0's rmse: 0.896966\n",
      "[187]\tvalid_0's rmse: 0.896945\n",
      "[188]\tvalid_0's rmse: 0.896852\n",
      "[189]\tvalid_0's rmse: 0.896759\n",
      "[190]\tvalid_0's rmse: 0.896739\n",
      "[191]\tvalid_0's rmse: 0.896719\n",
      "[192]\tvalid_0's rmse: 0.896696\n",
      "[193]\tvalid_0's rmse: 0.896668\n",
      "[194]\tvalid_0's rmse: 0.896661\n",
      "[195]\tvalid_0's rmse: 0.896624\n",
      "[196]\tvalid_0's rmse: 0.896607\n",
      "[197]\tvalid_0's rmse: 0.896566\n",
      "[198]\tvalid_0's rmse: 0.896553\n",
      "[199]\tvalid_0's rmse: 0.896523\n",
      "[200]\tvalid_0's rmse: 0.896499\n",
      "[201]\tvalid_0's rmse: 0.896476\n",
      "[202]\tvalid_0's rmse: 0.896415\n",
      "[203]\tvalid_0's rmse: 0.896394\n",
      "[204]\tvalid_0's rmse: 0.896387\n",
      "[205]\tvalid_0's rmse: 0.896368\n",
      "[206]\tvalid_0's rmse: 0.896344\n",
      "[207]\tvalid_0's rmse: 0.896298\n",
      "[208]\tvalid_0's rmse: 0.896266\n",
      "[209]\tvalid_0's rmse: 0.896213\n",
      "[210]\tvalid_0's rmse: 0.896206\n",
      "[211]\tvalid_0's rmse: 0.896165\n",
      "[212]\tvalid_0's rmse: 0.896157\n",
      "[213]\tvalid_0's rmse: 0.896139\n",
      "[214]\tvalid_0's rmse: 0.89611\n",
      "[215]\tvalid_0's rmse: 0.896075\n",
      "[216]\tvalid_0's rmse: 0.896047\n",
      "[217]\tvalid_0's rmse: 0.896025\n",
      "[218]\tvalid_0's rmse: 0.896006\n",
      "[219]\tvalid_0's rmse: 0.895986\n",
      "[220]\tvalid_0's rmse: 0.89598\n",
      "[221]\tvalid_0's rmse: 0.895957\n",
      "[222]\tvalid_0's rmse: 0.89592\n",
      "[223]\tvalid_0's rmse: 0.895903\n",
      "[224]\tvalid_0's rmse: 0.895896\n",
      "[225]\tvalid_0's rmse: 0.895878\n",
      "[226]\tvalid_0's rmse: 0.895832\n",
      "[227]\tvalid_0's rmse: 0.89582\n",
      "[228]\tvalid_0's rmse: 0.895791\n",
      "[229]\tvalid_0's rmse: 0.895783\n",
      "[230]\tvalid_0's rmse: 0.895753\n",
      "[231]\tvalid_0's rmse: 0.89574\n",
      "[232]\tvalid_0's rmse: 0.895706\n",
      "[233]\tvalid_0's rmse: 0.895681\n",
      "[234]\tvalid_0's rmse: 0.895649\n",
      "[235]\tvalid_0's rmse: 0.895628\n",
      "[236]\tvalid_0's rmse: 0.895615\n",
      "[237]\tvalid_0's rmse: 0.895609\n",
      "[238]\tvalid_0's rmse: 0.895595\n",
      "[239]\tvalid_0's rmse: 0.89559\n",
      "[240]\tvalid_0's rmse: 0.895585\n",
      "[241]\tvalid_0's rmse: 0.895578\n",
      "[242]\tvalid_0's rmse: 0.895529\n",
      "[243]\tvalid_0's rmse: 0.895514\n",
      "[244]\tvalid_0's rmse: 0.895493\n",
      "[245]\tvalid_0's rmse: 0.895483\n",
      "[246]\tvalid_0's rmse: 0.895482\n",
      "[247]\tvalid_0's rmse: 0.895481\n",
      "[248]\tvalid_0's rmse: 0.895456\n",
      "[249]\tvalid_0's rmse: 0.895446\n",
      "[250]\tvalid_0's rmse: 0.895434\n",
      "[251]\tvalid_0's rmse: 0.895427\n",
      "[252]\tvalid_0's rmse: 0.895392\n",
      "[253]\tvalid_0's rmse: 0.895336\n",
      "[254]\tvalid_0's rmse: 0.895327\n",
      "[255]\tvalid_0's rmse: 0.895315\n",
      "[256]\tvalid_0's rmse: 0.895278\n",
      "[257]\tvalid_0's rmse: 0.895245\n",
      "[258]\tvalid_0's rmse: 0.895207\n",
      "[259]\tvalid_0's rmse: 0.895171\n",
      "[260]\tvalid_0's rmse: 0.895123\n",
      "[261]\tvalid_0's rmse: 0.895101\n",
      "[262]\tvalid_0's rmse: 0.89507\n",
      "[263]\tvalid_0's rmse: 0.895062\n",
      "[264]\tvalid_0's rmse: 0.895015\n",
      "[265]\tvalid_0's rmse: 0.894994\n",
      "[266]\tvalid_0's rmse: 0.894967\n",
      "[267]\tvalid_0's rmse: 0.894942\n",
      "[268]\tvalid_0's rmse: 0.89493\n",
      "[269]\tvalid_0's rmse: 0.894939\n",
      "[270]\tvalid_0's rmse: 0.894926\n",
      "[271]\tvalid_0's rmse: 0.894915\n",
      "[272]\tvalid_0's rmse: 0.894899\n",
      "[273]\tvalid_0's rmse: 0.894872\n",
      "[274]\tvalid_0's rmse: 0.894857\n",
      "[275]\tvalid_0's rmse: 0.894792\n",
      "[276]\tvalid_0's rmse: 0.894777\n",
      "[277]\tvalid_0's rmse: 0.894762\n",
      "[278]\tvalid_0's rmse: 0.894748\n",
      "[279]\tvalid_0's rmse: 0.894734\n",
      "[280]\tvalid_0's rmse: 0.894645\n",
      "[281]\tvalid_0's rmse: 0.894625\n",
      "[282]\tvalid_0's rmse: 0.894614\n",
      "[283]\tvalid_0's rmse: 0.894607\n",
      "[284]\tvalid_0's rmse: 0.894568\n",
      "[285]\tvalid_0's rmse: 0.894563\n",
      "[286]\tvalid_0's rmse: 0.894468\n",
      "[287]\tvalid_0's rmse: 0.894432\n",
      "[288]\tvalid_0's rmse: 0.894374\n",
      "[289]\tvalid_0's rmse: 0.894329\n",
      "[290]\tvalid_0's rmse: 0.894311\n",
      "[291]\tvalid_0's rmse: 0.894309\n",
      "[292]\tvalid_0's rmse: 0.894232\n",
      "[293]\tvalid_0's rmse: 0.894207\n",
      "[294]\tvalid_0's rmse: 0.89416\n",
      "[295]\tvalid_0's rmse: 0.894148\n",
      "[296]\tvalid_0's rmse: 0.894146\n",
      "[297]\tvalid_0's rmse: 0.894129\n",
      "[298]\tvalid_0's rmse: 0.894134\n",
      "[299]\tvalid_0's rmse: 0.894097\n",
      "[300]\tvalid_0's rmse: 0.894072\n",
      "[301]\tvalid_0's rmse: 0.894054\n",
      "[302]\tvalid_0's rmse: 0.894046\n",
      "[303]\tvalid_0's rmse: 0.894036\n",
      "[304]\tvalid_0's rmse: 0.894032\n",
      "[305]\tvalid_0's rmse: 0.894029\n",
      "[306]\tvalid_0's rmse: 0.894021\n"
     ]
    },
    {
     "data": {
      "text/plain": [
       "0"
      ]
     },
     "execution_count": 13,
     "metadata": {},
     "output_type": "execute_result"
    }
   ],
   "source": [
    "seed = 0\n",
    "folds = 3\n",
    "models = []\n",
    "\n",
    "skf = StratifiedKFold(folds, shuffle = True, random_state = seed)\n",
    "\n",
    "for train_index, test_index in skf.split(train_df, train_df['investment_id']):\n",
    "    train = train_df.iloc[train_index]\n",
    "    valid = train_df.iloc[test_index]\n",
    "    \n",
    "    lgbm = LGBMRegressor(**params)\n",
    "    '''\n",
    "        num_leaves=2 ** np.random.randint(3, 8),\n",
    "        learning_rate = 10 ** (-np.random.uniform(0.1,2)),\n",
    "        n_estimators = 500,\n",
    "        min_child_samples = 1000, \n",
    "        subsample=np.random.uniform(0.5,1.0), \n",
    "        subsample_freq=1,\n",
    "        n_jobs= -1,\n",
    "        tree_method ='gpu_hist' ,\n",
    "    '''\n",
    "    \n",
    "    lgbm.fit(train[feature_cols], train['target'], eval_set = (valid[feature_cols], valid['target']))\n",
    "    models.append(lgbm)\n",
    "    gc.collect()\n",
    "gc.collect()"
   ]
  },
  {
   "cell_type": "markdown",
   "id": "81f4d80d",
   "metadata": {
    "papermill": {
     "duration": 0.268359,
     "end_time": "2022-04-09T16:03:41.371273",
     "exception": false,
     "start_time": "2022-04-09T16:03:41.102914",
     "status": "completed"
    },
    "tags": []
   },
   "source": [
    "- 머신러닝을 통해 나온 결과로 feature 별 중요도 그래프"
   ]
  },
  {
   "cell_type": "code",
   "execution_count": 14,
   "id": "78f3e0bd",
   "metadata": {
    "execution": {
     "iopub.execute_input": "2022-04-09T16:03:41.940884Z",
     "iopub.status.busy": "2022-04-09T16:03:41.939956Z",
     "iopub.status.idle": "2022-04-09T16:03:47.003872Z",
     "shell.execute_reply": "2022-04-09T16:03:47.004313Z",
     "shell.execute_reply.started": "2022-04-09T15:26:59.916377Z"
    },
    "papermill": {
     "duration": 5.362945,
     "end_time": "2022-04-09T16:03:47.004468",
     "exception": false,
     "start_time": "2022-04-09T16:03:41.641523",
     "status": "completed"
    },
    "tags": []
   },
   "outputs": [
    {
     "data": {
      "text/plain": [
       "260"
      ]
     },
     "execution_count": 14,
     "metadata": {},
     "output_type": "execute_result"
    },
    {
     "data": {
      "image/png": "[encoded data removed]",
      "text/plain": [
       "<Figure size 1440x4320 with 1 Axes>"
      ]
     },
     "metadata": {
      "needs_background": "light"
     },
     "output_type": "display_data"
    }
   ],
   "source": [
    "import lightgbm\n",
    "lightgbm.plot_importance(lgbm, figsize = (20, 60))\n",
    "gc.collect()"
   ]
  },
  {
   "cell_type": "markdown",
   "id": "c1a36c9b",
   "metadata": {
    "papermill": {
     "duration": 0.276875,
     "end_time": "2022-04-09T16:03:47.559622",
     "exception": false,
     "start_time": "2022-04-09T16:03:47.282747",
     "status": "completed"
    },
    "tags": []
   },
   "source": [
    "# Step 6. 예측 및 제출"
   ]
  },
  {
   "cell_type": "markdown",
   "id": "cc1d6f08",
   "metadata": {
    "papermill": {
     "duration": 0.277696,
     "end_time": "2022-04-09T16:03:48.113846",
     "exception": false,
     "start_time": "2022-04-09T16:03:47.836150",
     "status": "completed"
    },
    "tags": []
   },
   "source": [
    "- 주최측에서 제공하는 API를 통해 제출"
   ]
  },
  {
   "cell_type": "code",
   "execution_count": 15,
   "id": "474b721c",
   "metadata": {
    "execution": {
     "iopub.execute_input": "2022-04-09T16:03:48.674207Z",
     "iopub.status.busy": "2022-04-09T16:03:48.673541Z",
     "iopub.status.idle": "2022-04-09T16:03:48.703922Z",
     "shell.execute_reply": "2022-04-09T16:03:48.704400Z",
     "shell.execute_reply.started": "2022-04-09T15:27:05.525627Z"
    },
    "papermill": {
     "duration": 0.312249,
     "end_time": "2022-04-09T16:03:48.704562",
     "exception": false,
     "start_time": "2022-04-09T16:03:48.392313",
     "status": "completed"
    },
    "tags": []
   },
   "outputs": [],
   "source": [
    "import ubiquant\n",
    "env = ubiquant.make_env()   # initialize the environment\n",
    "iter_test = env.iter_test()    # an iterator which loops over the test set and sample submission\n"
   ]
  },
  {
   "cell_type": "code",
   "execution_count": 16,
   "id": "9e9a8296",
   "metadata": {
    "execution": {
     "iopub.execute_input": "2022-04-09T16:03:49.261981Z",
     "iopub.status.busy": "2022-04-09T16:03:49.261416Z",
     "iopub.status.idle": "2022-04-09T16:03:49.374062Z",
     "shell.execute_reply": "2022-04-09T16:03:49.374500Z",
     "shell.execute_reply.started": "2022-04-09T15:27:05.56663Z"
    },
    "papermill": {
     "duration": 0.393443,
     "end_time": "2022-04-09T16:03:49.374682",
     "exception": false,
     "start_time": "2022-04-09T16:03:48.981239",
     "status": "completed"
    },
    "tags": []
   },
   "outputs": [
    {
     "name": "stdout",
     "output_type": "stream",
     "text": [
      "This version of the API is not optimized and should not be used to estimate the runtime of your code on the hidden test set.\n"
     ]
    }
   ],
   "source": [
    "for (test_df, sample_prediction_df) in iter_test:\n",
    "    \n",
    "    test_df['target']  = 0\n",
    "    \n",
    "    for lgbm in models:\n",
    "        test_df['target'] += lgbm.predict(test_df[feature_cols])\n",
    "    test_df['target'] /= len(models)\n",
    "    env.predict(test_df[['row_id','target']])"
   ]
  },
  {
   "cell_type": "markdown",
   "id": "2e1c32e3",
   "metadata": {
    "papermill": {
     "duration": 0.277559,
     "end_time": "2022-04-09T16:03:49.930049",
     "exception": false,
     "start_time": "2022-04-09T16:03:49.652490",
     "status": "completed"
    },
    "tags": []
   },
   "source": [
    "# References :    \n",
    "https://www.kaggle.com/code/yoshikuwano/fast-read-data-and-memory-optimization/notebook   \n",
    "https://www.kaggle.com/code/rohanrao/tutorial-on-reading-large-datasets/notebook#Format:-csv   \n",
    "https://www.kaggle.com/code/sytuannguyen/ubiquant-data-preparation#3.-Save-the-reduced-dataframe   \n",
    "https://www.kaggle.com/code/jnegrini/ubiquant-eda    \n",
    "https://www.kaggle.com/code/gunesevitan/ubiquant-market-prediction-eda/notebook#3.-Target   \n",
    "https://www.kaggle.com/code/ilialar/ubiquant-eda-and-baseline#Features    \n",
    "https://www.kaggle.com/competitions/ubiquant-market-prediction/data    \n",
    "https://www.kaggle.com/code/larochemf/ubiquant-low-memory-use-be-careful/notebook    \n",
    "https://www.kaggle.com/code/robikscube/fast-data-loading-and-low-mem-with-parquet-files/notebook    \n",
    "https://www.kaggle.com/code/lucamassaron/eda-target-analysis       \n",
    "https://www.kaggle.com/code/edwardcrookenden/eda-and-lgbm-baseline-feature-imp    \n",
    "https://www.kaggle.com/competitions/ubiquant-market-prediction/discussion/305031    \n",
    "https://www.kaggle.com/code/junjitakeshima/ubiquant-simple-lgbm-removing-outliers-en-jp/notebook#(1)-Read-Trainiing-Data    \n",
    "https://www.kaggle.com/code/valleyzw/ubiquant-lgbm-baseline/notebook#Stock-market-calendar-analysis:-discussion     \n",
    "https://www.kaggle.com/code/sytuannguyen/ubiquant-with-lightgbm   \n",
    "https://www.kaggle.com/code/jiprud/simple-light-gbm   \n",
    "https://www.kaggle.com/code/ilialar/ubiquant-eda-and-baseline#Model-training"
   ]
  }
 ],
 "metadata": {
  "kernelspec": {
   "display_name": "Python 3",
   "language": "python",
   "name": "python3"
  },
  "language_info": {
   "codemirror_mode": {
    "name": "ipython",
    "version": 3
   },
   "file_extension": ".py",
   "mimetype": "text/x-python",
   "name": "python",
   "nbconvert_exporter": "python",
   "pygments_lexer": "ipython3",
   "version": "3.7.12"
  },
  "papermill": {
   "default_parameters": {},
   "duration": 1504.167705,
   "end_time": "2022-04-09T16:03:51.522408",
   "environment_variables": {},
   "exception": null,
   "input_path": "__notebook__.ipynb",
   "output_path": "__notebook__.ipynb",
   "parameters": {},
   "start_time": "2022-04-09T15:38:47.354703",
   "version": "2.3.3"
  }
 },
 "nbformat": 4,
 "nbformat_minor": 5
}
