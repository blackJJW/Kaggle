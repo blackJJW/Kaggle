{
 "cells": [
  {
   "cell_type": "markdown",
   "id": "bf828120",
   "metadata": {
    "papermill": {
     "duration": 0.030011,
     "end_time": "2022-04-10T02:10:55.296491",
     "exception": false,
     "start_time": "2022-04-10T02:10:55.266480",
     "status": "completed"
    },
    "tags": []
   },
   "source": [
    "# 프로젝트 개요\n",
    "- 강의명 : 2022년 K-디지털 직업훈련(Training) 사업 - AI데이터플랫폼을 활용한 빅데이터 분석전문가 과정\n",
    "- 교과목명 : 빅데이터 분석 및 시각화, AI개발 기초, 인공지능 프로그래밍\n",
    "- 프로젝트 주제 : Ubiquant Market 데이터를 활용한 미래 투자 예측\n",
    "- 프로젝트 마감일 : 2022년 4월 12일 화요일\n",
    "- 강사명 : 정지훈 강사\n",
    "- 수강생명 : 정진우"
   ]
  },
  {
   "cell_type": "markdown",
   "id": "739da24a",
   "metadata": {
    "papermill": {
     "duration": 0.028242,
     "end_time": "2022-04-10T02:10:55.357095",
     "exception": false,
     "start_time": "2022-04-10T02:10:55.328853",
     "status": "completed"
    },
    "tags": []
   },
   "source": [
    "## < Score Improvement History >\n",
    "|#|> std * x|k-fold|score|\n",
    "|:-:|:-:|:-:|:-:|\n",
    "|1|> std * 70|3|0.1388|\n",
    "|2|> std * 60|3||"
   ]
  },
  {
   "cell_type": "markdown",
   "id": "1d0579df",
   "metadata": {
    "papermill": {
     "duration": 0.028413,
     "end_time": "2022-04-10T02:10:55.414142",
     "exception": false,
     "start_time": "2022-04-10T02:10:55.385729",
     "status": "completed"
    },
    "tags": []
   },
   "source": [
    "# Step 1 ~ 3 :    \n",
    "https://www.kaggle.com/code/blackjjw/ubiquant-eda\n",
    "## dataset :   \n",
    "https://www.kaggle.com/datasets/blackjjw/ubiquant-train-df-low-memory-pkl"
   ]
  },
  {
   "cell_type": "markdown",
   "id": "71e669aa",
   "metadata": {
    "papermill": {
     "duration": 0.029729,
     "end_time": "2022-04-10T02:10:55.473627",
     "exception": false,
     "start_time": "2022-04-10T02:10:55.443898",
     "status": "completed"
    },
    "tags": []
   },
   "source": [
    "# 라이브러리 불러오기"
   ]
  },
  {
   "cell_type": "code",
   "execution_count": 1,
   "id": "3d7a0d9a",
   "metadata": {
    "_cell_guid": "b1076dfc-b9ad-4769-8c92-a6c4dae69d19",
    "_uuid": "8f2839f25d086af736a60e9eeb907d3b93b6e0e5",
    "execution": {
     "iopub.execute_input": "2022-04-10T02:10:55.535505Z",
     "iopub.status.busy": "2022-04-10T02:10:55.534300Z",
     "iopub.status.idle": "2022-04-10T02:10:57.993657Z",
     "shell.execute_reply": "2022-04-10T02:10:57.992906Z",
     "shell.execute_reply.started": "2022-04-10T02:10:29.256188Z"
    },
    "papermill": {
     "duration": 2.491801,
     "end_time": "2022-04-10T02:10:57.993827",
     "exception": false,
     "start_time": "2022-04-10T02:10:55.502026",
     "status": "completed"
    },
    "tags": []
   },
   "outputs": [
    {
     "data": {
      "text/html": [
       "<style type='text/css'>\n",
       ".datatable table.frame { margin-bottom: 0; }\n",
       ".datatable table.frame thead { border-bottom: none; }\n",
       ".datatable table.frame tr.coltypes td {  color: #FFFFFF;  line-height: 6px;  padding: 0 0.5em;}\n",
       ".datatable .bool    { background: #DDDD99; }\n",
       ".datatable .object  { background: #565656; }\n",
       ".datatable .int     { background: #5D9E5D; }\n",
       ".datatable .float   { background: #4040CC; }\n",
       ".datatable .str     { background: #CC4040; }\n",
       ".datatable .time    { background: #40CC40; }\n",
       ".datatable .row_index {  background: var(--jp-border-color3);  border-right: 1px solid var(--jp-border-color0);  color: var(--jp-ui-font-color3);  font-size: 9px;}\n",
       ".datatable .frame tbody td { text-align: left; }\n",
       ".datatable .frame tr.coltypes .row_index {  background: var(--jp-border-color0);}\n",
       ".datatable th:nth-child(2) { padding-left: 12px; }\n",
       ".datatable .hellipsis {  color: var(--jp-cell-editor-border-color);}\n",
       ".datatable .vellipsis {  background: var(--jp-layout-color0);  color: var(--jp-cell-editor-border-color);}\n",
       ".datatable .na {  color: var(--jp-cell-editor-border-color);  font-size: 80%;}\n",
       ".datatable .sp {  opacity: 0.25;}\n",
       ".datatable .footer { font-size: 9px; }\n",
       ".datatable .frame_dimensions {  background: var(--jp-border-color3);  border-top: 1px solid var(--jp-border-color0);  color: var(--jp-ui-font-color3);  display: inline-block;  opacity: 0.6;  padding: 1px 10px 1px 5px;}\n",
       "</style>\n"
      ],
      "text/plain": [
       "<IPython.core.display.HTML object>"
      ]
     },
     "metadata": {},
     "output_type": "display_data"
    }
   ],
   "source": [
    "import numpy as np\n",
    "import pandas as pd\n",
    "\n",
    "import gc\n",
    "import joblib\n",
    "\n",
    "import matplotlib.pyplot as plt\n",
    "%matplotlib inline\n",
    "import seaborn as sns\n",
    "import scipy as stats\n",
    "\n",
    "from sklearn import preprocessing\n",
    "from sklearn.model_selection import StratifiedKFold \n",
    "from sklearn.model_selection import GroupKFold\n",
    "from sklearn.model_selection import train_test_split\n",
    "from sklearn.metrics import mean_squared_error, mean_absolute_error, accuracy_score, confusion_matrix\n",
    "from sklearn.ensemble import RandomForestRegressor\n",
    "\n",
    "import lightgbm as lgbm\n",
    "from lightgbm import *"
   ]
  },
  {
   "cell_type": "markdown",
   "id": "dbdea0ed",
   "metadata": {
    "papermill": {
     "duration": 0.029012,
     "end_time": "2022-04-10T02:10:58.053036",
     "exception": false,
     "start_time": "2022-04-10T02:10:58.024024",
     "status": "completed"
    },
    "tags": []
   },
   "source": [
    "# 데이터 불러오기\n",
    "- Step 1 ~ 3에서 진행하고 생성한 train_df.pkl를 read."
   ]
  },
  {
   "cell_type": "code",
   "execution_count": 2,
   "id": "954fc6e7",
   "metadata": {
    "execution": {
     "iopub.execute_input": "2022-04-10T02:10:58.118505Z",
     "iopub.status.busy": "2022-04-10T02:10:58.117809Z",
     "iopub.status.idle": "2022-04-10T02:11:15.852283Z",
     "shell.execute_reply": "2022-04-10T02:11:15.851556Z"
    },
    "papermill": {
     "duration": 17.769237,
     "end_time": "2022-04-10T02:11:15.852436",
     "exception": false,
     "start_time": "2022-04-10T02:10:58.083199",
     "status": "completed"
    },
    "tags": []
   },
   "outputs": [
    {
     "name": "stdout",
     "output_type": "stream",
     "text": [
      "CPU times: user 1.09 s, sys: 2.15 s, total: 3.24 s\n",
      "Wall time: 17.7 s\n"
     ]
    },
    {
     "data": {
      "text/html": [
       "<div>\n",
       "<style scoped>\n",
       "    .dataframe tbody tr th:only-of-type {\n",
       "        vertical-align: middle;\n",
       "    }\n",
       "\n",
       "    .dataframe tbody tr th {\n",
       "        vertical-align: top;\n",
       "    }\n",
       "\n",
       "    .dataframe thead th {\n",
       "        text-align: right;\n",
       "    }\n",
       "</style>\n",
       "<table border=\"1\" class=\"dataframe\">\n",
       "  <thead>\n",
       "    <tr style=\"text-align: right;\">\n",
       "      <th></th>\n",
       "      <th>row_id</th>\n",
       "      <th>time_id</th>\n",
       "      <th>investment_id</th>\n",
       "      <th>target</th>\n",
       "      <th>f_0</th>\n",
       "      <th>f_1</th>\n",
       "      <th>f_2</th>\n",
       "      <th>f_3</th>\n",
       "      <th>f_4</th>\n",
       "      <th>f_5</th>\n",
       "      <th>...</th>\n",
       "      <th>f_290</th>\n",
       "      <th>f_291</th>\n",
       "      <th>f_292</th>\n",
       "      <th>f_293</th>\n",
       "      <th>f_294</th>\n",
       "      <th>f_295</th>\n",
       "      <th>f_296</th>\n",
       "      <th>f_297</th>\n",
       "      <th>f_298</th>\n",
       "      <th>f_299</th>\n",
       "    </tr>\n",
       "  </thead>\n",
       "  <tbody>\n",
       "    <tr>\n",
       "      <th>0</th>\n",
       "      <td>0_1</td>\n",
       "      <td>0</td>\n",
       "      <td>1</td>\n",
       "      <td>-0.300781</td>\n",
       "      <td>0.932617</td>\n",
       "      <td>0.113708</td>\n",
       "      <td>-0.402100</td>\n",
       "      <td>0.378418</td>\n",
       "      <td>-0.203979</td>\n",
       "      <td>-0.413574</td>\n",
       "      <td>...</td>\n",
       "      <td>0.365967</td>\n",
       "      <td>-1.095703</td>\n",
       "      <td>0.200073</td>\n",
       "      <td>0.819336</td>\n",
       "      <td>0.941406</td>\n",
       "      <td>-0.086792</td>\n",
       "      <td>-1.086914</td>\n",
       "      <td>-1.044922</td>\n",
       "      <td>-0.287598</td>\n",
       "      <td>0.321533</td>\n",
       "    </tr>\n",
       "    <tr>\n",
       "      <th>1</th>\n",
       "      <td>0_2</td>\n",
       "      <td>0</td>\n",
       "      <td>2</td>\n",
       "      <td>-0.231079</td>\n",
       "      <td>0.811035</td>\n",
       "      <td>-0.514160</td>\n",
       "      <td>0.742188</td>\n",
       "      <td>-0.616699</td>\n",
       "      <td>-0.194214</td>\n",
       "      <td>1.771484</td>\n",
       "      <td>...</td>\n",
       "      <td>-0.154175</td>\n",
       "      <td>0.912598</td>\n",
       "      <td>-0.734375</td>\n",
       "      <td>0.819336</td>\n",
       "      <td>0.941406</td>\n",
       "      <td>-0.387695</td>\n",
       "      <td>-1.086914</td>\n",
       "      <td>-0.929688</td>\n",
       "      <td>-0.974121</td>\n",
       "      <td>-0.343506</td>\n",
       "    </tr>\n",
       "    <tr>\n",
       "      <th>2</th>\n",
       "      <td>0_6</td>\n",
       "      <td>0</td>\n",
       "      <td>6</td>\n",
       "      <td>0.568848</td>\n",
       "      <td>0.394043</td>\n",
       "      <td>0.615723</td>\n",
       "      <td>0.567871</td>\n",
       "      <td>-0.607910</td>\n",
       "      <td>0.068909</td>\n",
       "      <td>-1.083008</td>\n",
       "      <td>...</td>\n",
       "      <td>-0.138062</td>\n",
       "      <td>0.912598</td>\n",
       "      <td>-0.551758</td>\n",
       "      <td>-1.220703</td>\n",
       "      <td>-1.060547</td>\n",
       "      <td>-0.219116</td>\n",
       "      <td>-1.086914</td>\n",
       "      <td>-0.612305</td>\n",
       "      <td>-0.113953</td>\n",
       "      <td>0.243652</td>\n",
       "    </tr>\n",
       "    <tr>\n",
       "      <th>3</th>\n",
       "      <td>0_7</td>\n",
       "      <td>0</td>\n",
       "      <td>7</td>\n",
       "      <td>-1.064453</td>\n",
       "      <td>-2.343750</td>\n",
       "      <td>-0.011871</td>\n",
       "      <td>1.875000</td>\n",
       "      <td>-0.606445</td>\n",
       "      <td>-0.586914</td>\n",
       "      <td>-0.815918</td>\n",
       "      <td>...</td>\n",
       "      <td>0.382080</td>\n",
       "      <td>0.912598</td>\n",
       "      <td>-0.266357</td>\n",
       "      <td>-1.220703</td>\n",
       "      <td>0.941406</td>\n",
       "      <td>-0.608887</td>\n",
       "      <td>0.104919</td>\n",
       "      <td>-0.783203</td>\n",
       "      <td>1.151367</td>\n",
       "      <td>-0.773438</td>\n",
       "    </tr>\n",
       "    <tr>\n",
       "      <th>4</th>\n",
       "      <td>0_8</td>\n",
       "      <td>0</td>\n",
       "      <td>8</td>\n",
       "      <td>-0.531738</td>\n",
       "      <td>0.842285</td>\n",
       "      <td>-0.262939</td>\n",
       "      <td>2.330078</td>\n",
       "      <td>-0.583496</td>\n",
       "      <td>-0.618164</td>\n",
       "      <td>-0.742676</td>\n",
       "      <td>...</td>\n",
       "      <td>-0.170410</td>\n",
       "      <td>0.912598</td>\n",
       "      <td>-0.741211</td>\n",
       "      <td>-1.220703</td>\n",
       "      <td>0.941406</td>\n",
       "      <td>-0.588379</td>\n",
       "      <td>0.104919</td>\n",
       "      <td>0.753418</td>\n",
       "      <td>1.345703</td>\n",
       "      <td>-0.737793</td>\n",
       "    </tr>\n",
       "  </tbody>\n",
       "</table>\n",
       "<p>5 rows × 304 columns</p>\n",
       "</div>"
      ],
      "text/plain": [
       "  row_id  time_id  investment_id    target       f_0       f_1       f_2  \\\n",
       "0    0_1        0              1 -0.300781  0.932617  0.113708 -0.402100   \n",
       "1    0_2        0              2 -0.231079  0.811035 -0.514160  0.742188   \n",
       "2    0_6        0              6  0.568848  0.394043  0.615723  0.567871   \n",
       "3    0_7        0              7 -1.064453 -2.343750 -0.011871  1.875000   \n",
       "4    0_8        0              8 -0.531738  0.842285 -0.262939  2.330078   \n",
       "\n",
       "        f_3       f_4       f_5  ...     f_290     f_291     f_292     f_293  \\\n",
       "0  0.378418 -0.203979 -0.413574  ...  0.365967 -1.095703  0.200073  0.819336   \n",
       "1 -0.616699 -0.194214  1.771484  ... -0.154175  0.912598 -0.734375  0.819336   \n",
       "2 -0.607910  0.068909 -1.083008  ... -0.138062  0.912598 -0.551758 -1.220703   \n",
       "3 -0.606445 -0.586914 -0.815918  ...  0.382080  0.912598 -0.266357 -1.220703   \n",
       "4 -0.583496 -0.618164 -0.742676  ... -0.170410  0.912598 -0.741211 -1.220703   \n",
       "\n",
       "      f_294     f_295     f_296     f_297     f_298     f_299  \n",
       "0  0.941406 -0.086792 -1.086914 -1.044922 -0.287598  0.321533  \n",
       "1  0.941406 -0.387695 -1.086914 -0.929688 -0.974121 -0.343506  \n",
       "2 -1.060547 -0.219116 -1.086914 -0.612305 -0.113953  0.243652  \n",
       "3  0.941406 -0.608887  0.104919 -0.783203  1.151367 -0.773438  \n",
       "4  0.941406 -0.588379  0.104919  0.753418  1.345703 -0.737793  \n",
       "\n",
       "[5 rows x 304 columns]"
      ]
     },
     "execution_count": 2,
     "metadata": {},
     "output_type": "execute_result"
    }
   ],
   "source": [
    "%%time\n",
    "train_df = pd.read_pickle('../input/ubiquant-train-df-low-memory-pkl/train_df.pkl')\n",
    "train_df.head()"
   ]
  },
  {
   "cell_type": "markdown",
   "id": "09db66da",
   "metadata": {
    "papermill": {
     "duration": 0.032809,
     "end_time": "2022-04-10T02:11:15.917957",
     "exception": false,
     "start_time": "2022-04-10T02:11:15.885148",
     "status": "completed"
    },
    "tags": []
   },
   "source": [
    "# Step 4. 데이터 전처리"
   ]
  },
  {
   "cell_type": "markdown",
   "id": "1e6ab1ca",
   "metadata": {
    "papermill": {
     "duration": 0.03132,
     "end_time": "2022-04-10T02:11:15.981280",
     "exception": false,
     "start_time": "2022-04-10T02:11:15.949960",
     "status": "completed"
    },
    "tags": []
   },
   "source": [
    "## 필요없는 컬럼 제거\n",
    "- row_id는 단순 행 번호를 나타내므로 제거.\n",
    "- 컬럼 리스트를 따로 생성하고 'row_id' 제거.\n",
    "- 'time_id' 제거\n",
    "- 종속변수인 'target' 제거.\n",
    "- 필요없는 컬럼이 생성된 리스트를 통해 필요한 컬럼들만 추출하여 사용."
   ]
  },
  {
   "cell_type": "code",
   "execution_count": 3,
   "id": "0f3b7cc1",
   "metadata": {
    "execution": {
     "iopub.execute_input": "2022-04-10T02:11:16.072515Z",
     "iopub.status.busy": "2022-04-10T02:11:16.059166Z",
     "iopub.status.idle": "2022-04-10T02:11:16.076201Z",
     "shell.execute_reply": "2022-04-10T02:11:16.076740Z"
    },
    "papermill": {
     "duration": 0.057697,
     "end_time": "2022-04-10T02:11:16.076918",
     "exception": false,
     "start_time": "2022-04-10T02:11:16.019221",
     "status": "completed"
    },
    "tags": []
   },
   "outputs": [
    {
     "data": {
      "text/plain": [
       "Index(['investment_id', 'f_0', 'f_1', 'f_2', 'f_3', 'f_4', 'f_5', 'f_6', 'f_7',\n",
       "       'f_8',\n",
       "       ...\n",
       "       'f_290', 'f_291', 'f_292', 'f_293', 'f_294', 'f_295', 'f_296', 'f_297',\n",
       "       'f_298', 'f_299'],\n",
       "      dtype='object', length=301)"
      ]
     },
     "execution_count": 3,
     "metadata": {},
     "output_type": "execute_result"
    }
   ],
   "source": [
    "feature_cols = train_df.columns.unique()\n",
    "feature_cols = feature_cols.drop(['row_id', 'target', 'time_id'])\n",
    "feature_cols"
   ]
  },
  {
   "cell_type": "markdown",
   "id": "99f6250b",
   "metadata": {
    "papermill": {
     "duration": 0.032915,
     "end_time": "2022-04-10T02:11:16.145466",
     "exception": false,
     "start_time": "2022-04-10T02:11:16.112551",
     "status": "completed"
    },
    "tags": []
   },
   "source": [
    "## 결측치 제거\n",
    "- dataset 내에 결측치가 존재하지 않음."
   ]
  },
  {
   "cell_type": "markdown",
   "id": "f98ba829",
   "metadata": {
    "papermill": {
     "duration": 0.03147,
     "end_time": "2022-04-10T02:11:16.208728",
     "exception": false,
     "start_time": "2022-04-10T02:11:16.177258",
     "status": "completed"
    },
    "tags": []
   },
   "source": [
    "## 이상치 제거\n",
    "- 평균에서 멀리 떨어져 있는 값들을 제거 (> std*num)"
   ]
  },
  {
   "cell_type": "markdown",
   "id": "6d706af7",
   "metadata": {
    "papermill": {
     "duration": 0.031471,
     "end_time": "2022-04-10T02:11:16.271117",
     "exception": false,
     "start_time": "2022-04-10T02:11:16.239646",
     "status": "completed"
    },
    "tags": []
   },
   "source": [
    "## mean > std * x\n",
    "- 이상치의 개수와 리스트를 반환\n",
    "|x|outlier count|\n",
    "|:---:|:---:|\n",
    "|70|128|\n",
    "|60|325|"
   ]
  },
  {
   "cell_type": "code",
   "execution_count": 4,
   "id": "a4a4555e",
   "metadata": {
    "execution": {
     "iopub.execute_input": "2022-04-10T02:11:16.337527Z",
     "iopub.status.busy": "2022-04-10T02:11:16.336832Z",
     "iopub.status.idle": "2022-04-10T02:11:36.363287Z",
     "shell.execute_reply": "2022-04-10T02:11:36.363793Z"
    },
    "papermill": {
     "duration": 20.061917,
     "end_time": "2022-04-10T02:11:36.363954",
     "exception": false,
     "start_time": "2022-04-10T02:11:16.302037",
     "status": "completed"
    },
    "tags": []
   },
   "outputs": [
    {
     "name": "stdout",
     "output_type": "stream",
     "text": [
      "f_4 44\n",
      "f_10 8\n",
      "f_13 2\n",
      "f_23 1\n",
      "f_40 1\n",
      "f_49 9\n",
      "f_74 10\n",
      "f_78 5\n",
      "f_83 3\n",
      "f_84 2\n",
      "f_115 37\n",
      "f_117 25\n",
      "f_124 20\n",
      "f_127 33\n",
      "f_151 5\n",
      "f_153 1\n",
      "f_155 2\n",
      "f_162 2\n",
      "f_165 1\n",
      "f_172 7\n",
      "f_175 31\n",
      "f_183 15\n",
      "f_193 6\n",
      "f_200 115\n",
      "f_214 1\n",
      "f_251 1\n",
      "f_269 4\n",
      "f_280 7\n",
      "f_289 23\n",
      "f_295 1\n",
      "325\n"
     ]
    },
    {
     "data": {
      "text/plain": [
       "0"
      ]
     },
     "execution_count": 4,
     "metadata": {},
     "output_type": "execute_result"
    }
   ],
   "source": [
    "outlier_list = []\n",
    "num = 60\n",
    "\n",
    "for col in feature_cols :\n",
    "    trans_dtype_df = train_df[col].astype(np.float32)\n",
    "    \n",
    "    temp_df = train_df[(trans_dtype_df > trans_dtype_df.mean() + trans_dtype_df.std() * num) |\n",
    "                       (trans_dtype_df < trans_dtype_df.mean() - trans_dtype_df.std() * num) ]\n",
    "    if len(temp_df) >0 :\n",
    "        outliers = temp_df.index.to_list()\n",
    "        outlier_list.extend(outliers)\n",
    "        print(col, len(temp_df))\n",
    "        gc.collect()\n",
    "\n",
    "outlier_list = list(set(outlier_list))\n",
    "print(len(outlier_list))\n",
    "gc.collect()"
   ]
  },
  {
   "cell_type": "markdown",
   "id": "4524a277",
   "metadata": {
    "papermill": {
     "duration": 0.039278,
     "end_time": "2022-04-10T02:11:36.443124",
     "exception": false,
     "start_time": "2022-04-10T02:11:36.403846",
     "status": "completed"
    },
    "tags": []
   },
   "source": [
    "- 이상치 제거"
   ]
  },
  {
   "cell_type": "code",
   "execution_count": 5,
   "id": "4c530d07",
   "metadata": {
    "execution": {
     "iopub.execute_input": "2022-04-10T02:11:36.529888Z",
     "iopub.status.busy": "2022-04-10T02:11:36.528450Z",
     "iopub.status.idle": "2022-04-10T02:11:45.019237Z",
     "shell.execute_reply": "2022-04-10T02:11:45.019885Z"
    },
    "papermill": {
     "duration": 8.537603,
     "end_time": "2022-04-10T02:11:45.020094",
     "exception": false,
     "start_time": "2022-04-10T02:11:36.482491",
     "status": "completed"
    },
    "tags": []
   },
   "outputs": [
    {
     "data": {
      "text/plain": [
       "21"
      ]
     },
     "execution_count": 5,
     "metadata": {},
     "output_type": "execute_result"
    }
   ],
   "source": [
    "train_df.drop(train_df.index[outlier_list], inplace = True)\n",
    "train_df\n",
    "gc.collect()"
   ]
  },
  {
   "cell_type": "markdown",
   "id": "2a220fb3",
   "metadata": {
    "papermill": {
     "duration": 0.040848,
     "end_time": "2022-04-10T02:11:45.103308",
     "exception": false,
     "start_time": "2022-04-10T02:11:45.062460",
     "status": "completed"
    },
    "tags": []
   },
   "source": [
    "# Step 5. 머신러닝 모형 개발"
   ]
  },
  {
   "cell_type": "markdown",
   "id": "ea10d18e",
   "metadata": {
    "papermill": {
     "duration": 0.040088,
     "end_time": "2022-04-10T02:11:45.184770",
     "exception": false,
     "start_time": "2022-04-10T02:11:45.144682",
     "status": "completed"
    },
    "tags": []
   },
   "source": [
    "- 독립변수와 종속변수를 구분."
   ]
  },
  {
   "cell_type": "code",
   "execution_count": 6,
   "id": "9be0abad",
   "metadata": {
    "execution": {
     "iopub.execute_input": "2022-04-10T02:11:45.268850Z",
     "iopub.status.busy": "2022-04-10T02:11:45.267705Z",
     "iopub.status.idle": "2022-04-10T02:11:45.270764Z",
     "shell.execute_reply": "2022-04-10T02:11:45.271377Z"
    },
    "papermill": {
     "duration": 0.046445,
     "end_time": "2022-04-10T02:11:45.271549",
     "exception": false,
     "start_time": "2022-04-10T02:11:45.225104",
     "status": "completed"
    },
    "tags": []
   },
   "outputs": [],
   "source": [
    "#X = train_df[feature_cols]\n",
    "#y = train_df['target']"
   ]
  },
  {
   "cell_type": "markdown",
   "id": "a92068ab",
   "metadata": {
    "papermill": {
     "duration": 0.040034,
     "end_time": "2022-04-10T02:11:45.351513",
     "exception": false,
     "start_time": "2022-04-10T02:11:45.311479",
     "status": "completed"
    },
    "tags": []
   },
   "source": [
    "- X, y 데이터 분리"
   ]
  },
  {
   "cell_type": "code",
   "execution_count": 7,
   "id": "6c01ca43",
   "metadata": {
    "execution": {
     "iopub.execute_input": "2022-04-10T02:11:45.435261Z",
     "iopub.status.busy": "2022-04-10T02:11:45.434315Z",
     "iopub.status.idle": "2022-04-10T02:11:45.437605Z",
     "shell.execute_reply": "2022-04-10T02:11:45.438061Z"
    },
    "papermill": {
     "duration": 0.046689,
     "end_time": "2022-04-10T02:11:45.438247",
     "exception": false,
     "start_time": "2022-04-10T02:11:45.391558",
     "status": "completed"
    },
    "tags": []
   },
   "outputs": [],
   "source": [
    "#X_train, X_valid, y_train, y_valid = train_test_split(X, y, test_size = 0.3, random_state = 42, shuffle = False)\n",
    "#X_train.shape, X_valid.shape, y_train.shape, y_valid.shape"
   ]
  },
  {
   "cell_type": "markdown",
   "id": "ce3a9860",
   "metadata": {
    "papermill": {
     "duration": 0.039569,
     "end_time": "2022-04-10T02:11:45.517760",
     "exception": false,
     "start_time": "2022-04-10T02:11:45.478191",
     "status": "completed"
    },
    "tags": []
   },
   "source": [
    "- RAM 확보를 위해 X, y 제거"
   ]
  },
  {
   "cell_type": "code",
   "execution_count": 8,
   "id": "e9ec4fc2",
   "metadata": {
    "execution": {
     "iopub.execute_input": "2022-04-10T02:11:45.601674Z",
     "iopub.status.busy": "2022-04-10T02:11:45.600628Z",
     "iopub.status.idle": "2022-04-10T02:11:45.606306Z",
     "shell.execute_reply": "2022-04-10T02:11:45.606917Z"
    },
    "papermill": {
     "duration": 0.049376,
     "end_time": "2022-04-10T02:11:45.607109",
     "exception": false,
     "start_time": "2022-04-10T02:11:45.557733",
     "status": "completed"
    },
    "tags": []
   },
   "outputs": [
    {
     "data": {
      "text/plain": [
       "'\\ndel X\\ndel y\\ngc.collect()\\n'"
      ]
     },
     "execution_count": 8,
     "metadata": {},
     "output_type": "execute_result"
    }
   ],
   "source": [
    "'''\n",
    "del X\n",
    "del y\n",
    "gc.collect()\n",
    "'''"
   ]
  },
  {
   "cell_type": "markdown",
   "id": "4fa1e398",
   "metadata": {
    "papermill": {
     "duration": 0.040093,
     "end_time": "2022-04-10T02:11:45.687732",
     "exception": false,
     "start_time": "2022-04-10T02:11:45.647639",
     "status": "completed"
    },
    "tags": []
   },
   "source": [
    "- LightGBM 클래스를 부른 후 모형을 학습"
   ]
  },
  {
   "cell_type": "code",
   "execution_count": 9,
   "id": "76a4f3a4",
   "metadata": {
    "execution": {
     "iopub.execute_input": "2022-04-10T02:11:45.773990Z",
     "iopub.status.busy": "2022-04-10T02:11:45.772943Z",
     "iopub.status.idle": "2022-04-10T02:11:45.778405Z",
     "shell.execute_reply": "2022-04-10T02:11:45.779014Z"
    },
    "papermill": {
     "duration": 0.050272,
     "end_time": "2022-04-10T02:11:45.779204",
     "exception": false,
     "start_time": "2022-04-10T02:11:45.728932",
     "status": "completed"
    },
    "tags": []
   },
   "outputs": [
    {
     "data": {
      "text/plain": [
       "'\\nmodel = lgbm.LGBMRegressor(\\n        objective=\"regression\",\\n        metric=\"rmse\",\\n        n_estimators=500 )\\n\\nmodel.fit(X_train, y_train)\\n'"
      ]
     },
     "execution_count": 9,
     "metadata": {},
     "output_type": "execute_result"
    }
   ],
   "source": [
    "'''\n",
    "model = lgbm.LGBMRegressor(\n",
    "        objective=\"regression\",\n",
    "        metric=\"rmse\",\n",
    "        n_estimators=500 )\n",
    "\n",
    "model.fit(X_train, y_train)\n",
    "'''"
   ]
  },
  {
   "cell_type": "code",
   "execution_count": 10,
   "id": "82414325",
   "metadata": {
    "execution": {
     "iopub.execute_input": "2022-04-10T02:11:45.870632Z",
     "iopub.status.busy": "2022-04-10T02:11:45.869710Z",
     "iopub.status.idle": "2022-04-10T02:11:45.873250Z",
     "shell.execute_reply": "2022-04-10T02:11:45.873742Z"
    },
    "papermill": {
     "duration": 0.052528,
     "end_time": "2022-04-10T02:11:45.873916",
     "exception": false,
     "start_time": "2022-04-10T02:11:45.821388",
     "status": "completed"
    },
    "tags": []
   },
   "outputs": [
    {
     "data": {
      "text/plain": [
       "'\\nfor j in [200, 300, 400, 500, 600]:\\n        model = lgbm.LGBMRegressor(\\n            objective=\"regression\",\\n            metric=\"rmse\",\\n            n_estimators= j )\\n\\n        model.fit(X_train, y_train)\\n\\n        score = model.score(X_train, y_train)\\n        print(f\"n_e:{j}, Training Score : {score}\")\\n\\n        y_pred = model.predict(X_valid)\\n        mse = mean_squared_error(y_valid, y_pred)\\n        print(f\"n_e:{j},MSE : {mse:.2f}\")\\n'"
      ]
     },
     "execution_count": 10,
     "metadata": {},
     "output_type": "execute_result"
    }
   ],
   "source": [
    "\"\"\"\n",
    "for j in [200, 300, 400, 500, 600]:\n",
    "        model = lgbm.LGBMRegressor(\n",
    "            objective=\"regression\",\n",
    "            metric=\"rmse\",\n",
    "            n_estimators= j )\n",
    "\n",
    "        model.fit(X_train, y_train)\n",
    "\n",
    "        score = model.score(X_train, y_train)\n",
    "        print(f\"n_e:{j}, Training Score : {score}\")\n",
    "\n",
    "        y_pred = model.predict(X_valid)\n",
    "        mse = mean_squared_error(y_valid, y_pred)\n",
    "        print(f\"n_e:{j},MSE : {mse:.2f}\")\n",
    "\"\"\""
   ]
  },
  {
   "cell_type": "markdown",
   "id": "8024e339",
   "metadata": {
    "papermill": {
     "duration": 0.041427,
     "end_time": "2022-04-10T02:11:45.962151",
     "exception": false,
     "start_time": "2022-04-10T02:11:45.920724",
     "status": "completed"
    },
    "tags": []
   },
   "source": [
    "### Training_Score & MSE 계산\n",
    "|test_size|n_estimators|delete outliers|Training_Score|MSE|delete outliers|Training_Score|MSE|delete outliers|Training_Score|MSE|   \n",
    "|:---:|:---:|:---:|:---:|:---:|:---:|:---:|:---:|:---:|:---:|:---:|                              \n",
    "|0.2|200|X|0.054069993842590924|0.81|>std\\*70|0.05405621833673957(<span style=\"color:blue\">$\\downarrow$</span>)|0.81|>std\\*60|0.05404028505271219(<span style=\"color:blue\">$\\downarrow$</span>)|0.81|\n",
    "|0.3|200|X|0.05846368663812751|0.83|>std\\*70|0.058449805435160984(<span style=\"color:blue\">$\\downarrow$</span>)|0.82|>std\\*60|||\n",
    "|0.2|300|X|0.06668339494814646|0.82|>std\\*70|0.06660813482520711(<span style=\"color:blue\">$\\downarrow$</span>)|0.81|>std\\*60|0.06678748573971982(<span style=\"color:red\">$\\uparrow$</span>)|0.81|\n",
    "|0.3|300|X|0.07216780004832235|0.83|>std\\*70|0.07194148416323642(<span style=\"color:blue\">$\\downarrow$</span>)|0.83|>std\\*60|||\n",
    "|0.2|400|X|0.07730909212135473|0.82|>std\\*70|0.0772426438888425(<span style=\"color:blue\">$\\downarrow$</span>)|0.82|>std\\*60|0.07730612556862904(<span style=\"color:red\">$\\uparrow$</span>)|0.82|\n",
    "|0.3|400|X|0.08363594720433998|0.83|>std\\*70|0.08389302333398285(<span style=\"color:red\">$\\uparrow$</span>)|0.83|>std\\*60|||\n",
    "|0.2|500|X|0.08671736858043233|0.82|>std\\*70|0.08636877075690108(<span style=\"color:blue\">$\\downarrow$</span>)|0.82|>std\\*60|0.08657127960859345(<span style=\"color:red\">$\\uparrow$</span>)|0.82|\n",
    "|0.3|500|X|0.09377199406580616|0.83|>std\\*70|0.0941912571685275(<span style=\"color:red\">$\\uparrow$</span>)|0.83|>std\\*60|||\n",
    "|0.2|600|X|0.09585158203024369|0.82|>std\\*70|0.09531511104149593(<span style=\"color:blue\">$\\downarrow$</span>)|0.82|>std\\*60|0.09508766558702908(<span style=\"color:blue\">$\\downarrow$</span>)|0.82|\n",
    "|0.3|600|X|0.10299723306322961|0.83|>std\\*70|0.10381084559412301(<span style=\"color:red\">$\\uparrow$</span>)|0.83|>std\\*60|||\n",
    "|0.2|700|X|0.10387433272279445|0.82|>std\\*70|0.10403926054146928(<span style=\"color:blue\">$\\downarrow$</span>)|0.82|>std\\*60|X|X|"
   ]
  },
  {
   "cell_type": "markdown",
   "id": "85ffae24",
   "metadata": {
    "papermill": {
     "duration": 0.042798,
     "end_time": "2022-04-10T02:11:46.046743",
     "exception": false,
     "start_time": "2022-04-10T02:11:46.003945",
     "status": "completed"
    },
    "tags": []
   },
   "source": [
    "- 이상치를 제거해도 전반적으로 training score가 항상 오르지 않는다.\n",
    "- 오히려 떨어지는 것으로 보임"
   ]
  },
  {
   "cell_type": "markdown",
   "id": "c169348c",
   "metadata": {
    "papermill": {
     "duration": 0.041375,
     "end_time": "2022-04-10T02:11:46.130666",
     "exception": false,
     "start_time": "2022-04-10T02:11:46.089291",
     "status": "completed"
    },
    "tags": []
   },
   "source": [
    "- trianing score, MSE 계산"
   ]
  },
  {
   "cell_type": "code",
   "execution_count": 11,
   "id": "33dc2fac",
   "metadata": {
    "execution": {
     "iopub.execute_input": "2022-04-10T02:11:46.217621Z",
     "iopub.status.busy": "2022-04-10T02:11:46.216866Z",
     "iopub.status.idle": "2022-04-10T02:11:46.221809Z",
     "shell.execute_reply": "2022-04-10T02:11:46.222360Z"
    },
    "papermill": {
     "duration": 0.050143,
     "end_time": "2022-04-10T02:11:46.222575",
     "exception": false,
     "start_time": "2022-04-10T02:11:46.172432",
     "status": "completed"
    },
    "tags": []
   },
   "outputs": [
    {
     "data": {
      "text/plain": [
       "'\\nscore = model.score(X_train, y_train)\\nprint(f\"Training Score : {score}\")\\n\\ny_pred = model.predict(X_valid)\\nmse = mean_squared_error(y_valid, y_pred)\\nprint(f\"MSE : {mse:.2f}\")\\n'"
      ]
     },
     "execution_count": 11,
     "metadata": {},
     "output_type": "execute_result"
    }
   ],
   "source": [
    "'''\n",
    "score = model.score(X_train, y_train)\n",
    "print(f\"Training Score : {score}\")\n",
    "\n",
    "y_pred = model.predict(X_valid)\n",
    "mse = mean_squared_error(y_valid, y_pred)\n",
    "print(f\"MSE : {mse:.2f}\")\n",
    "'''\n"
   ]
  },
  {
   "cell_type": "markdown",
   "id": "fdbca850",
   "metadata": {
    "papermill": {
     "duration": 0.042374,
     "end_time": "2022-04-10T02:11:46.308803",
     "exception": false,
     "start_time": "2022-04-10T02:11:46.266429",
     "status": "completed"
    },
    "tags": []
   },
   "source": [
    "- LightGBM의 세부 파라미터 적용\n",
    "    - 참고 자료를 조사하여 적용"
   ]
  },
  {
   "cell_type": "code",
   "execution_count": 12,
   "id": "5d92f9bd",
   "metadata": {
    "execution": {
     "iopub.execute_input": "2022-04-10T02:11:46.534401Z",
     "iopub.status.busy": "2022-04-10T02:11:46.533659Z",
     "iopub.status.idle": "2022-04-10T02:11:46.539261Z",
     "shell.execute_reply": "2022-04-10T02:11:46.538723Z"
    },
    "papermill": {
     "duration": 0.187534,
     "end_time": "2022-04-10T02:11:46.539410",
     "exception": false,
     "start_time": "2022-04-10T02:11:46.351876",
     "status": "completed"
    },
    "tags": []
   },
   "outputs": [
    {
     "data": {
      "text/plain": [
       "147"
      ]
     },
     "execution_count": 12,
     "metadata": {},
     "output_type": "execute_result"
    }
   ],
   "source": [
    "#https://www.kaggle.com/valleyzw/ubiquant-lgbm-baseline\n",
    "params = {\n",
    "        'learning_rate':0.1,\n",
    "        \"objective\": \"regression\",\n",
    "        \"metric\": \"rmse\",\n",
    "        'boosting_type': \"gbdt\",\n",
    "        'verbosity': -1,\n",
    "        'n_jobs': -1, \n",
    "        'seed': 21,\n",
    "        'lambda_l1': 1.1895057699067542, \n",
    "        'lambda_l2': 1.9079686837880768e-08, \n",
    "        'num_leaves': 112, \n",
    "        'subsample':None,\n",
    "        'feature_fraction': 0.6259927292757151, \n",
    "        'bagging_fraction': 0.9782210574588895, \n",
    "        'bagging_freq': 1, \n",
    "        'n_estimators': 306, \n",
    "        'max_depth': 12, \n",
    "        'max_bin': 494, \n",
    "        'min_data_in_leaf': 366,\n",
    "        'colsample_bytree': None,\n",
    "        'subsample_freq': None,\n",
    "        'min_child_samples': None,\n",
    "        'reg_lambda': None,\n",
    "        'reg_alpha': None,\n",
    "    }\n",
    "gc.collect()"
   ]
  },
  {
   "cell_type": "markdown",
   "id": "336270ec",
   "metadata": {
    "papermill": {
     "duration": 0.042922,
     "end_time": "2022-04-10T02:11:46.625776",
     "exception": false,
     "start_time": "2022-04-10T02:11:46.582854",
     "status": "completed"
    },
    "tags": []
   },
   "source": [
    "- StratifiedkFold를 통한 교차 검증을 통해 훈련 "
   ]
  },
  {
   "cell_type": "code",
   "execution_count": 13,
   "id": "239df963",
   "metadata": {
    "execution": {
     "iopub.execute_input": "2022-04-10T02:11:46.715958Z",
     "iopub.status.busy": "2022-04-10T02:11:46.715272Z",
     "iopub.status.idle": "2022-04-10T02:36:47.666292Z",
     "shell.execute_reply": "2022-04-10T02:36:47.665310Z"
    },
    "papermill": {
     "duration": 1500.997233,
     "end_time": "2022-04-10T02:36:47.666507",
     "exception": false,
     "start_time": "2022-04-10T02:11:46.669274",
     "status": "completed"
    },
    "tags": []
   },
   "outputs": [
    {
     "name": "stderr",
     "output_type": "stream",
     "text": [
      "/opt/conda/lib/python3.7/site-packages/sklearn/model_selection/_split.py:680: UserWarning: The least populated class in y has only 2 members, which is less than n_splits=3.\n",
      "  UserWarning,\n"
     ]
    },
    {
     "name": "stdout",
     "output_type": "stream",
     "text": [
      "[1]\tvalid_0's rmse: 0.920243\n",
      "[2]\tvalid_0's rmse: 0.919389\n",
      "[3]\tvalid_0's rmse: 0.918675\n",
      "[4]\tvalid_0's rmse: 0.918015\n",
      "[5]\tvalid_0's rmse: 0.917394\n",
      "[6]\tvalid_0's rmse: 0.916866\n",
      "[7]\tvalid_0's rmse: 0.916389\n",
      "[8]\tvalid_0's rmse: 0.915999\n",
      "[9]\tvalid_0's rmse: 0.915603\n",
      "[10]\tvalid_0's rmse: 0.915253\n",
      "[11]\tvalid_0's rmse: 0.914954\n",
      "[12]\tvalid_0's rmse: 0.914695\n",
      "[13]\tvalid_0's rmse: 0.914424\n",
      "[14]\tvalid_0's rmse: 0.914184\n",
      "[15]\tvalid_0's rmse: 0.913962\n",
      "[16]\tvalid_0's rmse: 0.913741\n",
      "[17]\tvalid_0's rmse: 0.913549\n",
      "[18]\tvalid_0's rmse: 0.913356\n",
      "[19]\tvalid_0's rmse: 0.91312\n",
      "[20]\tvalid_0's rmse: 0.91292\n",
      "[21]\tvalid_0's rmse: 0.912767\n",
      "[22]\tvalid_0's rmse: 0.912549\n",
      "[23]\tvalid_0's rmse: 0.912373\n",
      "[24]\tvalid_0's rmse: 0.912179\n",
      "[25]\tvalid_0's rmse: 0.911982\n",
      "[26]\tvalid_0's rmse: 0.91182\n",
      "[27]\tvalid_0's rmse: 0.911677\n",
      "[28]\tvalid_0's rmse: 0.911526\n",
      "[29]\tvalid_0's rmse: 0.911323\n",
      "[30]\tvalid_0's rmse: 0.911193\n",
      "[31]\tvalid_0's rmse: 0.91104\n",
      "[32]\tvalid_0's rmse: 0.910923\n",
      "[33]\tvalid_0's rmse: 0.910765\n",
      "[34]\tvalid_0's rmse: 0.910645\n",
      "[35]\tvalid_0's rmse: 0.910526\n",
      "[36]\tvalid_0's rmse: 0.910398\n",
      "[37]\tvalid_0's rmse: 0.910283\n",
      "[38]\tvalid_0's rmse: 0.910177\n",
      "[39]\tvalid_0's rmse: 0.910071\n",
      "[40]\tvalid_0's rmse: 0.909955\n",
      "[41]\tvalid_0's rmse: 0.909829\n",
      "[42]\tvalid_0's rmse: 0.909701\n",
      "[43]\tvalid_0's rmse: 0.909522\n",
      "[44]\tvalid_0's rmse: 0.909402\n",
      "[45]\tvalid_0's rmse: 0.909304\n",
      "[46]\tvalid_0's rmse: 0.909185\n",
      "[47]\tvalid_0's rmse: 0.909085\n",
      "[48]\tvalid_0's rmse: 0.909\n",
      "[49]\tvalid_0's rmse: 0.908906\n",
      "[50]\tvalid_0's rmse: 0.908805\n",
      "[51]\tvalid_0's rmse: 0.908714\n",
      "[52]\tvalid_0's rmse: 0.908579\n",
      "[53]\tvalid_0's rmse: 0.908446\n",
      "[54]\tvalid_0's rmse: 0.908304\n",
      "[55]\tvalid_0's rmse: 0.908233\n",
      "[56]\tvalid_0's rmse: 0.908145\n",
      "[57]\tvalid_0's rmse: 0.908058\n",
      "[58]\tvalid_0's rmse: 0.907942\n",
      "[59]\tvalid_0's rmse: 0.907851\n",
      "[60]\tvalid_0's rmse: 0.907782\n",
      "[61]\tvalid_0's rmse: 0.907625\n",
      "[62]\tvalid_0's rmse: 0.907559\n",
      "[63]\tvalid_0's rmse: 0.907423\n",
      "[64]\tvalid_0's rmse: 0.907355\n",
      "[65]\tvalid_0's rmse: 0.907284\n",
      "[66]\tvalid_0's rmse: 0.90721\n",
      "[67]\tvalid_0's rmse: 0.907126\n",
      "[68]\tvalid_0's rmse: 0.906968\n",
      "[69]\tvalid_0's rmse: 0.9069\n",
      "[70]\tvalid_0's rmse: 0.90682\n",
      "[71]\tvalid_0's rmse: 0.90677\n",
      "[72]\tvalid_0's rmse: 0.906674\n",
      "[73]\tvalid_0's rmse: 0.906585\n",
      "[74]\tvalid_0's rmse: 0.906516\n",
      "[75]\tvalid_0's rmse: 0.906472\n",
      "[76]\tvalid_0's rmse: 0.906383\n",
      "[77]\tvalid_0's rmse: 0.906293\n",
      "[78]\tvalid_0's rmse: 0.906213\n",
      "[79]\tvalid_0's rmse: 0.906162\n",
      "[80]\tvalid_0's rmse: 0.906051\n",
      "[81]\tvalid_0's rmse: 0.905992\n",
      "[82]\tvalid_0's rmse: 0.905915\n",
      "[83]\tvalid_0's rmse: 0.905819\n",
      "[84]\tvalid_0's rmse: 0.905736\n",
      "[85]\tvalid_0's rmse: 0.905686\n",
      "[86]\tvalid_0's rmse: 0.905504\n",
      "[87]\tvalid_0's rmse: 0.905463\n",
      "[88]\tvalid_0's rmse: 0.905375\n",
      "[89]\tvalid_0's rmse: 0.905288\n",
      "[90]\tvalid_0's rmse: 0.905177\n",
      "[91]\tvalid_0's rmse: 0.905132\n",
      "[92]\tvalid_0's rmse: 0.905081\n",
      "[93]\tvalid_0's rmse: 0.905016\n",
      "[94]\tvalid_0's rmse: 0.904966\n",
      "[95]\tvalid_0's rmse: 0.904902\n",
      "[96]\tvalid_0's rmse: 0.904771\n",
      "[97]\tvalid_0's rmse: 0.904678\n",
      "[98]\tvalid_0's rmse: 0.904636\n",
      "[99]\tvalid_0's rmse: 0.904544\n",
      "[100]\tvalid_0's rmse: 0.90448\n",
      "[101]\tvalid_0's rmse: 0.90443\n",
      "[102]\tvalid_0's rmse: 0.904317\n",
      "[103]\tvalid_0's rmse: 0.904271\n",
      "[104]\tvalid_0's rmse: 0.904173\n",
      "[105]\tvalid_0's rmse: 0.90413\n",
      "[106]\tvalid_0's rmse: 0.904052\n",
      "[107]\tvalid_0's rmse: 0.903939\n",
      "[108]\tvalid_0's rmse: 0.903856\n",
      "[109]\tvalid_0's rmse: 0.903792\n",
      "[110]\tvalid_0's rmse: 0.903736\n",
      "[111]\tvalid_0's rmse: 0.903697\n",
      "[112]\tvalid_0's rmse: 0.903651\n",
      "[113]\tvalid_0's rmse: 0.903556\n",
      "[114]\tvalid_0's rmse: 0.903508\n",
      "[115]\tvalid_0's rmse: 0.903468\n",
      "[116]\tvalid_0's rmse: 0.903414\n",
      "[117]\tvalid_0's rmse: 0.903369\n",
      "[118]\tvalid_0's rmse: 0.903313\n",
      "[119]\tvalid_0's rmse: 0.903228\n",
      "[120]\tvalid_0's rmse: 0.903133\n",
      "[121]\tvalid_0's rmse: 0.903072\n",
      "[122]\tvalid_0's rmse: 0.902997\n",
      "[123]\tvalid_0's rmse: 0.902944\n",
      "[124]\tvalid_0's rmse: 0.902925\n",
      "[125]\tvalid_0's rmse: 0.902895\n",
      "[126]\tvalid_0's rmse: 0.902865\n",
      "[127]\tvalid_0's rmse: 0.902849\n",
      "[128]\tvalid_0's rmse: 0.902821\n",
      "[129]\tvalid_0's rmse: 0.902789\n",
      "[130]\tvalid_0's rmse: 0.902759\n",
      "[131]\tvalid_0's rmse: 0.902702\n",
      "[132]\tvalid_0's rmse: 0.902671\n",
      "[133]\tvalid_0's rmse: 0.902648\n",
      "[134]\tvalid_0's rmse: 0.902564\n",
      "[135]\tvalid_0's rmse: 0.902484\n",
      "[136]\tvalid_0's rmse: 0.902459\n",
      "[137]\tvalid_0's rmse: 0.902414\n",
      "[138]\tvalid_0's rmse: 0.902374\n",
      "[139]\tvalid_0's rmse: 0.902283\n",
      "[140]\tvalid_0's rmse: 0.902246\n",
      "[141]\tvalid_0's rmse: 0.902239\n",
      "[142]\tvalid_0's rmse: 0.902197\n",
      "[143]\tvalid_0's rmse: 0.90207\n",
      "[144]\tvalid_0's rmse: 0.902041\n",
      "[145]\tvalid_0's rmse: 0.901944\n",
      "[146]\tvalid_0's rmse: 0.901898\n",
      "[147]\tvalid_0's rmse: 0.901877\n",
      "[148]\tvalid_0's rmse: 0.901862\n",
      "[149]\tvalid_0's rmse: 0.901822\n",
      "[150]\tvalid_0's rmse: 0.901781\n",
      "[151]\tvalid_0's rmse: 0.901723\n",
      "[152]\tvalid_0's rmse: 0.901595\n",
      "[153]\tvalid_0's rmse: 0.901561\n",
      "[154]\tvalid_0's rmse: 0.901504\n",
      "[155]\tvalid_0's rmse: 0.901418\n",
      "[156]\tvalid_0's rmse: 0.901351\n",
      "[157]\tvalid_0's rmse: 0.901335\n",
      "[158]\tvalid_0's rmse: 0.901275\n",
      "[159]\tvalid_0's rmse: 0.90122\n",
      "[160]\tvalid_0's rmse: 0.901196\n",
      "[161]\tvalid_0's rmse: 0.901113\n",
      "[162]\tvalid_0's rmse: 0.901071\n",
      "[163]\tvalid_0's rmse: 0.901055\n",
      "[164]\tvalid_0's rmse: 0.901032\n",
      "[165]\tvalid_0's rmse: 0.900939\n",
      "[166]\tvalid_0's rmse: 0.900903\n",
      "[167]\tvalid_0's rmse: 0.900884\n",
      "[168]\tvalid_0's rmse: 0.900867\n",
      "[169]\tvalid_0's rmse: 0.900842\n",
      "[170]\tvalid_0's rmse: 0.900835\n",
      "[171]\tvalid_0's rmse: 0.900791\n",
      "[172]\tvalid_0's rmse: 0.900717\n",
      "[173]\tvalid_0's rmse: 0.90071\n",
      "[174]\tvalid_0's rmse: 0.900655\n",
      "[175]\tvalid_0's rmse: 0.900553\n",
      "[176]\tvalid_0's rmse: 0.900546\n",
      "[177]\tvalid_0's rmse: 0.90045\n",
      "[178]\tvalid_0's rmse: 0.90033\n",
      "[179]\tvalid_0's rmse: 0.900292\n",
      "[180]\tvalid_0's rmse: 0.900259\n",
      "[181]\tvalid_0's rmse: 0.900208\n",
      "[182]\tvalid_0's rmse: 0.900197\n",
      "[183]\tvalid_0's rmse: 0.900172\n",
      "[184]\tvalid_0's rmse: 0.90011\n",
      "[185]\tvalid_0's rmse: 0.900014\n",
      "[186]\tvalid_0's rmse: 0.900005\n",
      "[187]\tvalid_0's rmse: 0.899969\n",
      "[188]\tvalid_0's rmse: 0.899932\n",
      "[189]\tvalid_0's rmse: 0.899889\n",
      "[190]\tvalid_0's rmse: 0.899884\n",
      "[191]\tvalid_0's rmse: 0.899823\n",
      "[192]\tvalid_0's rmse: 0.899791\n",
      "[193]\tvalid_0's rmse: 0.899685\n",
      "[194]\tvalid_0's rmse: 0.899673\n",
      "[195]\tvalid_0's rmse: 0.899617\n",
      "[196]\tvalid_0's rmse: 0.899579\n",
      "[197]\tvalid_0's rmse: 0.89954\n",
      "[198]\tvalid_0's rmse: 0.899515\n",
      "[199]\tvalid_0's rmse: 0.899498\n",
      "[200]\tvalid_0's rmse: 0.89947\n",
      "[201]\tvalid_0's rmse: 0.899437\n",
      "[202]\tvalid_0's rmse: 0.899427\n",
      "[203]\tvalid_0's rmse: 0.899418\n",
      "[204]\tvalid_0's rmse: 0.899389\n",
      "[205]\tvalid_0's rmse: 0.899372\n",
      "[206]\tvalid_0's rmse: 0.899355\n",
      "[207]\tvalid_0's rmse: 0.8993\n",
      "[208]\tvalid_0's rmse: 0.899267\n",
      "[209]\tvalid_0's rmse: 0.899238\n",
      "[210]\tvalid_0's rmse: 0.899221\n",
      "[211]\tvalid_0's rmse: 0.899214\n",
      "[212]\tvalid_0's rmse: 0.899174\n",
      "[213]\tvalid_0's rmse: 0.899135\n",
      "[214]\tvalid_0's rmse: 0.899126\n",
      "[215]\tvalid_0's rmse: 0.899103\n",
      "[216]\tvalid_0's rmse: 0.899093\n",
      "[217]\tvalid_0's rmse: 0.899053\n",
      "[218]\tvalid_0's rmse: 0.898993\n",
      "[219]\tvalid_0's rmse: 0.898959\n",
      "[220]\tvalid_0's rmse: 0.898954\n",
      "[221]\tvalid_0's rmse: 0.898939\n",
      "[222]\tvalid_0's rmse: 0.898917\n",
      "[223]\tvalid_0's rmse: 0.898879\n",
      "[224]\tvalid_0's rmse: 0.898871\n",
      "[225]\tvalid_0's rmse: 0.898851\n",
      "[226]\tvalid_0's rmse: 0.898841\n",
      "[227]\tvalid_0's rmse: 0.898801\n",
      "[228]\tvalid_0's rmse: 0.898795\n",
      "[229]\tvalid_0's rmse: 0.898724\n",
      "[230]\tvalid_0's rmse: 0.898716\n",
      "[231]\tvalid_0's rmse: 0.898708\n",
      "[232]\tvalid_0's rmse: 0.898706\n",
      "[233]\tvalid_0's rmse: 0.898689\n",
      "[234]\tvalid_0's rmse: 0.898684\n",
      "[235]\tvalid_0's rmse: 0.898648\n",
      "[236]\tvalid_0's rmse: 0.898622\n",
      "[237]\tvalid_0's rmse: 0.898596\n",
      "[238]\tvalid_0's rmse: 0.898586\n",
      "[239]\tvalid_0's rmse: 0.898587\n",
      "[240]\tvalid_0's rmse: 0.898577\n",
      "[241]\tvalid_0's rmse: 0.898511\n",
      "[242]\tvalid_0's rmse: 0.898473\n",
      "[243]\tvalid_0's rmse: 0.898426\n",
      "[244]\tvalid_0's rmse: 0.898375\n",
      "[245]\tvalid_0's rmse: 0.898359\n",
      "[246]\tvalid_0's rmse: 0.898352\n",
      "[247]\tvalid_0's rmse: 0.898319\n",
      "[248]\tvalid_0's rmse: 0.898237\n",
      "[249]\tvalid_0's rmse: 0.89822\n",
      "[250]\tvalid_0's rmse: 0.898192\n",
      "[251]\tvalid_0's rmse: 0.89816\n",
      "[252]\tvalid_0's rmse: 0.898144\n",
      "[253]\tvalid_0's rmse: 0.898126\n",
      "[254]\tvalid_0's rmse: 0.898115\n",
      "[255]\tvalid_0's rmse: 0.898082\n",
      "[256]\tvalid_0's rmse: 0.898028\n",
      "[257]\tvalid_0's rmse: 0.898017\n",
      "[258]\tvalid_0's rmse: 0.897997\n",
      "[259]\tvalid_0's rmse: 0.897982\n",
      "[260]\tvalid_0's rmse: 0.897966\n",
      "[261]\tvalid_0's rmse: 0.897963\n",
      "[262]\tvalid_0's rmse: 0.897942\n",
      "[263]\tvalid_0's rmse: 0.897938\n",
      "[264]\tvalid_0's rmse: 0.897935\n",
      "[265]\tvalid_0's rmse: 0.897907\n",
      "[266]\tvalid_0's rmse: 0.897902\n",
      "[267]\tvalid_0's rmse: 0.897891\n",
      "[268]\tvalid_0's rmse: 0.897862\n",
      "[269]\tvalid_0's rmse: 0.897841\n",
      "[270]\tvalid_0's rmse: 0.897816\n",
      "[271]\tvalid_0's rmse: 0.897794\n",
      "[272]\tvalid_0's rmse: 0.897781\n",
      "[273]\tvalid_0's rmse: 0.897764\n",
      "[274]\tvalid_0's rmse: 0.897749\n",
      "[275]\tvalid_0's rmse: 0.897745\n",
      "[276]\tvalid_0's rmse: 0.897732\n",
      "[277]\tvalid_0's rmse: 0.897732\n",
      "[278]\tvalid_0's rmse: 0.897725\n",
      "[279]\tvalid_0's rmse: 0.897709\n",
      "[280]\tvalid_0's rmse: 0.897698\n",
      "[281]\tvalid_0's rmse: 0.897666\n",
      "[282]\tvalid_0's rmse: 0.897671\n",
      "[283]\tvalid_0's rmse: 0.897663\n",
      "[284]\tvalid_0's rmse: 0.897635\n",
      "[285]\tvalid_0's rmse: 0.89759\n",
      "[286]\tvalid_0's rmse: 0.897581\n",
      "[287]\tvalid_0's rmse: 0.897564\n",
      "[288]\tvalid_0's rmse: 0.897529\n",
      "[289]\tvalid_0's rmse: 0.897496\n",
      "[290]\tvalid_0's rmse: 0.897462\n",
      "[291]\tvalid_0's rmse: 0.897395\n",
      "[292]\tvalid_0's rmse: 0.897389\n",
      "[293]\tvalid_0's rmse: 0.897387\n",
      "[294]\tvalid_0's rmse: 0.897346\n",
      "[295]\tvalid_0's rmse: 0.89733\n",
      "[296]\tvalid_0's rmse: 0.897304\n",
      "[297]\tvalid_0's rmse: 0.897298\n",
      "[298]\tvalid_0's rmse: 0.897291\n",
      "[299]\tvalid_0's rmse: 0.897279\n",
      "[300]\tvalid_0's rmse: 0.897253\n",
      "[301]\tvalid_0's rmse: 0.897246\n",
      "[302]\tvalid_0's rmse: 0.897211\n",
      "[303]\tvalid_0's rmse: 0.897211\n",
      "[304]\tvalid_0's rmse: 0.897201\n",
      "[305]\tvalid_0's rmse: 0.897178\n",
      "[306]\tvalid_0's rmse: 0.897183\n",
      "[1]\tvalid_0's rmse: 0.918091\n",
      "[2]\tvalid_0's rmse: 0.917233\n",
      "[3]\tvalid_0's rmse: 0.916502\n",
      "[4]\tvalid_0's rmse: 0.915822\n",
      "[5]\tvalid_0's rmse: 0.915194\n",
      "[6]\tvalid_0's rmse: 0.914661\n",
      "[7]\tvalid_0's rmse: 0.914147\n",
      "[8]\tvalid_0's rmse: 0.913706\n",
      "[9]\tvalid_0's rmse: 0.913307\n",
      "[10]\tvalid_0's rmse: 0.912954\n",
      "[11]\tvalid_0's rmse: 0.912645\n",
      "[12]\tvalid_0's rmse: 0.912389\n",
      "[13]\tvalid_0's rmse: 0.912097\n",
      "[14]\tvalid_0's rmse: 0.91186\n",
      "[15]\tvalid_0's rmse: 0.911642\n",
      "[16]\tvalid_0's rmse: 0.91141\n",
      "[17]\tvalid_0's rmse: 0.911175\n",
      "[18]\tvalid_0's rmse: 0.91095\n",
      "[19]\tvalid_0's rmse: 0.910717\n",
      "[20]\tvalid_0's rmse: 0.91054\n",
      "[21]\tvalid_0's rmse: 0.910324\n",
      "[22]\tvalid_0's rmse: 0.91008\n",
      "[23]\tvalid_0's rmse: 0.909858\n",
      "[24]\tvalid_0's rmse: 0.909714\n",
      "[25]\tvalid_0's rmse: 0.909589\n",
      "[26]\tvalid_0's rmse: 0.90943\n",
      "[27]\tvalid_0's rmse: 0.909274\n",
      "[28]\tvalid_0's rmse: 0.909076\n",
      "[29]\tvalid_0's rmse: 0.90893\n",
      "[30]\tvalid_0's rmse: 0.908746\n",
      "[31]\tvalid_0's rmse: 0.908647\n",
      "[32]\tvalid_0's rmse: 0.90851\n",
      "[33]\tvalid_0's rmse: 0.908399\n",
      "[34]\tvalid_0's rmse: 0.908251\n",
      "[35]\tvalid_0's rmse: 0.908095\n",
      "[36]\tvalid_0's rmse: 0.907909\n",
      "[37]\tvalid_0's rmse: 0.907782\n",
      "[38]\tvalid_0's rmse: 0.907616\n",
      "[39]\tvalid_0's rmse: 0.907511\n",
      "[40]\tvalid_0's rmse: 0.907387\n",
      "[41]\tvalid_0's rmse: 0.907257\n",
      "[42]\tvalid_0's rmse: 0.907137\n",
      "[43]\tvalid_0's rmse: 0.90699\n",
      "[44]\tvalid_0's rmse: 0.906894\n",
      "[45]\tvalid_0's rmse: 0.906786\n",
      "[46]\tvalid_0's rmse: 0.906664\n",
      "[47]\tvalid_0's rmse: 0.906568\n",
      "[48]\tvalid_0's rmse: 0.906439\n",
      "[49]\tvalid_0's rmse: 0.906369\n",
      "[50]\tvalid_0's rmse: 0.90626\n",
      "[51]\tvalid_0's rmse: 0.906195\n",
      "[52]\tvalid_0's rmse: 0.906098\n",
      "[53]\tvalid_0's rmse: 0.905997\n",
      "[54]\tvalid_0's rmse: 0.905907\n",
      "[55]\tvalid_0's rmse: 0.905793\n",
      "[56]\tvalid_0's rmse: 0.905704\n",
      "[57]\tvalid_0's rmse: 0.905531\n",
      "[58]\tvalid_0's rmse: 0.905399\n",
      "[59]\tvalid_0's rmse: 0.905313\n",
      "[60]\tvalid_0's rmse: 0.905231\n",
      "[61]\tvalid_0's rmse: 0.90513\n",
      "[62]\tvalid_0's rmse: 0.905066\n",
      "[63]\tvalid_0's rmse: 0.904944\n",
      "[64]\tvalid_0's rmse: 0.904869\n",
      "[65]\tvalid_0's rmse: 0.904754\n",
      "[66]\tvalid_0's rmse: 0.904657\n",
      "[67]\tvalid_0's rmse: 0.904571\n",
      "[68]\tvalid_0's rmse: 0.904488\n",
      "[69]\tvalid_0's rmse: 0.904425\n",
      "[70]\tvalid_0's rmse: 0.90436\n",
      "[71]\tvalid_0's rmse: 0.90427\n",
      "[72]\tvalid_0's rmse: 0.904054\n",
      "[73]\tvalid_0's rmse: 0.903956\n",
      "[74]\tvalid_0's rmse: 0.903883\n",
      "[75]\tvalid_0's rmse: 0.903746\n",
      "[76]\tvalid_0's rmse: 0.903671\n",
      "[77]\tvalid_0's rmse: 0.903615\n",
      "[78]\tvalid_0's rmse: 0.903553\n",
      "[79]\tvalid_0's rmse: 0.903503\n",
      "[80]\tvalid_0's rmse: 0.903419\n",
      "[81]\tvalid_0's rmse: 0.903371\n",
      "[82]\tvalid_0's rmse: 0.903264\n",
      "[83]\tvalid_0's rmse: 0.903174\n",
      "[84]\tvalid_0's rmse: 0.903102\n",
      "[85]\tvalid_0's rmse: 0.903045\n",
      "[86]\tvalid_0's rmse: 0.902966\n",
      "[87]\tvalid_0's rmse: 0.902919\n",
      "[88]\tvalid_0's rmse: 0.902868\n",
      "[89]\tvalid_0's rmse: 0.902758\n",
      "[90]\tvalid_0's rmse: 0.902698\n",
      "[91]\tvalid_0's rmse: 0.902615\n",
      "[92]\tvalid_0's rmse: 0.902564\n",
      "[93]\tvalid_0's rmse: 0.902502\n",
      "[94]\tvalid_0's rmse: 0.902437\n",
      "[95]\tvalid_0's rmse: 0.902335\n",
      "[96]\tvalid_0's rmse: 0.902283\n",
      "[97]\tvalid_0's rmse: 0.902219\n",
      "[98]\tvalid_0's rmse: 0.902179\n",
      "[99]\tvalid_0's rmse: 0.902121\n",
      "[100]\tvalid_0's rmse: 0.90208\n",
      "[101]\tvalid_0's rmse: 0.901993\n",
      "[102]\tvalid_0's rmse: 0.901893\n",
      "[103]\tvalid_0's rmse: 0.901776\n",
      "[104]\tvalid_0's rmse: 0.901636\n",
      "[105]\tvalid_0's rmse: 0.901607\n",
      "[106]\tvalid_0's rmse: 0.901527\n",
      "[107]\tvalid_0's rmse: 0.901453\n",
      "[108]\tvalid_0's rmse: 0.901398\n",
      "[109]\tvalid_0's rmse: 0.901356\n",
      "[110]\tvalid_0's rmse: 0.901249\n",
      "[111]\tvalid_0's rmse: 0.901197\n",
      "[112]\tvalid_0's rmse: 0.90117\n",
      "[113]\tvalid_0's rmse: 0.901059\n",
      "[114]\tvalid_0's rmse: 0.900981\n",
      "[115]\tvalid_0's rmse: 0.900937\n",
      "[116]\tvalid_0's rmse: 0.9009\n",
      "[117]\tvalid_0's rmse: 0.900836\n",
      "[118]\tvalid_0's rmse: 0.900807\n",
      "[119]\tvalid_0's rmse: 0.900767\n",
      "[120]\tvalid_0's rmse: 0.900681\n",
      "[121]\tvalid_0's rmse: 0.900661\n",
      "[122]\tvalid_0's rmse: 0.9006\n",
      "[123]\tvalid_0's rmse: 0.900566\n",
      "[124]\tvalid_0's rmse: 0.900496\n",
      "[125]\tvalid_0's rmse: 0.900403\n",
      "[126]\tvalid_0's rmse: 0.900298\n",
      "[127]\tvalid_0's rmse: 0.900267\n",
      "[128]\tvalid_0's rmse: 0.900225\n",
      "[129]\tvalid_0's rmse: 0.900175\n",
      "[130]\tvalid_0's rmse: 0.900141\n",
      "[131]\tvalid_0's rmse: 0.900104\n",
      "[132]\tvalid_0's rmse: 0.900077\n",
      "[133]\tvalid_0's rmse: 0.900044\n",
      "[134]\tvalid_0's rmse: 0.89992\n",
      "[135]\tvalid_0's rmse: 0.899861\n",
      "[136]\tvalid_0's rmse: 0.89981\n",
      "[137]\tvalid_0's rmse: 0.899763\n",
      "[138]\tvalid_0's rmse: 0.899722\n",
      "[139]\tvalid_0's rmse: 0.899654\n",
      "[140]\tvalid_0's rmse: 0.899577\n",
      "[141]\tvalid_0's rmse: 0.899545\n",
      "[142]\tvalid_0's rmse: 0.899521\n",
      "[143]\tvalid_0's rmse: 0.899508\n",
      "[144]\tvalid_0's rmse: 0.899487\n",
      "[145]\tvalid_0's rmse: 0.899415\n",
      "[146]\tvalid_0's rmse: 0.899341\n",
      "[147]\tvalid_0's rmse: 0.899288\n",
      "[148]\tvalid_0's rmse: 0.899254\n",
      "[149]\tvalid_0's rmse: 0.899211\n",
      "[150]\tvalid_0's rmse: 0.89911\n",
      "[151]\tvalid_0's rmse: 0.899072\n",
      "[152]\tvalid_0's rmse: 0.89906\n",
      "[153]\tvalid_0's rmse: 0.899017\n",
      "[154]\tvalid_0's rmse: 0.898989\n",
      "[155]\tvalid_0's rmse: 0.898977\n",
      "[156]\tvalid_0's rmse: 0.898939\n",
      "[157]\tvalid_0's rmse: 0.898902\n",
      "[158]\tvalid_0's rmse: 0.898858\n",
      "[159]\tvalid_0's rmse: 0.898831\n",
      "[160]\tvalid_0's rmse: 0.898802\n",
      "[161]\tvalid_0's rmse: 0.898755\n",
      "[162]\tvalid_0's rmse: 0.898733\n",
      "[163]\tvalid_0's rmse: 0.898707\n",
      "[164]\tvalid_0's rmse: 0.8987\n",
      "[165]\tvalid_0's rmse: 0.898669\n",
      "[166]\tvalid_0's rmse: 0.898608\n",
      "[167]\tvalid_0's rmse: 0.898561\n",
      "[168]\tvalid_0's rmse: 0.898556\n",
      "[169]\tvalid_0's rmse: 0.898508\n",
      "[170]\tvalid_0's rmse: 0.898491\n",
      "[171]\tvalid_0's rmse: 0.898444\n",
      "[172]\tvalid_0's rmse: 0.8984\n",
      "[173]\tvalid_0's rmse: 0.898374\n",
      "[174]\tvalid_0's rmse: 0.898362\n",
      "[175]\tvalid_0's rmse: 0.898306\n",
      "[176]\tvalid_0's rmse: 0.898195\n",
      "[177]\tvalid_0's rmse: 0.898182\n",
      "[178]\tvalid_0's rmse: 0.898145\n",
      "[179]\tvalid_0's rmse: 0.898128\n",
      "[180]\tvalid_0's rmse: 0.898076\n",
      "[181]\tvalid_0's rmse: 0.898008\n",
      "[182]\tvalid_0's rmse: 0.897997\n",
      "[183]\tvalid_0's rmse: 0.897976\n",
      "[184]\tvalid_0's rmse: 0.897948\n",
      "[185]\tvalid_0's rmse: 0.897889\n",
      "[186]\tvalid_0's rmse: 0.897871\n",
      "[187]\tvalid_0's rmse: 0.897793\n",
      "[188]\tvalid_0's rmse: 0.897762\n",
      "[189]\tvalid_0's rmse: 0.897746\n",
      "[190]\tvalid_0's rmse: 0.897668\n",
      "[191]\tvalid_0's rmse: 0.897626\n",
      "[192]\tvalid_0's rmse: 0.897614\n",
      "[193]\tvalid_0's rmse: 0.897587\n",
      "[194]\tvalid_0's rmse: 0.897548\n",
      "[195]\tvalid_0's rmse: 0.897522\n",
      "[196]\tvalid_0's rmse: 0.897469\n",
      "[197]\tvalid_0's rmse: 0.89744\n",
      "[198]\tvalid_0's rmse: 0.897413\n",
      "[199]\tvalid_0's rmse: 0.897403\n",
      "[200]\tvalid_0's rmse: 0.897377\n",
      "[201]\tvalid_0's rmse: 0.897313\n",
      "[202]\tvalid_0's rmse: 0.89723\n",
      "[203]\tvalid_0's rmse: 0.89718\n",
      "[204]\tvalid_0's rmse: 0.89717\n",
      "[205]\tvalid_0's rmse: 0.897143\n",
      "[206]\tvalid_0's rmse: 0.897115\n",
      "[207]\tvalid_0's rmse: 0.89703\n",
      "[208]\tvalid_0's rmse: 0.896958\n",
      "[209]\tvalid_0's rmse: 0.896909\n",
      "[210]\tvalid_0's rmse: 0.896895\n",
      "[211]\tvalid_0's rmse: 0.896873\n",
      "[212]\tvalid_0's rmse: 0.896862\n",
      "[213]\tvalid_0's rmse: 0.89685\n",
      "[214]\tvalid_0's rmse: 0.896848\n",
      "[215]\tvalid_0's rmse: 0.896843\n",
      "[216]\tvalid_0's rmse: 0.896821\n",
      "[217]\tvalid_0's rmse: 0.896791\n",
      "[218]\tvalid_0's rmse: 0.896771\n",
      "[219]\tvalid_0's rmse: 0.896765\n",
      "[220]\tvalid_0's rmse: 0.896706\n",
      "[221]\tvalid_0's rmse: 0.896682\n",
      "[222]\tvalid_0's rmse: 0.896656\n",
      "[223]\tvalid_0's rmse: 0.896629\n",
      "[224]\tvalid_0's rmse: 0.896612\n",
      "[225]\tvalid_0's rmse: 0.896599\n",
      "[226]\tvalid_0's rmse: 0.896561\n",
      "[227]\tvalid_0's rmse: 0.896521\n",
      "[228]\tvalid_0's rmse: 0.896487\n",
      "[229]\tvalid_0's rmse: 0.896448\n",
      "[230]\tvalid_0's rmse: 0.896428\n",
      "[231]\tvalid_0's rmse: 0.896399\n",
      "[232]\tvalid_0's rmse: 0.896394\n",
      "[233]\tvalid_0's rmse: 0.896396\n",
      "[234]\tvalid_0's rmse: 0.896372\n",
      "[235]\tvalid_0's rmse: 0.896373\n",
      "[236]\tvalid_0's rmse: 0.896324\n",
      "[237]\tvalid_0's rmse: 0.896309\n",
      "[238]\tvalid_0's rmse: 0.896283\n",
      "[239]\tvalid_0's rmse: 0.896271\n",
      "[240]\tvalid_0's rmse: 0.896249\n",
      "[241]\tvalid_0's rmse: 0.896241\n",
      "[242]\tvalid_0's rmse: 0.896235\n",
      "[243]\tvalid_0's rmse: 0.896228\n",
      "[244]\tvalid_0's rmse: 0.896181\n",
      "[245]\tvalid_0's rmse: 0.89617\n",
      "[246]\tvalid_0's rmse: 0.896132\n",
      "[247]\tvalid_0's rmse: 0.896114\n",
      "[248]\tvalid_0's rmse: 0.896107\n",
      "[249]\tvalid_0's rmse: 0.896096\n",
      "[250]\tvalid_0's rmse: 0.896068\n",
      "[251]\tvalid_0's rmse: 0.896067\n",
      "[252]\tvalid_0's rmse: 0.896066\n",
      "[253]\tvalid_0's rmse: 0.896045\n",
      "[254]\tvalid_0's rmse: 0.896012\n",
      "[255]\tvalid_0's rmse: 0.896005\n",
      "[256]\tvalid_0's rmse: 0.895932\n",
      "[257]\tvalid_0's rmse: 0.895916\n",
      "[258]\tvalid_0's rmse: 0.89589\n",
      "[259]\tvalid_0's rmse: 0.89588\n",
      "[260]\tvalid_0's rmse: 0.895851\n",
      "[261]\tvalid_0's rmse: 0.895843\n",
      "[262]\tvalid_0's rmse: 0.895825\n",
      "[263]\tvalid_0's rmse: 0.895806\n",
      "[264]\tvalid_0's rmse: 0.895797\n",
      "[265]\tvalid_0's rmse: 0.895788\n",
      "[266]\tvalid_0's rmse: 0.895779\n",
      "[267]\tvalid_0's rmse: 0.895725\n",
      "[268]\tvalid_0's rmse: 0.895719\n",
      "[269]\tvalid_0's rmse: 0.895711\n",
      "[270]\tvalid_0's rmse: 0.895678\n",
      "[271]\tvalid_0's rmse: 0.895671\n",
      "[272]\tvalid_0's rmse: 0.895645\n",
      "[273]\tvalid_0's rmse: 0.895593\n",
      "[274]\tvalid_0's rmse: 0.895581\n",
      "[275]\tvalid_0's rmse: 0.895556\n",
      "[276]\tvalid_0's rmse: 0.895553\n",
      "[277]\tvalid_0's rmse: 0.895489\n",
      "[278]\tvalid_0's rmse: 0.895469\n",
      "[279]\tvalid_0's rmse: 0.895473\n",
      "[280]\tvalid_0's rmse: 0.895455\n",
      "[281]\tvalid_0's rmse: 0.895449\n",
      "[282]\tvalid_0's rmse: 0.895373\n",
      "[283]\tvalid_0's rmse: 0.895355\n",
      "[284]\tvalid_0's rmse: 0.895343\n",
      "[285]\tvalid_0's rmse: 0.895341\n",
      "[286]\tvalid_0's rmse: 0.895303\n",
      "[287]\tvalid_0's rmse: 0.895284\n",
      "[288]\tvalid_0's rmse: 0.895255\n",
      "[289]\tvalid_0's rmse: 0.895212\n",
      "[290]\tvalid_0's rmse: 0.895174\n",
      "[291]\tvalid_0's rmse: 0.895171\n",
      "[292]\tvalid_0's rmse: 0.895165\n",
      "[293]\tvalid_0's rmse: 0.895145\n",
      "[294]\tvalid_0's rmse: 0.895051\n",
      "[295]\tvalid_0's rmse: 0.895046\n",
      "[296]\tvalid_0's rmse: 0.895029\n",
      "[297]\tvalid_0's rmse: 0.895019\n",
      "[298]\tvalid_0's rmse: 0.895018\n",
      "[299]\tvalid_0's rmse: 0.894993\n",
      "[300]\tvalid_0's rmse: 0.894985\n",
      "[301]\tvalid_0's rmse: 0.894964\n",
      "[302]\tvalid_0's rmse: 0.894964\n",
      "[303]\tvalid_0's rmse: 0.894956\n",
      "[304]\tvalid_0's rmse: 0.894921\n",
      "[305]\tvalid_0's rmse: 0.894892\n",
      "[306]\tvalid_0's rmse: 0.894892\n",
      "[1]\tvalid_0's rmse: 0.917533\n",
      "[2]\tvalid_0's rmse: 0.916678\n",
      "[3]\tvalid_0's rmse: 0.915886\n",
      "[4]\tvalid_0's rmse: 0.91526\n",
      "[5]\tvalid_0's rmse: 0.914624\n",
      "[6]\tvalid_0's rmse: 0.914091\n",
      "[7]\tvalid_0's rmse: 0.913618\n",
      "[8]\tvalid_0's rmse: 0.913159\n",
      "[9]\tvalid_0's rmse: 0.912769\n",
      "[10]\tvalid_0's rmse: 0.912372\n",
      "[11]\tvalid_0's rmse: 0.912046\n",
      "[12]\tvalid_0's rmse: 0.911727\n",
      "[13]\tvalid_0's rmse: 0.911447\n",
      "[14]\tvalid_0's rmse: 0.911179\n",
      "[15]\tvalid_0's rmse: 0.910904\n",
      "[16]\tvalid_0's rmse: 0.910663\n",
      "[17]\tvalid_0's rmse: 0.910459\n",
      "[18]\tvalid_0's rmse: 0.910277\n",
      "[19]\tvalid_0's rmse: 0.910029\n",
      "[20]\tvalid_0's rmse: 0.9098\n",
      "[21]\tvalid_0's rmse: 0.909608\n",
      "[22]\tvalid_0's rmse: 0.909448\n",
      "[23]\tvalid_0's rmse: 0.909245\n",
      "[24]\tvalid_0's rmse: 0.909083\n",
      "[25]\tvalid_0's rmse: 0.908922\n",
      "[26]\tvalid_0's rmse: 0.90878\n",
      "[27]\tvalid_0's rmse: 0.908633\n",
      "[28]\tvalid_0's rmse: 0.908501\n",
      "[29]\tvalid_0's rmse: 0.908296\n",
      "[30]\tvalid_0's rmse: 0.908093\n",
      "[31]\tvalid_0's rmse: 0.907971\n",
      "[32]\tvalid_0's rmse: 0.907849\n",
      "[33]\tvalid_0's rmse: 0.907672\n",
      "[34]\tvalid_0's rmse: 0.907537\n",
      "[35]\tvalid_0's rmse: 0.907417\n",
      "[36]\tvalid_0's rmse: 0.907329\n",
      "[37]\tvalid_0's rmse: 0.907216\n",
      "[38]\tvalid_0's rmse: 0.907076\n",
      "[39]\tvalid_0's rmse: 0.906894\n",
      "[40]\tvalid_0's rmse: 0.906753\n",
      "[41]\tvalid_0's rmse: 0.906662\n",
      "[42]\tvalid_0's rmse: 0.906569\n",
      "[43]\tvalid_0's rmse: 0.906414\n",
      "[44]\tvalid_0's rmse: 0.906324\n",
      "[45]\tvalid_0's rmse: 0.906173\n",
      "[46]\tvalid_0's rmse: 0.906068\n",
      "[47]\tvalid_0's rmse: 0.905914\n",
      "[48]\tvalid_0's rmse: 0.905821\n",
      "[49]\tvalid_0's rmse: 0.905702\n",
      "[50]\tvalid_0's rmse: 0.905572\n",
      "[51]\tvalid_0's rmse: 0.905504\n",
      "[52]\tvalid_0's rmse: 0.905429\n",
      "[53]\tvalid_0's rmse: 0.905301\n",
      "[54]\tvalid_0's rmse: 0.90511\n",
      "[55]\tvalid_0's rmse: 0.90502\n",
      "[56]\tvalid_0's rmse: 0.904944\n",
      "[57]\tvalid_0's rmse: 0.904846\n",
      "[58]\tvalid_0's rmse: 0.904764\n",
      "[59]\tvalid_0's rmse: 0.90466\n",
      "[60]\tvalid_0's rmse: 0.904558\n",
      "[61]\tvalid_0's rmse: 0.904404\n",
      "[62]\tvalid_0's rmse: 0.904301\n",
      "[63]\tvalid_0's rmse: 0.904161\n",
      "[64]\tvalid_0's rmse: 0.904083\n",
      "[65]\tvalid_0's rmse: 0.903994\n",
      "[66]\tvalid_0's rmse: 0.903902\n",
      "[67]\tvalid_0's rmse: 0.903827\n",
      "[68]\tvalid_0's rmse: 0.903751\n",
      "[69]\tvalid_0's rmse: 0.903673\n",
      "[70]\tvalid_0's rmse: 0.903616\n",
      "[71]\tvalid_0's rmse: 0.903558\n",
      "[72]\tvalid_0's rmse: 0.903482\n",
      "[73]\tvalid_0's rmse: 0.903416\n",
      "[74]\tvalid_0's rmse: 0.903367\n",
      "[75]\tvalid_0's rmse: 0.903265\n",
      "[76]\tvalid_0's rmse: 0.903177\n",
      "[77]\tvalid_0's rmse: 0.903069\n",
      "[78]\tvalid_0's rmse: 0.903008\n",
      "[79]\tvalid_0's rmse: 0.902936\n",
      "[80]\tvalid_0's rmse: 0.902874\n",
      "[81]\tvalid_0's rmse: 0.902814\n",
      "[82]\tvalid_0's rmse: 0.90272\n",
      "[83]\tvalid_0's rmse: 0.902666\n",
      "[84]\tvalid_0's rmse: 0.902594\n",
      "[85]\tvalid_0's rmse: 0.902539\n",
      "[86]\tvalid_0's rmse: 0.902429\n",
      "[87]\tvalid_0's rmse: 0.902337\n",
      "[88]\tvalid_0's rmse: 0.902273\n",
      "[89]\tvalid_0's rmse: 0.902217\n",
      "[90]\tvalid_0's rmse: 0.902072\n",
      "[91]\tvalid_0's rmse: 0.901983\n",
      "[92]\tvalid_0's rmse: 0.901883\n",
      "[93]\tvalid_0's rmse: 0.901817\n",
      "[94]\tvalid_0's rmse: 0.901764\n",
      "[95]\tvalid_0's rmse: 0.901689\n",
      "[96]\tvalid_0's rmse: 0.901589\n",
      "[97]\tvalid_0's rmse: 0.901519\n",
      "[98]\tvalid_0's rmse: 0.901426\n",
      "[99]\tvalid_0's rmse: 0.901305\n",
      "[100]\tvalid_0's rmse: 0.901248\n",
      "[101]\tvalid_0's rmse: 0.901172\n",
      "[102]\tvalid_0's rmse: 0.901136\n",
      "[103]\tvalid_0's rmse: 0.901095\n",
      "[104]\tvalid_0's rmse: 0.901038\n",
      "[105]\tvalid_0's rmse: 0.900967\n",
      "[106]\tvalid_0's rmse: 0.900929\n",
      "[107]\tvalid_0's rmse: 0.900853\n",
      "[108]\tvalid_0's rmse: 0.900824\n",
      "[109]\tvalid_0's rmse: 0.900778\n",
      "[110]\tvalid_0's rmse: 0.900621\n",
      "[111]\tvalid_0's rmse: 0.900591\n",
      "[112]\tvalid_0's rmse: 0.900559\n",
      "[113]\tvalid_0's rmse: 0.900523\n",
      "[114]\tvalid_0's rmse: 0.900448\n",
      "[115]\tvalid_0's rmse: 0.900376\n",
      "[116]\tvalid_0's rmse: 0.900328\n",
      "[117]\tvalid_0's rmse: 0.900267\n",
      "[118]\tvalid_0's rmse: 0.900228\n",
      "[119]\tvalid_0's rmse: 0.900105\n",
      "[120]\tvalid_0's rmse: 0.900075\n",
      "[121]\tvalid_0's rmse: 0.899996\n",
      "[122]\tvalid_0's rmse: 0.899928\n",
      "[123]\tvalid_0's rmse: 0.899849\n",
      "[124]\tvalid_0's rmse: 0.899801\n",
      "[125]\tvalid_0's rmse: 0.899767\n",
      "[126]\tvalid_0's rmse: 0.899745\n",
      "[127]\tvalid_0's rmse: 0.899714\n",
      "[128]\tvalid_0's rmse: 0.899636\n",
      "[129]\tvalid_0's rmse: 0.899585\n",
      "[130]\tvalid_0's rmse: 0.899491\n",
      "[131]\tvalid_0's rmse: 0.899451\n",
      "[132]\tvalid_0's rmse: 0.899418\n",
      "[133]\tvalid_0's rmse: 0.899388\n",
      "[134]\tvalid_0's rmse: 0.899355\n",
      "[135]\tvalid_0's rmse: 0.899303\n",
      "[136]\tvalid_0's rmse: 0.899204\n",
      "[137]\tvalid_0's rmse: 0.899113\n",
      "[138]\tvalid_0's rmse: 0.89905\n",
      "[139]\tvalid_0's rmse: 0.899005\n",
      "[140]\tvalid_0's rmse: 0.898983\n",
      "[141]\tvalid_0's rmse: 0.898917\n",
      "[142]\tvalid_0's rmse: 0.898826\n",
      "[143]\tvalid_0's rmse: 0.898799\n",
      "[144]\tvalid_0's rmse: 0.898755\n",
      "[145]\tvalid_0's rmse: 0.898734\n",
      "[146]\tvalid_0's rmse: 0.898652\n",
      "[147]\tvalid_0's rmse: 0.898609\n",
      "[148]\tvalid_0's rmse: 0.898486\n",
      "[149]\tvalid_0's rmse: 0.898459\n",
      "[150]\tvalid_0's rmse: 0.898378\n",
      "[151]\tvalid_0's rmse: 0.898337\n",
      "[152]\tvalid_0's rmse: 0.898248\n",
      "[153]\tvalid_0's rmse: 0.898226\n",
      "[154]\tvalid_0's rmse: 0.89814\n",
      "[155]\tvalid_0's rmse: 0.898108\n",
      "[156]\tvalid_0's rmse: 0.898046\n",
      "[157]\tvalid_0's rmse: 0.897989\n",
      "[158]\tvalid_0's rmse: 0.897944\n",
      "[159]\tvalid_0's rmse: 0.897913\n",
      "[160]\tvalid_0's rmse: 0.897883\n",
      "[161]\tvalid_0's rmse: 0.897853\n",
      "[162]\tvalid_0's rmse: 0.89784\n",
      "[163]\tvalid_0's rmse: 0.897727\n",
      "[164]\tvalid_0's rmse: 0.897689\n",
      "[165]\tvalid_0's rmse: 0.897678\n",
      "[166]\tvalid_0's rmse: 0.897594\n",
      "[167]\tvalid_0's rmse: 0.89752\n",
      "[168]\tvalid_0's rmse: 0.897493\n",
      "[169]\tvalid_0's rmse: 0.897443\n",
      "[170]\tvalid_0's rmse: 0.897415\n",
      "[171]\tvalid_0's rmse: 0.897393\n",
      "[172]\tvalid_0's rmse: 0.897344\n",
      "[173]\tvalid_0's rmse: 0.89728\n",
      "[174]\tvalid_0's rmse: 0.897253\n",
      "[175]\tvalid_0's rmse: 0.897245\n",
      "[176]\tvalid_0's rmse: 0.897214\n",
      "[177]\tvalid_0's rmse: 0.897168\n",
      "[178]\tvalid_0's rmse: 0.89713\n",
      "[179]\tvalid_0's rmse: 0.897113\n",
      "[180]\tvalid_0's rmse: 0.897021\n",
      "[181]\tvalid_0's rmse: 0.896971\n",
      "[182]\tvalid_0's rmse: 0.896925\n",
      "[183]\tvalid_0's rmse: 0.896912\n",
      "[184]\tvalid_0's rmse: 0.896883\n",
      "[185]\tvalid_0's rmse: 0.896863\n",
      "[186]\tvalid_0's rmse: 0.896847\n",
      "[187]\tvalid_0's rmse: 0.896778\n",
      "[188]\tvalid_0's rmse: 0.896749\n",
      "[189]\tvalid_0's rmse: 0.896706\n",
      "[190]\tvalid_0's rmse: 0.896695\n",
      "[191]\tvalid_0's rmse: 0.896655\n",
      "[192]\tvalid_0's rmse: 0.896654\n",
      "[193]\tvalid_0's rmse: 0.896586\n",
      "[194]\tvalid_0's rmse: 0.896577\n",
      "[195]\tvalid_0's rmse: 0.896548\n",
      "[196]\tvalid_0's rmse: 0.896541\n",
      "[197]\tvalid_0's rmse: 0.896489\n",
      "[198]\tvalid_0's rmse: 0.896486\n",
      "[199]\tvalid_0's rmse: 0.896459\n",
      "[200]\tvalid_0's rmse: 0.896426\n",
      "[201]\tvalid_0's rmse: 0.896411\n",
      "[202]\tvalid_0's rmse: 0.896388\n",
      "[203]\tvalid_0's rmse: 0.896375\n",
      "[204]\tvalid_0's rmse: 0.896352\n",
      "[205]\tvalid_0's rmse: 0.896347\n",
      "[206]\tvalid_0's rmse: 0.896292\n",
      "[207]\tvalid_0's rmse: 0.896293\n",
      "[208]\tvalid_0's rmse: 0.896293\n",
      "[209]\tvalid_0's rmse: 0.896279\n",
      "[210]\tvalid_0's rmse: 0.896249\n",
      "[211]\tvalid_0's rmse: 0.896237\n",
      "[212]\tvalid_0's rmse: 0.896186\n",
      "[213]\tvalid_0's rmse: 0.896183\n",
      "[214]\tvalid_0's rmse: 0.896156\n",
      "[215]\tvalid_0's rmse: 0.896143\n",
      "[216]\tvalid_0's rmse: 0.896066\n",
      "[217]\tvalid_0's rmse: 0.896055\n",
      "[218]\tvalid_0's rmse: 0.896049\n",
      "[219]\tvalid_0's rmse: 0.896015\n",
      "[220]\tvalid_0's rmse: 0.895972\n",
      "[221]\tvalid_0's rmse: 0.895957\n",
      "[222]\tvalid_0's rmse: 0.895935\n",
      "[223]\tvalid_0's rmse: 0.895898\n",
      "[224]\tvalid_0's rmse: 0.895868\n",
      "[225]\tvalid_0's rmse: 0.895843\n",
      "[226]\tvalid_0's rmse: 0.895808\n",
      "[227]\tvalid_0's rmse: 0.895738\n",
      "[228]\tvalid_0's rmse: 0.895731\n",
      "[229]\tvalid_0's rmse: 0.895688\n",
      "[230]\tvalid_0's rmse: 0.895675\n",
      "[231]\tvalid_0's rmse: 0.895661\n",
      "[232]\tvalid_0's rmse: 0.895595\n",
      "[233]\tvalid_0's rmse: 0.895568\n",
      "[234]\tvalid_0's rmse: 0.895557\n",
      "[235]\tvalid_0's rmse: 0.89555\n",
      "[236]\tvalid_0's rmse: 0.895518\n",
      "[237]\tvalid_0's rmse: 0.89551\n",
      "[238]\tvalid_0's rmse: 0.895488\n",
      "[239]\tvalid_0's rmse: 0.89547\n",
      "[240]\tvalid_0's rmse: 0.89544\n",
      "[241]\tvalid_0's rmse: 0.895434\n",
      "[242]\tvalid_0's rmse: 0.89541\n",
      "[243]\tvalid_0's rmse: 0.895355\n",
      "[244]\tvalid_0's rmse: 0.895335\n",
      "[245]\tvalid_0's rmse: 0.895315\n",
      "[246]\tvalid_0's rmse: 0.895302\n",
      "[247]\tvalid_0's rmse: 0.895256\n",
      "[248]\tvalid_0's rmse: 0.895244\n",
      "[249]\tvalid_0's rmse: 0.895247\n",
      "[250]\tvalid_0's rmse: 0.895237\n",
      "[251]\tvalid_0's rmse: 0.895213\n",
      "[252]\tvalid_0's rmse: 0.895158\n",
      "[253]\tvalid_0's rmse: 0.895119\n",
      "[254]\tvalid_0's rmse: 0.895108\n",
      "[255]\tvalid_0's rmse: 0.895077\n",
      "[256]\tvalid_0's rmse: 0.895073\n",
      "[257]\tvalid_0's rmse: 0.895044\n",
      "[258]\tvalid_0's rmse: 0.895015\n",
      "[259]\tvalid_0's rmse: 0.894981\n",
      "[260]\tvalid_0's rmse: 0.894974\n",
      "[261]\tvalid_0's rmse: 0.894944\n",
      "[262]\tvalid_0's rmse: 0.894913\n",
      "[263]\tvalid_0's rmse: 0.894891\n",
      "[264]\tvalid_0's rmse: 0.894848\n",
      "[265]\tvalid_0's rmse: 0.894828\n",
      "[266]\tvalid_0's rmse: 0.894826\n",
      "[267]\tvalid_0's rmse: 0.894812\n",
      "[268]\tvalid_0's rmse: 0.894768\n",
      "[269]\tvalid_0's rmse: 0.894758\n",
      "[270]\tvalid_0's rmse: 0.894754\n",
      "[271]\tvalid_0's rmse: 0.89475\n",
      "[272]\tvalid_0's rmse: 0.894733\n",
      "[273]\tvalid_0's rmse: 0.894709\n",
      "[274]\tvalid_0's rmse: 0.894707\n",
      "[275]\tvalid_0's rmse: 0.894703\n",
      "[276]\tvalid_0's rmse: 0.894695\n",
      "[277]\tvalid_0's rmse: 0.89469\n",
      "[278]\tvalid_0's rmse: 0.894676\n",
      "[279]\tvalid_0's rmse: 0.894633\n",
      "[280]\tvalid_0's rmse: 0.894611\n",
      "[281]\tvalid_0's rmse: 0.894603\n",
      "[282]\tvalid_0's rmse: 0.894593\n",
      "[283]\tvalid_0's rmse: 0.894593\n",
      "[284]\tvalid_0's rmse: 0.894547\n",
      "[285]\tvalid_0's rmse: 0.894537\n",
      "[286]\tvalid_0's rmse: 0.894522\n",
      "[287]\tvalid_0's rmse: 0.894513\n",
      "[288]\tvalid_0's rmse: 0.894501\n",
      "[289]\tvalid_0's rmse: 0.894467\n",
      "[290]\tvalid_0's rmse: 0.894464\n",
      "[291]\tvalid_0's rmse: 0.894456\n",
      "[292]\tvalid_0's rmse: 0.894433\n",
      "[293]\tvalid_0's rmse: 0.894415\n",
      "[294]\tvalid_0's rmse: 0.894401\n",
      "[295]\tvalid_0's rmse: 0.894347\n",
      "[296]\tvalid_0's rmse: 0.894343\n",
      "[297]\tvalid_0's rmse: 0.894312\n",
      "[298]\tvalid_0's rmse: 0.894285\n",
      "[299]\tvalid_0's rmse: 0.894288\n",
      "[300]\tvalid_0's rmse: 0.894277\n",
      "[301]\tvalid_0's rmse: 0.894246\n",
      "[302]\tvalid_0's rmse: 0.894229\n",
      "[303]\tvalid_0's rmse: 0.894173\n",
      "[304]\tvalid_0's rmse: 0.894162\n",
      "[305]\tvalid_0's rmse: 0.894146\n",
      "[306]\tvalid_0's rmse: 0.894137\n"
     ]
    },
    {
     "data": {
      "text/plain": [
       "0"
      ]
     },
     "execution_count": 13,
     "metadata": {},
     "output_type": "execute_result"
    }
   ],
   "source": [
    "seed = 0\n",
    "folds = 3\n",
    "models = []\n",
    "\n",
    "skf = StratifiedKFold(folds, shuffle = True, random_state = seed)\n",
    "\n",
    "for train_index, test_index in skf.split(train_df, train_df['investment_id']):\n",
    "    train = train_df.iloc[train_index]\n",
    "    valid = train_df.iloc[test_index]\n",
    "    \n",
    "    lgbm = LGBMRegressor(**params)\n",
    "    '''\n",
    "        num_leaves=2 ** np.random.randint(3, 8),\n",
    "        learning_rate = 10 ** (-np.random.uniform(0.1,2)),\n",
    "        n_estimators = 500,\n",
    "        min_child_samples = 1000, \n",
    "        subsample=np.random.uniform(0.5,1.0), \n",
    "        subsample_freq=1,\n",
    "        n_jobs= -1,\n",
    "        tree_method ='gpu_hist' ,\n",
    "    '''\n",
    "    \n",
    "    lgbm.fit(train[feature_cols], train['target'], eval_set = (valid[feature_cols], valid['target']))\n",
    "    models.append(lgbm)\n",
    "    gc.collect()\n",
    "gc.collect()"
   ]
  },
  {
   "cell_type": "markdown",
   "id": "75f49a65",
   "metadata": {
    "papermill": {
     "duration": 0.372567,
     "end_time": "2022-04-10T02:36:48.408320",
     "exception": false,
     "start_time": "2022-04-10T02:36:48.035753",
     "status": "completed"
    },
    "tags": []
   },
   "source": [
    "- 머신러닝을 통해 나온 결과로 feature 별 중요도 그래프"
   ]
  },
  {
   "cell_type": "code",
   "execution_count": 14,
   "id": "4ed7a02c",
   "metadata": {
    "execution": {
     "iopub.execute_input": "2022-04-10T02:36:49.207510Z",
     "iopub.status.busy": "2022-04-10T02:36:49.206770Z",
     "iopub.status.idle": "2022-04-10T02:36:54.765552Z",
     "shell.execute_reply": "2022-04-10T02:36:54.766092Z"
    },
    "papermill": {
     "duration": 5.968846,
     "end_time": "2022-04-10T02:36:54.766278",
     "exception": false,
     "start_time": "2022-04-10T02:36:48.797432",
     "status": "completed"
    },
    "tags": []
   },
   "outputs": [
    {
     "data": {
      "text/plain": [
       "260"
      ]
     },
     "execution_count": 14,
     "metadata": {},
     "output_type": "execute_result"
    },
    {
     "data": {
      "image/png": "[encoded data removed]",
      "text/plain": [
       "<Figure size 1440x4320 with 1 Axes>"
      ]
     },
     "metadata": {
      "needs_background": "light"
     },
     "output_type": "display_data"
    }
   ],
   "source": [
    "import lightgbm\n",
    "lightgbm.plot_importance(lgbm, figsize = (20, 60))\n",
    "gc.collect()"
   ]
  },
  {
   "cell_type": "markdown",
   "id": "cc993a60",
   "metadata": {
    "papermill": {
     "duration": 0.382858,
     "end_time": "2022-04-10T02:36:55.548028",
     "exception": false,
     "start_time": "2022-04-10T02:36:55.165170",
     "status": "completed"
    },
    "tags": []
   },
   "source": [
    "# Step 6. 예측 및 제출"
   ]
  },
  {
   "cell_type": "markdown",
   "id": "dcd07904",
   "metadata": {
    "papermill": {
     "duration": 0.411159,
     "end_time": "2022-04-10T02:36:56.346261",
     "exception": false,
     "start_time": "2022-04-10T02:36:55.935102",
     "status": "completed"
    },
    "tags": []
   },
   "source": [
    "- 주최측에서 제공하는 API를 통해 제출"
   ]
  },
  {
   "cell_type": "code",
   "execution_count": 15,
   "id": "3d49064d",
   "metadata": {
    "execution": {
     "iopub.execute_input": "2022-04-10T02:36:57.110451Z",
     "iopub.status.busy": "2022-04-10T02:36:57.109679Z",
     "iopub.status.idle": "2022-04-10T02:36:57.132574Z",
     "shell.execute_reply": "2022-04-10T02:36:57.133134Z"
    },
    "papermill": {
     "duration": 0.407949,
     "end_time": "2022-04-10T02:36:57.133337",
     "exception": false,
     "start_time": "2022-04-10T02:36:56.725388",
     "status": "completed"
    },
    "tags": []
   },
   "outputs": [],
   "source": [
    "import ubiquant\n",
    "env = ubiquant.make_env()   # initialize the environment\n",
    "iter_test = env.iter_test()    # an iterator which loops over the test set and sample submission\n"
   ]
  },
  {
   "cell_type": "code",
   "execution_count": 16,
   "id": "5b282db7",
   "metadata": {
    "execution": {
     "iopub.execute_input": "2022-04-10T02:36:57.901711Z",
     "iopub.status.busy": "2022-04-10T02:36:57.900937Z",
     "iopub.status.idle": "2022-04-10T02:36:58.042418Z",
     "shell.execute_reply": "2022-04-10T02:36:58.042973Z"
    },
    "papermill": {
     "duration": 0.52875,
     "end_time": "2022-04-10T02:36:58.043225",
     "exception": false,
     "start_time": "2022-04-10T02:36:57.514475",
     "status": "completed"
    },
    "tags": []
   },
   "outputs": [
    {
     "name": "stdout",
     "output_type": "stream",
     "text": [
      "This version of the API is not optimized and should not be used to estimate the runtime of your code on the hidden test set.\n"
     ]
    }
   ],
   "source": [
    "for (test_df, sample_prediction_df) in iter_test:\n",
    "    \n",
    "    test_df['target']  = 0\n",
    "    \n",
    "    for lgbm in models:\n",
    "        test_df['target'] += lgbm.predict(test_df[feature_cols])\n",
    "    test_df['target'] /= len(models)\n",
    "    env.predict(test_df[['row_id','target']])"
   ]
  },
  {
   "cell_type": "markdown",
   "id": "e1fa3196",
   "metadata": {
    "papermill": {
     "duration": 0.432935,
     "end_time": "2022-04-10T02:36:58.947175",
     "exception": false,
     "start_time": "2022-04-10T02:36:58.514240",
     "status": "completed"
    },
    "tags": []
   },
   "source": [
    "# References :    \n",
    "https://www.kaggle.com/code/yoshikuwano/fast-read-data-and-memory-optimization/notebook   \n",
    "https://www.kaggle.com/code/rohanrao/tutorial-on-reading-large-datasets/notebook#Format:-csv   \n",
    "https://www.kaggle.com/code/sytuannguyen/ubiquant-data-preparation#3.-Save-the-reduced-dataframe   \n",
    "https://www.kaggle.com/code/jnegrini/ubiquant-eda    \n",
    "https://www.kaggle.com/code/gunesevitan/ubiquant-market-prediction-eda/notebook#3.-Target   \n",
    "https://www.kaggle.com/code/ilialar/ubiquant-eda-and-baseline#Features    \n",
    "https://www.kaggle.com/competitions/ubiquant-market-prediction/data    \n",
    "https://www.kaggle.com/code/larochemf/ubiquant-low-memory-use-be-careful/notebook    \n",
    "https://www.kaggle.com/code/robikscube/fast-data-loading-and-low-mem-with-parquet-files/notebook    \n",
    "https://www.kaggle.com/code/lucamassaron/eda-target-analysis       \n",
    "https://www.kaggle.com/code/edwardcrookenden/eda-and-lgbm-baseline-feature-imp    \n",
    "https://www.kaggle.com/competitions/ubiquant-market-prediction/discussion/305031    \n",
    "https://www.kaggle.com/code/junjitakeshima/ubiquant-simple-lgbm-removing-outliers-en-jp/notebook#(1)-Read-Trainiing-Data    \n",
    "https://www.kaggle.com/code/valleyzw/ubiquant-lgbm-baseline/notebook#Stock-market-calendar-analysis:-discussion     \n",
    "https://www.kaggle.com/code/sytuannguyen/ubiquant-with-lightgbm   \n",
    "https://www.kaggle.com/code/jiprud/simple-light-gbm   \n",
    "https://www.kaggle.com/code/ilialar/ubiquant-eda-and-baseline#Model-training"
   ]
  }
 ],
 "metadata": {
  "kernelspec": {
   "display_name": "Python 3",
   "language": "python",
   "name": "python3"
  },
  "language_info": {
   "codemirror_mode": {
    "name": "ipython",
    "version": 3
   },
   "file_extension": ".py",
   "mimetype": "text/x-python",
   "name": "python",
   "nbconvert_exporter": "python",
   "pygments_lexer": "ipython3",
   "version": "3.7.12"
  },
  "papermill": {
   "default_parameters": {},
   "duration": 1576.835403,
   "end_time": "2022-04-10T02:37:00.952756",
   "environment_variables": {},
   "exception": null,
   "input_path": "__notebook__.ipynb",
   "output_path": "__notebook__.ipynb",
   "parameters": {},
   "start_time": "2022-04-10T02:10:44.117353",
   "version": "2.3.3"
  }
 },
 "nbformat": 4,
 "nbformat_minor": 5
}
