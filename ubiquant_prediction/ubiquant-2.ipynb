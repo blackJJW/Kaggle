{
 "cells": [
  {
   "cell_type": "markdown",
   "id": "3cff945c",
   "metadata": {
    "papermill": {
     "duration": 0.031985,
     "end_time": "2022-04-10T04:29:40.468923",
     "exception": false,
     "start_time": "2022-04-10T04:29:40.436938",
     "status": "completed"
    },
    "tags": []
   },
   "source": [
    "# 프로젝트 개요\n",
    "- 강의명 : 2022년 K-디지털 직업훈련(Training) 사업 - AI데이터플랫폼을 활용한 빅데이터 분석전문가 과정\n",
    "- 교과목명 : 빅데이터 분석 및 시각화, AI개발 기초, 인공지능 프로그래밍\n",
    "- 프로젝트 주제 : Ubiquant Market 데이터를 활용한 미래 투자 예측\n",
    "- 프로젝트 마감일 : 2022년 4월 12일 화요일\n",
    "- 강사명 : 정지훈 강사\n",
    "- 수강생명 : 정진우"
   ]
  },
  {
   "cell_type": "markdown",
   "id": "29d5ac7f",
   "metadata": {
    "papermill": {
     "duration": 0.028889,
     "end_time": "2022-04-10T04:29:40.527958",
     "exception": false,
     "start_time": "2022-04-10T04:29:40.499069",
     "status": "completed"
    },
    "tags": []
   },
   "source": [
    "## < Score Improvement History >\n",
    "|#|> std * x|k-fold|score|\n",
    "|:-:|:-:|:-:|:-:|\n",
    "|1|> std * 70|3|0.1388|\n",
    "|2|> std * 60|3|0.1387|\n",
    "|3|> std * 50|3|0.1378|\n",
    "|4|> std * 40|3|0.1366|\n",
    "|5|> std * 30|3||\n",
    "|6|> std * 80|3||"
   ]
  },
  {
   "cell_type": "markdown",
   "id": "f163b651",
   "metadata": {
    "papermill": {
     "duration": 0.028788,
     "end_time": "2022-04-10T04:29:40.586069",
     "exception": false,
     "start_time": "2022-04-10T04:29:40.557281",
     "status": "completed"
    },
    "tags": []
   },
   "source": [
    "# Step 1 ~ 3 :    \n",
    "https://www.kaggle.com/code/blackjjw/ubiquant-eda\n",
    "## dataset :   \n",
    "https://www.kaggle.com/datasets/blackjjw/ubiquant-train-df-low-memory-pkl"
   ]
  },
  {
   "cell_type": "markdown",
   "id": "86c134b8",
   "metadata": {
    "papermill": {
     "duration": 0.028891,
     "end_time": "2022-04-10T04:29:40.644109",
     "exception": false,
     "start_time": "2022-04-10T04:29:40.615218",
     "status": "completed"
    },
    "tags": []
   },
   "source": [
    "# 라이브러리 불러오기"
   ]
  },
  {
   "cell_type": "code",
   "execution_count": 1,
   "id": "1473032e",
   "metadata": {
    "_cell_guid": "b1076dfc-b9ad-4769-8c92-a6c4dae69d19",
    "_uuid": "8f2839f25d086af736a60e9eeb907d3b93b6e0e5",
    "execution": {
     "iopub.execute_input": "2022-04-10T04:29:40.716457Z",
     "iopub.status.busy": "2022-04-10T04:29:40.715758Z",
     "iopub.status.idle": "2022-04-10T04:29:43.168850Z",
     "shell.execute_reply": "2022-04-10T04:29:43.168041Z",
     "shell.execute_reply.started": "2022-04-10T04:28:44.783860Z"
    },
    "papermill": {
     "duration": 2.495681,
     "end_time": "2022-04-10T04:29:43.169034",
     "exception": false,
     "start_time": "2022-04-10T04:29:40.673353",
     "status": "completed"
    },
    "tags": []
   },
   "outputs": [
    {
     "data": {
      "text/html": [
       "<style type='text/css'>\n",
       ".datatable table.frame { margin-bottom: 0; }\n",
       ".datatable table.frame thead { border-bottom: none; }\n",
       ".datatable table.frame tr.coltypes td {  color: #FFFFFF;  line-height: 6px;  padding: 0 0.5em;}\n",
       ".datatable .bool    { background: #DDDD99; }\n",
       ".datatable .object  { background: #565656; }\n",
       ".datatable .int     { background: #5D9E5D; }\n",
       ".datatable .float   { background: #4040CC; }\n",
       ".datatable .str     { background: #CC4040; }\n",
       ".datatable .time    { background: #40CC40; }\n",
       ".datatable .row_index {  background: var(--jp-border-color3);  border-right: 1px solid var(--jp-border-color0);  color: var(--jp-ui-font-color3);  font-size: 9px;}\n",
       ".datatable .frame tbody td { text-align: left; }\n",
       ".datatable .frame tr.coltypes .row_index {  background: var(--jp-border-color0);}\n",
       ".datatable th:nth-child(2) { padding-left: 12px; }\n",
       ".datatable .hellipsis {  color: var(--jp-cell-editor-border-color);}\n",
       ".datatable .vellipsis {  background: var(--jp-layout-color0);  color: var(--jp-cell-editor-border-color);}\n",
       ".datatable .na {  color: var(--jp-cell-editor-border-color);  font-size: 80%;}\n",
       ".datatable .sp {  opacity: 0.25;}\n",
       ".datatable .footer { font-size: 9px; }\n",
       ".datatable .frame_dimensions {  background: var(--jp-border-color3);  border-top: 1px solid var(--jp-border-color0);  color: var(--jp-ui-font-color3);  display: inline-block;  opacity: 0.6;  padding: 1px 10px 1px 5px;}\n",
       "</style>\n"
      ],
      "text/plain": [
       "<IPython.core.display.HTML object>"
      ]
     },
     "metadata": {},
     "output_type": "display_data"
    }
   ],
   "source": [
    "import numpy as np\n",
    "import pandas as pd\n",
    "\n",
    "import gc\n",
    "import joblib\n",
    "\n",
    "import matplotlib.pyplot as plt\n",
    "%matplotlib inline\n",
    "import seaborn as sns\n",
    "import scipy as stats\n",
    "\n",
    "from sklearn import preprocessing\n",
    "from sklearn.model_selection import StratifiedKFold \n",
    "from sklearn.model_selection import GroupKFold\n",
    "from sklearn.model_selection import train_test_split\n",
    "from sklearn.metrics import mean_squared_error, mean_absolute_error, accuracy_score, confusion_matrix\n",
    "from sklearn.ensemble import RandomForestRegressor\n",
    "\n",
    "import lightgbm as lgbm\n",
    "from lightgbm import *"
   ]
  },
  {
   "cell_type": "markdown",
   "id": "8739bbfa",
   "metadata": {
    "papermill": {
     "duration": 0.029842,
     "end_time": "2022-04-10T04:29:43.230115",
     "exception": false,
     "start_time": "2022-04-10T04:29:43.200273",
     "status": "completed"
    },
    "tags": []
   },
   "source": [
    "# 데이터 불러오기\n",
    "- Step 1 ~ 3에서 진행하고 생성한 train_df.pkl를 read."
   ]
  },
  {
   "cell_type": "code",
   "execution_count": 2,
   "id": "b3523acb",
   "metadata": {
    "execution": {
     "iopub.execute_input": "2022-04-10T04:29:43.296644Z",
     "iopub.status.busy": "2022-04-10T04:29:43.295567Z",
     "iopub.status.idle": "2022-04-10T04:30:03.399616Z",
     "shell.execute_reply": "2022-04-10T04:30:03.398571Z",
     "shell.execute_reply.started": "2022-04-10T04:28:46.959873Z"
    },
    "papermill": {
     "duration": 20.139452,
     "end_time": "2022-04-10T04:30:03.399840",
     "exception": false,
     "start_time": "2022-04-10T04:29:43.260388",
     "status": "completed"
    },
    "tags": []
   },
   "outputs": [
    {
     "name": "stdout",
     "output_type": "stream",
     "text": [
      "CPU times: user 1.1 s, sys: 2.4 s, total: 3.49 s\n",
      "Wall time: 20 s\n"
     ]
    },
    {
     "data": {
      "text/html": [
       "<div>\n",
       "<style scoped>\n",
       "    .dataframe tbody tr th:only-of-type {\n",
       "        vertical-align: middle;\n",
       "    }\n",
       "\n",
       "    .dataframe tbody tr th {\n",
       "        vertical-align: top;\n",
       "    }\n",
       "\n",
       "    .dataframe thead th {\n",
       "        text-align: right;\n",
       "    }\n",
       "</style>\n",
       "<table border=\"1\" class=\"dataframe\">\n",
       "  <thead>\n",
       "    <tr style=\"text-align: right;\">\n",
       "      <th></th>\n",
       "      <th>row_id</th>\n",
       "      <th>time_id</th>\n",
       "      <th>investment_id</th>\n",
       "      <th>target</th>\n",
       "      <th>f_0</th>\n",
       "      <th>f_1</th>\n",
       "      <th>f_2</th>\n",
       "      <th>f_3</th>\n",
       "      <th>f_4</th>\n",
       "      <th>f_5</th>\n",
       "      <th>...</th>\n",
       "      <th>f_290</th>\n",
       "      <th>f_291</th>\n",
       "      <th>f_292</th>\n",
       "      <th>f_293</th>\n",
       "      <th>f_294</th>\n",
       "      <th>f_295</th>\n",
       "      <th>f_296</th>\n",
       "      <th>f_297</th>\n",
       "      <th>f_298</th>\n",
       "      <th>f_299</th>\n",
       "    </tr>\n",
       "  </thead>\n",
       "  <tbody>\n",
       "    <tr>\n",
       "      <th>0</th>\n",
       "      <td>0_1</td>\n",
       "      <td>0</td>\n",
       "      <td>1</td>\n",
       "      <td>-0.300781</td>\n",
       "      <td>0.932617</td>\n",
       "      <td>0.113708</td>\n",
       "      <td>-0.402100</td>\n",
       "      <td>0.378418</td>\n",
       "      <td>-0.203979</td>\n",
       "      <td>-0.413574</td>\n",
       "      <td>...</td>\n",
       "      <td>0.365967</td>\n",
       "      <td>-1.095703</td>\n",
       "      <td>0.200073</td>\n",
       "      <td>0.819336</td>\n",
       "      <td>0.941406</td>\n",
       "      <td>-0.086792</td>\n",
       "      <td>-1.086914</td>\n",
       "      <td>-1.044922</td>\n",
       "      <td>-0.287598</td>\n",
       "      <td>0.321533</td>\n",
       "    </tr>\n",
       "    <tr>\n",
       "      <th>1</th>\n",
       "      <td>0_2</td>\n",
       "      <td>0</td>\n",
       "      <td>2</td>\n",
       "      <td>-0.231079</td>\n",
       "      <td>0.811035</td>\n",
       "      <td>-0.514160</td>\n",
       "      <td>0.742188</td>\n",
       "      <td>-0.616699</td>\n",
       "      <td>-0.194214</td>\n",
       "      <td>1.771484</td>\n",
       "      <td>...</td>\n",
       "      <td>-0.154175</td>\n",
       "      <td>0.912598</td>\n",
       "      <td>-0.734375</td>\n",
       "      <td>0.819336</td>\n",
       "      <td>0.941406</td>\n",
       "      <td>-0.387695</td>\n",
       "      <td>-1.086914</td>\n",
       "      <td>-0.929688</td>\n",
       "      <td>-0.974121</td>\n",
       "      <td>-0.343506</td>\n",
       "    </tr>\n",
       "    <tr>\n",
       "      <th>2</th>\n",
       "      <td>0_6</td>\n",
       "      <td>0</td>\n",
       "      <td>6</td>\n",
       "      <td>0.568848</td>\n",
       "      <td>0.394043</td>\n",
       "      <td>0.615723</td>\n",
       "      <td>0.567871</td>\n",
       "      <td>-0.607910</td>\n",
       "      <td>0.068909</td>\n",
       "      <td>-1.083008</td>\n",
       "      <td>...</td>\n",
       "      <td>-0.138062</td>\n",
       "      <td>0.912598</td>\n",
       "      <td>-0.551758</td>\n",
       "      <td>-1.220703</td>\n",
       "      <td>-1.060547</td>\n",
       "      <td>-0.219116</td>\n",
       "      <td>-1.086914</td>\n",
       "      <td>-0.612305</td>\n",
       "      <td>-0.113953</td>\n",
       "      <td>0.243652</td>\n",
       "    </tr>\n",
       "    <tr>\n",
       "      <th>3</th>\n",
       "      <td>0_7</td>\n",
       "      <td>0</td>\n",
       "      <td>7</td>\n",
       "      <td>-1.064453</td>\n",
       "      <td>-2.343750</td>\n",
       "      <td>-0.011871</td>\n",
       "      <td>1.875000</td>\n",
       "      <td>-0.606445</td>\n",
       "      <td>-0.586914</td>\n",
       "      <td>-0.815918</td>\n",
       "      <td>...</td>\n",
       "      <td>0.382080</td>\n",
       "      <td>0.912598</td>\n",
       "      <td>-0.266357</td>\n",
       "      <td>-1.220703</td>\n",
       "      <td>0.941406</td>\n",
       "      <td>-0.608887</td>\n",
       "      <td>0.104919</td>\n",
       "      <td>-0.783203</td>\n",
       "      <td>1.151367</td>\n",
       "      <td>-0.773438</td>\n",
       "    </tr>\n",
       "    <tr>\n",
       "      <th>4</th>\n",
       "      <td>0_8</td>\n",
       "      <td>0</td>\n",
       "      <td>8</td>\n",
       "      <td>-0.531738</td>\n",
       "      <td>0.842285</td>\n",
       "      <td>-0.262939</td>\n",
       "      <td>2.330078</td>\n",
       "      <td>-0.583496</td>\n",
       "      <td>-0.618164</td>\n",
       "      <td>-0.742676</td>\n",
       "      <td>...</td>\n",
       "      <td>-0.170410</td>\n",
       "      <td>0.912598</td>\n",
       "      <td>-0.741211</td>\n",
       "      <td>-1.220703</td>\n",
       "      <td>0.941406</td>\n",
       "      <td>-0.588379</td>\n",
       "      <td>0.104919</td>\n",
       "      <td>0.753418</td>\n",
       "      <td>1.345703</td>\n",
       "      <td>-0.737793</td>\n",
       "    </tr>\n",
       "  </tbody>\n",
       "</table>\n",
       "<p>5 rows × 304 columns</p>\n",
       "</div>"
      ],
      "text/plain": [
       "  row_id  time_id  investment_id    target       f_0       f_1       f_2  \\\n",
       "0    0_1        0              1 -0.300781  0.932617  0.113708 -0.402100   \n",
       "1    0_2        0              2 -0.231079  0.811035 -0.514160  0.742188   \n",
       "2    0_6        0              6  0.568848  0.394043  0.615723  0.567871   \n",
       "3    0_7        0              7 -1.064453 -2.343750 -0.011871  1.875000   \n",
       "4    0_8        0              8 -0.531738  0.842285 -0.262939  2.330078   \n",
       "\n",
       "        f_3       f_4       f_5  ...     f_290     f_291     f_292     f_293  \\\n",
       "0  0.378418 -0.203979 -0.413574  ...  0.365967 -1.095703  0.200073  0.819336   \n",
       "1 -0.616699 -0.194214  1.771484  ... -0.154175  0.912598 -0.734375  0.819336   \n",
       "2 -0.607910  0.068909 -1.083008  ... -0.138062  0.912598 -0.551758 -1.220703   \n",
       "3 -0.606445 -0.586914 -0.815918  ...  0.382080  0.912598 -0.266357 -1.220703   \n",
       "4 -0.583496 -0.618164 -0.742676  ... -0.170410  0.912598 -0.741211 -1.220703   \n",
       "\n",
       "      f_294     f_295     f_296     f_297     f_298     f_299  \n",
       "0  0.941406 -0.086792 -1.086914 -1.044922 -0.287598  0.321533  \n",
       "1  0.941406 -0.387695 -1.086914 -0.929688 -0.974121 -0.343506  \n",
       "2 -1.060547 -0.219116 -1.086914 -0.612305 -0.113953  0.243652  \n",
       "3  0.941406 -0.608887  0.104919 -0.783203  1.151367 -0.773438  \n",
       "4  0.941406 -0.588379  0.104919  0.753418  1.345703 -0.737793  \n",
       "\n",
       "[5 rows x 304 columns]"
      ]
     },
     "execution_count": 2,
     "metadata": {},
     "output_type": "execute_result"
    }
   ],
   "source": [
    "%%time\n",
    "train_df = pd.read_pickle('../input/ubiquant-train-df-low-memory-pkl/train_df.pkl')\n",
    "train_df.head()"
   ]
  },
  {
   "cell_type": "markdown",
   "id": "a31dce3b",
   "metadata": {
    "papermill": {
     "duration": 0.032308,
     "end_time": "2022-04-10T04:30:03.466486",
     "exception": false,
     "start_time": "2022-04-10T04:30:03.434178",
     "status": "completed"
    },
    "tags": []
   },
   "source": [
    "# Step 4. 데이터 전처리"
   ]
  },
  {
   "cell_type": "markdown",
   "id": "94056ef3",
   "metadata": {
    "papermill": {
     "duration": 0.036209,
     "end_time": "2022-04-10T04:30:03.534302",
     "exception": false,
     "start_time": "2022-04-10T04:30:03.498093",
     "status": "completed"
    },
    "tags": []
   },
   "source": [
    "## 필요없는 컬럼 제거\n",
    "- row_id는 단순 행 번호를 나타내므로 제거.\n",
    "- 컬럼 리스트를 따로 생성하고 'row_id' 제거.\n",
    "- 'time_id' 제거\n",
    "- 종속변수인 'target' 제거.\n",
    "- 필요없는 컬럼이 생성된 리스트를 통해 필요한 컬럼들만 추출하여 사용."
   ]
  },
  {
   "cell_type": "code",
   "execution_count": 3,
   "id": "b57f9eef",
   "metadata": {
    "execution": {
     "iopub.execute_input": "2022-04-10T04:30:03.613951Z",
     "iopub.status.busy": "2022-04-10T04:30:03.612747Z",
     "iopub.status.idle": "2022-04-10T04:30:03.617405Z",
     "shell.execute_reply": "2022-04-10T04:30:03.616783Z",
     "shell.execute_reply.started": "2022-04-10T04:29:03.879392Z"
    },
    "papermill": {
     "duration": 0.051165,
     "end_time": "2022-04-10T04:30:03.617586",
     "exception": false,
     "start_time": "2022-04-10T04:30:03.566421",
     "status": "completed"
    },
    "tags": []
   },
   "outputs": [
    {
     "data": {
      "text/plain": [
       "Index(['investment_id', 'f_0', 'f_1', 'f_2', 'f_3', 'f_4', 'f_5', 'f_6', 'f_7',\n",
       "       'f_8',\n",
       "       ...\n",
       "       'f_290', 'f_291', 'f_292', 'f_293', 'f_294', 'f_295', 'f_296', 'f_297',\n",
       "       'f_298', 'f_299'],\n",
       "      dtype='object', length=301)"
      ]
     },
     "execution_count": 3,
     "metadata": {},
     "output_type": "execute_result"
    }
   ],
   "source": [
    "feature_cols = train_df.columns.unique()\n",
    "feature_cols = feature_cols.drop(['row_id', 'target', 'time_id'])\n",
    "feature_cols"
   ]
  },
  {
   "cell_type": "markdown",
   "id": "74de2765",
   "metadata": {
    "papermill": {
     "duration": 0.031721,
     "end_time": "2022-04-10T04:30:03.686118",
     "exception": false,
     "start_time": "2022-04-10T04:30:03.654397",
     "status": "completed"
    },
    "tags": []
   },
   "source": [
    "## 결측치 제거\n",
    "- dataset 내에 결측치가 존재하지 않음."
   ]
  },
  {
   "cell_type": "markdown",
   "id": "52e17d69",
   "metadata": {
    "papermill": {
     "duration": 0.031222,
     "end_time": "2022-04-10T04:30:03.749030",
     "exception": false,
     "start_time": "2022-04-10T04:30:03.717808",
     "status": "completed"
    },
    "tags": []
   },
   "source": [
    "## 이상치 제거\n",
    "- 평균에서 멀리 떨어져 있는 값들을 제거 (> std*num)"
   ]
  },
  {
   "cell_type": "markdown",
   "id": "c4cbf0d2",
   "metadata": {
    "papermill": {
     "duration": 0.031379,
     "end_time": "2022-04-10T04:30:03.812000",
     "exception": false,
     "start_time": "2022-04-10T04:30:03.780621",
     "status": "completed"
    },
    "tags": []
   },
   "source": [
    "## mean > std * x\n",
    "- 이상치의 개수와 리스트를 반환\n",
    "|x|outlier count|\n",
    "|:-----:|:-----:|\n",
    "|70|128|\n",
    "|60|325|\n",
    "|50|788|\n",
    "|40|2232|\n",
    "|30|5707|"
   ]
  },
  {
   "cell_type": "code",
   "execution_count": 4,
   "id": "4237f5d4",
   "metadata": {
    "execution": {
     "iopub.execute_input": "2022-04-10T04:30:03.886219Z",
     "iopub.status.busy": "2022-04-10T04:30:03.885017Z",
     "iopub.status.idle": "2022-04-10T04:30:20.993751Z",
     "shell.execute_reply": "2022-04-10T04:30:20.994522Z",
     "shell.execute_reply.started": "2022-04-10T04:29:03.892020Z"
    },
    "papermill": {
     "duration": 17.151239,
     "end_time": "2022-04-10T04:30:20.994757",
     "exception": false,
     "start_time": "2022-04-10T04:30:03.843518",
     "status": "completed"
    },
    "tags": []
   },
   "outputs": [
    {
     "name": "stdout",
     "output_type": "stream",
     "text": [
      "f_115 5\n",
      "f_117 3\n",
      "f_124 17\n",
      "f_127 1\n",
      "f_172 1\n",
      "f_175 4\n",
      "f_200 14\n",
      "f_280 1\n",
      "42\n"
     ]
    },
    {
     "data": {
      "text/plain": [
       "0"
      ]
     },
     "execution_count": 4,
     "metadata": {},
     "output_type": "execute_result"
    }
   ],
   "source": [
    "outlier_list = []\n",
    "num = 80\n",
    "\n",
    "for col in feature_cols :\n",
    "    trans_dtype_df = train_df[col].astype(np.float32)\n",
    "    \n",
    "    temp_df = train_df[(trans_dtype_df > trans_dtype_df.mean() + trans_dtype_df.std() * num) |\n",
    "                       (trans_dtype_df < trans_dtype_df.mean() - trans_dtype_df.std() * num) ]\n",
    "    if len(temp_df) >0 :\n",
    "        outliers = temp_df.index.to_list()\n",
    "        outlier_list.extend(outliers)\n",
    "        print(col, len(temp_df))\n",
    "        gc.collect()\n",
    "\n",
    "outlier_list = list(set(outlier_list))\n",
    "print(len(outlier_list))\n",
    "gc.collect()"
   ]
  },
  {
   "cell_type": "markdown",
   "id": "6e7c1019",
   "metadata": {
    "papermill": {
     "duration": 0.03449,
     "end_time": "2022-04-10T04:30:21.065248",
     "exception": false,
     "start_time": "2022-04-10T04:30:21.030758",
     "status": "completed"
    },
    "tags": []
   },
   "source": [
    "- 이상치 제거"
   ]
  },
  {
   "cell_type": "code",
   "execution_count": 5,
   "id": "b30cbad8",
   "metadata": {
    "execution": {
     "iopub.execute_input": "2022-04-10T04:30:21.136863Z",
     "iopub.status.busy": "2022-04-10T04:30:21.136165Z",
     "iopub.status.idle": "2022-04-10T04:30:29.686607Z",
     "shell.execute_reply": "2022-04-10T04:30:29.687109Z"
    },
    "papermill": {
     "duration": 8.587907,
     "end_time": "2022-04-10T04:30:29.687306",
     "exception": false,
     "start_time": "2022-04-10T04:30:21.099399",
     "status": "completed"
    },
    "tags": []
   },
   "outputs": [
    {
     "data": {
      "text/plain": [
       "21"
      ]
     },
     "execution_count": 5,
     "metadata": {},
     "output_type": "execute_result"
    }
   ],
   "source": [
    "train_df.drop(train_df.index[outlier_list], inplace = True)\n",
    "train_df\n",
    "gc.collect()"
   ]
  },
  {
   "cell_type": "markdown",
   "id": "bdb781ae",
   "metadata": {
    "papermill": {
     "duration": 0.034219,
     "end_time": "2022-04-10T04:30:29.756552",
     "exception": false,
     "start_time": "2022-04-10T04:30:29.722333",
     "status": "completed"
    },
    "tags": []
   },
   "source": [
    "# Step 5. 머신러닝 모형 개발"
   ]
  },
  {
   "cell_type": "markdown",
   "id": "2da6c5ca",
   "metadata": {
    "papermill": {
     "duration": 0.034255,
     "end_time": "2022-04-10T04:30:29.825226",
     "exception": false,
     "start_time": "2022-04-10T04:30:29.790971",
     "status": "completed"
    },
    "tags": []
   },
   "source": [
    "- 독립변수와 종속변수를 구분."
   ]
  },
  {
   "cell_type": "code",
   "execution_count": 6,
   "id": "3e770101",
   "metadata": {
    "execution": {
     "iopub.execute_input": "2022-04-10T04:30:29.898738Z",
     "iopub.status.busy": "2022-04-10T04:30:29.897852Z",
     "iopub.status.idle": "2022-04-10T04:30:29.900765Z",
     "shell.execute_reply": "2022-04-10T04:30:29.901237Z"
    },
    "papermill": {
     "duration": 0.041413,
     "end_time": "2022-04-10T04:30:29.901416",
     "exception": false,
     "start_time": "2022-04-10T04:30:29.860003",
     "status": "completed"
    },
    "tags": []
   },
   "outputs": [],
   "source": [
    "#X = train_df[feature_cols]\n",
    "#y = train_df['target']"
   ]
  },
  {
   "cell_type": "markdown",
   "id": "a534d5af",
   "metadata": {
    "papermill": {
     "duration": 0.034303,
     "end_time": "2022-04-10T04:30:29.970481",
     "exception": false,
     "start_time": "2022-04-10T04:30:29.936178",
     "status": "completed"
    },
    "tags": []
   },
   "source": [
    "- X, y 데이터 분리"
   ]
  },
  {
   "cell_type": "code",
   "execution_count": 7,
   "id": "79c5cb33",
   "metadata": {
    "execution": {
     "iopub.execute_input": "2022-04-10T04:30:30.043428Z",
     "iopub.status.busy": "2022-04-10T04:30:30.042741Z",
     "iopub.status.idle": "2022-04-10T04:30:30.046709Z",
     "shell.execute_reply": "2022-04-10T04:30:30.046014Z"
    },
    "papermill": {
     "duration": 0.041414,
     "end_time": "2022-04-10T04:30:30.046862",
     "exception": false,
     "start_time": "2022-04-10T04:30:30.005448",
     "status": "completed"
    },
    "tags": []
   },
   "outputs": [],
   "source": [
    "#X_train, X_valid, y_train, y_valid = train_test_split(X, y, test_size = 0.3, random_state = 42, shuffle = False)\n",
    "#X_train.shape, X_valid.shape, y_train.shape, y_valid.shape"
   ]
  },
  {
   "cell_type": "markdown",
   "id": "cb03dd41",
   "metadata": {
    "papermill": {
     "duration": 0.034643,
     "end_time": "2022-04-10T04:30:30.116493",
     "exception": false,
     "start_time": "2022-04-10T04:30:30.081850",
     "status": "completed"
    },
    "tags": []
   },
   "source": [
    "- RAM 확보를 위해 X, y 제거"
   ]
  },
  {
   "cell_type": "code",
   "execution_count": 8,
   "id": "b541097b",
   "metadata": {
    "execution": {
     "iopub.execute_input": "2022-04-10T04:30:30.190320Z",
     "iopub.status.busy": "2022-04-10T04:30:30.189624Z",
     "iopub.status.idle": "2022-04-10T04:30:30.194827Z",
     "shell.execute_reply": "2022-04-10T04:30:30.195429Z"
    },
    "papermill": {
     "duration": 0.044,
     "end_time": "2022-04-10T04:30:30.195613",
     "exception": false,
     "start_time": "2022-04-10T04:30:30.151613",
     "status": "completed"
    },
    "tags": []
   },
   "outputs": [
    {
     "data": {
      "text/plain": [
       "'\\ndel X\\ndel y\\ngc.collect()\\n'"
      ]
     },
     "execution_count": 8,
     "metadata": {},
     "output_type": "execute_result"
    }
   ],
   "source": [
    "'''\n",
    "del X\n",
    "del y\n",
    "gc.collect()\n",
    "'''"
   ]
  },
  {
   "cell_type": "markdown",
   "id": "5bee33f0",
   "metadata": {
    "papermill": {
     "duration": 0.03534,
     "end_time": "2022-04-10T04:30:30.266750",
     "exception": false,
     "start_time": "2022-04-10T04:30:30.231410",
     "status": "completed"
    },
    "tags": []
   },
   "source": [
    "- LightGBM 클래스를 부른 후 모형을 학습"
   ]
  },
  {
   "cell_type": "code",
   "execution_count": 9,
   "id": "208e1528",
   "metadata": {
    "execution": {
     "iopub.execute_input": "2022-04-10T04:30:30.341224Z",
     "iopub.status.busy": "2022-04-10T04:30:30.340526Z",
     "iopub.status.idle": "2022-04-10T04:30:30.344893Z",
     "shell.execute_reply": "2022-04-10T04:30:30.345512Z"
    },
    "papermill": {
     "duration": 0.043353,
     "end_time": "2022-04-10T04:30:30.345695",
     "exception": false,
     "start_time": "2022-04-10T04:30:30.302342",
     "status": "completed"
    },
    "tags": []
   },
   "outputs": [
    {
     "data": {
      "text/plain": [
       "'\\nmodel = lgbm.LGBMRegressor(\\n        objective=\"regression\",\\n        metric=\"rmse\",\\n        n_estimators=500 )\\n\\nmodel.fit(X_train, y_train)\\n'"
      ]
     },
     "execution_count": 9,
     "metadata": {},
     "output_type": "execute_result"
    }
   ],
   "source": [
    "'''\n",
    "model = lgbm.LGBMRegressor(\n",
    "        objective=\"regression\",\n",
    "        metric=\"rmse\",\n",
    "        n_estimators=500 )\n",
    "\n",
    "model.fit(X_train, y_train)\n",
    "'''"
   ]
  },
  {
   "cell_type": "code",
   "execution_count": 10,
   "id": "194616ee",
   "metadata": {
    "execution": {
     "iopub.execute_input": "2022-04-10T04:30:30.424088Z",
     "iopub.status.busy": "2022-04-10T04:30:30.423411Z",
     "iopub.status.idle": "2022-04-10T04:30:30.427416Z",
     "shell.execute_reply": "2022-04-10T04:30:30.426756Z"
    },
    "papermill": {
     "duration": 0.045692,
     "end_time": "2022-04-10T04:30:30.427557",
     "exception": false,
     "start_time": "2022-04-10T04:30:30.381865",
     "status": "completed"
    },
    "tags": []
   },
   "outputs": [
    {
     "data": {
      "text/plain": [
       "'\\nfor j in [200, 300, 400, 500, 600]:\\n        model = lgbm.LGBMRegressor(\\n            objective=\"regression\",\\n            metric=\"rmse\",\\n            n_estimators= j )\\n\\n        model.fit(X_train, y_train)\\n\\n        score = model.score(X_train, y_train)\\n        print(f\"n_e:{j}, Training Score : {score}\")\\n\\n        y_pred = model.predict(X_valid)\\n        mse = mean_squared_error(y_valid, y_pred)\\n        print(f\"n_e:{j},MSE : {mse:.2f}\")\\n'"
      ]
     },
     "execution_count": 10,
     "metadata": {},
     "output_type": "execute_result"
    }
   ],
   "source": [
    "\"\"\"\n",
    "for j in [200, 300, 400, 500, 600]:\n",
    "        model = lgbm.LGBMRegressor(\n",
    "            objective=\"regression\",\n",
    "            metric=\"rmse\",\n",
    "            n_estimators= j )\n",
    "\n",
    "        model.fit(X_train, y_train)\n",
    "\n",
    "        score = model.score(X_train, y_train)\n",
    "        print(f\"n_e:{j}, Training Score : {score}\")\n",
    "\n",
    "        y_pred = model.predict(X_valid)\n",
    "        mse = mean_squared_error(y_valid, y_pred)\n",
    "        print(f\"n_e:{j},MSE : {mse:.2f}\")\n",
    "\"\"\""
   ]
  },
  {
   "cell_type": "markdown",
   "id": "3d6257f8",
   "metadata": {
    "papermill": {
     "duration": 0.036296,
     "end_time": "2022-04-10T04:30:30.501341",
     "exception": false,
     "start_time": "2022-04-10T04:30:30.465045",
     "status": "completed"
    },
    "tags": []
   },
   "source": [
    "### Training_Score & MSE 계산\n",
    "|test_size|n_estimators|delete outliers|Training_Score|MSE|delete outliers|Training_Score|MSE|delete outliers|Training_Score|MSE|   \n",
    "|:---:|:---:|:---:|:---:|:---:|:---:|:---:|:---:|:---:|:---:|:---:|                              \n",
    "|0.2|200|X|0.054069993842590924|0.81|>std\\*70|0.05405621833673957(<span style=\"color:blue\">$\\downarrow$</span>)|0.81|>std\\*60|0.05404028505271219(<span style=\"color:blue\">$\\downarrow$</span>)|0.81|\n",
    "|0.3|200|X|0.05846368663812751|0.83|>std\\*70|0.058449805435160984(<span style=\"color:blue\">$\\downarrow$</span>)|0.82|>std\\*60|||\n",
    "|0.2|300|X|0.06668339494814646|0.82|>std\\*70|0.06660813482520711(<span style=\"color:blue\">$\\downarrow$</span>)|0.81|>std\\*60|0.06678748573971982(<span style=\"color:red\">$\\uparrow$</span>)|0.81|\n",
    "|0.3|300|X|0.07216780004832235|0.83|>std\\*70|0.07194148416323642(<span style=\"color:blue\">$\\downarrow$</span>)|0.83|>std\\*60|||\n",
    "|0.2|400|X|0.07730909212135473|0.82|>std\\*70|0.0772426438888425(<span style=\"color:blue\">$\\downarrow$</span>)|0.82|>std\\*60|0.07730612556862904(<span style=\"color:red\">$\\uparrow$</span>)|0.82|\n",
    "|0.3|400|X|0.08363594720433998|0.83|>std\\*70|0.08389302333398285(<span style=\"color:red\">$\\uparrow$</span>)|0.83|>std\\*60|||\n",
    "|0.2|500|X|0.08671736858043233|0.82|>std\\*70|0.08636877075690108(<span style=\"color:blue\">$\\downarrow$</span>)|0.82|>std\\*60|0.08657127960859345(<span style=\"color:red\">$\\uparrow$</span>)|0.82|\n",
    "|0.3|500|X|0.09377199406580616|0.83|>std\\*70|0.0941912571685275(<span style=\"color:red\">$\\uparrow$</span>)|0.83|>std\\*60|||\n",
    "|0.2|600|X|0.09585158203024369|0.82|>std\\*70|0.09531511104149593(<span style=\"color:blue\">$\\downarrow$</span>)|0.82|>std\\*60|0.09508766558702908(<span style=\"color:blue\">$\\downarrow$</span>)|0.82|\n",
    "|0.3|600|X|0.10299723306322961|0.83|>std\\*70|0.10381084559412301(<span style=\"color:red\">$\\uparrow$</span>)|0.83|>std\\*60|||\n",
    "|0.2|700|X|0.10387433272279445|0.82|>std\\*70|0.10403926054146928(<span style=\"color:blue\">$\\downarrow$</span>)|0.82|>std\\*60|X|X|"
   ]
  },
  {
   "cell_type": "markdown",
   "id": "a0d39f95",
   "metadata": {
    "papermill": {
     "duration": 0.037669,
     "end_time": "2022-04-10T04:30:30.575838",
     "exception": false,
     "start_time": "2022-04-10T04:30:30.538169",
     "status": "completed"
    },
    "tags": []
   },
   "source": [
    "- 이상치를 제거해도 전반적으로 training score가 항상 오르지 않는다.\n",
    "- 오히려 떨어지는 것으로 보임"
   ]
  },
  {
   "cell_type": "markdown",
   "id": "43d09e7d",
   "metadata": {
    "papermill": {
     "duration": 0.036916,
     "end_time": "2022-04-10T04:30:30.649724",
     "exception": false,
     "start_time": "2022-04-10T04:30:30.612808",
     "status": "completed"
    },
    "tags": []
   },
   "source": [
    "- trianing score, MSE 계산"
   ]
  },
  {
   "cell_type": "code",
   "execution_count": 11,
   "id": "3b4618a7",
   "metadata": {
    "execution": {
     "iopub.execute_input": "2022-04-10T04:30:30.726743Z",
     "iopub.status.busy": "2022-04-10T04:30:30.726032Z",
     "iopub.status.idle": "2022-04-10T04:30:30.730415Z",
     "shell.execute_reply": "2022-04-10T04:30:30.730915Z"
    },
    "papermill": {
     "duration": 0.04464,
     "end_time": "2022-04-10T04:30:30.731087",
     "exception": false,
     "start_time": "2022-04-10T04:30:30.686447",
     "status": "completed"
    },
    "tags": []
   },
   "outputs": [
    {
     "data": {
      "text/plain": [
       "'\\nscore = model.score(X_train, y_train)\\nprint(f\"Training Score : {score}\")\\n\\ny_pred = model.predict(X_valid)\\nmse = mean_squared_error(y_valid, y_pred)\\nprint(f\"MSE : {mse:.2f}\")\\n'"
      ]
     },
     "execution_count": 11,
     "metadata": {},
     "output_type": "execute_result"
    }
   ],
   "source": [
    "'''\n",
    "score = model.score(X_train, y_train)\n",
    "print(f\"Training Score : {score}\")\n",
    "\n",
    "y_pred = model.predict(X_valid)\n",
    "mse = mean_squared_error(y_valid, y_pred)\n",
    "print(f\"MSE : {mse:.2f}\")\n",
    "'''\n"
   ]
  },
  {
   "cell_type": "markdown",
   "id": "1c8d6d4a",
   "metadata": {
    "papermill": {
     "duration": 0.036789,
     "end_time": "2022-04-10T04:30:30.805272",
     "exception": false,
     "start_time": "2022-04-10T04:30:30.768483",
     "status": "completed"
    },
    "tags": []
   },
   "source": [
    "- LightGBM의 세부 파라미터 적용\n",
    "    - 참고 자료를 조사하여 적용"
   ]
  },
  {
   "cell_type": "code",
   "execution_count": 12,
   "id": "6a22a777",
   "metadata": {
    "execution": {
     "iopub.execute_input": "2022-04-10T04:30:30.883559Z",
     "iopub.status.busy": "2022-04-10T04:30:30.882893Z",
     "iopub.status.idle": "2022-04-10T04:30:31.020880Z",
     "shell.execute_reply": "2022-04-10T04:30:31.020148Z"
    },
    "papermill": {
     "duration": 0.177809,
     "end_time": "2022-04-10T04:30:31.021023",
     "exception": false,
     "start_time": "2022-04-10T04:30:30.843214",
     "status": "completed"
    },
    "tags": []
   },
   "outputs": [
    {
     "data": {
      "text/plain": [
       "147"
      ]
     },
     "execution_count": 12,
     "metadata": {},
     "output_type": "execute_result"
    }
   ],
   "source": [
    "#https://www.kaggle.com/valleyzw/ubiquant-lgbm-baseline\n",
    "params = {\n",
    "        'learning_rate':0.1,\n",
    "        \"objective\": \"regression\",\n",
    "        \"metric\": \"rmse\",\n",
    "        'boosting_type': \"gbdt\",\n",
    "        'verbosity': -1,\n",
    "        'n_jobs': -1, \n",
    "        'seed': 21,\n",
    "        'lambda_l1': 1.1895057699067542, \n",
    "        'lambda_l2': 1.9079686837880768e-08, \n",
    "        'num_leaves': 112, \n",
    "        'subsample':None,\n",
    "        'feature_fraction': 0.6259927292757151, \n",
    "        'bagging_fraction': 0.9782210574588895, \n",
    "        'bagging_freq': 1, \n",
    "        'n_estimators': 306, \n",
    "        'max_depth': 12, \n",
    "        'max_bin': 494, \n",
    "        'min_data_in_leaf': 366,\n",
    "        'colsample_bytree': None,\n",
    "        'subsample_freq': None,\n",
    "        'min_child_samples': None,\n",
    "        'reg_lambda': None,\n",
    "        'reg_alpha': None,\n",
    "    }\n",
    "gc.collect()"
   ]
  },
  {
   "cell_type": "markdown",
   "id": "30e5a0af",
   "metadata": {
    "papermill": {
     "duration": 0.037406,
     "end_time": "2022-04-10T04:30:31.096815",
     "exception": false,
     "start_time": "2022-04-10T04:30:31.059409",
     "status": "completed"
    },
    "tags": []
   },
   "source": [
    "- StratifiedkFold를 통한 교차 검증을 통해 훈련 "
   ]
  },
  {
   "cell_type": "code",
   "execution_count": 13,
   "id": "0dfb35bc",
   "metadata": {
    "execution": {
     "iopub.execute_input": "2022-04-10T04:30:31.181111Z",
     "iopub.status.busy": "2022-04-10T04:30:31.180344Z",
     "iopub.status.idle": "2022-04-10T04:55:37.571426Z",
     "shell.execute_reply": "2022-04-10T04:55:37.571956Z"
    },
    "papermill": {
     "duration": 1506.437382,
     "end_time": "2022-04-10T04:55:37.572162",
     "exception": false,
     "start_time": "2022-04-10T04:30:31.134780",
     "status": "completed"
    },
    "tags": []
   },
   "outputs": [
    {
     "name": "stderr",
     "output_type": "stream",
     "text": [
      "/opt/conda/lib/python3.7/site-packages/sklearn/model_selection/_split.py:680: UserWarning: The least populated class in y has only 2 members, which is less than n_splits=3.\n",
      "  UserWarning,\n"
     ]
    },
    {
     "name": "stdout",
     "output_type": "stream",
     "text": [
      "[1]\tvalid_0's rmse: 0.920577\n",
      "[2]\tvalid_0's rmse: 0.919728\n",
      "[3]\tvalid_0's rmse: 0.919025\n",
      "[4]\tvalid_0's rmse: 0.918358\n",
      "[5]\tvalid_0's rmse: 0.91776\n",
      "[6]\tvalid_0's rmse: 0.917217\n",
      "[7]\tvalid_0's rmse: 0.916758\n",
      "[8]\tvalid_0's rmse: 0.916346\n",
      "[9]\tvalid_0's rmse: 0.915917\n",
      "[10]\tvalid_0's rmse: 0.915574\n",
      "[11]\tvalid_0's rmse: 0.915257\n",
      "[12]\tvalid_0's rmse: 0.914992\n",
      "[13]\tvalid_0's rmse: 0.914746\n",
      "[14]\tvalid_0's rmse: 0.914519\n",
      "[15]\tvalid_0's rmse: 0.914273\n",
      "[16]\tvalid_0's rmse: 0.914023\n",
      "[17]\tvalid_0's rmse: 0.913853\n",
      "[18]\tvalid_0's rmse: 0.913632\n",
      "[19]\tvalid_0's rmse: 0.913398\n",
      "[20]\tvalid_0's rmse: 0.913227\n",
      "[21]\tvalid_0's rmse: 0.913046\n",
      "[22]\tvalid_0's rmse: 0.912904\n",
      "[23]\tvalid_0's rmse: 0.912707\n",
      "[24]\tvalid_0's rmse: 0.9125\n",
      "[25]\tvalid_0's rmse: 0.912327\n",
      "[26]\tvalid_0's rmse: 0.912174\n",
      "[27]\tvalid_0's rmse: 0.912004\n",
      "[28]\tvalid_0's rmse: 0.911771\n",
      "[29]\tvalid_0's rmse: 0.911617\n",
      "[30]\tvalid_0's rmse: 0.911453\n",
      "[31]\tvalid_0's rmse: 0.911317\n",
      "[32]\tvalid_0's rmse: 0.911178\n",
      "[33]\tvalid_0's rmse: 0.911024\n",
      "[34]\tvalid_0's rmse: 0.910896\n",
      "[35]\tvalid_0's rmse: 0.910776\n",
      "[36]\tvalid_0's rmse: 0.910682\n",
      "[37]\tvalid_0's rmse: 0.910545\n",
      "[38]\tvalid_0's rmse: 0.910411\n",
      "[39]\tvalid_0's rmse: 0.910323\n",
      "[40]\tvalid_0's rmse: 0.910202\n",
      "[41]\tvalid_0's rmse: 0.910097\n",
      "[42]\tvalid_0's rmse: 0.909943\n",
      "[43]\tvalid_0's rmse: 0.909769\n",
      "[44]\tvalid_0's rmse: 0.909668\n",
      "[45]\tvalid_0's rmse: 0.909543\n",
      "[46]\tvalid_0's rmse: 0.909429\n",
      "[47]\tvalid_0's rmse: 0.909338\n",
      "[48]\tvalid_0's rmse: 0.909259\n",
      "[49]\tvalid_0's rmse: 0.909109\n",
      "[50]\tvalid_0's rmse: 0.909001\n",
      "[51]\tvalid_0's rmse: 0.90889\n",
      "[52]\tvalid_0's rmse: 0.908781\n",
      "[53]\tvalid_0's rmse: 0.908685\n",
      "[54]\tvalid_0's rmse: 0.90857\n",
      "[55]\tvalid_0's rmse: 0.908466\n",
      "[56]\tvalid_0's rmse: 0.908381\n",
      "[57]\tvalid_0's rmse: 0.908214\n",
      "[58]\tvalid_0's rmse: 0.90813\n",
      "[59]\tvalid_0's rmse: 0.908052\n",
      "[60]\tvalid_0's rmse: 0.907919\n",
      "[61]\tvalid_0's rmse: 0.907823\n",
      "[62]\tvalid_0's rmse: 0.907665\n",
      "[63]\tvalid_0's rmse: 0.907564\n",
      "[64]\tvalid_0's rmse: 0.907429\n",
      "[65]\tvalid_0's rmse: 0.907376\n",
      "[66]\tvalid_0's rmse: 0.907296\n",
      "[67]\tvalid_0's rmse: 0.907197\n",
      "[68]\tvalid_0's rmse: 0.907129\n",
      "[69]\tvalid_0's rmse: 0.907049\n",
      "[70]\tvalid_0's rmse: 0.906951\n",
      "[71]\tvalid_0's rmse: 0.906869\n",
      "[72]\tvalid_0's rmse: 0.906793\n",
      "[73]\tvalid_0's rmse: 0.906688\n",
      "[74]\tvalid_0's rmse: 0.906609\n",
      "[75]\tvalid_0's rmse: 0.906488\n",
      "[76]\tvalid_0's rmse: 0.906425\n",
      "[77]\tvalid_0's rmse: 0.90633\n",
      "[78]\tvalid_0's rmse: 0.90626\n",
      "[79]\tvalid_0's rmse: 0.90619\n",
      "[80]\tvalid_0's rmse: 0.906101\n",
      "[81]\tvalid_0's rmse: 0.905958\n",
      "[82]\tvalid_0's rmse: 0.905845\n",
      "[83]\tvalid_0's rmse: 0.905752\n",
      "[84]\tvalid_0's rmse: 0.905663\n",
      "[85]\tvalid_0's rmse: 0.905594\n",
      "[86]\tvalid_0's rmse: 0.90556\n",
      "[87]\tvalid_0's rmse: 0.905479\n",
      "[88]\tvalid_0's rmse: 0.905435\n",
      "[89]\tvalid_0's rmse: 0.905395\n",
      "[90]\tvalid_0's rmse: 0.905345\n",
      "[91]\tvalid_0's rmse: 0.905279\n",
      "[92]\tvalid_0's rmse: 0.905201\n",
      "[93]\tvalid_0's rmse: 0.905137\n",
      "[94]\tvalid_0's rmse: 0.905083\n",
      "[95]\tvalid_0's rmse: 0.904991\n",
      "[96]\tvalid_0's rmse: 0.904959\n",
      "[97]\tvalid_0's rmse: 0.904904\n",
      "[98]\tvalid_0's rmse: 0.904785\n",
      "[99]\tvalid_0's rmse: 0.904732\n",
      "[100]\tvalid_0's rmse: 0.904669\n",
      "[101]\tvalid_0's rmse: 0.904618\n",
      "[102]\tvalid_0's rmse: 0.904542\n",
      "[103]\tvalid_0's rmse: 0.90443\n",
      "[104]\tvalid_0's rmse: 0.904315\n",
      "[105]\tvalid_0's rmse: 0.904242\n",
      "[106]\tvalid_0's rmse: 0.904108\n",
      "[107]\tvalid_0's rmse: 0.904024\n",
      "[108]\tvalid_0's rmse: 0.903963\n",
      "[109]\tvalid_0's rmse: 0.903934\n",
      "[110]\tvalid_0's rmse: 0.9039\n",
      "[111]\tvalid_0's rmse: 0.90383\n",
      "[112]\tvalid_0's rmse: 0.903757\n",
      "[113]\tvalid_0's rmse: 0.903723\n",
      "[114]\tvalid_0's rmse: 0.903661\n",
      "[115]\tvalid_0's rmse: 0.903618\n",
      "[116]\tvalid_0's rmse: 0.903562\n",
      "[117]\tvalid_0's rmse: 0.903516\n",
      "[118]\tvalid_0's rmse: 0.903462\n",
      "[119]\tvalid_0's rmse: 0.90342\n",
      "[120]\tvalid_0's rmse: 0.90339\n",
      "[121]\tvalid_0's rmse: 0.903362\n",
      "[122]\tvalid_0's rmse: 0.903298\n",
      "[123]\tvalid_0's rmse: 0.903247\n",
      "[124]\tvalid_0's rmse: 0.903166\n",
      "[125]\tvalid_0's rmse: 0.903116\n",
      "[126]\tvalid_0's rmse: 0.903015\n",
      "[127]\tvalid_0's rmse: 0.902947\n",
      "[128]\tvalid_0's rmse: 0.902927\n",
      "[129]\tvalid_0's rmse: 0.902866\n",
      "[130]\tvalid_0's rmse: 0.902817\n",
      "[131]\tvalid_0's rmse: 0.90278\n",
      "[132]\tvalid_0's rmse: 0.902706\n",
      "[133]\tvalid_0's rmse: 0.902671\n",
      "[134]\tvalid_0's rmse: 0.902618\n",
      "[135]\tvalid_0's rmse: 0.902545\n",
      "[136]\tvalid_0's rmse: 0.902491\n",
      "[137]\tvalid_0's rmse: 0.902446\n",
      "[138]\tvalid_0's rmse: 0.902388\n",
      "[139]\tvalid_0's rmse: 0.902344\n",
      "[140]\tvalid_0's rmse: 0.902302\n",
      "[141]\tvalid_0's rmse: 0.902257\n",
      "[142]\tvalid_0's rmse: 0.902106\n",
      "[143]\tvalid_0's rmse: 0.902071\n",
      "[144]\tvalid_0's rmse: 0.902038\n",
      "[145]\tvalid_0's rmse: 0.90203\n",
      "[146]\tvalid_0's rmse: 0.90198\n",
      "[147]\tvalid_0's rmse: 0.901938\n",
      "[148]\tvalid_0's rmse: 0.90191\n",
      "[149]\tvalid_0's rmse: 0.901845\n",
      "[150]\tvalid_0's rmse: 0.901794\n",
      "[151]\tvalid_0's rmse: 0.901734\n",
      "[152]\tvalid_0's rmse: 0.90166\n",
      "[153]\tvalid_0's rmse: 0.901635\n",
      "[154]\tvalid_0's rmse: 0.901588\n",
      "[155]\tvalid_0's rmse: 0.901551\n",
      "[156]\tvalid_0's rmse: 0.901515\n",
      "[157]\tvalid_0's rmse: 0.90151\n",
      "[158]\tvalid_0's rmse: 0.901486\n",
      "[159]\tvalid_0's rmse: 0.90142\n",
      "[160]\tvalid_0's rmse: 0.901379\n",
      "[161]\tvalid_0's rmse: 0.901348\n",
      "[162]\tvalid_0's rmse: 0.901328\n",
      "[163]\tvalid_0's rmse: 0.901293\n",
      "[164]\tvalid_0's rmse: 0.901274\n",
      "[165]\tvalid_0's rmse: 0.901254\n",
      "[166]\tvalid_0's rmse: 0.901198\n",
      "[167]\tvalid_0's rmse: 0.901091\n",
      "[168]\tvalid_0's rmse: 0.901057\n",
      "[169]\tvalid_0's rmse: 0.901008\n",
      "[170]\tvalid_0's rmse: 0.900984\n",
      "[171]\tvalid_0's rmse: 0.900948\n",
      "[172]\tvalid_0's rmse: 0.900897\n",
      "[173]\tvalid_0's rmse: 0.900852\n",
      "[174]\tvalid_0's rmse: 0.900833\n",
      "[175]\tvalid_0's rmse: 0.9008\n",
      "[176]\tvalid_0's rmse: 0.900785\n",
      "[177]\tvalid_0's rmse: 0.900736\n",
      "[178]\tvalid_0's rmse: 0.900655\n",
      "[179]\tvalid_0's rmse: 0.900603\n",
      "[180]\tvalid_0's rmse: 0.900584\n",
      "[181]\tvalid_0's rmse: 0.900539\n",
      "[182]\tvalid_0's rmse: 0.900516\n",
      "[183]\tvalid_0's rmse: 0.900498\n",
      "[184]\tvalid_0's rmse: 0.900411\n",
      "[185]\tvalid_0's rmse: 0.900404\n",
      "[186]\tvalid_0's rmse: 0.900362\n",
      "[187]\tvalid_0's rmse: 0.900318\n",
      "[188]\tvalid_0's rmse: 0.900312\n",
      "[189]\tvalid_0's rmse: 0.900306\n",
      "[190]\tvalid_0's rmse: 0.900257\n",
      "[191]\tvalid_0's rmse: 0.900244\n",
      "[192]\tvalid_0's rmse: 0.900235\n",
      "[193]\tvalid_0's rmse: 0.900192\n",
      "[194]\tvalid_0's rmse: 0.900173\n",
      "[195]\tvalid_0's rmse: 0.900132\n",
      "[196]\tvalid_0's rmse: 0.900113\n",
      "[197]\tvalid_0's rmse: 0.900035\n",
      "[198]\tvalid_0's rmse: 0.900016\n",
      "[199]\tvalid_0's rmse: 0.900007\n",
      "[200]\tvalid_0's rmse: 0.89997\n",
      "[201]\tvalid_0's rmse: 0.899936\n",
      "[202]\tvalid_0's rmse: 0.899916\n",
      "[203]\tvalid_0's rmse: 0.899897\n",
      "[204]\tvalid_0's rmse: 0.899864\n",
      "[205]\tvalid_0's rmse: 0.899821\n",
      "[206]\tvalid_0's rmse: 0.899778\n",
      "[207]\tvalid_0's rmse: 0.899714\n",
      "[208]\tvalid_0's rmse: 0.899705\n",
      "[209]\tvalid_0's rmse: 0.899698\n",
      "[210]\tvalid_0's rmse: 0.899684\n",
      "[211]\tvalid_0's rmse: 0.899668\n",
      "[212]\tvalid_0's rmse: 0.899626\n",
      "[213]\tvalid_0's rmse: 0.899567\n",
      "[214]\tvalid_0's rmse: 0.89952\n",
      "[215]\tvalid_0's rmse: 0.899489\n",
      "[216]\tvalid_0's rmse: 0.899454\n",
      "[217]\tvalid_0's rmse: 0.899429\n",
      "[218]\tvalid_0's rmse: 0.899428\n",
      "[219]\tvalid_0's rmse: 0.899353\n",
      "[220]\tvalid_0's rmse: 0.899334\n",
      "[221]\tvalid_0's rmse: 0.89931\n",
      "[222]\tvalid_0's rmse: 0.899257\n",
      "[223]\tvalid_0's rmse: 0.899221\n",
      "[224]\tvalid_0's rmse: 0.899172\n",
      "[225]\tvalid_0's rmse: 0.899176\n",
      "[226]\tvalid_0's rmse: 0.899129\n",
      "[227]\tvalid_0's rmse: 0.899113\n",
      "[228]\tvalid_0's rmse: 0.899059\n",
      "[229]\tvalid_0's rmse: 0.899055\n",
      "[230]\tvalid_0's rmse: 0.899055\n",
      "[231]\tvalid_0's rmse: 0.899017\n",
      "[232]\tvalid_0's rmse: 0.898971\n",
      "[233]\tvalid_0's rmse: 0.898941\n",
      "[234]\tvalid_0's rmse: 0.898938\n",
      "[235]\tvalid_0's rmse: 0.898918\n",
      "[236]\tvalid_0's rmse: 0.898882\n",
      "[237]\tvalid_0's rmse: 0.898874\n",
      "[238]\tvalid_0's rmse: 0.898861\n",
      "[239]\tvalid_0's rmse: 0.898822\n",
      "[240]\tvalid_0's rmse: 0.898763\n",
      "[241]\tvalid_0's rmse: 0.898733\n",
      "[242]\tvalid_0's rmse: 0.898724\n",
      "[243]\tvalid_0's rmse: 0.898721\n",
      "[244]\tvalid_0's rmse: 0.898656\n",
      "[245]\tvalid_0's rmse: 0.898652\n",
      "[246]\tvalid_0's rmse: 0.89863\n",
      "[247]\tvalid_0's rmse: 0.898626\n",
      "[248]\tvalid_0's rmse: 0.898619\n",
      "[249]\tvalid_0's rmse: 0.898605\n",
      "[250]\tvalid_0's rmse: 0.898563\n",
      "[251]\tvalid_0's rmse: 0.898562\n",
      "[252]\tvalid_0's rmse: 0.898549\n",
      "[253]\tvalid_0's rmse: 0.89854\n",
      "[254]\tvalid_0's rmse: 0.898541\n",
      "[255]\tvalid_0's rmse: 0.898526\n",
      "[256]\tvalid_0's rmse: 0.898495\n",
      "[257]\tvalid_0's rmse: 0.898482\n",
      "[258]\tvalid_0's rmse: 0.898484\n",
      "[259]\tvalid_0's rmse: 0.898394\n",
      "[260]\tvalid_0's rmse: 0.89837\n",
      "[261]\tvalid_0's rmse: 0.898278\n",
      "[262]\tvalid_0's rmse: 0.898274\n",
      "[263]\tvalid_0's rmse: 0.898277\n",
      "[264]\tvalid_0's rmse: 0.898255\n",
      "[265]\tvalid_0's rmse: 0.898212\n",
      "[266]\tvalid_0's rmse: 0.898208\n",
      "[267]\tvalid_0's rmse: 0.898171\n",
      "[268]\tvalid_0's rmse: 0.898099\n",
      "[269]\tvalid_0's rmse: 0.89809\n",
      "[270]\tvalid_0's rmse: 0.898082\n",
      "[271]\tvalid_0's rmse: 0.898064\n",
      "[272]\tvalid_0's rmse: 0.898039\n",
      "[273]\tvalid_0's rmse: 0.897997\n",
      "[274]\tvalid_0's rmse: 0.897961\n",
      "[275]\tvalid_0's rmse: 0.89792\n",
      "[276]\tvalid_0's rmse: 0.897867\n",
      "[277]\tvalid_0's rmse: 0.897839\n",
      "[278]\tvalid_0's rmse: 0.897824\n",
      "[279]\tvalid_0's rmse: 0.897804\n",
      "[280]\tvalid_0's rmse: 0.897794\n",
      "[281]\tvalid_0's rmse: 0.897789\n",
      "[282]\tvalid_0's rmse: 0.897762\n",
      "[283]\tvalid_0's rmse: 0.897744\n",
      "[284]\tvalid_0's rmse: 0.897721\n",
      "[285]\tvalid_0's rmse: 0.897671\n",
      "[286]\tvalid_0's rmse: 0.89764\n",
      "[287]\tvalid_0's rmse: 0.89756\n",
      "[288]\tvalid_0's rmse: 0.897527\n",
      "[289]\tvalid_0's rmse: 0.897516\n",
      "[290]\tvalid_0's rmse: 0.897513\n",
      "[291]\tvalid_0's rmse: 0.897467\n",
      "[292]\tvalid_0's rmse: 0.897462\n",
      "[293]\tvalid_0's rmse: 0.897452\n",
      "[294]\tvalid_0's rmse: 0.897436\n",
      "[295]\tvalid_0's rmse: 0.897433\n",
      "[296]\tvalid_0's rmse: 0.897401\n",
      "[297]\tvalid_0's rmse: 0.897387\n",
      "[298]\tvalid_0's rmse: 0.897348\n",
      "[299]\tvalid_0's rmse: 0.897347\n",
      "[300]\tvalid_0's rmse: 0.897332\n",
      "[301]\tvalid_0's rmse: 0.897306\n",
      "[302]\tvalid_0's rmse: 0.897282\n",
      "[303]\tvalid_0's rmse: 0.897273\n",
      "[304]\tvalid_0's rmse: 0.897233\n",
      "[305]\tvalid_0's rmse: 0.897192\n",
      "[306]\tvalid_0's rmse: 0.897173\n",
      "[1]\tvalid_0's rmse: 0.917983\n",
      "[2]\tvalid_0's rmse: 0.917111\n",
      "[3]\tvalid_0's rmse: 0.916319\n",
      "[4]\tvalid_0's rmse: 0.915631\n",
      "[5]\tvalid_0's rmse: 0.915029\n",
      "[6]\tvalid_0's rmse: 0.914469\n",
      "[7]\tvalid_0's rmse: 0.913965\n",
      "[8]\tvalid_0's rmse: 0.91352\n",
      "[9]\tvalid_0's rmse: 0.913135\n",
      "[10]\tvalid_0's rmse: 0.912801\n",
      "[11]\tvalid_0's rmse: 0.912494\n",
      "[12]\tvalid_0's rmse: 0.912212\n",
      "[13]\tvalid_0's rmse: 0.911958\n",
      "[14]\tvalid_0's rmse: 0.911726\n",
      "[15]\tvalid_0's rmse: 0.91152\n",
      "[16]\tvalid_0's rmse: 0.911308\n",
      "[17]\tvalid_0's rmse: 0.911101\n",
      "[18]\tvalid_0's rmse: 0.910877\n",
      "[19]\tvalid_0's rmse: 0.910658\n",
      "[20]\tvalid_0's rmse: 0.910466\n",
      "[21]\tvalid_0's rmse: 0.910299\n",
      "[22]\tvalid_0's rmse: 0.910117\n",
      "[23]\tvalid_0's rmse: 0.909934\n",
      "[24]\tvalid_0's rmse: 0.909709\n",
      "[25]\tvalid_0's rmse: 0.90957\n",
      "[26]\tvalid_0's rmse: 0.90941\n",
      "[27]\tvalid_0's rmse: 0.909237\n",
      "[28]\tvalid_0's rmse: 0.909014\n",
      "[29]\tvalid_0's rmse: 0.908835\n",
      "[30]\tvalid_0's rmse: 0.908702\n",
      "[31]\tvalid_0's rmse: 0.908607\n",
      "[32]\tvalid_0's rmse: 0.908453\n",
      "[33]\tvalid_0's rmse: 0.908286\n",
      "[34]\tvalid_0's rmse: 0.908152\n",
      "[35]\tvalid_0's rmse: 0.908006\n",
      "[36]\tvalid_0's rmse: 0.907891\n",
      "[37]\tvalid_0's rmse: 0.90771\n",
      "[38]\tvalid_0's rmse: 0.907532\n",
      "[39]\tvalid_0's rmse: 0.907434\n",
      "[40]\tvalid_0's rmse: 0.907295\n",
      "[41]\tvalid_0's rmse: 0.907192\n",
      "[42]\tvalid_0's rmse: 0.90704\n",
      "[43]\tvalid_0's rmse: 0.906939\n",
      "[44]\tvalid_0's rmse: 0.906782\n",
      "[45]\tvalid_0's rmse: 0.906677\n",
      "[46]\tvalid_0's rmse: 0.906585\n",
      "[47]\tvalid_0's rmse: 0.906486\n",
      "[48]\tvalid_0's rmse: 0.906408\n",
      "[49]\tvalid_0's rmse: 0.906299\n",
      "[50]\tvalid_0's rmse: 0.906116\n",
      "[51]\tvalid_0's rmse: 0.905981\n",
      "[52]\tvalid_0's rmse: 0.905904\n",
      "[53]\tvalid_0's rmse: 0.905757\n",
      "[54]\tvalid_0's rmse: 0.905681\n",
      "[55]\tvalid_0's rmse: 0.90558\n",
      "[56]\tvalid_0's rmse: 0.905473\n",
      "[57]\tvalid_0's rmse: 0.905367\n",
      "[58]\tvalid_0's rmse: 0.905278\n",
      "[59]\tvalid_0's rmse: 0.905138\n",
      "[60]\tvalid_0's rmse: 0.905084\n",
      "[61]\tvalid_0's rmse: 0.90496\n",
      "[62]\tvalid_0's rmse: 0.904886\n",
      "[63]\tvalid_0's rmse: 0.904791\n",
      "[64]\tvalid_0's rmse: 0.904693\n",
      "[65]\tvalid_0's rmse: 0.904589\n",
      "[66]\tvalid_0's rmse: 0.904507\n",
      "[67]\tvalid_0's rmse: 0.904413\n",
      "[68]\tvalid_0's rmse: 0.904309\n",
      "[69]\tvalid_0's rmse: 0.904213\n",
      "[70]\tvalid_0's rmse: 0.904164\n",
      "[71]\tvalid_0's rmse: 0.904009\n",
      "[72]\tvalid_0's rmse: 0.903861\n",
      "[73]\tvalid_0's rmse: 0.903792\n",
      "[74]\tvalid_0's rmse: 0.903742\n",
      "[75]\tvalid_0's rmse: 0.903667\n",
      "[76]\tvalid_0's rmse: 0.903581\n",
      "[77]\tvalid_0's rmse: 0.903475\n",
      "[78]\tvalid_0's rmse: 0.903407\n",
      "[79]\tvalid_0's rmse: 0.903344\n",
      "[80]\tvalid_0's rmse: 0.903291\n",
      "[81]\tvalid_0's rmse: 0.903203\n",
      "[82]\tvalid_0's rmse: 0.903107\n",
      "[83]\tvalid_0's rmse: 0.90303\n",
      "[84]\tvalid_0's rmse: 0.902964\n",
      "[85]\tvalid_0's rmse: 0.902898\n",
      "[86]\tvalid_0's rmse: 0.902819\n",
      "[87]\tvalid_0's rmse: 0.902758\n",
      "[88]\tvalid_0's rmse: 0.902674\n",
      "[89]\tvalid_0's rmse: 0.902626\n",
      "[90]\tvalid_0's rmse: 0.902553\n",
      "[91]\tvalid_0's rmse: 0.902511\n",
      "[92]\tvalid_0's rmse: 0.902446\n",
      "[93]\tvalid_0's rmse: 0.902334\n",
      "[94]\tvalid_0's rmse: 0.902248\n",
      "[95]\tvalid_0's rmse: 0.902101\n",
      "[96]\tvalid_0's rmse: 0.902034\n",
      "[97]\tvalid_0's rmse: 0.901936\n",
      "[98]\tvalid_0's rmse: 0.901885\n",
      "[99]\tvalid_0's rmse: 0.901835\n",
      "[100]\tvalid_0's rmse: 0.901722\n",
      "[101]\tvalid_0's rmse: 0.901679\n",
      "[102]\tvalid_0's rmse: 0.901629\n",
      "[103]\tvalid_0's rmse: 0.901576\n",
      "[104]\tvalid_0's rmse: 0.90152\n",
      "[105]\tvalid_0's rmse: 0.901446\n",
      "[106]\tvalid_0's rmse: 0.901403\n",
      "[107]\tvalid_0's rmse: 0.901353\n",
      "[108]\tvalid_0's rmse: 0.901293\n",
      "[109]\tvalid_0's rmse: 0.901246\n",
      "[110]\tvalid_0's rmse: 0.901221\n",
      "[111]\tvalid_0's rmse: 0.901143\n",
      "[112]\tvalid_0's rmse: 0.901114\n",
      "[113]\tvalid_0's rmse: 0.901074\n",
      "[114]\tvalid_0's rmse: 0.901012\n",
      "[115]\tvalid_0's rmse: 0.900973\n",
      "[116]\tvalid_0's rmse: 0.900914\n",
      "[117]\tvalid_0's rmse: 0.900866\n",
      "[118]\tvalid_0's rmse: 0.900783\n",
      "[119]\tvalid_0's rmse: 0.900746\n",
      "[120]\tvalid_0's rmse: 0.900674\n",
      "[121]\tvalid_0's rmse: 0.900636\n",
      "[122]\tvalid_0's rmse: 0.90049\n",
      "[123]\tvalid_0's rmse: 0.900413\n",
      "[124]\tvalid_0's rmse: 0.900313\n",
      "[125]\tvalid_0's rmse: 0.900279\n",
      "[126]\tvalid_0's rmse: 0.900246\n",
      "[127]\tvalid_0's rmse: 0.900179\n",
      "[128]\tvalid_0's rmse: 0.900077\n",
      "[129]\tvalid_0's rmse: 0.899987\n",
      "[130]\tvalid_0's rmse: 0.899962\n",
      "[131]\tvalid_0's rmse: 0.899913\n",
      "[132]\tvalid_0's rmse: 0.89988\n",
      "[133]\tvalid_0's rmse: 0.899833\n",
      "[134]\tvalid_0's rmse: 0.899697\n",
      "[135]\tvalid_0's rmse: 0.899672\n",
      "[136]\tvalid_0's rmse: 0.899642\n",
      "[137]\tvalid_0's rmse: 0.899615\n",
      "[138]\tvalid_0's rmse: 0.899551\n",
      "[139]\tvalid_0's rmse: 0.899511\n",
      "[140]\tvalid_0's rmse: 0.899471\n",
      "[141]\tvalid_0's rmse: 0.899462\n",
      "[142]\tvalid_0's rmse: 0.899431\n",
      "[143]\tvalid_0's rmse: 0.899369\n",
      "[144]\tvalid_0's rmse: 0.899339\n",
      "[145]\tvalid_0's rmse: 0.899238\n",
      "[146]\tvalid_0's rmse: 0.899136\n",
      "[147]\tvalid_0's rmse: 0.899035\n",
      "[148]\tvalid_0's rmse: 0.899027\n",
      "[149]\tvalid_0's rmse: 0.898939\n",
      "[150]\tvalid_0's rmse: 0.898842\n",
      "[151]\tvalid_0's rmse: 0.898826\n",
      "[152]\tvalid_0's rmse: 0.898802\n",
      "[153]\tvalid_0's rmse: 0.898779\n",
      "[154]\tvalid_0's rmse: 0.89873\n",
      "[155]\tvalid_0's rmse: 0.89871\n",
      "[156]\tvalid_0's rmse: 0.898665\n",
      "[157]\tvalid_0's rmse: 0.898595\n",
      "[158]\tvalid_0's rmse: 0.898532\n",
      "[159]\tvalid_0's rmse: 0.898434\n",
      "[160]\tvalid_0's rmse: 0.898409\n",
      "[161]\tvalid_0's rmse: 0.898343\n",
      "[162]\tvalid_0's rmse: 0.898308\n",
      "[163]\tvalid_0's rmse: 0.898253\n",
      "[164]\tvalid_0's rmse: 0.898245\n",
      "[165]\tvalid_0's rmse: 0.898161\n",
      "[166]\tvalid_0's rmse: 0.898127\n",
      "[167]\tvalid_0's rmse: 0.898085\n",
      "[168]\tvalid_0's rmse: 0.898027\n",
      "[169]\tvalid_0's rmse: 0.897989\n",
      "[170]\tvalid_0's rmse: 0.897955\n",
      "[171]\tvalid_0's rmse: 0.897915\n",
      "[172]\tvalid_0's rmse: 0.897885\n",
      "[173]\tvalid_0's rmse: 0.897832\n",
      "[174]\tvalid_0's rmse: 0.897821\n",
      "[175]\tvalid_0's rmse: 0.89774\n",
      "[176]\tvalid_0's rmse: 0.897689\n",
      "[177]\tvalid_0's rmse: 0.897579\n",
      "[178]\tvalid_0's rmse: 0.897578\n",
      "[179]\tvalid_0's rmse: 0.897544\n",
      "[180]\tvalid_0's rmse: 0.897499\n",
      "[181]\tvalid_0's rmse: 0.897461\n",
      "[182]\tvalid_0's rmse: 0.897452\n",
      "[183]\tvalid_0's rmse: 0.897412\n",
      "[184]\tvalid_0's rmse: 0.897366\n",
      "[185]\tvalid_0's rmse: 0.897349\n",
      "[186]\tvalid_0's rmse: 0.897283\n",
      "[187]\tvalid_0's rmse: 0.897258\n",
      "[188]\tvalid_0's rmse: 0.897193\n",
      "[189]\tvalid_0's rmse: 0.897146\n",
      "[190]\tvalid_0's rmse: 0.897082\n",
      "[191]\tvalid_0's rmse: 0.897016\n",
      "[192]\tvalid_0's rmse: 0.897004\n",
      "[193]\tvalid_0's rmse: 0.896959\n",
      "[194]\tvalid_0's rmse: 0.896945\n",
      "[195]\tvalid_0's rmse: 0.896942\n",
      "[196]\tvalid_0's rmse: 0.896923\n",
      "[197]\tvalid_0's rmse: 0.896917\n",
      "[198]\tvalid_0's rmse: 0.896894\n",
      "[199]\tvalid_0's rmse: 0.896892\n",
      "[200]\tvalid_0's rmse: 0.896864\n",
      "[201]\tvalid_0's rmse: 0.896813\n",
      "[202]\tvalid_0's rmse: 0.896778\n",
      "[203]\tvalid_0's rmse: 0.896772\n",
      "[204]\tvalid_0's rmse: 0.89675\n",
      "[205]\tvalid_0's rmse: 0.896705\n",
      "[206]\tvalid_0's rmse: 0.896651\n",
      "[207]\tvalid_0's rmse: 0.89665\n",
      "[208]\tvalid_0's rmse: 0.8966\n",
      "[209]\tvalid_0's rmse: 0.896536\n",
      "[210]\tvalid_0's rmse: 0.896509\n",
      "[211]\tvalid_0's rmse: 0.8965\n",
      "[212]\tvalid_0's rmse: 0.896485\n",
      "[213]\tvalid_0's rmse: 0.896473\n",
      "[214]\tvalid_0's rmse: 0.896451\n",
      "[215]\tvalid_0's rmse: 0.896442\n",
      "[216]\tvalid_0's rmse: 0.896422\n",
      "[217]\tvalid_0's rmse: 0.896414\n",
      "[218]\tvalid_0's rmse: 0.8964\n",
      "[219]\tvalid_0's rmse: 0.896395\n",
      "[220]\tvalid_0's rmse: 0.896383\n",
      "[221]\tvalid_0's rmse: 0.896331\n",
      "[222]\tvalid_0's rmse: 0.896306\n",
      "[223]\tvalid_0's rmse: 0.896293\n",
      "[224]\tvalid_0's rmse: 0.896291\n",
      "[225]\tvalid_0's rmse: 0.896245\n",
      "[226]\tvalid_0's rmse: 0.896225\n",
      "[227]\tvalid_0's rmse: 0.896155\n",
      "[228]\tvalid_0's rmse: 0.896144\n",
      "[229]\tvalid_0's rmse: 0.896126\n",
      "[230]\tvalid_0's rmse: 0.896053\n",
      "[231]\tvalid_0's rmse: 0.895999\n",
      "[232]\tvalid_0's rmse: 0.895961\n",
      "[233]\tvalid_0's rmse: 0.895961\n",
      "[234]\tvalid_0's rmse: 0.895962\n",
      "[235]\tvalid_0's rmse: 0.895927\n",
      "[236]\tvalid_0's rmse: 0.89592\n",
      "[237]\tvalid_0's rmse: 0.895856\n",
      "[238]\tvalid_0's rmse: 0.895852\n",
      "[239]\tvalid_0's rmse: 0.895763\n",
      "[240]\tvalid_0's rmse: 0.895731\n",
      "[241]\tvalid_0's rmse: 0.895699\n",
      "[242]\tvalid_0's rmse: 0.895686\n",
      "[243]\tvalid_0's rmse: 0.895684\n",
      "[244]\tvalid_0's rmse: 0.895681\n",
      "[245]\tvalid_0's rmse: 0.89567\n",
      "[246]\tvalid_0's rmse: 0.895658\n",
      "[247]\tvalid_0's rmse: 0.895637\n",
      "[248]\tvalid_0's rmse: 0.895636\n",
      "[249]\tvalid_0's rmse: 0.895595\n",
      "[250]\tvalid_0's rmse: 0.895573\n",
      "[251]\tvalid_0's rmse: 0.895531\n",
      "[252]\tvalid_0's rmse: 0.895535\n",
      "[253]\tvalid_0's rmse: 0.895526\n",
      "[254]\tvalid_0's rmse: 0.895497\n",
      "[255]\tvalid_0's rmse: 0.895479\n",
      "[256]\tvalid_0's rmse: 0.895424\n",
      "[257]\tvalid_0's rmse: 0.895402\n",
      "[258]\tvalid_0's rmse: 0.895392\n",
      "[259]\tvalid_0's rmse: 0.89538\n",
      "[260]\tvalid_0's rmse: 0.895361\n",
      "[261]\tvalid_0's rmse: 0.895339\n",
      "[262]\tvalid_0's rmse: 0.895317\n",
      "[263]\tvalid_0's rmse: 0.895311\n",
      "[264]\tvalid_0's rmse: 0.89523\n",
      "[265]\tvalid_0's rmse: 0.895228\n",
      "[266]\tvalid_0's rmse: 0.895221\n",
      "[267]\tvalid_0's rmse: 0.895205\n",
      "[268]\tvalid_0's rmse: 0.895204\n",
      "[269]\tvalid_0's rmse: 0.895182\n",
      "[270]\tvalid_0's rmse: 0.895166\n",
      "[271]\tvalid_0's rmse: 0.895138\n",
      "[272]\tvalid_0's rmse: 0.895131\n",
      "[273]\tvalid_0's rmse: 0.895094\n",
      "[274]\tvalid_0's rmse: 0.895045\n",
      "[275]\tvalid_0's rmse: 0.895036\n",
      "[276]\tvalid_0's rmse: 0.895028\n",
      "[277]\tvalid_0's rmse: 0.895015\n",
      "[278]\tvalid_0's rmse: 0.895017\n",
      "[279]\tvalid_0's rmse: 0.895008\n",
      "[280]\tvalid_0's rmse: 0.894982\n",
      "[281]\tvalid_0's rmse: 0.894976\n",
      "[282]\tvalid_0's rmse: 0.894959\n",
      "[283]\tvalid_0's rmse: 0.894958\n",
      "[284]\tvalid_0's rmse: 0.894952\n",
      "[285]\tvalid_0's rmse: 0.894936\n",
      "[286]\tvalid_0's rmse: 0.894901\n",
      "[287]\tvalid_0's rmse: 0.894887\n",
      "[288]\tvalid_0's rmse: 0.894857\n",
      "[289]\tvalid_0's rmse: 0.89486\n",
      "[290]\tvalid_0's rmse: 0.89484\n",
      "[291]\tvalid_0's rmse: 0.894761\n",
      "[292]\tvalid_0's rmse: 0.894741\n",
      "[293]\tvalid_0's rmse: 0.894733\n",
      "[294]\tvalid_0's rmse: 0.894723\n",
      "[295]\tvalid_0's rmse: 0.89469\n",
      "[296]\tvalid_0's rmse: 0.894661\n",
      "[297]\tvalid_0's rmse: 0.894635\n",
      "[298]\tvalid_0's rmse: 0.894582\n",
      "[299]\tvalid_0's rmse: 0.894575\n",
      "[300]\tvalid_0's rmse: 0.894566\n",
      "[301]\tvalid_0's rmse: 0.894522\n",
      "[302]\tvalid_0's rmse: 0.894506\n",
      "[303]\tvalid_0's rmse: 0.894494\n",
      "[304]\tvalid_0's rmse: 0.894484\n",
      "[305]\tvalid_0's rmse: 0.894466\n",
      "[306]\tvalid_0's rmse: 0.894425\n",
      "[1]\tvalid_0's rmse: 0.917449\n",
      "[2]\tvalid_0's rmse: 0.916571\n",
      "[3]\tvalid_0's rmse: 0.915802\n",
      "[4]\tvalid_0's rmse: 0.915143\n",
      "[5]\tvalid_0's rmse: 0.914534\n",
      "[6]\tvalid_0's rmse: 0.914012\n",
      "[7]\tvalid_0's rmse: 0.913528\n",
      "[8]\tvalid_0's rmse: 0.913109\n",
      "[9]\tvalid_0's rmse: 0.912736\n",
      "[10]\tvalid_0's rmse: 0.912385\n",
      "[11]\tvalid_0's rmse: 0.912058\n",
      "[12]\tvalid_0's rmse: 0.911773\n",
      "[13]\tvalid_0's rmse: 0.911501\n",
      "[14]\tvalid_0's rmse: 0.911225\n",
      "[15]\tvalid_0's rmse: 0.911006\n",
      "[16]\tvalid_0's rmse: 0.910783\n",
      "[17]\tvalid_0's rmse: 0.910574\n",
      "[18]\tvalid_0's rmse: 0.91038\n",
      "[19]\tvalid_0's rmse: 0.910146\n",
      "[20]\tvalid_0's rmse: 0.909902\n",
      "[21]\tvalid_0's rmse: 0.909691\n",
      "[22]\tvalid_0's rmse: 0.909519\n",
      "[23]\tvalid_0's rmse: 0.909329\n",
      "[24]\tvalid_0's rmse: 0.909146\n",
      "[25]\tvalid_0's rmse: 0.908985\n",
      "[26]\tvalid_0's rmse: 0.908823\n",
      "[27]\tvalid_0's rmse: 0.908694\n",
      "[28]\tvalid_0's rmse: 0.90844\n",
      "[29]\tvalid_0's rmse: 0.90831\n",
      "[30]\tvalid_0's rmse: 0.908171\n",
      "[31]\tvalid_0's rmse: 0.908025\n",
      "[32]\tvalid_0's rmse: 0.907883\n",
      "[33]\tvalid_0's rmse: 0.907723\n",
      "[34]\tvalid_0's rmse: 0.90761\n",
      "[35]\tvalid_0's rmse: 0.907483\n",
      "[36]\tvalid_0's rmse: 0.907332\n",
      "[37]\tvalid_0's rmse: 0.907242\n",
      "[38]\tvalid_0's rmse: 0.907163\n",
      "[39]\tvalid_0's rmse: 0.90704\n",
      "[40]\tvalid_0's rmse: 0.906931\n",
      "[41]\tvalid_0's rmse: 0.906798\n",
      "[42]\tvalid_0's rmse: 0.906703\n",
      "[43]\tvalid_0's rmse: 0.906535\n",
      "[44]\tvalid_0's rmse: 0.90638\n",
      "[45]\tvalid_0's rmse: 0.906234\n",
      "[46]\tvalid_0's rmse: 0.906132\n",
      "[47]\tvalid_0's rmse: 0.906021\n",
      "[48]\tvalid_0's rmse: 0.905871\n",
      "[49]\tvalid_0's rmse: 0.905793\n",
      "[50]\tvalid_0's rmse: 0.905664\n",
      "[51]\tvalid_0's rmse: 0.905578\n",
      "[52]\tvalid_0's rmse: 0.905468\n",
      "[53]\tvalid_0's rmse: 0.905405\n",
      "[54]\tvalid_0's rmse: 0.9053\n",
      "[55]\tvalid_0's rmse: 0.905198\n",
      "[56]\tvalid_0's rmse: 0.905117\n",
      "[57]\tvalid_0's rmse: 0.905021\n",
      "[58]\tvalid_0's rmse: 0.904901\n",
      "[59]\tvalid_0's rmse: 0.904831\n",
      "[60]\tvalid_0's rmse: 0.904737\n",
      "[61]\tvalid_0's rmse: 0.904647\n",
      "[62]\tvalid_0's rmse: 0.904586\n",
      "[63]\tvalid_0's rmse: 0.904504\n",
      "[64]\tvalid_0's rmse: 0.904423\n",
      "[65]\tvalid_0's rmse: 0.904255\n",
      "[66]\tvalid_0's rmse: 0.904165\n",
      "[67]\tvalid_0's rmse: 0.90407\n",
      "[68]\tvalid_0's rmse: 0.903994\n",
      "[69]\tvalid_0's rmse: 0.90391\n",
      "[70]\tvalid_0's rmse: 0.90382\n",
      "[71]\tvalid_0's rmse: 0.903758\n",
      "[72]\tvalid_0's rmse: 0.903659\n",
      "[73]\tvalid_0's rmse: 0.903617\n",
      "[74]\tvalid_0's rmse: 0.903549\n",
      "[75]\tvalid_0's rmse: 0.903439\n",
      "[76]\tvalid_0's rmse: 0.903394\n",
      "[77]\tvalid_0's rmse: 0.903355\n",
      "[78]\tvalid_0's rmse: 0.90326\n",
      "[79]\tvalid_0's rmse: 0.903162\n",
      "[80]\tvalid_0's rmse: 0.903116\n",
      "[81]\tvalid_0's rmse: 0.90304\n",
      "[82]\tvalid_0's rmse: 0.902922\n",
      "[83]\tvalid_0's rmse: 0.902854\n",
      "[84]\tvalid_0's rmse: 0.902804\n",
      "[85]\tvalid_0's rmse: 0.902751\n",
      "[86]\tvalid_0's rmse: 0.902701\n",
      "[87]\tvalid_0's rmse: 0.9026\n",
      "[88]\tvalid_0's rmse: 0.902504\n",
      "[89]\tvalid_0's rmse: 0.902447\n",
      "[90]\tvalid_0's rmse: 0.902385\n",
      "[91]\tvalid_0's rmse: 0.902323\n",
      "[92]\tvalid_0's rmse: 0.902273\n",
      "[93]\tvalid_0's rmse: 0.902225\n",
      "[94]\tvalid_0's rmse: 0.902149\n",
      "[95]\tvalid_0's rmse: 0.90209\n",
      "[96]\tvalid_0's rmse: 0.901984\n",
      "[97]\tvalid_0's rmse: 0.901927\n",
      "[98]\tvalid_0's rmse: 0.901887\n",
      "[99]\tvalid_0's rmse: 0.901765\n",
      "[100]\tvalid_0's rmse: 0.901606\n",
      "[101]\tvalid_0's rmse: 0.901567\n",
      "[102]\tvalid_0's rmse: 0.901469\n",
      "[103]\tvalid_0's rmse: 0.901419\n",
      "[104]\tvalid_0's rmse: 0.901314\n",
      "[105]\tvalid_0's rmse: 0.901232\n",
      "[106]\tvalid_0's rmse: 0.90113\n",
      "[107]\tvalid_0's rmse: 0.901063\n",
      "[108]\tvalid_0's rmse: 0.900916\n",
      "[109]\tvalid_0's rmse: 0.900847\n",
      "[110]\tvalid_0's rmse: 0.900815\n",
      "[111]\tvalid_0's rmse: 0.900778\n",
      "[112]\tvalid_0's rmse: 0.900712\n",
      "[113]\tvalid_0's rmse: 0.900663\n",
      "[114]\tvalid_0's rmse: 0.900625\n",
      "[115]\tvalid_0's rmse: 0.900576\n",
      "[116]\tvalid_0's rmse: 0.90054\n",
      "[117]\tvalid_0's rmse: 0.900493\n",
      "[118]\tvalid_0's rmse: 0.90045\n",
      "[119]\tvalid_0's rmse: 0.900353\n",
      "[120]\tvalid_0's rmse: 0.900244\n",
      "[121]\tvalid_0's rmse: 0.900215\n",
      "[122]\tvalid_0's rmse: 0.900057\n",
      "[123]\tvalid_0's rmse: 0.899955\n",
      "[124]\tvalid_0's rmse: 0.899898\n",
      "[125]\tvalid_0's rmse: 0.899868\n",
      "[126]\tvalid_0's rmse: 0.899839\n",
      "[127]\tvalid_0's rmse: 0.899813\n",
      "[128]\tvalid_0's rmse: 0.899725\n",
      "[129]\tvalid_0's rmse: 0.899672\n",
      "[130]\tvalid_0's rmse: 0.899645\n",
      "[131]\tvalid_0's rmse: 0.899596\n",
      "[132]\tvalid_0's rmse: 0.899572\n",
      "[133]\tvalid_0's rmse: 0.89953\n",
      "[134]\tvalid_0's rmse: 0.899489\n",
      "[135]\tvalid_0's rmse: 0.899441\n",
      "[136]\tvalid_0's rmse: 0.899399\n",
      "[137]\tvalid_0's rmse: 0.899313\n",
      "[138]\tvalid_0's rmse: 0.899213\n",
      "[139]\tvalid_0's rmse: 0.899118\n",
      "[140]\tvalid_0's rmse: 0.899069\n",
      "[141]\tvalid_0's rmse: 0.899048\n",
      "[142]\tvalid_0's rmse: 0.898999\n",
      "[143]\tvalid_0's rmse: 0.898968\n",
      "[144]\tvalid_0's rmse: 0.898882\n",
      "[145]\tvalid_0's rmse: 0.898849\n",
      "[146]\tvalid_0's rmse: 0.898819\n",
      "[147]\tvalid_0's rmse: 0.898735\n",
      "[148]\tvalid_0's rmse: 0.898633\n",
      "[149]\tvalid_0's rmse: 0.898592\n",
      "[150]\tvalid_0's rmse: 0.898561\n",
      "[151]\tvalid_0's rmse: 0.898533\n",
      "[152]\tvalid_0's rmse: 0.898503\n",
      "[153]\tvalid_0's rmse: 0.898414\n",
      "[154]\tvalid_0's rmse: 0.898357\n",
      "[155]\tvalid_0's rmse: 0.89833\n",
      "[156]\tvalid_0's rmse: 0.898283\n",
      "[157]\tvalid_0's rmse: 0.89825\n",
      "[158]\tvalid_0's rmse: 0.898218\n",
      "[159]\tvalid_0's rmse: 0.898203\n",
      "[160]\tvalid_0's rmse: 0.89819\n",
      "[161]\tvalid_0's rmse: 0.898118\n",
      "[162]\tvalid_0's rmse: 0.898104\n",
      "[163]\tvalid_0's rmse: 0.898003\n",
      "[164]\tvalid_0's rmse: 0.897986\n",
      "[165]\tvalid_0's rmse: 0.897949\n",
      "[166]\tvalid_0's rmse: 0.897941\n",
      "[167]\tvalid_0's rmse: 0.897891\n",
      "[168]\tvalid_0's rmse: 0.897831\n",
      "[169]\tvalid_0's rmse: 0.897789\n",
      "[170]\tvalid_0's rmse: 0.897758\n",
      "[171]\tvalid_0's rmse: 0.897709\n",
      "[172]\tvalid_0's rmse: 0.897673\n",
      "[173]\tvalid_0's rmse: 0.897601\n",
      "[174]\tvalid_0's rmse: 0.897556\n",
      "[175]\tvalid_0's rmse: 0.897534\n",
      "[176]\tvalid_0's rmse: 0.897462\n",
      "[177]\tvalid_0's rmse: 0.897445\n",
      "[178]\tvalid_0's rmse: 0.897421\n",
      "[179]\tvalid_0's rmse: 0.897415\n",
      "[180]\tvalid_0's rmse: 0.897396\n",
      "[181]\tvalid_0's rmse: 0.897367\n",
      "[182]\tvalid_0's rmse: 0.897369\n",
      "[183]\tvalid_0's rmse: 0.897355\n",
      "[184]\tvalid_0's rmse: 0.89732\n",
      "[185]\tvalid_0's rmse: 0.897257\n",
      "[186]\tvalid_0's rmse: 0.897231\n",
      "[187]\tvalid_0's rmse: 0.897208\n",
      "[188]\tvalid_0's rmse: 0.897194\n",
      "[189]\tvalid_0's rmse: 0.897173\n",
      "[190]\tvalid_0's rmse: 0.897123\n",
      "[191]\tvalid_0's rmse: 0.897087\n",
      "[192]\tvalid_0's rmse: 0.897034\n",
      "[193]\tvalid_0's rmse: 0.896985\n",
      "[194]\tvalid_0's rmse: 0.896961\n",
      "[195]\tvalid_0's rmse: 0.896924\n",
      "[196]\tvalid_0's rmse: 0.896831\n",
      "[197]\tvalid_0's rmse: 0.896789\n",
      "[198]\tvalid_0's rmse: 0.896781\n",
      "[199]\tvalid_0's rmse: 0.896758\n",
      "[200]\tvalid_0's rmse: 0.896746\n",
      "[201]\tvalid_0's rmse: 0.896734\n",
      "[202]\tvalid_0's rmse: 0.896719\n",
      "[203]\tvalid_0's rmse: 0.896711\n",
      "[204]\tvalid_0's rmse: 0.896711\n",
      "[205]\tvalid_0's rmse: 0.896667\n",
      "[206]\tvalid_0's rmse: 0.896661\n",
      "[207]\tvalid_0's rmse: 0.896644\n",
      "[208]\tvalid_0's rmse: 0.896588\n",
      "[209]\tvalid_0's rmse: 0.896554\n",
      "[210]\tvalid_0's rmse: 0.896514\n",
      "[211]\tvalid_0's rmse: 0.896439\n",
      "[212]\tvalid_0's rmse: 0.89641\n",
      "[213]\tvalid_0's rmse: 0.896267\n",
      "[214]\tvalid_0's rmse: 0.896259\n",
      "[215]\tvalid_0's rmse: 0.89623\n",
      "[216]\tvalid_0's rmse: 0.896213\n",
      "[217]\tvalid_0's rmse: 0.896213\n",
      "[218]\tvalid_0's rmse: 0.896167\n",
      "[219]\tvalid_0's rmse: 0.896137\n",
      "[220]\tvalid_0's rmse: 0.896117\n",
      "[221]\tvalid_0's rmse: 0.896107\n",
      "[222]\tvalid_0's rmse: 0.89606\n",
      "[223]\tvalid_0's rmse: 0.896058\n",
      "[224]\tvalid_0's rmse: 0.89604\n",
      "[225]\tvalid_0's rmse: 0.895969\n",
      "[226]\tvalid_0's rmse: 0.895956\n",
      "[227]\tvalid_0's rmse: 0.895945\n",
      "[228]\tvalid_0's rmse: 0.895903\n",
      "[229]\tvalid_0's rmse: 0.895861\n",
      "[230]\tvalid_0's rmse: 0.895827\n",
      "[231]\tvalid_0's rmse: 0.895811\n",
      "[232]\tvalid_0's rmse: 0.895797\n",
      "[233]\tvalid_0's rmse: 0.895705\n",
      "[234]\tvalid_0's rmse: 0.895671\n",
      "[235]\tvalid_0's rmse: 0.895584\n",
      "[236]\tvalid_0's rmse: 0.895513\n",
      "[237]\tvalid_0's rmse: 0.895468\n",
      "[238]\tvalid_0's rmse: 0.895406\n",
      "[239]\tvalid_0's rmse: 0.895402\n",
      "[240]\tvalid_0's rmse: 0.895297\n",
      "[241]\tvalid_0's rmse: 0.895292\n",
      "[242]\tvalid_0's rmse: 0.89529\n",
      "[243]\tvalid_0's rmse: 0.895277\n",
      "[244]\tvalid_0's rmse: 0.895262\n",
      "[245]\tvalid_0's rmse: 0.895262\n",
      "[246]\tvalid_0's rmse: 0.895259\n",
      "[247]\tvalid_0's rmse: 0.895232\n",
      "[248]\tvalid_0's rmse: 0.895196\n",
      "[249]\tvalid_0's rmse: 0.895194\n",
      "[250]\tvalid_0's rmse: 0.895163\n",
      "[251]\tvalid_0's rmse: 0.895148\n",
      "[252]\tvalid_0's rmse: 0.895076\n",
      "[253]\tvalid_0's rmse: 0.895073\n",
      "[254]\tvalid_0's rmse: 0.895049\n",
      "[255]\tvalid_0's rmse: 0.895023\n",
      "[256]\tvalid_0's rmse: 0.895006\n",
      "[257]\tvalid_0's rmse: 0.894993\n",
      "[258]\tvalid_0's rmse: 0.894944\n",
      "[259]\tvalid_0's rmse: 0.894926\n",
      "[260]\tvalid_0's rmse: 0.894916\n",
      "[261]\tvalid_0's rmse: 0.894909\n",
      "[262]\tvalid_0's rmse: 0.894899\n",
      "[263]\tvalid_0's rmse: 0.894847\n",
      "[264]\tvalid_0's rmse: 0.8948\n",
      "[265]\tvalid_0's rmse: 0.894797\n",
      "[266]\tvalid_0's rmse: 0.894793\n",
      "[267]\tvalid_0's rmse: 0.894733\n",
      "[268]\tvalid_0's rmse: 0.89473\n",
      "[269]\tvalid_0's rmse: 0.894711\n",
      "[270]\tvalid_0's rmse: 0.894702\n",
      "[271]\tvalid_0's rmse: 0.894692\n",
      "[272]\tvalid_0's rmse: 0.894656\n",
      "[273]\tvalid_0's rmse: 0.894644\n",
      "[274]\tvalid_0's rmse: 0.894634\n",
      "[275]\tvalid_0's rmse: 0.894596\n",
      "[276]\tvalid_0's rmse: 0.894593\n",
      "[277]\tvalid_0's rmse: 0.89457\n",
      "[278]\tvalid_0's rmse: 0.894563\n",
      "[279]\tvalid_0's rmse: 0.894552\n",
      "[280]\tvalid_0's rmse: 0.894489\n",
      "[281]\tvalid_0's rmse: 0.894489\n",
      "[282]\tvalid_0's rmse: 0.894482\n",
      "[283]\tvalid_0's rmse: 0.894448\n",
      "[284]\tvalid_0's rmse: 0.894419\n",
      "[285]\tvalid_0's rmse: 0.894417\n",
      "[286]\tvalid_0's rmse: 0.894388\n",
      "[287]\tvalid_0's rmse: 0.894376\n",
      "[288]\tvalid_0's rmse: 0.894366\n",
      "[289]\tvalid_0's rmse: 0.894315\n",
      "[290]\tvalid_0's rmse: 0.894305\n",
      "[291]\tvalid_0's rmse: 0.894271\n",
      "[292]\tvalid_0's rmse: 0.894255\n",
      "[293]\tvalid_0's rmse: 0.894248\n",
      "[294]\tvalid_0's rmse: 0.894222\n",
      "[295]\tvalid_0's rmse: 0.894218\n",
      "[296]\tvalid_0's rmse: 0.894224\n",
      "[297]\tvalid_0's rmse: 0.894221\n",
      "[298]\tvalid_0's rmse: 0.894212\n",
      "[299]\tvalid_0's rmse: 0.894145\n",
      "[300]\tvalid_0's rmse: 0.89414\n",
      "[301]\tvalid_0's rmse: 0.894125\n",
      "[302]\tvalid_0's rmse: 0.894112\n",
      "[303]\tvalid_0's rmse: 0.894111\n",
      "[304]\tvalid_0's rmse: 0.894111\n",
      "[305]\tvalid_0's rmse: 0.894079\n",
      "[306]\tvalid_0's rmse: 0.894071\n"
     ]
    },
    {
     "data": {
      "text/plain": [
       "0"
      ]
     },
     "execution_count": 13,
     "metadata": {},
     "output_type": "execute_result"
    }
   ],
   "source": [
    "seed = 0\n",
    "folds = 3\n",
    "models = []\n",
    "\n",
    "skf = StratifiedKFold(folds, shuffle = True, random_state = seed)\n",
    "\n",
    "for train_index, test_index in skf.split(train_df, train_df['investment_id']):\n",
    "    train = train_df.iloc[train_index]\n",
    "    valid = train_df.iloc[test_index]\n",
    "    \n",
    "    lgbm = LGBMRegressor(**params)\n",
    "    '''\n",
    "        num_leaves=2 ** np.random.randint(3, 8),\n",
    "        learning_rate = 10 ** (-np.random.uniform(0.1,2)),\n",
    "        n_estimators = 500,\n",
    "        min_child_samples = 1000, \n",
    "        subsample=np.random.uniform(0.5,1.0), \n",
    "        subsample_freq=1,\n",
    "        n_jobs= -1,\n",
    "        tree_method ='gpu_hist' ,\n",
    "    '''\n",
    "    \n",
    "    lgbm.fit(train[feature_cols], train['target'], eval_set = (valid[feature_cols], valid['target']))\n",
    "    models.append(lgbm)\n",
    "    gc.collect()\n",
    "gc.collect()"
   ]
  },
  {
   "cell_type": "markdown",
   "id": "58f72677",
   "metadata": {
    "papermill": {
     "duration": 0.368723,
     "end_time": "2022-04-10T04:55:38.316169",
     "exception": false,
     "start_time": "2022-04-10T04:55:37.947446",
     "status": "completed"
    },
    "tags": []
   },
   "source": [
    "- 머신러닝을 통해 나온 결과로 feature 별 중요도 그래프"
   ]
  },
  {
   "cell_type": "code",
   "execution_count": 14,
   "id": "0fbd5682",
   "metadata": {
    "execution": {
     "iopub.execute_input": "2022-04-10T04:55:39.060968Z",
     "iopub.status.busy": "2022-04-10T04:55:39.059908Z",
     "iopub.status.idle": "2022-04-10T04:55:44.637258Z",
     "shell.execute_reply": "2022-04-10T04:55:44.637805Z"
    },
    "papermill": {
     "duration": 5.953949,
     "end_time": "2022-04-10T04:55:44.637992",
     "exception": false,
     "start_time": "2022-04-10T04:55:38.684043",
     "status": "completed"
    },
    "tags": []
   },
   "outputs": [
    {
     "data": {
      "text/plain": [
       "260"
      ]
     },
     "execution_count": 14,
     "metadata": {},
     "output_type": "execute_result"
    },
    {
     "data": {
      "image/png": "[encoded data removed]",
      "text/plain": [
       "<Figure size 1440x4320 with 1 Axes>"
      ]
     },
     "metadata": {
      "needs_background": "light"
     },
     "output_type": "display_data"
    }
   ],
   "source": [
    "import lightgbm\n",
    "lightgbm.plot_importance(lgbm, figsize = (20, 60))\n",
    "gc.collect()"
   ]
  },
  {
   "cell_type": "markdown",
   "id": "b990d1c9",
   "metadata": {
    "papermill": {
     "duration": 0.382763,
     "end_time": "2022-04-10T04:55:45.402324",
     "exception": false,
     "start_time": "2022-04-10T04:55:45.019561",
     "status": "completed"
    },
    "tags": []
   },
   "source": [
    "# Step 6. 예측 및 제출"
   ]
  },
  {
   "cell_type": "markdown",
   "id": "245df741",
   "metadata": {
    "papermill": {
     "duration": 0.379354,
     "end_time": "2022-04-10T04:55:46.160134",
     "exception": false,
     "start_time": "2022-04-10T04:55:45.780780",
     "status": "completed"
    },
    "tags": []
   },
   "source": [
    "- 주최측에서 제공하는 API를 통해 제출"
   ]
  },
  {
   "cell_type": "code",
   "execution_count": 15,
   "id": "605edfb7",
   "metadata": {
    "execution": {
     "iopub.execute_input": "2022-04-10T04:55:46.921281Z",
     "iopub.status.busy": "2022-04-10T04:55:46.920638Z",
     "iopub.status.idle": "2022-04-10T04:55:46.953428Z",
     "shell.execute_reply": "2022-04-10T04:55:46.953948Z"
    },
    "papermill": {
     "duration": 0.416196,
     "end_time": "2022-04-10T04:55:46.954124",
     "exception": false,
     "start_time": "2022-04-10T04:55:46.537928",
     "status": "completed"
    },
    "tags": []
   },
   "outputs": [],
   "source": [
    "import ubiquant\n",
    "env = ubiquant.make_env()   # initialize the environment\n",
    "iter_test = env.iter_test()    # an iterator which loops over the test set and sample submission\n"
   ]
  },
  {
   "cell_type": "code",
   "execution_count": 16,
   "id": "88fab59d",
   "metadata": {
    "execution": {
     "iopub.execute_input": "2022-04-10T04:55:47.715831Z",
     "iopub.status.busy": "2022-04-10T04:55:47.714804Z",
     "iopub.status.idle": "2022-04-10T04:55:47.864520Z",
     "shell.execute_reply": "2022-04-10T04:55:47.863746Z"
    },
    "papermill": {
     "duration": 0.531557,
     "end_time": "2022-04-10T04:55:47.864699",
     "exception": false,
     "start_time": "2022-04-10T04:55:47.333142",
     "status": "completed"
    },
    "tags": []
   },
   "outputs": [
    {
     "name": "stdout",
     "output_type": "stream",
     "text": [
      "This version of the API is not optimized and should not be used to estimate the runtime of your code on the hidden test set.\n"
     ]
    }
   ],
   "source": [
    "for (test_df, sample_prediction_df) in iter_test:\n",
    "    \n",
    "    test_df['target']  = 0\n",
    "    \n",
    "    for lgbm in models:\n",
    "        test_df['target'] += lgbm.predict(test_df[feature_cols])\n",
    "    test_df['target'] /= len(models)\n",
    "    env.predict(test_df[['row_id','target']])"
   ]
  },
  {
   "cell_type": "markdown",
   "id": "70630495",
   "metadata": {
    "papermill": {
     "duration": 0.381778,
     "end_time": "2022-04-10T04:55:48.627405",
     "exception": false,
     "start_time": "2022-04-10T04:55:48.245627",
     "status": "completed"
    },
    "tags": []
   },
   "source": [
    "# References :    \n",
    "https://www.kaggle.com/code/yoshikuwano/fast-read-data-and-memory-optimization/notebook   \n",
    "https://www.kaggle.com/code/rohanrao/tutorial-on-reading-large-datasets/notebook#Format:-csv   \n",
    "https://www.kaggle.com/code/sytuannguyen/ubiquant-data-preparation#3.-Save-the-reduced-dataframe   \n",
    "https://www.kaggle.com/code/jnegrini/ubiquant-eda    \n",
    "https://www.kaggle.com/code/gunesevitan/ubiquant-market-prediction-eda/notebook#3.-Target   \n",
    "https://www.kaggle.com/code/ilialar/ubiquant-eda-and-baseline#Features    \n",
    "https://www.kaggle.com/competitions/ubiquant-market-prediction/data    \n",
    "https://www.kaggle.com/code/larochemf/ubiquant-low-memory-use-be-careful/notebook    \n",
    "https://www.kaggle.com/code/robikscube/fast-data-loading-and-low-mem-with-parquet-files/notebook    \n",
    "https://www.kaggle.com/code/lucamassaron/eda-target-analysis       \n",
    "https://www.kaggle.com/code/edwardcrookenden/eda-and-lgbm-baseline-feature-imp    \n",
    "https://www.kaggle.com/competitions/ubiquant-market-prediction/discussion/305031    \n",
    "https://www.kaggle.com/code/junjitakeshima/ubiquant-simple-lgbm-removing-outliers-en-jp/notebook#(1)-Read-Trainiing-Data    \n",
    "https://www.kaggle.com/code/valleyzw/ubiquant-lgbm-baseline/notebook#Stock-market-calendar-analysis:-discussion     \n",
    "https://www.kaggle.com/code/sytuannguyen/ubiquant-with-lightgbm   \n",
    "https://www.kaggle.com/code/jiprud/simple-light-gbm   \n",
    "https://www.kaggle.com/code/ilialar/ubiquant-eda-and-baseline#Model-training"
   ]
  }
 ],
 "metadata": {
  "kernelspec": {
   "display_name": "Python 3",
   "language": "python",
   "name": "python3"
  },
  "language_info": {
   "codemirror_mode": {
    "name": "ipython",
    "version": 3
   },
   "file_extension": ".py",
   "mimetype": "text/x-python",
   "name": "python",
   "nbconvert_exporter": "python",
   "pygments_lexer": "ipython3",
   "version": "3.7.12"
  },
  "papermill": {
   "default_parameters": {},
   "duration": 1580.28149,
   "end_time": "2022-04-10T04:55:50.634747",
   "environment_variables": {},
   "exception": null,
   "input_path": "__notebook__.ipynb",
   "output_path": "__notebook__.ipynb",
   "parameters": {},
   "start_time": "2022-04-10T04:29:30.353257",
   "version": "2.3.3"
  }
 },
 "nbformat": 4,
 "nbformat_minor": 5
}
