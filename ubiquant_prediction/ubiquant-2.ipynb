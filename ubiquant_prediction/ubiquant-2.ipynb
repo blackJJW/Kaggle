{
 "cells": [
  {
   "cell_type": "markdown",
   "id": "3db6ff65",
   "metadata": {
    "papermill": {
     "duration": 0.034199,
     "end_time": "2022-04-10T03:16:48.309418",
     "exception": false,
     "start_time": "2022-04-10T03:16:48.275219",
     "status": "completed"
    },
    "tags": []
   },
   "source": [
    "# 프로젝트 개요\n",
    "- 강의명 : 2022년 K-디지털 직업훈련(Training) 사업 - AI데이터플랫폼을 활용한 빅데이터 분석전문가 과정\n",
    "- 교과목명 : 빅데이터 분석 및 시각화, AI개발 기초, 인공지능 프로그래밍\n",
    "- 프로젝트 주제 : Ubiquant Market 데이터를 활용한 미래 투자 예측\n",
    "- 프로젝트 마감일 : 2022년 4월 12일 화요일\n",
    "- 강사명 : 정지훈 강사\n",
    "- 수강생명 : 정진우"
   ]
  },
  {
   "cell_type": "markdown",
   "id": "1caa68aa",
   "metadata": {
    "papermill": {
     "duration": 0.028166,
     "end_time": "2022-04-10T03:16:48.366558",
     "exception": false,
     "start_time": "2022-04-10T03:16:48.338392",
     "status": "completed"
    },
    "tags": []
   },
   "source": [
    "## < Score Improvement History >\n",
    "|#|> std * x|k-fold|score|\n",
    "|:-:|:-:|:-:|:-:|\n",
    "|1|> std * 70|3|0.1388|\n",
    "|2|> std * 60|3|0.1387|\n",
    "|3|> std * 50|3||\n",
    "|4|> std * 40|3||"
   ]
  },
  {
   "cell_type": "markdown",
   "id": "ef3a6d14",
   "metadata": {
    "papermill": {
     "duration": 0.0279,
     "end_time": "2022-04-10T03:16:48.423043",
     "exception": false,
     "start_time": "2022-04-10T03:16:48.395143",
     "status": "completed"
    },
    "tags": []
   },
   "source": [
    "# Step 1 ~ 3 :    \n",
    "https://www.kaggle.com/code/blackjjw/ubiquant-eda\n",
    "## dataset :   \n",
    "https://www.kaggle.com/datasets/blackjjw/ubiquant-train-df-low-memory-pkl"
   ]
  },
  {
   "cell_type": "markdown",
   "id": "c090f4d3",
   "metadata": {
    "papermill": {
     "duration": 0.027991,
     "end_time": "2022-04-10T03:16:48.479671",
     "exception": false,
     "start_time": "2022-04-10T03:16:48.451680",
     "status": "completed"
    },
    "tags": []
   },
   "source": [
    "# 라이브러리 불러오기"
   ]
  },
  {
   "cell_type": "code",
   "execution_count": 1,
   "id": "ff0a0a29",
   "metadata": {
    "_cell_guid": "b1076dfc-b9ad-4769-8c92-a6c4dae69d19",
    "_uuid": "8f2839f25d086af736a60e9eeb907d3b93b6e0e5",
    "execution": {
     "iopub.execute_input": "2022-04-10T03:16:48.540966Z",
     "iopub.status.busy": "2022-04-10T03:16:48.539814Z",
     "iopub.status.idle": "2022-04-10T03:16:50.800016Z",
     "shell.execute_reply": "2022-04-10T03:16:50.799293Z",
     "shell.execute_reply.started": "2022-04-10T03:16:10.753451Z"
    },
    "papermill": {
     "duration": 2.291976,
     "end_time": "2022-04-10T03:16:50.800189",
     "exception": false,
     "start_time": "2022-04-10T03:16:48.508213",
     "status": "completed"
    },
    "tags": []
   },
   "outputs": [
    {
     "data": {
      "text/html": [
       "<style type='text/css'>\n",
       ".datatable table.frame { margin-bottom: 0; }\n",
       ".datatable table.frame thead { border-bottom: none; }\n",
       ".datatable table.frame tr.coltypes td {  color: #FFFFFF;  line-height: 6px;  padding: 0 0.5em;}\n",
       ".datatable .bool    { background: #DDDD99; }\n",
       ".datatable .object  { background: #565656; }\n",
       ".datatable .int     { background: #5D9E5D; }\n",
       ".datatable .float   { background: #4040CC; }\n",
       ".datatable .str     { background: #CC4040; }\n",
       ".datatable .time    { background: #40CC40; }\n",
       ".datatable .row_index {  background: var(--jp-border-color3);  border-right: 1px solid var(--jp-border-color0);  color: var(--jp-ui-font-color3);  font-size: 9px;}\n",
       ".datatable .frame tbody td { text-align: left; }\n",
       ".datatable .frame tr.coltypes .row_index {  background: var(--jp-border-color0);}\n",
       ".datatable th:nth-child(2) { padding-left: 12px; }\n",
       ".datatable .hellipsis {  color: var(--jp-cell-editor-border-color);}\n",
       ".datatable .vellipsis {  background: var(--jp-layout-color0);  color: var(--jp-cell-editor-border-color);}\n",
       ".datatable .na {  color: var(--jp-cell-editor-border-color);  font-size: 80%;}\n",
       ".datatable .sp {  opacity: 0.25;}\n",
       ".datatable .footer { font-size: 9px; }\n",
       ".datatable .frame_dimensions {  background: var(--jp-border-color3);  border-top: 1px solid var(--jp-border-color0);  color: var(--jp-ui-font-color3);  display: inline-block;  opacity: 0.6;  padding: 1px 10px 1px 5px;}\n",
       "</style>\n"
      ],
      "text/plain": [
       "<IPython.core.display.HTML object>"
      ]
     },
     "metadata": {},
     "output_type": "display_data"
    }
   ],
   "source": [
    "import numpy as np\n",
    "import pandas as pd\n",
    "\n",
    "import gc\n",
    "import joblib\n",
    "\n",
    "import matplotlib.pyplot as plt\n",
    "%matplotlib inline\n",
    "import seaborn as sns\n",
    "import scipy as stats\n",
    "\n",
    "from sklearn import preprocessing\n",
    "from sklearn.model_selection import StratifiedKFold \n",
    "from sklearn.model_selection import GroupKFold\n",
    "from sklearn.model_selection import train_test_split\n",
    "from sklearn.metrics import mean_squared_error, mean_absolute_error, accuracy_score, confusion_matrix\n",
    "from sklearn.ensemble import RandomForestRegressor\n",
    "\n",
    "import lightgbm as lgbm\n",
    "from lightgbm import *"
   ]
  },
  {
   "cell_type": "markdown",
   "id": "a661b832",
   "metadata": {
    "papermill": {
     "duration": 0.028973,
     "end_time": "2022-04-10T03:16:50.859115",
     "exception": false,
     "start_time": "2022-04-10T03:16:50.830142",
     "status": "completed"
    },
    "tags": []
   },
   "source": [
    "# 데이터 불러오기\n",
    "- Step 1 ~ 3에서 진행하고 생성한 train_df.pkl를 read."
   ]
  },
  {
   "cell_type": "code",
   "execution_count": 2,
   "id": "31658552",
   "metadata": {
    "execution": {
     "iopub.execute_input": "2022-04-10T03:16:50.924112Z",
     "iopub.status.busy": "2022-04-10T03:16:50.923437Z",
     "iopub.status.idle": "2022-04-10T03:17:08.488875Z",
     "shell.execute_reply": "2022-04-10T03:17:08.489600Z"
    },
    "papermill": {
     "duration": 17.601287,
     "end_time": "2022-04-10T03:17:08.489799",
     "exception": false,
     "start_time": "2022-04-10T03:16:50.888512",
     "status": "completed"
    },
    "tags": []
   },
   "outputs": [
    {
     "name": "stdout",
     "output_type": "stream",
     "text": [
      "CPU times: user 999 ms, sys: 2.23 s, total: 3.23 s\n",
      "Wall time: 17.5 s\n"
     ]
    },
    {
     "data": {
      "text/html": [
       "<div>\n",
       "<style scoped>\n",
       "    .dataframe tbody tr th:only-of-type {\n",
       "        vertical-align: middle;\n",
       "    }\n",
       "\n",
       "    .dataframe tbody tr th {\n",
       "        vertical-align: top;\n",
       "    }\n",
       "\n",
       "    .dataframe thead th {\n",
       "        text-align: right;\n",
       "    }\n",
       "</style>\n",
       "<table border=\"1\" class=\"dataframe\">\n",
       "  <thead>\n",
       "    <tr style=\"text-align: right;\">\n",
       "      <th></th>\n",
       "      <th>row_id</th>\n",
       "      <th>time_id</th>\n",
       "      <th>investment_id</th>\n",
       "      <th>target</th>\n",
       "      <th>f_0</th>\n",
       "      <th>f_1</th>\n",
       "      <th>f_2</th>\n",
       "      <th>f_3</th>\n",
       "      <th>f_4</th>\n",
       "      <th>f_5</th>\n",
       "      <th>...</th>\n",
       "      <th>f_290</th>\n",
       "      <th>f_291</th>\n",
       "      <th>f_292</th>\n",
       "      <th>f_293</th>\n",
       "      <th>f_294</th>\n",
       "      <th>f_295</th>\n",
       "      <th>f_296</th>\n",
       "      <th>f_297</th>\n",
       "      <th>f_298</th>\n",
       "      <th>f_299</th>\n",
       "    </tr>\n",
       "  </thead>\n",
       "  <tbody>\n",
       "    <tr>\n",
       "      <th>0</th>\n",
       "      <td>0_1</td>\n",
       "      <td>0</td>\n",
       "      <td>1</td>\n",
       "      <td>-0.300781</td>\n",
       "      <td>0.932617</td>\n",
       "      <td>0.113708</td>\n",
       "      <td>-0.402100</td>\n",
       "      <td>0.378418</td>\n",
       "      <td>-0.203979</td>\n",
       "      <td>-0.413574</td>\n",
       "      <td>...</td>\n",
       "      <td>0.365967</td>\n",
       "      <td>-1.095703</td>\n",
       "      <td>0.200073</td>\n",
       "      <td>0.819336</td>\n",
       "      <td>0.941406</td>\n",
       "      <td>-0.086792</td>\n",
       "      <td>-1.086914</td>\n",
       "      <td>-1.044922</td>\n",
       "      <td>-0.287598</td>\n",
       "      <td>0.321533</td>\n",
       "    </tr>\n",
       "    <tr>\n",
       "      <th>1</th>\n",
       "      <td>0_2</td>\n",
       "      <td>0</td>\n",
       "      <td>2</td>\n",
       "      <td>-0.231079</td>\n",
       "      <td>0.811035</td>\n",
       "      <td>-0.514160</td>\n",
       "      <td>0.742188</td>\n",
       "      <td>-0.616699</td>\n",
       "      <td>-0.194214</td>\n",
       "      <td>1.771484</td>\n",
       "      <td>...</td>\n",
       "      <td>-0.154175</td>\n",
       "      <td>0.912598</td>\n",
       "      <td>-0.734375</td>\n",
       "      <td>0.819336</td>\n",
       "      <td>0.941406</td>\n",
       "      <td>-0.387695</td>\n",
       "      <td>-1.086914</td>\n",
       "      <td>-0.929688</td>\n",
       "      <td>-0.974121</td>\n",
       "      <td>-0.343506</td>\n",
       "    </tr>\n",
       "    <tr>\n",
       "      <th>2</th>\n",
       "      <td>0_6</td>\n",
       "      <td>0</td>\n",
       "      <td>6</td>\n",
       "      <td>0.568848</td>\n",
       "      <td>0.394043</td>\n",
       "      <td>0.615723</td>\n",
       "      <td>0.567871</td>\n",
       "      <td>-0.607910</td>\n",
       "      <td>0.068909</td>\n",
       "      <td>-1.083008</td>\n",
       "      <td>...</td>\n",
       "      <td>-0.138062</td>\n",
       "      <td>0.912598</td>\n",
       "      <td>-0.551758</td>\n",
       "      <td>-1.220703</td>\n",
       "      <td>-1.060547</td>\n",
       "      <td>-0.219116</td>\n",
       "      <td>-1.086914</td>\n",
       "      <td>-0.612305</td>\n",
       "      <td>-0.113953</td>\n",
       "      <td>0.243652</td>\n",
       "    </tr>\n",
       "    <tr>\n",
       "      <th>3</th>\n",
       "      <td>0_7</td>\n",
       "      <td>0</td>\n",
       "      <td>7</td>\n",
       "      <td>-1.064453</td>\n",
       "      <td>-2.343750</td>\n",
       "      <td>-0.011871</td>\n",
       "      <td>1.875000</td>\n",
       "      <td>-0.606445</td>\n",
       "      <td>-0.586914</td>\n",
       "      <td>-0.815918</td>\n",
       "      <td>...</td>\n",
       "      <td>0.382080</td>\n",
       "      <td>0.912598</td>\n",
       "      <td>-0.266357</td>\n",
       "      <td>-1.220703</td>\n",
       "      <td>0.941406</td>\n",
       "      <td>-0.608887</td>\n",
       "      <td>0.104919</td>\n",
       "      <td>-0.783203</td>\n",
       "      <td>1.151367</td>\n",
       "      <td>-0.773438</td>\n",
       "    </tr>\n",
       "    <tr>\n",
       "      <th>4</th>\n",
       "      <td>0_8</td>\n",
       "      <td>0</td>\n",
       "      <td>8</td>\n",
       "      <td>-0.531738</td>\n",
       "      <td>0.842285</td>\n",
       "      <td>-0.262939</td>\n",
       "      <td>2.330078</td>\n",
       "      <td>-0.583496</td>\n",
       "      <td>-0.618164</td>\n",
       "      <td>-0.742676</td>\n",
       "      <td>...</td>\n",
       "      <td>-0.170410</td>\n",
       "      <td>0.912598</td>\n",
       "      <td>-0.741211</td>\n",
       "      <td>-1.220703</td>\n",
       "      <td>0.941406</td>\n",
       "      <td>-0.588379</td>\n",
       "      <td>0.104919</td>\n",
       "      <td>0.753418</td>\n",
       "      <td>1.345703</td>\n",
       "      <td>-0.737793</td>\n",
       "    </tr>\n",
       "  </tbody>\n",
       "</table>\n",
       "<p>5 rows × 304 columns</p>\n",
       "</div>"
      ],
      "text/plain": [
       "  row_id  time_id  investment_id    target       f_0       f_1       f_2  \\\n",
       "0    0_1        0              1 -0.300781  0.932617  0.113708 -0.402100   \n",
       "1    0_2        0              2 -0.231079  0.811035 -0.514160  0.742188   \n",
       "2    0_6        0              6  0.568848  0.394043  0.615723  0.567871   \n",
       "3    0_7        0              7 -1.064453 -2.343750 -0.011871  1.875000   \n",
       "4    0_8        0              8 -0.531738  0.842285 -0.262939  2.330078   \n",
       "\n",
       "        f_3       f_4       f_5  ...     f_290     f_291     f_292     f_293  \\\n",
       "0  0.378418 -0.203979 -0.413574  ...  0.365967 -1.095703  0.200073  0.819336   \n",
       "1 -0.616699 -0.194214  1.771484  ... -0.154175  0.912598 -0.734375  0.819336   \n",
       "2 -0.607910  0.068909 -1.083008  ... -0.138062  0.912598 -0.551758 -1.220703   \n",
       "3 -0.606445 -0.586914 -0.815918  ...  0.382080  0.912598 -0.266357 -1.220703   \n",
       "4 -0.583496 -0.618164 -0.742676  ... -0.170410  0.912598 -0.741211 -1.220703   \n",
       "\n",
       "      f_294     f_295     f_296     f_297     f_298     f_299  \n",
       "0  0.941406 -0.086792 -1.086914 -1.044922 -0.287598  0.321533  \n",
       "1  0.941406 -0.387695 -1.086914 -0.929688 -0.974121 -0.343506  \n",
       "2 -1.060547 -0.219116 -1.086914 -0.612305 -0.113953  0.243652  \n",
       "3  0.941406 -0.608887  0.104919 -0.783203  1.151367 -0.773438  \n",
       "4  0.941406 -0.588379  0.104919  0.753418  1.345703 -0.737793  \n",
       "\n",
       "[5 rows x 304 columns]"
      ]
     },
     "execution_count": 2,
     "metadata": {},
     "output_type": "execute_result"
    }
   ],
   "source": [
    "%%time\n",
    "train_df = pd.read_pickle('../input/ubiquant-train-df-low-memory-pkl/train_df.pkl')\n",
    "train_df.head()"
   ]
  },
  {
   "cell_type": "markdown",
   "id": "10b059c9",
   "metadata": {
    "papermill": {
     "duration": 0.030167,
     "end_time": "2022-04-10T03:17:08.553261",
     "exception": false,
     "start_time": "2022-04-10T03:17:08.523094",
     "status": "completed"
    },
    "tags": []
   },
   "source": [
    "# Step 4. 데이터 전처리"
   ]
  },
  {
   "cell_type": "markdown",
   "id": "810b6435",
   "metadata": {
    "papermill": {
     "duration": 0.030334,
     "end_time": "2022-04-10T03:17:08.614331",
     "exception": false,
     "start_time": "2022-04-10T03:17:08.583997",
     "status": "completed"
    },
    "tags": []
   },
   "source": [
    "## 필요없는 컬럼 제거\n",
    "- row_id는 단순 행 번호를 나타내므로 제거.\n",
    "- 컬럼 리스트를 따로 생성하고 'row_id' 제거.\n",
    "- 'time_id' 제거\n",
    "- 종속변수인 'target' 제거.\n",
    "- 필요없는 컬럼이 생성된 리스트를 통해 필요한 컬럼들만 추출하여 사용."
   ]
  },
  {
   "cell_type": "code",
   "execution_count": 3,
   "id": "c5ef4fd5",
   "metadata": {
    "execution": {
     "iopub.execute_input": "2022-04-10T03:17:08.679684Z",
     "iopub.status.busy": "2022-04-10T03:17:08.678680Z",
     "iopub.status.idle": "2022-04-10T03:17:08.689165Z",
     "shell.execute_reply": "2022-04-10T03:17:08.689634Z"
    },
    "papermill": {
     "duration": 0.044949,
     "end_time": "2022-04-10T03:17:08.689822",
     "exception": false,
     "start_time": "2022-04-10T03:17:08.644873",
     "status": "completed"
    },
    "tags": []
   },
   "outputs": [
    {
     "data": {
      "text/plain": [
       "Index(['investment_id', 'f_0', 'f_1', 'f_2', 'f_3', 'f_4', 'f_5', 'f_6', 'f_7',\n",
       "       'f_8',\n",
       "       ...\n",
       "       'f_290', 'f_291', 'f_292', 'f_293', 'f_294', 'f_295', 'f_296', 'f_297',\n",
       "       'f_298', 'f_299'],\n",
       "      dtype='object', length=301)"
      ]
     },
     "execution_count": 3,
     "metadata": {},
     "output_type": "execute_result"
    }
   ],
   "source": [
    "feature_cols = train_df.columns.unique()\n",
    "feature_cols = feature_cols.drop(['row_id', 'target', 'time_id'])\n",
    "feature_cols"
   ]
  },
  {
   "cell_type": "markdown",
   "id": "6b56d8f2",
   "metadata": {
    "papermill": {
     "duration": 0.03097,
     "end_time": "2022-04-10T03:17:08.751763",
     "exception": false,
     "start_time": "2022-04-10T03:17:08.720793",
     "status": "completed"
    },
    "tags": []
   },
   "source": [
    "## 결측치 제거\n",
    "- dataset 내에 결측치가 존재하지 않음."
   ]
  },
  {
   "cell_type": "markdown",
   "id": "21e08416",
   "metadata": {
    "papermill": {
     "duration": 0.030968,
     "end_time": "2022-04-10T03:17:08.813851",
     "exception": false,
     "start_time": "2022-04-10T03:17:08.782883",
     "status": "completed"
    },
    "tags": []
   },
   "source": [
    "## 이상치 제거\n",
    "- 평균에서 멀리 떨어져 있는 값들을 제거 (> std*num)"
   ]
  },
  {
   "cell_type": "markdown",
   "id": "f4d7730c",
   "metadata": {
    "papermill": {
     "duration": 0.031987,
     "end_time": "2022-04-10T03:17:08.877404",
     "exception": false,
     "start_time": "2022-04-10T03:17:08.845417",
     "status": "completed"
    },
    "tags": []
   },
   "source": [
    "## mean > std * x\n",
    "- 이상치의 개수와 리스트를 반환\n",
    "|x|outlier count|\n",
    "|:---:|:---:|\n",
    "|70|128|\n",
    "|60|325|\n",
    "|50|788|\n",
    "|40|2232|"
   ]
  },
  {
   "cell_type": "code",
   "execution_count": 4,
   "id": "3dc55bc6",
   "metadata": {
    "execution": {
     "iopub.execute_input": "2022-04-10T03:17:08.944174Z",
     "iopub.status.busy": "2022-04-10T03:17:08.943168Z",
     "iopub.status.idle": "2022-04-10T03:17:34.462205Z",
     "shell.execute_reply": "2022-04-10T03:17:34.462735Z"
    },
    "papermill": {
     "duration": 25.554236,
     "end_time": "2022-04-10T03:17:34.462946",
     "exception": false,
     "start_time": "2022-04-10T03:17:08.908710",
     "status": "completed"
    },
    "tags": []
   },
   "outputs": [
    {
     "name": "stdout",
     "output_type": "stream",
     "text": [
      "f_3 14\n",
      "f_4 309\n",
      "f_10 116\n",
      "f_12 1\n",
      "f_13 19\n",
      "f_23 29\n",
      "f_37 1\n",
      "f_38 51\n",
      "f_39 7\n",
      "f_40 53\n",
      "f_45 3\n",
      "f_49 27\n",
      "f_54 9\n",
      "f_55 1\n",
      "f_64 33\n",
      "f_71 2\n",
      "f_74 312\n",
      "f_78 170\n",
      "f_80 9\n",
      "f_83 52\n",
      "f_84 56\n",
      "f_87 1\n",
      "f_95 39\n",
      "f_99 2\n",
      "f_101 40\n",
      "f_102 7\n",
      "f_104 1\n",
      "f_113 25\n",
      "f_115 182\n",
      "f_117 133\n",
      "f_118 1\n",
      "f_122 2\n",
      "f_123 15\n",
      "f_124 24\n",
      "f_127 272\n",
      "f_128 4\n",
      "f_131 82\n",
      "f_136 1\n",
      "f_145 1\n",
      "f_149 1\n",
      "f_151 74\n",
      "f_153 13\n",
      "f_155 69\n",
      "f_160 12\n",
      "f_162 49\n",
      "f_165 1\n",
      "f_172 68\n",
      "f_174 1\n",
      "f_175 35\n",
      "f_179 2\n",
      "f_183 246\n",
      "f_188 17\n",
      "f_193 41\n",
      "f_196 1\n",
      "f_197 1\n",
      "f_200 118\n",
      "f_202 6\n",
      "f_204 4\n",
      "f_214 1\n",
      "f_215 1\n",
      "f_219 1\n",
      "f_224 78\n",
      "f_228 55\n",
      "f_233 1\n",
      "f_236 61\n",
      "f_245 32\n",
      "f_249 1\n",
      "f_251 7\n",
      "f_262 47\n",
      "f_269 35\n",
      "f_271 26\n",
      "f_277 1\n",
      "f_280 27\n",
      "f_286 33\n",
      "f_288 3\n",
      "f_289 196\n",
      "f_295 1\n",
      "f_299 8\n",
      "2232\n"
     ]
    },
    {
     "data": {
      "text/plain": [
       "0"
      ]
     },
     "execution_count": 4,
     "metadata": {},
     "output_type": "execute_result"
    }
   ],
   "source": [
    "outlier_list = []\n",
    "num = 40\n",
    "\n",
    "for col in feature_cols :\n",
    "    trans_dtype_df = train_df[col].astype(np.float32)\n",
    "    \n",
    "    temp_df = train_df[(trans_dtype_df > trans_dtype_df.mean() + trans_dtype_df.std() * num) |\n",
    "                       (trans_dtype_df < trans_dtype_df.mean() - trans_dtype_df.std() * num) ]\n",
    "    if len(temp_df) >0 :\n",
    "        outliers = temp_df.index.to_list()\n",
    "        outlier_list.extend(outliers)\n",
    "        print(col, len(temp_df))\n",
    "        gc.collect()\n",
    "\n",
    "outlier_list = list(set(outlier_list))\n",
    "print(len(outlier_list))\n",
    "gc.collect()"
   ]
  },
  {
   "cell_type": "markdown",
   "id": "13737516",
   "metadata": {
    "papermill": {
     "duration": 0.049667,
     "end_time": "2022-04-10T03:17:34.563786",
     "exception": false,
     "start_time": "2022-04-10T03:17:34.514119",
     "status": "completed"
    },
    "tags": []
   },
   "source": [
    "- 이상치 제거"
   ]
  },
  {
   "cell_type": "code",
   "execution_count": 5,
   "id": "fe18b92b",
   "metadata": {
    "execution": {
     "iopub.execute_input": "2022-04-10T03:17:34.669869Z",
     "iopub.status.busy": "2022-04-10T03:17:34.669160Z",
     "iopub.status.idle": "2022-04-10T03:17:43.145764Z",
     "shell.execute_reply": "2022-04-10T03:17:43.146279Z"
    },
    "papermill": {
     "duration": 8.532012,
     "end_time": "2022-04-10T03:17:43.146459",
     "exception": false,
     "start_time": "2022-04-10T03:17:34.614447",
     "status": "completed"
    },
    "tags": []
   },
   "outputs": [
    {
     "data": {
      "text/plain": [
       "21"
      ]
     },
     "execution_count": 5,
     "metadata": {},
     "output_type": "execute_result"
    }
   ],
   "source": [
    "train_df.drop(train_df.index[outlier_list], inplace = True)\n",
    "train_df\n",
    "gc.collect()"
   ]
  },
  {
   "cell_type": "markdown",
   "id": "93a19187",
   "metadata": {
    "papermill": {
     "duration": 0.067878,
     "end_time": "2022-04-10T03:17:43.265093",
     "exception": false,
     "start_time": "2022-04-10T03:17:43.197215",
     "status": "completed"
    },
    "tags": []
   },
   "source": [
    "# Step 5. 머신러닝 모형 개발"
   ]
  },
  {
   "cell_type": "markdown",
   "id": "52f5f30b",
   "metadata": {
    "papermill": {
     "duration": 0.062794,
     "end_time": "2022-04-10T03:17:43.397656",
     "exception": false,
     "start_time": "2022-04-10T03:17:43.334862",
     "status": "completed"
    },
    "tags": []
   },
   "source": [
    "- 독립변수와 종속변수를 구분."
   ]
  },
  {
   "cell_type": "code",
   "execution_count": 6,
   "id": "a89507e7",
   "metadata": {
    "execution": {
     "iopub.execute_input": "2022-04-10T03:17:43.527706Z",
     "iopub.status.busy": "2022-04-10T03:17:43.526971Z",
     "iopub.status.idle": "2022-04-10T03:17:43.528362Z",
     "shell.execute_reply": "2022-04-10T03:17:43.528953Z"
    },
    "papermill": {
     "duration": 0.068659,
     "end_time": "2022-04-10T03:17:43.529115",
     "exception": false,
     "start_time": "2022-04-10T03:17:43.460456",
     "status": "completed"
    },
    "tags": []
   },
   "outputs": [],
   "source": [
    "#X = train_df[feature_cols]\n",
    "#y = train_df['target']"
   ]
  },
  {
   "cell_type": "markdown",
   "id": "5569e295",
   "metadata": {
    "papermill": {
     "duration": 0.050377,
     "end_time": "2022-04-10T03:17:43.630962",
     "exception": false,
     "start_time": "2022-04-10T03:17:43.580585",
     "status": "completed"
    },
    "tags": []
   },
   "source": [
    "- X, y 데이터 분리"
   ]
  },
  {
   "cell_type": "code",
   "execution_count": 7,
   "id": "1b7e91df",
   "metadata": {
    "execution": {
     "iopub.execute_input": "2022-04-10T03:17:43.735189Z",
     "iopub.status.busy": "2022-04-10T03:17:43.734549Z",
     "iopub.status.idle": "2022-04-10T03:17:43.737445Z",
     "shell.execute_reply": "2022-04-10T03:17:43.738039Z"
    },
    "papermill": {
     "duration": 0.056666,
     "end_time": "2022-04-10T03:17:43.738207",
     "exception": false,
     "start_time": "2022-04-10T03:17:43.681541",
     "status": "completed"
    },
    "tags": []
   },
   "outputs": [],
   "source": [
    "#X_train, X_valid, y_train, y_valid = train_test_split(X, y, test_size = 0.3, random_state = 42, shuffle = False)\n",
    "#X_train.shape, X_valid.shape, y_train.shape, y_valid.shape"
   ]
  },
  {
   "cell_type": "markdown",
   "id": "1c44a564",
   "metadata": {
    "papermill": {
     "duration": 0.050391,
     "end_time": "2022-04-10T03:17:43.839204",
     "exception": false,
     "start_time": "2022-04-10T03:17:43.788813",
     "status": "completed"
    },
    "tags": []
   },
   "source": [
    "- RAM 확보를 위해 X, y 제거"
   ]
  },
  {
   "cell_type": "code",
   "execution_count": 8,
   "id": "88f6a2f9",
   "metadata": {
    "execution": {
     "iopub.execute_input": "2022-04-10T03:17:43.946457Z",
     "iopub.status.busy": "2022-04-10T03:17:43.944109Z",
     "iopub.status.idle": "2022-04-10T03:17:43.949479Z",
     "shell.execute_reply": "2022-04-10T03:17:43.950063Z"
    },
    "papermill": {
     "duration": 0.060455,
     "end_time": "2022-04-10T03:17:43.950234",
     "exception": false,
     "start_time": "2022-04-10T03:17:43.889779",
     "status": "completed"
    },
    "tags": []
   },
   "outputs": [
    {
     "data": {
      "text/plain": [
       "'\\ndel X\\ndel y\\ngc.collect()\\n'"
      ]
     },
     "execution_count": 8,
     "metadata": {},
     "output_type": "execute_result"
    }
   ],
   "source": [
    "'''\n",
    "del X\n",
    "del y\n",
    "gc.collect()\n",
    "'''"
   ]
  },
  {
   "cell_type": "markdown",
   "id": "ba83be8a",
   "metadata": {
    "papermill": {
     "duration": 0.052337,
     "end_time": "2022-04-10T03:17:44.054005",
     "exception": false,
     "start_time": "2022-04-10T03:17:44.001668",
     "status": "completed"
    },
    "tags": []
   },
   "source": [
    "- LightGBM 클래스를 부른 후 모형을 학습"
   ]
  },
  {
   "cell_type": "code",
   "execution_count": 9,
   "id": "3bd00287",
   "metadata": {
    "execution": {
     "iopub.execute_input": "2022-04-10T03:17:44.160706Z",
     "iopub.status.busy": "2022-04-10T03:17:44.159735Z",
     "iopub.status.idle": "2022-04-10T03:17:44.164824Z",
     "shell.execute_reply": "2022-04-10T03:17:44.165415Z"
    },
    "papermill": {
     "duration": 0.059618,
     "end_time": "2022-04-10T03:17:44.165583",
     "exception": false,
     "start_time": "2022-04-10T03:17:44.105965",
     "status": "completed"
    },
    "tags": []
   },
   "outputs": [
    {
     "data": {
      "text/plain": [
       "'\\nmodel = lgbm.LGBMRegressor(\\n        objective=\"regression\",\\n        metric=\"rmse\",\\n        n_estimators=500 )\\n\\nmodel.fit(X_train, y_train)\\n'"
      ]
     },
     "execution_count": 9,
     "metadata": {},
     "output_type": "execute_result"
    }
   ],
   "source": [
    "'''\n",
    "model = lgbm.LGBMRegressor(\n",
    "        objective=\"regression\",\n",
    "        metric=\"rmse\",\n",
    "        n_estimators=500 )\n",
    "\n",
    "model.fit(X_train, y_train)\n",
    "'''"
   ]
  },
  {
   "cell_type": "code",
   "execution_count": 10,
   "id": "d0cbe4f2",
   "metadata": {
    "execution": {
     "iopub.execute_input": "2022-04-10T03:17:44.273854Z",
     "iopub.status.busy": "2022-04-10T03:17:44.272826Z",
     "iopub.status.idle": "2022-04-10T03:17:44.279423Z",
     "shell.execute_reply": "2022-04-10T03:17:44.278915Z"
    },
    "papermill": {
     "duration": 0.062346,
     "end_time": "2022-04-10T03:17:44.279577",
     "exception": false,
     "start_time": "2022-04-10T03:17:44.217231",
     "status": "completed"
    },
    "tags": []
   },
   "outputs": [
    {
     "data": {
      "text/plain": [
       "'\\nfor j in [200, 300, 400, 500, 600]:\\n        model = lgbm.LGBMRegressor(\\n            objective=\"regression\",\\n            metric=\"rmse\",\\n            n_estimators= j )\\n\\n        model.fit(X_train, y_train)\\n\\n        score = model.score(X_train, y_train)\\n        print(f\"n_e:{j}, Training Score : {score}\")\\n\\n        y_pred = model.predict(X_valid)\\n        mse = mean_squared_error(y_valid, y_pred)\\n        print(f\"n_e:{j},MSE : {mse:.2f}\")\\n'"
      ]
     },
     "execution_count": 10,
     "metadata": {},
     "output_type": "execute_result"
    }
   ],
   "source": [
    "\"\"\"\n",
    "for j in [200, 300, 400, 500, 600]:\n",
    "        model = lgbm.LGBMRegressor(\n",
    "            objective=\"regression\",\n",
    "            metric=\"rmse\",\n",
    "            n_estimators= j )\n",
    "\n",
    "        model.fit(X_train, y_train)\n",
    "\n",
    "        score = model.score(X_train, y_train)\n",
    "        print(f\"n_e:{j}, Training Score : {score}\")\n",
    "\n",
    "        y_pred = model.predict(X_valid)\n",
    "        mse = mean_squared_error(y_valid, y_pred)\n",
    "        print(f\"n_e:{j},MSE : {mse:.2f}\")\n",
    "\"\"\""
   ]
  },
  {
   "cell_type": "markdown",
   "id": "c29d4e66",
   "metadata": {
    "papermill": {
     "duration": 0.051915,
     "end_time": "2022-04-10T03:17:44.385975",
     "exception": false,
     "start_time": "2022-04-10T03:17:44.334060",
     "status": "completed"
    },
    "tags": []
   },
   "source": [
    "### Training_Score & MSE 계산\n",
    "|test_size|n_estimators|delete outliers|Training_Score|MSE|delete outliers|Training_Score|MSE|delete outliers|Training_Score|MSE|   \n",
    "|:---:|:---:|:---:|:---:|:---:|:---:|:---:|:---:|:---:|:---:|:---:|                              \n",
    "|0.2|200|X|0.054069993842590924|0.81|>std\\*70|0.05405621833673957(<span style=\"color:blue\">$\\downarrow$</span>)|0.81|>std\\*60|0.05404028505271219(<span style=\"color:blue\">$\\downarrow$</span>)|0.81|\n",
    "|0.3|200|X|0.05846368663812751|0.83|>std\\*70|0.058449805435160984(<span style=\"color:blue\">$\\downarrow$</span>)|0.82|>std\\*60|||\n",
    "|0.2|300|X|0.06668339494814646|0.82|>std\\*70|0.06660813482520711(<span style=\"color:blue\">$\\downarrow$</span>)|0.81|>std\\*60|0.06678748573971982(<span style=\"color:red\">$\\uparrow$</span>)|0.81|\n",
    "|0.3|300|X|0.07216780004832235|0.83|>std\\*70|0.07194148416323642(<span style=\"color:blue\">$\\downarrow$</span>)|0.83|>std\\*60|||\n",
    "|0.2|400|X|0.07730909212135473|0.82|>std\\*70|0.0772426438888425(<span style=\"color:blue\">$\\downarrow$</span>)|0.82|>std\\*60|0.07730612556862904(<span style=\"color:red\">$\\uparrow$</span>)|0.82|\n",
    "|0.3|400|X|0.08363594720433998|0.83|>std\\*70|0.08389302333398285(<span style=\"color:red\">$\\uparrow$</span>)|0.83|>std\\*60|||\n",
    "|0.2|500|X|0.08671736858043233|0.82|>std\\*70|0.08636877075690108(<span style=\"color:blue\">$\\downarrow$</span>)|0.82|>std\\*60|0.08657127960859345(<span style=\"color:red\">$\\uparrow$</span>)|0.82|\n",
    "|0.3|500|X|0.09377199406580616|0.83|>std\\*70|0.0941912571685275(<span style=\"color:red\">$\\uparrow$</span>)|0.83|>std\\*60|||\n",
    "|0.2|600|X|0.09585158203024369|0.82|>std\\*70|0.09531511104149593(<span style=\"color:blue\">$\\downarrow$</span>)|0.82|>std\\*60|0.09508766558702908(<span style=\"color:blue\">$\\downarrow$</span>)|0.82|\n",
    "|0.3|600|X|0.10299723306322961|0.83|>std\\*70|0.10381084559412301(<span style=\"color:red\">$\\uparrow$</span>)|0.83|>std\\*60|||\n",
    "|0.2|700|X|0.10387433272279445|0.82|>std\\*70|0.10403926054146928(<span style=\"color:blue\">$\\downarrow$</span>)|0.82|>std\\*60|X|X|"
   ]
  },
  {
   "cell_type": "markdown",
   "id": "db612f7d",
   "metadata": {
    "papermill": {
     "duration": 0.053048,
     "end_time": "2022-04-10T03:17:44.491095",
     "exception": false,
     "start_time": "2022-04-10T03:17:44.438047",
     "status": "completed"
    },
    "tags": []
   },
   "source": [
    "- 이상치를 제거해도 전반적으로 training score가 항상 오르지 않는다.\n",
    "- 오히려 떨어지는 것으로 보임"
   ]
  },
  {
   "cell_type": "markdown",
   "id": "fe6b7dc6",
   "metadata": {
    "papermill": {
     "duration": 0.05183,
     "end_time": "2022-04-10T03:17:44.594983",
     "exception": false,
     "start_time": "2022-04-10T03:17:44.543153",
     "status": "completed"
    },
    "tags": []
   },
   "source": [
    "- trianing score, MSE 계산"
   ]
  },
  {
   "cell_type": "code",
   "execution_count": 11,
   "id": "33c3b7da",
   "metadata": {
    "execution": {
     "iopub.execute_input": "2022-04-10T03:17:44.704846Z",
     "iopub.status.busy": "2022-04-10T03:17:44.703979Z",
     "iopub.status.idle": "2022-04-10T03:17:44.707996Z",
     "shell.execute_reply": "2022-04-10T03:17:44.707374Z"
    },
    "papermill": {
     "duration": 0.060973,
     "end_time": "2022-04-10T03:17:44.708138",
     "exception": false,
     "start_time": "2022-04-10T03:17:44.647165",
     "status": "completed"
    },
    "tags": []
   },
   "outputs": [
    {
     "data": {
      "text/plain": [
       "'\\nscore = model.score(X_train, y_train)\\nprint(f\"Training Score : {score}\")\\n\\ny_pred = model.predict(X_valid)\\nmse = mean_squared_error(y_valid, y_pred)\\nprint(f\"MSE : {mse:.2f}\")\\n'"
      ]
     },
     "execution_count": 11,
     "metadata": {},
     "output_type": "execute_result"
    }
   ],
   "source": [
    "'''\n",
    "score = model.score(X_train, y_train)\n",
    "print(f\"Training Score : {score}\")\n",
    "\n",
    "y_pred = model.predict(X_valid)\n",
    "mse = mean_squared_error(y_valid, y_pred)\n",
    "print(f\"MSE : {mse:.2f}\")\n",
    "'''\n"
   ]
  },
  {
   "cell_type": "markdown",
   "id": "8e20eb9f",
   "metadata": {
    "papermill": {
     "duration": 0.052591,
     "end_time": "2022-04-10T03:17:44.813594",
     "exception": false,
     "start_time": "2022-04-10T03:17:44.761003",
     "status": "completed"
    },
    "tags": []
   },
   "source": [
    "- LightGBM의 세부 파라미터 적용\n",
    "    - 참고 자료를 조사하여 적용"
   ]
  },
  {
   "cell_type": "code",
   "execution_count": 12,
   "id": "671c723a",
   "metadata": {
    "execution": {
     "iopub.execute_input": "2022-04-10T03:17:44.923561Z",
     "iopub.status.busy": "2022-04-10T03:17:44.922945Z",
     "iopub.status.idle": "2022-04-10T03:17:45.056695Z",
     "shell.execute_reply": "2022-04-10T03:17:45.055961Z"
    },
    "papermill": {
     "duration": 0.190519,
     "end_time": "2022-04-10T03:17:45.056852",
     "exception": false,
     "start_time": "2022-04-10T03:17:44.866333",
     "status": "completed"
    },
    "tags": []
   },
   "outputs": [
    {
     "data": {
      "text/plain": [
       "147"
      ]
     },
     "execution_count": 12,
     "metadata": {},
     "output_type": "execute_result"
    }
   ],
   "source": [
    "#https://www.kaggle.com/valleyzw/ubiquant-lgbm-baseline\n",
    "params = {\n",
    "        'learning_rate':0.1,\n",
    "        \"objective\": \"regression\",\n",
    "        \"metric\": \"rmse\",\n",
    "        'boosting_type': \"gbdt\",\n",
    "        'verbosity': -1,\n",
    "        'n_jobs': -1, \n",
    "        'seed': 21,\n",
    "        'lambda_l1': 1.1895057699067542, \n",
    "        'lambda_l2': 1.9079686837880768e-08, \n",
    "        'num_leaves': 112, \n",
    "        'subsample':None,\n",
    "        'feature_fraction': 0.6259927292757151, \n",
    "        'bagging_fraction': 0.9782210574588895, \n",
    "        'bagging_freq': 1, \n",
    "        'n_estimators': 306, \n",
    "        'max_depth': 12, \n",
    "        'max_bin': 494, \n",
    "        'min_data_in_leaf': 366,\n",
    "        'colsample_bytree': None,\n",
    "        'subsample_freq': None,\n",
    "        'min_child_samples': None,\n",
    "        'reg_lambda': None,\n",
    "        'reg_alpha': None,\n",
    "    }\n",
    "gc.collect()"
   ]
  },
  {
   "cell_type": "markdown",
   "id": "3016bb00",
   "metadata": {
    "papermill": {
     "duration": 0.06657,
     "end_time": "2022-04-10T03:17:45.190393",
     "exception": false,
     "start_time": "2022-04-10T03:17:45.123823",
     "status": "completed"
    },
    "tags": []
   },
   "source": [
    "- StratifiedkFold를 통한 교차 검증을 통해 훈련 "
   ]
  },
  {
   "cell_type": "code",
   "execution_count": 13,
   "id": "79a4e109",
   "metadata": {
    "execution": {
     "iopub.execute_input": "2022-04-10T03:17:45.316877Z",
     "iopub.status.busy": "2022-04-10T03:17:45.316082Z",
     "iopub.status.idle": "2022-04-10T03:42:39.647385Z",
     "shell.execute_reply": "2022-04-10T03:42:39.646464Z"
    },
    "papermill": {
     "duration": 1494.396705,
     "end_time": "2022-04-10T03:42:39.647548",
     "exception": false,
     "start_time": "2022-04-10T03:17:45.250843",
     "status": "completed"
    },
    "tags": []
   },
   "outputs": [
    {
     "name": "stderr",
     "output_type": "stream",
     "text": [
      "/opt/conda/lib/python3.7/site-packages/sklearn/model_selection/_split.py:680: UserWarning: The least populated class in y has only 1 members, which is less than n_splits=3.\n",
      "  UserWarning,\n"
     ]
    },
    {
     "name": "stdout",
     "output_type": "stream",
     "text": [
      "[1]\tvalid_0's rmse: 0.919199\n",
      "[2]\tvalid_0's rmse: 0.918351\n",
      "[3]\tvalid_0's rmse: 0.917611\n",
      "[4]\tvalid_0's rmse: 0.916973\n",
      "[5]\tvalid_0's rmse: 0.916391\n",
      "[6]\tvalid_0's rmse: 0.915869\n",
      "[7]\tvalid_0's rmse: 0.915388\n",
      "[8]\tvalid_0's rmse: 0.914961\n",
      "[9]\tvalid_0's rmse: 0.914597\n",
      "[10]\tvalid_0's rmse: 0.914276\n",
      "[11]\tvalid_0's rmse: 0.913969\n",
      "[12]\tvalid_0's rmse: 0.913688\n",
      "[13]\tvalid_0's rmse: 0.913423\n",
      "[14]\tvalid_0's rmse: 0.913176\n",
      "[15]\tvalid_0's rmse: 0.912916\n",
      "[16]\tvalid_0's rmse: 0.912718\n",
      "[17]\tvalid_0's rmse: 0.912506\n",
      "[18]\tvalid_0's rmse: 0.912329\n",
      "[19]\tvalid_0's rmse: 0.912072\n",
      "[20]\tvalid_0's rmse: 0.911878\n",
      "[21]\tvalid_0's rmse: 0.911703\n",
      "[22]\tvalid_0's rmse: 0.911546\n",
      "[23]\tvalid_0's rmse: 0.911281\n",
      "[24]\tvalid_0's rmse: 0.911074\n",
      "[25]\tvalid_0's rmse: 0.910947\n",
      "[26]\tvalid_0's rmse: 0.910773\n",
      "[27]\tvalid_0's rmse: 0.910627\n",
      "[28]\tvalid_0's rmse: 0.910484\n",
      "[29]\tvalid_0's rmse: 0.910348\n",
      "[30]\tvalid_0's rmse: 0.910049\n",
      "[31]\tvalid_0's rmse: 0.909833\n",
      "[32]\tvalid_0's rmse: 0.909713\n",
      "[33]\tvalid_0's rmse: 0.909584\n",
      "[34]\tvalid_0's rmse: 0.909459\n",
      "[35]\tvalid_0's rmse: 0.909281\n",
      "[36]\tvalid_0's rmse: 0.909155\n",
      "[37]\tvalid_0's rmse: 0.909024\n",
      "[38]\tvalid_0's rmse: 0.908846\n",
      "[39]\tvalid_0's rmse: 0.908725\n",
      "[40]\tvalid_0's rmse: 0.908584\n",
      "[41]\tvalid_0's rmse: 0.908438\n",
      "[42]\tvalid_0's rmse: 0.908337\n",
      "[43]\tvalid_0's rmse: 0.908188\n",
      "[44]\tvalid_0's rmse: 0.908106\n",
      "[45]\tvalid_0's rmse: 0.907985\n",
      "[46]\tvalid_0's rmse: 0.907894\n",
      "[47]\tvalid_0's rmse: 0.907792\n",
      "[48]\tvalid_0's rmse: 0.907722\n",
      "[49]\tvalid_0's rmse: 0.907647\n",
      "[50]\tvalid_0's rmse: 0.907554\n",
      "[51]\tvalid_0's rmse: 0.907473\n",
      "[52]\tvalid_0's rmse: 0.907378\n",
      "[53]\tvalid_0's rmse: 0.907266\n",
      "[54]\tvalid_0's rmse: 0.907163\n",
      "[55]\tvalid_0's rmse: 0.907068\n",
      "[56]\tvalid_0's rmse: 0.906984\n",
      "[57]\tvalid_0's rmse: 0.906809\n",
      "[58]\tvalid_0's rmse: 0.90673\n",
      "[59]\tvalid_0's rmse: 0.906609\n",
      "[60]\tvalid_0's rmse: 0.906527\n",
      "[61]\tvalid_0's rmse: 0.906444\n",
      "[62]\tvalid_0's rmse: 0.906363\n",
      "[63]\tvalid_0's rmse: 0.906286\n",
      "[64]\tvalid_0's rmse: 0.906204\n",
      "[65]\tvalid_0's rmse: 0.906114\n",
      "[66]\tvalid_0's rmse: 0.90602\n",
      "[67]\tvalid_0's rmse: 0.905915\n",
      "[68]\tvalid_0's rmse: 0.905861\n",
      "[69]\tvalid_0's rmse: 0.905813\n",
      "[70]\tvalid_0's rmse: 0.90574\n",
      "[71]\tvalid_0's rmse: 0.905677\n",
      "[72]\tvalid_0's rmse: 0.905531\n",
      "[73]\tvalid_0's rmse: 0.905377\n",
      "[74]\tvalid_0's rmse: 0.905315\n",
      "[75]\tvalid_0's rmse: 0.905204\n",
      "[76]\tvalid_0's rmse: 0.905146\n",
      "[77]\tvalid_0's rmse: 0.905066\n",
      "[78]\tvalid_0's rmse: 0.904986\n",
      "[79]\tvalid_0's rmse: 0.90492\n",
      "[80]\tvalid_0's rmse: 0.904852\n",
      "[81]\tvalid_0's rmse: 0.90477\n",
      "[82]\tvalid_0's rmse: 0.904691\n",
      "[83]\tvalid_0's rmse: 0.904607\n",
      "[84]\tvalid_0's rmse: 0.904472\n",
      "[85]\tvalid_0's rmse: 0.904373\n",
      "[86]\tvalid_0's rmse: 0.904302\n",
      "[87]\tvalid_0's rmse: 0.904233\n",
      "[88]\tvalid_0's rmse: 0.904146\n",
      "[89]\tvalid_0's rmse: 0.904092\n",
      "[90]\tvalid_0's rmse: 0.904022\n",
      "[91]\tvalid_0's rmse: 0.903949\n",
      "[92]\tvalid_0's rmse: 0.903813\n",
      "[93]\tvalid_0's rmse: 0.903757\n",
      "[94]\tvalid_0's rmse: 0.903691\n",
      "[95]\tvalid_0's rmse: 0.903624\n",
      "[96]\tvalid_0's rmse: 0.903562\n",
      "[97]\tvalid_0's rmse: 0.903512\n",
      "[98]\tvalid_0's rmse: 0.903437\n",
      "[99]\tvalid_0's rmse: 0.903369\n",
      "[100]\tvalid_0's rmse: 0.903298\n",
      "[101]\tvalid_0's rmse: 0.903233\n",
      "[102]\tvalid_0's rmse: 0.903166\n",
      "[103]\tvalid_0's rmse: 0.903063\n",
      "[104]\tvalid_0's rmse: 0.903014\n",
      "[105]\tvalid_0's rmse: 0.902976\n",
      "[106]\tvalid_0's rmse: 0.90294\n",
      "[107]\tvalid_0's rmse: 0.902867\n",
      "[108]\tvalid_0's rmse: 0.902834\n",
      "[109]\tvalid_0's rmse: 0.90275\n",
      "[110]\tvalid_0's rmse: 0.902708\n",
      "[111]\tvalid_0's rmse: 0.902646\n",
      "[112]\tvalid_0's rmse: 0.902567\n",
      "[113]\tvalid_0's rmse: 0.902452\n",
      "[114]\tvalid_0's rmse: 0.902408\n",
      "[115]\tvalid_0's rmse: 0.902286\n",
      "[116]\tvalid_0's rmse: 0.902211\n",
      "[117]\tvalid_0's rmse: 0.902151\n",
      "[118]\tvalid_0's rmse: 0.902092\n",
      "[119]\tvalid_0's rmse: 0.902053\n",
      "[120]\tvalid_0's rmse: 0.902001\n",
      "[121]\tvalid_0's rmse: 0.901952\n",
      "[122]\tvalid_0's rmse: 0.901919\n",
      "[123]\tvalid_0's rmse: 0.901868\n",
      "[124]\tvalid_0's rmse: 0.901816\n",
      "[125]\tvalid_0's rmse: 0.901756\n",
      "[126]\tvalid_0's rmse: 0.90172\n",
      "[127]\tvalid_0's rmse: 0.901687\n",
      "[128]\tvalid_0's rmse: 0.90167\n",
      "[129]\tvalid_0's rmse: 0.901569\n",
      "[130]\tvalid_0's rmse: 0.901548\n",
      "[131]\tvalid_0's rmse: 0.901462\n",
      "[132]\tvalid_0's rmse: 0.901421\n",
      "[133]\tvalid_0's rmse: 0.901344\n",
      "[134]\tvalid_0's rmse: 0.901304\n",
      "[135]\tvalid_0's rmse: 0.901234\n",
      "[136]\tvalid_0's rmse: 0.901158\n",
      "[137]\tvalid_0's rmse: 0.901127\n",
      "[138]\tvalid_0's rmse: 0.901089\n",
      "[139]\tvalid_0's rmse: 0.901061\n",
      "[140]\tvalid_0's rmse: 0.901044\n",
      "[141]\tvalid_0's rmse: 0.901005\n",
      "[142]\tvalid_0's rmse: 0.900982\n",
      "[143]\tvalid_0's rmse: 0.900946\n",
      "[144]\tvalid_0's rmse: 0.900917\n",
      "[145]\tvalid_0's rmse: 0.900875\n",
      "[146]\tvalid_0's rmse: 0.900769\n",
      "[147]\tvalid_0's rmse: 0.900724\n",
      "[148]\tvalid_0's rmse: 0.900708\n",
      "[149]\tvalid_0's rmse: 0.90066\n",
      "[150]\tvalid_0's rmse: 0.900618\n",
      "[151]\tvalid_0's rmse: 0.900558\n",
      "[152]\tvalid_0's rmse: 0.900518\n",
      "[153]\tvalid_0's rmse: 0.900485\n",
      "[154]\tvalid_0's rmse: 0.900412\n",
      "[155]\tvalid_0's rmse: 0.900361\n",
      "[156]\tvalid_0's rmse: 0.900329\n",
      "[157]\tvalid_0's rmse: 0.900292\n",
      "[158]\tvalid_0's rmse: 0.900233\n",
      "[159]\tvalid_0's rmse: 0.900221\n",
      "[160]\tvalid_0's rmse: 0.900196\n",
      "[161]\tvalid_0's rmse: 0.900146\n",
      "[162]\tvalid_0's rmse: 0.900134\n",
      "[163]\tvalid_0's rmse: 0.900111\n",
      "[164]\tvalid_0's rmse: 0.900097\n",
      "[165]\tvalid_0's rmse: 0.900079\n",
      "[166]\tvalid_0's rmse: 0.899982\n",
      "[167]\tvalid_0's rmse: 0.89996\n",
      "[168]\tvalid_0's rmse: 0.899889\n",
      "[169]\tvalid_0's rmse: 0.899848\n",
      "[170]\tvalid_0's rmse: 0.899704\n",
      "[171]\tvalid_0's rmse: 0.899694\n",
      "[172]\tvalid_0's rmse: 0.89968\n",
      "[173]\tvalid_0's rmse: 0.899668\n",
      "[174]\tvalid_0's rmse: 0.899609\n",
      "[175]\tvalid_0's rmse: 0.899569\n",
      "[176]\tvalid_0's rmse: 0.899536\n",
      "[177]\tvalid_0's rmse: 0.899491\n",
      "[178]\tvalid_0's rmse: 0.899431\n",
      "[179]\tvalid_0's rmse: 0.899386\n",
      "[180]\tvalid_0's rmse: 0.899371\n",
      "[181]\tvalid_0's rmse: 0.899285\n",
      "[182]\tvalid_0's rmse: 0.899186\n",
      "[183]\tvalid_0's rmse: 0.89917\n",
      "[184]\tvalid_0's rmse: 0.899163\n",
      "[185]\tvalid_0's rmse: 0.899109\n",
      "[186]\tvalid_0's rmse: 0.899099\n",
      "[187]\tvalid_0's rmse: 0.899103\n",
      "[188]\tvalid_0's rmse: 0.899077\n",
      "[189]\tvalid_0's rmse: 0.89906\n",
      "[190]\tvalid_0's rmse: 0.899025\n",
      "[191]\tvalid_0's rmse: 0.899001\n",
      "[192]\tvalid_0's rmse: 0.89899\n",
      "[193]\tvalid_0's rmse: 0.898884\n",
      "[194]\tvalid_0's rmse: 0.898864\n",
      "[195]\tvalid_0's rmse: 0.898786\n",
      "[196]\tvalid_0's rmse: 0.898775\n",
      "[197]\tvalid_0's rmse: 0.898722\n",
      "[198]\tvalid_0's rmse: 0.898674\n",
      "[199]\tvalid_0's rmse: 0.898656\n",
      "[200]\tvalid_0's rmse: 0.898635\n",
      "[201]\tvalid_0's rmse: 0.898609\n",
      "[202]\tvalid_0's rmse: 0.898587\n",
      "[203]\tvalid_0's rmse: 0.898552\n",
      "[204]\tvalid_0's rmse: 0.898535\n",
      "[205]\tvalid_0's rmse: 0.89842\n",
      "[206]\tvalid_0's rmse: 0.898403\n",
      "[207]\tvalid_0's rmse: 0.898383\n",
      "[208]\tvalid_0's rmse: 0.898333\n",
      "[209]\tvalid_0's rmse: 0.898326\n",
      "[210]\tvalid_0's rmse: 0.898319\n",
      "[211]\tvalid_0's rmse: 0.898308\n",
      "[212]\tvalid_0's rmse: 0.898279\n",
      "[213]\tvalid_0's rmse: 0.898242\n",
      "[214]\tvalid_0's rmse: 0.898206\n",
      "[215]\tvalid_0's rmse: 0.898199\n",
      "[216]\tvalid_0's rmse: 0.898185\n",
      "[217]\tvalid_0's rmse: 0.898177\n",
      "[218]\tvalid_0's rmse: 0.898172\n",
      "[219]\tvalid_0's rmse: 0.898146\n",
      "[220]\tvalid_0's rmse: 0.898042\n",
      "[221]\tvalid_0's rmse: 0.89802\n",
      "[222]\tvalid_0's rmse: 0.898002\n",
      "[223]\tvalid_0's rmse: 0.897978\n",
      "[224]\tvalid_0's rmse: 0.897952\n",
      "[225]\tvalid_0's rmse: 0.897921\n",
      "[226]\tvalid_0's rmse: 0.897899\n",
      "[227]\tvalid_0's rmse: 0.897891\n",
      "[228]\tvalid_0's rmse: 0.89784\n",
      "[229]\tvalid_0's rmse: 0.897827\n",
      "[230]\tvalid_0's rmse: 0.897824\n",
      "[231]\tvalid_0's rmse: 0.897799\n",
      "[232]\tvalid_0's rmse: 0.89778\n",
      "[233]\tvalid_0's rmse: 0.897748\n",
      "[234]\tvalid_0's rmse: 0.897683\n",
      "[235]\tvalid_0's rmse: 0.897679\n",
      "[236]\tvalid_0's rmse: 0.897674\n",
      "[237]\tvalid_0's rmse: 0.897662\n",
      "[238]\tvalid_0's rmse: 0.89763\n",
      "[239]\tvalid_0's rmse: 0.897635\n",
      "[240]\tvalid_0's rmse: 0.897621\n",
      "[241]\tvalid_0's rmse: 0.897614\n",
      "[242]\tvalid_0's rmse: 0.897605\n",
      "[243]\tvalid_0's rmse: 0.897574\n",
      "[244]\tvalid_0's rmse: 0.897543\n",
      "[245]\tvalid_0's rmse: 0.89752\n",
      "[246]\tvalid_0's rmse: 0.897488\n",
      "[247]\tvalid_0's rmse: 0.89748\n",
      "[248]\tvalid_0's rmse: 0.89743\n",
      "[249]\tvalid_0's rmse: 0.897404\n",
      "[250]\tvalid_0's rmse: 0.897391\n",
      "[251]\tvalid_0's rmse: 0.897369\n",
      "[252]\tvalid_0's rmse: 0.897314\n",
      "[253]\tvalid_0's rmse: 0.897279\n",
      "[254]\tvalid_0's rmse: 0.897234\n",
      "[255]\tvalid_0's rmse: 0.897175\n",
      "[256]\tvalid_0's rmse: 0.897154\n",
      "[257]\tvalid_0's rmse: 0.897139\n",
      "[258]\tvalid_0's rmse: 0.897107\n",
      "[259]\tvalid_0's rmse: 0.897076\n",
      "[260]\tvalid_0's rmse: 0.897069\n",
      "[261]\tvalid_0's rmse: 0.897068\n",
      "[262]\tvalid_0's rmse: 0.897042\n",
      "[263]\tvalid_0's rmse: 0.897033\n",
      "[264]\tvalid_0's rmse: 0.897023\n",
      "[265]\tvalid_0's rmse: 0.897001\n",
      "[266]\tvalid_0's rmse: 0.896981\n",
      "[267]\tvalid_0's rmse: 0.896975\n",
      "[268]\tvalid_0's rmse: 0.896956\n",
      "[269]\tvalid_0's rmse: 0.896952\n",
      "[270]\tvalid_0's rmse: 0.896932\n",
      "[271]\tvalid_0's rmse: 0.896917\n",
      "[272]\tvalid_0's rmse: 0.896897\n",
      "[273]\tvalid_0's rmse: 0.89687\n",
      "[274]\tvalid_0's rmse: 0.896849\n",
      "[275]\tvalid_0's rmse: 0.896788\n",
      "[276]\tvalid_0's rmse: 0.896784\n",
      "[277]\tvalid_0's rmse: 0.896761\n",
      "[278]\tvalid_0's rmse: 0.896752\n",
      "[279]\tvalid_0's rmse: 0.896749\n",
      "[280]\tvalid_0's rmse: 0.89673\n",
      "[281]\tvalid_0's rmse: 0.896725\n",
      "[282]\tvalid_0's rmse: 0.896676\n",
      "[283]\tvalid_0's rmse: 0.896643\n",
      "[284]\tvalid_0's rmse: 0.896619\n",
      "[285]\tvalid_0's rmse: 0.896613\n",
      "[286]\tvalid_0's rmse: 0.896608\n",
      "[287]\tvalid_0's rmse: 0.896605\n",
      "[288]\tvalid_0's rmse: 0.896559\n",
      "[289]\tvalid_0's rmse: 0.896545\n",
      "[290]\tvalid_0's rmse: 0.896504\n",
      "[291]\tvalid_0's rmse: 0.896499\n",
      "[292]\tvalid_0's rmse: 0.896474\n",
      "[293]\tvalid_0's rmse: 0.896452\n",
      "[294]\tvalid_0's rmse: 0.896416\n",
      "[295]\tvalid_0's rmse: 0.896414\n",
      "[296]\tvalid_0's rmse: 0.896392\n",
      "[297]\tvalid_0's rmse: 0.896387\n",
      "[298]\tvalid_0's rmse: 0.896349\n",
      "[299]\tvalid_0's rmse: 0.896304\n",
      "[300]\tvalid_0's rmse: 0.8963\n",
      "[301]\tvalid_0's rmse: 0.896284\n",
      "[302]\tvalid_0's rmse: 0.896251\n",
      "[303]\tvalid_0's rmse: 0.896211\n",
      "[304]\tvalid_0's rmse: 0.896204\n",
      "[305]\tvalid_0's rmse: 0.896162\n",
      "[306]\tvalid_0's rmse: 0.89614\n",
      "[1]\tvalid_0's rmse: 0.91711\n",
      "[2]\tvalid_0's rmse: 0.916261\n",
      "[3]\tvalid_0's rmse: 0.91549\n",
      "[4]\tvalid_0's rmse: 0.914823\n",
      "[5]\tvalid_0's rmse: 0.914227\n",
      "[6]\tvalid_0's rmse: 0.913682\n",
      "[7]\tvalid_0's rmse: 0.913202\n",
      "[8]\tvalid_0's rmse: 0.912754\n",
      "[9]\tvalid_0's rmse: 0.912351\n",
      "[10]\tvalid_0's rmse: 0.91202\n",
      "[11]\tvalid_0's rmse: 0.911694\n",
      "[12]\tvalid_0's rmse: 0.911423\n",
      "[13]\tvalid_0's rmse: 0.911109\n",
      "[14]\tvalid_0's rmse: 0.910846\n",
      "[15]\tvalid_0's rmse: 0.910599\n",
      "[16]\tvalid_0's rmse: 0.910335\n",
      "[17]\tvalid_0's rmse: 0.910118\n",
      "[18]\tvalid_0's rmse: 0.909891\n",
      "[19]\tvalid_0's rmse: 0.909669\n",
      "[20]\tvalid_0's rmse: 0.909445\n",
      "[21]\tvalid_0's rmse: 0.909284\n",
      "[22]\tvalid_0's rmse: 0.909021\n",
      "[23]\tvalid_0's rmse: 0.908808\n",
      "[24]\tvalid_0's rmse: 0.908645\n",
      "[25]\tvalid_0's rmse: 0.908493\n",
      "[26]\tvalid_0's rmse: 0.908341\n",
      "[27]\tvalid_0's rmse: 0.908203\n",
      "[28]\tvalid_0's rmse: 0.907992\n",
      "[29]\tvalid_0's rmse: 0.907861\n",
      "[30]\tvalid_0's rmse: 0.907611\n",
      "[31]\tvalid_0's rmse: 0.907423\n",
      "[32]\tvalid_0's rmse: 0.907325\n",
      "[33]\tvalid_0's rmse: 0.907171\n",
      "[34]\tvalid_0's rmse: 0.907037\n",
      "[35]\tvalid_0's rmse: 0.906905\n",
      "[36]\tvalid_0's rmse: 0.90676\n",
      "[37]\tvalid_0's rmse: 0.906631\n",
      "[38]\tvalid_0's rmse: 0.906561\n",
      "[39]\tvalid_0's rmse: 0.906435\n",
      "[40]\tvalid_0's rmse: 0.906304\n",
      "[41]\tvalid_0's rmse: 0.906214\n",
      "[42]\tvalid_0's rmse: 0.906103\n",
      "[43]\tvalid_0's rmse: 0.905941\n",
      "[44]\tvalid_0's rmse: 0.905849\n",
      "[45]\tvalid_0's rmse: 0.905762\n",
      "[46]\tvalid_0's rmse: 0.905632\n",
      "[47]\tvalid_0's rmse: 0.905562\n",
      "[48]\tvalid_0's rmse: 0.905435\n",
      "[49]\tvalid_0's rmse: 0.905359\n",
      "[50]\tvalid_0's rmse: 0.905239\n",
      "[51]\tvalid_0's rmse: 0.905165\n",
      "[52]\tvalid_0's rmse: 0.905002\n",
      "[53]\tvalid_0's rmse: 0.904882\n",
      "[54]\tvalid_0's rmse: 0.904729\n",
      "[55]\tvalid_0's rmse: 0.904611\n",
      "[56]\tvalid_0's rmse: 0.904518\n",
      "[57]\tvalid_0's rmse: 0.904417\n",
      "[58]\tvalid_0's rmse: 0.904318\n",
      "[59]\tvalid_0's rmse: 0.904213\n",
      "[60]\tvalid_0's rmse: 0.904099\n",
      "[61]\tvalid_0's rmse: 0.903972\n",
      "[62]\tvalid_0's rmse: 0.90391\n",
      "[63]\tvalid_0's rmse: 0.903794\n",
      "[64]\tvalid_0's rmse: 0.903713\n",
      "[65]\tvalid_0's rmse: 0.903612\n",
      "[66]\tvalid_0's rmse: 0.903525\n",
      "[67]\tvalid_0's rmse: 0.903461\n",
      "[68]\tvalid_0's rmse: 0.903373\n",
      "[69]\tvalid_0's rmse: 0.903249\n",
      "[70]\tvalid_0's rmse: 0.903197\n",
      "[71]\tvalid_0's rmse: 0.903136\n",
      "[72]\tvalid_0's rmse: 0.90306\n",
      "[73]\tvalid_0's rmse: 0.902984\n",
      "[74]\tvalid_0's rmse: 0.902924\n",
      "[75]\tvalid_0's rmse: 0.902858\n",
      "[76]\tvalid_0's rmse: 0.902785\n",
      "[77]\tvalid_0's rmse: 0.902693\n",
      "[78]\tvalid_0's rmse: 0.902608\n",
      "[79]\tvalid_0's rmse: 0.902525\n",
      "[80]\tvalid_0's rmse: 0.902455\n",
      "[81]\tvalid_0's rmse: 0.902264\n",
      "[82]\tvalid_0's rmse: 0.902198\n",
      "[83]\tvalid_0's rmse: 0.902075\n",
      "[84]\tvalid_0's rmse: 0.902015\n",
      "[85]\tvalid_0's rmse: 0.901892\n",
      "[86]\tvalid_0's rmse: 0.901828\n",
      "[87]\tvalid_0's rmse: 0.901739\n",
      "[88]\tvalid_0's rmse: 0.901629\n",
      "[89]\tvalid_0's rmse: 0.901587\n",
      "[90]\tvalid_0's rmse: 0.901526\n",
      "[91]\tvalid_0's rmse: 0.901459\n",
      "[92]\tvalid_0's rmse: 0.901421\n",
      "[93]\tvalid_0's rmse: 0.901371\n",
      "[94]\tvalid_0's rmse: 0.901323\n",
      "[95]\tvalid_0's rmse: 0.901269\n",
      "[96]\tvalid_0's rmse: 0.901199\n",
      "[97]\tvalid_0's rmse: 0.901133\n",
      "[98]\tvalid_0's rmse: 0.90107\n",
      "[99]\tvalid_0's rmse: 0.900961\n",
      "[100]\tvalid_0's rmse: 0.900931\n",
      "[101]\tvalid_0's rmse: 0.900873\n",
      "[102]\tvalid_0's rmse: 0.900818\n",
      "[103]\tvalid_0's rmse: 0.900732\n",
      "[104]\tvalid_0's rmse: 0.900688\n",
      "[105]\tvalid_0's rmse: 0.900591\n",
      "[106]\tvalid_0's rmse: 0.900486\n",
      "[107]\tvalid_0's rmse: 0.900405\n",
      "[108]\tvalid_0's rmse: 0.900327\n",
      "[109]\tvalid_0's rmse: 0.900287\n",
      "[110]\tvalid_0's rmse: 0.900231\n",
      "[111]\tvalid_0's rmse: 0.9002\n",
      "[112]\tvalid_0's rmse: 0.90017\n",
      "[113]\tvalid_0's rmse: 0.900119\n",
      "[114]\tvalid_0's rmse: 0.900076\n",
      "[115]\tvalid_0's rmse: 0.900001\n",
      "[116]\tvalid_0's rmse: 0.899949\n",
      "[117]\tvalid_0's rmse: 0.899873\n",
      "[118]\tvalid_0's rmse: 0.899763\n",
      "[119]\tvalid_0's rmse: 0.899734\n",
      "[120]\tvalid_0's rmse: 0.899637\n",
      "[121]\tvalid_0's rmse: 0.899597\n",
      "[122]\tvalid_0's rmse: 0.899572\n",
      "[123]\tvalid_0's rmse: 0.899457\n",
      "[124]\tvalid_0's rmse: 0.899427\n",
      "[125]\tvalid_0's rmse: 0.899379\n",
      "[126]\tvalid_0's rmse: 0.899284\n",
      "[127]\tvalid_0's rmse: 0.899242\n",
      "[128]\tvalid_0's rmse: 0.899174\n",
      "[129]\tvalid_0's rmse: 0.899077\n",
      "[130]\tvalid_0's rmse: 0.899038\n",
      "[131]\tvalid_0's rmse: 0.89902\n",
      "[132]\tvalid_0's rmse: 0.898982\n",
      "[133]\tvalid_0's rmse: 0.898937\n",
      "[134]\tvalid_0's rmse: 0.898889\n",
      "[135]\tvalid_0's rmse: 0.898809\n",
      "[136]\tvalid_0's rmse: 0.898787\n",
      "[137]\tvalid_0's rmse: 0.898706\n",
      "[138]\tvalid_0's rmse: 0.898678\n",
      "[139]\tvalid_0's rmse: 0.898624\n",
      "[140]\tvalid_0's rmse: 0.898608\n",
      "[141]\tvalid_0's rmse: 0.898546\n",
      "[142]\tvalid_0's rmse: 0.898481\n",
      "[143]\tvalid_0's rmse: 0.898445\n",
      "[144]\tvalid_0's rmse: 0.898414\n",
      "[145]\tvalid_0's rmse: 0.898314\n",
      "[146]\tvalid_0's rmse: 0.898291\n",
      "[147]\tvalid_0's rmse: 0.898246\n",
      "[148]\tvalid_0's rmse: 0.898196\n",
      "[149]\tvalid_0's rmse: 0.898164\n",
      "[150]\tvalid_0's rmse: 0.898151\n",
      "[151]\tvalid_0's rmse: 0.898112\n",
      "[152]\tvalid_0's rmse: 0.898051\n",
      "[153]\tvalid_0's rmse: 0.897997\n",
      "[154]\tvalid_0's rmse: 0.897961\n",
      "[155]\tvalid_0's rmse: 0.897895\n",
      "[156]\tvalid_0's rmse: 0.897845\n",
      "[157]\tvalid_0's rmse: 0.89781\n",
      "[158]\tvalid_0's rmse: 0.897791\n",
      "[159]\tvalid_0's rmse: 0.89775\n",
      "[160]\tvalid_0's rmse: 0.89771\n",
      "[161]\tvalid_0's rmse: 0.897661\n",
      "[162]\tvalid_0's rmse: 0.897627\n",
      "[163]\tvalid_0's rmse: 0.897608\n",
      "[164]\tvalid_0's rmse: 0.897589\n",
      "[165]\tvalid_0's rmse: 0.897549\n",
      "[166]\tvalid_0's rmse: 0.89751\n",
      "[167]\tvalid_0's rmse: 0.897474\n",
      "[168]\tvalid_0's rmse: 0.897423\n",
      "[169]\tvalid_0's rmse: 0.897294\n",
      "[170]\tvalid_0's rmse: 0.897239\n",
      "[171]\tvalid_0's rmse: 0.897226\n",
      "[172]\tvalid_0's rmse: 0.897217\n",
      "[173]\tvalid_0's rmse: 0.897161\n",
      "[174]\tvalid_0's rmse: 0.897145\n",
      "[175]\tvalid_0's rmse: 0.897113\n",
      "[176]\tvalid_0's rmse: 0.897091\n",
      "[177]\tvalid_0's rmse: 0.89708\n",
      "[178]\tvalid_0's rmse: 0.897043\n",
      "[179]\tvalid_0's rmse: 0.897024\n",
      "[180]\tvalid_0's rmse: 0.896988\n",
      "[181]\tvalid_0's rmse: 0.896971\n",
      "[182]\tvalid_0's rmse: 0.896923\n",
      "[183]\tvalid_0's rmse: 0.896906\n",
      "[184]\tvalid_0's rmse: 0.89684\n",
      "[185]\tvalid_0's rmse: 0.896814\n",
      "[186]\tvalid_0's rmse: 0.896778\n",
      "[187]\tvalid_0's rmse: 0.896703\n",
      "[188]\tvalid_0's rmse: 0.896679\n",
      "[189]\tvalid_0's rmse: 0.896662\n",
      "[190]\tvalid_0's rmse: 0.896586\n",
      "[191]\tvalid_0's rmse: 0.896551\n",
      "[192]\tvalid_0's rmse: 0.896514\n",
      "[193]\tvalid_0's rmse: 0.896456\n",
      "[194]\tvalid_0's rmse: 0.896432\n",
      "[195]\tvalid_0's rmse: 0.896397\n",
      "[196]\tvalid_0's rmse: 0.896364\n",
      "[197]\tvalid_0's rmse: 0.896327\n",
      "[198]\tvalid_0's rmse: 0.896282\n",
      "[199]\tvalid_0's rmse: 0.896262\n",
      "[200]\tvalid_0's rmse: 0.896243\n",
      "[201]\tvalid_0's rmse: 0.896196\n",
      "[202]\tvalid_0's rmse: 0.896154\n",
      "[203]\tvalid_0's rmse: 0.896114\n",
      "[204]\tvalid_0's rmse: 0.896092\n",
      "[205]\tvalid_0's rmse: 0.896072\n",
      "[206]\tvalid_0's rmse: 0.896032\n",
      "[207]\tvalid_0's rmse: 0.896009\n",
      "[208]\tvalid_0's rmse: 0.895983\n",
      "[209]\tvalid_0's rmse: 0.895974\n",
      "[210]\tvalid_0's rmse: 0.895971\n",
      "[211]\tvalid_0's rmse: 0.895888\n",
      "[212]\tvalid_0's rmse: 0.895818\n",
      "[213]\tvalid_0's rmse: 0.895785\n",
      "[214]\tvalid_0's rmse: 0.89576\n",
      "[215]\tvalid_0's rmse: 0.895741\n",
      "[216]\tvalid_0's rmse: 0.895734\n",
      "[217]\tvalid_0's rmse: 0.895682\n",
      "[218]\tvalid_0's rmse: 0.895654\n",
      "[219]\tvalid_0's rmse: 0.89564\n",
      "[220]\tvalid_0's rmse: 0.895575\n",
      "[221]\tvalid_0's rmse: 0.895533\n",
      "[222]\tvalid_0's rmse: 0.895524\n",
      "[223]\tvalid_0's rmse: 0.895497\n",
      "[224]\tvalid_0's rmse: 0.895496\n",
      "[225]\tvalid_0's rmse: 0.895491\n",
      "[226]\tvalid_0's rmse: 0.895481\n",
      "[227]\tvalid_0's rmse: 0.895433\n",
      "[228]\tvalid_0's rmse: 0.895346\n",
      "[229]\tvalid_0's rmse: 0.895287\n",
      "[230]\tvalid_0's rmse: 0.895259\n",
      "[231]\tvalid_0's rmse: 0.895236\n",
      "[232]\tvalid_0's rmse: 0.895217\n",
      "[233]\tvalid_0's rmse: 0.895206\n",
      "[234]\tvalid_0's rmse: 0.895196\n",
      "[235]\tvalid_0's rmse: 0.895186\n",
      "[236]\tvalid_0's rmse: 0.895161\n",
      "[237]\tvalid_0's rmse: 0.895104\n",
      "[238]\tvalid_0's rmse: 0.895097\n",
      "[239]\tvalid_0's rmse: 0.895069\n",
      "[240]\tvalid_0's rmse: 0.895018\n",
      "[241]\tvalid_0's rmse: 0.894997\n",
      "[242]\tvalid_0's rmse: 0.89499\n",
      "[243]\tvalid_0's rmse: 0.894914\n",
      "[244]\tvalid_0's rmse: 0.894903\n",
      "[245]\tvalid_0's rmse: 0.894893\n",
      "[246]\tvalid_0's rmse: 0.894869\n",
      "[247]\tvalid_0's rmse: 0.894823\n",
      "[248]\tvalid_0's rmse: 0.894788\n",
      "[249]\tvalid_0's rmse: 0.894785\n",
      "[250]\tvalid_0's rmse: 0.894773\n",
      "[251]\tvalid_0's rmse: 0.894765\n",
      "[252]\tvalid_0's rmse: 0.894765\n",
      "[253]\tvalid_0's rmse: 0.894753\n",
      "[254]\tvalid_0's rmse: 0.894716\n",
      "[255]\tvalid_0's rmse: 0.894693\n",
      "[256]\tvalid_0's rmse: 0.894683\n",
      "[257]\tvalid_0's rmse: 0.894671\n",
      "[258]\tvalid_0's rmse: 0.894668\n",
      "[259]\tvalid_0's rmse: 0.894619\n",
      "[260]\tvalid_0's rmse: 0.894612\n",
      "[261]\tvalid_0's rmse: 0.894602\n",
      "[262]\tvalid_0's rmse: 0.894589\n",
      "[263]\tvalid_0's rmse: 0.894588\n",
      "[264]\tvalid_0's rmse: 0.894576\n",
      "[265]\tvalid_0's rmse: 0.894558\n",
      "[266]\tvalid_0's rmse: 0.894523\n",
      "[267]\tvalid_0's rmse: 0.894512\n",
      "[268]\tvalid_0's rmse: 0.894495\n",
      "[269]\tvalid_0's rmse: 0.894482\n",
      "[270]\tvalid_0's rmse: 0.894467\n",
      "[271]\tvalid_0's rmse: 0.894428\n",
      "[272]\tvalid_0's rmse: 0.894402\n",
      "[273]\tvalid_0's rmse: 0.894406\n",
      "[274]\tvalid_0's rmse: 0.894373\n",
      "[275]\tvalid_0's rmse: 0.894357\n",
      "[276]\tvalid_0's rmse: 0.894292\n",
      "[277]\tvalid_0's rmse: 0.894279\n",
      "[278]\tvalid_0's rmse: 0.894269\n",
      "[279]\tvalid_0's rmse: 0.894263\n",
      "[280]\tvalid_0's rmse: 0.894227\n",
      "[281]\tvalid_0's rmse: 0.894194\n",
      "[282]\tvalid_0's rmse: 0.894179\n",
      "[283]\tvalid_0's rmse: 0.894094\n",
      "[284]\tvalid_0's rmse: 0.894048\n",
      "[285]\tvalid_0's rmse: 0.894046\n",
      "[286]\tvalid_0's rmse: 0.894032\n",
      "[287]\tvalid_0's rmse: 0.894011\n",
      "[288]\tvalid_0's rmse: 0.89399\n",
      "[289]\tvalid_0's rmse: 0.893967\n",
      "[290]\tvalid_0's rmse: 0.893957\n",
      "[291]\tvalid_0's rmse: 0.893922\n",
      "[292]\tvalid_0's rmse: 0.893912\n",
      "[293]\tvalid_0's rmse: 0.893878\n",
      "[294]\tvalid_0's rmse: 0.893834\n",
      "[295]\tvalid_0's rmse: 0.893802\n",
      "[296]\tvalid_0's rmse: 0.893808\n",
      "[297]\tvalid_0's rmse: 0.893807\n",
      "[298]\tvalid_0's rmse: 0.893807\n",
      "[299]\tvalid_0's rmse: 0.893796\n",
      "[300]\tvalid_0's rmse: 0.89377\n",
      "[301]\tvalid_0's rmse: 0.89376\n",
      "[302]\tvalid_0's rmse: 0.89373\n",
      "[303]\tvalid_0's rmse: 0.893699\n",
      "[304]\tvalid_0's rmse: 0.893665\n",
      "[305]\tvalid_0's rmse: 0.893653\n",
      "[306]\tvalid_0's rmse: 0.893637\n",
      "[1]\tvalid_0's rmse: 0.917772\n",
      "[2]\tvalid_0's rmse: 0.91692\n",
      "[3]\tvalid_0's rmse: 0.916152\n",
      "[4]\tvalid_0's rmse: 0.915515\n",
      "[5]\tvalid_0's rmse: 0.914928\n",
      "[6]\tvalid_0's rmse: 0.914392\n",
      "[7]\tvalid_0's rmse: 0.91388\n",
      "[8]\tvalid_0's rmse: 0.913449\n",
      "[9]\tvalid_0's rmse: 0.913089\n",
      "[10]\tvalid_0's rmse: 0.912741\n",
      "[11]\tvalid_0's rmse: 0.912422\n",
      "[12]\tvalid_0's rmse: 0.912134\n",
      "[13]\tvalid_0's rmse: 0.91185\n",
      "[14]\tvalid_0's rmse: 0.911608\n",
      "[15]\tvalid_0's rmse: 0.911348\n",
      "[16]\tvalid_0's rmse: 0.911146\n",
      "[17]\tvalid_0's rmse: 0.910939\n",
      "[18]\tvalid_0's rmse: 0.910736\n",
      "[19]\tvalid_0's rmse: 0.910534\n",
      "[20]\tvalid_0's rmse: 0.910372\n",
      "[21]\tvalid_0's rmse: 0.910184\n",
      "[22]\tvalid_0's rmse: 0.910012\n",
      "[23]\tvalid_0's rmse: 0.909762\n",
      "[24]\tvalid_0's rmse: 0.909551\n",
      "[25]\tvalid_0's rmse: 0.909365\n",
      "[26]\tvalid_0's rmse: 0.909174\n",
      "[27]\tvalid_0's rmse: 0.909048\n",
      "[28]\tvalid_0's rmse: 0.908802\n",
      "[29]\tvalid_0's rmse: 0.908644\n",
      "[30]\tvalid_0's rmse: 0.908517\n",
      "[31]\tvalid_0's rmse: 0.908371\n",
      "[32]\tvalid_0's rmse: 0.90814\n",
      "[33]\tvalid_0's rmse: 0.907946\n",
      "[34]\tvalid_0's rmse: 0.907819\n",
      "[35]\tvalid_0's rmse: 0.907692\n",
      "[36]\tvalid_0's rmse: 0.907596\n",
      "[37]\tvalid_0's rmse: 0.907461\n",
      "[38]\tvalid_0's rmse: 0.907336\n",
      "[39]\tvalid_0's rmse: 0.907263\n",
      "[40]\tvalid_0's rmse: 0.907118\n",
      "[41]\tvalid_0's rmse: 0.907034\n",
      "[42]\tvalid_0's rmse: 0.906906\n",
      "[43]\tvalid_0's rmse: 0.906771\n",
      "[44]\tvalid_0's rmse: 0.90664\n",
      "[45]\tvalid_0's rmse: 0.906558\n",
      "[46]\tvalid_0's rmse: 0.906474\n",
      "[47]\tvalid_0's rmse: 0.906407\n",
      "[48]\tvalid_0's rmse: 0.90633\n",
      "[49]\tvalid_0's rmse: 0.906249\n",
      "[50]\tvalid_0's rmse: 0.906148\n",
      "[51]\tvalid_0's rmse: 0.906058\n",
      "[52]\tvalid_0's rmse: 0.905954\n",
      "[53]\tvalid_0's rmse: 0.905875\n",
      "[54]\tvalid_0's rmse: 0.9058\n",
      "[55]\tvalid_0's rmse: 0.905701\n",
      "[56]\tvalid_0's rmse: 0.90556\n",
      "[57]\tvalid_0's rmse: 0.905465\n",
      "[58]\tvalid_0's rmse: 0.905402\n",
      "[59]\tvalid_0's rmse: 0.905295\n",
      "[60]\tvalid_0's rmse: 0.905222\n",
      "[61]\tvalid_0's rmse: 0.905144\n",
      "[62]\tvalid_0's rmse: 0.905043\n",
      "[63]\tvalid_0's rmse: 0.904944\n",
      "[64]\tvalid_0's rmse: 0.904859\n",
      "[65]\tvalid_0's rmse: 0.904703\n",
      "[66]\tvalid_0's rmse: 0.904621\n",
      "[67]\tvalid_0's rmse: 0.90454\n",
      "[68]\tvalid_0's rmse: 0.904451\n",
      "[69]\tvalid_0's rmse: 0.904383\n",
      "[70]\tvalid_0's rmse: 0.904281\n",
      "[71]\tvalid_0's rmse: 0.904208\n",
      "[72]\tvalid_0's rmse: 0.904055\n",
      "[73]\tvalid_0's rmse: 0.904005\n",
      "[74]\tvalid_0's rmse: 0.903926\n",
      "[75]\tvalid_0's rmse: 0.903887\n",
      "[76]\tvalid_0's rmse: 0.903813\n",
      "[77]\tvalid_0's rmse: 0.903722\n",
      "[78]\tvalid_0's rmse: 0.903654\n",
      "[79]\tvalid_0's rmse: 0.903604\n",
      "[80]\tvalid_0's rmse: 0.903554\n",
      "[81]\tvalid_0's rmse: 0.903441\n",
      "[82]\tvalid_0's rmse: 0.903356\n",
      "[83]\tvalid_0's rmse: 0.903287\n",
      "[84]\tvalid_0's rmse: 0.903082\n",
      "[85]\tvalid_0's rmse: 0.90303\n",
      "[86]\tvalid_0's rmse: 0.902974\n",
      "[87]\tvalid_0's rmse: 0.902889\n",
      "[88]\tvalid_0's rmse: 0.902846\n",
      "[89]\tvalid_0's rmse: 0.902722\n",
      "[90]\tvalid_0's rmse: 0.902667\n",
      "[91]\tvalid_0's rmse: 0.902619\n",
      "[92]\tvalid_0's rmse: 0.902534\n",
      "[93]\tvalid_0's rmse: 0.902488\n",
      "[94]\tvalid_0's rmse: 0.902429\n",
      "[95]\tvalid_0's rmse: 0.902307\n",
      "[96]\tvalid_0's rmse: 0.902265\n",
      "[97]\tvalid_0's rmse: 0.902172\n",
      "[98]\tvalid_0's rmse: 0.902139\n",
      "[99]\tvalid_0's rmse: 0.902096\n",
      "[100]\tvalid_0's rmse: 0.902046\n",
      "[101]\tvalid_0's rmse: 0.901949\n",
      "[102]\tvalid_0's rmse: 0.901841\n",
      "[103]\tvalid_0's rmse: 0.901815\n",
      "[104]\tvalid_0's rmse: 0.901741\n",
      "[105]\tvalid_0's rmse: 0.9017\n",
      "[106]\tvalid_0's rmse: 0.901572\n",
      "[107]\tvalid_0's rmse: 0.901536\n",
      "[108]\tvalid_0's rmse: 0.901454\n",
      "[109]\tvalid_0's rmse: 0.901414\n",
      "[110]\tvalid_0's rmse: 0.901365\n",
      "[111]\tvalid_0's rmse: 0.901299\n",
      "[112]\tvalid_0's rmse: 0.901212\n",
      "[113]\tvalid_0's rmse: 0.90111\n",
      "[114]\tvalid_0's rmse: 0.901078\n",
      "[115]\tvalid_0's rmse: 0.90104\n",
      "[116]\tvalid_0's rmse: 0.901009\n",
      "[117]\tvalid_0's rmse: 0.900972\n",
      "[118]\tvalid_0's rmse: 0.900864\n",
      "[119]\tvalid_0's rmse: 0.9008\n",
      "[120]\tvalid_0's rmse: 0.90073\n",
      "[121]\tvalid_0's rmse: 0.900672\n",
      "[122]\tvalid_0's rmse: 0.900596\n",
      "[123]\tvalid_0's rmse: 0.900555\n",
      "[124]\tvalid_0's rmse: 0.900504\n",
      "[125]\tvalid_0's rmse: 0.900487\n",
      "[126]\tvalid_0's rmse: 0.900379\n",
      "[127]\tvalid_0's rmse: 0.900335\n",
      "[128]\tvalid_0's rmse: 0.900311\n",
      "[129]\tvalid_0's rmse: 0.900284\n",
      "[130]\tvalid_0's rmse: 0.900188\n",
      "[131]\tvalid_0's rmse: 0.900127\n",
      "[132]\tvalid_0's rmse: 0.900108\n",
      "[133]\tvalid_0's rmse: 0.900092\n",
      "[134]\tvalid_0's rmse: 0.900001\n",
      "[135]\tvalid_0's rmse: 0.899937\n",
      "[136]\tvalid_0's rmse: 0.899885\n",
      "[137]\tvalid_0's rmse: 0.899864\n",
      "[138]\tvalid_0's rmse: 0.899828\n",
      "[139]\tvalid_0's rmse: 0.899796\n",
      "[140]\tvalid_0's rmse: 0.899761\n",
      "[141]\tvalid_0's rmse: 0.899672\n",
      "[142]\tvalid_0's rmse: 0.899621\n",
      "[143]\tvalid_0's rmse: 0.899566\n",
      "[144]\tvalid_0's rmse: 0.89953\n",
      "[145]\tvalid_0's rmse: 0.899439\n",
      "[146]\tvalid_0's rmse: 0.899392\n",
      "[147]\tvalid_0's rmse: 0.899341\n",
      "[148]\tvalid_0's rmse: 0.89917\n",
      "[149]\tvalid_0's rmse: 0.899135\n",
      "[150]\tvalid_0's rmse: 0.899084\n",
      "[151]\tvalid_0's rmse: 0.899033\n",
      "[152]\tvalid_0's rmse: 0.89899\n",
      "[153]\tvalid_0's rmse: 0.898953\n",
      "[154]\tvalid_0's rmse: 0.898901\n",
      "[155]\tvalid_0's rmse: 0.898819\n",
      "[156]\tvalid_0's rmse: 0.8988\n",
      "[157]\tvalid_0's rmse: 0.898711\n",
      "[158]\tvalid_0's rmse: 0.898697\n",
      "[159]\tvalid_0's rmse: 0.89866\n",
      "[160]\tvalid_0's rmse: 0.898618\n",
      "[161]\tvalid_0's rmse: 0.89859\n",
      "[162]\tvalid_0's rmse: 0.898553\n",
      "[163]\tvalid_0's rmse: 0.898478\n",
      "[164]\tvalid_0's rmse: 0.898457\n",
      "[165]\tvalid_0's rmse: 0.898437\n",
      "[166]\tvalid_0's rmse: 0.898367\n",
      "[167]\tvalid_0's rmse: 0.898345\n",
      "[168]\tvalid_0's rmse: 0.898329\n",
      "[169]\tvalid_0's rmse: 0.898271\n",
      "[170]\tvalid_0's rmse: 0.898246\n",
      "[171]\tvalid_0's rmse: 0.898205\n",
      "[172]\tvalid_0's rmse: 0.898168\n",
      "[173]\tvalid_0's rmse: 0.898062\n",
      "[174]\tvalid_0's rmse: 0.898029\n",
      "[175]\tvalid_0's rmse: 0.898003\n",
      "[176]\tvalid_0's rmse: 0.897937\n",
      "[177]\tvalid_0's rmse: 0.897893\n",
      "[178]\tvalid_0's rmse: 0.897824\n",
      "[179]\tvalid_0's rmse: 0.8978\n",
      "[180]\tvalid_0's rmse: 0.897795\n",
      "[181]\tvalid_0's rmse: 0.897695\n",
      "[182]\tvalid_0's rmse: 0.897651\n",
      "[183]\tvalid_0's rmse: 0.897638\n",
      "[184]\tvalid_0's rmse: 0.897612\n",
      "[185]\tvalid_0's rmse: 0.897489\n",
      "[186]\tvalid_0's rmse: 0.897433\n",
      "[187]\tvalid_0's rmse: 0.897359\n",
      "[188]\tvalid_0's rmse: 0.897348\n",
      "[189]\tvalid_0's rmse: 0.897322\n",
      "[190]\tvalid_0's rmse: 0.897302\n",
      "[191]\tvalid_0's rmse: 0.897259\n",
      "[192]\tvalid_0's rmse: 0.897231\n",
      "[193]\tvalid_0's rmse: 0.897223\n",
      "[194]\tvalid_0's rmse: 0.897206\n",
      "[195]\tvalid_0's rmse: 0.897163\n",
      "[196]\tvalid_0's rmse: 0.897154\n",
      "[197]\tvalid_0's rmse: 0.897149\n",
      "[198]\tvalid_0's rmse: 0.897061\n",
      "[199]\tvalid_0's rmse: 0.897027\n",
      "[200]\tvalid_0's rmse: 0.897003\n",
      "[201]\tvalid_0's rmse: 0.896975\n",
      "[202]\tvalid_0's rmse: 0.896964\n",
      "[203]\tvalid_0's rmse: 0.896914\n",
      "[204]\tvalid_0's rmse: 0.896908\n",
      "[205]\tvalid_0's rmse: 0.896867\n",
      "[206]\tvalid_0's rmse: 0.89677\n",
      "[207]\tvalid_0's rmse: 0.896746\n",
      "[208]\tvalid_0's rmse: 0.896661\n",
      "[209]\tvalid_0's rmse: 0.89663\n",
      "[210]\tvalid_0's rmse: 0.896578\n",
      "[211]\tvalid_0's rmse: 0.896552\n",
      "[212]\tvalid_0's rmse: 0.89654\n",
      "[213]\tvalid_0's rmse: 0.896521\n",
      "[214]\tvalid_0's rmse: 0.896472\n",
      "[215]\tvalid_0's rmse: 0.896434\n",
      "[216]\tvalid_0's rmse: 0.896438\n",
      "[217]\tvalid_0's rmse: 0.896442\n",
      "[218]\tvalid_0's rmse: 0.896413\n",
      "[219]\tvalid_0's rmse: 0.896388\n",
      "[220]\tvalid_0's rmse: 0.896384\n",
      "[221]\tvalid_0's rmse: 0.896332\n",
      "[222]\tvalid_0's rmse: 0.896298\n",
      "[223]\tvalid_0's rmse: 0.896282\n",
      "[224]\tvalid_0's rmse: 0.896268\n",
      "[225]\tvalid_0's rmse: 0.896215\n",
      "[226]\tvalid_0's rmse: 0.896193\n",
      "[227]\tvalid_0's rmse: 0.896174\n",
      "[228]\tvalid_0's rmse: 0.896158\n",
      "[229]\tvalid_0's rmse: 0.896122\n",
      "[230]\tvalid_0's rmse: 0.896075\n",
      "[231]\tvalid_0's rmse: 0.896042\n",
      "[232]\tvalid_0's rmse: 0.896028\n",
      "[233]\tvalid_0's rmse: 0.896021\n",
      "[234]\tvalid_0's rmse: 0.895987\n",
      "[235]\tvalid_0's rmse: 0.895919\n",
      "[236]\tvalid_0's rmse: 0.895906\n",
      "[237]\tvalid_0's rmse: 0.895889\n",
      "[238]\tvalid_0's rmse: 0.89588\n",
      "[239]\tvalid_0's rmse: 0.89587\n",
      "[240]\tvalid_0's rmse: 0.895787\n",
      "[241]\tvalid_0's rmse: 0.895744\n",
      "[242]\tvalid_0's rmse: 0.89573\n",
      "[243]\tvalid_0's rmse: 0.895718\n",
      "[244]\tvalid_0's rmse: 0.895673\n",
      "[245]\tvalid_0's rmse: 0.895667\n",
      "[246]\tvalid_0's rmse: 0.895649\n",
      "[247]\tvalid_0's rmse: 0.895622\n",
      "[248]\tvalid_0's rmse: 0.895531\n",
      "[249]\tvalid_0's rmse: 0.895528\n",
      "[250]\tvalid_0's rmse: 0.895522\n",
      "[251]\tvalid_0's rmse: 0.895507\n",
      "[252]\tvalid_0's rmse: 0.895473\n",
      "[253]\tvalid_0's rmse: 0.895456\n",
      "[254]\tvalid_0's rmse: 0.895427\n",
      "[255]\tvalid_0's rmse: 0.895422\n",
      "[256]\tvalid_0's rmse: 0.895399\n",
      "[257]\tvalid_0's rmse: 0.895399\n",
      "[258]\tvalid_0's rmse: 0.895332\n",
      "[259]\tvalid_0's rmse: 0.895322\n",
      "[260]\tvalid_0's rmse: 0.895314\n",
      "[261]\tvalid_0's rmse: 0.895312\n",
      "[262]\tvalid_0's rmse: 0.895295\n",
      "[263]\tvalid_0's rmse: 0.895203\n",
      "[264]\tvalid_0's rmse: 0.895185\n",
      "[265]\tvalid_0's rmse: 0.895166\n",
      "[266]\tvalid_0's rmse: 0.89515\n",
      "[267]\tvalid_0's rmse: 0.895127\n",
      "[268]\tvalid_0's rmse: 0.895124\n",
      "[269]\tvalid_0's rmse: 0.895101\n",
      "[270]\tvalid_0's rmse: 0.895101\n",
      "[271]\tvalid_0's rmse: 0.895078\n",
      "[272]\tvalid_0's rmse: 0.895074\n",
      "[273]\tvalid_0's rmse: 0.895059\n",
      "[274]\tvalid_0's rmse: 0.895026\n",
      "[275]\tvalid_0's rmse: 0.894958\n",
      "[276]\tvalid_0's rmse: 0.894927\n",
      "[277]\tvalid_0's rmse: 0.894905\n",
      "[278]\tvalid_0's rmse: 0.894881\n",
      "[279]\tvalid_0's rmse: 0.894877\n",
      "[280]\tvalid_0's rmse: 0.894851\n",
      "[281]\tvalid_0's rmse: 0.894852\n",
      "[282]\tvalid_0's rmse: 0.894848\n",
      "[283]\tvalid_0's rmse: 0.89483\n",
      "[284]\tvalid_0's rmse: 0.894793\n",
      "[285]\tvalid_0's rmse: 0.894791\n",
      "[286]\tvalid_0's rmse: 0.894749\n",
      "[287]\tvalid_0's rmse: 0.894743\n",
      "[288]\tvalid_0's rmse: 0.894742\n",
      "[289]\tvalid_0's rmse: 0.894716\n",
      "[290]\tvalid_0's rmse: 0.894701\n",
      "[291]\tvalid_0's rmse: 0.894674\n",
      "[292]\tvalid_0's rmse: 0.894628\n",
      "[293]\tvalid_0's rmse: 0.894619\n",
      "[294]\tvalid_0's rmse: 0.894598\n",
      "[295]\tvalid_0's rmse: 0.8946\n",
      "[296]\tvalid_0's rmse: 0.894572\n",
      "[297]\tvalid_0's rmse: 0.894562\n",
      "[298]\tvalid_0's rmse: 0.894508\n",
      "[299]\tvalid_0's rmse: 0.894473\n",
      "[300]\tvalid_0's rmse: 0.894459\n",
      "[301]\tvalid_0's rmse: 0.894437\n",
      "[302]\tvalid_0's rmse: 0.894398\n",
      "[303]\tvalid_0's rmse: 0.894399\n",
      "[304]\tvalid_0's rmse: 0.894397\n",
      "[305]\tvalid_0's rmse: 0.894344\n",
      "[306]\tvalid_0's rmse: 0.894336\n"
     ]
    },
    {
     "data": {
      "text/plain": [
       "0"
      ]
     },
     "execution_count": 13,
     "metadata": {},
     "output_type": "execute_result"
    }
   ],
   "source": [
    "seed = 0\n",
    "folds = 3\n",
    "models = []\n",
    "\n",
    "skf = StratifiedKFold(folds, shuffle = True, random_state = seed)\n",
    "\n",
    "for train_index, test_index in skf.split(train_df, train_df['investment_id']):\n",
    "    train = train_df.iloc[train_index]\n",
    "    valid = train_df.iloc[test_index]\n",
    "    \n",
    "    lgbm = LGBMRegressor(**params)\n",
    "    '''\n",
    "        num_leaves=2 ** np.random.randint(3, 8),\n",
    "        learning_rate = 10 ** (-np.random.uniform(0.1,2)),\n",
    "        n_estimators = 500,\n",
    "        min_child_samples = 1000, \n",
    "        subsample=np.random.uniform(0.5,1.0), \n",
    "        subsample_freq=1,\n",
    "        n_jobs= -1,\n",
    "        tree_method ='gpu_hist' ,\n",
    "    '''\n",
    "    \n",
    "    lgbm.fit(train[feature_cols], train['target'], eval_set = (valid[feature_cols], valid['target']))\n",
    "    models.append(lgbm)\n",
    "    gc.collect()\n",
    "gc.collect()"
   ]
  },
  {
   "cell_type": "markdown",
   "id": "471dac45",
   "metadata": {
    "papermill": {
     "duration": 0.393447,
     "end_time": "2022-04-10T03:42:40.452680",
     "exception": false,
     "start_time": "2022-04-10T03:42:40.059233",
     "status": "completed"
    },
    "tags": []
   },
   "source": [
    "- 머신러닝을 통해 나온 결과로 feature 별 중요도 그래프"
   ]
  },
  {
   "cell_type": "code",
   "execution_count": 14,
   "id": "ca9e200d",
   "metadata": {
    "execution": {
     "iopub.execute_input": "2022-04-10T03:42:41.260503Z",
     "iopub.status.busy": "2022-04-10T03:42:41.259500Z",
     "iopub.status.idle": "2022-04-10T03:42:46.852789Z",
     "shell.execute_reply": "2022-04-10T03:42:46.853341Z"
    },
    "papermill": {
     "duration": 6.008676,
     "end_time": "2022-04-10T03:42:46.853538",
     "exception": false,
     "start_time": "2022-04-10T03:42:40.844862",
     "status": "completed"
    },
    "tags": []
   },
   "outputs": [
    {
     "data": {
      "text/plain": [
       "205"
      ]
     },
     "execution_count": 14,
     "metadata": {},
     "output_type": "execute_result"
    },
    {
     "data": {
      "image/png": "[encoded data removed]",
      "text/plain": [
       "<Figure size 1440x4320 with 1 Axes>"
      ]
     },
     "metadata": {
      "needs_background": "light"
     },
     "output_type": "display_data"
    }
   ],
   "source": [
    "import lightgbm\n",
    "lightgbm.plot_importance(lgbm, figsize = (20, 60))\n",
    "gc.collect()"
   ]
  },
  {
   "cell_type": "markdown",
   "id": "e8d54182",
   "metadata": {
    "papermill": {
     "duration": 0.391904,
     "end_time": "2022-04-10T03:42:47.643645",
     "exception": false,
     "start_time": "2022-04-10T03:42:47.251741",
     "status": "completed"
    },
    "tags": []
   },
   "source": [
    "# Step 6. 예측 및 제출"
   ]
  },
  {
   "cell_type": "markdown",
   "id": "d9cd350e",
   "metadata": {
    "papermill": {
     "duration": 0.39676,
     "end_time": "2022-04-10T03:42:48.435116",
     "exception": false,
     "start_time": "2022-04-10T03:42:48.038356",
     "status": "completed"
    },
    "tags": []
   },
   "source": [
    "- 주최측에서 제공하는 API를 통해 제출"
   ]
  },
  {
   "cell_type": "code",
   "execution_count": 15,
   "id": "6cffcc23",
   "metadata": {
    "execution": {
     "iopub.execute_input": "2022-04-10T03:42:49.228937Z",
     "iopub.status.busy": "2022-04-10T03:42:49.227792Z",
     "iopub.status.idle": "2022-04-10T03:42:49.258418Z",
     "shell.execute_reply": "2022-04-10T03:42:49.259011Z"
    },
    "papermill": {
     "duration": 0.433045,
     "end_time": "2022-04-10T03:42:49.259211",
     "exception": false,
     "start_time": "2022-04-10T03:42:48.826166",
     "status": "completed"
    },
    "tags": []
   },
   "outputs": [],
   "source": [
    "import ubiquant\n",
    "env = ubiquant.make_env()   # initialize the environment\n",
    "iter_test = env.iter_test()    # an iterator which loops over the test set and sample submission\n"
   ]
  },
  {
   "cell_type": "code",
   "execution_count": 16,
   "id": "64917a29",
   "metadata": {
    "execution": {
     "iopub.execute_input": "2022-04-10T03:42:50.047402Z",
     "iopub.status.busy": "2022-04-10T03:42:50.046409Z",
     "iopub.status.idle": "2022-04-10T03:42:50.186220Z",
     "shell.execute_reply": "2022-04-10T03:42:50.186833Z"
    },
    "papermill": {
     "duration": 0.537082,
     "end_time": "2022-04-10T03:42:50.187059",
     "exception": false,
     "start_time": "2022-04-10T03:42:49.649977",
     "status": "completed"
    },
    "tags": []
   },
   "outputs": [
    {
     "name": "stdout",
     "output_type": "stream",
     "text": [
      "This version of the API is not optimized and should not be used to estimate the runtime of your code on the hidden test set.\n"
     ]
    }
   ],
   "source": [
    "for (test_df, sample_prediction_df) in iter_test:\n",
    "    \n",
    "    test_df['target']  = 0\n",
    "    \n",
    "    for lgbm in models:\n",
    "        test_df['target'] += lgbm.predict(test_df[feature_cols])\n",
    "    test_df['target'] /= len(models)\n",
    "    env.predict(test_df[['row_id','target']])"
   ]
  },
  {
   "cell_type": "markdown",
   "id": "ff4f51df",
   "metadata": {
    "papermill": {
     "duration": 0.394711,
     "end_time": "2022-04-10T03:42:51.079018",
     "exception": false,
     "start_time": "2022-04-10T03:42:50.684307",
     "status": "completed"
    },
    "tags": []
   },
   "source": [
    "# References :    \n",
    "https://www.kaggle.com/code/yoshikuwano/fast-read-data-and-memory-optimization/notebook   \n",
    "https://www.kaggle.com/code/rohanrao/tutorial-on-reading-large-datasets/notebook#Format:-csv   \n",
    "https://www.kaggle.com/code/sytuannguyen/ubiquant-data-preparation#3.-Save-the-reduced-dataframe   \n",
    "https://www.kaggle.com/code/jnegrini/ubiquant-eda    \n",
    "https://www.kaggle.com/code/gunesevitan/ubiquant-market-prediction-eda/notebook#3.-Target   \n",
    "https://www.kaggle.com/code/ilialar/ubiquant-eda-and-baseline#Features    \n",
    "https://www.kaggle.com/competitions/ubiquant-market-prediction/data    \n",
    "https://www.kaggle.com/code/larochemf/ubiquant-low-memory-use-be-careful/notebook    \n",
    "https://www.kaggle.com/code/robikscube/fast-data-loading-and-low-mem-with-parquet-files/notebook    \n",
    "https://www.kaggle.com/code/lucamassaron/eda-target-analysis       \n",
    "https://www.kaggle.com/code/edwardcrookenden/eda-and-lgbm-baseline-feature-imp    \n",
    "https://www.kaggle.com/competitions/ubiquant-market-prediction/discussion/305031    \n",
    "https://www.kaggle.com/code/junjitakeshima/ubiquant-simple-lgbm-removing-outliers-en-jp/notebook#(1)-Read-Trainiing-Data    \n",
    "https://www.kaggle.com/code/valleyzw/ubiquant-lgbm-baseline/notebook#Stock-market-calendar-analysis:-discussion     \n",
    "https://www.kaggle.com/code/sytuannguyen/ubiquant-with-lightgbm   \n",
    "https://www.kaggle.com/code/jiprud/simple-light-gbm   \n",
    "https://www.kaggle.com/code/ilialar/ubiquant-eda-and-baseline#Model-training"
   ]
  }
 ],
 "metadata": {
  "kernelspec": {
   "display_name": "Python 3",
   "language": "python",
   "name": "python3"
  },
  "language_info": {
   "codemirror_mode": {
    "name": "ipython",
    "version": 3
   },
   "file_extension": ".py",
   "mimetype": "text/x-python",
   "name": "python",
   "nbconvert_exporter": "python",
   "pygments_lexer": "ipython3",
   "version": "3.7.12"
  },
  "papermill": {
   "default_parameters": {},
   "duration": 1574.597454,
   "end_time": "2022-04-10T03:42:53.192226",
   "environment_variables": {},
   "exception": null,
   "input_path": "__notebook__.ipynb",
   "output_path": "__notebook__.ipynb",
   "parameters": {},
   "start_time": "2022-04-10T03:16:38.594772",
   "version": "2.3.3"
  }
 },
 "nbformat": 4,
 "nbformat_minor": 5
}
