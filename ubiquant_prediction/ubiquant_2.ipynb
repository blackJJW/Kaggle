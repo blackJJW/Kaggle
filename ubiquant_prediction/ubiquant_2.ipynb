{
 "cells": [
  {
   "cell_type": "markdown",
   "id": "2f302677",
   "metadata": {
    "papermill": {
     "duration": 0.029721,
     "end_time": "2022-04-10T05:00:19.724320",
     "exception": false,
     "start_time": "2022-04-10T05:00:19.694599",
     "status": "completed"
    },
    "tags": []
   },
   "source": [
    "# 프로젝트 개요\n",
    "- 강의명 : 2022년 K-디지털 직업훈련(Training) 사업 - AI데이터플랫폼을 활용한 빅데이터 분석전문가 과정\n",
    "- 교과목명 : 빅데이터 분석 및 시각화, AI개발 기초, 인공지능 프로그래밍\n",
    "- 프로젝트 주제 : Ubiquant Market 데이터를 활용한 미래 투자 예측\n",
    "- 프로젝트 마감일 : 2022년 4월 12일 화요일\n",
    "- 강사명 : 정지훈 강사\n",
    "- 수강생명 : 정진우"
   ]
  },
  {
   "cell_type": "markdown",
   "id": "a46da306",
   "metadata": {
    "papermill": {
     "duration": 0.026957,
     "end_time": "2022-04-10T05:00:19.788284",
     "exception": false,
     "start_time": "2022-04-10T05:00:19.761327",
     "status": "completed"
    },
    "tags": []
   },
   "source": [
    "## < Score Improvement History >\n",
    "|#|> std * x|k-fold|score|\n",
    "|:-:|:-:|:-:|:-:|\n",
    "|1|> std * 70|3|0.1388|\n",
    "|2|> std * 60|3|0.1387|\n",
    "|3|> std * 50|3|0.1378|\n",
    "|4|> std * 40|3|0.1366|\n",
    "|5|> std * 30|3||\n",
    "|6|> std * 80|3||\n",
    "|7|> std * 90|3||"
   ]
  },
  {
   "cell_type": "markdown",
   "id": "6e0413fa",
   "metadata": {
    "papermill": {
     "duration": 0.024538,
     "end_time": "2022-04-10T05:00:19.840692",
     "exception": false,
     "start_time": "2022-04-10T05:00:19.816154",
     "status": "completed"
    },
    "tags": []
   },
   "source": [
    "# Step 1 ~ 3 :    \n",
    "https://www.kaggle.com/code/blackjjw/ubiquant-eda\n",
    "## dataset :   \n",
    "https://www.kaggle.com/datasets/blackjjw/ubiquant-train-df-low-memory-pkl"
   ]
  },
  {
   "cell_type": "markdown",
   "id": "06670c0b",
   "metadata": {
    "papermill": {
     "duration": 0.023972,
     "end_time": "2022-04-10T05:00:19.889162",
     "exception": false,
     "start_time": "2022-04-10T05:00:19.865190",
     "status": "completed"
    },
    "tags": []
   },
   "source": [
    "# 라이브러리 불러오기"
   ]
  },
  {
   "cell_type": "code",
   "execution_count": 1,
   "id": "53af3ad8",
   "metadata": {
    "_cell_guid": "b1076dfc-b9ad-4769-8c92-a6c4dae69d19",
    "_uuid": "8f2839f25d086af736a60e9eeb907d3b93b6e0e5",
    "execution": {
     "iopub.execute_input": "2022-04-10T05:00:19.939291Z",
     "iopub.status.busy": "2022-04-10T05:00:19.938203Z",
     "iopub.status.idle": "2022-04-10T05:00:22.200665Z",
     "shell.execute_reply": "2022-04-10T05:00:22.199965Z",
     "shell.execute_reply.started": "2022-04-10T04:58:49.105599Z"
    },
    "papermill": {
     "duration": 2.288963,
     "end_time": "2022-04-10T05:00:22.200832",
     "exception": false,
     "start_time": "2022-04-10T05:00:19.911869",
     "status": "completed"
    },
    "tags": []
   },
   "outputs": [
    {
     "data": {
      "text/html": [
       "<style type='text/css'>\n",
       ".datatable table.frame { margin-bottom: 0; }\n",
       ".datatable table.frame thead { border-bottom: none; }\n",
       ".datatable table.frame tr.coltypes td {  color: #FFFFFF;  line-height: 6px;  padding: 0 0.5em;}\n",
       ".datatable .bool    { background: #DDDD99; }\n",
       ".datatable .object  { background: #565656; }\n",
       ".datatable .int     { background: #5D9E5D; }\n",
       ".datatable .float   { background: #4040CC; }\n",
       ".datatable .str     { background: #CC4040; }\n",
       ".datatable .time    { background: #40CC40; }\n",
       ".datatable .row_index {  background: var(--jp-border-color3);  border-right: 1px solid var(--jp-border-color0);  color: var(--jp-ui-font-color3);  font-size: 9px;}\n",
       ".datatable .frame tbody td { text-align: left; }\n",
       ".datatable .frame tr.coltypes .row_index {  background: var(--jp-border-color0);}\n",
       ".datatable th:nth-child(2) { padding-left: 12px; }\n",
       ".datatable .hellipsis {  color: var(--jp-cell-editor-border-color);}\n",
       ".datatable .vellipsis {  background: var(--jp-layout-color0);  color: var(--jp-cell-editor-border-color);}\n",
       ".datatable .na {  color: var(--jp-cell-editor-border-color);  font-size: 80%;}\n",
       ".datatable .sp {  opacity: 0.25;}\n",
       ".datatable .footer { font-size: 9px; }\n",
       ".datatable .frame_dimensions {  background: var(--jp-border-color3);  border-top: 1px solid var(--jp-border-color0);  color: var(--jp-ui-font-color3);  display: inline-block;  opacity: 0.6;  padding: 1px 10px 1px 5px;}\n",
       "</style>\n"
      ],
      "text/plain": [
       "<IPython.core.display.HTML object>"
      ]
     },
     "metadata": {},
     "output_type": "display_data"
    }
   ],
   "source": [
    "import numpy as np\n",
    "import pandas as pd\n",
    "\n",
    "import gc\n",
    "import joblib\n",
    "\n",
    "import matplotlib.pyplot as plt\n",
    "%matplotlib inline\n",
    "import seaborn as sns\n",
    "import scipy as stats\n",
    "\n",
    "from sklearn import preprocessing\n",
    "from sklearn.model_selection import StratifiedKFold \n",
    "from sklearn.model_selection import GroupKFold\n",
    "from sklearn.model_selection import train_test_split\n",
    "from sklearn.metrics import mean_squared_error, mean_absolute_error, accuracy_score, confusion_matrix\n",
    "from sklearn.ensemble import RandomForestRegressor\n",
    "\n",
    "import lightgbm as lgbm\n",
    "from lightgbm import *"
   ]
  },
  {
   "cell_type": "markdown",
   "id": "27cb450f",
   "metadata": {
    "papermill": {
     "duration": 0.025054,
     "end_time": "2022-04-10T05:00:22.251134",
     "exception": false,
     "start_time": "2022-04-10T05:00:22.226080",
     "status": "completed"
    },
    "tags": []
   },
   "source": [
    "# 데이터 불러오기\n",
    "- Step 1 ~ 3에서 진행하고 생성한 train_df.pkl를 read."
   ]
  },
  {
   "cell_type": "code",
   "execution_count": 2,
   "id": "f79c290a",
   "metadata": {
    "execution": {
     "iopub.execute_input": "2022-04-10T05:00:22.304014Z",
     "iopub.status.busy": "2022-04-10T05:00:22.301465Z",
     "iopub.status.idle": "2022-04-10T05:00:37.955793Z",
     "shell.execute_reply": "2022-04-10T05:00:37.956315Z",
     "shell.execute_reply.started": "2022-04-10T04:58:51.795971Z"
    },
    "papermill": {
     "duration": 15.681894,
     "end_time": "2022-04-10T05:00:37.956495",
     "exception": false,
     "start_time": "2022-04-10T05:00:22.274601",
     "status": "completed"
    },
    "tags": []
   },
   "outputs": [
    {
     "name": "stdout",
     "output_type": "stream",
     "text": [
      "CPU times: user 875 ms, sys: 2.4 s, total: 3.27 s\n",
      "Wall time: 15.6 s\n"
     ]
    },
    {
     "data": {
      "text/html": [
       "<div>\n",
       "<style scoped>\n",
       "    .dataframe tbody tr th:only-of-type {\n",
       "        vertical-align: middle;\n",
       "    }\n",
       "\n",
       "    .dataframe tbody tr th {\n",
       "        vertical-align: top;\n",
       "    }\n",
       "\n",
       "    .dataframe thead th {\n",
       "        text-align: right;\n",
       "    }\n",
       "</style>\n",
       "<table border=\"1\" class=\"dataframe\">\n",
       "  <thead>\n",
       "    <tr style=\"text-align: right;\">\n",
       "      <th></th>\n",
       "      <th>row_id</th>\n",
       "      <th>time_id</th>\n",
       "      <th>investment_id</th>\n",
       "      <th>target</th>\n",
       "      <th>f_0</th>\n",
       "      <th>f_1</th>\n",
       "      <th>f_2</th>\n",
       "      <th>f_3</th>\n",
       "      <th>f_4</th>\n",
       "      <th>f_5</th>\n",
       "      <th>...</th>\n",
       "      <th>f_290</th>\n",
       "      <th>f_291</th>\n",
       "      <th>f_292</th>\n",
       "      <th>f_293</th>\n",
       "      <th>f_294</th>\n",
       "      <th>f_295</th>\n",
       "      <th>f_296</th>\n",
       "      <th>f_297</th>\n",
       "      <th>f_298</th>\n",
       "      <th>f_299</th>\n",
       "    </tr>\n",
       "  </thead>\n",
       "  <tbody>\n",
       "    <tr>\n",
       "      <th>0</th>\n",
       "      <td>0_1</td>\n",
       "      <td>0</td>\n",
       "      <td>1</td>\n",
       "      <td>-0.300781</td>\n",
       "      <td>0.932617</td>\n",
       "      <td>0.113708</td>\n",
       "      <td>-0.402100</td>\n",
       "      <td>0.378418</td>\n",
       "      <td>-0.203979</td>\n",
       "      <td>-0.413574</td>\n",
       "      <td>...</td>\n",
       "      <td>0.365967</td>\n",
       "      <td>-1.095703</td>\n",
       "      <td>0.200073</td>\n",
       "      <td>0.819336</td>\n",
       "      <td>0.941406</td>\n",
       "      <td>-0.086792</td>\n",
       "      <td>-1.086914</td>\n",
       "      <td>-1.044922</td>\n",
       "      <td>-0.287598</td>\n",
       "      <td>0.321533</td>\n",
       "    </tr>\n",
       "    <tr>\n",
       "      <th>1</th>\n",
       "      <td>0_2</td>\n",
       "      <td>0</td>\n",
       "      <td>2</td>\n",
       "      <td>-0.231079</td>\n",
       "      <td>0.811035</td>\n",
       "      <td>-0.514160</td>\n",
       "      <td>0.742188</td>\n",
       "      <td>-0.616699</td>\n",
       "      <td>-0.194214</td>\n",
       "      <td>1.771484</td>\n",
       "      <td>...</td>\n",
       "      <td>-0.154175</td>\n",
       "      <td>0.912598</td>\n",
       "      <td>-0.734375</td>\n",
       "      <td>0.819336</td>\n",
       "      <td>0.941406</td>\n",
       "      <td>-0.387695</td>\n",
       "      <td>-1.086914</td>\n",
       "      <td>-0.929688</td>\n",
       "      <td>-0.974121</td>\n",
       "      <td>-0.343506</td>\n",
       "    </tr>\n",
       "    <tr>\n",
       "      <th>2</th>\n",
       "      <td>0_6</td>\n",
       "      <td>0</td>\n",
       "      <td>6</td>\n",
       "      <td>0.568848</td>\n",
       "      <td>0.394043</td>\n",
       "      <td>0.615723</td>\n",
       "      <td>0.567871</td>\n",
       "      <td>-0.607910</td>\n",
       "      <td>0.068909</td>\n",
       "      <td>-1.083008</td>\n",
       "      <td>...</td>\n",
       "      <td>-0.138062</td>\n",
       "      <td>0.912598</td>\n",
       "      <td>-0.551758</td>\n",
       "      <td>-1.220703</td>\n",
       "      <td>-1.060547</td>\n",
       "      <td>-0.219116</td>\n",
       "      <td>-1.086914</td>\n",
       "      <td>-0.612305</td>\n",
       "      <td>-0.113953</td>\n",
       "      <td>0.243652</td>\n",
       "    </tr>\n",
       "    <tr>\n",
       "      <th>3</th>\n",
       "      <td>0_7</td>\n",
       "      <td>0</td>\n",
       "      <td>7</td>\n",
       "      <td>-1.064453</td>\n",
       "      <td>-2.343750</td>\n",
       "      <td>-0.011871</td>\n",
       "      <td>1.875000</td>\n",
       "      <td>-0.606445</td>\n",
       "      <td>-0.586914</td>\n",
       "      <td>-0.815918</td>\n",
       "      <td>...</td>\n",
       "      <td>0.382080</td>\n",
       "      <td>0.912598</td>\n",
       "      <td>-0.266357</td>\n",
       "      <td>-1.220703</td>\n",
       "      <td>0.941406</td>\n",
       "      <td>-0.608887</td>\n",
       "      <td>0.104919</td>\n",
       "      <td>-0.783203</td>\n",
       "      <td>1.151367</td>\n",
       "      <td>-0.773438</td>\n",
       "    </tr>\n",
       "    <tr>\n",
       "      <th>4</th>\n",
       "      <td>0_8</td>\n",
       "      <td>0</td>\n",
       "      <td>8</td>\n",
       "      <td>-0.531738</td>\n",
       "      <td>0.842285</td>\n",
       "      <td>-0.262939</td>\n",
       "      <td>2.330078</td>\n",
       "      <td>-0.583496</td>\n",
       "      <td>-0.618164</td>\n",
       "      <td>-0.742676</td>\n",
       "      <td>...</td>\n",
       "      <td>-0.170410</td>\n",
       "      <td>0.912598</td>\n",
       "      <td>-0.741211</td>\n",
       "      <td>-1.220703</td>\n",
       "      <td>0.941406</td>\n",
       "      <td>-0.588379</td>\n",
       "      <td>0.104919</td>\n",
       "      <td>0.753418</td>\n",
       "      <td>1.345703</td>\n",
       "      <td>-0.737793</td>\n",
       "    </tr>\n",
       "  </tbody>\n",
       "</table>\n",
       "<p>5 rows × 304 columns</p>\n",
       "</div>"
      ],
      "text/plain": [
       "  row_id  time_id  investment_id    target       f_0       f_1       f_2  \\\n",
       "0    0_1        0              1 -0.300781  0.932617  0.113708 -0.402100   \n",
       "1    0_2        0              2 -0.231079  0.811035 -0.514160  0.742188   \n",
       "2    0_6        0              6  0.568848  0.394043  0.615723  0.567871   \n",
       "3    0_7        0              7 -1.064453 -2.343750 -0.011871  1.875000   \n",
       "4    0_8        0              8 -0.531738  0.842285 -0.262939  2.330078   \n",
       "\n",
       "        f_3       f_4       f_5  ...     f_290     f_291     f_292     f_293  \\\n",
       "0  0.378418 -0.203979 -0.413574  ...  0.365967 -1.095703  0.200073  0.819336   \n",
       "1 -0.616699 -0.194214  1.771484  ... -0.154175  0.912598 -0.734375  0.819336   \n",
       "2 -0.607910  0.068909 -1.083008  ... -0.138062  0.912598 -0.551758 -1.220703   \n",
       "3 -0.606445 -0.586914 -0.815918  ...  0.382080  0.912598 -0.266357 -1.220703   \n",
       "4 -0.583496 -0.618164 -0.742676  ... -0.170410  0.912598 -0.741211 -1.220703   \n",
       "\n",
       "      f_294     f_295     f_296     f_297     f_298     f_299  \n",
       "0  0.941406 -0.086792 -1.086914 -1.044922 -0.287598  0.321533  \n",
       "1  0.941406 -0.387695 -1.086914 -0.929688 -0.974121 -0.343506  \n",
       "2 -1.060547 -0.219116 -1.086914 -0.612305 -0.113953  0.243652  \n",
       "3  0.941406 -0.608887  0.104919 -0.783203  1.151367 -0.773438  \n",
       "4  0.941406 -0.588379  0.104919  0.753418  1.345703 -0.737793  \n",
       "\n",
       "[5 rows x 304 columns]"
      ]
     },
     "execution_count": 2,
     "metadata": {},
     "output_type": "execute_result"
    }
   ],
   "source": [
    "%%time\n",
    "train_df = pd.read_pickle('../input/ubiquant-train-df-low-memory-pkl/train_df.pkl')\n",
    "train_df.head()"
   ]
  },
  {
   "cell_type": "markdown",
   "id": "6d456d35",
   "metadata": {
    "papermill": {
     "duration": 0.025916,
     "end_time": "2022-04-10T05:00:38.008090",
     "exception": false,
     "start_time": "2022-04-10T05:00:37.982174",
     "status": "completed"
    },
    "tags": []
   },
   "source": [
    "# Step 4. 데이터 전처리"
   ]
  },
  {
   "cell_type": "markdown",
   "id": "b0181e69",
   "metadata": {
    "papermill": {
     "duration": 0.02509,
     "end_time": "2022-04-10T05:00:38.058444",
     "exception": false,
     "start_time": "2022-04-10T05:00:38.033354",
     "status": "completed"
    },
    "tags": []
   },
   "source": [
    "## 필요없는 컬럼 제거\n",
    "- row_id는 단순 행 번호를 나타내므로 제거.\n",
    "- 컬럼 리스트를 따로 생성하고 'row_id' 제거.\n",
    "- 'time_id' 제거\n",
    "- 종속변수인 'target' 제거.\n",
    "- 필요없는 컬럼이 생성된 리스트를 통해 필요한 컬럼들만 추출하여 사용."
   ]
  },
  {
   "cell_type": "code",
   "execution_count": 3,
   "id": "e6943d19",
   "metadata": {
    "execution": {
     "iopub.execute_input": "2022-04-10T05:00:38.117322Z",
     "iopub.status.busy": "2022-04-10T05:00:38.116535Z",
     "iopub.status.idle": "2022-04-10T05:00:38.121399Z",
     "shell.execute_reply": "2022-04-10T05:00:38.120779Z",
     "shell.execute_reply.started": "2022-04-10T04:59:10.547966Z"
    },
    "papermill": {
     "duration": 0.038285,
     "end_time": "2022-04-10T05:00:38.121541",
     "exception": false,
     "start_time": "2022-04-10T05:00:38.083256",
     "status": "completed"
    },
    "tags": []
   },
   "outputs": [
    {
     "data": {
      "text/plain": [
       "Index(['investment_id', 'f_0', 'f_1', 'f_2', 'f_3', 'f_4', 'f_5', 'f_6', 'f_7',\n",
       "       'f_8',\n",
       "       ...\n",
       "       'f_290', 'f_291', 'f_292', 'f_293', 'f_294', 'f_295', 'f_296', 'f_297',\n",
       "       'f_298', 'f_299'],\n",
       "      dtype='object', length=301)"
      ]
     },
     "execution_count": 3,
     "metadata": {},
     "output_type": "execute_result"
    }
   ],
   "source": [
    "feature_cols = train_df.columns.unique()\n",
    "feature_cols = feature_cols.drop(['row_id', 'target', 'time_id'])\n",
    "feature_cols"
   ]
  },
  {
   "cell_type": "markdown",
   "id": "162be6bc",
   "metadata": {
    "papermill": {
     "duration": 0.02538,
     "end_time": "2022-04-10T05:00:38.173807",
     "exception": false,
     "start_time": "2022-04-10T05:00:38.148427",
     "status": "completed"
    },
    "tags": []
   },
   "source": [
    "## 결측치 제거\n",
    "- dataset 내에 결측치가 존재하지 않음."
   ]
  },
  {
   "cell_type": "markdown",
   "id": "180afbf6",
   "metadata": {
    "papermill": {
     "duration": 0.024877,
     "end_time": "2022-04-10T05:00:38.223890",
     "exception": false,
     "start_time": "2022-04-10T05:00:38.199013",
     "status": "completed"
    },
    "tags": []
   },
   "source": [
    "## 이상치 제거\n",
    "- 평균에서 멀리 떨어져 있는 값들을 제거 (> std*num)"
   ]
  },
  {
   "cell_type": "markdown",
   "id": "547e82ef",
   "metadata": {
    "papermill": {
     "duration": 0.025395,
     "end_time": "2022-04-10T05:00:38.274669",
     "exception": false,
     "start_time": "2022-04-10T05:00:38.249274",
     "status": "completed"
    },
    "tags": []
   },
   "source": [
    "## mean > std * x\n",
    "- 이상치의 개수와 리스트를 반환\n",
    "|x|outlier count|\n",
    "|:-----:|:-----:|\n",
    "|90|21|\n",
    "|80|42|\n",
    "|70|128|\n",
    "|60|325|\n",
    "|50|788|\n",
    "|40|2232|\n",
    "|30|5707|"
   ]
  },
  {
   "cell_type": "code",
   "execution_count": 4,
   "id": "95c0ab98",
   "metadata": {
    "execution": {
     "iopub.execute_input": "2022-04-10T05:00:38.334090Z",
     "iopub.status.busy": "2022-04-10T05:00:38.333384Z",
     "iopub.status.idle": "2022-04-10T05:00:55.440245Z",
     "shell.execute_reply": "2022-04-10T05:00:55.441135Z",
     "shell.execute_reply.started": "2022-04-10T04:59:10.562495Z"
    },
    "papermill": {
     "duration": 17.141394,
     "end_time": "2022-04-10T05:00:55.441681",
     "exception": false,
     "start_time": "2022-04-10T05:00:38.300287",
     "status": "completed"
    },
    "tags": []
   },
   "outputs": [
    {
     "name": "stdout",
     "output_type": "stream",
     "text": [
      "f_124 15\n",
      "f_200 6\n",
      "21\n"
     ]
    },
    {
     "data": {
      "text/plain": [
       "0"
      ]
     },
     "execution_count": 4,
     "metadata": {},
     "output_type": "execute_result"
    }
   ],
   "source": [
    "outlier_list = []\n",
    "num = 90\n",
    "\n",
    "for col in feature_cols :\n",
    "    trans_dtype_df = train_df[col].astype(np.float32)\n",
    "    \n",
    "    temp_df = train_df[(trans_dtype_df > trans_dtype_df.mean() + trans_dtype_df.std() * num) |\n",
    "                       (trans_dtype_df < trans_dtype_df.mean() - trans_dtype_df.std() * num) ]\n",
    "    if len(temp_df) >0 :\n",
    "        outliers = temp_df.index.to_list()\n",
    "        outlier_list.extend(outliers)\n",
    "        print(col, len(temp_df))\n",
    "        gc.collect()\n",
    "\n",
    "outlier_list = list(set(outlier_list))\n",
    "print(len(outlier_list))\n",
    "gc.collect()"
   ]
  },
  {
   "cell_type": "markdown",
   "id": "4db71af3",
   "metadata": {
    "papermill": {
     "duration": 0.02597,
     "end_time": "2022-04-10T05:00:55.495708",
     "exception": false,
     "start_time": "2022-04-10T05:00:55.469738",
     "status": "completed"
    },
    "tags": []
   },
   "source": [
    "- 이상치 제거"
   ]
  },
  {
   "cell_type": "code",
   "execution_count": 5,
   "id": "3f1f0f40",
   "metadata": {
    "execution": {
     "iopub.execute_input": "2022-04-10T05:00:55.552829Z",
     "iopub.status.busy": "2022-04-10T05:00:55.552206Z",
     "iopub.status.idle": "2022-04-10T05:01:05.440515Z",
     "shell.execute_reply": "2022-04-10T05:01:05.440990Z",
     "shell.execute_reply.started": "2022-04-10T04:59:25.099739Z"
    },
    "papermill": {
     "duration": 9.919765,
     "end_time": "2022-04-10T05:01:05.441179",
     "exception": false,
     "start_time": "2022-04-10T05:00:55.521414",
     "status": "completed"
    },
    "tags": []
   },
   "outputs": [
    {
     "data": {
      "text/plain": [
       "21"
      ]
     },
     "execution_count": 5,
     "metadata": {},
     "output_type": "execute_result"
    }
   ],
   "source": [
    "train_df.drop(train_df.index[outlier_list], inplace = True)\n",
    "train_df\n",
    "gc.collect()"
   ]
  },
  {
   "cell_type": "markdown",
   "id": "f080da11",
   "metadata": {
    "papermill": {
     "duration": 0.025961,
     "end_time": "2022-04-10T05:01:05.493317",
     "exception": false,
     "start_time": "2022-04-10T05:01:05.467356",
     "status": "completed"
    },
    "tags": []
   },
   "source": [
    "# Step 5. 머신러닝 모형 개발"
   ]
  },
  {
   "cell_type": "markdown",
   "id": "73d8ebb8",
   "metadata": {
    "papermill": {
     "duration": 0.026263,
     "end_time": "2022-04-10T05:01:05.545465",
     "exception": false,
     "start_time": "2022-04-10T05:01:05.519202",
     "status": "completed"
    },
    "tags": []
   },
   "source": [
    "- 독립변수와 종속변수를 구분."
   ]
  },
  {
   "cell_type": "code",
   "execution_count": 6,
   "id": "bc21a207",
   "metadata": {
    "execution": {
     "iopub.execute_input": "2022-04-10T05:01:05.600624Z",
     "iopub.status.busy": "2022-04-10T05:01:05.600052Z",
     "iopub.status.idle": "2022-04-10T05:01:05.602611Z",
     "shell.execute_reply": "2022-04-10T05:01:05.603171Z",
     "shell.execute_reply.started": "2022-04-10T04:59:33.085057Z"
    },
    "papermill": {
     "duration": 0.031988,
     "end_time": "2022-04-10T05:01:05.603330",
     "exception": false,
     "start_time": "2022-04-10T05:01:05.571342",
     "status": "completed"
    },
    "tags": []
   },
   "outputs": [],
   "source": [
    "#X = train_df[feature_cols]\n",
    "#y = train_df['target']"
   ]
  },
  {
   "cell_type": "markdown",
   "id": "90741125",
   "metadata": {
    "papermill": {
     "duration": 0.025323,
     "end_time": "2022-04-10T05:01:05.654277",
     "exception": false,
     "start_time": "2022-04-10T05:01:05.628954",
     "status": "completed"
    },
    "tags": []
   },
   "source": [
    "- X, y 데이터 분리"
   ]
  },
  {
   "cell_type": "code",
   "execution_count": 7,
   "id": "eb1b24e1",
   "metadata": {
    "execution": {
     "iopub.execute_input": "2022-04-10T05:01:05.709896Z",
     "iopub.status.busy": "2022-04-10T05:01:05.708600Z",
     "iopub.status.idle": "2022-04-10T05:01:05.712056Z",
     "shell.execute_reply": "2022-04-10T05:01:05.712449Z",
     "shell.execute_reply.started": "2022-04-10T04:59:33.091317Z"
    },
    "papermill": {
     "duration": 0.03278,
     "end_time": "2022-04-10T05:01:05.712608",
     "exception": false,
     "start_time": "2022-04-10T05:01:05.679828",
     "status": "completed"
    },
    "tags": []
   },
   "outputs": [],
   "source": [
    "#X_train, X_valid, y_train, y_valid = train_test_split(X, y, test_size = 0.3, random_state = 42, shuffle = False)\n",
    "#X_train.shape, X_valid.shape, y_train.shape, y_valid.shape"
   ]
  },
  {
   "cell_type": "markdown",
   "id": "bb525950",
   "metadata": {
    "papermill": {
     "duration": 0.025417,
     "end_time": "2022-04-10T05:01:05.763683",
     "exception": false,
     "start_time": "2022-04-10T05:01:05.738266",
     "status": "completed"
    },
    "tags": []
   },
   "source": [
    "- RAM 확보를 위해 X, y 제거"
   ]
  },
  {
   "cell_type": "code",
   "execution_count": 8,
   "id": "9e07ef77",
   "metadata": {
    "execution": {
     "iopub.execute_input": "2022-04-10T05:01:05.820952Z",
     "iopub.status.busy": "2022-04-10T05:01:05.819864Z",
     "iopub.status.idle": "2022-04-10T05:01:05.823937Z",
     "shell.execute_reply": "2022-04-10T05:01:05.823312Z",
     "shell.execute_reply.started": "2022-04-10T04:59:33.107800Z"
    },
    "papermill": {
     "duration": 0.034759,
     "end_time": "2022-04-10T05:01:05.824080",
     "exception": false,
     "start_time": "2022-04-10T05:01:05.789321",
     "status": "completed"
    },
    "tags": []
   },
   "outputs": [
    {
     "data": {
      "text/plain": [
       "'\\ndel X\\ndel y\\ngc.collect()\\n'"
      ]
     },
     "execution_count": 8,
     "metadata": {},
     "output_type": "execute_result"
    }
   ],
   "source": [
    "'''\n",
    "del X\n",
    "del y\n",
    "gc.collect()\n",
    "'''"
   ]
  },
  {
   "cell_type": "markdown",
   "id": "7a9866c0",
   "metadata": {
    "papermill": {
     "duration": 0.025954,
     "end_time": "2022-04-10T05:01:05.876728",
     "exception": false,
     "start_time": "2022-04-10T05:01:05.850774",
     "status": "completed"
    },
    "tags": []
   },
   "source": [
    "- LightGBM 클래스를 부른 후 모형을 학습"
   ]
  },
  {
   "cell_type": "code",
   "execution_count": 9,
   "id": "a39e12a8",
   "metadata": {
    "execution": {
     "iopub.execute_input": "2022-04-10T05:01:05.935657Z",
     "iopub.status.busy": "2022-04-10T05:01:05.934754Z",
     "iopub.status.idle": "2022-04-10T05:01:05.938762Z",
     "shell.execute_reply": "2022-04-10T05:01:05.938323Z",
     "shell.execute_reply.started": "2022-04-10T04:59:33.124040Z"
    },
    "papermill": {
     "duration": 0.035756,
     "end_time": "2022-04-10T05:01:05.938934",
     "exception": false,
     "start_time": "2022-04-10T05:01:05.903178",
     "status": "completed"
    },
    "tags": []
   },
   "outputs": [
    {
     "data": {
      "text/plain": [
       "'\\nmodel = lgbm.LGBMRegressor(\\n        objective=\"regression\",\\n        metric=\"rmse\",\\n        n_estimators=500 )\\n\\nmodel.fit(X_train, y_train)\\n'"
      ]
     },
     "execution_count": 9,
     "metadata": {},
     "output_type": "execute_result"
    }
   ],
   "source": [
    "'''\n",
    "model = lgbm.LGBMRegressor(\n",
    "        objective=\"regression\",\n",
    "        metric=\"rmse\",\n",
    "        n_estimators=500 )\n",
    "\n",
    "model.fit(X_train, y_train)\n",
    "'''"
   ]
  },
  {
   "cell_type": "code",
   "execution_count": 10,
   "id": "61489e0b",
   "metadata": {
    "execution": {
     "iopub.execute_input": "2022-04-10T05:01:05.998566Z",
     "iopub.status.busy": "2022-04-10T05:01:05.997941Z",
     "iopub.status.idle": "2022-04-10T05:01:06.000934Z",
     "shell.execute_reply": "2022-04-10T05:01:06.000368Z",
     "shell.execute_reply.started": "2022-04-10T04:59:33.144057Z"
    },
    "papermill": {
     "duration": 0.03554,
     "end_time": "2022-04-10T05:01:06.001066",
     "exception": false,
     "start_time": "2022-04-10T05:01:05.965526",
     "status": "completed"
    },
    "tags": []
   },
   "outputs": [
    {
     "data": {
      "text/plain": [
       "'\\nfor j in [200, 300, 400, 500, 600]:\\n        model = lgbm.LGBMRegressor(\\n            objective=\"regression\",\\n            metric=\"rmse\",\\n            n_estimators= j )\\n\\n        model.fit(X_train, y_train)\\n\\n        score = model.score(X_train, y_train)\\n        print(f\"n_e:{j}, Training Score : {score}\")\\n\\n        y_pred = model.predict(X_valid)\\n        mse = mean_squared_error(y_valid, y_pred)\\n        print(f\"n_e:{j},MSE : {mse:.2f}\")\\n'"
      ]
     },
     "execution_count": 10,
     "metadata": {},
     "output_type": "execute_result"
    }
   ],
   "source": [
    "\"\"\"\n",
    "for j in [200, 300, 400, 500, 600]:\n",
    "        model = lgbm.LGBMRegressor(\n",
    "            objective=\"regression\",\n",
    "            metric=\"rmse\",\n",
    "            n_estimators= j )\n",
    "\n",
    "        model.fit(X_train, y_train)\n",
    "\n",
    "        score = model.score(X_train, y_train)\n",
    "        print(f\"n_e:{j}, Training Score : {score}\")\n",
    "\n",
    "        y_pred = model.predict(X_valid)\n",
    "        mse = mean_squared_error(y_valid, y_pred)\n",
    "        print(f\"n_e:{j},MSE : {mse:.2f}\")\n",
    "\"\"\""
   ]
  },
  {
   "cell_type": "markdown",
   "id": "b84d1ce1",
   "metadata": {
    "papermill": {
     "duration": 0.026869,
     "end_time": "2022-04-10T05:01:06.054576",
     "exception": false,
     "start_time": "2022-04-10T05:01:06.027707",
     "status": "completed"
    },
    "tags": []
   },
   "source": [
    "### Training_Score & MSE 계산\n",
    "|test_size|n_estimators|delete outliers|Training_Score|MSE|delete outliers|Training_Score|MSE|delete outliers|Training_Score|MSE|   \n",
    "|:---:|:---:|:---:|:---:|:---:|:---:|:---:|:---:|:---:|:---:|:---:|                              \n",
    "|0.2|200|X|0.054069993842590924|0.81|>std\\*70|0.05405621833673957(<span style=\"color:blue\">$\\downarrow$</span>)|0.81|>std\\*60|0.05404028505271219(<span style=\"color:blue\">$\\downarrow$</span>)|0.81|\n",
    "|0.3|200|X|0.05846368663812751|0.83|>std\\*70|0.058449805435160984(<span style=\"color:blue\">$\\downarrow$</span>)|0.82|>std\\*60|||\n",
    "|0.2|300|X|0.06668339494814646|0.82|>std\\*70|0.06660813482520711(<span style=\"color:blue\">$\\downarrow$</span>)|0.81|>std\\*60|0.06678748573971982(<span style=\"color:red\">$\\uparrow$</span>)|0.81|\n",
    "|0.3|300|X|0.07216780004832235|0.83|>std\\*70|0.07194148416323642(<span style=\"color:blue\">$\\downarrow$</span>)|0.83|>std\\*60|||\n",
    "|0.2|400|X|0.07730909212135473|0.82|>std\\*70|0.0772426438888425(<span style=\"color:blue\">$\\downarrow$</span>)|0.82|>std\\*60|0.07730612556862904(<span style=\"color:red\">$\\uparrow$</span>)|0.82|\n",
    "|0.3|400|X|0.08363594720433998|0.83|>std\\*70|0.08389302333398285(<span style=\"color:red\">$\\uparrow$</span>)|0.83|>std\\*60|||\n",
    "|0.2|500|X|0.08671736858043233|0.82|>std\\*70|0.08636877075690108(<span style=\"color:blue\">$\\downarrow$</span>)|0.82|>std\\*60|0.08657127960859345(<span style=\"color:red\">$\\uparrow$</span>)|0.82|\n",
    "|0.3|500|X|0.09377199406580616|0.83|>std\\*70|0.0941912571685275(<span style=\"color:red\">$\\uparrow$</span>)|0.83|>std\\*60|||\n",
    "|0.2|600|X|0.09585158203024369|0.82|>std\\*70|0.09531511104149593(<span style=\"color:blue\">$\\downarrow$</span>)|0.82|>std\\*60|0.09508766558702908(<span style=\"color:blue\">$\\downarrow$</span>)|0.82|\n",
    "|0.3|600|X|0.10299723306322961|0.83|>std\\*70|0.10381084559412301(<span style=\"color:red\">$\\uparrow$</span>)|0.83|>std\\*60|||\n",
    "|0.2|700|X|0.10387433272279445|0.82|>std\\*70|0.10403926054146928(<span style=\"color:blue\">$\\downarrow$</span>)|0.82|>std\\*60|X|X|"
   ]
  },
  {
   "cell_type": "markdown",
   "id": "b186e980",
   "metadata": {
    "papermill": {
     "duration": 0.026702,
     "end_time": "2022-04-10T05:01:06.108502",
     "exception": false,
     "start_time": "2022-04-10T05:01:06.081800",
     "status": "completed"
    },
    "tags": []
   },
   "source": [
    "- 이상치를 제거해도 전반적으로 training score가 항상 오르지 않는다.\n",
    "- 오히려 떨어지는 것으로 보임"
   ]
  },
  {
   "cell_type": "markdown",
   "id": "b0fe2407",
   "metadata": {
    "papermill": {
     "duration": 0.026663,
     "end_time": "2022-04-10T05:01:06.162695",
     "exception": false,
     "start_time": "2022-04-10T05:01:06.136032",
     "status": "completed"
    },
    "tags": []
   },
   "source": [
    "- trianing score, MSE 계산"
   ]
  },
  {
   "cell_type": "code",
   "execution_count": 11,
   "id": "24203363",
   "metadata": {
    "execution": {
     "iopub.execute_input": "2022-04-10T05:01:06.222400Z",
     "iopub.status.busy": "2022-04-10T05:01:06.221748Z",
     "iopub.status.idle": "2022-04-10T05:01:06.224371Z",
     "shell.execute_reply": "2022-04-10T05:01:06.224885Z",
     "shell.execute_reply.started": "2022-04-10T04:59:33.156131Z"
    },
    "papermill": {
     "duration": 0.035431,
     "end_time": "2022-04-10T05:01:06.225036",
     "exception": false,
     "start_time": "2022-04-10T05:01:06.189605",
     "status": "completed"
    },
    "tags": []
   },
   "outputs": [
    {
     "data": {
      "text/plain": [
       "'\\nscore = model.score(X_train, y_train)\\nprint(f\"Training Score : {score}\")\\n\\ny_pred = model.predict(X_valid)\\nmse = mean_squared_error(y_valid, y_pred)\\nprint(f\"MSE : {mse:.2f}\")\\n'"
      ]
     },
     "execution_count": 11,
     "metadata": {},
     "output_type": "execute_result"
    }
   ],
   "source": [
    "'''\n",
    "score = model.score(X_train, y_train)\n",
    "print(f\"Training Score : {score}\")\n",
    "\n",
    "y_pred = model.predict(X_valid)\n",
    "mse = mean_squared_error(y_valid, y_pred)\n",
    "print(f\"MSE : {mse:.2f}\")\n",
    "'''\n"
   ]
  },
  {
   "cell_type": "markdown",
   "id": "aa0d314a",
   "metadata": {
    "papermill": {
     "duration": 0.026953,
     "end_time": "2022-04-10T05:01:06.278920",
     "exception": false,
     "start_time": "2022-04-10T05:01:06.251967",
     "status": "completed"
    },
    "tags": []
   },
   "source": [
    "- LightGBM의 세부 파라미터 적용\n",
    "    - 참고 자료를 조사하여 적용"
   ]
  },
  {
   "cell_type": "code",
   "execution_count": 12,
   "id": "ce3ffce0",
   "metadata": {
    "execution": {
     "iopub.execute_input": "2022-04-10T05:01:06.336924Z",
     "iopub.status.busy": "2022-04-10T05:01:06.336331Z",
     "iopub.status.idle": "2022-04-10T05:01:06.465262Z",
     "shell.execute_reply": "2022-04-10T05:01:06.465698Z",
     "shell.execute_reply.started": "2022-04-10T04:59:33.177646Z"
    },
    "papermill": {
     "duration": 0.159887,
     "end_time": "2022-04-10T05:01:06.465878",
     "exception": false,
     "start_time": "2022-04-10T05:01:06.305991",
     "status": "completed"
    },
    "tags": []
   },
   "outputs": [
    {
     "data": {
      "text/plain": [
       "147"
      ]
     },
     "execution_count": 12,
     "metadata": {},
     "output_type": "execute_result"
    }
   ],
   "source": [
    "#https://www.kaggle.com/valleyzw/ubiquant-lgbm-baseline\n",
    "params = {\n",
    "        'learning_rate':0.1,\n",
    "        \"objective\": \"regression\",\n",
    "        \"metric\": \"rmse\",\n",
    "        'boosting_type': \"gbdt\",\n",
    "        'verbosity': -1,\n",
    "        'n_jobs': -1, \n",
    "        'seed': 21,\n",
    "        'lambda_l1': 1.1895057699067542, \n",
    "        'lambda_l2': 1.9079686837880768e-08, \n",
    "        'num_leaves': 112, \n",
    "        'subsample':None,\n",
    "        'feature_fraction': 0.6259927292757151, \n",
    "        'bagging_fraction': 0.9782210574588895, \n",
    "        'bagging_freq': 1, \n",
    "        'n_estimators': 306, \n",
    "        'max_depth': 12, \n",
    "        'max_bin': 494, \n",
    "        'min_data_in_leaf': 366,\n",
    "        'colsample_bytree': None,\n",
    "        'subsample_freq': None,\n",
    "        'min_child_samples': None,\n",
    "        'reg_lambda': None,\n",
    "        'reg_alpha': None,\n",
    "    }\n",
    "gc.collect()"
   ]
  },
  {
   "cell_type": "markdown",
   "id": "89fd11fc",
   "metadata": {
    "papermill": {
     "duration": 0.026951,
     "end_time": "2022-04-10T05:01:06.520126",
     "exception": false,
     "start_time": "2022-04-10T05:01:06.493175",
     "status": "completed"
    },
    "tags": []
   },
   "source": [
    "- StratifiedkFold를 통한 교차 검증을 통해 훈련 "
   ]
  },
  {
   "cell_type": "code",
   "execution_count": 13,
   "id": "d8d64e3b",
   "metadata": {
    "execution": {
     "iopub.execute_input": "2022-04-10T05:01:06.583235Z",
     "iopub.status.busy": "2022-04-10T05:01:06.582155Z",
     "iopub.status.idle": "2022-04-10T05:25:46.658254Z",
     "shell.execute_reply": "2022-04-10T05:25:46.658744Z"
    },
    "papermill": {
     "duration": 1480.111703,
     "end_time": "2022-04-10T05:25:46.659095",
     "exception": false,
     "start_time": "2022-04-10T05:01:06.547392",
     "status": "completed"
    },
    "tags": []
   },
   "outputs": [
    {
     "name": "stderr",
     "output_type": "stream",
     "text": [
      "/opt/conda/lib/python3.7/site-packages/sklearn/model_selection/_split.py:680: UserWarning: The least populated class in y has only 2 members, which is less than n_splits=3.\n",
      "  UserWarning,\n"
     ]
    },
    {
     "name": "stdout",
     "output_type": "stream",
     "text": [
      "[1]\tvalid_0's rmse: 0.920847\n",
      "[2]\tvalid_0's rmse: 0.919995\n",
      "[3]\tvalid_0's rmse: 0.919279\n",
      "[4]\tvalid_0's rmse: 0.918627\n",
      "[5]\tvalid_0's rmse: 0.918014\n",
      "[6]\tvalid_0's rmse: 0.917481\n",
      "[7]\tvalid_0's rmse: 0.917004\n",
      "[8]\tvalid_0's rmse: 0.916591\n",
      "[9]\tvalid_0's rmse: 0.916213\n",
      "[10]\tvalid_0's rmse: 0.915885\n",
      "[11]\tvalid_0's rmse: 0.915566\n",
      "[12]\tvalid_0's rmse: 0.915292\n",
      "[13]\tvalid_0's rmse: 0.914991\n",
      "[14]\tvalid_0's rmse: 0.914764\n",
      "[15]\tvalid_0's rmse: 0.914553\n",
      "[16]\tvalid_0's rmse: 0.914341\n",
      "[17]\tvalid_0's rmse: 0.914093\n",
      "[18]\tvalid_0's rmse: 0.913905\n",
      "[19]\tvalid_0's rmse: 0.913686\n",
      "[20]\tvalid_0's rmse: 0.91344\n",
      "[21]\tvalid_0's rmse: 0.913267\n",
      "[22]\tvalid_0's rmse: 0.913097\n",
      "[23]\tvalid_0's rmse: 0.912898\n",
      "[24]\tvalid_0's rmse: 0.912741\n",
      "[25]\tvalid_0's rmse: 0.912597\n",
      "[26]\tvalid_0's rmse: 0.912442\n",
      "[27]\tvalid_0's rmse: 0.912302\n",
      "[28]\tvalid_0's rmse: 0.912104\n",
      "[29]\tvalid_0's rmse: 0.911935\n",
      "[30]\tvalid_0's rmse: 0.911785\n",
      "[31]\tvalid_0's rmse: 0.911631\n",
      "[32]\tvalid_0's rmse: 0.911455\n",
      "[33]\tvalid_0's rmse: 0.911345\n",
      "[34]\tvalid_0's rmse: 0.911224\n",
      "[35]\tvalid_0's rmse: 0.911061\n",
      "[36]\tvalid_0's rmse: 0.910941\n",
      "[37]\tvalid_0's rmse: 0.910864\n",
      "[38]\tvalid_0's rmse: 0.910753\n",
      "[39]\tvalid_0's rmse: 0.910626\n",
      "[40]\tvalid_0's rmse: 0.91052\n",
      "[41]\tvalid_0's rmse: 0.910436\n",
      "[42]\tvalid_0's rmse: 0.910276\n",
      "[43]\tvalid_0's rmse: 0.910145\n",
      "[44]\tvalid_0's rmse: 0.910039\n",
      "[45]\tvalid_0's rmse: 0.909932\n",
      "[46]\tvalid_0's rmse: 0.909829\n",
      "[47]\tvalid_0's rmse: 0.909718\n",
      "[48]\tvalid_0's rmse: 0.909652\n",
      "[49]\tvalid_0's rmse: 0.909563\n",
      "[50]\tvalid_0's rmse: 0.909416\n",
      "[51]\tvalid_0's rmse: 0.909293\n",
      "[52]\tvalid_0's rmse: 0.90921\n",
      "[53]\tvalid_0's rmse: 0.909069\n",
      "[54]\tvalid_0's rmse: 0.908976\n",
      "[55]\tvalid_0's rmse: 0.908876\n",
      "[56]\tvalid_0's rmse: 0.908792\n",
      "[57]\tvalid_0's rmse: 0.908688\n",
      "[58]\tvalid_0's rmse: 0.908594\n",
      "[59]\tvalid_0's rmse: 0.9085\n",
      "[60]\tvalid_0's rmse: 0.908399\n",
      "[61]\tvalid_0's rmse: 0.908315\n",
      "[62]\tvalid_0's rmse: 0.908225\n",
      "[63]\tvalid_0's rmse: 0.908138\n",
      "[64]\tvalid_0's rmse: 0.908066\n",
      "[65]\tvalid_0's rmse: 0.907989\n",
      "[66]\tvalid_0's rmse: 0.907903\n",
      "[67]\tvalid_0's rmse: 0.907849\n",
      "[68]\tvalid_0's rmse: 0.907782\n",
      "[69]\tvalid_0's rmse: 0.907693\n",
      "[70]\tvalid_0's rmse: 0.907616\n",
      "[71]\tvalid_0's rmse: 0.907533\n",
      "[72]\tvalid_0's rmse: 0.907369\n",
      "[73]\tvalid_0's rmse: 0.907308\n",
      "[74]\tvalid_0's rmse: 0.907112\n",
      "[75]\tvalid_0's rmse: 0.906946\n",
      "[76]\tvalid_0's rmse: 0.906902\n",
      "[77]\tvalid_0's rmse: 0.906829\n",
      "[78]\tvalid_0's rmse: 0.906742\n",
      "[79]\tvalid_0's rmse: 0.906664\n",
      "[80]\tvalid_0's rmse: 0.906576\n",
      "[81]\tvalid_0's rmse: 0.906529\n",
      "[82]\tvalid_0's rmse: 0.906465\n",
      "[83]\tvalid_0's rmse: 0.906373\n",
      "[84]\tvalid_0's rmse: 0.906241\n",
      "[85]\tvalid_0's rmse: 0.906171\n",
      "[86]\tvalid_0's rmse: 0.906087\n",
      "[87]\tvalid_0's rmse: 0.905912\n",
      "[88]\tvalid_0's rmse: 0.905766\n",
      "[89]\tvalid_0's rmse: 0.905685\n",
      "[90]\tvalid_0's rmse: 0.905631\n",
      "[91]\tvalid_0's rmse: 0.905585\n",
      "[92]\tvalid_0's rmse: 0.905532\n",
      "[93]\tvalid_0's rmse: 0.905461\n",
      "[94]\tvalid_0's rmse: 0.905412\n",
      "[95]\tvalid_0's rmse: 0.905365\n",
      "[96]\tvalid_0's rmse: 0.905266\n",
      "[97]\tvalid_0's rmse: 0.905166\n",
      "[98]\tvalid_0's rmse: 0.905096\n",
      "[99]\tvalid_0's rmse: 0.905019\n",
      "[100]\tvalid_0's rmse: 0.904964\n",
      "[101]\tvalid_0's rmse: 0.904934\n",
      "[102]\tvalid_0's rmse: 0.90489\n",
      "[103]\tvalid_0's rmse: 0.904816\n",
      "[104]\tvalid_0's rmse: 0.904736\n",
      "[105]\tvalid_0's rmse: 0.90464\n",
      "[106]\tvalid_0's rmse: 0.904528\n",
      "[107]\tvalid_0's rmse: 0.904495\n",
      "[108]\tvalid_0's rmse: 0.904434\n",
      "[109]\tvalid_0's rmse: 0.904347\n",
      "[110]\tvalid_0's rmse: 0.904262\n",
      "[111]\tvalid_0's rmse: 0.904215\n",
      "[112]\tvalid_0's rmse: 0.904126\n",
      "[113]\tvalid_0's rmse: 0.904046\n",
      "[114]\tvalid_0's rmse: 0.90401\n",
      "[115]\tvalid_0's rmse: 0.903943\n",
      "[116]\tvalid_0's rmse: 0.903884\n",
      "[117]\tvalid_0's rmse: 0.903851\n",
      "[118]\tvalid_0's rmse: 0.903794\n",
      "[119]\tvalid_0's rmse: 0.903749\n",
      "[120]\tvalid_0's rmse: 0.90369\n",
      "[121]\tvalid_0's rmse: 0.903649\n",
      "[122]\tvalid_0's rmse: 0.903616\n",
      "[123]\tvalid_0's rmse: 0.903568\n",
      "[124]\tvalid_0's rmse: 0.903535\n",
      "[125]\tvalid_0's rmse: 0.903453\n",
      "[126]\tvalid_0's rmse: 0.903316\n",
      "[127]\tvalid_0's rmse: 0.903277\n",
      "[128]\tvalid_0's rmse: 0.903241\n",
      "[129]\tvalid_0's rmse: 0.903113\n",
      "[130]\tvalid_0's rmse: 0.903043\n",
      "[131]\tvalid_0's rmse: 0.903005\n",
      "[132]\tvalid_0's rmse: 0.902954\n",
      "[133]\tvalid_0's rmse: 0.902869\n",
      "[134]\tvalid_0's rmse: 0.902832\n",
      "[135]\tvalid_0's rmse: 0.902757\n",
      "[136]\tvalid_0's rmse: 0.902718\n",
      "[137]\tvalid_0's rmse: 0.902697\n",
      "[138]\tvalid_0's rmse: 0.902648\n",
      "[139]\tvalid_0's rmse: 0.9026\n",
      "[140]\tvalid_0's rmse: 0.902559\n",
      "[141]\tvalid_0's rmse: 0.902509\n",
      "[142]\tvalid_0's rmse: 0.902412\n",
      "[143]\tvalid_0's rmse: 0.902392\n",
      "[144]\tvalid_0's rmse: 0.902363\n",
      "[145]\tvalid_0's rmse: 0.902341\n",
      "[146]\tvalid_0's rmse: 0.902222\n",
      "[147]\tvalid_0's rmse: 0.902185\n",
      "[148]\tvalid_0's rmse: 0.902148\n",
      "[149]\tvalid_0's rmse: 0.902049\n",
      "[150]\tvalid_0's rmse: 0.902028\n",
      "[151]\tvalid_0's rmse: 0.901984\n",
      "[152]\tvalid_0's rmse: 0.901916\n",
      "[153]\tvalid_0's rmse: 0.901871\n",
      "[154]\tvalid_0's rmse: 0.901853\n",
      "[155]\tvalid_0's rmse: 0.901797\n",
      "[156]\tvalid_0's rmse: 0.901752\n",
      "[157]\tvalid_0's rmse: 0.901742\n",
      "[158]\tvalid_0's rmse: 0.901695\n",
      "[159]\tvalid_0's rmse: 0.901648\n",
      "[160]\tvalid_0's rmse: 0.90164\n",
      "[161]\tvalid_0's rmse: 0.901598\n",
      "[162]\tvalid_0's rmse: 0.90156\n",
      "[163]\tvalid_0's rmse: 0.90154\n",
      "[164]\tvalid_0's rmse: 0.901516\n",
      "[165]\tvalid_0's rmse: 0.901516\n",
      "[166]\tvalid_0's rmse: 0.901441\n",
      "[167]\tvalid_0's rmse: 0.901317\n",
      "[168]\tvalid_0's rmse: 0.901265\n",
      "[169]\tvalid_0's rmse: 0.901229\n",
      "[170]\tvalid_0's rmse: 0.901197\n",
      "[171]\tvalid_0's rmse: 0.901159\n",
      "[172]\tvalid_0's rmse: 0.901104\n",
      "[173]\tvalid_0's rmse: 0.90102\n",
      "[174]\tvalid_0's rmse: 0.90096\n",
      "[175]\tvalid_0's rmse: 0.900938\n",
      "[176]\tvalid_0's rmse: 0.900871\n",
      "[177]\tvalid_0's rmse: 0.900769\n",
      "[178]\tvalid_0's rmse: 0.900747\n",
      "[179]\tvalid_0's rmse: 0.900709\n",
      "[180]\tvalid_0's rmse: 0.900638\n",
      "[181]\tvalid_0's rmse: 0.900581\n",
      "[182]\tvalid_0's rmse: 0.900548\n",
      "[183]\tvalid_0's rmse: 0.900524\n",
      "[184]\tvalid_0's rmse: 0.900448\n",
      "[185]\tvalid_0's rmse: 0.900429\n",
      "[186]\tvalid_0's rmse: 0.9004\n",
      "[187]\tvalid_0's rmse: 0.900398\n",
      "[188]\tvalid_0's rmse: 0.900338\n",
      "[189]\tvalid_0's rmse: 0.900274\n",
      "[190]\tvalid_0's rmse: 0.900218\n",
      "[191]\tvalid_0's rmse: 0.900143\n",
      "[192]\tvalid_0's rmse: 0.900114\n",
      "[193]\tvalid_0's rmse: 0.90007\n",
      "[194]\tvalid_0's rmse: 0.900054\n",
      "[195]\tvalid_0's rmse: 0.900035\n",
      "[196]\tvalid_0's rmse: 0.899998\n",
      "[197]\tvalid_0's rmse: 0.899948\n",
      "[198]\tvalid_0's rmse: 0.899914\n",
      "[199]\tvalid_0's rmse: 0.899834\n",
      "[200]\tvalid_0's rmse: 0.899785\n",
      "[201]\tvalid_0's rmse: 0.899774\n",
      "[202]\tvalid_0's rmse: 0.899715\n",
      "[203]\tvalid_0's rmse: 0.899679\n",
      "[204]\tvalid_0's rmse: 0.899668\n",
      "[205]\tvalid_0's rmse: 0.899595\n",
      "[206]\tvalid_0's rmse: 0.899583\n",
      "[207]\tvalid_0's rmse: 0.899574\n",
      "[208]\tvalid_0's rmse: 0.899529\n",
      "[209]\tvalid_0's rmse: 0.899529\n",
      "[210]\tvalid_0's rmse: 0.899501\n",
      "[211]\tvalid_0's rmse: 0.899485\n",
      "[212]\tvalid_0's rmse: 0.899461\n",
      "[213]\tvalid_0's rmse: 0.899451\n",
      "[214]\tvalid_0's rmse: 0.899396\n",
      "[215]\tvalid_0's rmse: 0.8994\n",
      "[216]\tvalid_0's rmse: 0.899342\n",
      "[217]\tvalid_0's rmse: 0.899335\n",
      "[218]\tvalid_0's rmse: 0.89933\n",
      "[219]\tvalid_0's rmse: 0.899317\n",
      "[220]\tvalid_0's rmse: 0.899293\n",
      "[221]\tvalid_0's rmse: 0.899293\n",
      "[222]\tvalid_0's rmse: 0.899271\n",
      "[223]\tvalid_0's rmse: 0.899227\n",
      "[224]\tvalid_0's rmse: 0.899217\n",
      "[225]\tvalid_0's rmse: 0.899202\n",
      "[226]\tvalid_0's rmse: 0.899172\n",
      "[227]\tvalid_0's rmse: 0.899127\n",
      "[228]\tvalid_0's rmse: 0.899118\n",
      "[229]\tvalid_0's rmse: 0.899087\n",
      "[230]\tvalid_0's rmse: 0.899074\n",
      "[231]\tvalid_0's rmse: 0.899077\n",
      "[232]\tvalid_0's rmse: 0.899071\n",
      "[233]\tvalid_0's rmse: 0.899027\n",
      "[234]\tvalid_0's rmse: 0.898993\n",
      "[235]\tvalid_0's rmse: 0.898988\n",
      "[236]\tvalid_0's rmse: 0.898976\n",
      "[237]\tvalid_0's rmse: 0.898969\n",
      "[238]\tvalid_0's rmse: 0.898968\n",
      "[239]\tvalid_0's rmse: 0.89888\n",
      "[240]\tvalid_0's rmse: 0.898813\n",
      "[241]\tvalid_0's rmse: 0.898756\n",
      "[242]\tvalid_0's rmse: 0.89874\n",
      "[243]\tvalid_0's rmse: 0.898696\n",
      "[244]\tvalid_0's rmse: 0.898695\n",
      "[245]\tvalid_0's rmse: 0.898693\n",
      "[246]\tvalid_0's rmse: 0.898665\n",
      "[247]\tvalid_0's rmse: 0.898649\n",
      "[248]\tvalid_0's rmse: 0.898562\n",
      "[249]\tvalid_0's rmse: 0.898526\n",
      "[250]\tvalid_0's rmse: 0.898491\n",
      "[251]\tvalid_0's rmse: 0.898439\n",
      "[252]\tvalid_0's rmse: 0.898413\n",
      "[253]\tvalid_0's rmse: 0.898402\n",
      "[254]\tvalid_0's rmse: 0.89837\n",
      "[255]\tvalid_0's rmse: 0.898335\n",
      "[256]\tvalid_0's rmse: 0.898331\n",
      "[257]\tvalid_0's rmse: 0.898278\n",
      "[258]\tvalid_0's rmse: 0.898276\n",
      "[259]\tvalid_0's rmse: 0.898268\n",
      "[260]\tvalid_0's rmse: 0.898238\n",
      "[261]\tvalid_0's rmse: 0.898231\n",
      "[262]\tvalid_0's rmse: 0.898219\n",
      "[263]\tvalid_0's rmse: 0.898216\n",
      "[264]\tvalid_0's rmse: 0.898194\n",
      "[265]\tvalid_0's rmse: 0.898136\n",
      "[266]\tvalid_0's rmse: 0.898129\n",
      "[267]\tvalid_0's rmse: 0.898091\n",
      "[268]\tvalid_0's rmse: 0.898071\n",
      "[269]\tvalid_0's rmse: 0.898075\n",
      "[270]\tvalid_0's rmse: 0.898074\n",
      "[271]\tvalid_0's rmse: 0.898043\n",
      "[272]\tvalid_0's rmse: 0.898019\n",
      "[273]\tvalid_0's rmse: 0.898012\n",
      "[274]\tvalid_0's rmse: 0.89801\n",
      "[275]\tvalid_0's rmse: 0.897991\n",
      "[276]\tvalid_0's rmse: 0.897901\n",
      "[277]\tvalid_0's rmse: 0.897888\n",
      "[278]\tvalid_0's rmse: 0.89788\n",
      "[279]\tvalid_0's rmse: 0.897864\n",
      "[280]\tvalid_0's rmse: 0.897836\n",
      "[281]\tvalid_0's rmse: 0.897823\n",
      "[282]\tvalid_0's rmse: 0.897821\n",
      "[283]\tvalid_0's rmse: 0.897809\n",
      "[284]\tvalid_0's rmse: 0.897783\n",
      "[285]\tvalid_0's rmse: 0.897753\n",
      "[286]\tvalid_0's rmse: 0.897735\n",
      "[287]\tvalid_0's rmse: 0.897716\n",
      "[288]\tvalid_0's rmse: 0.897693\n",
      "[289]\tvalid_0's rmse: 0.897678\n",
      "[290]\tvalid_0's rmse: 0.897647\n",
      "[291]\tvalid_0's rmse: 0.897643\n",
      "[292]\tvalid_0's rmse: 0.897596\n",
      "[293]\tvalid_0's rmse: 0.897586\n",
      "[294]\tvalid_0's rmse: 0.897577\n",
      "[295]\tvalid_0's rmse: 0.897558\n",
      "[296]\tvalid_0's rmse: 0.897494\n",
      "[297]\tvalid_0's rmse: 0.89748\n",
      "[298]\tvalid_0's rmse: 0.89745\n",
      "[299]\tvalid_0's rmse: 0.897444\n",
      "[300]\tvalid_0's rmse: 0.897401\n",
      "[301]\tvalid_0's rmse: 0.897386\n",
      "[302]\tvalid_0's rmse: 0.897373\n",
      "[303]\tvalid_0's rmse: 0.89734\n",
      "[304]\tvalid_0's rmse: 0.897291\n",
      "[305]\tvalid_0's rmse: 0.897255\n",
      "[306]\tvalid_0's rmse: 0.897246\n",
      "[1]\tvalid_0's rmse: 0.917666\n",
      "[2]\tvalid_0's rmse: 0.916814\n",
      "[3]\tvalid_0's rmse: 0.916025\n",
      "[4]\tvalid_0's rmse: 0.915356\n",
      "[5]\tvalid_0's rmse: 0.914736\n",
      "[6]\tvalid_0's rmse: 0.914205\n",
      "[7]\tvalid_0's rmse: 0.913703\n",
      "[8]\tvalid_0's rmse: 0.913259\n",
      "[9]\tvalid_0's rmse: 0.912849\n",
      "[10]\tvalid_0's rmse: 0.912487\n",
      "[11]\tvalid_0's rmse: 0.912145\n",
      "[12]\tvalid_0's rmse: 0.911863\n",
      "[13]\tvalid_0's rmse: 0.911574\n",
      "[14]\tvalid_0's rmse: 0.911332\n",
      "[15]\tvalid_0's rmse: 0.911044\n",
      "[16]\tvalid_0's rmse: 0.910802\n",
      "[17]\tvalid_0's rmse: 0.910583\n",
      "[18]\tvalid_0's rmse: 0.910397\n",
      "[19]\tvalid_0's rmse: 0.91017\n",
      "[20]\tvalid_0's rmse: 0.909972\n",
      "[21]\tvalid_0's rmse: 0.909797\n",
      "[22]\tvalid_0's rmse: 0.909599\n",
      "[23]\tvalid_0's rmse: 0.909412\n",
      "[24]\tvalid_0's rmse: 0.909159\n",
      "[25]\tvalid_0's rmse: 0.908975\n",
      "[26]\tvalid_0's rmse: 0.908857\n",
      "[27]\tvalid_0's rmse: 0.90872\n",
      "[28]\tvalid_0's rmse: 0.908558\n",
      "[29]\tvalid_0's rmse: 0.90835\n",
      "[30]\tvalid_0's rmse: 0.908215\n",
      "[31]\tvalid_0's rmse: 0.908102\n",
      "[32]\tvalid_0's rmse: 0.907972\n",
      "[33]\tvalid_0's rmse: 0.907822\n",
      "[34]\tvalid_0's rmse: 0.907717\n",
      "[35]\tvalid_0's rmse: 0.907504\n",
      "[36]\tvalid_0's rmse: 0.907383\n",
      "[37]\tvalid_0's rmse: 0.907266\n",
      "[38]\tvalid_0's rmse: 0.907043\n",
      "[39]\tvalid_0's rmse: 0.906932\n",
      "[40]\tvalid_0's rmse: 0.906793\n",
      "[41]\tvalid_0's rmse: 0.90666\n",
      "[42]\tvalid_0's rmse: 0.90653\n",
      "[43]\tvalid_0's rmse: 0.906433\n",
      "[44]\tvalid_0's rmse: 0.906343\n",
      "[45]\tvalid_0's rmse: 0.906234\n",
      "[46]\tvalid_0's rmse: 0.906153\n",
      "[47]\tvalid_0's rmse: 0.906019\n",
      "[48]\tvalid_0's rmse: 0.905928\n",
      "[49]\tvalid_0's rmse: 0.905813\n",
      "[50]\tvalid_0's rmse: 0.905705\n",
      "[51]\tvalid_0's rmse: 0.905621\n",
      "[52]\tvalid_0's rmse: 0.905541\n",
      "[53]\tvalid_0's rmse: 0.905448\n",
      "[54]\tvalid_0's rmse: 0.90533\n",
      "[55]\tvalid_0's rmse: 0.905227\n",
      "[56]\tvalid_0's rmse: 0.905092\n",
      "[57]\tvalid_0's rmse: 0.904998\n",
      "[58]\tvalid_0's rmse: 0.904927\n",
      "[59]\tvalid_0's rmse: 0.904861\n",
      "[60]\tvalid_0's rmse: 0.904788\n",
      "[61]\tvalid_0's rmse: 0.904709\n",
      "[62]\tvalid_0's rmse: 0.904549\n",
      "[63]\tvalid_0's rmse: 0.904434\n",
      "[64]\tvalid_0's rmse: 0.904352\n",
      "[65]\tvalid_0's rmse: 0.904233\n",
      "[66]\tvalid_0's rmse: 0.904163\n",
      "[67]\tvalid_0's rmse: 0.904065\n",
      "[68]\tvalid_0's rmse: 0.90401\n",
      "[69]\tvalid_0's rmse: 0.903943\n",
      "[70]\tvalid_0's rmse: 0.903856\n",
      "[71]\tvalid_0's rmse: 0.903785\n",
      "[72]\tvalid_0's rmse: 0.903637\n",
      "[73]\tvalid_0's rmse: 0.903536\n",
      "[74]\tvalid_0's rmse: 0.903472\n",
      "[75]\tvalid_0's rmse: 0.903406\n",
      "[76]\tvalid_0's rmse: 0.903323\n",
      "[77]\tvalid_0's rmse: 0.903243\n",
      "[78]\tvalid_0's rmse: 0.903205\n",
      "[79]\tvalid_0's rmse: 0.903148\n",
      "[80]\tvalid_0's rmse: 0.903091\n",
      "[81]\tvalid_0's rmse: 0.902997\n",
      "[82]\tvalid_0's rmse: 0.90295\n",
      "[83]\tvalid_0's rmse: 0.902847\n",
      "[84]\tvalid_0's rmse: 0.902736\n",
      "[85]\tvalid_0's rmse: 0.902666\n",
      "[86]\tvalid_0's rmse: 0.902596\n",
      "[87]\tvalid_0's rmse: 0.902536\n",
      "[88]\tvalid_0's rmse: 0.902454\n",
      "[89]\tvalid_0's rmse: 0.902372\n",
      "[90]\tvalid_0's rmse: 0.90232\n",
      "[91]\tvalid_0's rmse: 0.902271\n",
      "[92]\tvalid_0's rmse: 0.902234\n",
      "[93]\tvalid_0's rmse: 0.902183\n",
      "[94]\tvalid_0's rmse: 0.902112\n",
      "[95]\tvalid_0's rmse: 0.90206\n",
      "[96]\tvalid_0's rmse: 0.901987\n",
      "[97]\tvalid_0's rmse: 0.901826\n",
      "[98]\tvalid_0's rmse: 0.901774\n",
      "[99]\tvalid_0's rmse: 0.901724\n",
      "[100]\tvalid_0's rmse: 0.901684\n",
      "[101]\tvalid_0's rmse: 0.901626\n",
      "[102]\tvalid_0's rmse: 0.901593\n",
      "[103]\tvalid_0's rmse: 0.901499\n",
      "[104]\tvalid_0's rmse: 0.901424\n",
      "[105]\tvalid_0's rmse: 0.901354\n",
      "[106]\tvalid_0's rmse: 0.901259\n",
      "[107]\tvalid_0's rmse: 0.901179\n",
      "[108]\tvalid_0's rmse: 0.901125\n",
      "[109]\tvalid_0's rmse: 0.901082\n",
      "[110]\tvalid_0's rmse: 0.901044\n",
      "[111]\tvalid_0's rmse: 0.900861\n",
      "[112]\tvalid_0's rmse: 0.900822\n",
      "[113]\tvalid_0's rmse: 0.900795\n",
      "[114]\tvalid_0's rmse: 0.900747\n",
      "[115]\tvalid_0's rmse: 0.900703\n",
      "[116]\tvalid_0's rmse: 0.900681\n",
      "[117]\tvalid_0's rmse: 0.900641\n",
      "[118]\tvalid_0's rmse: 0.900563\n",
      "[119]\tvalid_0's rmse: 0.900513\n",
      "[120]\tvalid_0's rmse: 0.900455\n",
      "[121]\tvalid_0's rmse: 0.900436\n",
      "[122]\tvalid_0's rmse: 0.900406\n",
      "[123]\tvalid_0's rmse: 0.900365\n",
      "[124]\tvalid_0's rmse: 0.900321\n",
      "[125]\tvalid_0's rmse: 0.900167\n",
      "[126]\tvalid_0's rmse: 0.900135\n",
      "[127]\tvalid_0's rmse: 0.900062\n",
      "[128]\tvalid_0's rmse: 0.899983\n",
      "[129]\tvalid_0's rmse: 0.899926\n",
      "[130]\tvalid_0's rmse: 0.899887\n",
      "[131]\tvalid_0's rmse: 0.899797\n",
      "[132]\tvalid_0's rmse: 0.899729\n",
      "[133]\tvalid_0's rmse: 0.899664\n",
      "[134]\tvalid_0's rmse: 0.899602\n",
      "[135]\tvalid_0's rmse: 0.899554\n",
      "[136]\tvalid_0's rmse: 0.899539\n",
      "[137]\tvalid_0's rmse: 0.899492\n",
      "[138]\tvalid_0's rmse: 0.899444\n",
      "[139]\tvalid_0's rmse: 0.899386\n",
      "[140]\tvalid_0's rmse: 0.899332\n",
      "[141]\tvalid_0's rmse: 0.899269\n",
      "[142]\tvalid_0's rmse: 0.899226\n",
      "[143]\tvalid_0's rmse: 0.899203\n",
      "[144]\tvalid_0's rmse: 0.899141\n",
      "[145]\tvalid_0's rmse: 0.899101\n",
      "[146]\tvalid_0's rmse: 0.899044\n",
      "[147]\tvalid_0's rmse: 0.898977\n",
      "[148]\tvalid_0's rmse: 0.898937\n",
      "[149]\tvalid_0's rmse: 0.898906\n",
      "[150]\tvalid_0's rmse: 0.898843\n",
      "[151]\tvalid_0's rmse: 0.898749\n",
      "[152]\tvalid_0's rmse: 0.898729\n",
      "[153]\tvalid_0's rmse: 0.898688\n",
      "[154]\tvalid_0's rmse: 0.898664\n",
      "[155]\tvalid_0's rmse: 0.898642\n",
      "[156]\tvalid_0's rmse: 0.898598\n",
      "[157]\tvalid_0's rmse: 0.898568\n",
      "[158]\tvalid_0's rmse: 0.898519\n",
      "[159]\tvalid_0's rmse: 0.898443\n",
      "[160]\tvalid_0's rmse: 0.898438\n",
      "[161]\tvalid_0's rmse: 0.89839\n",
      "[162]\tvalid_0's rmse: 0.898375\n",
      "[163]\tvalid_0's rmse: 0.898329\n",
      "[164]\tvalid_0's rmse: 0.898313\n",
      "[165]\tvalid_0's rmse: 0.89828\n",
      "[166]\tvalid_0's rmse: 0.898217\n",
      "[167]\tvalid_0's rmse: 0.898204\n",
      "[168]\tvalid_0's rmse: 0.898188\n",
      "[169]\tvalid_0's rmse: 0.898125\n",
      "[170]\tvalid_0's rmse: 0.898105\n",
      "[171]\tvalid_0's rmse: 0.89808\n",
      "[172]\tvalid_0's rmse: 0.898005\n",
      "[173]\tvalid_0's rmse: 0.897975\n",
      "[174]\tvalid_0's rmse: 0.897933\n",
      "[175]\tvalid_0's rmse: 0.89789\n",
      "[176]\tvalid_0's rmse: 0.897816\n",
      "[177]\tvalid_0's rmse: 0.897797\n",
      "[178]\tvalid_0's rmse: 0.89779\n",
      "[179]\tvalid_0's rmse: 0.897774\n",
      "[180]\tvalid_0's rmse: 0.897726\n",
      "[181]\tvalid_0's rmse: 0.897687\n",
      "[182]\tvalid_0's rmse: 0.897684\n",
      "[183]\tvalid_0's rmse: 0.897652\n",
      "[184]\tvalid_0's rmse: 0.897591\n",
      "[185]\tvalid_0's rmse: 0.897486\n",
      "[186]\tvalid_0's rmse: 0.89747\n",
      "[187]\tvalid_0's rmse: 0.897442\n",
      "[188]\tvalid_0's rmse: 0.897346\n",
      "[189]\tvalid_0's rmse: 0.897273\n",
      "[190]\tvalid_0's rmse: 0.897246\n",
      "[191]\tvalid_0's rmse: 0.897208\n",
      "[192]\tvalid_0's rmse: 0.897183\n",
      "[193]\tvalid_0's rmse: 0.897169\n",
      "[194]\tvalid_0's rmse: 0.897153\n",
      "[195]\tvalid_0's rmse: 0.897152\n",
      "[196]\tvalid_0's rmse: 0.89715\n",
      "[197]\tvalid_0's rmse: 0.897131\n",
      "[198]\tvalid_0's rmse: 0.897089\n",
      "[199]\tvalid_0's rmse: 0.897073\n",
      "[200]\tvalid_0's rmse: 0.897057\n",
      "[201]\tvalid_0's rmse: 0.896965\n",
      "[202]\tvalid_0's rmse: 0.896922\n",
      "[203]\tvalid_0's rmse: 0.896904\n",
      "[204]\tvalid_0's rmse: 0.896895\n",
      "[205]\tvalid_0's rmse: 0.896846\n",
      "[206]\tvalid_0's rmse: 0.896793\n",
      "[207]\tvalid_0's rmse: 0.896764\n",
      "[208]\tvalid_0's rmse: 0.896738\n",
      "[209]\tvalid_0's rmse: 0.896706\n",
      "[210]\tvalid_0's rmse: 0.89662\n",
      "[211]\tvalid_0's rmse: 0.896587\n",
      "[212]\tvalid_0's rmse: 0.896555\n",
      "[213]\tvalid_0's rmse: 0.896513\n",
      "[214]\tvalid_0's rmse: 0.896492\n",
      "[215]\tvalid_0's rmse: 0.896448\n",
      "[216]\tvalid_0's rmse: 0.896421\n",
      "[217]\tvalid_0's rmse: 0.896396\n",
      "[218]\tvalid_0's rmse: 0.896366\n",
      "[219]\tvalid_0's rmse: 0.896338\n",
      "[220]\tvalid_0's rmse: 0.896335\n",
      "[221]\tvalid_0's rmse: 0.896326\n",
      "[222]\tvalid_0's rmse: 0.896292\n",
      "[223]\tvalid_0's rmse: 0.896288\n",
      "[224]\tvalid_0's rmse: 0.896277\n",
      "[225]\tvalid_0's rmse: 0.896264\n",
      "[226]\tvalid_0's rmse: 0.896232\n",
      "[227]\tvalid_0's rmse: 0.896219\n",
      "[228]\tvalid_0's rmse: 0.896223\n",
      "[229]\tvalid_0's rmse: 0.896218\n",
      "[230]\tvalid_0's rmse: 0.89621\n",
      "[231]\tvalid_0's rmse: 0.896175\n",
      "[232]\tvalid_0's rmse: 0.896135\n",
      "[233]\tvalid_0's rmse: 0.896124\n",
      "[234]\tvalid_0's rmse: 0.896113\n",
      "[235]\tvalid_0's rmse: 0.896113\n",
      "[236]\tvalid_0's rmse: 0.896064\n",
      "[237]\tvalid_0's rmse: 0.896011\n",
      "[238]\tvalid_0's rmse: 0.895988\n",
      "[239]\tvalid_0's rmse: 0.895962\n",
      "[240]\tvalid_0's rmse: 0.895951\n",
      "[241]\tvalid_0's rmse: 0.895921\n",
      "[242]\tvalid_0's rmse: 0.895915\n",
      "[243]\tvalid_0's rmse: 0.895893\n",
      "[244]\tvalid_0's rmse: 0.895901\n",
      "[245]\tvalid_0's rmse: 0.895858\n",
      "[246]\tvalid_0's rmse: 0.895841\n",
      "[247]\tvalid_0's rmse: 0.89582\n",
      "[248]\tvalid_0's rmse: 0.895797\n",
      "[249]\tvalid_0's rmse: 0.895761\n",
      "[250]\tvalid_0's rmse: 0.895738\n",
      "[251]\tvalid_0's rmse: 0.895728\n",
      "[252]\tvalid_0's rmse: 0.895719\n",
      "[253]\tvalid_0's rmse: 0.895658\n",
      "[254]\tvalid_0's rmse: 0.895592\n",
      "[255]\tvalid_0's rmse: 0.895573\n",
      "[256]\tvalid_0's rmse: 0.895544\n",
      "[257]\tvalid_0's rmse: 0.895539\n",
      "[258]\tvalid_0's rmse: 0.895511\n",
      "[259]\tvalid_0's rmse: 0.895473\n",
      "[260]\tvalid_0's rmse: 0.895456\n",
      "[261]\tvalid_0's rmse: 0.895434\n",
      "[262]\tvalid_0's rmse: 0.895417\n",
      "[263]\tvalid_0's rmse: 0.895412\n",
      "[264]\tvalid_0's rmse: 0.895404\n",
      "[265]\tvalid_0's rmse: 0.895371\n",
      "[266]\tvalid_0's rmse: 0.895367\n",
      "[267]\tvalid_0's rmse: 0.895348\n",
      "[268]\tvalid_0's rmse: 0.895319\n",
      "[269]\tvalid_0's rmse: 0.895318\n",
      "[270]\tvalid_0's rmse: 0.895318\n",
      "[271]\tvalid_0's rmse: 0.895315\n",
      "[272]\tvalid_0's rmse: 0.895271\n",
      "[273]\tvalid_0's rmse: 0.89527\n",
      "[274]\tvalid_0's rmse: 0.895238\n",
      "[275]\tvalid_0's rmse: 0.895223\n",
      "[276]\tvalid_0's rmse: 0.895164\n",
      "[277]\tvalid_0's rmse: 0.895145\n",
      "[278]\tvalid_0's rmse: 0.895118\n",
      "[279]\tvalid_0's rmse: 0.895112\n",
      "[280]\tvalid_0's rmse: 0.89511\n",
      "[281]\tvalid_0's rmse: 0.895081\n",
      "[282]\tvalid_0's rmse: 0.895063\n",
      "[283]\tvalid_0's rmse: 0.895048\n",
      "[284]\tvalid_0's rmse: 0.895025\n",
      "[285]\tvalid_0's rmse: 0.894998\n",
      "[286]\tvalid_0's rmse: 0.894982\n",
      "[287]\tvalid_0's rmse: 0.894972\n",
      "[288]\tvalid_0's rmse: 0.894972\n",
      "[289]\tvalid_0's rmse: 0.894931\n",
      "[290]\tvalid_0's rmse: 0.894911\n",
      "[291]\tvalid_0's rmse: 0.894874\n",
      "[292]\tvalid_0's rmse: 0.894857\n",
      "[293]\tvalid_0's rmse: 0.894809\n",
      "[294]\tvalid_0's rmse: 0.894798\n",
      "[295]\tvalid_0's rmse: 0.894779\n",
      "[296]\tvalid_0's rmse: 0.894762\n",
      "[297]\tvalid_0's rmse: 0.894746\n",
      "[298]\tvalid_0's rmse: 0.89471\n",
      "[299]\tvalid_0's rmse: 0.894715\n",
      "[300]\tvalid_0's rmse: 0.894691\n",
      "[301]\tvalid_0's rmse: 0.89467\n",
      "[302]\tvalid_0's rmse: 0.89467\n",
      "[303]\tvalid_0's rmse: 0.894665\n",
      "[304]\tvalid_0's rmse: 0.894647\n",
      "[305]\tvalid_0's rmse: 0.894614\n",
      "[306]\tvalid_0's rmse: 0.894583\n",
      "[1]\tvalid_0's rmse: 0.917521\n",
      "[2]\tvalid_0's rmse: 0.91664\n",
      "[3]\tvalid_0's rmse: 0.915891\n",
      "[4]\tvalid_0's rmse: 0.91525\n",
      "[5]\tvalid_0's rmse: 0.914653\n",
      "[6]\tvalid_0's rmse: 0.914126\n",
      "[7]\tvalid_0's rmse: 0.913649\n",
      "[8]\tvalid_0's rmse: 0.91321\n",
      "[9]\tvalid_0's rmse: 0.912832\n",
      "[10]\tvalid_0's rmse: 0.912463\n",
      "[11]\tvalid_0's rmse: 0.912094\n",
      "[12]\tvalid_0's rmse: 0.911787\n",
      "[13]\tvalid_0's rmse: 0.91154\n",
      "[14]\tvalid_0's rmse: 0.911278\n",
      "[15]\tvalid_0's rmse: 0.911036\n",
      "[16]\tvalid_0's rmse: 0.910816\n",
      "[17]\tvalid_0's rmse: 0.91062\n",
      "[18]\tvalid_0's rmse: 0.910385\n",
      "[19]\tvalid_0's rmse: 0.910162\n",
      "[20]\tvalid_0's rmse: 0.909919\n",
      "[21]\tvalid_0's rmse: 0.90973\n",
      "[22]\tvalid_0's rmse: 0.909543\n",
      "[23]\tvalid_0's rmse: 0.90932\n",
      "[24]\tvalid_0's rmse: 0.909163\n",
      "[25]\tvalid_0's rmse: 0.908987\n",
      "[26]\tvalid_0's rmse: 0.908871\n",
      "[27]\tvalid_0's rmse: 0.908743\n",
      "[28]\tvalid_0's rmse: 0.908521\n",
      "[29]\tvalid_0's rmse: 0.908337\n",
      "[30]\tvalid_0's rmse: 0.908209\n",
      "[31]\tvalid_0's rmse: 0.908042\n",
      "[32]\tvalid_0's rmse: 0.907855\n",
      "[33]\tvalid_0's rmse: 0.907717\n",
      "[34]\tvalid_0's rmse: 0.90758\n",
      "[35]\tvalid_0's rmse: 0.907447\n",
      "[36]\tvalid_0's rmse: 0.907258\n",
      "[37]\tvalid_0's rmse: 0.907141\n",
      "[38]\tvalid_0's rmse: 0.907034\n",
      "[39]\tvalid_0's rmse: 0.906957\n",
      "[40]\tvalid_0's rmse: 0.906811\n",
      "[41]\tvalid_0's rmse: 0.906692\n",
      "[42]\tvalid_0's rmse: 0.90657\n",
      "[43]\tvalid_0's rmse: 0.906409\n",
      "[44]\tvalid_0's rmse: 0.906306\n",
      "[45]\tvalid_0's rmse: 0.906224\n",
      "[46]\tvalid_0's rmse: 0.906159\n",
      "[47]\tvalid_0's rmse: 0.906048\n",
      "[48]\tvalid_0's rmse: 0.905918\n",
      "[49]\tvalid_0's rmse: 0.905798\n",
      "[50]\tvalid_0's rmse: 0.90566\n",
      "[51]\tvalid_0's rmse: 0.905556\n",
      "[52]\tvalid_0's rmse: 0.905493\n",
      "[53]\tvalid_0's rmse: 0.905416\n",
      "[54]\tvalid_0's rmse: 0.905346\n",
      "[55]\tvalid_0's rmse: 0.905242\n",
      "[56]\tvalid_0's rmse: 0.905171\n",
      "[57]\tvalid_0's rmse: 0.905041\n",
      "[58]\tvalid_0's rmse: 0.904958\n",
      "[59]\tvalid_0's rmse: 0.904893\n",
      "[60]\tvalid_0's rmse: 0.904824\n",
      "[61]\tvalid_0's rmse: 0.904685\n",
      "[62]\tvalid_0's rmse: 0.904598\n",
      "[63]\tvalid_0's rmse: 0.904511\n",
      "[64]\tvalid_0's rmse: 0.904424\n",
      "[65]\tvalid_0's rmse: 0.904335\n",
      "[66]\tvalid_0's rmse: 0.90417\n",
      "[67]\tvalid_0's rmse: 0.904089\n",
      "[68]\tvalid_0's rmse: 0.904015\n",
      "[69]\tvalid_0's rmse: 0.903906\n",
      "[70]\tvalid_0's rmse: 0.903812\n",
      "[71]\tvalid_0's rmse: 0.903746\n",
      "[72]\tvalid_0's rmse: 0.903673\n",
      "[73]\tvalid_0's rmse: 0.903555\n",
      "[74]\tvalid_0's rmse: 0.903483\n",
      "[75]\tvalid_0's rmse: 0.903356\n",
      "[76]\tvalid_0's rmse: 0.903295\n",
      "[77]\tvalid_0's rmse: 0.903214\n",
      "[78]\tvalid_0's rmse: 0.903174\n",
      "[79]\tvalid_0's rmse: 0.903131\n",
      "[80]\tvalid_0's rmse: 0.903053\n",
      "[81]\tvalid_0's rmse: 0.902989\n",
      "[82]\tvalid_0's rmse: 0.902883\n",
      "[83]\tvalid_0's rmse: 0.902826\n",
      "[84]\tvalid_0's rmse: 0.902729\n",
      "[85]\tvalid_0's rmse: 0.90266\n",
      "[86]\tvalid_0's rmse: 0.90259\n",
      "[87]\tvalid_0's rmse: 0.902536\n",
      "[88]\tvalid_0's rmse: 0.902469\n",
      "[89]\tvalid_0's rmse: 0.902412\n",
      "[90]\tvalid_0's rmse: 0.902329\n",
      "[91]\tvalid_0's rmse: 0.902236\n",
      "[92]\tvalid_0's rmse: 0.902126\n",
      "[93]\tvalid_0's rmse: 0.902043\n",
      "[94]\tvalid_0's rmse: 0.901938\n",
      "[95]\tvalid_0's rmse: 0.901899\n",
      "[96]\tvalid_0's rmse: 0.90187\n",
      "[97]\tvalid_0's rmse: 0.901757\n",
      "[98]\tvalid_0's rmse: 0.901715\n",
      "[99]\tvalid_0's rmse: 0.901611\n",
      "[100]\tvalid_0's rmse: 0.901577\n",
      "[101]\tvalid_0's rmse: 0.901442\n",
      "[102]\tvalid_0's rmse: 0.901402\n",
      "[103]\tvalid_0's rmse: 0.901343\n",
      "[104]\tvalid_0's rmse: 0.901286\n",
      "[105]\tvalid_0's rmse: 0.90122\n",
      "[106]\tvalid_0's rmse: 0.901183\n",
      "[107]\tvalid_0's rmse: 0.901111\n",
      "[108]\tvalid_0's rmse: 0.901041\n",
      "[109]\tvalid_0's rmse: 0.900981\n",
      "[110]\tvalid_0's rmse: 0.900937\n",
      "[111]\tvalid_0's rmse: 0.900896\n",
      "[112]\tvalid_0's rmse: 0.900828\n",
      "[113]\tvalid_0's rmse: 0.900761\n",
      "[114]\tvalid_0's rmse: 0.900616\n",
      "[115]\tvalid_0's rmse: 0.90058\n",
      "[116]\tvalid_0's rmse: 0.900529\n",
      "[117]\tvalid_0's rmse: 0.900466\n",
      "[118]\tvalid_0's rmse: 0.900409\n",
      "[119]\tvalid_0's rmse: 0.900361\n",
      "[120]\tvalid_0's rmse: 0.900269\n",
      "[121]\tvalid_0's rmse: 0.900197\n",
      "[122]\tvalid_0's rmse: 0.900131\n",
      "[123]\tvalid_0's rmse: 0.900003\n",
      "[124]\tvalid_0's rmse: 0.899932\n",
      "[125]\tvalid_0's rmse: 0.899887\n",
      "[126]\tvalid_0's rmse: 0.899843\n",
      "[127]\tvalid_0's rmse: 0.899742\n",
      "[128]\tvalid_0's rmse: 0.899661\n",
      "[129]\tvalid_0's rmse: 0.899579\n",
      "[130]\tvalid_0's rmse: 0.89955\n",
      "[131]\tvalid_0's rmse: 0.899516\n",
      "[132]\tvalid_0's rmse: 0.899477\n",
      "[133]\tvalid_0's rmse: 0.89942\n",
      "[134]\tvalid_0's rmse: 0.89932\n",
      "[135]\tvalid_0's rmse: 0.899252\n",
      "[136]\tvalid_0's rmse: 0.899182\n",
      "[137]\tvalid_0's rmse: 0.899085\n",
      "[138]\tvalid_0's rmse: 0.899008\n",
      "[139]\tvalid_0's rmse: 0.89892\n",
      "[140]\tvalid_0's rmse: 0.898853\n",
      "[141]\tvalid_0's rmse: 0.898831\n",
      "[142]\tvalid_0's rmse: 0.898732\n",
      "[143]\tvalid_0's rmse: 0.898617\n",
      "[144]\tvalid_0's rmse: 0.898575\n",
      "[145]\tvalid_0's rmse: 0.898535\n",
      "[146]\tvalid_0's rmse: 0.898516\n",
      "[147]\tvalid_0's rmse: 0.898459\n",
      "[148]\tvalid_0's rmse: 0.898445\n",
      "[149]\tvalid_0's rmse: 0.898378\n",
      "[150]\tvalid_0's rmse: 0.898358\n",
      "[151]\tvalid_0's rmse: 0.898298\n",
      "[152]\tvalid_0's rmse: 0.898273\n",
      "[153]\tvalid_0's rmse: 0.898245\n",
      "[154]\tvalid_0's rmse: 0.898217\n",
      "[155]\tvalid_0's rmse: 0.898203\n",
      "[156]\tvalid_0's rmse: 0.898187\n",
      "[157]\tvalid_0's rmse: 0.898153\n",
      "[158]\tvalid_0's rmse: 0.898119\n",
      "[159]\tvalid_0's rmse: 0.898083\n",
      "[160]\tvalid_0's rmse: 0.898066\n",
      "[161]\tvalid_0's rmse: 0.898036\n",
      "[162]\tvalid_0's rmse: 0.898009\n",
      "[163]\tvalid_0's rmse: 0.897992\n",
      "[164]\tvalid_0's rmse: 0.897931\n",
      "[165]\tvalid_0's rmse: 0.89792\n",
      "[166]\tvalid_0's rmse: 0.897915\n",
      "[167]\tvalid_0's rmse: 0.897858\n",
      "[168]\tvalid_0's rmse: 0.897786\n",
      "[169]\tvalid_0's rmse: 0.897748\n",
      "[170]\tvalid_0's rmse: 0.897683\n",
      "[171]\tvalid_0's rmse: 0.897645\n",
      "[172]\tvalid_0's rmse: 0.89762\n",
      "[173]\tvalid_0's rmse: 0.89755\n",
      "[174]\tvalid_0's rmse: 0.897446\n",
      "[175]\tvalid_0's rmse: 0.897424\n",
      "[176]\tvalid_0's rmse: 0.897387\n",
      "[177]\tvalid_0's rmse: 0.897377\n",
      "[178]\tvalid_0's rmse: 0.897356\n",
      "[179]\tvalid_0's rmse: 0.89734\n",
      "[180]\tvalid_0's rmse: 0.897311\n",
      "[181]\tvalid_0's rmse: 0.89728\n",
      "[182]\tvalid_0's rmse: 0.89725\n",
      "[183]\tvalid_0's rmse: 0.897233\n",
      "[184]\tvalid_0's rmse: 0.897176\n",
      "[185]\tvalid_0's rmse: 0.897143\n",
      "[186]\tvalid_0's rmse: 0.897116\n",
      "[187]\tvalid_0's rmse: 0.896956\n",
      "[188]\tvalid_0's rmse: 0.896944\n",
      "[189]\tvalid_0's rmse: 0.896924\n",
      "[190]\tvalid_0's rmse: 0.896851\n",
      "[191]\tvalid_0's rmse: 0.896814\n",
      "[192]\tvalid_0's rmse: 0.896789\n",
      "[193]\tvalid_0's rmse: 0.896775\n",
      "[194]\tvalid_0's rmse: 0.896756\n",
      "[195]\tvalid_0's rmse: 0.896662\n",
      "[196]\tvalid_0's rmse: 0.896651\n",
      "[197]\tvalid_0's rmse: 0.896611\n",
      "[198]\tvalid_0's rmse: 0.896608\n",
      "[199]\tvalid_0's rmse: 0.896586\n",
      "[200]\tvalid_0's rmse: 0.896582\n",
      "[201]\tvalid_0's rmse: 0.896527\n",
      "[202]\tvalid_0's rmse: 0.89649\n",
      "[203]\tvalid_0's rmse: 0.896462\n",
      "[204]\tvalid_0's rmse: 0.896438\n",
      "[205]\tvalid_0's rmse: 0.896402\n",
      "[206]\tvalid_0's rmse: 0.896369\n",
      "[207]\tvalid_0's rmse: 0.896302\n",
      "[208]\tvalid_0's rmse: 0.896288\n",
      "[209]\tvalid_0's rmse: 0.896244\n",
      "[210]\tvalid_0's rmse: 0.896239\n",
      "[211]\tvalid_0's rmse: 0.896168\n",
      "[212]\tvalid_0's rmse: 0.896071\n",
      "[213]\tvalid_0's rmse: 0.896029\n",
      "[214]\tvalid_0's rmse: 0.895958\n",
      "[215]\tvalid_0's rmse: 0.895951\n",
      "[216]\tvalid_0's rmse: 0.895932\n",
      "[217]\tvalid_0's rmse: 0.895881\n",
      "[218]\tvalid_0's rmse: 0.89587\n",
      "[219]\tvalid_0's rmse: 0.895858\n",
      "[220]\tvalid_0's rmse: 0.895846\n",
      "[221]\tvalid_0's rmse: 0.895813\n",
      "[222]\tvalid_0's rmse: 0.895741\n",
      "[223]\tvalid_0's rmse: 0.895727\n",
      "[224]\tvalid_0's rmse: 0.895729\n",
      "[225]\tvalid_0's rmse: 0.895714\n",
      "[226]\tvalid_0's rmse: 0.895687\n",
      "[227]\tvalid_0's rmse: 0.895681\n",
      "[228]\tvalid_0's rmse: 0.895656\n",
      "[229]\tvalid_0's rmse: 0.895599\n",
      "[230]\tvalid_0's rmse: 0.895602\n",
      "[231]\tvalid_0's rmse: 0.895597\n",
      "[232]\tvalid_0's rmse: 0.895583\n",
      "[233]\tvalid_0's rmse: 0.895542\n",
      "[234]\tvalid_0's rmse: 0.895509\n",
      "[235]\tvalid_0's rmse: 0.895454\n",
      "[236]\tvalid_0's rmse: 0.89543\n",
      "[237]\tvalid_0's rmse: 0.895394\n",
      "[238]\tvalid_0's rmse: 0.895397\n",
      "[239]\tvalid_0's rmse: 0.895388\n",
      "[240]\tvalid_0's rmse: 0.895377\n",
      "[241]\tvalid_0's rmse: 0.895359\n",
      "[242]\tvalid_0's rmse: 0.895341\n",
      "[243]\tvalid_0's rmse: 0.895331\n",
      "[244]\tvalid_0's rmse: 0.895327\n",
      "[245]\tvalid_0's rmse: 0.895313\n",
      "[246]\tvalid_0's rmse: 0.895275\n",
      "[247]\tvalid_0's rmse: 0.895189\n",
      "[248]\tvalid_0's rmse: 0.895178\n",
      "[249]\tvalid_0's rmse: 0.895175\n",
      "[250]\tvalid_0's rmse: 0.895172\n",
      "[251]\tvalid_0's rmse: 0.895175\n",
      "[252]\tvalid_0's rmse: 0.895112\n",
      "[253]\tvalid_0's rmse: 0.895092\n",
      "[254]\tvalid_0's rmse: 0.895016\n",
      "[255]\tvalid_0's rmse: 0.894918\n",
      "[256]\tvalid_0's rmse: 0.894903\n",
      "[257]\tvalid_0's rmse: 0.894898\n",
      "[258]\tvalid_0's rmse: 0.894877\n",
      "[259]\tvalid_0's rmse: 0.894873\n",
      "[260]\tvalid_0's rmse: 0.894861\n",
      "[261]\tvalid_0's rmse: 0.894833\n",
      "[262]\tvalid_0's rmse: 0.894815\n",
      "[263]\tvalid_0's rmse: 0.894803\n",
      "[264]\tvalid_0's rmse: 0.894792\n",
      "[265]\tvalid_0's rmse: 0.894767\n",
      "[266]\tvalid_0's rmse: 0.894761\n",
      "[267]\tvalid_0's rmse: 0.894742\n",
      "[268]\tvalid_0's rmse: 0.894744\n",
      "[269]\tvalid_0's rmse: 0.894709\n",
      "[270]\tvalid_0's rmse: 0.894672\n",
      "[271]\tvalid_0's rmse: 0.894656\n",
      "[272]\tvalid_0's rmse: 0.894646\n",
      "[273]\tvalid_0's rmse: 0.894633\n",
      "[274]\tvalid_0's rmse: 0.894626\n",
      "[275]\tvalid_0's rmse: 0.89459\n",
      "[276]\tvalid_0's rmse: 0.894547\n",
      "[277]\tvalid_0's rmse: 0.894524\n",
      "[278]\tvalid_0's rmse: 0.894487\n",
      "[279]\tvalid_0's rmse: 0.894465\n",
      "[280]\tvalid_0's rmse: 0.894447\n",
      "[281]\tvalid_0's rmse: 0.89439\n",
      "[282]\tvalid_0's rmse: 0.894371\n",
      "[283]\tvalid_0's rmse: 0.89436\n",
      "[284]\tvalid_0's rmse: 0.894346\n",
      "[285]\tvalid_0's rmse: 0.894334\n",
      "[286]\tvalid_0's rmse: 0.894312\n",
      "[287]\tvalid_0's rmse: 0.894267\n",
      "[288]\tvalid_0's rmse: 0.894265\n",
      "[289]\tvalid_0's rmse: 0.894271\n",
      "[290]\tvalid_0's rmse: 0.894252\n",
      "[291]\tvalid_0's rmse: 0.894251\n",
      "[292]\tvalid_0's rmse: 0.894212\n",
      "[293]\tvalid_0's rmse: 0.894209\n",
      "[294]\tvalid_0's rmse: 0.894204\n",
      "[295]\tvalid_0's rmse: 0.89418\n",
      "[296]\tvalid_0's rmse: 0.894167\n",
      "[297]\tvalid_0's rmse: 0.894154\n",
      "[298]\tvalid_0's rmse: 0.894126\n",
      "[299]\tvalid_0's rmse: 0.894117\n",
      "[300]\tvalid_0's rmse: 0.894107\n",
      "[301]\tvalid_0's rmse: 0.894108\n",
      "[302]\tvalid_0's rmse: 0.894093\n",
      "[303]\tvalid_0's rmse: 0.894088\n",
      "[304]\tvalid_0's rmse: 0.894083\n",
      "[305]\tvalid_0's rmse: 0.894053\n",
      "[306]\tvalid_0's rmse: 0.894027\n"
     ]
    },
    {
     "data": {
      "text/plain": [
       "0"
      ]
     },
     "execution_count": 13,
     "metadata": {},
     "output_type": "execute_result"
    }
   ],
   "source": [
    "seed = 0\n",
    "folds = 3\n",
    "models = []\n",
    "\n",
    "skf = StratifiedKFold(folds, shuffle = True, random_state = seed)\n",
    "\n",
    "for train_index, test_index in skf.split(train_df, train_df['investment_id']):\n",
    "    train = train_df.iloc[train_index]\n",
    "    valid = train_df.iloc[test_index]\n",
    "    \n",
    "    lgbm = LGBMRegressor(**params)\n",
    "    '''\n",
    "        num_leaves=2 ** np.random.randint(3, 8),\n",
    "        learning_rate = 10 ** (-np.random.uniform(0.1,2)),\n",
    "        n_estimators = 500,\n",
    "        min_child_samples = 1000, \n",
    "        subsample=np.random.uniform(0.5,1.0), \n",
    "        subsample_freq=1,\n",
    "        n_jobs= -1,\n",
    "        tree_method ='gpu_hist' ,\n",
    "    '''\n",
    "    \n",
    "    lgbm.fit(train[feature_cols], train['target'], eval_set = (valid[feature_cols], valid['target']))\n",
    "    models.append(lgbm)\n",
    "    gc.collect()\n",
    "gc.collect()"
   ]
  },
  {
   "cell_type": "markdown",
   "id": "187cbffd",
   "metadata": {
    "papermill": {
     "duration": 0.280223,
     "end_time": "2022-04-10T05:25:47.217830",
     "exception": false,
     "start_time": "2022-04-10T05:25:46.937607",
     "status": "completed"
    },
    "tags": []
   },
   "source": [
    "- 머신러닝을 통해 나온 결과로 feature 별 중요도 그래프"
   ]
  },
  {
   "cell_type": "code",
   "execution_count": 14,
   "id": "94fbf5c0",
   "metadata": {
    "execution": {
     "iopub.execute_input": "2022-04-10T05:25:47.780575Z",
     "iopub.status.busy": "2022-04-10T05:25:47.776517Z",
     "iopub.status.idle": "2022-04-10T05:25:52.855453Z",
     "shell.execute_reply": "2022-04-10T05:25:52.855936Z"
    },
    "papermill": {
     "duration": 5.359995,
     "end_time": "2022-04-10T05:25:52.856105",
     "exception": false,
     "start_time": "2022-04-10T05:25:47.496110",
     "status": "completed"
    },
    "tags": []
   },
   "outputs": [
    {
     "data": {
      "text/plain": [
       "260"
      ]
     },
     "execution_count": 14,
     "metadata": {},
     "output_type": "execute_result"
    },
    {
     "data": {
      "image/png": "[encoded data removed]",
      "text/plain": [
       "<Figure size 1440x4320 with 1 Axes>"
      ]
     },
     "metadata": {
      "needs_background": "light"
     },
     "output_type": "display_data"
    }
   ],
   "source": [
    "import lightgbm\n",
    "lightgbm.plot_importance(lgbm, figsize = (20, 60))\n",
    "gc.collect()"
   ]
  },
  {
   "cell_type": "markdown",
   "id": "f471d551",
   "metadata": {
    "papermill": {
     "duration": 0.288409,
     "end_time": "2022-04-10T05:25:53.430451",
     "exception": false,
     "start_time": "2022-04-10T05:25:53.142042",
     "status": "completed"
    },
    "tags": []
   },
   "source": [
    "# Step 6. 예측 및 제출"
   ]
  },
  {
   "cell_type": "markdown",
   "id": "6a009871",
   "metadata": {
    "papermill": {
     "duration": 0.285958,
     "end_time": "2022-04-10T05:25:54.001702",
     "exception": false,
     "start_time": "2022-04-10T05:25:53.715744",
     "status": "completed"
    },
    "tags": []
   },
   "source": [
    "- 주최측에서 제공하는 API를 통해 제출"
   ]
  },
  {
   "cell_type": "code",
   "execution_count": 15,
   "id": "5240e7ca",
   "metadata": {
    "execution": {
     "iopub.execute_input": "2022-04-10T05:25:54.675623Z",
     "iopub.status.busy": "2022-04-10T05:25:54.674834Z",
     "iopub.status.idle": "2022-04-10T05:25:54.701094Z",
     "shell.execute_reply": "2022-04-10T05:25:54.701558Z"
    },
    "papermill": {
     "duration": 0.357507,
     "end_time": "2022-04-10T05:25:54.701812",
     "exception": false,
     "start_time": "2022-04-10T05:25:54.344305",
     "status": "completed"
    },
    "tags": []
   },
   "outputs": [],
   "source": [
    "import ubiquant\n",
    "env = ubiquant.make_env()   # initialize the environment\n",
    "iter_test = env.iter_test()    # an iterator which loops over the test set and sample submission\n"
   ]
  },
  {
   "cell_type": "code",
   "execution_count": 16,
   "id": "c768cc8a",
   "metadata": {
    "execution": {
     "iopub.execute_input": "2022-04-10T05:25:55.315146Z",
     "iopub.status.busy": "2022-04-10T05:25:55.312419Z",
     "iopub.status.idle": "2022-04-10T05:25:55.451411Z",
     "shell.execute_reply": "2022-04-10T05:25:55.450868Z"
    },
    "papermill": {
     "duration": 0.438606,
     "end_time": "2022-04-10T05:25:55.451564",
     "exception": false,
     "start_time": "2022-04-10T05:25:55.012958",
     "status": "completed"
    },
    "tags": []
   },
   "outputs": [
    {
     "name": "stdout",
     "output_type": "stream",
     "text": [
      "This version of the API is not optimized and should not be used to estimate the runtime of your code on the hidden test set.\n"
     ]
    }
   ],
   "source": [
    "for (test_df, sample_prediction_df) in iter_test:\n",
    "    \n",
    "    test_df['target']  = 0\n",
    "    \n",
    "    for lgbm in models:\n",
    "        test_df['target'] += lgbm.predict(test_df[feature_cols])\n",
    "    test_df['target'] /= len(models)\n",
    "    env.predict(test_df[['row_id','target']])"
   ]
  },
  {
   "cell_type": "markdown",
   "id": "0a71949d",
   "metadata": {
    "papermill": {
     "duration": 0.293734,
     "end_time": "2022-04-10T05:25:56.048651",
     "exception": false,
     "start_time": "2022-04-10T05:25:55.754917",
     "status": "completed"
    },
    "tags": []
   },
   "source": [
    "# References :    \n",
    "https://www.kaggle.com/code/yoshikuwano/fast-read-data-and-memory-optimization/notebook   \n",
    "https://www.kaggle.com/code/rohanrao/tutorial-on-reading-large-datasets/notebook#Format:-csv   \n",
    "https://www.kaggle.com/code/sytuannguyen/ubiquant-data-preparation#3.-Save-the-reduced-dataframe   \n",
    "https://www.kaggle.com/code/jnegrini/ubiquant-eda    \n",
    "https://www.kaggle.com/code/gunesevitan/ubiquant-market-prediction-eda/notebook#3.-Target   \n",
    "https://www.kaggle.com/code/ilialar/ubiquant-eda-and-baseline#Features    \n",
    "https://www.kaggle.com/competitions/ubiquant-market-prediction/data    \n",
    "https://www.kaggle.com/code/larochemf/ubiquant-low-memory-use-be-careful/notebook    \n",
    "https://www.kaggle.com/code/robikscube/fast-data-loading-and-low-mem-with-parquet-files/notebook    \n",
    "https://www.kaggle.com/code/lucamassaron/eda-target-analysis       \n",
    "https://www.kaggle.com/code/edwardcrookenden/eda-and-lgbm-baseline-feature-imp    \n",
    "https://www.kaggle.com/competitions/ubiquant-market-prediction/discussion/305031    \n",
    "https://www.kaggle.com/code/junjitakeshima/ubiquant-simple-lgbm-removing-outliers-en-jp/notebook#(1)-Read-Trainiing-Data    \n",
    "https://www.kaggle.com/code/valleyzw/ubiquant-lgbm-baseline/notebook#Stock-market-calendar-analysis:-discussion     \n",
    "https://www.kaggle.com/code/sytuannguyen/ubiquant-with-lightgbm   \n",
    "https://www.kaggle.com/code/jiprud/simple-light-gbm   \n",
    "https://www.kaggle.com/code/ilialar/ubiquant-eda-and-baseline#Model-training"
   ]
  }
 ],
 "metadata": {
  "kernelspec": {
   "display_name": "Python 3",
   "language": "python",
   "name": "python3"
  },
  "language_info": {
   "codemirror_mode": {
    "name": "ipython",
    "version": 3
   },
   "file_extension": ".py",
   "mimetype": "text/x-python",
   "name": "python",
   "nbconvert_exporter": "python",
   "pygments_lexer": "ipython3",
   "version": "3.7.12"
  },
  "papermill": {
   "default_parameters": {},
   "duration": 1547.035479,
   "end_time": "2022-04-10T05:25:57.953827",
   "environment_variables": {},
   "exception": null,
   "input_path": "__notebook__.ipynb",
   "output_path": "__notebook__.ipynb",
   "parameters": {},
   "start_time": "2022-04-10T05:00:10.918348",
   "version": "2.3.3"
  }
 },
 "nbformat": 4,
 "nbformat_minor": 5
}
