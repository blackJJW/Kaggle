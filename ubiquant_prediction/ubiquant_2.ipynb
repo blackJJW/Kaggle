{
 "cells": [
  {
   "cell_type": "markdown",
   "id": "428c1c46",
   "metadata": {
    "papermill": {
     "duration": 0.034087,
     "end_time": "2022-04-11T02:53:48.190210",
     "exception": false,
     "start_time": "2022-04-11T02:53:48.156123",
     "status": "completed"
    },
    "tags": []
   },
   "source": [
    "# 프로젝트 개요\n",
    "- 강의명 : 2022년 K-디지털 직업훈련(Training) 사업 - AI데이터플랫폼을 활용한 빅데이터 분석전문가 과정\n",
    "- 교과목명 : 빅데이터 분석 및 시각화, AI개발 기초, 인공지능 프로그래밍\n",
    "- 프로젝트 주제 : Ubiquant Market 데이터를 활용한 미래 시장 예측\n",
    "- 프로젝트 마감일 : 2022년 4월 12일 화요일\n",
    "- 강사명 : 정지훈 강사\n",
    "- 수강생명 : 정진우"
   ]
  },
  {
   "cell_type": "markdown",
   "id": "6a45b408",
   "metadata": {
    "papermill": {
     "duration": 0.032602,
     "end_time": "2022-04-11T02:53:48.257441",
     "exception": false,
     "start_time": "2022-04-11T02:53:48.224839",
     "status": "completed"
    },
    "tags": []
   },
   "source": [
    "## < Score Improvement History >\n",
    "|#|> std * x|k-fold|score|\n",
    "|:-:|:-:|:-:|:-:|\n",
    "|1|> std * 70|3|0.1388|\n",
    "|2|> std * 60|3|0.1387|\n",
    "|3|> std * 50|3|0.1378|\n",
    "|4|> std * 40|3|0.1366|\n",
    "|5|> std * 30|3|0.1368|\n",
    "|6|> std * 80|3|0.1381|\n",
    "|7|> std * 90|3|0.1375|\n",
    "|8|> std * 70|5|0.1387|"
   ]
  },
  {
   "cell_type": "markdown",
   "id": "2e073ea1",
   "metadata": {
    "papermill": {
     "duration": 0.032364,
     "end_time": "2022-04-11T02:53:48.322698",
     "exception": false,
     "start_time": "2022-04-11T02:53:48.290334",
     "status": "completed"
    },
    "tags": []
   },
   "source": [
    "# Step 1 ~ 3 :    \n",
    "https://www.kaggle.com/code/blackjjw/ubiquant-eda\n",
    "## dataset :   \n",
    "https://www.kaggle.com/datasets/blackjjw/ubiquant-train-df-low-memory-pkl"
   ]
  },
  {
   "cell_type": "markdown",
   "id": "737e6031",
   "metadata": {
    "papermill": {
     "duration": 0.032464,
     "end_time": "2022-04-11T02:53:48.388139",
     "exception": false,
     "start_time": "2022-04-11T02:53:48.355675",
     "status": "completed"
    },
    "tags": []
   },
   "source": [
    "# 라이브러리 불러오기"
   ]
  },
  {
   "cell_type": "code",
   "execution_count": 1,
   "id": "b08b43cf",
   "metadata": {
    "_cell_guid": "b1076dfc-b9ad-4769-8c92-a6c4dae69d19",
    "_uuid": "8f2839f25d086af736a60e9eeb907d3b93b6e0e5",
    "execution": {
     "iopub.execute_input": "2022-04-11T02:53:48.460077Z",
     "iopub.status.busy": "2022-04-11T02:53:48.458293Z",
     "iopub.status.idle": "2022-04-11T02:53:50.846965Z",
     "shell.execute_reply": "2022-04-11T02:53:50.847487Z",
     "shell.execute_reply.started": "2022-04-11T02:45:20.786810Z"
    },
    "papermill": {
     "duration": 2.426964,
     "end_time": "2022-04-11T02:53:50.847800",
     "exception": false,
     "start_time": "2022-04-11T02:53:48.420836",
     "status": "completed"
    },
    "tags": []
   },
   "outputs": [
    {
     "data": {
      "text/html": [
       "<style type='text/css'>\n",
       ".datatable table.frame { margin-bottom: 0; }\n",
       ".datatable table.frame thead { border-bottom: none; }\n",
       ".datatable table.frame tr.coltypes td {  color: #FFFFFF;  line-height: 6px;  padding: 0 0.5em;}\n",
       ".datatable .bool    { background: #DDDD99; }\n",
       ".datatable .object  { background: #565656; }\n",
       ".datatable .int     { background: #5D9E5D; }\n",
       ".datatable .float   { background: #4040CC; }\n",
       ".datatable .str     { background: #CC4040; }\n",
       ".datatable .time    { background: #40CC40; }\n",
       ".datatable .row_index {  background: var(--jp-border-color3);  border-right: 1px solid var(--jp-border-color0);  color: var(--jp-ui-font-color3);  font-size: 9px;}\n",
       ".datatable .frame tbody td { text-align: left; }\n",
       ".datatable .frame tr.coltypes .row_index {  background: var(--jp-border-color0);}\n",
       ".datatable th:nth-child(2) { padding-left: 12px; }\n",
       ".datatable .hellipsis {  color: var(--jp-cell-editor-border-color);}\n",
       ".datatable .vellipsis {  background: var(--jp-layout-color0);  color: var(--jp-cell-editor-border-color);}\n",
       ".datatable .na {  color: var(--jp-cell-editor-border-color);  font-size: 80%;}\n",
       ".datatable .sp {  opacity: 0.25;}\n",
       ".datatable .footer { font-size: 9px; }\n",
       ".datatable .frame_dimensions {  background: var(--jp-border-color3);  border-top: 1px solid var(--jp-border-color0);  color: var(--jp-ui-font-color3);  display: inline-block;  opacity: 0.6;  padding: 1px 10px 1px 5px;}\n",
       "</style>\n"
      ],
      "text/plain": [
       "<IPython.core.display.HTML object>"
      ]
     },
     "metadata": {},
     "output_type": "display_data"
    }
   ],
   "source": [
    "import numpy as np\n",
    "import pandas as pd\n",
    "\n",
    "import gc\n",
    "import joblib\n",
    "\n",
    "import matplotlib.pyplot as plt\n",
    "%matplotlib inline\n",
    "import seaborn as sns\n",
    "import scipy as stats\n",
    "\n",
    "from sklearn import preprocessing\n",
    "from sklearn.model_selection import StratifiedKFold \n",
    "from sklearn.model_selection import GroupKFold\n",
    "from sklearn.model_selection import train_test_split\n",
    "from sklearn.metrics import mean_squared_error, mean_absolute_error, accuracy_score, confusion_matrix\n",
    "from sklearn.ensemble import RandomForestRegressor\n",
    "\n",
    "import lightgbm as lgbm\n",
    "from lightgbm import *"
   ]
  },
  {
   "cell_type": "markdown",
   "id": "45bd761e",
   "metadata": {
    "papermill": {
     "duration": 0.034584,
     "end_time": "2022-04-11T02:53:50.916459",
     "exception": false,
     "start_time": "2022-04-11T02:53:50.881875",
     "status": "completed"
    },
    "tags": []
   },
   "source": [
    "# 데이터 불러오기\n",
    "- Step 1 ~ 3에서 진행하고 생성한 train_df.pkl를 read."
   ]
  },
  {
   "cell_type": "code",
   "execution_count": 2,
   "id": "413237f0",
   "metadata": {
    "execution": {
     "iopub.execute_input": "2022-04-11T02:53:50.989007Z",
     "iopub.status.busy": "2022-04-11T02:53:50.988338Z",
     "iopub.status.idle": "2022-04-11T02:54:09.803524Z",
     "shell.execute_reply": "2022-04-11T02:54:09.804282Z",
     "shell.execute_reply.started": "2022-04-11T02:45:23.801413Z"
    },
    "papermill": {
     "duration": 18.854522,
     "end_time": "2022-04-11T02:54:09.804523",
     "exception": false,
     "start_time": "2022-04-11T02:53:50.950001",
     "status": "completed"
    },
    "tags": []
   },
   "outputs": [
    {
     "name": "stdout",
     "output_type": "stream",
     "text": [
      "CPU times: user 1.06 s, sys: 2.74 s, total: 3.8 s\n",
      "Wall time: 18.8 s\n"
     ]
    },
    {
     "data": {
      "text/html": [
       "<div>\n",
       "<style scoped>\n",
       "    .dataframe tbody tr th:only-of-type {\n",
       "        vertical-align: middle;\n",
       "    }\n",
       "\n",
       "    .dataframe tbody tr th {\n",
       "        vertical-align: top;\n",
       "    }\n",
       "\n",
       "    .dataframe thead th {\n",
       "        text-align: right;\n",
       "    }\n",
       "</style>\n",
       "<table border=\"1\" class=\"dataframe\">\n",
       "  <thead>\n",
       "    <tr style=\"text-align: right;\">\n",
       "      <th></th>\n",
       "      <th>row_id</th>\n",
       "      <th>time_id</th>\n",
       "      <th>investment_id</th>\n",
       "      <th>target</th>\n",
       "      <th>f_0</th>\n",
       "      <th>f_1</th>\n",
       "      <th>f_2</th>\n",
       "      <th>f_3</th>\n",
       "      <th>f_4</th>\n",
       "      <th>f_5</th>\n",
       "      <th>...</th>\n",
       "      <th>f_290</th>\n",
       "      <th>f_291</th>\n",
       "      <th>f_292</th>\n",
       "      <th>f_293</th>\n",
       "      <th>f_294</th>\n",
       "      <th>f_295</th>\n",
       "      <th>f_296</th>\n",
       "      <th>f_297</th>\n",
       "      <th>f_298</th>\n",
       "      <th>f_299</th>\n",
       "    </tr>\n",
       "  </thead>\n",
       "  <tbody>\n",
       "    <tr>\n",
       "      <th>0</th>\n",
       "      <td>0_1</td>\n",
       "      <td>0</td>\n",
       "      <td>1</td>\n",
       "      <td>-0.300781</td>\n",
       "      <td>0.932617</td>\n",
       "      <td>0.113708</td>\n",
       "      <td>-0.402100</td>\n",
       "      <td>0.378418</td>\n",
       "      <td>-0.203979</td>\n",
       "      <td>-0.413574</td>\n",
       "      <td>...</td>\n",
       "      <td>0.365967</td>\n",
       "      <td>-1.095703</td>\n",
       "      <td>0.200073</td>\n",
       "      <td>0.819336</td>\n",
       "      <td>0.941406</td>\n",
       "      <td>-0.086792</td>\n",
       "      <td>-1.086914</td>\n",
       "      <td>-1.044922</td>\n",
       "      <td>-0.287598</td>\n",
       "      <td>0.321533</td>\n",
       "    </tr>\n",
       "    <tr>\n",
       "      <th>1</th>\n",
       "      <td>0_2</td>\n",
       "      <td>0</td>\n",
       "      <td>2</td>\n",
       "      <td>-0.231079</td>\n",
       "      <td>0.811035</td>\n",
       "      <td>-0.514160</td>\n",
       "      <td>0.742188</td>\n",
       "      <td>-0.616699</td>\n",
       "      <td>-0.194214</td>\n",
       "      <td>1.771484</td>\n",
       "      <td>...</td>\n",
       "      <td>-0.154175</td>\n",
       "      <td>0.912598</td>\n",
       "      <td>-0.734375</td>\n",
       "      <td>0.819336</td>\n",
       "      <td>0.941406</td>\n",
       "      <td>-0.387695</td>\n",
       "      <td>-1.086914</td>\n",
       "      <td>-0.929688</td>\n",
       "      <td>-0.974121</td>\n",
       "      <td>-0.343506</td>\n",
       "    </tr>\n",
       "    <tr>\n",
       "      <th>2</th>\n",
       "      <td>0_6</td>\n",
       "      <td>0</td>\n",
       "      <td>6</td>\n",
       "      <td>0.568848</td>\n",
       "      <td>0.394043</td>\n",
       "      <td>0.615723</td>\n",
       "      <td>0.567871</td>\n",
       "      <td>-0.607910</td>\n",
       "      <td>0.068909</td>\n",
       "      <td>-1.083008</td>\n",
       "      <td>...</td>\n",
       "      <td>-0.138062</td>\n",
       "      <td>0.912598</td>\n",
       "      <td>-0.551758</td>\n",
       "      <td>-1.220703</td>\n",
       "      <td>-1.060547</td>\n",
       "      <td>-0.219116</td>\n",
       "      <td>-1.086914</td>\n",
       "      <td>-0.612305</td>\n",
       "      <td>-0.113953</td>\n",
       "      <td>0.243652</td>\n",
       "    </tr>\n",
       "    <tr>\n",
       "      <th>3</th>\n",
       "      <td>0_7</td>\n",
       "      <td>0</td>\n",
       "      <td>7</td>\n",
       "      <td>-1.064453</td>\n",
       "      <td>-2.343750</td>\n",
       "      <td>-0.011871</td>\n",
       "      <td>1.875000</td>\n",
       "      <td>-0.606445</td>\n",
       "      <td>-0.586914</td>\n",
       "      <td>-0.815918</td>\n",
       "      <td>...</td>\n",
       "      <td>0.382080</td>\n",
       "      <td>0.912598</td>\n",
       "      <td>-0.266357</td>\n",
       "      <td>-1.220703</td>\n",
       "      <td>0.941406</td>\n",
       "      <td>-0.608887</td>\n",
       "      <td>0.104919</td>\n",
       "      <td>-0.783203</td>\n",
       "      <td>1.151367</td>\n",
       "      <td>-0.773438</td>\n",
       "    </tr>\n",
       "    <tr>\n",
       "      <th>4</th>\n",
       "      <td>0_8</td>\n",
       "      <td>0</td>\n",
       "      <td>8</td>\n",
       "      <td>-0.531738</td>\n",
       "      <td>0.842285</td>\n",
       "      <td>-0.262939</td>\n",
       "      <td>2.330078</td>\n",
       "      <td>-0.583496</td>\n",
       "      <td>-0.618164</td>\n",
       "      <td>-0.742676</td>\n",
       "      <td>...</td>\n",
       "      <td>-0.170410</td>\n",
       "      <td>0.912598</td>\n",
       "      <td>-0.741211</td>\n",
       "      <td>-1.220703</td>\n",
       "      <td>0.941406</td>\n",
       "      <td>-0.588379</td>\n",
       "      <td>0.104919</td>\n",
       "      <td>0.753418</td>\n",
       "      <td>1.345703</td>\n",
       "      <td>-0.737793</td>\n",
       "    </tr>\n",
       "  </tbody>\n",
       "</table>\n",
       "<p>5 rows × 304 columns</p>\n",
       "</div>"
      ],
      "text/plain": [
       "  row_id  time_id  investment_id    target       f_0       f_1       f_2  \\\n",
       "0    0_1        0              1 -0.300781  0.932617  0.113708 -0.402100   \n",
       "1    0_2        0              2 -0.231079  0.811035 -0.514160  0.742188   \n",
       "2    0_6        0              6  0.568848  0.394043  0.615723  0.567871   \n",
       "3    0_7        0              7 -1.064453 -2.343750 -0.011871  1.875000   \n",
       "4    0_8        0              8 -0.531738  0.842285 -0.262939  2.330078   \n",
       "\n",
       "        f_3       f_4       f_5  ...     f_290     f_291     f_292     f_293  \\\n",
       "0  0.378418 -0.203979 -0.413574  ...  0.365967 -1.095703  0.200073  0.819336   \n",
       "1 -0.616699 -0.194214  1.771484  ... -0.154175  0.912598 -0.734375  0.819336   \n",
       "2 -0.607910  0.068909 -1.083008  ... -0.138062  0.912598 -0.551758 -1.220703   \n",
       "3 -0.606445 -0.586914 -0.815918  ...  0.382080  0.912598 -0.266357 -1.220703   \n",
       "4 -0.583496 -0.618164 -0.742676  ... -0.170410  0.912598 -0.741211 -1.220703   \n",
       "\n",
       "      f_294     f_295     f_296     f_297     f_298     f_299  \n",
       "0  0.941406 -0.086792 -1.086914 -1.044922 -0.287598  0.321533  \n",
       "1  0.941406 -0.387695 -1.086914 -0.929688 -0.974121 -0.343506  \n",
       "2 -1.060547 -0.219116 -1.086914 -0.612305 -0.113953  0.243652  \n",
       "3  0.941406 -0.608887  0.104919 -0.783203  1.151367 -0.773438  \n",
       "4  0.941406 -0.588379  0.104919  0.753418  1.345703 -0.737793  \n",
       "\n",
       "[5 rows x 304 columns]"
      ]
     },
     "execution_count": 2,
     "metadata": {},
     "output_type": "execute_result"
    }
   ],
   "source": [
    "%%time\n",
    "train_df = pd.read_pickle('../input/ubiquant-train-df-low-memory-pkl/train_df.pkl')\n",
    "train_df.head()"
   ]
  },
  {
   "cell_type": "markdown",
   "id": "1bb710da",
   "metadata": {
    "papermill": {
     "duration": 0.034273,
     "end_time": "2022-04-11T02:54:09.873756",
     "exception": false,
     "start_time": "2022-04-11T02:54:09.839483",
     "status": "completed"
    },
    "tags": []
   },
   "source": [
    "# Step 4. 데이터 전처리"
   ]
  },
  {
   "cell_type": "markdown",
   "id": "6eeb4517",
   "metadata": {
    "papermill": {
     "duration": 0.041732,
     "end_time": "2022-04-11T02:54:09.950137",
     "exception": false,
     "start_time": "2022-04-11T02:54:09.908405",
     "status": "completed"
    },
    "tags": []
   },
   "source": [
    "## 필요없는 컬럼 제거\n",
    "- row_id는 단순 행 번호를 나타내므로 제거.\n",
    "- 컬럼 리스트를 따로 생성하고 'row_id' 제거.\n",
    "- 'time_id' 제거\n",
    "- 종속변수인 'target' 제거.\n",
    "- 필요없는 컬럼이 생성된 리스트를 통해 필요한 컬럼들만 추출하여 사용."
   ]
  },
  {
   "cell_type": "code",
   "execution_count": 3,
   "id": "5e36dff8",
   "metadata": {
    "execution": {
     "iopub.execute_input": "2022-04-11T02:54:10.048899Z",
     "iopub.status.busy": "2022-04-11T02:54:10.047156Z",
     "iopub.status.idle": "2022-04-11T02:54:10.054045Z",
     "shell.execute_reply": "2022-04-11T02:54:10.053494Z",
     "shell.execute_reply.started": "2022-04-11T02:45:44.003739Z"
    },
    "papermill": {
     "duration": 0.058902,
     "end_time": "2022-04-11T02:54:10.054213",
     "exception": false,
     "start_time": "2022-04-11T02:54:09.995311",
     "status": "completed"
    },
    "tags": []
   },
   "outputs": [
    {
     "data": {
      "text/plain": [
       "Index(['investment_id', 'f_0', 'f_1', 'f_2', 'f_3', 'f_4', 'f_5', 'f_6', 'f_7',\n",
       "       'f_8',\n",
       "       ...\n",
       "       'f_290', 'f_291', 'f_292', 'f_293', 'f_294', 'f_295', 'f_296', 'f_297',\n",
       "       'f_298', 'f_299'],\n",
       "      dtype='object', length=301)"
      ]
     },
     "execution_count": 3,
     "metadata": {},
     "output_type": "execute_result"
    }
   ],
   "source": [
    "feature_cols = train_df.columns.unique()\n",
    "feature_cols = feature_cols.drop(['row_id', 'target', 'time_id'])\n",
    "feature_cols"
   ]
  },
  {
   "cell_type": "markdown",
   "id": "9f4323ee",
   "metadata": {
    "papermill": {
     "duration": 0.035241,
     "end_time": "2022-04-11T02:54:10.127016",
     "exception": false,
     "start_time": "2022-04-11T02:54:10.091775",
     "status": "completed"
    },
    "tags": []
   },
   "source": [
    "## 결측치 제거\n",
    "- dataset 내에 결측치가 존재하지 않음."
   ]
  },
  {
   "cell_type": "markdown",
   "id": "e96d0e66",
   "metadata": {
    "papermill": {
     "duration": 0.034572,
     "end_time": "2022-04-11T02:54:10.196825",
     "exception": false,
     "start_time": "2022-04-11T02:54:10.162253",
     "status": "completed"
    },
    "tags": []
   },
   "source": [
    "## 이상치 제거\n",
    "- 평균에서 멀리 떨어져 있는 값들을 제거 (> std*num)"
   ]
  },
  {
   "cell_type": "markdown",
   "id": "f9ceab2c",
   "metadata": {
    "papermill": {
     "duration": 0.034597,
     "end_time": "2022-04-11T02:54:10.267145",
     "exception": false,
     "start_time": "2022-04-11T02:54:10.232548",
     "status": "completed"
    },
    "tags": []
   },
   "source": [
    "## mean > std * x\n",
    "- 이상치의 개수와 리스트를 반환\n",
    "|x|outlier count|\n",
    "|:-----:|:-----:|\n",
    "|90|21|\n",
    "|80|42|\n",
    "|70|128|\n",
    "|60|325|\n",
    "|50|788|\n",
    "|40|2232|\n",
    "|30|5707|"
   ]
  },
  {
   "cell_type": "code",
   "execution_count": 4,
   "id": "30d07278",
   "metadata": {
    "execution": {
     "iopub.execute_input": "2022-04-11T02:54:10.343209Z",
     "iopub.status.busy": "2022-04-11T02:54:10.342230Z",
     "iopub.status.idle": "2022-04-11T02:54:10.346311Z",
     "shell.execute_reply": "2022-04-11T02:54:10.345804Z",
     "shell.execute_reply.started": "2022-04-11T02:45:44.019315Z"
    },
    "papermill": {
     "duration": 0.044466,
     "end_time": "2022-04-11T02:54:10.346450",
     "exception": false,
     "start_time": "2022-04-11T02:54:10.301984",
     "status": "completed"
    },
    "tags": []
   },
   "outputs": [
    {
     "data": {
      "text/plain": [
       "'\\noutlier_list = []\\nnum = 70\\n\\nfor col in feature_cols :\\n    trans_dtype_df = train_df[col].astype(np.float32)\\n    \\n    temp_df = train_df[(trans_dtype_df > trans_dtype_df.mean() + trans_dtype_df.std() * num) |\\n                       (trans_dtype_df < trans_dtype_df.mean() - trans_dtype_df.std() * num) ]\\n    if len(temp_df) >0 :\\n        outliers = temp_df.index.to_list()\\n        outlier_list.extend(outliers)\\n        print(col, len(temp_df))\\n        gc.collect()\\n\\noutlier_list = list(set(outlier_list))\\nprint(len(outlier_list))\\ngc.collect()\\n'"
      ]
     },
     "execution_count": 4,
     "metadata": {},
     "output_type": "execute_result"
    }
   ],
   "source": [
    "'''\n",
    "outlier_list = []\n",
    "num = 70\n",
    "\n",
    "for col in feature_cols :\n",
    "    trans_dtype_df = train_df[col].astype(np.float32)\n",
    "    \n",
    "    temp_df = train_df[(trans_dtype_df > trans_dtype_df.mean() + trans_dtype_df.std() * num) |\n",
    "                       (trans_dtype_df < trans_dtype_df.mean() - trans_dtype_df.std() * num) ]\n",
    "    if len(temp_df) >0 :\n",
    "        outliers = temp_df.index.to_list()\n",
    "        outlier_list.extend(outliers)\n",
    "        print(col, len(temp_df))\n",
    "        gc.collect()\n",
    "\n",
    "outlier_list = list(set(outlier_list))\n",
    "print(len(outlier_list))\n",
    "gc.collect()\n",
    "'''"
   ]
  },
  {
   "cell_type": "markdown",
   "id": "acd2b4e8",
   "metadata": {
    "papermill": {
     "duration": 0.035181,
     "end_time": "2022-04-11T02:54:10.417013",
     "exception": false,
     "start_time": "2022-04-11T02:54:10.381832",
     "status": "completed"
    },
    "tags": []
   },
   "source": [
    "## mean > std * x or (> std * y and len < z)\n",
    "- 조건 범위의 이상치의 개수와 리스트를 반환"
   ]
  },
  {
   "cell_type": "markdown",
   "id": "08de2aee",
   "metadata": {
    "papermill": {
     "duration": 0.035109,
     "end_time": "2022-04-11T02:54:10.487636",
     "exception": false,
     "start_time": "2022-04-11T02:54:10.452527",
     "status": "completed"
    },
    "tags": []
   },
   "source": [
    "|x|y|z|col_count|outlier_count|\n",
    "|:-:|:-:|:-:|:-:|:-:|\n",
    "|70|35|6|48|174|"
   ]
  },
  {
   "cell_type": "code",
   "execution_count": 5,
   "id": "6709d159",
   "metadata": {
    "execution": {
     "iopub.execute_input": "2022-04-11T02:54:10.570488Z",
     "iopub.status.busy": "2022-04-11T02:54:10.566161Z",
     "iopub.status.idle": "2022-04-11T02:54:39.064685Z",
     "shell.execute_reply": "2022-04-11T02:54:39.065211Z",
     "shell.execute_reply.started": "2022-04-11T02:50:02.607800Z"
    },
    "papermill": {
     "duration": 28.542529,
     "end_time": "2022-04-11T02:54:39.065388",
     "exception": false,
     "start_time": "2022-04-11T02:54:10.522859",
     "status": "completed"
    },
    "tags": []
   },
   "outputs": [
    {
     "name": "stdout",
     "output_type": "stream",
     "text": [
      "f_4 6\n",
      "f_10 1\n",
      "f_12 1\n",
      "f_13 1\n",
      "f_37 3\n",
      "f_49 1\n",
      "f_55 2\n",
      "f_62 1\n",
      "f_77 5\n",
      "f_78 1\n",
      "f_87 3\n",
      "f_99 4\n",
      "f_104 1\n",
      "f_108 5\n",
      "f_115 14\n",
      "f_117 16\n",
      "f_118 2\n",
      "f_122 2\n",
      "f_124 17\n",
      "f_127 16\n",
      "f_128 5\n",
      "f_136 2\n",
      "f_137 1\n",
      "f_145 2\n",
      "f_149 2\n",
      "f_155 2\n",
      "f_162 1\n",
      "f_165 1\n",
      "f_172 2\n",
      "f_174 1\n",
      "f_175 30\n",
      "f_179 4\n",
      "f_193 3\n",
      "f_196 1\n",
      "f_197 1\n",
      "f_200 37\n",
      "f_209 5\n",
      "f_214 1\n",
      "f_215 1\n",
      "f_219 1\n",
      "f_233 3\n",
      "f_249 1\n",
      "f_250 4\n",
      "f_265 1\n",
      "f_277 1\n",
      "f_280 3\n",
      "f_289 6\n",
      "f_295 1\n",
      "48 174\n"
     ]
    }
   ],
   "source": [
    "outlier_list = []\n",
    "outlier_col = []\n",
    "x = 70\n",
    "y = 35\n",
    "z = 6\n",
    "\n",
    "for col in feature_cols :\n",
    "    trans_dtype_df = train_df[col].astype(np.float32)\n",
    "    \n",
    "    temp_df = train_df[(trans_dtype_df > trans_dtype_df.mean() + trans_dtype_df.std() * x) |\n",
    "                       (trans_dtype_df < trans_dtype_df.mean() - trans_dtype_df.std() * x) ]\n",
    "    temp2_df = train_df[(trans_dtype_df > trans_dtype_df.mean() + trans_dtype_df.std() * y) |\n",
    "                        (trans_dtype_df < trans_dtype_df.mean() - trans_dtype_df.std() * y) ]\n",
    "    if len(temp_df) > 0 : \n",
    "        outliers = temp_df.index.to_list()\n",
    "        outlier_list.extend(outliers)\n",
    "        outlier_col.append(col)\n",
    "        print(col, len(temp_df))\n",
    "    elif len(temp2_df) > 0 and len(temp2_df) < z :\n",
    "        outliers = temp2_df.index.to_list()\n",
    "        outlier_list.extend(outliers)\n",
    "        outlier_col.append(col)\n",
    "        print(col, len(temp2_df))\n",
    "\n",
    "outlier_list = list(set(outlier_list))\n",
    "print(len(outlier_col), len(outlier_list))"
   ]
  },
  {
   "cell_type": "markdown",
   "id": "29bfa4f0",
   "metadata": {
    "papermill": {
     "duration": 0.049407,
     "end_time": "2022-04-11T02:54:39.164996",
     "exception": false,
     "start_time": "2022-04-11T02:54:39.115589",
     "status": "completed"
    },
    "tags": []
   },
   "source": [
    "- 이상치 제거"
   ]
  },
  {
   "cell_type": "code",
   "execution_count": 6,
   "id": "402fdb73",
   "metadata": {
    "execution": {
     "iopub.execute_input": "2022-04-11T02:54:39.267404Z",
     "iopub.status.busy": "2022-04-11T02:54:39.266703Z",
     "iopub.status.idle": "2022-04-11T02:54:49.364961Z",
     "shell.execute_reply": "2022-04-11T02:54:49.365451Z",
     "shell.execute_reply.started": "2022-04-11T02:52:44.232188Z"
    },
    "papermill": {
     "duration": 10.151309,
     "end_time": "2022-04-11T02:54:49.365625",
     "exception": false,
     "start_time": "2022-04-11T02:54:39.214316",
     "status": "completed"
    },
    "tags": []
   },
   "outputs": [
    {
     "data": {
      "text/plain": [
       "66"
      ]
     },
     "execution_count": 6,
     "metadata": {},
     "output_type": "execute_result"
    }
   ],
   "source": [
    "train_df.drop(train_df.index[outlier_list], inplace = True)\n",
    "train_df\n",
    "gc.collect()"
   ]
  },
  {
   "cell_type": "markdown",
   "id": "eb659b99",
   "metadata": {
    "papermill": {
     "duration": 0.049105,
     "end_time": "2022-04-11T02:54:49.466099",
     "exception": false,
     "start_time": "2022-04-11T02:54:49.416994",
     "status": "completed"
    },
    "tags": []
   },
   "source": [
    "# Step 5. 머신러닝 모형 개발"
   ]
  },
  {
   "cell_type": "markdown",
   "id": "bc584eff",
   "metadata": {
    "papermill": {
     "duration": 0.049511,
     "end_time": "2022-04-11T02:54:49.566112",
     "exception": false,
     "start_time": "2022-04-11T02:54:49.516601",
     "status": "completed"
    },
    "tags": []
   },
   "source": [
    "- 독립변수와 종속변수를 구분."
   ]
  },
  {
   "cell_type": "code",
   "execution_count": 7,
   "id": "abaf363d",
   "metadata": {
    "execution": {
     "iopub.execute_input": "2022-04-11T02:54:49.668623Z",
     "iopub.status.busy": "2022-04-11T02:54:49.667894Z",
     "iopub.status.idle": "2022-04-11T02:54:49.670612Z",
     "shell.execute_reply": "2022-04-11T02:54:49.671163Z",
     "shell.execute_reply.started": "2022-04-11T02:45:44.178397Z"
    },
    "papermill": {
     "duration": 0.0557,
     "end_time": "2022-04-11T02:54:49.671351",
     "exception": false,
     "start_time": "2022-04-11T02:54:49.615651",
     "status": "completed"
    },
    "tags": []
   },
   "outputs": [],
   "source": [
    "#X = train_df[feature_cols]\n",
    "#y = train_df['target']"
   ]
  },
  {
   "cell_type": "markdown",
   "id": "f02647ba",
   "metadata": {
    "papermill": {
     "duration": 0.050105,
     "end_time": "2022-04-11T02:54:49.771539",
     "exception": false,
     "start_time": "2022-04-11T02:54:49.721434",
     "status": "completed"
    },
    "tags": []
   },
   "source": [
    "- X, y 데이터 분리"
   ]
  },
  {
   "cell_type": "code",
   "execution_count": 8,
   "id": "38ae815d",
   "metadata": {
    "execution": {
     "iopub.execute_input": "2022-04-11T02:54:49.876146Z",
     "iopub.status.busy": "2022-04-11T02:54:49.875451Z",
     "iopub.status.idle": "2022-04-11T02:54:49.878280Z",
     "shell.execute_reply": "2022-04-11T02:54:49.878845Z",
     "shell.execute_reply.started": "2022-04-11T02:45:44.180309Z"
    },
    "papermill": {
     "duration": 0.056812,
     "end_time": "2022-04-11T02:54:49.879020",
     "exception": false,
     "start_time": "2022-04-11T02:54:49.822208",
     "status": "completed"
    },
    "tags": []
   },
   "outputs": [],
   "source": [
    "#X_train, X_valid, y_train, y_valid = train_test_split(X, y, test_size = 0.3, random_state = 42, shuffle = False)\n",
    "#X_train.shape, X_valid.shape, y_train.shape, y_valid.shape"
   ]
  },
  {
   "cell_type": "markdown",
   "id": "9a15a09b",
   "metadata": {
    "papermill": {
     "duration": 0.049387,
     "end_time": "2022-04-11T02:54:49.979424",
     "exception": false,
     "start_time": "2022-04-11T02:54:49.930037",
     "status": "completed"
    },
    "tags": []
   },
   "source": [
    "- RAM 확보를 위해 X, y 제거"
   ]
  },
  {
   "cell_type": "code",
   "execution_count": 9,
   "id": "e3e16ee1",
   "metadata": {
    "execution": {
     "iopub.execute_input": "2022-04-11T02:54:50.083668Z",
     "iopub.status.busy": "2022-04-11T02:54:50.082927Z",
     "iopub.status.idle": "2022-04-11T02:54:50.087094Z",
     "shell.execute_reply": "2022-04-11T02:54:50.087641Z",
     "shell.execute_reply.started": "2022-04-11T02:45:44.182369Z"
    },
    "papermill": {
     "duration": 0.058247,
     "end_time": "2022-04-11T02:54:50.087809",
     "exception": false,
     "start_time": "2022-04-11T02:54:50.029562",
     "status": "completed"
    },
    "tags": []
   },
   "outputs": [
    {
     "data": {
      "text/plain": [
       "'\\ndel X\\ndel y\\ngc.collect()\\n'"
      ]
     },
     "execution_count": 9,
     "metadata": {},
     "output_type": "execute_result"
    }
   ],
   "source": [
    "'''\n",
    "del X\n",
    "del y\n",
    "gc.collect()\n",
    "'''"
   ]
  },
  {
   "cell_type": "markdown",
   "id": "4ea7b0cf",
   "metadata": {
    "papermill": {
     "duration": 0.050119,
     "end_time": "2022-04-11T02:54:50.189129",
     "exception": false,
     "start_time": "2022-04-11T02:54:50.139010",
     "status": "completed"
    },
    "tags": []
   },
   "source": [
    "- LightGBM 클래스를 부른 후 모형을 학습"
   ]
  },
  {
   "cell_type": "code",
   "execution_count": 10,
   "id": "c577c0ef",
   "metadata": {
    "execution": {
     "iopub.execute_input": "2022-04-11T02:54:50.294738Z",
     "iopub.status.busy": "2022-04-11T02:54:50.292767Z",
     "iopub.status.idle": "2022-04-11T02:54:50.297218Z",
     "shell.execute_reply": "2022-04-11T02:54:50.297758Z",
     "shell.execute_reply.started": "2022-04-11T02:45:44.184204Z"
    },
    "papermill": {
     "duration": 0.057889,
     "end_time": "2022-04-11T02:54:50.297975",
     "exception": false,
     "start_time": "2022-04-11T02:54:50.240086",
     "status": "completed"
    },
    "tags": []
   },
   "outputs": [
    {
     "data": {
      "text/plain": [
       "'\\nmodel = lgbm.LGBMRegressor(\\n        objective=\"regression\",\\n        metric=\"rmse\",\\n        n_estimators=500 )\\n\\nmodel.fit(X_train, y_train)\\n'"
      ]
     },
     "execution_count": 10,
     "metadata": {},
     "output_type": "execute_result"
    }
   ],
   "source": [
    "'''\n",
    "model = lgbm.LGBMRegressor(\n",
    "        objective=\"regression\",\n",
    "        metric=\"rmse\",\n",
    "        n_estimators=500 )\n",
    "\n",
    "model.fit(X_train, y_train)\n",
    "'''"
   ]
  },
  {
   "cell_type": "code",
   "execution_count": 11,
   "id": "f22a12f3",
   "metadata": {
    "execution": {
     "iopub.execute_input": "2022-04-11T02:54:50.403328Z",
     "iopub.status.busy": "2022-04-11T02:54:50.402611Z",
     "iopub.status.idle": "2022-04-11T02:54:50.408938Z",
     "shell.execute_reply": "2022-04-11T02:54:50.408426Z",
     "shell.execute_reply.started": "2022-04-11T02:45:44.186764Z"
    },
    "papermill": {
     "duration": 0.059687,
     "end_time": "2022-04-11T02:54:50.409089",
     "exception": false,
     "start_time": "2022-04-11T02:54:50.349402",
     "status": "completed"
    },
    "tags": []
   },
   "outputs": [
    {
     "data": {
      "text/plain": [
       "'\\nfor j in [200, 300, 400, 500, 600]:\\n        model = lgbm.LGBMRegressor(\\n            objective=\"regression\",\\n            metric=\"rmse\",\\n            n_estimators= j )\\n\\n        model.fit(X_train, y_train)\\n\\n        score = model.score(X_train, y_train)\\n        print(f\"n_e:{j}, Training Score : {score}\")\\n\\n        y_pred = model.predict(X_valid)\\n        mse = mean_squared_error(y_valid, y_pred)\\n        print(f\"n_e:{j},MSE : {mse:.2f}\")\\n'"
      ]
     },
     "execution_count": 11,
     "metadata": {},
     "output_type": "execute_result"
    }
   ],
   "source": [
    "\"\"\"\n",
    "for j in [200, 300, 400, 500, 600]:\n",
    "        model = lgbm.LGBMRegressor(\n",
    "            objective=\"regression\",\n",
    "            metric=\"rmse\",\n",
    "            n_estimators= j )\n",
    "\n",
    "        model.fit(X_train, y_train)\n",
    "\n",
    "        score = model.score(X_train, y_train)\n",
    "        print(f\"n_e:{j}, Training Score : {score}\")\n",
    "\n",
    "        y_pred = model.predict(X_valid)\n",
    "        mse = mean_squared_error(y_valid, y_pred)\n",
    "        print(f\"n_e:{j},MSE : {mse:.2f}\")\n",
    "\"\"\""
   ]
  },
  {
   "cell_type": "markdown",
   "id": "7c389564",
   "metadata": {
    "papermill": {
     "duration": 0.051854,
     "end_time": "2022-04-11T02:54:50.512602",
     "exception": false,
     "start_time": "2022-04-11T02:54:50.460748",
     "status": "completed"
    },
    "tags": []
   },
   "source": [
    "### Training_Score & MSE 계산\n",
    "|test_size|n_estimators|delete outliers|Training_Score|MSE|delete outliers|Training_Score|MSE|delete outliers|Training_Score|MSE|   \n",
    "|:---:|:---:|:---:|:---:|:---:|:---:|:---:|:---:|:---:|:---:|:---:|                              \n",
    "|0.2|200|X|0.054069993842590924|0.81|>std\\*70|0.05405621833673957(<span style=\"color:blue\">$\\downarrow$</span>)|0.81|>std\\*60|0.05404028505271219(<span style=\"color:blue\">$\\downarrow$</span>)|0.81|\n",
    "|0.3|200|X|0.05846368663812751|0.83|>std\\*70|0.058449805435160984(<span style=\"color:blue\">$\\downarrow$</span>)|0.82|>std\\*60|||\n",
    "|0.2|300|X|0.06668339494814646|0.82|>std\\*70|0.06660813482520711(<span style=\"color:blue\">$\\downarrow$</span>)|0.81|>std\\*60|0.06678748573971982(<span style=\"color:red\">$\\uparrow$</span>)|0.81|\n",
    "|0.3|300|X|0.07216780004832235|0.83|>std\\*70|0.07194148416323642(<span style=\"color:blue\">$\\downarrow$</span>)|0.83|>std\\*60|||\n",
    "|0.2|400|X|0.07730909212135473|0.82|>std\\*70|0.0772426438888425(<span style=\"color:blue\">$\\downarrow$</span>)|0.82|>std\\*60|0.07730612556862904(<span style=\"color:red\">$\\uparrow$</span>)|0.82|\n",
    "|0.3|400|X|0.08363594720433998|0.83|>std\\*70|0.08389302333398285(<span style=\"color:red\">$\\uparrow$</span>)|0.83|>std\\*60|||\n",
    "|0.2|500|X|0.08671736858043233|0.82|>std\\*70|0.08636877075690108(<span style=\"color:blue\">$\\downarrow$</span>)|0.82|>std\\*60|0.08657127960859345(<span style=\"color:red\">$\\uparrow$</span>)|0.82|\n",
    "|0.3|500|X|0.09377199406580616|0.83|>std\\*70|0.0941912571685275(<span style=\"color:red\">$\\uparrow$</span>)|0.83|>std\\*60|||\n",
    "|0.2|600|X|0.09585158203024369|0.82|>std\\*70|0.09531511104149593(<span style=\"color:blue\">$\\downarrow$</span>)|0.82|>std\\*60|0.09508766558702908(<span style=\"color:blue\">$\\downarrow$</span>)|0.82|\n",
    "|0.3|600|X|0.10299723306322961|0.83|>std\\*70|0.10381084559412301(<span style=\"color:red\">$\\uparrow$</span>)|0.83|>std\\*60|||\n",
    "|0.2|700|X|0.10387433272279445|0.82|>std\\*70|0.10403926054146928(<span style=\"color:blue\">$\\downarrow$</span>)|0.82|>std\\*60|X|X|"
   ]
  },
  {
   "cell_type": "markdown",
   "id": "bff10f26",
   "metadata": {
    "papermill": {
     "duration": 0.050681,
     "end_time": "2022-04-11T02:54:50.613991",
     "exception": false,
     "start_time": "2022-04-11T02:54:50.563310",
     "status": "completed"
    },
    "tags": []
   },
   "source": [
    "- 이상치를 제거해도 전반적으로 training score가 항상 오르지 않는다.\n",
    "- 오히려 떨어지는 것으로 보임"
   ]
  },
  {
   "cell_type": "markdown",
   "id": "ee707177",
   "metadata": {
    "papermill": {
     "duration": 0.050956,
     "end_time": "2022-04-11T02:54:50.715692",
     "exception": false,
     "start_time": "2022-04-11T02:54:50.664736",
     "status": "completed"
    },
    "tags": []
   },
   "source": [
    "- trianing score, MSE 계산"
   ]
  },
  {
   "cell_type": "code",
   "execution_count": 12,
   "id": "3b5e7b7e",
   "metadata": {
    "execution": {
     "iopub.execute_input": "2022-04-11T02:54:50.825095Z",
     "iopub.status.busy": "2022-04-11T02:54:50.824439Z",
     "iopub.status.idle": "2022-04-11T02:54:50.829129Z",
     "shell.execute_reply": "2022-04-11T02:54:50.829684Z",
     "shell.execute_reply.started": "2022-04-11T02:45:44.188927Z"
    },
    "papermill": {
     "duration": 0.062399,
     "end_time": "2022-04-11T02:54:50.829863",
     "exception": false,
     "start_time": "2022-04-11T02:54:50.767464",
     "status": "completed"
    },
    "tags": []
   },
   "outputs": [
    {
     "data": {
      "text/plain": [
       "'\\nscore = model.score(X_train, y_train)\\nprint(f\"Training Score : {score}\")\\n\\ny_pred = model.predict(X_valid)\\nmse = mean_squared_error(y_valid, y_pred)\\nprint(f\"MSE : {mse:.2f}\")\\n'"
      ]
     },
     "execution_count": 12,
     "metadata": {},
     "output_type": "execute_result"
    }
   ],
   "source": [
    "'''\n",
    "score = model.score(X_train, y_train)\n",
    "print(f\"Training Score : {score}\")\n",
    "\n",
    "y_pred = model.predict(X_valid)\n",
    "mse = mean_squared_error(y_valid, y_pred)\n",
    "print(f\"MSE : {mse:.2f}\")\n",
    "'''\n"
   ]
  },
  {
   "cell_type": "markdown",
   "id": "d671205b",
   "metadata": {
    "papermill": {
     "duration": 0.051258,
     "end_time": "2022-04-11T02:54:50.932733",
     "exception": false,
     "start_time": "2022-04-11T02:54:50.881475",
     "status": "completed"
    },
    "tags": []
   },
   "source": [
    "- LightGBM의 세부 파라미터 적용\n",
    "    - 참고 자료를 조사하여 적용"
   ]
  },
  {
   "cell_type": "code",
   "execution_count": 13,
   "id": "0da54a2d",
   "metadata": {
    "execution": {
     "iopub.execute_input": "2022-04-11T02:54:51.038551Z",
     "iopub.status.busy": "2022-04-11T02:54:51.037854Z",
     "iopub.status.idle": "2022-04-11T02:54:51.171541Z",
     "shell.execute_reply": "2022-04-11T02:54:51.170984Z",
     "shell.execute_reply.started": "2022-04-11T02:53:03.776787Z"
    },
    "papermill": {
     "duration": 0.187737,
     "end_time": "2022-04-11T02:54:51.171687",
     "exception": false,
     "start_time": "2022-04-11T02:54:50.983950",
     "status": "completed"
    },
    "tags": []
   },
   "outputs": [
    {
     "data": {
      "text/plain": [
       "147"
      ]
     },
     "execution_count": 13,
     "metadata": {},
     "output_type": "execute_result"
    }
   ],
   "source": [
    "#https://www.kaggle.com/valleyzw/ubiquant-lgbm-baseline\n",
    "params = {\n",
    "        'learning_rate':0.1,\n",
    "        \"objective\": \"regression\",\n",
    "        \"metric\": \"rmse\",\n",
    "        'boosting_type': \"gbdt\",\n",
    "        'verbosity': -1,\n",
    "        'n_jobs': -1, \n",
    "        'seed': 21,\n",
    "        'lambda_l1': 1.1895057699067542, \n",
    "        'lambda_l2': 1.9079686837880768e-08, \n",
    "        'num_leaves': 112, \n",
    "        'subsample':None,\n",
    "        'feature_fraction': 0.6259927292757151, \n",
    "        'bagging_fraction': 0.9782210574588895, \n",
    "        'bagging_freq': 1, \n",
    "        'n_estimators': 306, \n",
    "        'max_depth': 12, \n",
    "        'max_bin': 494, \n",
    "        'min_data_in_leaf': 366,\n",
    "        'colsample_bytree': None,\n",
    "        'subsample_freq': None,\n",
    "        'min_child_samples': None,\n",
    "        'reg_lambda': None,\n",
    "        'reg_alpha': None,\n",
    "    }\n",
    "gc.collect()"
   ]
  },
  {
   "cell_type": "markdown",
   "id": "1d003746",
   "metadata": {
    "papermill": {
     "duration": 0.051797,
     "end_time": "2022-04-11T02:54:51.275457",
     "exception": false,
     "start_time": "2022-04-11T02:54:51.223660",
     "status": "completed"
    },
    "tags": []
   },
   "source": [
    "- StratifiedkFold를 통한 교차 검증을 통해 훈련 "
   ]
  },
  {
   "cell_type": "code",
   "execution_count": 14,
   "id": "87944de0",
   "metadata": {
    "execution": {
     "iopub.execute_input": "2022-04-11T02:54:51.388769Z",
     "iopub.status.busy": "2022-04-11T02:54:51.388008Z",
     "iopub.status.idle": "2022-04-11T03:20:28.436578Z",
     "shell.execute_reply": "2022-04-11T03:20:28.437046Z"
    },
    "papermill": {
     "duration": 1537.109385,
     "end_time": "2022-04-11T03:20:28.437272",
     "exception": false,
     "start_time": "2022-04-11T02:54:51.327887",
     "status": "completed"
    },
    "tags": []
   },
   "outputs": [
    {
     "name": "stderr",
     "output_type": "stream",
     "text": [
      "/opt/conda/lib/python3.7/site-packages/sklearn/model_selection/_split.py:680: UserWarning: The least populated class in y has only 2 members, which is less than n_splits=3.\n",
      "  UserWarning,\n"
     ]
    },
    {
     "name": "stdout",
     "output_type": "stream",
     "text": [
      "[1]\tvalid_0's rmse: 0.920471\n",
      "[2]\tvalid_0's rmse: 0.919613\n",
      "[3]\tvalid_0's rmse: 0.918894\n",
      "[4]\tvalid_0's rmse: 0.918232\n",
      "[5]\tvalid_0's rmse: 0.91763\n",
      "[6]\tvalid_0's rmse: 0.917099\n",
      "[7]\tvalid_0's rmse: 0.916614\n",
      "[8]\tvalid_0's rmse: 0.916206\n",
      "[9]\tvalid_0's rmse: 0.915813\n",
      "[10]\tvalid_0's rmse: 0.915477\n",
      "[11]\tvalid_0's rmse: 0.915184\n",
      "[12]\tvalid_0's rmse: 0.914922\n",
      "[13]\tvalid_0's rmse: 0.914649\n",
      "[14]\tvalid_0's rmse: 0.914352\n",
      "[15]\tvalid_0's rmse: 0.914119\n",
      "[16]\tvalid_0's rmse: 0.913903\n",
      "[17]\tvalid_0's rmse: 0.91368\n",
      "[18]\tvalid_0's rmse: 0.913479\n",
      "[19]\tvalid_0's rmse: 0.91328\n",
      "[20]\tvalid_0's rmse: 0.913089\n",
      "[21]\tvalid_0's rmse: 0.912926\n",
      "[22]\tvalid_0's rmse: 0.912704\n",
      "[23]\tvalid_0's rmse: 0.912515\n",
      "[24]\tvalid_0's rmse: 0.912311\n",
      "[25]\tvalid_0's rmse: 0.912163\n",
      "[26]\tvalid_0's rmse: 0.911999\n",
      "[27]\tvalid_0's rmse: 0.911845\n",
      "[28]\tvalid_0's rmse: 0.911698\n",
      "[29]\tvalid_0's rmse: 0.911551\n",
      "[30]\tvalid_0's rmse: 0.911389\n",
      "[31]\tvalid_0's rmse: 0.911243\n",
      "[32]\tvalid_0's rmse: 0.911101\n",
      "[33]\tvalid_0's rmse: 0.910923\n",
      "[34]\tvalid_0's rmse: 0.910815\n",
      "[35]\tvalid_0's rmse: 0.910708\n",
      "[36]\tvalid_0's rmse: 0.910546\n",
      "[37]\tvalid_0's rmse: 0.910449\n",
      "[38]\tvalid_0's rmse: 0.910307\n",
      "[39]\tvalid_0's rmse: 0.910166\n",
      "[40]\tvalid_0's rmse: 0.910071\n",
      "[41]\tvalid_0's rmse: 0.909975\n",
      "[42]\tvalid_0's rmse: 0.909847\n",
      "[43]\tvalid_0's rmse: 0.909748\n",
      "[44]\tvalid_0's rmse: 0.909655\n",
      "[45]\tvalid_0's rmse: 0.909559\n",
      "[46]\tvalid_0's rmse: 0.909462\n",
      "[47]\tvalid_0's rmse: 0.909376\n",
      "[48]\tvalid_0's rmse: 0.909257\n",
      "[49]\tvalid_0's rmse: 0.909131\n",
      "[50]\tvalid_0's rmse: 0.909024\n",
      "[51]\tvalid_0's rmse: 0.908937\n",
      "[52]\tvalid_0's rmse: 0.908795\n",
      "[53]\tvalid_0's rmse: 0.908714\n",
      "[54]\tvalid_0's rmse: 0.908634\n",
      "[55]\tvalid_0's rmse: 0.908524\n",
      "[56]\tvalid_0's rmse: 0.908442\n",
      "[57]\tvalid_0's rmse: 0.908306\n",
      "[58]\tvalid_0's rmse: 0.90824\n",
      "[59]\tvalid_0's rmse: 0.908068\n",
      "[60]\tvalid_0's rmse: 0.908016\n",
      "[61]\tvalid_0's rmse: 0.907943\n",
      "[62]\tvalid_0's rmse: 0.907757\n",
      "[63]\tvalid_0's rmse: 0.907681\n",
      "[64]\tvalid_0's rmse: 0.907603\n",
      "[65]\tvalid_0's rmse: 0.907495\n",
      "[66]\tvalid_0's rmse: 0.907405\n",
      "[67]\tvalid_0's rmse: 0.907315\n",
      "[68]\tvalid_0's rmse: 0.907243\n",
      "[69]\tvalid_0's rmse: 0.907168\n",
      "[70]\tvalid_0's rmse: 0.907073\n",
      "[71]\tvalid_0's rmse: 0.906945\n",
      "[72]\tvalid_0's rmse: 0.906864\n",
      "[73]\tvalid_0's rmse: 0.906763\n",
      "[74]\tvalid_0's rmse: 0.906702\n",
      "[75]\tvalid_0's rmse: 0.906543\n",
      "[76]\tvalid_0's rmse: 0.906469\n",
      "[77]\tvalid_0's rmse: 0.906314\n",
      "[78]\tvalid_0's rmse: 0.906254\n",
      "[79]\tvalid_0's rmse: 0.906203\n",
      "[80]\tvalid_0's rmse: 0.906151\n",
      "[81]\tvalid_0's rmse: 0.906094\n",
      "[82]\tvalid_0's rmse: 0.905961\n",
      "[83]\tvalid_0's rmse: 0.905757\n",
      "[84]\tvalid_0's rmse: 0.905696\n",
      "[85]\tvalid_0's rmse: 0.905585\n",
      "[86]\tvalid_0's rmse: 0.9055\n",
      "[87]\tvalid_0's rmse: 0.905401\n",
      "[88]\tvalid_0's rmse: 0.905312\n",
      "[89]\tvalid_0's rmse: 0.905263\n",
      "[90]\tvalid_0's rmse: 0.905216\n",
      "[91]\tvalid_0's rmse: 0.905169\n",
      "[92]\tvalid_0's rmse: 0.905111\n",
      "[93]\tvalid_0's rmse: 0.904985\n",
      "[94]\tvalid_0's rmse: 0.904942\n",
      "[95]\tvalid_0's rmse: 0.904857\n",
      "[96]\tvalid_0's rmse: 0.904793\n",
      "[97]\tvalid_0's rmse: 0.90473\n",
      "[98]\tvalid_0's rmse: 0.904672\n",
      "[99]\tvalid_0's rmse: 0.904612\n",
      "[100]\tvalid_0's rmse: 0.904495\n",
      "[101]\tvalid_0's rmse: 0.904388\n",
      "[102]\tvalid_0's rmse: 0.904335\n",
      "[103]\tvalid_0's rmse: 0.90431\n",
      "[104]\tvalid_0's rmse: 0.90427\n",
      "[105]\tvalid_0's rmse: 0.904215\n",
      "[106]\tvalid_0's rmse: 0.904152\n",
      "[107]\tvalid_0's rmse: 0.90405\n",
      "[108]\tvalid_0's rmse: 0.903992\n",
      "[109]\tvalid_0's rmse: 0.903919\n",
      "[110]\tvalid_0's rmse: 0.903871\n",
      "[111]\tvalid_0's rmse: 0.903826\n",
      "[112]\tvalid_0's rmse: 0.903774\n",
      "[113]\tvalid_0's rmse: 0.903742\n",
      "[114]\tvalid_0's rmse: 0.903651\n",
      "[115]\tvalid_0's rmse: 0.903589\n",
      "[116]\tvalid_0's rmse: 0.903534\n",
      "[117]\tvalid_0's rmse: 0.903498\n",
      "[118]\tvalid_0's rmse: 0.903419\n",
      "[119]\tvalid_0's rmse: 0.903381\n",
      "[120]\tvalid_0's rmse: 0.903296\n",
      "[121]\tvalid_0's rmse: 0.903264\n",
      "[122]\tvalid_0's rmse: 0.903236\n",
      "[123]\tvalid_0's rmse: 0.903198\n",
      "[124]\tvalid_0's rmse: 0.903159\n",
      "[125]\tvalid_0's rmse: 0.903112\n",
      "[126]\tvalid_0's rmse: 0.903074\n",
      "[127]\tvalid_0's rmse: 0.90304\n",
      "[128]\tvalid_0's rmse: 0.903016\n",
      "[129]\tvalid_0's rmse: 0.902959\n",
      "[130]\tvalid_0's rmse: 0.902881\n",
      "[131]\tvalid_0's rmse: 0.902842\n",
      "[132]\tvalid_0's rmse: 0.902823\n",
      "[133]\tvalid_0's rmse: 0.902795\n",
      "[134]\tvalid_0's rmse: 0.902735\n",
      "[135]\tvalid_0's rmse: 0.902711\n",
      "[136]\tvalid_0's rmse: 0.902661\n",
      "[137]\tvalid_0's rmse: 0.902561\n",
      "[138]\tvalid_0's rmse: 0.902496\n",
      "[139]\tvalid_0's rmse: 0.902471\n",
      "[140]\tvalid_0's rmse: 0.902441\n",
      "[141]\tvalid_0's rmse: 0.902358\n",
      "[142]\tvalid_0's rmse: 0.90232\n",
      "[143]\tvalid_0's rmse: 0.902256\n",
      "[144]\tvalid_0's rmse: 0.902243\n",
      "[145]\tvalid_0's rmse: 0.902193\n",
      "[146]\tvalid_0's rmse: 0.902135\n",
      "[147]\tvalid_0's rmse: 0.902035\n",
      "[148]\tvalid_0's rmse: 0.90199\n",
      "[149]\tvalid_0's rmse: 0.901928\n",
      "[150]\tvalid_0's rmse: 0.901914\n",
      "[151]\tvalid_0's rmse: 0.901859\n",
      "[152]\tvalid_0's rmse: 0.901815\n",
      "[153]\tvalid_0's rmse: 0.901795\n",
      "[154]\tvalid_0's rmse: 0.901769\n",
      "[155]\tvalid_0's rmse: 0.901722\n",
      "[156]\tvalid_0's rmse: 0.901668\n",
      "[157]\tvalid_0's rmse: 0.901621\n",
      "[158]\tvalid_0's rmse: 0.901588\n",
      "[159]\tvalid_0's rmse: 0.90151\n",
      "[160]\tvalid_0's rmse: 0.901491\n",
      "[161]\tvalid_0's rmse: 0.90143\n",
      "[162]\tvalid_0's rmse: 0.901416\n",
      "[163]\tvalid_0's rmse: 0.9014\n",
      "[164]\tvalid_0's rmse: 0.901306\n",
      "[165]\tvalid_0's rmse: 0.90128\n",
      "[166]\tvalid_0's rmse: 0.901235\n",
      "[167]\tvalid_0's rmse: 0.901217\n",
      "[168]\tvalid_0's rmse: 0.901187\n",
      "[169]\tvalid_0's rmse: 0.901128\n",
      "[170]\tvalid_0's rmse: 0.901092\n",
      "[171]\tvalid_0's rmse: 0.901062\n",
      "[172]\tvalid_0's rmse: 0.901045\n",
      "[173]\tvalid_0's rmse: 0.901008\n",
      "[174]\tvalid_0's rmse: 0.900983\n",
      "[175]\tvalid_0's rmse: 0.900926\n",
      "[176]\tvalid_0's rmse: 0.900907\n",
      "[177]\tvalid_0's rmse: 0.900807\n",
      "[178]\tvalid_0's rmse: 0.900706\n",
      "[179]\tvalid_0's rmse: 0.900689\n",
      "[180]\tvalid_0's rmse: 0.900654\n",
      "[181]\tvalid_0's rmse: 0.900625\n",
      "[182]\tvalid_0's rmse: 0.900563\n",
      "[183]\tvalid_0's rmse: 0.90052\n",
      "[184]\tvalid_0's rmse: 0.900408\n",
      "[185]\tvalid_0's rmse: 0.900393\n",
      "[186]\tvalid_0's rmse: 0.900363\n",
      "[187]\tvalid_0's rmse: 0.900328\n",
      "[188]\tvalid_0's rmse: 0.90032\n",
      "[189]\tvalid_0's rmse: 0.900297\n",
      "[190]\tvalid_0's rmse: 0.900253\n",
      "[191]\tvalid_0's rmse: 0.900227\n",
      "[192]\tvalid_0's rmse: 0.900209\n",
      "[193]\tvalid_0's rmse: 0.900145\n",
      "[194]\tvalid_0's rmse: 0.900137\n",
      "[195]\tvalid_0's rmse: 0.900125\n",
      "[196]\tvalid_0's rmse: 0.900117\n",
      "[197]\tvalid_0's rmse: 0.90007\n",
      "[198]\tvalid_0's rmse: 0.900035\n",
      "[199]\tvalid_0's rmse: 0.899911\n",
      "[200]\tvalid_0's rmse: 0.899906\n",
      "[201]\tvalid_0's rmse: 0.899848\n",
      "[202]\tvalid_0's rmse: 0.899847\n",
      "[203]\tvalid_0's rmse: 0.899773\n",
      "[204]\tvalid_0's rmse: 0.899742\n",
      "[205]\tvalid_0's rmse: 0.899711\n",
      "[206]\tvalid_0's rmse: 0.89968\n",
      "[207]\tvalid_0's rmse: 0.899675\n",
      "[208]\tvalid_0's rmse: 0.89967\n",
      "[209]\tvalid_0's rmse: 0.899625\n",
      "[210]\tvalid_0's rmse: 0.899611\n",
      "[211]\tvalid_0's rmse: 0.899586\n",
      "[212]\tvalid_0's rmse: 0.899486\n",
      "[213]\tvalid_0's rmse: 0.89947\n",
      "[214]\tvalid_0's rmse: 0.899463\n",
      "[215]\tvalid_0's rmse: 0.899443\n",
      "[216]\tvalid_0's rmse: 0.899387\n",
      "[217]\tvalid_0's rmse: 0.899377\n",
      "[218]\tvalid_0's rmse: 0.899344\n",
      "[219]\tvalid_0's rmse: 0.899324\n",
      "[220]\tvalid_0's rmse: 0.899276\n",
      "[221]\tvalid_0's rmse: 0.899253\n",
      "[222]\tvalid_0's rmse: 0.899203\n",
      "[223]\tvalid_0's rmse: 0.899171\n",
      "[224]\tvalid_0's rmse: 0.899156\n",
      "[225]\tvalid_0's rmse: 0.899146\n",
      "[226]\tvalid_0's rmse: 0.899107\n",
      "[227]\tvalid_0's rmse: 0.899086\n",
      "[228]\tvalid_0's rmse: 0.899075\n",
      "[229]\tvalid_0's rmse: 0.898996\n",
      "[230]\tvalid_0's rmse: 0.898987\n",
      "[231]\tvalid_0's rmse: 0.898986\n",
      "[232]\tvalid_0's rmse: 0.898981\n",
      "[233]\tvalid_0's rmse: 0.898943\n",
      "[234]\tvalid_0's rmse: 0.898907\n",
      "[235]\tvalid_0's rmse: 0.89889\n",
      "[236]\tvalid_0's rmse: 0.898883\n",
      "[237]\tvalid_0's rmse: 0.898865\n",
      "[238]\tvalid_0's rmse: 0.89884\n",
      "[239]\tvalid_0's rmse: 0.898781\n",
      "[240]\tvalid_0's rmse: 0.89868\n",
      "[241]\tvalid_0's rmse: 0.898649\n",
      "[242]\tvalid_0's rmse: 0.898652\n",
      "[243]\tvalid_0's rmse: 0.898629\n",
      "[244]\tvalid_0's rmse: 0.89861\n",
      "[245]\tvalid_0's rmse: 0.898606\n",
      "[246]\tvalid_0's rmse: 0.898581\n",
      "[247]\tvalid_0's rmse: 0.898514\n",
      "[248]\tvalid_0's rmse: 0.898465\n",
      "[249]\tvalid_0's rmse: 0.898412\n",
      "[250]\tvalid_0's rmse: 0.898375\n",
      "[251]\tvalid_0's rmse: 0.89834\n",
      "[252]\tvalid_0's rmse: 0.898317\n",
      "[253]\tvalid_0's rmse: 0.898271\n",
      "[254]\tvalid_0's rmse: 0.898227\n",
      "[255]\tvalid_0's rmse: 0.898226\n",
      "[256]\tvalid_0's rmse: 0.89821\n",
      "[257]\tvalid_0's rmse: 0.898197\n",
      "[258]\tvalid_0's rmse: 0.898193\n",
      "[259]\tvalid_0's rmse: 0.898195\n",
      "[260]\tvalid_0's rmse: 0.898195\n",
      "[261]\tvalid_0's rmse: 0.898181\n",
      "[262]\tvalid_0's rmse: 0.898173\n",
      "[263]\tvalid_0's rmse: 0.898157\n",
      "[264]\tvalid_0's rmse: 0.898152\n",
      "[265]\tvalid_0's rmse: 0.898149\n",
      "[266]\tvalid_0's rmse: 0.898134\n",
      "[267]\tvalid_0's rmse: 0.898118\n",
      "[268]\tvalid_0's rmse: 0.898101\n",
      "[269]\tvalid_0's rmse: 0.898025\n",
      "[270]\tvalid_0's rmse: 0.898012\n",
      "[271]\tvalid_0's rmse: 0.898007\n",
      "[272]\tvalid_0's rmse: 0.897963\n",
      "[273]\tvalid_0's rmse: 0.897966\n",
      "[274]\tvalid_0's rmse: 0.897961\n",
      "[275]\tvalid_0's rmse: 0.897944\n",
      "[276]\tvalid_0's rmse: 0.897894\n",
      "[277]\tvalid_0's rmse: 0.897856\n",
      "[278]\tvalid_0's rmse: 0.89784\n",
      "[279]\tvalid_0's rmse: 0.897821\n",
      "[280]\tvalid_0's rmse: 0.897792\n",
      "[281]\tvalid_0's rmse: 0.897753\n",
      "[282]\tvalid_0's rmse: 0.897722\n",
      "[283]\tvalid_0's rmse: 0.897708\n",
      "[284]\tvalid_0's rmse: 0.897688\n",
      "[285]\tvalid_0's rmse: 0.897679\n",
      "[286]\tvalid_0's rmse: 0.897659\n",
      "[287]\tvalid_0's rmse: 0.897652\n",
      "[288]\tvalid_0's rmse: 0.897623\n",
      "[289]\tvalid_0's rmse: 0.897607\n",
      "[290]\tvalid_0's rmse: 0.897584\n",
      "[291]\tvalid_0's rmse: 0.897528\n",
      "[292]\tvalid_0's rmse: 0.89751\n",
      "[293]\tvalid_0's rmse: 0.897442\n",
      "[294]\tvalid_0's rmse: 0.897391\n",
      "[295]\tvalid_0's rmse: 0.897371\n",
      "[296]\tvalid_0's rmse: 0.897367\n",
      "[297]\tvalid_0's rmse: 0.897363\n",
      "[298]\tvalid_0's rmse: 0.897359\n",
      "[299]\tvalid_0's rmse: 0.897355\n",
      "[300]\tvalid_0's rmse: 0.89734\n",
      "[301]\tvalid_0's rmse: 0.897341\n",
      "[302]\tvalid_0's rmse: 0.897328\n",
      "[303]\tvalid_0's rmse: 0.897317\n",
      "[304]\tvalid_0's rmse: 0.897313\n",
      "[305]\tvalid_0's rmse: 0.897296\n",
      "[306]\tvalid_0's rmse: 0.897274\n",
      "[1]\tvalid_0's rmse: 0.918041\n",
      "[2]\tvalid_0's rmse: 0.9172\n",
      "[3]\tvalid_0's rmse: 0.916425\n",
      "[4]\tvalid_0's rmse: 0.915762\n",
      "[5]\tvalid_0's rmse: 0.915185\n",
      "[6]\tvalid_0's rmse: 0.91465\n",
      "[7]\tvalid_0's rmse: 0.914138\n",
      "[8]\tvalid_0's rmse: 0.913721\n",
      "[9]\tvalid_0's rmse: 0.913323\n",
      "[10]\tvalid_0's rmse: 0.91296\n",
      "[11]\tvalid_0's rmse: 0.912632\n",
      "[12]\tvalid_0's rmse: 0.912349\n",
      "[13]\tvalid_0's rmse: 0.912042\n",
      "[14]\tvalid_0's rmse: 0.91176\n",
      "[15]\tvalid_0's rmse: 0.91149\n",
      "[16]\tvalid_0's rmse: 0.911252\n",
      "[17]\tvalid_0's rmse: 0.911036\n",
      "[18]\tvalid_0's rmse: 0.910788\n",
      "[19]\tvalid_0's rmse: 0.910536\n",
      "[20]\tvalid_0's rmse: 0.910327\n",
      "[21]\tvalid_0's rmse: 0.910116\n",
      "[22]\tvalid_0's rmse: 0.90995\n",
      "[23]\tvalid_0's rmse: 0.909741\n",
      "[24]\tvalid_0's rmse: 0.909601\n",
      "[25]\tvalid_0's rmse: 0.909456\n",
      "[26]\tvalid_0's rmse: 0.909302\n",
      "[27]\tvalid_0's rmse: 0.909152\n",
      "[28]\tvalid_0's rmse: 0.909029\n",
      "[29]\tvalid_0's rmse: 0.908804\n",
      "[30]\tvalid_0's rmse: 0.908691\n",
      "[31]\tvalid_0's rmse: 0.908436\n",
      "[32]\tvalid_0's rmse: 0.908296\n",
      "[33]\tvalid_0's rmse: 0.90817\n",
      "[34]\tvalid_0's rmse: 0.908067\n",
      "[35]\tvalid_0's rmse: 0.907948\n",
      "[36]\tvalid_0's rmse: 0.907813\n",
      "[37]\tvalid_0's rmse: 0.907709\n",
      "[38]\tvalid_0's rmse: 0.90759\n",
      "[39]\tvalid_0's rmse: 0.90748\n",
      "[40]\tvalid_0's rmse: 0.907303\n",
      "[41]\tvalid_0's rmse: 0.907174\n",
      "[42]\tvalid_0's rmse: 0.907064\n",
      "[43]\tvalid_0's rmse: 0.90697\n",
      "[44]\tvalid_0's rmse: 0.906783\n",
      "[45]\tvalid_0's rmse: 0.90666\n",
      "[46]\tvalid_0's rmse: 0.906581\n",
      "[47]\tvalid_0's rmse: 0.906505\n",
      "[48]\tvalid_0's rmse: 0.906427\n",
      "[49]\tvalid_0's rmse: 0.906316\n",
      "[50]\tvalid_0's rmse: 0.906177\n",
      "[51]\tvalid_0's rmse: 0.906106\n",
      "[52]\tvalid_0's rmse: 0.906\n",
      "[53]\tvalid_0's rmse: 0.905934\n",
      "[54]\tvalid_0's rmse: 0.905792\n",
      "[55]\tvalid_0's rmse: 0.905683\n",
      "[56]\tvalid_0's rmse: 0.905567\n",
      "[57]\tvalid_0's rmse: 0.905448\n",
      "[58]\tvalid_0's rmse: 0.90533\n",
      "[59]\tvalid_0's rmse: 0.905192\n",
      "[60]\tvalid_0's rmse: 0.905038\n",
      "[61]\tvalid_0's rmse: 0.904916\n",
      "[62]\tvalid_0's rmse: 0.904839\n",
      "[63]\tvalid_0's rmse: 0.904732\n",
      "[64]\tvalid_0's rmse: 0.904608\n",
      "[65]\tvalid_0's rmse: 0.904507\n",
      "[66]\tvalid_0's rmse: 0.904453\n",
      "[67]\tvalid_0's rmse: 0.904389\n",
      "[68]\tvalid_0's rmse: 0.904294\n",
      "[69]\tvalid_0's rmse: 0.904211\n",
      "[70]\tvalid_0's rmse: 0.904128\n",
      "[71]\tvalid_0's rmse: 0.90407\n",
      "[72]\tvalid_0's rmse: 0.903856\n",
      "[73]\tvalid_0's rmse: 0.903802\n",
      "[74]\tvalid_0's rmse: 0.903687\n",
      "[75]\tvalid_0's rmse: 0.903617\n",
      "[76]\tvalid_0's rmse: 0.90354\n",
      "[77]\tvalid_0's rmse: 0.903449\n",
      "[78]\tvalid_0's rmse: 0.903397\n",
      "[79]\tvalid_0's rmse: 0.903334\n",
      "[80]\tvalid_0's rmse: 0.903218\n",
      "[81]\tvalid_0's rmse: 0.903165\n",
      "[82]\tvalid_0's rmse: 0.903096\n",
      "[83]\tvalid_0's rmse: 0.902975\n",
      "[84]\tvalid_0's rmse: 0.902862\n",
      "[85]\tvalid_0's rmse: 0.902804\n",
      "[86]\tvalid_0's rmse: 0.902762\n",
      "[87]\tvalid_0's rmse: 0.902713\n",
      "[88]\tvalid_0's rmse: 0.902681\n",
      "[89]\tvalid_0's rmse: 0.902652\n",
      "[90]\tvalid_0's rmse: 0.902604\n",
      "[91]\tvalid_0's rmse: 0.902558\n",
      "[92]\tvalid_0's rmse: 0.902466\n",
      "[93]\tvalid_0's rmse: 0.902405\n",
      "[94]\tvalid_0's rmse: 0.902354\n",
      "[95]\tvalid_0's rmse: 0.902247\n",
      "[96]\tvalid_0's rmse: 0.902205\n",
      "[97]\tvalid_0's rmse: 0.902134\n",
      "[98]\tvalid_0's rmse: 0.902087\n",
      "[99]\tvalid_0's rmse: 0.90204\n",
      "[100]\tvalid_0's rmse: 0.901984\n",
      "[101]\tvalid_0's rmse: 0.901931\n",
      "[102]\tvalid_0's rmse: 0.901817\n",
      "[103]\tvalid_0's rmse: 0.901762\n",
      "[104]\tvalid_0's rmse: 0.901715\n",
      "[105]\tvalid_0's rmse: 0.901636\n",
      "[106]\tvalid_0's rmse: 0.90156\n",
      "[107]\tvalid_0's rmse: 0.901432\n",
      "[108]\tvalid_0's rmse: 0.901369\n",
      "[109]\tvalid_0's rmse: 0.901315\n",
      "[110]\tvalid_0's rmse: 0.901258\n",
      "[111]\tvalid_0's rmse: 0.901163\n",
      "[112]\tvalid_0's rmse: 0.901115\n",
      "[113]\tvalid_0's rmse: 0.901074\n",
      "[114]\tvalid_0's rmse: 0.901012\n",
      "[115]\tvalid_0's rmse: 0.900971\n",
      "[116]\tvalid_0's rmse: 0.900919\n",
      "[117]\tvalid_0's rmse: 0.900879\n",
      "[118]\tvalid_0's rmse: 0.900845\n",
      "[119]\tvalid_0's rmse: 0.900765\n",
      "[120]\tvalid_0's rmse: 0.900714\n",
      "[121]\tvalid_0's rmse: 0.90068\n",
      "[122]\tvalid_0's rmse: 0.900586\n",
      "[123]\tvalid_0's rmse: 0.900534\n",
      "[124]\tvalid_0's rmse: 0.900519\n",
      "[125]\tvalid_0's rmse: 0.900468\n",
      "[126]\tvalid_0's rmse: 0.900428\n",
      "[127]\tvalid_0's rmse: 0.900299\n",
      "[128]\tvalid_0's rmse: 0.900244\n",
      "[129]\tvalid_0's rmse: 0.900162\n",
      "[130]\tvalid_0's rmse: 0.900133\n",
      "[131]\tvalid_0's rmse: 0.900081\n",
      "[132]\tvalid_0's rmse: 0.900061\n",
      "[133]\tvalid_0's rmse: 0.900003\n",
      "[134]\tvalid_0's rmse: 0.899949\n",
      "[135]\tvalid_0's rmse: 0.899901\n",
      "[136]\tvalid_0's rmse: 0.899773\n",
      "[137]\tvalid_0's rmse: 0.89973\n",
      "[138]\tvalid_0's rmse: 0.899617\n",
      "[139]\tvalid_0's rmse: 0.899571\n",
      "[140]\tvalid_0's rmse: 0.899532\n",
      "[141]\tvalid_0's rmse: 0.899487\n",
      "[142]\tvalid_0's rmse: 0.899436\n",
      "[143]\tvalid_0's rmse: 0.899393\n",
      "[144]\tvalid_0's rmse: 0.899368\n",
      "[145]\tvalid_0's rmse: 0.89935\n",
      "[146]\tvalid_0's rmse: 0.899315\n",
      "[147]\tvalid_0's rmse: 0.899243\n",
      "[148]\tvalid_0's rmse: 0.899215\n",
      "[149]\tvalid_0's rmse: 0.899185\n",
      "[150]\tvalid_0's rmse: 0.899156\n",
      "[151]\tvalid_0's rmse: 0.899142\n",
      "[152]\tvalid_0's rmse: 0.899104\n",
      "[153]\tvalid_0's rmse: 0.899036\n",
      "[154]\tvalid_0's rmse: 0.899012\n",
      "[155]\tvalid_0's rmse: 0.898945\n",
      "[156]\tvalid_0's rmse: 0.898892\n",
      "[157]\tvalid_0's rmse: 0.89887\n",
      "[158]\tvalid_0's rmse: 0.898808\n",
      "[159]\tvalid_0's rmse: 0.898745\n",
      "[160]\tvalid_0's rmse: 0.898612\n",
      "[161]\tvalid_0's rmse: 0.898573\n",
      "[162]\tvalid_0's rmse: 0.898532\n",
      "[163]\tvalid_0's rmse: 0.898501\n",
      "[164]\tvalid_0's rmse: 0.89845\n",
      "[165]\tvalid_0's rmse: 0.898388\n",
      "[166]\tvalid_0's rmse: 0.898334\n",
      "[167]\tvalid_0's rmse: 0.898269\n",
      "[168]\tvalid_0's rmse: 0.898268\n",
      "[169]\tvalid_0's rmse: 0.898251\n",
      "[170]\tvalid_0's rmse: 0.898204\n",
      "[171]\tvalid_0's rmse: 0.898153\n",
      "[172]\tvalid_0's rmse: 0.89811\n",
      "[173]\tvalid_0's rmse: 0.897988\n",
      "[174]\tvalid_0's rmse: 0.897935\n",
      "[175]\tvalid_0's rmse: 0.897886\n",
      "[176]\tvalid_0's rmse: 0.897833\n",
      "[177]\tvalid_0's rmse: 0.897789\n",
      "[178]\tvalid_0's rmse: 0.897779\n",
      "[179]\tvalid_0's rmse: 0.897727\n",
      "[180]\tvalid_0's rmse: 0.897696\n",
      "[181]\tvalid_0's rmse: 0.897666\n",
      "[182]\tvalid_0's rmse: 0.897644\n",
      "[183]\tvalid_0's rmse: 0.897619\n",
      "[184]\tvalid_0's rmse: 0.897578\n",
      "[185]\tvalid_0's rmse: 0.897532\n",
      "[186]\tvalid_0's rmse: 0.897512\n",
      "[187]\tvalid_0's rmse: 0.897486\n",
      "[188]\tvalid_0's rmse: 0.897444\n",
      "[189]\tvalid_0's rmse: 0.897382\n",
      "[190]\tvalid_0's rmse: 0.89732\n",
      "[191]\tvalid_0's rmse: 0.897306\n",
      "[192]\tvalid_0's rmse: 0.897282\n",
      "[193]\tvalid_0's rmse: 0.897251\n",
      "[194]\tvalid_0's rmse: 0.897241\n",
      "[195]\tvalid_0's rmse: 0.897219\n",
      "[196]\tvalid_0's rmse: 0.89716\n",
      "[197]\tvalid_0's rmse: 0.897139\n",
      "[198]\tvalid_0's rmse: 0.897112\n",
      "[199]\tvalid_0's rmse: 0.897024\n",
      "[200]\tvalid_0's rmse: 0.89699\n",
      "[201]\tvalid_0's rmse: 0.896992\n",
      "[202]\tvalid_0's rmse: 0.896965\n",
      "[203]\tvalid_0's rmse: 0.896905\n",
      "[204]\tvalid_0's rmse: 0.896848\n",
      "[205]\tvalid_0's rmse: 0.896823\n",
      "[206]\tvalid_0's rmse: 0.896752\n",
      "[207]\tvalid_0's rmse: 0.896738\n",
      "[208]\tvalid_0's rmse: 0.896698\n",
      "[209]\tvalid_0's rmse: 0.896691\n",
      "[210]\tvalid_0's rmse: 0.89668\n",
      "[211]\tvalid_0's rmse: 0.896686\n",
      "[212]\tvalid_0's rmse: 0.896628\n",
      "[213]\tvalid_0's rmse: 0.896614\n",
      "[214]\tvalid_0's rmse: 0.896546\n",
      "[215]\tvalid_0's rmse: 0.896526\n",
      "[216]\tvalid_0's rmse: 0.896518\n",
      "[217]\tvalid_0's rmse: 0.896491\n",
      "[218]\tvalid_0's rmse: 0.896441\n",
      "[219]\tvalid_0's rmse: 0.89636\n",
      "[220]\tvalid_0's rmse: 0.896257\n",
      "[221]\tvalid_0's rmse: 0.896242\n",
      "[222]\tvalid_0's rmse: 0.896234\n",
      "[223]\tvalid_0's rmse: 0.896176\n",
      "[224]\tvalid_0's rmse: 0.89611\n",
      "[225]\tvalid_0's rmse: 0.896084\n",
      "[226]\tvalid_0's rmse: 0.896068\n",
      "[227]\tvalid_0's rmse: 0.896029\n",
      "[228]\tvalid_0's rmse: 0.896023\n",
      "[229]\tvalid_0's rmse: 0.89593\n",
      "[230]\tvalid_0's rmse: 0.895924\n",
      "[231]\tvalid_0's rmse: 0.895907\n",
      "[232]\tvalid_0's rmse: 0.895874\n",
      "[233]\tvalid_0's rmse: 0.895868\n",
      "[234]\tvalid_0's rmse: 0.895852\n",
      "[235]\tvalid_0's rmse: 0.895853\n",
      "[236]\tvalid_0's rmse: 0.895841\n",
      "[237]\tvalid_0's rmse: 0.895823\n",
      "[238]\tvalid_0's rmse: 0.895796\n",
      "[239]\tvalid_0's rmse: 0.895794\n",
      "[240]\tvalid_0's rmse: 0.895762\n",
      "[241]\tvalid_0's rmse: 0.895695\n",
      "[242]\tvalid_0's rmse: 0.895657\n",
      "[243]\tvalid_0's rmse: 0.895649\n",
      "[244]\tvalid_0's rmse: 0.895587\n",
      "[245]\tvalid_0's rmse: 0.895538\n",
      "[246]\tvalid_0's rmse: 0.895509\n",
      "[247]\tvalid_0's rmse: 0.895481\n",
      "[248]\tvalid_0's rmse: 0.895432\n",
      "[249]\tvalid_0's rmse: 0.895421\n",
      "[250]\tvalid_0's rmse: 0.895362\n",
      "[251]\tvalid_0's rmse: 0.895337\n",
      "[252]\tvalid_0's rmse: 0.895343\n",
      "[253]\tvalid_0's rmse: 0.895326\n",
      "[254]\tvalid_0's rmse: 0.895305\n",
      "[255]\tvalid_0's rmse: 0.895277\n",
      "[256]\tvalid_0's rmse: 0.895269\n",
      "[257]\tvalid_0's rmse: 0.895259\n",
      "[258]\tvalid_0's rmse: 0.895231\n",
      "[259]\tvalid_0's rmse: 0.895219\n",
      "[260]\tvalid_0's rmse: 0.895207\n",
      "[261]\tvalid_0's rmse: 0.89521\n",
      "[262]\tvalid_0's rmse: 0.895206\n",
      "[263]\tvalid_0's rmse: 0.895175\n",
      "[264]\tvalid_0's rmse: 0.895157\n",
      "[265]\tvalid_0's rmse: 0.895121\n",
      "[266]\tvalid_0's rmse: 0.895109\n",
      "[267]\tvalid_0's rmse: 0.89501\n",
      "[268]\tvalid_0's rmse: 0.895004\n",
      "[269]\tvalid_0's rmse: 0.894996\n",
      "[270]\tvalid_0's rmse: 0.894984\n",
      "[271]\tvalid_0's rmse: 0.894987\n",
      "[272]\tvalid_0's rmse: 0.894976\n",
      "[273]\tvalid_0's rmse: 0.89496\n",
      "[274]\tvalid_0's rmse: 0.894951\n",
      "[275]\tvalid_0's rmse: 0.894938\n",
      "[276]\tvalid_0's rmse: 0.89494\n",
      "[277]\tvalid_0's rmse: 0.894936\n",
      "[278]\tvalid_0's rmse: 0.894889\n",
      "[279]\tvalid_0's rmse: 0.894891\n",
      "[280]\tvalid_0's rmse: 0.894866\n",
      "[281]\tvalid_0's rmse: 0.894843\n",
      "[282]\tvalid_0's rmse: 0.894831\n",
      "[283]\tvalid_0's rmse: 0.894814\n",
      "[284]\tvalid_0's rmse: 0.894795\n",
      "[285]\tvalid_0's rmse: 0.894782\n",
      "[286]\tvalid_0's rmse: 0.894747\n",
      "[287]\tvalid_0's rmse: 0.894734\n",
      "[288]\tvalid_0's rmse: 0.894714\n",
      "[289]\tvalid_0's rmse: 0.894716\n",
      "[290]\tvalid_0's rmse: 0.894719\n",
      "[291]\tvalid_0's rmse: 0.894705\n",
      "[292]\tvalid_0's rmse: 0.894701\n",
      "[293]\tvalid_0's rmse: 0.89468\n",
      "[294]\tvalid_0's rmse: 0.894683\n",
      "[295]\tvalid_0's rmse: 0.894677\n",
      "[296]\tvalid_0's rmse: 0.894675\n",
      "[297]\tvalid_0's rmse: 0.894655\n",
      "[298]\tvalid_0's rmse: 0.894646\n",
      "[299]\tvalid_0's rmse: 0.894632\n",
      "[300]\tvalid_0's rmse: 0.894608\n",
      "[301]\tvalid_0's rmse: 0.894575\n",
      "[302]\tvalid_0's rmse: 0.894559\n",
      "[303]\tvalid_0's rmse: 0.894521\n",
      "[304]\tvalid_0's rmse: 0.894513\n",
      "[305]\tvalid_0's rmse: 0.894513\n",
      "[306]\tvalid_0's rmse: 0.894417\n",
      "[1]\tvalid_0's rmse: 0.917376\n",
      "[2]\tvalid_0's rmse: 0.916501\n",
      "[3]\tvalid_0's rmse: 0.915757\n",
      "[4]\tvalid_0's rmse: 0.915104\n",
      "[5]\tvalid_0's rmse: 0.914484\n",
      "[6]\tvalid_0's rmse: 0.91395\n",
      "[7]\tvalid_0's rmse: 0.913465\n",
      "[8]\tvalid_0's rmse: 0.913043\n",
      "[9]\tvalid_0's rmse: 0.912643\n",
      "[10]\tvalid_0's rmse: 0.912317\n",
      "[11]\tvalid_0's rmse: 0.912006\n",
      "[12]\tvalid_0's rmse: 0.9117\n",
      "[13]\tvalid_0's rmse: 0.911404\n",
      "[14]\tvalid_0's rmse: 0.911152\n",
      "[15]\tvalid_0's rmse: 0.910922\n",
      "[16]\tvalid_0's rmse: 0.910687\n",
      "[17]\tvalid_0's rmse: 0.910422\n",
      "[18]\tvalid_0's rmse: 0.910226\n",
      "[19]\tvalid_0's rmse: 0.910034\n",
      "[20]\tvalid_0's rmse: 0.909775\n",
      "[21]\tvalid_0's rmse: 0.909596\n",
      "[22]\tvalid_0's rmse: 0.909419\n",
      "[23]\tvalid_0's rmse: 0.90918\n",
      "[24]\tvalid_0's rmse: 0.909026\n",
      "[25]\tvalid_0's rmse: 0.908875\n",
      "[26]\tvalid_0's rmse: 0.908717\n",
      "[27]\tvalid_0's rmse: 0.90853\n",
      "[28]\tvalid_0's rmse: 0.908393\n",
      "[29]\tvalid_0's rmse: 0.908238\n",
      "[30]\tvalid_0's rmse: 0.908019\n",
      "[31]\tvalid_0's rmse: 0.907882\n",
      "[32]\tvalid_0's rmse: 0.907722\n",
      "[33]\tvalid_0's rmse: 0.907575\n",
      "[34]\tvalid_0's rmse: 0.907394\n",
      "[35]\tvalid_0's rmse: 0.907261\n",
      "[36]\tvalid_0's rmse: 0.907151\n",
      "[37]\tvalid_0's rmse: 0.907026\n",
      "[38]\tvalid_0's rmse: 0.906948\n",
      "[39]\tvalid_0's rmse: 0.906877\n",
      "[40]\tvalid_0's rmse: 0.906728\n",
      "[41]\tvalid_0's rmse: 0.906597\n",
      "[42]\tvalid_0's rmse: 0.906474\n",
      "[43]\tvalid_0's rmse: 0.906314\n",
      "[44]\tvalid_0's rmse: 0.906178\n",
      "[45]\tvalid_0's rmse: 0.906079\n",
      "[46]\tvalid_0's rmse: 0.905997\n",
      "[47]\tvalid_0's rmse: 0.905893\n",
      "[48]\tvalid_0's rmse: 0.905802\n",
      "[49]\tvalid_0's rmse: 0.905719\n",
      "[50]\tvalid_0's rmse: 0.905621\n",
      "[51]\tvalid_0's rmse: 0.905477\n",
      "[52]\tvalid_0's rmse: 0.905384\n",
      "[53]\tvalid_0's rmse: 0.905255\n",
      "[54]\tvalid_0's rmse: 0.905154\n",
      "[55]\tvalid_0's rmse: 0.905073\n",
      "[56]\tvalid_0's rmse: 0.904909\n",
      "[57]\tvalid_0's rmse: 0.904822\n",
      "[58]\tvalid_0's rmse: 0.904767\n",
      "[59]\tvalid_0's rmse: 0.904694\n",
      "[60]\tvalid_0's rmse: 0.904608\n",
      "[61]\tvalid_0's rmse: 0.904557\n",
      "[62]\tvalid_0's rmse: 0.904455\n",
      "[63]\tvalid_0's rmse: 0.904382\n",
      "[64]\tvalid_0's rmse: 0.904318\n",
      "[65]\tvalid_0's rmse: 0.904088\n",
      "[66]\tvalid_0's rmse: 0.903986\n",
      "[67]\tvalid_0's rmse: 0.903895\n",
      "[68]\tvalid_0's rmse: 0.903801\n",
      "[69]\tvalid_0's rmse: 0.903711\n",
      "[70]\tvalid_0's rmse: 0.903532\n",
      "[71]\tvalid_0's rmse: 0.903463\n",
      "[72]\tvalid_0's rmse: 0.903356\n",
      "[73]\tvalid_0's rmse: 0.90325\n",
      "[74]\tvalid_0's rmse: 0.903206\n",
      "[75]\tvalid_0's rmse: 0.903089\n",
      "[76]\tvalid_0's rmse: 0.90304\n",
      "[77]\tvalid_0's rmse: 0.902972\n",
      "[78]\tvalid_0's rmse: 0.902934\n",
      "[79]\tvalid_0's rmse: 0.902845\n",
      "[80]\tvalid_0's rmse: 0.902775\n",
      "[81]\tvalid_0's rmse: 0.902694\n",
      "[82]\tvalid_0's rmse: 0.902639\n",
      "[83]\tvalid_0's rmse: 0.902464\n",
      "[84]\tvalid_0's rmse: 0.902389\n",
      "[85]\tvalid_0's rmse: 0.902336\n",
      "[86]\tvalid_0's rmse: 0.902255\n",
      "[87]\tvalid_0's rmse: 0.902209\n",
      "[88]\tvalid_0's rmse: 0.902136\n",
      "[89]\tvalid_0's rmse: 0.902091\n",
      "[90]\tvalid_0's rmse: 0.901976\n",
      "[91]\tvalid_0's rmse: 0.901918\n",
      "[92]\tvalid_0's rmse: 0.901882\n",
      "[93]\tvalid_0's rmse: 0.90182\n",
      "[94]\tvalid_0's rmse: 0.901681\n",
      "[95]\tvalid_0's rmse: 0.901651\n",
      "[96]\tvalid_0's rmse: 0.901541\n",
      "[97]\tvalid_0's rmse: 0.901508\n",
      "[98]\tvalid_0's rmse: 0.901459\n",
      "[99]\tvalid_0's rmse: 0.901367\n",
      "[100]\tvalid_0's rmse: 0.901305\n",
      "[101]\tvalid_0's rmse: 0.901251\n",
      "[102]\tvalid_0's rmse: 0.901198\n",
      "[103]\tvalid_0's rmse: 0.901122\n",
      "[104]\tvalid_0's rmse: 0.901076\n",
      "[105]\tvalid_0's rmse: 0.900984\n",
      "[106]\tvalid_0's rmse: 0.900875\n",
      "[107]\tvalid_0's rmse: 0.900748\n",
      "[108]\tvalid_0's rmse: 0.900692\n",
      "[109]\tvalid_0's rmse: 0.900648\n",
      "[110]\tvalid_0's rmse: 0.900601\n",
      "[111]\tvalid_0's rmse: 0.900492\n",
      "[112]\tvalid_0's rmse: 0.900464\n",
      "[113]\tvalid_0's rmse: 0.900408\n",
      "[114]\tvalid_0's rmse: 0.900348\n",
      "[115]\tvalid_0's rmse: 0.900302\n",
      "[116]\tvalid_0's rmse: 0.900251\n",
      "[117]\tvalid_0's rmse: 0.900217\n",
      "[118]\tvalid_0's rmse: 0.900189\n",
      "[119]\tvalid_0's rmse: 0.900159\n",
      "[120]\tvalid_0's rmse: 0.900108\n",
      "[121]\tvalid_0's rmse: 0.900053\n",
      "[122]\tvalid_0's rmse: 0.89999\n",
      "[123]\tvalid_0's rmse: 0.899952\n",
      "[124]\tvalid_0's rmse: 0.899918\n",
      "[125]\tvalid_0's rmse: 0.899827\n",
      "[126]\tvalid_0's rmse: 0.899758\n",
      "[127]\tvalid_0's rmse: 0.899663\n",
      "[128]\tvalid_0's rmse: 0.899605\n",
      "[129]\tvalid_0's rmse: 0.899569\n",
      "[130]\tvalid_0's rmse: 0.89954\n",
      "[131]\tvalid_0's rmse: 0.899492\n",
      "[132]\tvalid_0's rmse: 0.899445\n",
      "[133]\tvalid_0's rmse: 0.899417\n",
      "[134]\tvalid_0's rmse: 0.899382\n",
      "[135]\tvalid_0's rmse: 0.899345\n",
      "[136]\tvalid_0's rmse: 0.899292\n",
      "[137]\tvalid_0's rmse: 0.899254\n",
      "[138]\tvalid_0's rmse: 0.899207\n",
      "[139]\tvalid_0's rmse: 0.899151\n",
      "[140]\tvalid_0's rmse: 0.899111\n",
      "[141]\tvalid_0's rmse: 0.899091\n",
      "[142]\tvalid_0's rmse: 0.899028\n",
      "[143]\tvalid_0's rmse: 0.898994\n",
      "[144]\tvalid_0's rmse: 0.89896\n",
      "[145]\tvalid_0's rmse: 0.898859\n",
      "[146]\tvalid_0's rmse: 0.898799\n",
      "[147]\tvalid_0's rmse: 0.898739\n",
      "[148]\tvalid_0's rmse: 0.898655\n",
      "[149]\tvalid_0's rmse: 0.898605\n",
      "[150]\tvalid_0's rmse: 0.898548\n",
      "[151]\tvalid_0's rmse: 0.898527\n",
      "[152]\tvalid_0's rmse: 0.898487\n",
      "[153]\tvalid_0's rmse: 0.898481\n",
      "[154]\tvalid_0's rmse: 0.898424\n",
      "[155]\tvalid_0's rmse: 0.898403\n",
      "[156]\tvalid_0's rmse: 0.89837\n",
      "[157]\tvalid_0's rmse: 0.898354\n",
      "[158]\tvalid_0's rmse: 0.898339\n",
      "[159]\tvalid_0's rmse: 0.898296\n",
      "[160]\tvalid_0's rmse: 0.89826\n",
      "[161]\tvalid_0's rmse: 0.898222\n",
      "[162]\tvalid_0's rmse: 0.898148\n",
      "[163]\tvalid_0's rmse: 0.898131\n",
      "[164]\tvalid_0's rmse: 0.898037\n",
      "[165]\tvalid_0's rmse: 0.898033\n",
      "[166]\tvalid_0's rmse: 0.89799\n",
      "[167]\tvalid_0's rmse: 0.89797\n",
      "[168]\tvalid_0's rmse: 0.897915\n",
      "[169]\tvalid_0's rmse: 0.897899\n",
      "[170]\tvalid_0's rmse: 0.897877\n",
      "[171]\tvalid_0's rmse: 0.897839\n",
      "[172]\tvalid_0's rmse: 0.89777\n",
      "[173]\tvalid_0's rmse: 0.897725\n",
      "[174]\tvalid_0's rmse: 0.897663\n",
      "[175]\tvalid_0's rmse: 0.897615\n",
      "[176]\tvalid_0's rmse: 0.897597\n",
      "[177]\tvalid_0's rmse: 0.89756\n",
      "[178]\tvalid_0's rmse: 0.897535\n",
      "[179]\tvalid_0's rmse: 0.897497\n",
      "[180]\tvalid_0's rmse: 0.897435\n",
      "[181]\tvalid_0's rmse: 0.897395\n",
      "[182]\tvalid_0's rmse: 0.89737\n",
      "[183]\tvalid_0's rmse: 0.897335\n",
      "[184]\tvalid_0's rmse: 0.897266\n",
      "[185]\tvalid_0's rmse: 0.89725\n",
      "[186]\tvalid_0's rmse: 0.897247\n",
      "[187]\tvalid_0's rmse: 0.897204\n",
      "[188]\tvalid_0's rmse: 0.897178\n",
      "[189]\tvalid_0's rmse: 0.897106\n",
      "[190]\tvalid_0's rmse: 0.897083\n",
      "[191]\tvalid_0's rmse: 0.897024\n",
      "[192]\tvalid_0's rmse: 0.897003\n",
      "[193]\tvalid_0's rmse: 0.896985\n",
      "[194]\tvalid_0's rmse: 0.896931\n",
      "[195]\tvalid_0's rmse: 0.8969\n",
      "[196]\tvalid_0's rmse: 0.896871\n",
      "[197]\tvalid_0's rmse: 0.896838\n",
      "[198]\tvalid_0's rmse: 0.896819\n",
      "[199]\tvalid_0's rmse: 0.896814\n",
      "[200]\tvalid_0's rmse: 0.896719\n",
      "[201]\tvalid_0's rmse: 0.896693\n",
      "[202]\tvalid_0's rmse: 0.896641\n",
      "[203]\tvalid_0's rmse: 0.896605\n",
      "[204]\tvalid_0's rmse: 0.896568\n",
      "[205]\tvalid_0's rmse: 0.8965\n",
      "[206]\tvalid_0's rmse: 0.896483\n",
      "[207]\tvalid_0's rmse: 0.896459\n",
      "[208]\tvalid_0's rmse: 0.896435\n",
      "[209]\tvalid_0's rmse: 0.8964\n",
      "[210]\tvalid_0's rmse: 0.896385\n",
      "[211]\tvalid_0's rmse: 0.896338\n",
      "[212]\tvalid_0's rmse: 0.896278\n",
      "[213]\tvalid_0's rmse: 0.896236\n",
      "[214]\tvalid_0's rmse: 0.896191\n",
      "[215]\tvalid_0's rmse: 0.896142\n",
      "[216]\tvalid_0's rmse: 0.896133\n",
      "[217]\tvalid_0's rmse: 0.896101\n",
      "[218]\tvalid_0's rmse: 0.89607\n",
      "[219]\tvalid_0's rmse: 0.896057\n",
      "[220]\tvalid_0's rmse: 0.896051\n",
      "[221]\tvalid_0's rmse: 0.896033\n",
      "[222]\tvalid_0's rmse: 0.896006\n",
      "[223]\tvalid_0's rmse: 0.895975\n",
      "[224]\tvalid_0's rmse: 0.895965\n",
      "[225]\tvalid_0's rmse: 0.895958\n",
      "[226]\tvalid_0's rmse: 0.89593\n",
      "[227]\tvalid_0's rmse: 0.895919\n",
      "[228]\tvalid_0's rmse: 0.895913\n",
      "[229]\tvalid_0's rmse: 0.895855\n",
      "[230]\tvalid_0's rmse: 0.895845\n",
      "[231]\tvalid_0's rmse: 0.895747\n",
      "[232]\tvalid_0's rmse: 0.895741\n",
      "[233]\tvalid_0's rmse: 0.89571\n",
      "[234]\tvalid_0's rmse: 0.895679\n",
      "[235]\tvalid_0's rmse: 0.895656\n",
      "[236]\tvalid_0's rmse: 0.895586\n",
      "[237]\tvalid_0's rmse: 0.895565\n",
      "[238]\tvalid_0's rmse: 0.895468\n",
      "[239]\tvalid_0's rmse: 0.895445\n",
      "[240]\tvalid_0's rmse: 0.895393\n",
      "[241]\tvalid_0's rmse: 0.895385\n",
      "[242]\tvalid_0's rmse: 0.895348\n",
      "[243]\tvalid_0's rmse: 0.895323\n",
      "[244]\tvalid_0's rmse: 0.895306\n",
      "[245]\tvalid_0's rmse: 0.895232\n",
      "[246]\tvalid_0's rmse: 0.895177\n",
      "[247]\tvalid_0's rmse: 0.895161\n",
      "[248]\tvalid_0's rmse: 0.895159\n",
      "[249]\tvalid_0's rmse: 0.895141\n",
      "[250]\tvalid_0's rmse: 0.895144\n",
      "[251]\tvalid_0's rmse: 0.895116\n",
      "[252]\tvalid_0's rmse: 0.895115\n",
      "[253]\tvalid_0's rmse: 0.895103\n",
      "[254]\tvalid_0's rmse: 0.895106\n",
      "[255]\tvalid_0's rmse: 0.895072\n",
      "[256]\tvalid_0's rmse: 0.895059\n",
      "[257]\tvalid_0's rmse: 0.895036\n",
      "[258]\tvalid_0's rmse: 0.895027\n",
      "[259]\tvalid_0's rmse: 0.895017\n",
      "[260]\tvalid_0's rmse: 0.895008\n",
      "[261]\tvalid_0's rmse: 0.894983\n",
      "[262]\tvalid_0's rmse: 0.894979\n",
      "[263]\tvalid_0's rmse: 0.894954\n",
      "[264]\tvalid_0's rmse: 0.894932\n",
      "[265]\tvalid_0's rmse: 0.894911\n",
      "[266]\tvalid_0's rmse: 0.894889\n",
      "[267]\tvalid_0's rmse: 0.894865\n",
      "[268]\tvalid_0's rmse: 0.894853\n",
      "[269]\tvalid_0's rmse: 0.894842\n",
      "[270]\tvalid_0's rmse: 0.894805\n",
      "[271]\tvalid_0's rmse: 0.89475\n",
      "[272]\tvalid_0's rmse: 0.894727\n",
      "[273]\tvalid_0's rmse: 0.894721\n",
      "[274]\tvalid_0's rmse: 0.894719\n",
      "[275]\tvalid_0's rmse: 0.894707\n",
      "[276]\tvalid_0's rmse: 0.894655\n",
      "[277]\tvalid_0's rmse: 0.894648\n",
      "[278]\tvalid_0's rmse: 0.894622\n",
      "[279]\tvalid_0's rmse: 0.894618\n",
      "[280]\tvalid_0's rmse: 0.894593\n",
      "[281]\tvalid_0's rmse: 0.894568\n",
      "[282]\tvalid_0's rmse: 0.894558\n",
      "[283]\tvalid_0's rmse: 0.894547\n",
      "[284]\tvalid_0's rmse: 0.894524\n",
      "[285]\tvalid_0's rmse: 0.894531\n",
      "[286]\tvalid_0's rmse: 0.894478\n",
      "[287]\tvalid_0's rmse: 0.894451\n",
      "[288]\tvalid_0's rmse: 0.894443\n",
      "[289]\tvalid_0's rmse: 0.89444\n",
      "[290]\tvalid_0's rmse: 0.89444\n",
      "[291]\tvalid_0's rmse: 0.894432\n",
      "[292]\tvalid_0's rmse: 0.894428\n",
      "[293]\tvalid_0's rmse: 0.894416\n",
      "[294]\tvalid_0's rmse: 0.89435\n",
      "[295]\tvalid_0's rmse: 0.894347\n",
      "[296]\tvalid_0's rmse: 0.894345\n",
      "[297]\tvalid_0's rmse: 0.894342\n",
      "[298]\tvalid_0's rmse: 0.894307\n",
      "[299]\tvalid_0's rmse: 0.894284\n",
      "[300]\tvalid_0's rmse: 0.894284\n",
      "[301]\tvalid_0's rmse: 0.894266\n",
      "[302]\tvalid_0's rmse: 0.894231\n",
      "[303]\tvalid_0's rmse: 0.894225\n",
      "[304]\tvalid_0's rmse: 0.89422\n",
      "[305]\tvalid_0's rmse: 0.894197\n",
      "[306]\tvalid_0's rmse: 0.894182\n"
     ]
    },
    {
     "data": {
      "text/plain": [
       "0"
      ]
     },
     "execution_count": 14,
     "metadata": {},
     "output_type": "execute_result"
    }
   ],
   "source": [
    "seed = 0\n",
    "folds = 3\n",
    "models = []\n",
    "cnt = 1\n",
    "skf = StratifiedKFold(folds, shuffle = True, random_state = seed)\n",
    "\n",
    "for train_index, test_index in skf.split(train_df, train_df['investment_id']):\n",
    "    train = train_df.iloc[train_index]\n",
    "    valid = train_df.iloc[test_index]\n",
    "    \n",
    "    lgbm = LGBMRegressor(**params)\n",
    "    '''\n",
    "        num_leaves=2 ** np.random.randint(3, 8),\n",
    "        learning_rate = 10 ** (-np.random.uniform(0.1,2)),\n",
    "        n_estimators = 500,\n",
    "        min_child_samples = 1000, \n",
    "        subsample=np.random.uniform(0.5,1.0), \n",
    "        subsample_freq=1,\n",
    "        n_jobs= -1,\n",
    "        tree_method ='gpu_hist' ,\n",
    "    '''\n",
    "    \n",
    "    lgbm.fit(train[feature_cols], train['target'], eval_set = (valid[feature_cols], valid['target']))\n",
    "    models.append(lgbm)\n",
    "    gc.collect()\n",
    "gc.collect()"
   ]
  },
  {
   "cell_type": "markdown",
   "id": "649971bf",
   "metadata": {
    "papermill": {
     "duration": 0.388682,
     "end_time": "2022-04-11T03:20:29.213908",
     "exception": false,
     "start_time": "2022-04-11T03:20:28.825226",
     "status": "completed"
    },
    "tags": []
   },
   "source": [
    "- 머신러닝을 통해 나온 결과로 feature 별 중요도 그래프"
   ]
  },
  {
   "cell_type": "code",
   "execution_count": 15,
   "id": "36b457fa",
   "metadata": {
    "execution": {
     "iopub.execute_input": "2022-04-11T03:20:29.988582Z",
     "iopub.status.busy": "2022-04-11T03:20:29.987611Z",
     "iopub.status.idle": "2022-04-11T03:20:35.695795Z",
     "shell.execute_reply": "2022-04-11T03:20:35.696308Z"
    },
    "papermill": {
     "duration": 6.100086,
     "end_time": "2022-04-11T03:20:35.696484",
     "exception": false,
     "start_time": "2022-04-11T03:20:29.596398",
     "status": "completed"
    },
    "tags": []
   },
   "outputs": [
    {
     "data": {
      "text/plain": [
       "260"
      ]
     },
     "execution_count": 15,
     "metadata": {},
     "output_type": "execute_result"
    },
    {
     "data": {
      "image/png": "[encoded data removed]",
      "text/plain": [
       "<Figure size 1440x4320 with 1 Axes>"
      ]
     },
     "metadata": {
      "needs_background": "light"
     },
     "output_type": "display_data"
    }
   ],
   "source": [
    "import lightgbm\n",
    "lightgbm.plot_importance(lgbm, figsize = (20, 60))\n",
    "gc.collect()"
   ]
  },
  {
   "cell_type": "markdown",
   "id": "c2837d6e",
   "metadata": {
    "papermill": {
     "duration": 0.392777,
     "end_time": "2022-04-11T03:20:36.496149",
     "exception": false,
     "start_time": "2022-04-11T03:20:36.103372",
     "status": "completed"
    },
    "tags": []
   },
   "source": [
    "# Step 6. 예측 및 제출"
   ]
  },
  {
   "cell_type": "markdown",
   "id": "6907c8b7",
   "metadata": {
    "papermill": {
     "duration": 0.400577,
     "end_time": "2022-04-11T03:20:37.293150",
     "exception": false,
     "start_time": "2022-04-11T03:20:36.892573",
     "status": "completed"
    },
    "tags": []
   },
   "source": [
    "- 주최측에서 제공하는 API를 통해 제출"
   ]
  },
  {
   "cell_type": "code",
   "execution_count": 16,
   "id": "d0ebab0f",
   "metadata": {
    "execution": {
     "iopub.execute_input": "2022-04-11T03:20:38.089391Z",
     "iopub.status.busy": "2022-04-11T03:20:38.088729Z",
     "iopub.status.idle": "2022-04-11T03:20:38.116690Z",
     "shell.execute_reply": "2022-04-11T03:20:38.116088Z"
    },
    "papermill": {
     "duration": 0.427673,
     "end_time": "2022-04-11T03:20:38.116831",
     "exception": false,
     "start_time": "2022-04-11T03:20:37.689158",
     "status": "completed"
    },
    "tags": []
   },
   "outputs": [],
   "source": [
    "import ubiquant\n",
    "env = ubiquant.make_env()   # initialize the environment\n",
    "iter_test = env.iter_test()    # an iterator which loops over the test set and sample submission\n"
   ]
  },
  {
   "cell_type": "code",
   "execution_count": 17,
   "id": "0f8f3933",
   "metadata": {
    "execution": {
     "iopub.execute_input": "2022-04-11T03:20:38.915126Z",
     "iopub.status.busy": "2022-04-11T03:20:38.914493Z",
     "iopub.status.idle": "2022-04-11T03:20:39.056352Z",
     "shell.execute_reply": "2022-04-11T03:20:39.055672Z"
    },
    "papermill": {
     "duration": 0.543427,
     "end_time": "2022-04-11T03:20:39.056522",
     "exception": false,
     "start_time": "2022-04-11T03:20:38.513095",
     "status": "completed"
    },
    "tags": []
   },
   "outputs": [
    {
     "name": "stdout",
     "output_type": "stream",
     "text": [
      "This version of the API is not optimized and should not be used to estimate the runtime of your code on the hidden test set.\n"
     ]
    }
   ],
   "source": [
    "for (test_df, sample_prediction_df) in iter_test:\n",
    "    \n",
    "    test_df['target']  = 0\n",
    "    \n",
    "    for lgbm in models:\n",
    "        test_df['target'] += lgbm.predict(test_df[feature_cols])\n",
    "    test_df['target'] /= len(models)\n",
    "    env.predict(test_df[['row_id','target']])"
   ]
  },
  {
   "cell_type": "markdown",
   "id": "4c0d1dd4",
   "metadata": {
    "papermill": {
     "duration": 0.39985,
     "end_time": "2022-04-11T03:20:39.934278",
     "exception": false,
     "start_time": "2022-04-11T03:20:39.534428",
     "status": "completed"
    },
    "tags": []
   },
   "source": [
    "# References :    \n",
    "https://www.kaggle.com/code/yoshikuwano/fast-read-data-and-memory-optimization/notebook   \n",
    "https://www.kaggle.com/code/rohanrao/tutorial-on-reading-large-datasets/notebook#Format:-csv   \n",
    "https://www.kaggle.com/code/sytuannguyen/ubiquant-data-preparation#3.-Save-the-reduced-dataframe   \n",
    "https://www.kaggle.com/code/jnegrini/ubiquant-eda    \n",
    "https://www.kaggle.com/code/gunesevitan/ubiquant-market-prediction-eda/notebook#3.-Target   \n",
    "https://www.kaggle.com/code/ilialar/ubiquant-eda-and-baseline#Features    \n",
    "https://www.kaggle.com/competitions/ubiquant-market-prediction/data    \n",
    "https://www.kaggle.com/code/larochemf/ubiquant-low-memory-use-be-careful/notebook    \n",
    "https://www.kaggle.com/code/robikscube/fast-data-loading-and-low-mem-with-parquet-files/notebook    \n",
    "https://www.kaggle.com/code/lucamassaron/eda-target-analysis       \n",
    "https://www.kaggle.com/code/edwardcrookenden/eda-and-lgbm-baseline-feature-imp    \n",
    "https://www.kaggle.com/competitions/ubiquant-market-prediction/discussion/305031    \n",
    "https://www.kaggle.com/code/junjitakeshima/ubiquant-simple-lgbm-removing-outliers-en-jp/notebook#(1)-Read-Trainiing-Data    \n",
    "https://www.kaggle.com/code/valleyzw/ubiquant-lgbm-baseline/notebook#Stock-market-calendar-analysis:-discussion     \n",
    "https://www.kaggle.com/code/sytuannguyen/ubiquant-with-lightgbm   \n",
    "https://www.kaggle.com/code/jiprud/simple-light-gbm   \n",
    "https://www.kaggle.com/code/ilialar/ubiquant-eda-and-baseline#Model-training"
   ]
  }
 ],
 "metadata": {
  "kernelspec": {
   "display_name": "Python 3",
   "language": "python",
   "name": "python3"
  },
  "language_info": {
   "codemirror_mode": {
    "name": "ipython",
    "version": 3
   },
   "file_extension": ".py",
   "mimetype": "text/x-python",
   "name": "python",
   "nbconvert_exporter": "python",
   "pygments_lexer": "ipython3",
   "version": "3.7.12"
  },
  "papermill": {
   "default_parameters": {},
   "duration": 1623.794224,
   "end_time": "2022-04-11T03:20:41.853801",
   "environment_variables": {},
   "exception": null,
   "input_path": "__notebook__.ipynb",
   "output_path": "__notebook__.ipynb",
   "parameters": {},
   "start_time": "2022-04-11T02:53:38.059577",
   "version": "2.3.3"
  }
 },
 "nbformat": 4,
 "nbformat_minor": 5
}
