{
 "cells": [
  {
   "cell_type": "markdown",
   "id": "dbbe6d5a",
   "metadata": {
    "_cell_guid": "b1076dfc-b9ad-4769-8c92-a6c4dae69d19",
    "_uuid": "8f2839f25d086af736a60e9eeb907d3b93b6e0e5",
    "execution": {
     "iopub.execute_input": "2022-06-08T08:26:33.035092Z",
     "iopub.status.busy": "2022-06-08T08:26:33.033838Z",
     "iopub.status.idle": "2022-06-08T08:26:33.55875Z",
     "shell.execute_reply": "2022-06-08T08:26:33.557786Z",
     "shell.execute_reply.started": "2022-06-08T08:26:33.035048Z"
    },
    "papermill": {
     "duration": 0.003266,
     "end_time": "2022-06-08T13:30:24.720127",
     "exception": false,
     "start_time": "2022-06-08T13:30:24.716861",
     "status": "completed"
    },
    "tags": []
   },
   "source": [
    "# American Express Default Prediction"
   ]
  },
  {
   "cell_type": "markdown",
   "id": "c05e7368",
   "metadata": {
    "papermill": {
     "duration": 0.001688,
     "end_time": "2022-06-08T13:30:24.724004",
     "exception": false,
     "start_time": "2022-06-08T13:30:24.722316",
     "status": "completed"
    },
    "tags": []
   },
   "source": [
    "## Info\n",
    "### 1. Overview\n",
    "    - **Host** : American Express\n",
    "        - a globally integrated payments company\n",
    "        - the largest payment card issuer in the world\n",
    "        \n",
    "    - **Timeline**\n",
    "        - **Start Date** : May 25, 2022\n",
    "        - **Entry End** : August 17, 2022\n",
    "        - **Final Submission Deadline** : August 24, 2022\n",
    "        \n",
    "    - **Goal**\n",
    "        - Predict Credit Default"
   ]
  },
  {
   "cell_type": "markdown",
   "id": "9a23d6f1",
   "metadata": {
    "papermill": {
     "duration": 0.001594,
     "end_time": "2022-06-08T13:30:24.727559",
     "exception": false,
     "start_time": "2022-06-08T13:30:24.725965",
     "status": "completed"
    },
    "tags": []
   },
   "source": [
    "### 2. Project\n",
    "    - **Start Date** : June 8, 2022\n",
    "    - **Team Member**: 1\n",
    "    - **Language** : Python\n",
    "    - **Libraries**\n",
    "        - pandas, numpy\n",
    "        - gc\n",
    "        - tqdm\n",
    "        - matplotlib, seaborn, scipy"
   ]
  },
  {
   "cell_type": "markdown",
   "id": "5d4fd3b6",
   "metadata": {
    "papermill": {
     "duration": 0.001574,
     "end_time": "2022-06-08T13:30:24.730977",
     "exception": false,
     "start_time": "2022-06-08T13:30:24.729403",
     "status": "completed"
    },
    "tags": []
   },
   "source": [
    "## Load Libraries"
   ]
  },
  {
   "cell_type": "code",
   "execution_count": 1,
   "id": "bc946afa",
   "metadata": {
    "execution": {
     "iopub.execute_input": "2022-06-08T13:30:24.736889Z",
     "iopub.status.busy": "2022-06-08T13:30:24.736156Z",
     "iopub.status.idle": "2022-06-08T13:30:25.794855Z",
     "shell.execute_reply": "2022-06-08T13:30:25.793786Z"
    },
    "papermill": {
     "duration": 1.064514,
     "end_time": "2022-06-08T13:30:25.797295",
     "exception": false,
     "start_time": "2022-06-08T13:30:24.732781",
     "status": "completed"
    },
    "tags": []
   },
   "outputs": [],
   "source": [
    "# data \n",
    "import pandas as pd\n",
    "import numpy as np\n",
    "\n",
    "# memory\n",
    "import gc\n",
    "\n",
    "# progress(for)\n",
    "from tqdm.auto import tqdm\n",
    "\n",
    "# visualization\n",
    "import matplotlib.pyplot as plt\n",
    "%matplotlib inline\n",
    "import seaborn as sns\n",
    "import scipy.stats as stats"
   ]
  },
  {
   "cell_type": "markdown",
   "id": "d0560781",
   "metadata": {
    "papermill": {
     "duration": 0.004052,
     "end_time": "2022-06-08T13:30:25.803662",
     "exception": false,
     "start_time": "2022-06-08T13:30:25.799610",
     "status": "completed"
    },
    "tags": []
   },
   "source": []
  },
  {
   "cell_type": "markdown",
   "id": "b92c732f",
   "metadata": {
    "papermill": {
     "duration": 0.001638,
     "end_time": "2022-06-08T13:30:25.807290",
     "exception": false,
     "start_time": "2022-06-08T13:30:25.805652",
     "status": "completed"
    },
    "tags": []
   },
   "source": []
  }
 ],
 "metadata": {
  "kernelspec": {
   "display_name": "Python 3",
   "language": "python",
   "name": "python3"
  },
  "language_info": {
   "codemirror_mode": {
    "name": "ipython",
    "version": 3
   },
   "file_extension": ".py",
   "mimetype": "text/x-python",
   "name": "python",
   "nbconvert_exporter": "python",
   "pygments_lexer": "ipython3",
   "version": "3.7.12"
  },
  "papermill": {
   "default_parameters": {},
   "duration": 10.505976,
   "end_time": "2022-06-08T13:30:26.530827",
   "environment_variables": {},
   "exception": null,
   "input_path": "__notebook__.ipynb",
   "output_path": "__notebook__.ipynb",
   "parameters": {},
   "start_time": "2022-06-08T13:30:16.024851",
   "version": "2.3.4"
  }
 },
 "nbformat": 4,
 "nbformat_minor": 5
}
